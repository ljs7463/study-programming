{
 "cells": [
  {
   "cell_type": "markdown",
   "metadata": {},
   "source": [
    "# openCV "
   ]
  },
  {
   "cell_type": "code",
   "execution_count": 23,
   "metadata": {},
   "outputs": [
    {
     "name": "stdout",
     "output_type": "stream",
     "text": [
      "4.4.0\n"
     ]
    }
   ],
   "source": [
    "import sys\n",
    "import cv2\n",
    "print(cv2.__version__) #버전확인\n",
    "\n",
    "\n",
    "img = cv2.imread('yolo_img.jpg',cv2.IMREAD_GRAYSCALE)\n",
    "\n",
    "if img is None:              # 위 연산후 제대로 됬는지 확인하는 과정\n",
    "    print('Image load failed!')\n",
    "    sys.exit()\n",
    "    \n",
    "cv2.namedWindow('image',cv2.WINDOW_NORMAL) #창을 하나 생성해주는 함수\n",
    "cv2.imshow('image', img) #창에 데이터를 보여주는 함수\n",
    "cv2.waitKey() #키보드입력을 기다림 + 영상이 화면에 보여질수 있게함\n",
    "\n",
    "cv2.destroyAllWindows() #화면에 나타난 모든창을 닫아라\n"
   ]
  },
  {
   "cell_type": "markdown",
   "metadata": {},
   "source": [
    "# 영상 파일 불러오기"
   ]
  },
  {
   "cell_type": "code",
   "execution_count": 5,
   "metadata": {},
   "outputs": [],
   "source": [
    "# cv2.imread(filename, flags =None) -> retval \n",
    "# flags = None  == flags = IMREAD_COLOR\n",
    "\n",
    "# filename : 불러올 영상 파일 이름(문자열)\n",
    "# flags : 영상 파일 불러오기 옵션 플래그\n",
    "#     cv2.IMREAD_COLOR :BGR컬러 영상으로 읽기 (기본값)/ shape = (rows,cols,3)\n",
    "#     cv2.IMREAD_GRAYSCALE :그레이스케일 영상으로 읽기 / shape = (rows, cols)\n",
    "#     cv2.IMREAD_UNCHANGED :영상 파일 속성 그대로 읽기 / 투명한 PNG파일 : shape = (rows, cols,4 )\n",
    "            \n",
    "# retval : 불러온 영상데이터(numpy.ndarray)"
   ]
  },
  {
   "cell_type": "markdown",
   "metadata": {},
   "source": [
    "# 영상 파일 저장하기"
   ]
  },
  {
   "cell_type": "code",
   "execution_count": 11,
   "metadata": {},
   "outputs": [
    {
     "data": {
      "text/plain": [
       "True"
      ]
     },
     "execution_count": 11,
     "metadata": {},
     "output_type": "execute_result"
    }
   ],
   "source": [
    "# cv2.imwrite(filename, img, params = None) -> retval\n",
    "#  -filename : 저장할 영상 파일 이름 (문자열) /자동으로 확장자 적어주면 맞게 저장됨\n",
    "#  -img : 저장할 영상 데이터(numpy.ndarray)\n",
    "#  -params : 파일 저장 옵션 지정(속성 & 값의 정수 쌍)\n",
    "#            [cv2.IMWRITE_JPEG_QUALITY, 90] : JPG파일 압축률을 90% 로 지정\n",
    "#  -retval : 정상적으로 저장하면 True, 실패하면 False\n",
    "cv2.imwrite('image.png', img)    "
   ]
  },
  {
   "cell_type": "markdown",
   "metadata": {},
   "source": [
    "# 새 창 띄우기"
   ]
  },
  {
   "cell_type": "code",
   "execution_count": 17,
   "metadata": {},
   "outputs": [],
   "source": [
    "# cv2.namedWindow(winame, flags= None) -> None\n",
    "\n",
    "#  -winname : 창 고유 이름 (문자열)\n",
    "#  -flags : 창 속성 지정 플래그\n",
    "#           cv2.WINDOW_NORMAL 영상 크기를 창 크기에 맞게 지정 (영상이 너무 클 때 사용)\n",
    "#           cv2.WINDOW_AUTOSIZE 창 크기를 영상에 맞게 (기본값)\n",
    "            \n",
    "          "
   ]
  },
  {
   "cell_type": "markdown",
   "metadata": {},
   "source": [
    "# 창 닫기"
   ]
  },
  {
   "cell_type": "code",
   "execution_count": 18,
   "metadata": {},
   "outputs": [],
   "source": [
    "# cv2.destroyWindow(winname) -> None\n",
    "# cv2.destroyAllWindows() -> None\n",
    "\n",
    "# -winname : 닫고자 하는 창 이름\n",
    "# -참고사항\n",
    "#  - cv2.destroyWindow() 함수는 지정한 창 하나만 닫고, cv2.destroyAllWindows() 함수는\n",
    "#     열려있는 모든 창을 닫음.\n",
    "#  - 일반적인 경우 프로그램 종료 시 운영 체제에 의해 열려 있는 모든 창이 자동으로 닫힘\n"
   ]
  },
  {
   "cell_type": "markdown",
   "metadata": {},
   "source": [
    "# 창 위치 이동"
   ]
  },
  {
   "cell_type": "code",
   "execution_count": 19,
   "metadata": {},
   "outputs": [],
   "source": [
    "# cv2.moveWindow(winname, x, y) -> None\n",
    "\n",
    "#  - winname : 창 이름\n",
    "#  - x, y : 이동할 위치 좌표\n",
    "    "
   ]
  },
  {
   "cell_type": "markdown",
   "metadata": {},
   "source": [
    "# 창 크기 변경"
   ]
  },
  {
   "cell_type": "code",
   "execution_count": 21,
   "metadata": {},
   "outputs": [],
   "source": [
    "# cv2.resizeWindow(winname, width, height) -> None\n",
    "\n",
    "#  - winname : 창 이름\n",
    "#  - width : 변경할 창의 가로 크기\n",
    "#  - height : 변경할 창의 세로 크기\n",
    "#  - 참고 사항\n",
    "#    - 창 생성 시 cv2.WINDOW_NORMAL 속성으로 생성되어야 동작\n",
    "#    - 영상 출력 부분의 크기만을 고려함 (제목 표시줄, 창 경계는 고려되지 않음)"
   ]
  },
  {
   "cell_type": "markdown",
   "metadata": {},
   "source": [
    "# 영상 출력하기"
   ]
  },
  {
   "cell_type": "code",
   "execution_count": 22,
   "metadata": {},
   "outputs": [],
   "source": [
    "# cv2.imshow(winname, mat) -> None\n",
    "\n",
    "#  - winname: 영상을 출력할 대상 창 이름\n",
    "#  - mat : 출력할 영상 데이터\n",
    "#  - 참고사항\n",
    "#     - uint16, uint32(정수)자료형  행렬의 경우, 행렬 원소 값에 255로 나눠서 출력\n",
    "#     - float32, float64(실수)자료형  행렬의 경우, 행렬 원소 값에 255를 곱해서 출력\n",
    "#     - 만약 winname 에 해당하는 창이 없으면 창을 새로 만들어서 영상을 출력함\n",
    "#     - Windows 운영체제에서는 Ctrl + C(복사), Ctrl + S(저장) 지원\n",
    "#     - 실제로는 cv2.waitKey() 함수를 호출해야 화면에 영상이 나타남\n",
    "    "
   ]
  },
  {
   "cell_type": "markdown",
   "metadata": {},
   "source": [
    "# 키보드 입력 대기"
   ]
  },
  {
   "cell_type": "code",
   "execution_count": null,
   "metadata": {},
   "outputs": [],
   "source": [
    "# cv2.waitKey(delay = None) -> retval\n",
    "#  - delay : 밀리초 단위 대기 시간. delay 가 0 이하 이면 무한히 기다림. 기본값은 0.\n",
    "#  - retval : 눌린 키 값(ASCll code).키가 눌리지 않으면 -1   \n",
    "#     retval(리턴벨류)\n",
    "#  - 참고사항 \n",
    "#    - cv2.waitKey()함수는 OpenCV창이 하나라도 있을 때 동작함\n",
    "#    - 특정 키 입력을 확인하려면 ord()함수를 이용 # ()안의 문자열 누르면꺼지게\n",
    "#    while True:\n",
    "#         if cv2.waitKey() == ord('q'):\n",
    "#             break\n",
    "#    - 주요 특수키 코드 : 27(ESC), 13(ENTER), 9(TAB)\n",
    "    "
   ]
  }
 ],
 "metadata": {
  "kernelspec": {
   "display_name": "Python 3",
   "language": "python",
   "name": "python3"
  },
  "language_info": {
   "codemirror_mode": {
    "name": "ipython",
    "version": 3
   },
   "file_extension": ".py",
   "mimetype": "text/x-python",
   "name": "python",
   "nbconvert_exporter": "python",
   "pygments_lexer": "ipython3",
   "version": "3.7.6"
  }
 },
 "nbformat": 4,
 "nbformat_minor": 4
}
