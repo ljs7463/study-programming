{
  "nbformat": 4,
  "nbformat_minor": 0,
  "metadata": {
    "kernelspec": {
      "display_name": "Python 3",
      "language": "python",
      "name": "python3"
    },
    "language_info": {
      "codemirror_mode": {
        "name": "ipython",
        "version": 3
      },
      "file_extension": ".py",
      "mimetype": "text/x-python",
      "name": "python",
      "nbconvert_exporter": "python",
      "pygments_lexer": "ipython3",
      "version": "3.7.6"
    },
    "colab": {
      "name": "statistic_basic-checkpoint.ipynb",
      "provenance": []
    }
  },
  "cells": [
    {
      "cell_type": "markdown",
      "metadata": {
        "id": "xqZkLQBFu457"
      },
      "source": [
        "# Effective Sampling"
      ]
    },
    {
      "cell_type": "markdown",
      "metadata": {
        "id": "DZ4pbx1eu97V"
      },
      "source": [
        "1.  Simple random Sampling\n",
        " - 모집단 에서 Sampling을 무작위로 하는 방법\n",
        "2. Systematic Sampling\n",
        " - 모집단에서 Sampling을 할때 규칙을 가지고 추출하는 방법\n",
        "3. Stratified random sampling \n",
        " - 모집단을 미리 여러 그룹으로 나누고, 그 그룹별로 무작위 추출을 수행\n",
        "4. Cluster sampling\n",
        " - 모집단을 미리 여러 그룹으로 나누고, 이후 특정 그룹을 무작위로 선택하는 방법"
      ]
    },
    {
      "cell_type": "markdown",
      "metadata": {
        "id": "2ya5JsVBzpHH"
      },
      "source": [
        "# 가설검증\n",
        "- 주어진 상황에 대해서, 하고자 하는 주장이 맞는지 아닌지를 판정하는 과정.\n",
        "- 모집단의 실제 값에 대한 sample의 통계치를 사용해서 통계적으로 유의한지 아닌지 여부를 판정함."
      ]
    },
    {
      "cell_type": "markdown",
      "metadata": {
        "id": "CLFoytCV0TG-"
      },
      "source": [
        "## Student T-test\n",
        "### One Sample t-test\n"
      ]
    },
    {
      "cell_type": "code",
      "metadata": {
        "id": "n28gDQq9u1aA"
      },
      "source": [
        ""
      ],
      "execution_count": null,
      "outputs": []
    },
    {
      "cell_type": "code",
      "metadata": {
        "id": "p3Q7jUwqu1XY"
      },
      "source": [
        ""
      ],
      "execution_count": null,
      "outputs": []
    },
    {
      "cell_type": "code",
      "metadata": {
        "id": "oES7KQ7Nu1VB"
      },
      "source": [
        ""
      ],
      "execution_count": null,
      "outputs": []
    },
    {
      "cell_type": "code",
      "metadata": {
        "id": "Rx8k-Fduu1RS"
      },
      "source": [
        ""
      ],
      "execution_count": null,
      "outputs": []
    },
    {
      "cell_type": "markdown",
      "metadata": {
        "id": "69kB8d7au0UX"
      },
      "source": [
        "# 대표 통계량"
      ]
    },
    {
      "cell_type": "code",
      "metadata": {
        "id": "TZTU-JnTu0Ue"
      },
      "source": [
        "import numpy as np\n",
        "from scipy.stats import *\n",
        "import pandas as pd"
      ],
      "execution_count": null,
      "outputs": []
    },
    {
      "cell_type": "code",
      "metadata": {
        "id": "cXNokkDju0Uf",
        "outputId": "1ecb9b92-3db8-4ad2-9699-1f3c1a2fee34"
      },
      "source": [
        "x = [1, 2, 3, 4, 5]\n",
        "print(np.mean(x))\n",
        "print(np.array(x).mean())"
      ],
      "execution_count": null,
      "outputs": [
        {
          "output_type": "stream",
          "text": [
            "3.0\n",
            "3.0\n"
          ],
          "name": "stdout"
        }
      ]
    },
    {
      "cell_type": "code",
      "metadata": {
        "id": "6Z88jSo7u0Ug",
        "outputId": "54a47650-05f2-4607-cdfb-068d2c34fc2d"
      },
      "source": [
        "#  이진변수에대한평균  \n",
        "x = [1, 0, 0, 0, 1]\n",
        "print(np.mean(x))"
      ],
      "execution_count": null,
      "outputs": [
        {
          "output_type": "stream",
          "text": [
            "0.4\n"
          ],
          "name": "stdout"
        }
      ]
    },
    {
      "cell_type": "markdown",
      "metadata": {
        "id": "cvmF4bQxu0Uh"
      },
      "source": [
        "### 조화평균"
      ]
    },
    {
      "cell_type": "code",
      "metadata": {
        "id": "GSCk8tpVu0Uh",
        "outputId": "8345bc46-cc7f-4a84-8ab8-69430ff7534b"
      },
      "source": [
        "x = np.array([0.1, 0.2, 0.3, 0.4, 0.5])\n",
        "print(len(x) / np.sum(1/x))\n",
        "print(hmean(x)) # hmean을 사용하여 조화평균을 구할 수 있다."
      ],
      "execution_count": null,
      "outputs": [
        {
          "output_type": "stream",
          "text": [
            "0.21897810218978103\n",
            "0.21897810218978103\n"
          ],
          "name": "stdout"
        }
      ]
    },
    {
      "cell_type": "markdown",
      "metadata": {
        "id": "mZl_KWqLu0Ui"
      },
      "source": [
        "### 절사평균이필요한이유 "
      ]
    },
    {
      "cell_type": "code",
      "metadata": {
        "id": "IujiNdiWu0Ui",
        "outputId": "8be2d38c-154f-430b-9f01-7ebe41233040"
      },
      "source": [
        "income = np.random.normal(2000000, 500000, 100) # 평균이 2백만원이고 표준편차가 오십만인 정규분포를 따르는 소득을 갖는 100명씩\n",
        "print(np.mean(income))"
      ],
      "execution_count": null,
      "outputs": [
        {
          "output_type": "stream",
          "text": [
            "2005978.8971032172\n"
          ],
          "name": "stdout"
        }
      ]
    },
    {
      "cell_type": "code",
      "metadata": {
        "id": "5vQreMPHu0Ui",
        "outputId": "fb9f49b4-46e5-44b5-bd2f-5bbc7e98411f"
      },
      "source": [
        "income = np.append(income, 10**9) #소득이 10억원인 사람의 등장\n",
        "print(np.mean(income)) #100명의 소득이 200만원에 가까운데, 한 명때문에 대표값이 바뀜"
      ],
      "execution_count": null,
      "outputs": [
        {
          "output_type": "stream",
          "text": [
            "11887107.818914076\n"
          ],
          "name": "stdout"
        }
      ]
    },
    {
      "cell_type": "markdown",
      "metadata": {
        "id": "Hx8W9zBsu0Uj"
      },
      "source": [
        "### 절사 평균 계산"
      ]
    },
    {
      "cell_type": "code",
      "metadata": {
        "id": "7QOqor8cu0Uj",
        "outputId": "aeb2b622-cbeb-489e-eddf-1bf57f5c3576"
      },
      "source": [
        "trim_mean(income, 0.2) # [20% ~ 80%]"
      ],
      "execution_count": null,
      "outputs": [
        {
          "output_type": "execute_result",
          "data": {
            "text/plain": [
              "2019898.9669516294"
            ]
          },
          "metadata": {
            "tags": []
          },
          "execution_count": 7
        }
      ]
    },
    {
      "cell_type": "markdown",
      "metadata": {
        "id": "0r7xDNDOu0Uk"
      },
      "source": [
        "### 최빈값 계산"
      ]
    },
    {
      "cell_type": "code",
      "metadata": {
        "id": "V1yuRqhqu0Uk",
        "outputId": "dc8db248-df7b-4334-d1d1-1d6d87849fac"
      },
      "source": [
        "x = np.random.choice(['A', 'B', 'C'], 1000) # A, B, C라는 요소로 구성\n",
        "x[:10]"
      ],
      "execution_count": null,
      "outputs": [
        {
          "output_type": "execute_result",
          "data": {
            "text/plain": [
              "array(['B', 'A', 'B', 'B', 'B', 'B', 'B', 'B', 'C', 'B'], dtype='<U1')"
            ]
          },
          "metadata": {
            "tags": []
          },
          "execution_count": 9
        }
      ]
    },
    {
      "cell_type": "code",
      "metadata": {
        "id": "ng_PfpRlu0Uk",
        "outputId": "f6ab37c1-078b-4f62-a734-0de46a141fab"
      },
      "source": [
        "mode(x)"
      ],
      "execution_count": null,
      "outputs": [
        {
          "output_type": "execute_result",
          "data": {
            "text/plain": [
              "ModeResult(mode=array(['B'], dtype='<U1'), count=array([339]))"
            ]
          },
          "metadata": {
            "tags": []
          },
          "execution_count": 10
        }
      ]
    },
    {
      "cell_type": "code",
      "metadata": {
        "id": "8IMQr1RLu0Ul",
        "outputId": "2df93c50-2de1-45d8-fe64-c5659473a715"
      },
      "source": [
        "pd.Series(x).value_counts().index[0]"
      ],
      "execution_count": null,
      "outputs": [
        {
          "output_type": "execute_result",
          "data": {
            "text/plain": [
              "'B'"
            ]
          },
          "metadata": {
            "tags": []
          },
          "execution_count": 12
        }
      ]
    },
    {
      "cell_type": "markdown",
      "metadata": {
        "id": "_2adMs59u0Ul"
      },
      "source": [
        "# 산포 통계량"
      ]
    },
    {
      "cell_type": "code",
      "metadata": {
        "id": "snJsnd_Zu0Ul"
      },
      "source": [
        "import numpy as np\n",
        "from scipy.stats import *\n",
        "import pandas as pd"
      ],
      "execution_count": null,
      "outputs": []
    },
    {
      "cell_type": "markdown",
      "metadata": {
        "id": "GY1fuMfWu0Um"
      },
      "source": [
        "### 분산 계산"
      ]
    },
    {
      "cell_type": "code",
      "metadata": {
        "id": "dONpG6MSu0Um",
        "outputId": "071ed648-e149-4ff5-c7a1-56b69e163360"
      },
      "source": [
        "x = [1, 2, 3, 4, 5]\n",
        "print(np.var(x,ddof = 1)) # 분모가 n-1(5-1)\n",
        "print(np.array(x).var()) # 분모를 n\n",
        "print(pd.Series(x).var(ddof = 0)) # 분모를 n"
      ],
      "execution_count": null,
      "outputs": [
        {
          "output_type": "stream",
          "text": [
            "2.5\n",
            "2.0\n",
            "2.0\n"
          ],
          "name": "stdout"
        }
      ]
    },
    {
      "cell_type": "markdown",
      "metadata": {
        "id": "mrYetPv9u0Um"
      },
      "source": [
        "### 표준편차 계산"
      ]
    },
    {
      "cell_type": "code",
      "metadata": {
        "id": "uSgFTgbwu0Um",
        "outputId": "c77592a7-e236-456f-aafe-ec46e9f6e4dc"
      },
      "source": [
        "x = [1, 2, 3, 4, 5]\n",
        "print(np.std(x, ddof = 1))\n",
        "print(np.array(x).std())\n",
        "print(pd.Series(x).std(ddof=1))"
      ],
      "execution_count": null,
      "outputs": [
        {
          "output_type": "stream",
          "text": [
            "1.5811388300841898\n",
            "1.4142135623730951\n",
            "1.5811388300841898\n"
          ],
          "name": "stdout"
        }
      ]
    },
    {
      "cell_type": "markdown",
      "metadata": {
        "id": "eCBtjAEyu0Un"
      },
      "source": [
        "### 변동계수의 필요성"
      ]
    },
    {
      "cell_type": "code",
      "metadata": {
        "id": "K_3do4egu0Un",
        "outputId": "b0cdf441-20d9-4867-e47d-8ea4dd57e4e3"
      },
      "source": [
        "x1 = np.array([1, 2, 3, 4, 5])\n",
        "x2 = x1 *10\n",
        "print(np.std(x1, ddof = 1))\n",
        "print(np.std(x2, ddof = 1))"
      ],
      "execution_count": null,
      "outputs": [
        {
          "output_type": "stream",
          "text": [
            "1.5811388300841898\n",
            "15.811388300841896\n"
          ],
          "name": "stdout"
        }
      ]
    },
    {
      "cell_type": "code",
      "metadata": {
        "id": "317dYMMmu0Un",
        "outputId": "974a45dc-ea03-4730-ea8c-72b330b5e88b"
      },
      "source": [
        "print(variation(x1)) # variation = 변동계수\n",
        "print(variation(x2))"
      ],
      "execution_count": null,
      "outputs": [
        {
          "output_type": "stream",
          "text": [
            "0.47140452079103173\n",
            "0.4714045207910317\n"
          ],
          "name": "stdout"
        }
      ]
    },
    {
      "cell_type": "code",
      "metadata": {
        "id": "BpAxnLoKu0Uo",
        "outputId": "514dc5b6-b61c-4a72-8205-0c76454a32c8"
      },
      "source": [
        "print(np.std(x1, ddof = 1) / np.mean(x1))\n",
        "print(np.std(x2, ddof = 1) / np.mean(x2))"
      ],
      "execution_count": null,
      "outputs": [
        {
          "output_type": "stream",
          "text": [
            "0.5270462766947299\n",
            "0.5270462766947299\n"
          ],
          "name": "stdout"
        }
      ]
    },
    {
      "cell_type": "markdown",
      "metadata": {
        "id": "_w6qkX3pu0Uo"
      },
      "source": [
        "### 스케일링"
      ]
    },
    {
      "cell_type": "code",
      "metadata": {
        "id": "zNVunGasu0Uo",
        "outputId": "37437514-4816-48d1-c522-a2369064159d"
      },
      "source": [
        "z1 = (x1 -  x1.mean()) / x1.std()\n",
        "z2 = (x2 - x2.mean()) / x2.std()\n",
        "\n",
        "print(z1) \n",
        "print(z2)"
      ],
      "execution_count": null,
      "outputs": [
        {
          "output_type": "stream",
          "text": [
            "[-1.41421356 -0.70710678  0.          0.70710678  1.41421356]\n",
            "[-1.41421356 -0.70710678  0.          0.70710678  1.41421356]\n"
          ],
          "name": "stdout"
        }
      ]
    },
    {
      "cell_type": "code",
      "metadata": {
        "id": "XeBeykNqu0Uo",
        "outputId": "f8990062-8af6-4b31-ebce-7dbe90bf9ac7"
      },
      "source": [
        "z1 = (x1 - x1.min()) / (x1.max() - x1.min())\n",
        "z2 = (x2 - x2.min()) / (x2.max() - x2.min())\n",
        " \n",
        "print(z1)\n",
        "print(z2)"
      ],
      "execution_count": null,
      "outputs": [
        {
          "output_type": "stream",
          "text": [
            "[0.   0.25 0.5  0.75 1.  ]\n",
            "[0.   0.25 0.5  0.75 1.  ]\n"
          ],
          "name": "stdout"
        }
      ]
    },
    {
      "cell_type": "code",
      "metadata": {
        "id": "JqsPpyXiu0Uo",
        "outputId": "1d1cdf10-0d2c-4ada-a5eb-86085c1fd41b"
      },
      "source": [
        "# sklearn을 이용한 스케일링(데이터프레임에서 각 컬럼별로 스케일링 됨. 즉, 머신러닝에 적합 즉 이런 데이터프레임이 있는곳에 사용)\n",
        "x = pd.DataFrame({\"x1\" : [1, 2, 3, 4, 5], \"x2\" : [10, 20, 30, 40, 50]})\n",
        "x"
      ],
      "execution_count": null,
      "outputs": [
        {
          "output_type": "execute_result",
          "data": {
            "text/html": [
              "<div>\n",
              "<style scoped>\n",
              "    .dataframe tbody tr th:only-of-type {\n",
              "        vertical-align: middle;\n",
              "    }\n",
              "\n",
              "    .dataframe tbody tr th {\n",
              "        vertical-align: top;\n",
              "    }\n",
              "\n",
              "    .dataframe thead th {\n",
              "        text-align: right;\n",
              "    }\n",
              "</style>\n",
              "<table border=\"1\" class=\"dataframe\">\n",
              "  <thead>\n",
              "    <tr style=\"text-align: right;\">\n",
              "      <th></th>\n",
              "      <th>x1</th>\n",
              "      <th>x2</th>\n",
              "    </tr>\n",
              "  </thead>\n",
              "  <tbody>\n",
              "    <tr>\n",
              "      <th>0</th>\n",
              "      <td>1</td>\n",
              "      <td>10</td>\n",
              "    </tr>\n",
              "    <tr>\n",
              "      <th>1</th>\n",
              "      <td>2</td>\n",
              "      <td>20</td>\n",
              "    </tr>\n",
              "    <tr>\n",
              "      <th>2</th>\n",
              "      <td>3</td>\n",
              "      <td>30</td>\n",
              "    </tr>\n",
              "    <tr>\n",
              "      <th>3</th>\n",
              "      <td>4</td>\n",
              "      <td>40</td>\n",
              "    </tr>\n",
              "    <tr>\n",
              "      <th>4</th>\n",
              "      <td>5</td>\n",
              "      <td>50</td>\n",
              "    </tr>\n",
              "  </tbody>\n",
              "</table>\n",
              "</div>"
            ],
            "text/plain": [
              "   x1  x2\n",
              "0   1  10\n",
              "1   2  20\n",
              "2   3  30\n",
              "3   4  40\n",
              "4   5  50"
            ]
          },
          "metadata": {
            "tags": []
          },
          "execution_count": 29
        }
      ]
    },
    {
      "cell_type": "code",
      "metadata": {
        "id": "EvDMvEcqu0Up",
        "outputId": "c4dfdc2a-4b52-40c4-da70-135493dfc389"
      },
      "source": [
        "from sklearn.preprocessing import MinMaxScaler\n",
        "scaler = MinMaxScaler() #인스턴스화\n",
        "z = scaler.fit_transform(x) # fit_t ransform => ndarray\n",
        "pd.DataFrame(z)"
      ],
      "execution_count": null,
      "outputs": [
        {
          "output_type": "execute_result",
          "data": {
            "text/html": [
              "<div>\n",
              "<style scoped>\n",
              "    .dataframe tbody tr th:only-of-type {\n",
              "        vertical-align: middle;\n",
              "    }\n",
              "\n",
              "    .dataframe tbody tr th {\n",
              "        vertical-align: top;\n",
              "    }\n",
              "\n",
              "    .dataframe thead th {\n",
              "        text-align: right;\n",
              "    }\n",
              "</style>\n",
              "<table border=\"1\" class=\"dataframe\">\n",
              "  <thead>\n",
              "    <tr style=\"text-align: right;\">\n",
              "      <th></th>\n",
              "      <th>0</th>\n",
              "      <th>1</th>\n",
              "    </tr>\n",
              "  </thead>\n",
              "  <tbody>\n",
              "    <tr>\n",
              "      <th>0</th>\n",
              "      <td>0.00</td>\n",
              "      <td>0.00</td>\n",
              "    </tr>\n",
              "    <tr>\n",
              "      <th>1</th>\n",
              "      <td>0.25</td>\n",
              "      <td>0.25</td>\n",
              "    </tr>\n",
              "    <tr>\n",
              "      <th>2</th>\n",
              "      <td>0.50</td>\n",
              "      <td>0.50</td>\n",
              "    </tr>\n",
              "    <tr>\n",
              "      <th>3</th>\n",
              "      <td>0.75</td>\n",
              "      <td>0.75</td>\n",
              "    </tr>\n",
              "    <tr>\n",
              "      <th>4</th>\n",
              "      <td>1.00</td>\n",
              "      <td>1.00</td>\n",
              "    </tr>\n",
              "  </tbody>\n",
              "</table>\n",
              "</div>"
            ],
            "text/plain": [
              "      0     1\n",
              "0  0.00  0.00\n",
              "1  0.25  0.25\n",
              "2  0.50  0.50\n",
              "3  0.75  0.75\n",
              "4  1.00  1.00"
            ]
          },
          "metadata": {
            "tags": []
          },
          "execution_count": 28
        }
      ]
    },
    {
      "cell_type": "markdown",
      "metadata": {
        "id": "9c1X5b7nu0Up"
      },
      "source": [
        "### 범위와 사분위 범위 계산"
      ]
    },
    {
      "cell_type": "code",
      "metadata": {
        "id": "ngCxQAt0u0Up",
        "outputId": "a81ada09-15af-48e7-d1e9-3dc3339e31fc"
      },
      "source": [
        "x = np.random.normal(100, 20, size = 1000)\n",
        "print(np.ptp(x))\n",
        "print(np.max(x) - np.min(x))"
      ],
      "execution_count": null,
      "outputs": [
        {
          "output_type": "stream",
          "text": [
            "128.55446876421217\n",
            "128.55446876421217\n"
          ],
          "name": "stdout"
        }
      ]
    },
    {
      "cell_type": "code",
      "metadata": {
        "id": "R_-qeL0Wu0Up",
        "outputId": "9878e864-1d77-4331-a074-a5982d0b3c21"
      },
      "source": [
        "print(np.quantile(x, 0.75) - np.quantile(x, 0.25))\n",
        "print(iqr(x))"
      ],
      "execution_count": null,
      "outputs": [
        {
          "output_type": "stream",
          "text": [
            "26.716527326257435\n",
            "26.716527326257435\n"
          ],
          "name": "stdout"
        }
      ]
    },
    {
      "cell_type": "code",
      "metadata": {
        "id": "SS00CFMTu0Uq"
      },
      "source": [
        ""
      ],
      "execution_count": null,
      "outputs": []
    }
  ]
}