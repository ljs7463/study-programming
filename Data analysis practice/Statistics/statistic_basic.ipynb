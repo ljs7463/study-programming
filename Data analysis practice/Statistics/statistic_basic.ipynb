{
  "nbformat": 4,
  "nbformat_minor": 0,
  "metadata": {
    "kernelspec": {
      "display_name": "Python 3",
      "language": "python",
      "name": "python3"
    },
    "language_info": {
      "codemirror_mode": {
        "name": "ipython",
        "version": 3
      },
      "file_extension": ".py",
      "mimetype": "text/x-python",
      "name": "python",
      "nbconvert_exporter": "python",
      "pygments_lexer": "ipython3",
      "version": "3.7.6"
    },
    "colab": {
      "name": "statistic_basic.ipynb",
      "provenance": []
    }
  },
  "cells": [
    {
      "cell_type": "markdown",
      "metadata": {
        "id": "zBzk7r13g5MU"
      },
      "source": [
        "통계적 사고방식 : 어떠한 사건이 우연히 발생할 확률이 얼마인가 라고 묻는 것"
      ]
    },
    {
      "cell_type": "markdown",
      "metadata": {
        "id": "l2zFqWqrlrvI"
      },
      "source": [
        "##  t-test(t검정)"
      ]
    },
    {
      "cell_type": "markdown",
      "metadata": {
        "id": "_WhvQY-5lwco"
      },
      "source": [
        "T검정은 모집단의 분산이나 표준편차를 알지 못할 때, 표본으로부터 추정된 분산이나 표준편차를 이용하여 두 모집단의 평균의 차이를 알아보는 검정방법이다. 집단의 수는 최대 2개까지 비교 가능하며 3개 이상인 경우 분산분석(ANOVA)를 사용한다."
      ]
    },
    {
      "cell_type": "markdown",
      "metadata": {
        "id": "TP1uepNgeGYC"
      },
      "source": [
        "T-검정의 가정(조건)\n",
        "- 종속변수가 양적 변수일 때\n",
        "- 모집단의 분산이나 표준편차를 알지 못할 때\n",
        "- 모집단의 분포가 정규분포일 때"
      ]
    },
    {
      "cell_type": "markdown",
      "metadata": {
        "id": "99kYC-xKl0V-"
      },
      "source": [
        "1. 단일표본 T-검정(One-Sample-test)\n",
        "- 1개의 Sample 값들의 평균이 특정값과 동일한지 비교"
      ]
    },
    {
      "cell_type": "code",
      "metadata": {
        "id": "4BOnyseflqK7",
        "colab": {
          "base_uri": "https://localhost:8080/"
        },
        "outputId": "88a450fd-7541-4785-bd65-3211d724fd21"
      },
      "source": [
        "# np.random.binomial : 이항분포로 부터 무작위 표본 추출\n",
        "# 이항 분포 : 연속된 n번의 독립적 시행에서 각 시행이 확률 p를 가질 때의 이산 확률 분포이다. \n",
        "import numpy as np\n",
        "np.random.seed(12) # 랜덤 시드값 설정\n",
        "np.random.binomial(n = 1, p = 0.5, size = 1000) # 우연히 동전의 앞 혹은 뒷면(1로 지정)이 나올확률이 0.5인 것을 1000번하겠다.\n",
        "coinflips = np.random.binomial(n = 1, p = 0.5, size = 1000) # 동전을 예시를 들기위해 변수설정, 한쪽면을 1로 가정\n",
        "\n",
        "from scipy import stats \n",
        "stats.ttest_1samp(coinflips, .5) # stats.ttest_1samp(Sample데이터, 비교하려는 값)"
      ],
      "execution_count": null,
      "outputs": [
        {
          "output_type": "execute_result",
          "data": {
            "text/plain": [
              "Ttest_1sampResult(statistic=-1.2019326366894174, pvalue=0.22967446314397402)"
            ]
          },
          "metadata": {
            "tags": []
          },
          "execution_count": 4
        }
      ]
    },
    {
      "cell_type": "markdown",
      "metadata": {
        "id": "n5wNtuu3nDey"
      },
      "source": [
        "결과값중 statistic은 통계치, pavalue > alpha(= 0.05) 보다 크기 때문에 귀무가설은 기각되지 않는다. 즉, 우연히 0.5가 나올확률이 0.2이다 (20%)\n",
        "\n",
        "귀무가설 : 1이 나올확률이 0.5이다.\n",
        "\n",
        "대립가설 : 1이 나올확률이 0.5가 아니다."
      ]
    },
    {
      "cell_type": "markdown",
      "metadata": {
        "id": "cp0ImWn6ObHG"
      },
      "source": [
        " 귀무가설 과 대립가설 \n",
        "\n",
        "< https://blog.naver.com/ljs7463/222351943157 >\n",
        "\n",
        "\n",
        "\n",
        " P-value \n",
        "\n",
        "< https://blog.naver.com/ljs7463/222351975704 > \n",
        "\n",
        "\n"
      ]
    },
    {
      "cell_type": "markdown",
      "metadata": {
        "id": "S74SuBvGnQIT"
      },
      "source": [
        "2. 두 표본 T-검정(Two-Sample-ttest)\n",
        "- 2개의 sample값들의 평균이 서로 동일한지(차이가 0인지) 비교"
      ]
    },
    {
      "cell_type": "code",
      "metadata": {
        "id": "GeZ1q5renPe9",
        "colab": {
          "base_uri": "https://localhost:8080/"
        },
        "outputId": "0650f3dd-6eb9-4901-caea-553c76ff6186"
      },
      "source": [
        "np.random.seed(111) \n",
        "coin1 = np.random.binomial(n = 1, p = 0.6, size = 500)\n",
        "coin2 = np.random.binomial(n = 1, p = 0.5, size = 200)\n",
        "stats.ttest_ind(coin1, coin2)"
      ],
      "execution_count": null,
      "outputs": [
        {
          "output_type": "execute_result",
          "data": {
            "text/plain": [
              "Ttest_indResult(statistic=2.5217925052968604, pvalue=0.011897284906103034)"
            ]
          },
          "metadata": {
            "tags": []
          },
          "execution_count": 5
        }
      ]
    },
    {
      "cell_type": "markdown",
      "metadata": {
        "id": "Gy1XH9tuouk-"
      },
      "source": [
        "pvalue 값이 0.01이다. 즉, pvalue < alpah(0.05) 보다 작기 때문에 귀무가설은 기각된다. \n",
        "\n",
        "귀무가설 : 2개의 sample값들의 평균은 서로 동일하다.\n",
        "\n",
        "대립가설 : 2개의 smaple값들의 평균은 서로 동일하지않다."
      ]
    },
    {
      "cell_type": "markdown",
      "metadata": {
        "id": "0WJST_WPnxvg"
      },
      "source": [
        "3. one-tailed-test\n",
        "4. two-tailed-test\n",
        "\n",
        "< https://blog.naver.com/ljs7463/222352002928 >\n"
      ]
    },
    {
      "cell_type": "markdown",
      "metadata": {
        "id": "DhkBklJeKDzZ"
      },
      "source": [
        "5. Two-sample-One-tailed\n",
        "-  2개의 sample중 하나의 값이 더 크거나, 많은것"
      ]
    },
    {
      "cell_type": "code",
      "metadata": {
        "id": "23mn7yUJKDci"
      },
      "source": [
        "# stats.ttest_ind(A, B, alternative = 'greater')\n",
        "# stats.ttest_ind(A, B, alternative = 'less')\n",
        "\n",
        "# A가 B보다 더 많다, 크다\n",
        "# B가 A보다 더 많다, 크다\n",
        "\n",
        "# 귀무가설 : A가 B보다 크다\n",
        "# 디립가설 : A가 B보다 크지않다."
      ],
      "execution_count": null,
      "outputs": []
    },
    {
      "cell_type": "markdown",
      "metadata": {
        "id": "vmDUXbZ2P2Dk"
      },
      "source": [
        "6. t-test의 process\n",
        "- 귀무가설 설정\n",
        "- 대립가설 설정\n",
        "- 신뢰도 설정(Confidence Level)\n",
        "- P-value확인\n",
        "- p-value를 바탕으로 가설에 대해 결론을 내림"
      ]
    },
    {
      "cell_type": "markdown",
      "metadata": {
        "id": "0uh0-gr_ljAz"
      },
      "source": [
        "# 대표 통계량"
      ]
    },
    {
      "cell_type": "code",
      "metadata": {
        "id": "t9qyJjJxljA3"
      },
      "source": [
        "import numpy as np\n",
        "from scipy.stats import *\n",
        "import pandas as pd"
      ],
      "execution_count": null,
      "outputs": []
    },
    {
      "cell_type": "code",
      "metadata": {
        "id": "sl9AR8xIljA4",
        "outputId": "3ac2aacc-ceb1-4eb1-a94f-84e9aa4c0da5"
      },
      "source": [
        "x = [1, 2, 3, 4, 5]\n",
        "print(np.mean(x))\n",
        "print(np.array(x).mean())"
      ],
      "execution_count": null,
      "outputs": [
        {
          "output_type": "stream",
          "text": [
            "3.0\n",
            "3.0\n"
          ],
          "name": "stdout"
        }
      ]
    },
    {
      "cell_type": "code",
      "metadata": {
        "id": "nFOCH0bwljA5",
        "outputId": "e85d7dc0-cb1e-4a57-e5b7-1c7c39c676f0"
      },
      "source": [
        "#  이진변수에대한평균  \n",
        "x = [1, 0, 0, 0, 1]\n",
        "print(np.mean(x))"
      ],
      "execution_count": null,
      "outputs": [
        {
          "output_type": "stream",
          "text": [
            "0.4\n"
          ],
          "name": "stdout"
        }
      ]
    },
    {
      "cell_type": "markdown",
      "metadata": {
        "id": "9SWCLHOjljA5"
      },
      "source": [
        "### 조화평균"
      ]
    },
    {
      "cell_type": "code",
      "metadata": {
        "id": "Zue2cDgMljA6",
        "outputId": "a3cdb489-0c15-41e6-9d02-4a6215154b6a"
      },
      "source": [
        "x = np.array([0.1, 0.2, 0.3, 0.4, 0.5])\n",
        "print(len(x) / np.sum(1/x))\n",
        "print(hmean(x)) # hmean을 사용하여 조화평균을 구할 수 있다."
      ],
      "execution_count": null,
      "outputs": [
        {
          "output_type": "stream",
          "text": [
            "0.21897810218978103\n",
            "0.21897810218978103\n"
          ],
          "name": "stdout"
        }
      ]
    },
    {
      "cell_type": "markdown",
      "metadata": {
        "id": "dF4QHSYSljA6"
      },
      "source": [
        "### 절사평균이필요한이유 "
      ]
    },
    {
      "cell_type": "code",
      "metadata": {
        "id": "lpfeyF_sljA6",
        "outputId": "db5ec964-7fd7-4773-d454-0f167a759aa1"
      },
      "source": [
        "income = np.random.normal(2000000, 500000, 100) # 평균이 2백만원이고 표준편차가 오십만인 정규분포를 따르는 소득을 갖는 100명씩\n",
        "print(np.mean(income))"
      ],
      "execution_count": null,
      "outputs": [
        {
          "output_type": "stream",
          "text": [
            "2005978.8971032172\n"
          ],
          "name": "stdout"
        }
      ]
    },
    {
      "cell_type": "code",
      "metadata": {
        "id": "6jqlwd2_ljA7",
        "outputId": "ef1a7359-9b62-4884-ba73-6d411f786f58"
      },
      "source": [
        "income = np.append(income, 10**9) #소득이 10억원인 사람의 등장\n",
        "print(np.mean(income)) #100명의 소득이 200만원에 가까운데, 한 명때문에 대표값이 바뀜"
      ],
      "execution_count": null,
      "outputs": [
        {
          "output_type": "stream",
          "text": [
            "11887107.818914076\n"
          ],
          "name": "stdout"
        }
      ]
    },
    {
      "cell_type": "markdown",
      "metadata": {
        "id": "sjQFvwDSljA7"
      },
      "source": [
        "### 절사 평균 계산"
      ]
    },
    {
      "cell_type": "code",
      "metadata": {
        "id": "jEgjEsl-ljA7",
        "outputId": "b05beda5-d550-4f87-c99c-b3a443c564cc"
      },
      "source": [
        "trim_mean(income, 0.2) # [20% ~ 80%]"
      ],
      "execution_count": null,
      "outputs": [
        {
          "output_type": "execute_result",
          "data": {
            "text/plain": [
              "2019898.9669516294"
            ]
          },
          "metadata": {
            "tags": []
          },
          "execution_count": 7
        }
      ]
    },
    {
      "cell_type": "markdown",
      "metadata": {
        "id": "Ez0vdFSaljA8"
      },
      "source": [
        "### 최빈값 계산"
      ]
    },
    {
      "cell_type": "code",
      "metadata": {
        "id": "bwxPcjOiljA8",
        "outputId": "a4372dfe-4b18-45e5-c51e-4e3bf2643228"
      },
      "source": [
        "x = np.random.choice(['A', 'B', 'C'], 1000) # A, B, C라는 요소로 구성\n",
        "x[:10]"
      ],
      "execution_count": null,
      "outputs": [
        {
          "output_type": "execute_result",
          "data": {
            "text/plain": [
              "array(['B', 'A', 'B', 'B', 'B', 'B', 'B', 'B', 'C', 'B'], dtype='<U1')"
            ]
          },
          "metadata": {
            "tags": []
          },
          "execution_count": 9
        }
      ]
    },
    {
      "cell_type": "code",
      "metadata": {
        "id": "zMpgO7yHljA8",
        "outputId": "dd4f9f57-df07-4e86-b715-03dd8e77b29e"
      },
      "source": [
        "mode(x)"
      ],
      "execution_count": null,
      "outputs": [
        {
          "output_type": "execute_result",
          "data": {
            "text/plain": [
              "ModeResult(mode=array(['B'], dtype='<U1'), count=array([339]))"
            ]
          },
          "metadata": {
            "tags": []
          },
          "execution_count": 10
        }
      ]
    },
    {
      "cell_type": "code",
      "metadata": {
        "id": "fWYpa3YtljA8",
        "outputId": "4b6af028-1794-4beb-a05d-b5ce8dc23b18"
      },
      "source": [
        "pd.Series(x).value_counts().index[0]"
      ],
      "execution_count": null,
      "outputs": [
        {
          "output_type": "execute_result",
          "data": {
            "text/plain": [
              "'B'"
            ]
          },
          "metadata": {
            "tags": []
          },
          "execution_count": 12
        }
      ]
    },
    {
      "cell_type": "markdown",
      "metadata": {
        "id": "XJt6f42jljA9"
      },
      "source": [
        "# 산포 통계량"
      ]
    },
    {
      "cell_type": "code",
      "metadata": {
        "id": "5KG92mHWljA9"
      },
      "source": [
        "import numpy as np\n",
        "from scipy.stats import *\n",
        "import pandas as pd"
      ],
      "execution_count": null,
      "outputs": []
    },
    {
      "cell_type": "markdown",
      "metadata": {
        "id": "dJTj65BnljA9"
      },
      "source": [
        "### 분산 계산"
      ]
    },
    {
      "cell_type": "code",
      "metadata": {
        "id": "8W0b7gqYljA9",
        "outputId": "edbeb618-86df-4950-e2a8-7e3fc3477b20"
      },
      "source": [
        "x = [1, 2, 3, 4, 5]\n",
        "print(np.var(x,ddof = 1)) # 분모가 n-1(5-1)\n",
        "print(np.array(x).var()) # 분모를 n\n",
        "print(pd.Series(x).var(ddof = 0)) # 분모를 n"
      ],
      "execution_count": null,
      "outputs": [
        {
          "output_type": "stream",
          "text": [
            "2.5\n",
            "2.0\n",
            "2.0\n"
          ],
          "name": "stdout"
        }
      ]
    },
    {
      "cell_type": "markdown",
      "metadata": {
        "id": "TrLflxHBljA9"
      },
      "source": [
        "### 표준편차 계산"
      ]
    },
    {
      "cell_type": "code",
      "metadata": {
        "id": "GtZ0-ZyWljA-",
        "outputId": "6bf7384e-9b12-446b-87d8-ae5b01a187e1"
      },
      "source": [
        "x = [1, 2, 3, 4, 5]\n",
        "print(np.std(x, ddof = 1))\n",
        "print(np.array(x).std())\n",
        "print(pd.Series(x).std(ddof=1))"
      ],
      "execution_count": null,
      "outputs": [
        {
          "output_type": "stream",
          "text": [
            "1.5811388300841898\n",
            "1.4142135623730951\n",
            "1.5811388300841898\n"
          ],
          "name": "stdout"
        }
      ]
    },
    {
      "cell_type": "markdown",
      "metadata": {
        "id": "EnD-dqSuljA-"
      },
      "source": [
        "### 변동계수의 필요성"
      ]
    },
    {
      "cell_type": "code",
      "metadata": {
        "id": "0diTb9U7ljA-",
        "outputId": "ab1330b1-d6a9-4834-cde1-b7cfb04235ca"
      },
      "source": [
        "x1 = np.array([1, 2, 3, 4, 5])\n",
        "x2 = x1 *10\n",
        "print(np.std(x1, ddof = 1))\n",
        "print(np.std(x2, ddof = 1))"
      ],
      "execution_count": null,
      "outputs": [
        {
          "output_type": "stream",
          "text": [
            "1.5811388300841898\n",
            "15.811388300841896\n"
          ],
          "name": "stdout"
        }
      ]
    },
    {
      "cell_type": "code",
      "metadata": {
        "id": "9eoTaQLWljA-",
        "outputId": "87432c4f-a2a9-4a5d-c609-125f0da02110"
      },
      "source": [
        "print(variation(x1)) # variation = 변동계수\n",
        "print(variation(x2))"
      ],
      "execution_count": null,
      "outputs": [
        {
          "output_type": "stream",
          "text": [
            "0.47140452079103173\n",
            "0.4714045207910317\n"
          ],
          "name": "stdout"
        }
      ]
    },
    {
      "cell_type": "code",
      "metadata": {
        "id": "eq8ERx-RljA_",
        "outputId": "348cdab4-1d92-4451-f612-ce89518da6d0"
      },
      "source": [
        "print(np.std(x1, ddof = 1) / np.mean(x1))\n",
        "print(np.std(x2, ddof = 1) / np.mean(x2))"
      ],
      "execution_count": null,
      "outputs": [
        {
          "output_type": "stream",
          "text": [
            "0.5270462766947299\n",
            "0.5270462766947299\n"
          ],
          "name": "stdout"
        }
      ]
    },
    {
      "cell_type": "markdown",
      "metadata": {
        "id": "BglTTC5fljA_"
      },
      "source": [
        "### 스케일링"
      ]
    },
    {
      "cell_type": "code",
      "metadata": {
        "id": "wwQ16FeMljA_",
        "outputId": "fee99cef-1840-49f1-a1e4-11a96dd44339"
      },
      "source": [
        "z1 = (x1 -  x1.mean()) / x1.std()\n",
        "z2 = (x2 - x2.mean()) / x2.std()\n",
        "\n",
        "print(z1) \n",
        "print(z2)"
      ],
      "execution_count": null,
      "outputs": [
        {
          "output_type": "stream",
          "text": [
            "[-1.41421356 -0.70710678  0.          0.70710678  1.41421356]\n",
            "[-1.41421356 -0.70710678  0.          0.70710678  1.41421356]\n"
          ],
          "name": "stdout"
        }
      ]
    },
    {
      "cell_type": "code",
      "metadata": {
        "id": "kW1GAHuWljA_",
        "outputId": "dc3c6254-d29b-4a42-e193-7fa59203add0"
      },
      "source": [
        "z1 = (x1 - x1.min()) / (x1.max() - x1.min())\n",
        "z2 = (x2 - x2.min()) / (x2.max() - x2.min())\n",
        " \n",
        "print(z1)\n",
        "print(z2)"
      ],
      "execution_count": null,
      "outputs": [
        {
          "output_type": "stream",
          "text": [
            "[0.   0.25 0.5  0.75 1.  ]\n",
            "[0.   0.25 0.5  0.75 1.  ]\n"
          ],
          "name": "stdout"
        }
      ]
    },
    {
      "cell_type": "code",
      "metadata": {
        "id": "4QO3bfmHljA_",
        "outputId": "2f7594e0-a7ca-4010-8c5a-a92d2c017cfd"
      },
      "source": [
        "# sklearn을 이용한 스케일링(데이터프레임에서 각 컬럼별로 스케일링 됨. 즉, 머신러닝에 적합 즉 이런 데이터프레임이 있는곳에 사용)\n",
        "x = pd.DataFrame({\"x1\" : [1, 2, 3, 4, 5], \"x2\" : [10, 20, 30, 40, 50]})\n",
        "x"
      ],
      "execution_count": null,
      "outputs": [
        {
          "output_type": "execute_result",
          "data": {
            "text/html": [
              "<div>\n",
              "<style scoped>\n",
              "    .dataframe tbody tr th:only-of-type {\n",
              "        vertical-align: middle;\n",
              "    }\n",
              "\n",
              "    .dataframe tbody tr th {\n",
              "        vertical-align: top;\n",
              "    }\n",
              "\n",
              "    .dataframe thead th {\n",
              "        text-align: right;\n",
              "    }\n",
              "</style>\n",
              "<table border=\"1\" class=\"dataframe\">\n",
              "  <thead>\n",
              "    <tr style=\"text-align: right;\">\n",
              "      <th></th>\n",
              "      <th>x1</th>\n",
              "      <th>x2</th>\n",
              "    </tr>\n",
              "  </thead>\n",
              "  <tbody>\n",
              "    <tr>\n",
              "      <th>0</th>\n",
              "      <td>1</td>\n",
              "      <td>10</td>\n",
              "    </tr>\n",
              "    <tr>\n",
              "      <th>1</th>\n",
              "      <td>2</td>\n",
              "      <td>20</td>\n",
              "    </tr>\n",
              "    <tr>\n",
              "      <th>2</th>\n",
              "      <td>3</td>\n",
              "      <td>30</td>\n",
              "    </tr>\n",
              "    <tr>\n",
              "      <th>3</th>\n",
              "      <td>4</td>\n",
              "      <td>40</td>\n",
              "    </tr>\n",
              "    <tr>\n",
              "      <th>4</th>\n",
              "      <td>5</td>\n",
              "      <td>50</td>\n",
              "    </tr>\n",
              "  </tbody>\n",
              "</table>\n",
              "</div>"
            ],
            "text/plain": [
              "   x1  x2\n",
              "0   1  10\n",
              "1   2  20\n",
              "2   3  30\n",
              "3   4  40\n",
              "4   5  50"
            ]
          },
          "metadata": {
            "tags": []
          },
          "execution_count": 29
        }
      ]
    },
    {
      "cell_type": "code",
      "metadata": {
        "id": "XAqV_ZL5ljBA",
        "outputId": "25a0d9ef-bb7d-460f-d087-067e78f9ccf0"
      },
      "source": [
        "from sklearn.preprocessing import MinMaxScaler\n",
        "scaler = MinMaxScaler() #인스턴스화\n",
        "z = scaler.fit_transform(x) # fit_t ransform => ndarray\n",
        "pd.DataFrame(z)"
      ],
      "execution_count": null,
      "outputs": [
        {
          "output_type": "execute_result",
          "data": {
            "text/html": [
              "<div>\n",
              "<style scoped>\n",
              "    .dataframe tbody tr th:only-of-type {\n",
              "        vertical-align: middle;\n",
              "    }\n",
              "\n",
              "    .dataframe tbody tr th {\n",
              "        vertical-align: top;\n",
              "    }\n",
              "\n",
              "    .dataframe thead th {\n",
              "        text-align: right;\n",
              "    }\n",
              "</style>\n",
              "<table border=\"1\" class=\"dataframe\">\n",
              "  <thead>\n",
              "    <tr style=\"text-align: right;\">\n",
              "      <th></th>\n",
              "      <th>0</th>\n",
              "      <th>1</th>\n",
              "    </tr>\n",
              "  </thead>\n",
              "  <tbody>\n",
              "    <tr>\n",
              "      <th>0</th>\n",
              "      <td>0.00</td>\n",
              "      <td>0.00</td>\n",
              "    </tr>\n",
              "    <tr>\n",
              "      <th>1</th>\n",
              "      <td>0.25</td>\n",
              "      <td>0.25</td>\n",
              "    </tr>\n",
              "    <tr>\n",
              "      <th>2</th>\n",
              "      <td>0.50</td>\n",
              "      <td>0.50</td>\n",
              "    </tr>\n",
              "    <tr>\n",
              "      <th>3</th>\n",
              "      <td>0.75</td>\n",
              "      <td>0.75</td>\n",
              "    </tr>\n",
              "    <tr>\n",
              "      <th>4</th>\n",
              "      <td>1.00</td>\n",
              "      <td>1.00</td>\n",
              "    </tr>\n",
              "  </tbody>\n",
              "</table>\n",
              "</div>"
            ],
            "text/plain": [
              "      0     1\n",
              "0  0.00  0.00\n",
              "1  0.25  0.25\n",
              "2  0.50  0.50\n",
              "3  0.75  0.75\n",
              "4  1.00  1.00"
            ]
          },
          "metadata": {
            "tags": []
          },
          "execution_count": 28
        }
      ]
    },
    {
      "cell_type": "markdown",
      "metadata": {
        "id": "51srxuoQljBA"
      },
      "source": [
        "### 범위와 사분위 범위 계산"
      ]
    },
    {
      "cell_type": "code",
      "metadata": {
        "id": "7pM0KDh7ljBA",
        "outputId": "f254b66f-a23e-4f12-e979-febf1f1fba66"
      },
      "source": [
        "x = np.random.normal(100, 20, size = 1000)\n",
        "print(np.ptp(x))\n",
        "print(np.max(x) - np.min(x))"
      ],
      "execution_count": null,
      "outputs": [
        {
          "output_type": "stream",
          "text": [
            "128.55446876421217\n",
            "128.55446876421217\n"
          ],
          "name": "stdout"
        }
      ]
    },
    {
      "cell_type": "code",
      "metadata": {
        "id": "zSmkVzunljBA",
        "outputId": "e0afdd7b-1b33-4b2e-c385-6ba2f7426f42"
      },
      "source": [
        "print(np.quantile(x, 0.75) - np.quantile(x, 0.25))\n",
        "print(iqr(x))"
      ],
      "execution_count": null,
      "outputs": [
        {
          "output_type": "stream",
          "text": [
            "26.716527326257435\n",
            "26.716527326257435\n"
          ],
          "name": "stdout"
        }
      ]
    },
    {
      "cell_type": "code",
      "metadata": {
        "id": "OVtVqP1vljBB"
      },
      "source": [
        ""
      ],
      "execution_count": null,
      "outputs": []
    }
  ]
}