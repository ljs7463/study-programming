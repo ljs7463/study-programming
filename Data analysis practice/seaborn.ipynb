{
  "nbformat": 4,
  "nbformat_minor": 0,
  "metadata": {
    "colab": {
      "name": "seaborn.ipynb",
      "provenance": [],
      "authorship_tag": "ABX9TyP259KVvzv7xp3utuBPzzNY",
      "include_colab_link": true
    },
    "kernelspec": {
      "name": "python3",
      "display_name": "Python 3"
    }
  },
  "cells": [
    {
      "cell_type": "markdown",
      "metadata": {
        "id": "view-in-github",
        "colab_type": "text"
      },
      "source": [
        "<a href=\"https://colab.research.google.com/github/ljs7463/study-repository/blob/master/seaborn.ipynb\" target=\"_parent\"><img src=\"https://colab.research.google.com/assets/colab-badge.svg\" alt=\"Open In Colab\"/></a>"
      ]
    },
    {
      "cell_type": "markdown",
      "metadata": {
        "id": "XS9wDBEx_jem"
      },
      "source": [
        "seaborn : matplotlib을 기반으로 다양한 색상과 차트를 지원하는 라이브러리\r\n",
        "\r\n",
        "- 보다 아름다운 디자인\r\n",
        "- 통계 기능 기반의 차트 (countplot, relplot,  lmplot...)\r\n",
        "- 쉬운 사용성\r\n",
        "- pandas, matplotlib 호환\r\n",
        "\r\n"
      ]
    },
    {
      "cell_type": "code",
      "metadata": {
        "id": "vZcjk0Si_bzB"
      },
      "source": [
        "import seaborn as sns\r\n",
        "import matplotlib.pyplot as plt\r\n",
        "import pandas as pd\r\n",
        "import numpy as np\r\n",
        "from IPython.display import Image"
      ],
      "execution_count": 1,
      "outputs": []
    },
    {
      "cell_type": "code",
      "metadata": {
        "id": "L3S4hLkTAdJV"
      },
      "source": [
        "plt.rc('font', family = 'NanumBarunGothic')\r\n",
        "plt.rcParams[\"figure.figsize\"] = (12, 9)"
      ],
      "execution_count": 2,
      "outputs": []
    },
    {
      "cell_type": "markdown",
      "metadata": {
        "id": "270Q0AA_AsLv"
      },
      "source": [
        "# 0. 왜 seaborn 인가요?"
      ]
    },
    {
      "cell_type": "markdown",
      "metadata": {
        "id": "wNXz71bzAvFF"
      },
      "source": [
        "matplotlib으로 대부분의 시각화는 가능합니다. 하지만, 다음과 같은 이유로 seaborn을 많은 사람들이 선호합니다."
      ]
    },
    {
      "cell_type": "markdown",
      "metadata": {
        "id": "Exlncmw0A3wi"
      },
      "source": [
        "### 0-1. seaborn에서만 제공되는 통계 기반 plot"
      ]
    },
    {
      "cell_type": "code",
      "metadata": {
        "id": "-GuH2MbkBVE5"
      },
      "source": [
        "tips = sns.load_dataset('tips')"
      ],
      "execution_count": 4,
      "outputs": []
    },
    {
      "cell_type": "code",
      "metadata": {
        "id": "VhzoVfhcA22B"
      },
      "source": [
        "sns.violinplot(x = 'day', y = 'total_bill', data = tips)\r\n",
        "plt.title('violin plot')\r\n",
        "plt.show()"
      ],
      "execution_count": 5,
      "outputs": []
    },
    {
      "cell_type": "code",
      "metadata": {
        "id": "75GRYUu-ArqY"
      },
      "source": [
        ""
      ],
      "execution_count": null,
      "outputs": []
    }
  ]
}