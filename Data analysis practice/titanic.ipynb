{
  "nbformat": 4,
  "nbformat_minor": 0,
  "metadata": {
    "colab": {
      "name": "titanic.ipynb",
      "provenance": []
    },
    "kernelspec": {
      "name": "python3",
      "display_name": "Python 3"
    }
  },
  "cells": [
    {
      "cell_type": "markdown",
      "metadata": {
        "id": "kDrL2djCYHNo"
      },
      "source": [
        "**` 들어가기 전, 본 파일은 타이타닉 데이터 셋을 활용하여 전처리 및 예측을 해보는 연습을 하는 것으로서 현재 통계적 지식이 부족하고 머신러닝 기법적인 지식이 없으므로 결측치 처리 및 모델 사용에 있어서 다소 부족할 수 있으며 pandas, matplot, seaborn 에 대해 한번 정독후 바로 시작한 입문자의 미니 프로젝트로서 봐주면 될 것 같습니다,    ★★어떠한 조언 및 지적 좋게 받겠습니다 *^^* ★★ `**"
      ]
    },
    {
      "cell_type": "markdown",
      "metadata": {
        "id": "NkeaFgmVmOgd"
      },
      "source": [
        "# 1. 구글 드라이브 연동 및 데이터 불러오기"
      ]
    },
    {
      "cell_type": "code",
      "metadata": {
        "colab": {
          "base_uri": "https://localhost:8080/"
        },
        "id": "y-B4QmLzk66p",
        "outputId": "8ac57c9a-2cdf-4340-d372-926537888ee4"
      },
      "source": [
        "from google.colab import drive\r\n",
        "drive.mount('/content/Mydrive')"
      ],
      "execution_count": 1,
      "outputs": [
        {
          "output_type": "stream",
          "text": [
            "Drive already mounted at /content/Mydrive; to attempt to forcibly remount, call drive.mount(\"/content/Mydrive\", force_remount=True).\n"
          ],
          "name": "stdout"
        }
      ]
    },
    {
      "cell_type": "code",
      "metadata": {
        "id": "ZYIwm7OimGW-"
      },
      "source": [
        "import pandas as pd\r\n",
        "import numpy as np\r\n",
        "import matplotlib.pyplot as plt\r\n",
        "import seaborn as sns\r\n",
        "\r\n",
        "# kaggle 사이트에서  다운을 받은후 구글드라이브에 저장하고 불러오는 방식\r\n",
        "train = pd.read_csv('/content/Mydrive/MyDrive/datascience/train.csv')\r\n",
        "test = pd.read_csv('/content/Mydrive/MyDrive/datascience/test.csv')\r\n",
        "\r\n",
        "# seaborn에서 데이터 셋 불러오는 방식\r\n",
        "# titanic = sns.load_dataset('titanic')"
      ],
      "execution_count": 2,
      "outputs": []
    },
    {
      "cell_type": "markdown",
      "metadata": {
        "id": "RFnJ4_OrmvHj"
      },
      "source": [
        "# 2. 데이터 확인하기 "
      ]
    },
    {
      "cell_type": "markdown",
      "metadata": {
        "id": "P5bh98qz_QUy"
      },
      "source": [
        "## 1) 데이터 형태 확인"
      ]
    },
    {
      "cell_type": "code",
      "metadata": {
        "colab": {
          "base_uri": "https://localhost:8080/",
          "height": 484
        },
        "id": "d7pk8PgQmpQr",
        "outputId": "88c5b449-f2d4-429c-a70c-35e07be24267"
      },
      "source": [
        "train.head()"
      ],
      "execution_count": 3,
      "outputs": [
        {
          "output_type": "execute_result",
          "data": {
            "text/html": [
              "<div>\n",
              "<style scoped>\n",
              "    .dataframe tbody tr th:only-of-type {\n",
              "        vertical-align: middle;\n",
              "    }\n",
              "\n",
              "    .dataframe tbody tr th {\n",
              "        vertical-align: top;\n",
              "    }\n",
              "\n",
              "    .dataframe thead th {\n",
              "        text-align: right;\n",
              "    }\n",
              "</style>\n",
              "<table border=\"1\" class=\"dataframe\">\n",
              "  <thead>\n",
              "    <tr style=\"text-align: right;\">\n",
              "      <th></th>\n",
              "      <th>PassengerId</th>\n",
              "      <th>Survived</th>\n",
              "      <th>Pclass</th>\n",
              "      <th>Name</th>\n",
              "      <th>Sex</th>\n",
              "      <th>Age</th>\n",
              "      <th>SibSp</th>\n",
              "      <th>Parch</th>\n",
              "      <th>Ticket</th>\n",
              "      <th>Fare</th>\n",
              "      <th>Cabin</th>\n",
              "      <th>Embarked</th>\n",
              "    </tr>\n",
              "  </thead>\n",
              "  <tbody>\n",
              "    <tr>\n",
              "      <th>0</th>\n",
              "      <td>1</td>\n",
              "      <td>0</td>\n",
              "      <td>3</td>\n",
              "      <td>Braund, Mr. Owen Harris</td>\n",
              "      <td>male</td>\n",
              "      <td>22.0</td>\n",
              "      <td>1</td>\n",
              "      <td>0</td>\n",
              "      <td>A/5 21171</td>\n",
              "      <td>7.2500</td>\n",
              "      <td>NaN</td>\n",
              "      <td>S</td>\n",
              "    </tr>\n",
              "    <tr>\n",
              "      <th>1</th>\n",
              "      <td>2</td>\n",
              "      <td>1</td>\n",
              "      <td>1</td>\n",
              "      <td>Cumings, Mrs. John Bradley (Florence Briggs Th...</td>\n",
              "      <td>female</td>\n",
              "      <td>38.0</td>\n",
              "      <td>1</td>\n",
              "      <td>0</td>\n",
              "      <td>PC 17599</td>\n",
              "      <td>71.2833</td>\n",
              "      <td>C85</td>\n",
              "      <td>C</td>\n",
              "    </tr>\n",
              "    <tr>\n",
              "      <th>2</th>\n",
              "      <td>3</td>\n",
              "      <td>1</td>\n",
              "      <td>3</td>\n",
              "      <td>Heikkinen, Miss. Laina</td>\n",
              "      <td>female</td>\n",
              "      <td>26.0</td>\n",
              "      <td>0</td>\n",
              "      <td>0</td>\n",
              "      <td>STON/O2. 3101282</td>\n",
              "      <td>7.9250</td>\n",
              "      <td>NaN</td>\n",
              "      <td>S</td>\n",
              "    </tr>\n",
              "    <tr>\n",
              "      <th>3</th>\n",
              "      <td>4</td>\n",
              "      <td>1</td>\n",
              "      <td>1</td>\n",
              "      <td>Futrelle, Mrs. Jacques Heath (Lily May Peel)</td>\n",
              "      <td>female</td>\n",
              "      <td>35.0</td>\n",
              "      <td>1</td>\n",
              "      <td>0</td>\n",
              "      <td>113803</td>\n",
              "      <td>53.1000</td>\n",
              "      <td>C123</td>\n",
              "      <td>S</td>\n",
              "    </tr>\n",
              "    <tr>\n",
              "      <th>4</th>\n",
              "      <td>5</td>\n",
              "      <td>0</td>\n",
              "      <td>3</td>\n",
              "      <td>Allen, Mr. William Henry</td>\n",
              "      <td>male</td>\n",
              "      <td>35.0</td>\n",
              "      <td>0</td>\n",
              "      <td>0</td>\n",
              "      <td>373450</td>\n",
              "      <td>8.0500</td>\n",
              "      <td>NaN</td>\n",
              "      <td>S</td>\n",
              "    </tr>\n",
              "  </tbody>\n",
              "</table>\n",
              "</div>"
            ],
            "text/plain": [
              "   PassengerId  Survived  Pclass  ...     Fare Cabin  Embarked\n",
              "0            1         0       3  ...   7.2500   NaN         S\n",
              "1            2         1       1  ...  71.2833   C85         C\n",
              "2            3         1       3  ...   7.9250   NaN         S\n",
              "3            4         1       1  ...  53.1000  C123         S\n",
              "4            5         0       3  ...   8.0500   NaN         S\n",
              "\n",
              "[5 rows x 12 columns]"
            ]
          },
          "metadata": {
            "tags": []
          },
          "execution_count": 3
        }
      ]
    },
    {
      "cell_type": "code",
      "metadata": {
        "colab": {
          "base_uri": "https://localhost:8080/",
          "height": 397
        },
        "id": "nSYxVzm_mtgS",
        "outputId": "3e8982f4-a669-47bf-8f23-b313b21fbb41"
      },
      "source": [
        "test.head()"
      ],
      "execution_count": 4,
      "outputs": [
        {
          "output_type": "execute_result",
          "data": {
            "text/html": [
              "<div>\n",
              "<style scoped>\n",
              "    .dataframe tbody tr th:only-of-type {\n",
              "        vertical-align: middle;\n",
              "    }\n",
              "\n",
              "    .dataframe tbody tr th {\n",
              "        vertical-align: top;\n",
              "    }\n",
              "\n",
              "    .dataframe thead th {\n",
              "        text-align: right;\n",
              "    }\n",
              "</style>\n",
              "<table border=\"1\" class=\"dataframe\">\n",
              "  <thead>\n",
              "    <tr style=\"text-align: right;\">\n",
              "      <th></th>\n",
              "      <th>PassengerId</th>\n",
              "      <th>Pclass</th>\n",
              "      <th>Name</th>\n",
              "      <th>Sex</th>\n",
              "      <th>Age</th>\n",
              "      <th>SibSp</th>\n",
              "      <th>Parch</th>\n",
              "      <th>Ticket</th>\n",
              "      <th>Fare</th>\n",
              "      <th>Cabin</th>\n",
              "      <th>Embarked</th>\n",
              "    </tr>\n",
              "  </thead>\n",
              "  <tbody>\n",
              "    <tr>\n",
              "      <th>0</th>\n",
              "      <td>892</td>\n",
              "      <td>3</td>\n",
              "      <td>Kelly, Mr. James</td>\n",
              "      <td>male</td>\n",
              "      <td>34.5</td>\n",
              "      <td>0</td>\n",
              "      <td>0</td>\n",
              "      <td>330911</td>\n",
              "      <td>7.8292</td>\n",
              "      <td>NaN</td>\n",
              "      <td>Q</td>\n",
              "    </tr>\n",
              "    <tr>\n",
              "      <th>1</th>\n",
              "      <td>893</td>\n",
              "      <td>3</td>\n",
              "      <td>Wilkes, Mrs. James (Ellen Needs)</td>\n",
              "      <td>female</td>\n",
              "      <td>47.0</td>\n",
              "      <td>1</td>\n",
              "      <td>0</td>\n",
              "      <td>363272</td>\n",
              "      <td>7.0000</td>\n",
              "      <td>NaN</td>\n",
              "      <td>S</td>\n",
              "    </tr>\n",
              "    <tr>\n",
              "      <th>2</th>\n",
              "      <td>894</td>\n",
              "      <td>2</td>\n",
              "      <td>Myles, Mr. Thomas Francis</td>\n",
              "      <td>male</td>\n",
              "      <td>62.0</td>\n",
              "      <td>0</td>\n",
              "      <td>0</td>\n",
              "      <td>240276</td>\n",
              "      <td>9.6875</td>\n",
              "      <td>NaN</td>\n",
              "      <td>Q</td>\n",
              "    </tr>\n",
              "    <tr>\n",
              "      <th>3</th>\n",
              "      <td>895</td>\n",
              "      <td>3</td>\n",
              "      <td>Wirz, Mr. Albert</td>\n",
              "      <td>male</td>\n",
              "      <td>27.0</td>\n",
              "      <td>0</td>\n",
              "      <td>0</td>\n",
              "      <td>315154</td>\n",
              "      <td>8.6625</td>\n",
              "      <td>NaN</td>\n",
              "      <td>S</td>\n",
              "    </tr>\n",
              "    <tr>\n",
              "      <th>4</th>\n",
              "      <td>896</td>\n",
              "      <td>3</td>\n",
              "      <td>Hirvonen, Mrs. Alexander (Helga E Lindqvist)</td>\n",
              "      <td>female</td>\n",
              "      <td>22.0</td>\n",
              "      <td>1</td>\n",
              "      <td>1</td>\n",
              "      <td>3101298</td>\n",
              "      <td>12.2875</td>\n",
              "      <td>NaN</td>\n",
              "      <td>S</td>\n",
              "    </tr>\n",
              "  </tbody>\n",
              "</table>\n",
              "</div>"
            ],
            "text/plain": [
              "   PassengerId  Pclass  ... Cabin Embarked\n",
              "0          892       3  ...   NaN        Q\n",
              "1          893       3  ...   NaN        S\n",
              "2          894       2  ...   NaN        Q\n",
              "3          895       3  ...   NaN        S\n",
              "4          896       3  ...   NaN        S\n",
              "\n",
              "[5 rows x 11 columns]"
            ]
          },
          "metadata": {
            "tags": []
          },
          "execution_count": 4
        }
      ]
    },
    {
      "cell_type": "code",
      "metadata": {
        "colab": {
          "base_uri": "https://localhost:8080/",
          "height": 284
        },
        "id": "b7f6OkgNmt5q",
        "outputId": "ec5a4fe3-2dcc-47af-8a89-0298c37d77ee"
      },
      "source": [
        "# pclass를 보면 3등급인 승객이 가장 많다고 생각해 볼 수 있다.\r\n",
        "train.describe()"
      ],
      "execution_count": 5,
      "outputs": [
        {
          "output_type": "execute_result",
          "data": {
            "text/html": [
              "<div>\n",
              "<style scoped>\n",
              "    .dataframe tbody tr th:only-of-type {\n",
              "        vertical-align: middle;\n",
              "    }\n",
              "\n",
              "    .dataframe tbody tr th {\n",
              "        vertical-align: top;\n",
              "    }\n",
              "\n",
              "    .dataframe thead th {\n",
              "        text-align: right;\n",
              "    }\n",
              "</style>\n",
              "<table border=\"1\" class=\"dataframe\">\n",
              "  <thead>\n",
              "    <tr style=\"text-align: right;\">\n",
              "      <th></th>\n",
              "      <th>PassengerId</th>\n",
              "      <th>Survived</th>\n",
              "      <th>Pclass</th>\n",
              "      <th>Age</th>\n",
              "      <th>SibSp</th>\n",
              "      <th>Parch</th>\n",
              "      <th>Fare</th>\n",
              "    </tr>\n",
              "  </thead>\n",
              "  <tbody>\n",
              "    <tr>\n",
              "      <th>count</th>\n",
              "      <td>891.000000</td>\n",
              "      <td>891.000000</td>\n",
              "      <td>891.000000</td>\n",
              "      <td>714.000000</td>\n",
              "      <td>891.000000</td>\n",
              "      <td>891.000000</td>\n",
              "      <td>891.000000</td>\n",
              "    </tr>\n",
              "    <tr>\n",
              "      <th>mean</th>\n",
              "      <td>446.000000</td>\n",
              "      <td>0.383838</td>\n",
              "      <td>2.308642</td>\n",
              "      <td>29.699118</td>\n",
              "      <td>0.523008</td>\n",
              "      <td>0.381594</td>\n",
              "      <td>32.204208</td>\n",
              "    </tr>\n",
              "    <tr>\n",
              "      <th>std</th>\n",
              "      <td>257.353842</td>\n",
              "      <td>0.486592</td>\n",
              "      <td>0.836071</td>\n",
              "      <td>14.526497</td>\n",
              "      <td>1.102743</td>\n",
              "      <td>0.806057</td>\n",
              "      <td>49.693429</td>\n",
              "    </tr>\n",
              "    <tr>\n",
              "      <th>min</th>\n",
              "      <td>1.000000</td>\n",
              "      <td>0.000000</td>\n",
              "      <td>1.000000</td>\n",
              "      <td>0.420000</td>\n",
              "      <td>0.000000</td>\n",
              "      <td>0.000000</td>\n",
              "      <td>0.000000</td>\n",
              "    </tr>\n",
              "    <tr>\n",
              "      <th>25%</th>\n",
              "      <td>223.500000</td>\n",
              "      <td>0.000000</td>\n",
              "      <td>2.000000</td>\n",
              "      <td>20.125000</td>\n",
              "      <td>0.000000</td>\n",
              "      <td>0.000000</td>\n",
              "      <td>7.910400</td>\n",
              "    </tr>\n",
              "    <tr>\n",
              "      <th>50%</th>\n",
              "      <td>446.000000</td>\n",
              "      <td>0.000000</td>\n",
              "      <td>3.000000</td>\n",
              "      <td>28.000000</td>\n",
              "      <td>0.000000</td>\n",
              "      <td>0.000000</td>\n",
              "      <td>14.454200</td>\n",
              "    </tr>\n",
              "    <tr>\n",
              "      <th>75%</th>\n",
              "      <td>668.500000</td>\n",
              "      <td>1.000000</td>\n",
              "      <td>3.000000</td>\n",
              "      <td>38.000000</td>\n",
              "      <td>1.000000</td>\n",
              "      <td>0.000000</td>\n",
              "      <td>31.000000</td>\n",
              "    </tr>\n",
              "    <tr>\n",
              "      <th>max</th>\n",
              "      <td>891.000000</td>\n",
              "      <td>1.000000</td>\n",
              "      <td>3.000000</td>\n",
              "      <td>80.000000</td>\n",
              "      <td>8.000000</td>\n",
              "      <td>6.000000</td>\n",
              "      <td>512.329200</td>\n",
              "    </tr>\n",
              "  </tbody>\n",
              "</table>\n",
              "</div>"
            ],
            "text/plain": [
              "       PassengerId    Survived      Pclass  ...       SibSp       Parch        Fare\n",
              "count   891.000000  891.000000  891.000000  ...  891.000000  891.000000  891.000000\n",
              "mean    446.000000    0.383838    2.308642  ...    0.523008    0.381594   32.204208\n",
              "std     257.353842    0.486592    0.836071  ...    1.102743    0.806057   49.693429\n",
              "min       1.000000    0.000000    1.000000  ...    0.000000    0.000000    0.000000\n",
              "25%     223.500000    0.000000    2.000000  ...    0.000000    0.000000    7.910400\n",
              "50%     446.000000    0.000000    3.000000  ...    0.000000    0.000000   14.454200\n",
              "75%     668.500000    1.000000    3.000000  ...    1.000000    0.000000   31.000000\n",
              "max     891.000000    1.000000    3.000000  ...    8.000000    6.000000  512.329200\n",
              "\n",
              "[8 rows x 7 columns]"
            ]
          },
          "metadata": {
            "tags": []
          },
          "execution_count": 5
        }
      ]
    },
    {
      "cell_type": "code",
      "metadata": {
        "colab": {
          "base_uri": "https://localhost:8080/",
          "height": 166
        },
        "id": "k3JaqaNnoHe9",
        "outputId": "06aeca44-8eee-4f0b-c758-85a5bf0af06d"
      },
      "source": [
        "test.describe(include='O')"
      ],
      "execution_count": 6,
      "outputs": [
        {
          "output_type": "execute_result",
          "data": {
            "text/html": [
              "<div>\n",
              "<style scoped>\n",
              "    .dataframe tbody tr th:only-of-type {\n",
              "        vertical-align: middle;\n",
              "    }\n",
              "\n",
              "    .dataframe tbody tr th {\n",
              "        vertical-align: top;\n",
              "    }\n",
              "\n",
              "    .dataframe thead th {\n",
              "        text-align: right;\n",
              "    }\n",
              "</style>\n",
              "<table border=\"1\" class=\"dataframe\">\n",
              "  <thead>\n",
              "    <tr style=\"text-align: right;\">\n",
              "      <th></th>\n",
              "      <th>Name</th>\n",
              "      <th>Sex</th>\n",
              "      <th>Ticket</th>\n",
              "      <th>Cabin</th>\n",
              "      <th>Embarked</th>\n",
              "    </tr>\n",
              "  </thead>\n",
              "  <tbody>\n",
              "    <tr>\n",
              "      <th>count</th>\n",
              "      <td>418</td>\n",
              "      <td>418</td>\n",
              "      <td>418</td>\n",
              "      <td>91</td>\n",
              "      <td>418</td>\n",
              "    </tr>\n",
              "    <tr>\n",
              "      <th>unique</th>\n",
              "      <td>418</td>\n",
              "      <td>2</td>\n",
              "      <td>363</td>\n",
              "      <td>76</td>\n",
              "      <td>3</td>\n",
              "    </tr>\n",
              "    <tr>\n",
              "      <th>top</th>\n",
              "      <td>Herman, Miss. Kate</td>\n",
              "      <td>male</td>\n",
              "      <td>PC 17608</td>\n",
              "      <td>B57 B59 B63 B66</td>\n",
              "      <td>S</td>\n",
              "    </tr>\n",
              "    <tr>\n",
              "      <th>freq</th>\n",
              "      <td>1</td>\n",
              "      <td>266</td>\n",
              "      <td>5</td>\n",
              "      <td>3</td>\n",
              "      <td>270</td>\n",
              "    </tr>\n",
              "  </tbody>\n",
              "</table>\n",
              "</div>"
            ],
            "text/plain": [
              "                      Name   Sex    Ticket            Cabin Embarked\n",
              "count                  418   418       418               91      418\n",
              "unique                 418     2       363               76        3\n",
              "top     Herman, Miss. Kate  male  PC 17608  B57 B59 B63 B66        S\n",
              "freq                     1   266         5                3      270"
            ]
          },
          "metadata": {
            "tags": []
          },
          "execution_count": 6
        }
      ]
    },
    {
      "cell_type": "code",
      "metadata": {
        "colab": {
          "base_uri": "https://localhost:8080/"
        },
        "id": "ChC94BqMoJNO",
        "outputId": "d439a609-5c5a-4a2a-ffa2-53f77bb38ef8"
      },
      "source": [
        "# Age 와 Cabin 그리고 Embarked 이렇게 세개의 데이터에 nan값이 있다는 것을 알 수 있따.\r\n",
        "train.info()"
      ],
      "execution_count": 7,
      "outputs": [
        {
          "output_type": "stream",
          "text": [
            "<class 'pandas.core.frame.DataFrame'>\n",
            "RangeIndex: 891 entries, 0 to 890\n",
            "Data columns (total 12 columns):\n",
            " #   Column       Non-Null Count  Dtype  \n",
            "---  ------       --------------  -----  \n",
            " 0   PassengerId  891 non-null    int64  \n",
            " 1   Survived     891 non-null    int64  \n",
            " 2   Pclass       891 non-null    int64  \n",
            " 3   Name         891 non-null    object \n",
            " 4   Sex          891 non-null    object \n",
            " 5   Age          714 non-null    float64\n",
            " 6   SibSp        891 non-null    int64  \n",
            " 7   Parch        891 non-null    int64  \n",
            " 8   Ticket       891 non-null    object \n",
            " 9   Fare         891 non-null    float64\n",
            " 10  Cabin        204 non-null    object \n",
            " 11  Embarked     889 non-null    object \n",
            "dtypes: float64(2), int64(5), object(5)\n",
            "memory usage: 83.7+ KB\n"
          ],
          "name": "stdout"
        }
      ]
    },
    {
      "cell_type": "code",
      "metadata": {
        "colab": {
          "base_uri": "https://localhost:8080/"
        },
        "id": "qGKCGgGToYmA",
        "outputId": "12ab81e9-19b3-43d9-e909-172043852085"
      },
      "source": [
        "test.info()"
      ],
      "execution_count": 8,
      "outputs": [
        {
          "output_type": "stream",
          "text": [
            "<class 'pandas.core.frame.DataFrame'>\n",
            "RangeIndex: 418 entries, 0 to 417\n",
            "Data columns (total 11 columns):\n",
            " #   Column       Non-Null Count  Dtype  \n",
            "---  ------       --------------  -----  \n",
            " 0   PassengerId  418 non-null    int64  \n",
            " 1   Pclass       418 non-null    int64  \n",
            " 2   Name         418 non-null    object \n",
            " 3   Sex          418 non-null    object \n",
            " 4   Age          332 non-null    float64\n",
            " 5   SibSp        418 non-null    int64  \n",
            " 6   Parch        418 non-null    int64  \n",
            " 7   Ticket       418 non-null    object \n",
            " 8   Fare         417 non-null    float64\n",
            " 9   Cabin        91 non-null     object \n",
            " 10  Embarked     418 non-null    object \n",
            "dtypes: float64(2), int64(4), object(5)\n",
            "memory usage: 36.0+ KB\n"
          ],
          "name": "stdout"
        }
      ]
    },
    {
      "cell_type": "markdown",
      "metadata": {
        "id": "2WrwwVXkpjph"
      },
      "source": [
        "## 2) 전처리 이전 데이터 셋의 시각화"
      ]
    },
    {
      "cell_type": "markdown",
      "metadata": {
        "id": "GDCa3YcU0UAr"
      },
      "source": [
        "#### a. 성별에 따른 생존 비교\r\n",
        "\r\n",
        "* 여성이 남성보다 생존을 하기에 유리했다.\r\n"
      ]
    },
    {
      "cell_type": "code",
      "metadata": {
        "colab": {
          "base_uri": "https://localhost:8080/",
          "height": 297
        },
        "id": "gC0JK5QYpjdR",
        "outputId": "5629bd40-115a-483d-b79d-96ef681ee569"
      },
      "source": [
        "pre_sex = sns.countplot(data= train, x = 'Sex', hue = 'Survived')\r\n",
        "pre_sex"
      ],
      "execution_count": 9,
      "outputs": [
        {
          "output_type": "execute_result",
          "data": {
            "text/plain": [
              "<matplotlib.axes._subplots.AxesSubplot at 0x7f249df30b38>"
            ]
          },
          "metadata": {
            "tags": []
          },
          "execution_count": 9
        },
        {
          "output_type": "display_data",
          "data": {
            "image/png": "[encoded data removed]",
            "text/plain": [
              "<Figure size 432x288 with 1 Axes>"
            ]
          },
          "metadata": {
            "tags": [],
            "needs_background": "light"
          }
        }
      ]
    },
    {
      "cell_type": "markdown",
      "metadata": {
        "id": "z1SnwVt89UzX"
      },
      "source": [
        "#### b. 티켓 등급에 따른 생존 비교\r\n",
        "\r\n",
        "* 1등급이 가장 많이 생존했으며 가장 적은 승객이 죽었다"
      ]
    },
    {
      "cell_type": "code",
      "metadata": {
        "colab": {
          "base_uri": "https://localhost:8080/",
          "height": 297
        },
        "id": "P8jMQ28RoZt4",
        "outputId": "654ea98c-d2db-4b59-c4dc-2124b3be2224"
      },
      "source": [
        "pre_pclass = sns.countplot(data = train, x = 'Pclass', hue = 'Survived')\r\n",
        "pre_pclass"
      ],
      "execution_count": 10,
      "outputs": [
        {
          "output_type": "execute_result",
          "data": {
            "text/plain": [
              "<matplotlib.axes._subplots.AxesSubplot at 0x7f249d1b3080>"
            ]
          },
          "metadata": {
            "tags": []
          },
          "execution_count": 10
        },
        {
          "output_type": "display_data",
          "data": {
            "image/png": "[encoded data removed]",
            "text/plain": [
              "<Figure size 432x288 with 1 Axes>"
            ]
          },
          "metadata": {
            "tags": [],
            "needs_background": "light"
          }
        }
      ]
    },
    {
      "cell_type": "markdown",
      "metadata": {
        "id": "nSuvFOUC9pXP"
      },
      "source": [
        "#### c. 나이에 따른 생존 비교\r\n",
        "\r\n",
        "* 나이는 추가적인 전처리가 필요할것 같다. "
      ]
    },
    {
      "cell_type": "code",
      "metadata": {
        "colab": {
          "base_uri": "https://localhost:8080/",
          "height": 506
        },
        "id": "hoNy_Vv79q0b",
        "outputId": "1fa2528a-b714-4c90-b3f1-3d670121bd1b"
      },
      "source": [
        "plt.figure(figsize = (12, 6))\r\n",
        "pre_age = sns.countplot(data = train, x = 'Age', hue = 'Survived')\r\n",
        "pre_age\r\n",
        "plt.xticks(rotation = 90)"
      ],
      "execution_count": 11,
      "outputs": [
        {
          "output_type": "execute_result",
          "data": {
            "text/plain": [
              "(array([ 0,  1,  2,  3,  4,  5,  6,  7,  8,  9, 10, 11, 12, 13, 14, 15, 16,\n",
              "        17, 18, 19, 20, 21, 22, 23, 24, 25, 26, 27, 28, 29, 30, 31, 32, 33,\n",
              "        34, 35, 36, 37, 38, 39, 40, 41, 42, 43, 44, 45, 46, 47, 48, 49, 50,\n",
              "        51, 52, 53, 54, 55, 56, 57, 58, 59, 60, 61, 62, 63, 64, 65, 66, 67,\n",
              "        68, 69, 70, 71, 72, 73, 74, 75, 76, 77, 78, 79, 80, 81, 82, 83, 84,\n",
              "        85, 86, 87]), <a list of 88 Text major ticklabel objects>)"
            ]
          },
          "metadata": {
            "tags": []
          },
          "execution_count": 11
        },
        {
          "output_type": "display_data",
          "data": {
            "image/png": "[encoded data removed]",
            "text/plain": [
              "<Figure size 864x432 with 1 Axes>"
            ]
          },
          "metadata": {
            "tags": [],
            "needs_background": "light"
          }
        }
      ]
    },
    {
      "cell_type": "markdown",
      "metadata": {
        "id": "Eu0yQp8m-3eC"
      },
      "source": [
        "# 3. 데이터 전처리 "
      ]
    },
    {
      "cell_type": "markdown",
      "metadata": {
        "id": "-llLP5sOH4GW"
      },
      "source": [
        "## Data Cleaning(데이터 정제)"
      ]
    },
    {
      "cell_type": "code",
      "metadata": {
        "colab": {
          "base_uri": "https://localhost:8080/"
        },
        "id": "6UdoUI3E9xcu",
        "outputId": "061344ed-cdc3-466b-bb77-ef6c358e6706"
      },
      "source": [
        "train.info()"
      ],
      "execution_count": 12,
      "outputs": [
        {
          "output_type": "stream",
          "text": [
            "<class 'pandas.core.frame.DataFrame'>\n",
            "RangeIndex: 891 entries, 0 to 890\n",
            "Data columns (total 12 columns):\n",
            " #   Column       Non-Null Count  Dtype  \n",
            "---  ------       --------------  -----  \n",
            " 0   PassengerId  891 non-null    int64  \n",
            " 1   Survived     891 non-null    int64  \n",
            " 2   Pclass       891 non-null    int64  \n",
            " 3   Name         891 non-null    object \n",
            " 4   Sex          891 non-null    object \n",
            " 5   Age          714 non-null    float64\n",
            " 6   SibSp        891 non-null    int64  \n",
            " 7   Parch        891 non-null    int64  \n",
            " 8   Ticket       891 non-null    object \n",
            " 9   Fare         891 non-null    float64\n",
            " 10  Cabin        204 non-null    object \n",
            " 11  Embarked     889 non-null    object \n",
            "dtypes: float64(2), int64(5), object(5)\n",
            "memory usage: 83.7+ KB\n"
          ],
          "name": "stdout"
        }
      ]
    },
    {
      "cell_type": "markdown",
      "metadata": {
        "id": "PSibtBxUIOVM"
      },
      "source": [
        "#### a. Age의 nan값 처리."
      ]
    },
    {
      "cell_type": "markdown",
      "metadata": {
        "id": "iIb9y7rDJWL7"
      },
      "source": [
        " `평균 + 표준편차값을 Age의 nan값에 채워 주기로 했다.`\r\n",
        " \r\n",
        " `why?. 평균의 데이터를 넣기에는 평균 데이터가 \r\n",
        " 급격하게 증가하기 때문에 0이나 평균이 아닌 평균+표준편차를 사용 , 또한 이렇게 하게 되면 평균에 대한 값은 크게 변함이 없으면서도 어느정도 범위안에서 고르게 분포가 되기 때문에 최선의 방법이라고 생각`"
      ]
    },
    {
      "cell_type": "code",
      "metadata": {
        "colab": {
          "base_uri": "https://localhost:8080/"
        },
        "id": "48GxDCg7_isC",
        "outputId": "acde4f3b-f10a-48f1-e49a-1957f193dc8e"
      },
      "source": [
        "# 평균 + 표준편차값을 Age의 nan값에 채워 주기로 했다.\r\n",
        "# why?. 평균의 데이터를 넣기에는 평균치의 데이터가 \r\n",
        "# 급격하게 증가하기 때문에 0이나 평균이 아닌 평균+표준편차를 사용 \r\n",
        "age_size = train['Age'].isna().sum()\r\n",
        "age_mean = train['Age'].mean()\r\n",
        "age_std = train['Age'].std()\r\n",
        "\r\n",
        "np.random.seed(26)\r\n",
        "fill_age = abs(np.random.randn(age_size)) * age_std + age_mean\r\n",
        "fill_age"
      ],
      "execution_count": 13,
      "outputs": [
        {
          "output_type": "execute_result",
          "data": {
            "text/plain": [
              "array([32.54621251, 57.89848304, 40.06792051, 39.31781096, 33.02368264,\n",
              "       33.6467053 , 30.12138768, 55.25968247, 41.23723196, 38.74364171,\n",
              "       32.01377409, 48.7913443 , 43.59017575, 41.26352754, 43.13922641,\n",
              "       44.69013159, 38.18745068, 69.58779375, 36.92778185, 60.03205587,\n",
              "       30.69890534, 33.67411562, 43.78886034, 44.85793521, 50.88394374,\n",
              "       38.16271723, 38.98946901, 32.80174725, 34.07958391, 41.46937955,\n",
              "       44.70966284, 46.49881349, 39.00323167, 35.25321083, 57.64550967,\n",
              "       51.18498306, 46.15191233, 32.50383598, 33.56792943, 40.41070255,\n",
              "       33.92674942, 35.70535862, 35.29944286, 33.3798157 , 38.17155325,\n",
              "       40.21598593, 30.46128244, 49.52618009, 30.37534986, 41.87813481,\n",
              "       33.94707731, 34.85996079, 33.75720744, 41.67859335, 30.23251118,\n",
              "       38.84372406, 31.26138283, 60.38479416, 32.61498256, 30.52829239,\n",
              "       43.48051063, 46.1347935 , 32.74303121, 62.26438839, 52.30087717,\n",
              "       38.47895949, 31.42084515, 45.87747138, 35.82843399, 56.37539175,\n",
              "       32.27681469, 35.18407702, 30.72305015, 29.93532497, 52.03561283,\n",
              "       44.34030162, 32.70126369, 34.80861389, 31.49872792, 29.90102685,\n",
              "       48.16276385, 38.97107832, 43.53956851, 44.66341742, 41.29309474,\n",
              "       48.67990542, 30.85231159, 52.25370023, 40.09754177, 35.07071997,\n",
              "       32.52284543, 45.91510946, 49.5909222 , 35.9185696 , 60.28749978,\n",
              "       43.33983909, 52.96383106, 36.94345491, 34.67285112, 39.23564006,\n",
              "       31.01692314, 39.4732058 , 43.07170347, 30.1758714 , 58.34479677,\n",
              "       54.28003938, 30.4793068 , 54.93544659, 46.53254459, 36.72671738,\n",
              "       35.50187051, 34.65128346, 35.53186525, 40.07784186, 31.10072315,\n",
              "       38.81136557, 38.05054542, 36.9786751 , 32.06029089, 29.70208262,\n",
              "       59.95326938, 35.41593798, 49.12170364, 57.50692029, 33.14870383,\n",
              "       30.96459914, 53.4560651 , 53.15595114, 38.17709563, 36.01444354,\n",
              "       42.98806854, 37.81941711, 42.17038537, 32.18847729, 47.13311343,\n",
              "       43.09393024, 37.01971897, 33.74542396, 31.47887509, 46.51439692,\n",
              "       32.6011739 , 42.01279321, 38.94295694, 40.6288462 , 32.58727171,\n",
              "       43.86720834, 50.8645547 , 32.58390528, 30.23450568, 43.40073433,\n",
              "       59.31674719, 39.93382072, 32.36590014, 39.54919063, 45.41336261,\n",
              "       38.72580487, 40.40380514, 36.24463127, 50.60877832, 39.81025757,\n",
              "       39.65778612, 40.01263209, 45.46745779, 53.19055269, 35.41789065,\n",
              "       40.15862527, 41.24747693, 36.2960264 , 48.93909838, 31.43440559,\n",
              "       41.55303013, 29.86832518, 45.20949555, 40.79115505, 47.03958981,\n",
              "       37.08409017, 51.95353137])"
            ]
          },
          "metadata": {
            "tags": []
          },
          "execution_count": 13
        }
      ]
    },
    {
      "cell_type": "code",
      "metadata": {
        "colab": {
          "base_uri": "https://localhost:8080/"
        },
        "id": "dW-sS0ofIvU6",
        "outputId": "74246841-015d-413c-c46d-7cc5d41a5964"
      },
      "source": [
        "train.loc[train['Age'].isna(), 'Age'] = fill_age\r\n",
        "train['Age'].isna().sum()"
      ],
      "execution_count": 14,
      "outputs": [
        {
          "output_type": "execute_result",
          "data": {
            "text/plain": [
              "0"
            ]
          },
          "metadata": {
            "tags": []
          },
          "execution_count": 14
        }
      ]
    },
    {
      "cell_type": "code",
      "metadata": {
        "colab": {
          "base_uri": "https://localhost:8080/"
        },
        "id": "Mez04Gg1LQWa",
        "outputId": "7c98ef0c-6676-416e-df4b-04426797d13b"
      },
      "source": [
        "train.info()"
      ],
      "execution_count": 15,
      "outputs": [
        {
          "output_type": "stream",
          "text": [
            "<class 'pandas.core.frame.DataFrame'>\n",
            "RangeIndex: 891 entries, 0 to 890\n",
            "Data columns (total 12 columns):\n",
            " #   Column       Non-Null Count  Dtype  \n",
            "---  ------       --------------  -----  \n",
            " 0   PassengerId  891 non-null    int64  \n",
            " 1   Survived     891 non-null    int64  \n",
            " 2   Pclass       891 non-null    int64  \n",
            " 3   Name         891 non-null    object \n",
            " 4   Sex          891 non-null    object \n",
            " 5   Age          891 non-null    float64\n",
            " 6   SibSp        891 non-null    int64  \n",
            " 7   Parch        891 non-null    int64  \n",
            " 8   Ticket       891 non-null    object \n",
            " 9   Fare         891 non-null    float64\n",
            " 10  Cabin        204 non-null    object \n",
            " 11  Embarked     889 non-null    object \n",
            "dtypes: float64(2), int64(5), object(5)\n",
            "memory usage: 83.7+ KB\n"
          ],
          "name": "stdout"
        }
      ]
    },
    {
      "cell_type": "markdown",
      "metadata": {
        "id": "nzDY5JqaLWBU"
      },
      "source": [
        "#### b. Cabin의 nan값 처리"
      ]
    },
    {
      "cell_type": "markdown",
      "metadata": {
        "id": "Ggjj564uLepK"
      },
      "source": [
        "` Cabin의 경우 nan값이 전체 891개의 데이터중 600개가 넘는 데이터가 포함되며 다른 컬럼으로부터 유추가 불가능 하기때문에 컬럼을 삭제 `"
      ]
    },
    {
      "cell_type": "code",
      "metadata": {
        "colab": {
          "base_uri": "https://localhost:8080/"
        },
        "id": "3Rqr2TVaLSfy",
        "outputId": "a2586dd6-8b66-4313-8f8b-0614e256b09a"
      },
      "source": [
        "train = train.drop('Cabin', axis = 1)\r\n",
        "train.info()"
      ],
      "execution_count": 16,
      "outputs": [
        {
          "output_type": "stream",
          "text": [
            "<class 'pandas.core.frame.DataFrame'>\n",
            "RangeIndex: 891 entries, 0 to 890\n",
            "Data columns (total 11 columns):\n",
            " #   Column       Non-Null Count  Dtype  \n",
            "---  ------       --------------  -----  \n",
            " 0   PassengerId  891 non-null    int64  \n",
            " 1   Survived     891 non-null    int64  \n",
            " 2   Pclass       891 non-null    int64  \n",
            " 3   Name         891 non-null    object \n",
            " 4   Sex          891 non-null    object \n",
            " 5   Age          891 non-null    float64\n",
            " 6   SibSp        891 non-null    int64  \n",
            " 7   Parch        891 non-null    int64  \n",
            " 8   Ticket       891 non-null    object \n",
            " 9   Fare         891 non-null    float64\n",
            " 10  Embarked     889 non-null    object \n",
            "dtypes: float64(2), int64(5), object(4)\n",
            "memory usage: 76.7+ KB\n"
          ],
          "name": "stdout"
        }
      ]
    },
    {
      "cell_type": "markdown",
      "metadata": {
        "id": "p4TyUe4-MEwX"
      },
      "source": [
        "#### c. Embarked의 nan값 처리"
      ]
    },
    {
      "cell_type": "markdown",
      "metadata": {
        "id": "YaJZ1-2KMJuO"
      },
      "source": [
        "` 이 데이터의 경우는 mode()를 통해 확인한 결과 최 빈값이 우월한 데이터가 있으며 오직 2개의 데이터가 누락되어 있으므로 가장 많은 데이터 셋으로 넣어준다 `"
      ]
    },
    {
      "cell_type": "code",
      "metadata": {
        "colab": {
          "base_uri": "https://localhost:8080/"
        },
        "id": "0jObPGg9MB4D",
        "outputId": "00030693-5329-4f62-e59a-a6b852395b13"
      },
      "source": [
        "train['Embarked'].mode()\r\n",
        "train['Embarked'].unique()"
      ],
      "execution_count": 17,
      "outputs": [
        {
          "output_type": "execute_result",
          "data": {
            "text/plain": [
              "array(['S', 'C', 'Q', nan], dtype=object)"
            ]
          },
          "metadata": {
            "tags": []
          },
          "execution_count": 17
        }
      ]
    },
    {
      "cell_type": "code",
      "metadata": {
        "colab": {
          "base_uri": "https://localhost:8080/"
        },
        "id": "vOPmE_LgPnNU",
        "outputId": "b6fb87a4-e825-4c65-dd30-cd44a4fe99bc"
      },
      "source": [
        "train['Embarked'] = train['Embarked'].fillna('S')\r\n",
        "train.info()"
      ],
      "execution_count": 18,
      "outputs": [
        {
          "output_type": "stream",
          "text": [
            "<class 'pandas.core.frame.DataFrame'>\n",
            "RangeIndex: 891 entries, 0 to 890\n",
            "Data columns (total 11 columns):\n",
            " #   Column       Non-Null Count  Dtype  \n",
            "---  ------       --------------  -----  \n",
            " 0   PassengerId  891 non-null    int64  \n",
            " 1   Survived     891 non-null    int64  \n",
            " 2   Pclass       891 non-null    int64  \n",
            " 3   Name         891 non-null    object \n",
            " 4   Sex          891 non-null    object \n",
            " 5   Age          891 non-null    float64\n",
            " 6   SibSp        891 non-null    int64  \n",
            " 7   Parch        891 non-null    int64  \n",
            " 8   Ticket       891 non-null    object \n",
            " 9   Fare         891 non-null    float64\n",
            " 10  Embarked     891 non-null    object \n",
            "dtypes: float64(2), int64(5), object(4)\n",
            "memory usage: 76.7+ KB\n"
          ],
          "name": "stdout"
        }
      ]
    },
    {
      "cell_type": "markdown",
      "metadata": {
        "id": "jW6yoBzDfPeS"
      },
      "source": [
        "이렇게 까지 하면 결측값들을 모두 채워둔 상태가 된다. \r\n",
        "\r\n",
        "이후는 모델에 넣기 위한 인코딩 작업을 해준다던가 중복되는 컬럼을 하나로 합치는 작업 및 필요없는 컬럼 축소 작업이 필요 할 것 같다"
      ]
    },
    {
      "cell_type": "markdown",
      "metadata": {
        "id": "qK8A3DIOX3Pn"
      },
      "source": [
        "#### d. Ticket 컬럼 제거"
      ]
    },
    {
      "cell_type": "code",
      "metadata": {
        "id": "w4zBmrm9X77G"
      },
      "source": [
        "# 해당 컬럼이 생존률과 연관이 없다고 판단\r\n",
        "train = train.drop('Ticket', axis =1)"
      ],
      "execution_count": 19,
      "outputs": []
    },
    {
      "cell_type": "markdown",
      "metadata": {
        "id": "PYdPQcnDhr-f"
      },
      "source": [
        "## 데이터 합치기"
      ]
    },
    {
      "cell_type": "markdown",
      "metadata": {
        "id": "3i8gGlREiLil"
      },
      "source": [
        "#### Sibsp + Parch = Alone\r\n"
      ]
    },
    {
      "cell_type": "markdown",
      "metadata": {
        "id": "g9loXB2UiVO7"
      },
      "source": [
        "Sibsp 와 Parch는 동승자 에 대한 데이터 이다. 따라서 동승자를 구간으로 나누어 인코딩 처리 하는것 보다 \"혼자 탑승, 여럿 탑승\" 으로 나누어 훨씬더 비교하기 쉬운 데이터로 만들어 줌. (두 개의 컬럼을 합쳐 새로운 컬럼 Alone으로 만들어준다.) "
      ]
    },
    {
      "cell_type": "code",
      "metadata": {
        "id": "OOUy4KSVce8D",
        "colab": {
          "base_uri": "https://localhost:8080/",
          "height": 330
        },
        "outputId": "9ec6b903-6029-49bc-f1a5-04cb776ec0e1"
      },
      "source": [
        "train.head()"
      ],
      "execution_count": 20,
      "outputs": [
        {
          "output_type": "execute_result",
          "data": {
            "text/html": [
              "<div>\n",
              "<style scoped>\n",
              "    .dataframe tbody tr th:only-of-type {\n",
              "        vertical-align: middle;\n",
              "    }\n",
              "\n",
              "    .dataframe tbody tr th {\n",
              "        vertical-align: top;\n",
              "    }\n",
              "\n",
              "    .dataframe thead th {\n",
              "        text-align: right;\n",
              "    }\n",
              "</style>\n",
              "<table border=\"1\" class=\"dataframe\">\n",
              "  <thead>\n",
              "    <tr style=\"text-align: right;\">\n",
              "      <th></th>\n",
              "      <th>PassengerId</th>\n",
              "      <th>Survived</th>\n",
              "      <th>Pclass</th>\n",
              "      <th>Name</th>\n",
              "      <th>Sex</th>\n",
              "      <th>Age</th>\n",
              "      <th>SibSp</th>\n",
              "      <th>Parch</th>\n",
              "      <th>Fare</th>\n",
              "      <th>Embarked</th>\n",
              "    </tr>\n",
              "  </thead>\n",
              "  <tbody>\n",
              "    <tr>\n",
              "      <th>0</th>\n",
              "      <td>1</td>\n",
              "      <td>0</td>\n",
              "      <td>3</td>\n",
              "      <td>Braund, Mr. Owen Harris</td>\n",
              "      <td>male</td>\n",
              "      <td>22.0</td>\n",
              "      <td>1</td>\n",
              "      <td>0</td>\n",
              "      <td>7.2500</td>\n",
              "      <td>S</td>\n",
              "    </tr>\n",
              "    <tr>\n",
              "      <th>1</th>\n",
              "      <td>2</td>\n",
              "      <td>1</td>\n",
              "      <td>1</td>\n",
              "      <td>Cumings, Mrs. John Bradley (Florence Briggs Th...</td>\n",
              "      <td>female</td>\n",
              "      <td>38.0</td>\n",
              "      <td>1</td>\n",
              "      <td>0</td>\n",
              "      <td>71.2833</td>\n",
              "      <td>C</td>\n",
              "    </tr>\n",
              "    <tr>\n",
              "      <th>2</th>\n",
              "      <td>3</td>\n",
              "      <td>1</td>\n",
              "      <td>3</td>\n",
              "      <td>Heikkinen, Miss. Laina</td>\n",
              "      <td>female</td>\n",
              "      <td>26.0</td>\n",
              "      <td>0</td>\n",
              "      <td>0</td>\n",
              "      <td>7.9250</td>\n",
              "      <td>S</td>\n",
              "    </tr>\n",
              "    <tr>\n",
              "      <th>3</th>\n",
              "      <td>4</td>\n",
              "      <td>1</td>\n",
              "      <td>1</td>\n",
              "      <td>Futrelle, Mrs. Jacques Heath (Lily May Peel)</td>\n",
              "      <td>female</td>\n",
              "      <td>35.0</td>\n",
              "      <td>1</td>\n",
              "      <td>0</td>\n",
              "      <td>53.1000</td>\n",
              "      <td>S</td>\n",
              "    </tr>\n",
              "    <tr>\n",
              "      <th>4</th>\n",
              "      <td>5</td>\n",
              "      <td>0</td>\n",
              "      <td>3</td>\n",
              "      <td>Allen, Mr. William Henry</td>\n",
              "      <td>male</td>\n",
              "      <td>35.0</td>\n",
              "      <td>0</td>\n",
              "      <td>0</td>\n",
              "      <td>8.0500</td>\n",
              "      <td>S</td>\n",
              "    </tr>\n",
              "  </tbody>\n",
              "</table>\n",
              "</div>"
            ],
            "text/plain": [
              "   PassengerId  Survived  Pclass  ... Parch     Fare  Embarked\n",
              "0            1         0       3  ...     0   7.2500         S\n",
              "1            2         1       1  ...     0  71.2833         C\n",
              "2            3         1       3  ...     0   7.9250         S\n",
              "3            4         1       1  ...     0  53.1000         S\n",
              "4            5         0       3  ...     0   8.0500         S\n",
              "\n",
              "[5 rows x 10 columns]"
            ]
          },
          "metadata": {
            "tags": []
          },
          "execution_count": 20
        }
      ]
    },
    {
      "cell_type": "markdown",
      "metadata": {
        "id": "JHQl4HHzmQcG"
      },
      "source": [
        "먼저 두개의 데이터를 'Alone' 으로 합쳐보겠습니다 "
      ]
    },
    {
      "cell_type": "code",
      "metadata": {
        "id": "BxPBGnDHjFU8",
        "colab": {
          "base_uri": "https://localhost:8080/",
          "height": 884
        },
        "outputId": "91b0df20-480b-4495-8b13-116f5e21be5c"
      },
      "source": [
        "train['Alone'] = train['SibSp'] + train['Parch']\r\n",
        "train['Alone']\r\n",
        "train.head(10)"
      ],
      "execution_count": 21,
      "outputs": [
        {
          "output_type": "execute_result",
          "data": {
            "text/html": [
              "<div>\n",
              "<style scoped>\n",
              "    .dataframe tbody tr th:only-of-type {\n",
              "        vertical-align: middle;\n",
              "    }\n",
              "\n",
              "    .dataframe tbody tr th {\n",
              "        vertical-align: top;\n",
              "    }\n",
              "\n",
              "    .dataframe thead th {\n",
              "        text-align: right;\n",
              "    }\n",
              "</style>\n",
              "<table border=\"1\" class=\"dataframe\">\n",
              "  <thead>\n",
              "    <tr style=\"text-align: right;\">\n",
              "      <th></th>\n",
              "      <th>PassengerId</th>\n",
              "      <th>Survived</th>\n",
              "      <th>Pclass</th>\n",
              "      <th>Name</th>\n",
              "      <th>Sex</th>\n",
              "      <th>Age</th>\n",
              "      <th>SibSp</th>\n",
              "      <th>Parch</th>\n",
              "      <th>Fare</th>\n",
              "      <th>Embarked</th>\n",
              "      <th>Alone</th>\n",
              "    </tr>\n",
              "  </thead>\n",
              "  <tbody>\n",
              "    <tr>\n",
              "      <th>0</th>\n",
              "      <td>1</td>\n",
              "      <td>0</td>\n",
              "      <td>3</td>\n",
              "      <td>Braund, Mr. Owen Harris</td>\n",
              "      <td>male</td>\n",
              "      <td>22.000000</td>\n",
              "      <td>1</td>\n",
              "      <td>0</td>\n",
              "      <td>7.2500</td>\n",
              "      <td>S</td>\n",
              "      <td>1</td>\n",
              "    </tr>\n",
              "    <tr>\n",
              "      <th>1</th>\n",
              "      <td>2</td>\n",
              "      <td>1</td>\n",
              "      <td>1</td>\n",
              "      <td>Cumings, Mrs. John Bradley (Florence Briggs Th...</td>\n",
              "      <td>female</td>\n",
              "      <td>38.000000</td>\n",
              "      <td>1</td>\n",
              "      <td>0</td>\n",
              "      <td>71.2833</td>\n",
              "      <td>C</td>\n",
              "      <td>1</td>\n",
              "    </tr>\n",
              "    <tr>\n",
              "      <th>2</th>\n",
              "      <td>3</td>\n",
              "      <td>1</td>\n",
              "      <td>3</td>\n",
              "      <td>Heikkinen, Miss. Laina</td>\n",
              "      <td>female</td>\n",
              "      <td>26.000000</td>\n",
              "      <td>0</td>\n",
              "      <td>0</td>\n",
              "      <td>7.9250</td>\n",
              "      <td>S</td>\n",
              "      <td>0</td>\n",
              "    </tr>\n",
              "    <tr>\n",
              "      <th>3</th>\n",
              "      <td>4</td>\n",
              "      <td>1</td>\n",
              "      <td>1</td>\n",
              "      <td>Futrelle, Mrs. Jacques Heath (Lily May Peel)</td>\n",
              "      <td>female</td>\n",
              "      <td>35.000000</td>\n",
              "      <td>1</td>\n",
              "      <td>0</td>\n",
              "      <td>53.1000</td>\n",
              "      <td>S</td>\n",
              "      <td>1</td>\n",
              "    </tr>\n",
              "    <tr>\n",
              "      <th>4</th>\n",
              "      <td>5</td>\n",
              "      <td>0</td>\n",
              "      <td>3</td>\n",
              "      <td>Allen, Mr. William Henry</td>\n",
              "      <td>male</td>\n",
              "      <td>35.000000</td>\n",
              "      <td>0</td>\n",
              "      <td>0</td>\n",
              "      <td>8.0500</td>\n",
              "      <td>S</td>\n",
              "      <td>0</td>\n",
              "    </tr>\n",
              "    <tr>\n",
              "      <th>5</th>\n",
              "      <td>6</td>\n",
              "      <td>0</td>\n",
              "      <td>3</td>\n",
              "      <td>Moran, Mr. James</td>\n",
              "      <td>male</td>\n",
              "      <td>32.546213</td>\n",
              "      <td>0</td>\n",
              "      <td>0</td>\n",
              "      <td>8.4583</td>\n",
              "      <td>Q</td>\n",
              "      <td>0</td>\n",
              "    </tr>\n",
              "    <tr>\n",
              "      <th>6</th>\n",
              "      <td>7</td>\n",
              "      <td>0</td>\n",
              "      <td>1</td>\n",
              "      <td>McCarthy, Mr. Timothy J</td>\n",
              "      <td>male</td>\n",
              "      <td>54.000000</td>\n",
              "      <td>0</td>\n",
              "      <td>0</td>\n",
              "      <td>51.8625</td>\n",
              "      <td>S</td>\n",
              "      <td>0</td>\n",
              "    </tr>\n",
              "    <tr>\n",
              "      <th>7</th>\n",
              "      <td>8</td>\n",
              "      <td>0</td>\n",
              "      <td>3</td>\n",
              "      <td>Palsson, Master. Gosta Leonard</td>\n",
              "      <td>male</td>\n",
              "      <td>2.000000</td>\n",
              "      <td>3</td>\n",
              "      <td>1</td>\n",
              "      <td>21.0750</td>\n",
              "      <td>S</td>\n",
              "      <td>4</td>\n",
              "    </tr>\n",
              "    <tr>\n",
              "      <th>8</th>\n",
              "      <td>9</td>\n",
              "      <td>1</td>\n",
              "      <td>3</td>\n",
              "      <td>Johnson, Mrs. Oscar W (Elisabeth Vilhelmina Berg)</td>\n",
              "      <td>female</td>\n",
              "      <td>27.000000</td>\n",
              "      <td>0</td>\n",
              "      <td>2</td>\n",
              "      <td>11.1333</td>\n",
              "      <td>S</td>\n",
              "      <td>2</td>\n",
              "    </tr>\n",
              "    <tr>\n",
              "      <th>9</th>\n",
              "      <td>10</td>\n",
              "      <td>1</td>\n",
              "      <td>2</td>\n",
              "      <td>Nasser, Mrs. Nicholas (Adele Achem)</td>\n",
              "      <td>female</td>\n",
              "      <td>14.000000</td>\n",
              "      <td>1</td>\n",
              "      <td>0</td>\n",
              "      <td>30.0708</td>\n",
              "      <td>C</td>\n",
              "      <td>1</td>\n",
              "    </tr>\n",
              "  </tbody>\n",
              "</table>\n",
              "</div>"
            ],
            "text/plain": [
              "   PassengerId  Survived  Pclass  ...     Fare Embarked  Alone\n",
              "0            1         0       3  ...   7.2500        S      1\n",
              "1            2         1       1  ...  71.2833        C      1\n",
              "2            3         1       3  ...   7.9250        S      0\n",
              "3            4         1       1  ...  53.1000        S      1\n",
              "4            5         0       3  ...   8.0500        S      0\n",
              "5            6         0       3  ...   8.4583        Q      0\n",
              "6            7         0       1  ...  51.8625        S      0\n",
              "7            8         0       3  ...  21.0750        S      4\n",
              "8            9         1       3  ...  11.1333        S      2\n",
              "9           10         1       2  ...  30.0708        C      1\n",
              "\n",
              "[10 rows x 11 columns]"
            ]
          },
          "metadata": {
            "tags": []
          },
          "execution_count": 21
        }
      ]
    },
    {
      "cell_type": "code",
      "metadata": {
        "id": "xYLpeYTDj04f"
      },
      "source": [
        "train.drop(train[['SibSp','Parch']], axis = 1,inplace=True)"
      ],
      "execution_count": 22,
      "outputs": []
    },
    {
      "cell_type": "code",
      "metadata": {
        "id": "r8x5PI4Rl_DS",
        "colab": {
          "base_uri": "https://localhost:8080/",
          "height": 562
        },
        "outputId": "b28a82db-8954-4e14-a9bc-02c7cd19e2b6"
      },
      "source": [
        "train.head(10)"
      ],
      "execution_count": 23,
      "outputs": [
        {
          "output_type": "execute_result",
          "data": {
            "text/html": [
              "<div>\n",
              "<style scoped>\n",
              "    .dataframe tbody tr th:only-of-type {\n",
              "        vertical-align: middle;\n",
              "    }\n",
              "\n",
              "    .dataframe tbody tr th {\n",
              "        vertical-align: top;\n",
              "    }\n",
              "\n",
              "    .dataframe thead th {\n",
              "        text-align: right;\n",
              "    }\n",
              "</style>\n",
              "<table border=\"1\" class=\"dataframe\">\n",
              "  <thead>\n",
              "    <tr style=\"text-align: right;\">\n",
              "      <th></th>\n",
              "      <th>PassengerId</th>\n",
              "      <th>Survived</th>\n",
              "      <th>Pclass</th>\n",
              "      <th>Name</th>\n",
              "      <th>Sex</th>\n",
              "      <th>Age</th>\n",
              "      <th>Fare</th>\n",
              "      <th>Embarked</th>\n",
              "      <th>Alone</th>\n",
              "    </tr>\n",
              "  </thead>\n",
              "  <tbody>\n",
              "    <tr>\n",
              "      <th>0</th>\n",
              "      <td>1</td>\n",
              "      <td>0</td>\n",
              "      <td>3</td>\n",
              "      <td>Braund, Mr. Owen Harris</td>\n",
              "      <td>male</td>\n",
              "      <td>22.000000</td>\n",
              "      <td>7.2500</td>\n",
              "      <td>S</td>\n",
              "      <td>1</td>\n",
              "    </tr>\n",
              "    <tr>\n",
              "      <th>1</th>\n",
              "      <td>2</td>\n",
              "      <td>1</td>\n",
              "      <td>1</td>\n",
              "      <td>Cumings, Mrs. John Bradley (Florence Briggs Th...</td>\n",
              "      <td>female</td>\n",
              "      <td>38.000000</td>\n",
              "      <td>71.2833</td>\n",
              "      <td>C</td>\n",
              "      <td>1</td>\n",
              "    </tr>\n",
              "    <tr>\n",
              "      <th>2</th>\n",
              "      <td>3</td>\n",
              "      <td>1</td>\n",
              "      <td>3</td>\n",
              "      <td>Heikkinen, Miss. Laina</td>\n",
              "      <td>female</td>\n",
              "      <td>26.000000</td>\n",
              "      <td>7.9250</td>\n",
              "      <td>S</td>\n",
              "      <td>0</td>\n",
              "    </tr>\n",
              "    <tr>\n",
              "      <th>3</th>\n",
              "      <td>4</td>\n",
              "      <td>1</td>\n",
              "      <td>1</td>\n",
              "      <td>Futrelle, Mrs. Jacques Heath (Lily May Peel)</td>\n",
              "      <td>female</td>\n",
              "      <td>35.000000</td>\n",
              "      <td>53.1000</td>\n",
              "      <td>S</td>\n",
              "      <td>1</td>\n",
              "    </tr>\n",
              "    <tr>\n",
              "      <th>4</th>\n",
              "      <td>5</td>\n",
              "      <td>0</td>\n",
              "      <td>3</td>\n",
              "      <td>Allen, Mr. William Henry</td>\n",
              "      <td>male</td>\n",
              "      <td>35.000000</td>\n",
              "      <td>8.0500</td>\n",
              "      <td>S</td>\n",
              "      <td>0</td>\n",
              "    </tr>\n",
              "    <tr>\n",
              "      <th>5</th>\n",
              "      <td>6</td>\n",
              "      <td>0</td>\n",
              "      <td>3</td>\n",
              "      <td>Moran, Mr. James</td>\n",
              "      <td>male</td>\n",
              "      <td>32.546213</td>\n",
              "      <td>8.4583</td>\n",
              "      <td>Q</td>\n",
              "      <td>0</td>\n",
              "    </tr>\n",
              "    <tr>\n",
              "      <th>6</th>\n",
              "      <td>7</td>\n",
              "      <td>0</td>\n",
              "      <td>1</td>\n",
              "      <td>McCarthy, Mr. Timothy J</td>\n",
              "      <td>male</td>\n",
              "      <td>54.000000</td>\n",
              "      <td>51.8625</td>\n",
              "      <td>S</td>\n",
              "      <td>0</td>\n",
              "    </tr>\n",
              "    <tr>\n",
              "      <th>7</th>\n",
              "      <td>8</td>\n",
              "      <td>0</td>\n",
              "      <td>3</td>\n",
              "      <td>Palsson, Master. Gosta Leonard</td>\n",
              "      <td>male</td>\n",
              "      <td>2.000000</td>\n",
              "      <td>21.0750</td>\n",
              "      <td>S</td>\n",
              "      <td>4</td>\n",
              "    </tr>\n",
              "    <tr>\n",
              "      <th>8</th>\n",
              "      <td>9</td>\n",
              "      <td>1</td>\n",
              "      <td>3</td>\n",
              "      <td>Johnson, Mrs. Oscar W (Elisabeth Vilhelmina Berg)</td>\n",
              "      <td>female</td>\n",
              "      <td>27.000000</td>\n",
              "      <td>11.1333</td>\n",
              "      <td>S</td>\n",
              "      <td>2</td>\n",
              "    </tr>\n",
              "    <tr>\n",
              "      <th>9</th>\n",
              "      <td>10</td>\n",
              "      <td>1</td>\n",
              "      <td>2</td>\n",
              "      <td>Nasser, Mrs. Nicholas (Adele Achem)</td>\n",
              "      <td>female</td>\n",
              "      <td>14.000000</td>\n",
              "      <td>30.0708</td>\n",
              "      <td>C</td>\n",
              "      <td>1</td>\n",
              "    </tr>\n",
              "  </tbody>\n",
              "</table>\n",
              "</div>"
            ],
            "text/plain": [
              "   PassengerId  Survived  Pclass  ...     Fare Embarked  Alone\n",
              "0            1         0       3  ...   7.2500        S      1\n",
              "1            2         1       1  ...  71.2833        C      1\n",
              "2            3         1       3  ...   7.9250        S      0\n",
              "3            4         1       1  ...  53.1000        S      1\n",
              "4            5         0       3  ...   8.0500        S      0\n",
              "5            6         0       3  ...   8.4583        Q      0\n",
              "6            7         0       1  ...  51.8625        S      0\n",
              "7            8         0       3  ...  21.0750        S      4\n",
              "8            9         1       3  ...  11.1333        S      2\n",
              "9           10         1       2  ...  30.0708        C      1\n",
              "\n",
              "[10 rows x 9 columns]"
            ]
          },
          "metadata": {
            "tags": []
          },
          "execution_count": 23
        }
      ]
    },
    {
      "cell_type": "markdown",
      "metadata": {
        "id": "Xkn2gVA5mNDE"
      },
      "source": [
        "이제는 Alone을 혼자왔으면 0, 혼자가 아니면 1로 바꾸어 보겠습니다"
      ]
    },
    {
      "cell_type": "code",
      "metadata": {
        "id": "vh5zRWdsmMlx",
        "colab": {
          "base_uri": "https://localhost:8080/"
        },
        "outputId": "0315a9f3-fe00-4baf-f2a4-038737fcbff9"
      },
      "source": [
        "a = []\r\n",
        "\r\n",
        "for i in train['Alone']:\r\n",
        "  if i == 0:\r\n",
        "    a.append(i)\r\n",
        "  elif i != 0:\r\n",
        "    a.append(1)\r\n",
        "\r\n",
        "a"
      ],
      "execution_count": 24,
      "outputs": [
        {
          "output_type": "execute_result",
          "data": {
            "text/plain": [
              "[1,\n",
              " 1,\n",
              " 0,\n",
              " 1,\n",
              " 0,\n",
              " 0,\n",
              " 0,\n",
              " 1,\n",
              " 1,\n",
              " 1,\n",
              " 1,\n",
              " 0,\n",
              " 0,\n",
              " 1,\n",
              " 0,\n",
              " 0,\n",
              " 1,\n",
              " 0,\n",
              " 1,\n",
              " 0,\n",
              " 0,\n",
              " 0,\n",
              " 0,\n",
              " 0,\n",
              " 1,\n",
              " 1,\n",
              " 0,\n",
              " 1,\n",
              " 0,\n",
              " 0,\n",
              " 0,\n",
              " 1,\n",
              " 0,\n",
              " 0,\n",
              " 1,\n",
              " 1,\n",
              " 0,\n",
              " 0,\n",
              " 1,\n",
              " 1,\n",
              " 1,\n",
              " 1,\n",
              " 0,\n",
              " 1,\n",
              " 0,\n",
              " 0,\n",
              " 1,\n",
              " 0,\n",
              " 1,\n",
              " 1,\n",
              " 1,\n",
              " 0,\n",
              " 1,\n",
              " 1,\n",
              " 1,\n",
              " 0,\n",
              " 0,\n",
              " 0,\n",
              " 1,\n",
              " 1,\n",
              " 0,\n",
              " 0,\n",
              " 1,\n",
              " 1,\n",
              " 0,\n",
              " 1,\n",
              " 0,\n",
              " 0,\n",
              " 1,\n",
              " 1,\n",
              " 0,\n",
              " 1,\n",
              " 0,\n",
              " 1,\n",
              " 0,\n",
              " 0,\n",
              " 0,\n",
              " 0,\n",
              " 1,\n",
              " 0,\n",
              " 0,\n",
              " 0,\n",
              " 0,\n",
              " 0,\n",
              " 0,\n",
              " 1,\n",
              " 1,\n",
              " 0,\n",
              " 1,\n",
              " 0,\n",
              " 0,\n",
              " 0,\n",
              " 1,\n",
              " 1,\n",
              " 0,\n",
              " 0,\n",
              " 0,\n",
              " 1,\n",
              " 1,\n",
              " 1,\n",
              " 0,\n",
              " 0,\n",
              " 1,\n",
              " 0,\n",
              " 1,\n",
              " 0,\n",
              " 0,\n",
              " 0,\n",
              " 0,\n",
              " 1,\n",
              " 0,\n",
              " 1,\n",
              " 0,\n",
              " 1,\n",
              " 0,\n",
              " 0,\n",
              " 0,\n",
              " 1,\n",
              " 1,\n",
              " 1,\n",
              " 1,\n",
              " 0,\n",
              " 1,\n",
              " 0,\n",
              " 1,\n",
              " 1,\n",
              " 0,\n",
              " 0,\n",
              " 1,\n",
              " 0,\n",
              " 0,\n",
              " 0,\n",
              " 1,\n",
              " 1,\n",
              " 0,\n",
              " 0,\n",
              " 1,\n",
              " 1,\n",
              " 0,\n",
              " 0,\n",
              " 1,\n",
              " 0,\n",
              " 1,\n",
              " 0,\n",
              " 0,\n",
              " 1,\n",
              " 0,\n",
              " 1,\n",
              " 1,\n",
              " 0,\n",
              " 0,\n",
              " 1,\n",
              " 0,\n",
              " 1,\n",
              " 0,\n",
              " 1,\n",
              " 0,\n",
              " 0,\n",
              " 0,\n",
              " 1,\n",
              " 1,\n",
              " 0,\n",
              " 0,\n",
              " 0,\n",
              " 1,\n",
              " 1,\n",
              " 1,\n",
              " 1,\n",
              " 0,\n",
              " 0,\n",
              " 0,\n",
              " 1,\n",
              " 1,\n",
              " 0,\n",
              " 0,\n",
              " 1,\n",
              " 1,\n",
              " 0,\n",
              " 0,\n",
              " 0,\n",
              " 1,\n",
              " 0,\n",
              " 1,\n",
              " 1,\n",
              " 1,\n",
              " 0,\n",
              " 1,\n",
              " 0,\n",
              " 1,\n",
              " 0,\n",
              " 0,\n",
              " 0,\n",
              " 1,\n",
              " 1,\n",
              " 0,\n",
              " 0,\n",
              " 0,\n",
              " 1,\n",
              " 0,\n",
              " 0,\n",
              " 0,\n",
              " 1,\n",
              " 0,\n",
              " 0,\n",
              " 0,\n",
              " 1,\n",
              " 1,\n",
              " 0,\n",
              " 0,\n",
              " 0,\n",
              " 0,\n",
              " 0,\n",
              " 0,\n",
              " 0,\n",
              " 1,\n",
              " 1,\n",
              " 0,\n",
              " 1,\n",
              " 0,\n",
              " 0,\n",
              " 0,\n",
              " 0,\n",
              " 0,\n",
              " 0,\n",
              " 1,\n",
              " 0,\n",
              " 0,\n",
              " 0,\n",
              " 0,\n",
              " 1,\n",
              " 1,\n",
              " 0,\n",
              " 0,\n",
              " 1,\n",
              " 0,\n",
              " 0,\n",
              " 1,\n",
              " 1,\n",
              " 0,\n",
              " 0,\n",
              " 1,\n",
              " 1,\n",
              " 0,\n",
              " 0,\n",
              " 0,\n",
              " 1,\n",
              " 0,\n",
              " 1,\n",
              " 1,\n",
              " 1,\n",
              " 0,\n",
              " 1,\n",
              " 0,\n",
              " 1,\n",
              " 1,\n",
              " 1,\n",
              " 0,\n",
              " 0,\n",
              " 0,\n",
              " 1,\n",
              " 0,\n",
              " 1,\n",
              " 1,\n",
              " 0,\n",
              " 0,\n",
              " 0,\n",
              " 1,\n",
              " 1,\n",
              " 1,\n",
              " 0,\n",
              " 0,\n",
              " 0,\n",
              " 1,\n",
              " 1,\n",
              " 0,\n",
              " 1,\n",
              " 0,\n",
              " 0,\n",
              " 1,\n",
              " 1,\n",
              " 0,\n",
              " 0,\n",
              " 0,\n",
              " 0,\n",
              " 0,\n",
              " 0,\n",
              " 0,\n",
              " 0,\n",
              " 0,\n",
              " 0,\n",
              " 0,\n",
              " 1,\n",
              " 0,\n",
              " 0,\n",
              " 0,\n",
              " 0,\n",
              " 0,\n",
              " 1,\n",
              " 0,\n",
              " 1,\n",
              " 0,\n",
              " 1,\n",
              " 0,\n",
              " 0,\n",
              " 0,\n",
              " 1,\n",
              " 0,\n",
              " 1,\n",
              " 1,\n",
              " 0,\n",
              " 0,\n",
              " 1,\n",
              " 1,\n",
              " 0,\n",
              " 1,\n",
              " 0,\n",
              " 1,\n",
              " 0,\n",
              " 1,\n",
              " 1,\n",
              " 0,\n",
              " 0,\n",
              " 0,\n",
              " 1,\n",
              " 1,\n",
              " 0,\n",
              " 0,\n",
              " 0,\n",
              " 1,\n",
              " 1,\n",
              " 1,\n",
              " 0,\n",
              " 1,\n",
              " 1,\n",
              " 1,\n",
              " 0,\n",
              " 1,\n",
              " 0,\n",
              " 0,\n",
              " 0,\n",
              " 1,\n",
              " 1,\n",
              " 0,\n",
              " 0,\n",
              " 0,\n",
              " 0,\n",
              " 0,\n",
              " 1,\n",
              " 1,\n",
              " 0,\n",
              " 0,\n",
              " 0,\n",
              " 1,\n",
              " 1,\n",
              " 0,\n",
              " 0,\n",
              " 1,\n",
              " 0,\n",
              " 0,\n",
              " 0,\n",
              " 1,\n",
              " 1,\n",
              " 1,\n",
              " 0,\n",
              " 1,\n",
              " 0,\n",
              " 1,\n",
              " 0,\n",
              " 0,\n",
              " 0,\n",
              " 1,\n",
              " 1,\n",
              " 0,\n",
              " 0,\n",
              " 1,\n",
              " 1,\n",
              " 0,\n",
              " 1,\n",
              " 0,\n",
              " 0,\n",
              " 0,\n",
              " 1,\n",
              " 0,\n",
              " 1,\n",
              " 0,\n",
              " 0,\n",
              " 1,\n",
              " 0,\n",
              " 0,\n",
              " 0,\n",
              " 1,\n",
              " 0,\n",
              " 1,\n",
              " 1,\n",
              " 1,\n",
              " 0,\n",
              " 0,\n",
              " 0,\n",
              " 0,\n",
              " 0,\n",
              " 0,\n",
              " 0,\n",
              " 1,\n",
              " 1,\n",
              " 0,\n",
              " 1,\n",
              " 0,\n",
              " 1,\n",
              " 0,\n",
              " 1,\n",
              " 0,\n",
              " 0,\n",
              " 1,\n",
              " 0,\n",
              " 0,\n",
              " 0,\n",
              " 1,\n",
              " 1,\n",
              " 0,\n",
              " 1,\n",
              " 0,\n",
              " 0,\n",
              " 0,\n",
              " 1,\n",
              " 1,\n",
              " 0,\n",
              " 1,\n",
              " 0,\n",
              " 0,\n",
              " 0,\n",
              " 0,\n",
              " 1,\n",
              " 1,\n",
              " 0,\n",
              " 1,\n",
              " 1,\n",
              " 1,\n",
              " 1,\n",
              " 1,\n",
              " 0,\n",
              " 1,\n",
              " 0,\n",
              " 1,\n",
              " 0,\n",
              " 0,\n",
              " 1,\n",
              " 1,\n",
              " 0,\n",
              " 1,\n",
              " 0,\n",
              " 1,\n",
              " 1,\n",
              " 0,\n",
              " 1,\n",
              " 0,\n",
              " 0,\n",
              " 0,\n",
              " 1,\n",
              " 0,\n",
              " 0,\n",
              " 0,\n",
              " 0,\n",
              " 0,\n",
              " 0,\n",
              " 0,\n",
              " 0,\n",
              " 0,\n",
              " 0,\n",
              " 0,\n",
              " 1,\n",
              " 0,\n",
              " 0,\n",
              " 1,\n",
              " 0,\n",
              " 0,\n",
              " 0,\n",
              " 1,\n",
              " 1,\n",
              " 0,\n",
              " 1,\n",
              " 1,\n",
              " 0,\n",
              " 0,\n",
              " 0,\n",
              " 1,\n",
              " 1,\n",
              " 1,\n",
              " 0,\n",
              " 0,\n",
              " 1,\n",
              " 1,\n",
              " 0,\n",
              " 0,\n",
              " 0,\n",
              " 0,\n",
              " 0,\n",
              " 1,\n",
              " 0,\n",
              " 1,\n",
              " 0,\n",
              " 0,\n",
              " 0,\n",
              " 0,\n",
              " 0,\n",
              " 0,\n",
              " 1,\n",
              " 1,\n",
              " 0,\n",
              " 0,\n",
              " 0,\n",
              " 0,\n",
              " 0,\n",
              " 0,\n",
              " 1,\n",
              " 0,\n",
              " 0,\n",
              " 0,\n",
              " 0,\n",
              " 1,\n",
              " 0,\n",
              " 0,\n",
              " 0,\n",
              " 0,\n",
              " 1,\n",
              " 0,\n",
              " 0,\n",
              " 0,\n",
              " 0,\n",
              " 0,\n",
              " 1,\n",
              " 1,\n",
              " 0,\n",
              " 1,\n",
              " 1,\n",
              " 0,\n",
              " 1,\n",
              " 0,\n",
              " 0,\n",
              " 0,\n",
              " 1,\n",
              " 1,\n",
              " 1,\n",
              " 1,\n",
              " 1,\n",
              " 1,\n",
              " 0,\n",
              " 1,\n",
              " 0,\n",
              " 1,\n",
              " 1,\n",
              " 1,\n",
              " 0,\n",
              " 0,\n",
              " 0,\n",
              " 0,\n",
              " 0,\n",
              " 1,\n",
              " 0,\n",
              " 1,\n",
              " 1,\n",
              " 0,\n",
              " 0,\n",
              " 0,\n",
              " 0,\n",
              " 0,\n",
              " 1,\n",
              " 0,\n",
              " 1,\n",
              " 0,\n",
              " 0,\n",
              " 0,\n",
              " 1,\n",
              " 0,\n",
              " 0,\n",
              " 0,\n",
              " 0,\n",
              " 0,\n",
              " 1,\n",
              " 1,\n",
              " 0,\n",
              " 1,\n",
              " 1,\n",
              " 0,\n",
              " 0,\n",
              " 0,\n",
              " 1,\n",
              " 0,\n",
              " 1,\n",
              " 0,\n",
              " 0,\n",
              " 0,\n",
              " 1,\n",
              " 0,\n",
              " 1,\n",
              " 1,\n",
              " 1,\n",
              " 0,\n",
              " 0,\n",
              " 0,\n",
              " 1,\n",
              " 1,\n",
              " 0,\n",
              " 0,\n",
              " 0,\n",
              " 0,\n",
              " 1,\n",
              " 0,\n",
              " 0,\n",
              " 1,\n",
              " 0,\n",
              " 1,\n",
              " 0,\n",
              " 1,\n",
              " 0,\n",
              " 0,\n",
              " 1,\n",
              " 1,\n",
              " 1,\n",
              " 1,\n",
              " 0,\n",
              " 1,\n",
              " 1,\n",
              " 1,\n",
              " 0,\n",
              " 0,\n",
              " 0,\n",
              " 0,\n",
              " 0,\n",
              " 0,\n",
              " 0,\n",
              " 0,\n",
              " 0,\n",
              " 0,\n",
              " 0,\n",
              " 1,\n",
              " 0,\n",
              " 0,\n",
              " 1,\n",
              " 1,\n",
              " 1,\n",
              " 0,\n",
              " 0,\n",
              " 1,\n",
              " 0,\n",
              " 1,\n",
              " 1,\n",
              " 0,\n",
              " 0,\n",
              " 0,\n",
              " 0,\n",
              " 0,\n",
              " 1,\n",
              " 0,\n",
              " 0,\n",
              " 0,\n",
              " 1,\n",
              " 0,\n",
              " 1,\n",
              " 0,\n",
              " 1,\n",
              " 1,\n",
              " 0,\n",
              " 0,\n",
              " 0,\n",
              " 1,\n",
              " 1,\n",
              " 0,\n",
              " 0,\n",
              " 0,\n",
              " 1,\n",
              " 1,\n",
              " 1,\n",
              " 0,\n",
              " 0,\n",
              " 0,\n",
              " 0,\n",
              " 0,\n",
              " 0,\n",
              " 1,\n",
              " 1,\n",
              " 0,\n",
              " 0,\n",
              " 0,\n",
              " 1,\n",
              " 1,\n",
              " 1,\n",
              " 1,\n",
              " 0,\n",
              " 0,\n",
              " 1,\n",
              " 1,\n",
              " 1,\n",
              " 0,\n",
              " 0,\n",
              " 0,\n",
              " 0,\n",
              " 0,\n",
              " 0,\n",
              " 1,\n",
              " 0,\n",
              " 1,\n",
              " 0,\n",
              " 1,\n",
              " 0,\n",
              " 1,\n",
              " 0,\n",
              " 0,\n",
              " 0,\n",
              " 0,\n",
              " 1,\n",
              " 0,\n",
              " 0,\n",
              " 1,\n",
              " 0,\n",
              " 0,\n",
              " 0,\n",
              " 0,\n",
              " 0,\n",
              " 0,\n",
              " 0,\n",
              " 1,\n",
              " 1,\n",
              " 0,\n",
              " 0,\n",
              " 1,\n",
              " 0,\n",
              " 1,\n",
              " 0,\n",
              " 1,\n",
              " 1,\n",
              " 0,\n",
              " 0,\n",
              " 0,\n",
              " 0,\n",
              " 0,\n",
              " 0,\n",
              " 1,\n",
              " 0,\n",
              " 0,\n",
              " 0,\n",
              " 0,\n",
              " 1,\n",
              " 1,\n",
              " 1,\n",
              " 0,\n",
              " 1,\n",
              " 1,\n",
              " 0,\n",
              " 1,\n",
              " 0,\n",
              " 1,\n",
              " 1,\n",
              " 0,\n",
              " 0,\n",
              " 1,\n",
              " 1,\n",
              " 0,\n",
              " 0,\n",
              " 0,\n",
              " 0,\n",
              " 0,\n",
              " 0,\n",
              " 0,\n",
              " 1,\n",
              " 0,\n",
              " 1,\n",
              " 0,\n",
              " 0,\n",
              " 1,\n",
              " 0,\n",
              " 0,\n",
              " 0,\n",
              " 0,\n",
              " 0,\n",
              " 1,\n",
              " 0,\n",
              " 0,\n",
              " 0,\n",
              " 0,\n",
              " 1,\n",
              " 0,\n",
              " 1,\n",
              " 0,\n",
              " 1,\n",
              " 0,\n",
              " 0,\n",
              " 0,\n",
              " 1,\n",
              " 1,\n",
              " 0,\n",
              " 0,\n",
              " 0,\n",
              " 1,\n",
              " 0,\n",
              " 0,\n",
              " 0,\n",
              " 0,\n",
              " 0,\n",
              " 0,\n",
              " 1,\n",
              " 0,\n",
              " 1,\n",
              " 1,\n",
              " 1,\n",
              " 0,\n",
              " 0,\n",
              " 0,\n",
              " 0,\n",
              " 0,\n",
              " 1,\n",
              " 0,\n",
              " 0,\n",
              " 0,\n",
              " 1,\n",
              " 0,\n",
              " 0,\n",
              " 0,\n",
              " 1,\n",
              " 0,\n",
              " 1,\n",
              " 1,\n",
              " 0,\n",
              " 0,\n",
              " 1,\n",
              " 1,\n",
              " 0,\n",
              " 0,\n",
              " 1,\n",
              " 0,\n",
              " 0,\n",
              " 1,\n",
              " 1,\n",
              " 0,\n",
              " 0,\n",
              " 0,\n",
              " 1,\n",
              " 0,\n",
              " 0,\n",
              " 0,\n",
              " 0,\n",
              " 0,\n",
              " 0,\n",
              " 0,\n",
              " 0,\n",
              " 0,\n",
              " 0,\n",
              " 1,\n",
              " 0,\n",
              " 1,\n",
              " 1,\n",
              " 1,\n",
              " 0,\n",
              " 1,\n",
              " 1,\n",
              " 1,\n",
              " 1,\n",
              " 1,\n",
              " 0,\n",
              " 1,\n",
              " 0,\n",
              " 1,\n",
              " 1,\n",
              " 0,\n",
              " 1,\n",
              " 0,\n",
              " 0,\n",
              " 1,\n",
              " 0,\n",
              " 0,\n",
              " 1,\n",
              " 0,\n",
              " 1,\n",
              " 0,\n",
              " 0,\n",
              " 1,\n",
              " 0,\n",
              " 0,\n",
              " 0,\n",
              " 0,\n",
              " 1,\n",
              " 1,\n",
              " 0,\n",
              " 0,\n",
              " 0,\n",
              " 0,\n",
              " 1,\n",
              " 0,\n",
              " 0,\n",
              " 1,\n",
              " 0,\n",
              " 0]"
            ]
          },
          "metadata": {
            "tags": []
          },
          "execution_count": 24
        }
      ]
    },
    {
      "cell_type": "code",
      "metadata": {
        "id": "WkJKJlLjmhy5",
        "colab": {
          "base_uri": "https://localhost:8080/"
        },
        "outputId": "732c4c13-c76f-4f32-9567-9aed7a2f9418"
      },
      "source": [
        "train['Alone'] = train['Alone'] = a\r\n",
        "train['Alone'].unique()\r\n"
      ],
      "execution_count": 25,
      "outputs": [
        {
          "output_type": "execute_result",
          "data": {
            "text/plain": [
              "array([1, 0])"
            ]
          },
          "metadata": {
            "tags": []
          },
          "execution_count": 25
        }
      ]
    },
    {
      "cell_type": "code",
      "metadata": {
        "id": "VdviPXFIn5BJ",
        "colab": {
          "base_uri": "https://localhost:8080/"
        },
        "outputId": "696f25b4-b008-42cf-e238-678945561d7b"
      },
      "source": [
        "train.info()"
      ],
      "execution_count": 26,
      "outputs": [
        {
          "output_type": "stream",
          "text": [
            "<class 'pandas.core.frame.DataFrame'>\n",
            "RangeIndex: 891 entries, 0 to 890\n",
            "Data columns (total 9 columns):\n",
            " #   Column       Non-Null Count  Dtype  \n",
            "---  ------       --------------  -----  \n",
            " 0   PassengerId  891 non-null    int64  \n",
            " 1   Survived     891 non-null    int64  \n",
            " 2   Pclass       891 non-null    int64  \n",
            " 3   Name         891 non-null    object \n",
            " 4   Sex          891 non-null    object \n",
            " 5   Age          891 non-null    float64\n",
            " 6   Fare         891 non-null    float64\n",
            " 7   Embarked     891 non-null    object \n",
            " 8   Alone        891 non-null    int64  \n",
            "dtypes: float64(2), int64(4), object(3)\n",
            "memory usage: 62.8+ KB\n"
          ],
          "name": "stdout"
        }
      ]
    },
    {
      "cell_type": "markdown",
      "metadata": {
        "id": "aSBhAfxtCNMP"
      },
      "source": [
        "## 인코딩"
      ]
    },
    {
      "cell_type": "markdown",
      "metadata": {
        "id": "60Bu8fTdD-Hm"
      },
      "source": [
        "Age변환"
      ]
    },
    {
      "cell_type": "code",
      "metadata": {
        "id": "Sn33nHWbolAY",
        "colab": {
          "base_uri": "https://localhost:8080/"
        },
        "outputId": "759bf870-51a6-431f-f851-155e239f55f8"
      },
      "source": [
        "train['Age'] = train['Age'].astype(int)\r\n",
        "train['Age']"
      ],
      "execution_count": 27,
      "outputs": [
        {
          "output_type": "execute_result",
          "data": {
            "text/plain": [
              "0      22\n",
              "1      38\n",
              "2      26\n",
              "3      35\n",
              "4      35\n",
              "       ..\n",
              "886    27\n",
              "887    19\n",
              "888    51\n",
              "889    26\n",
              "890    32\n",
              "Name: Age, Length: 891, dtype: int64"
            ]
          },
          "metadata": {
            "tags": []
          },
          "execution_count": 27
        }
      ]
    },
    {
      "cell_type": "markdown",
      "metadata": {
        "id": "apHm5ctgD_-6"
      },
      "source": [
        "Fare 변환 ( 소수점 첫째 자리에서 반올림 후 int형 변환)"
      ]
    },
    {
      "cell_type": "code",
      "metadata": {
        "id": "Gu5QiA06DCSi",
        "colab": {
          "base_uri": "https://localhost:8080/"
        },
        "outputId": "83e7914f-c361-4d35-e52e-dd2cfd468ac2"
      },
      "source": [
        "train['Fare'] = round(train['Fare'])\r\n",
        "train['Fare']\r\n",
        "train['Fare'] = train['Fare'].astype(int)\r\n",
        "train['Fare']"
      ],
      "execution_count": 28,
      "outputs": [
        {
          "output_type": "execute_result",
          "data": {
            "text/plain": [
              "0       7\n",
              "1      71\n",
              "2       8\n",
              "3      53\n",
              "4       8\n",
              "       ..\n",
              "886    13\n",
              "887    30\n",
              "888    23\n",
              "889    30\n",
              "890     8\n",
              "Name: Fare, Length: 891, dtype: int64"
            ]
          },
          "metadata": {
            "tags": []
          },
          "execution_count": 28
        }
      ]
    },
    {
      "cell_type": "code",
      "metadata": {
        "id": "_Lxjqg-wEIXE",
        "colab": {
          "base_uri": "https://localhost:8080/"
        },
        "outputId": "e5ac80b1-bba1-494e-faa9-187038896387"
      },
      "source": [
        "train.info()"
      ],
      "execution_count": 29,
      "outputs": [
        {
          "output_type": "stream",
          "text": [
            "<class 'pandas.core.frame.DataFrame'>\n",
            "RangeIndex: 891 entries, 0 to 890\n",
            "Data columns (total 9 columns):\n",
            " #   Column       Non-Null Count  Dtype \n",
            "---  ------       --------------  ----- \n",
            " 0   PassengerId  891 non-null    int64 \n",
            " 1   Survived     891 non-null    int64 \n",
            " 2   Pclass       891 non-null    int64 \n",
            " 3   Name         891 non-null    object\n",
            " 4   Sex          891 non-null    object\n",
            " 5   Age          891 non-null    int64 \n",
            " 6   Fare         891 non-null    int64 \n",
            " 7   Embarked     891 non-null    object\n",
            " 8   Alone        891 non-null    int64 \n",
            "dtypes: int64(6), object(3)\n",
            "memory usage: 62.8+ KB\n"
          ],
          "name": "stdout"
        }
      ]
    },
    {
      "cell_type": "markdown",
      "metadata": {
        "id": "fjY6N-iyEbvd"
      },
      "source": [
        "Name 변환 ( .(온점)앞의 이름으로 통일)"
      ]
    },
    {
      "cell_type": "code",
      "metadata": {
        "id": "Vt462iSPE_Vg",
        "colab": {
          "base_uri": "https://localhost:8080/"
        },
        "outputId": "5f140362-5da6-42df-d82e-2d8669d24aa7"
      },
      "source": [
        "Name = []\r\n",
        "\r\n",
        "for i in train['Name']:\r\n",
        "  for h in i.split(' '):\r\n",
        "    if '.' in h:\r\n",
        "      Name.append(h[:-1])\r\n",
        "\r\n",
        "Name"
      ],
      "execution_count": 30,
      "outputs": [
        {
          "output_type": "execute_result",
          "data": {
            "text/plain": [
              "['Mr',\n",
              " 'Mrs',\n",
              " 'Miss',\n",
              " 'Mrs',\n",
              " 'Mr',\n",
              " 'Mr',\n",
              " 'Mr',\n",
              " 'Master',\n",
              " 'Mrs',\n",
              " 'Mrs',\n",
              " 'Miss',\n",
              " 'Miss',\n",
              " 'Mr',\n",
              " 'Mr',\n",
              " 'Miss',\n",
              " 'Mrs',\n",
              " 'Master',\n",
              " 'Mr',\n",
              " 'Mrs',\n",
              " 'Mrs',\n",
              " 'Mr',\n",
              " 'Mr',\n",
              " 'Miss',\n",
              " 'Mr',\n",
              " 'Miss',\n",
              " 'Mrs',\n",
              " 'Mr',\n",
              " 'Mr',\n",
              " 'Miss',\n",
              " 'Mr',\n",
              " 'Don',\n",
              " 'Mrs',\n",
              " 'Miss',\n",
              " 'Mr',\n",
              " 'Mr',\n",
              " 'Mr',\n",
              " 'Mr',\n",
              " 'Mr',\n",
              " 'Miss',\n",
              " 'Miss',\n",
              " 'Mrs',\n",
              " 'Mrs',\n",
              " 'Mr',\n",
              " 'Miss',\n",
              " 'Miss',\n",
              " 'Mr',\n",
              " 'Mr',\n",
              " 'Miss',\n",
              " 'Mr',\n",
              " 'Mrs',\n",
              " 'Master',\n",
              " 'Mr',\n",
              " 'Mrs',\n",
              " 'Mrs',\n",
              " 'Mr',\n",
              " 'Mr',\n",
              " 'Miss',\n",
              " 'Mr',\n",
              " 'Miss',\n",
              " 'Master',\n",
              " 'Mr',\n",
              " 'Miss',\n",
              " 'Mr',\n",
              " 'Master',\n",
              " 'Mr',\n",
              " 'Master',\n",
              " 'Mrs',\n",
              " 'Mr',\n",
              " 'Miss',\n",
              " 'Mr',\n",
              " 'Mr',\n",
              " 'Miss',\n",
              " 'Mr',\n",
              " 'Mr',\n",
              " 'Mr',\n",
              " 'Mr',\n",
              " 'Mr',\n",
              " 'Mr',\n",
              " 'Master',\n",
              " 'Miss',\n",
              " 'Mr',\n",
              " 'Mr',\n",
              " 'Miss',\n",
              " 'Mr',\n",
              " 'Miss',\n",
              " 'Mrs',\n",
              " 'Mr',\n",
              " 'Mr',\n",
              " 'Miss',\n",
              " 'Mr',\n",
              " 'Mr',\n",
              " 'Mr',\n",
              " 'Mr',\n",
              " 'Mr',\n",
              " 'Mr',\n",
              " 'Mr',\n",
              " 'Mr',\n",
              " 'Mr',\n",
              " 'Mrs',\n",
              " 'Mr',\n",
              " 'Miss',\n",
              " 'Mr',\n",
              " 'Mr',\n",
              " 'Mr',\n",
              " 'Mr',\n",
              " 'Mr',\n",
              " 'Miss',\n",
              " 'Mr',\n",
              " 'Mr',\n",
              " 'Miss',\n",
              " 'Mr',\n",
              " 'Miss',\n",
              " 'Mr',\n",
              " 'Miss',\n",
              " 'Miss',\n",
              " 'Mr',\n",
              " 'Mr',\n",
              " 'Mr',\n",
              " 'Mr',\n",
              " 'Miss',\n",
              " 'Mr',\n",
              " 'Mr',\n",
              " 'Mr',\n",
              " 'Miss',\n",
              " 'Mr',\n",
              " 'Master',\n",
              " 'Mr',\n",
              " 'Mr',\n",
              " 'Miss',\n",
              " 'Mr',\n",
              " 'Mr',\n",
              " 'Mr',\n",
              " 'Mrs',\n",
              " 'Mrs',\n",
              " 'Mr',\n",
              " 'Mr',\n",
              " 'Miss',\n",
              " 'Mr',\n",
              " 'Mr',\n",
              " 'Mr',\n",
              " 'Mrs',\n",
              " 'Miss',\n",
              " 'Mrs',\n",
              " 'Mr',\n",
              " 'Mr',\n",
              " 'Mr',\n",
              " 'Mr',\n",
              " 'Miss',\n",
              " 'Mr',\n",
              " 'Rev',\n",
              " 'Rev',\n",
              " 'Mrs',\n",
              " 'Mr',\n",
              " 'Mr',\n",
              " 'Mr',\n",
              " 'Mr',\n",
              " 'Miss',\n",
              " 'Mr',\n",
              " 'Mr',\n",
              " 'Master',\n",
              " 'Mr',\n",
              " 'Mrs',\n",
              " 'Mr',\n",
              " 'Mr',\n",
              " 'Master',\n",
              " 'Master',\n",
              " 'Mrs',\n",
              " 'Mrs',\n",
              " 'Mr',\n",
              " 'Mr',\n",
              " 'Mr',\n",
              " 'Master',\n",
              " 'Miss',\n",
              " 'Mr',\n",
              " 'Mr',\n",
              " 'Mr',\n",
              " 'Master',\n",
              " 'Miss',\n",
              " 'Mr',\n",
              " 'Mr',\n",
              " 'Miss',\n",
              " 'Mr',\n",
              " 'Master',\n",
              " 'Master',\n",
              " 'Miss',\n",
              " 'Mr',\n",
              " 'Mrs',\n",
              " 'Mr',\n",
              " 'Mr',\n",
              " 'Mr',\n",
              " 'Mrs',\n",
              " 'Mr',\n",
              " 'Miss',\n",
              " 'Master',\n",
              " 'Mrs',\n",
              " 'Miss',\n",
              " 'Mr',\n",
              " 'Mr',\n",
              " 'Miss',\n",
              " 'Miss',\n",
              " 'Mr',\n",
              " 'Mr',\n",
              " 'Mr',\n",
              " 'Mr',\n",
              " 'Mr',\n",
              " 'Miss',\n",
              " 'Mr',\n",
              " 'Mr',\n",
              " 'Miss',\n",
              " 'Mr',\n",
              " 'Mr',\n",
              " 'Miss',\n",
              " 'Mr',\n",
              " 'Mr',\n",
              " 'Mr',\n",
              " 'Miss',\n",
              " 'Miss',\n",
              " 'Mr',\n",
              " 'Miss',\n",
              " 'Mr',\n",
              " 'Mr',\n",
              " 'Mr',\n",
              " 'Mr',\n",
              " 'Mr',\n",
              " 'Mr',\n",
              " 'Mr',\n",
              " 'Mr',\n",
              " 'Mr',\n",
              " 'Mr',\n",
              " 'Miss',\n",
              " 'Mrs',\n",
              " 'Mr',\n",
              " 'Mr',\n",
              " 'Miss',\n",
              " 'Mr',\n",
              " 'Miss',\n",
              " 'Mr',\n",
              " 'Miss',\n",
              " 'Mr',\n",
              " 'Mr',\n",
              " 'Miss',\n",
              " 'Miss',\n",
              " 'Mr',\n",
              " 'Mr',\n",
              " 'Mr',\n",
              " 'Dr',\n",
              " 'Miss',\n",
              " 'Mrs',\n",
              " 'Mr',\n",
              " 'Rev',\n",
              " 'Mr',\n",
              " 'Mrs',\n",
              " 'Mr',\n",
              " 'Mr',\n",
              " 'Mrs',\n",
              " 'Mrs',\n",
              " 'Mrs',\n",
              " 'Miss',\n",
              " 'Miss',\n",
              " 'Mrs',\n",
              " 'Mr',\n",
              " 'Master',\n",
              " 'Mr',\n",
              " 'Mr',\n",
              " 'Miss',\n",
              " 'Mr',\n",
              " 'Mr',\n",
              " 'Mr',\n",
              " 'Mrs',\n",
              " 'Miss',\n",
              " 'Mr',\n",
              " 'Mr',\n",
              " 'Mrs',\n",
              " 'Mr',\n",
              " 'Miss',\n",
              " 'Miss',\n",
              " 'Miss',\n",
              " 'Mr',\n",
              " 'Master',\n",
              " 'Mrs',\n",
              " 'Mr',\n",
              " 'Mr',\n",
              " 'Mr',\n",
              " 'Mr',\n",
              " 'Mr',\n",
              " 'Mr',\n",
              " 'Mr',\n",
              " 'Mr',\n",
              " 'Mr',\n",
              " 'Miss',\n",
              " 'Miss',\n",
              " 'Mrs',\n",
              " 'Mr',\n",
              " 'Miss',\n",
              " 'Mr',\n",
              " 'Mr',\n",
              " 'Mr',\n",
              " 'Miss',\n",
              " 'Mr',\n",
              " 'Mrs',\n",
              " 'Miss',\n",
              " 'Mr',\n",
              " 'Mr',\n",
              " 'Miss',\n",
              " 'Mr',\n",
              " 'Master',\n",
              " 'Miss',\n",
              " 'Mrs',\n",
              " 'Mr',\n",
              " 'Miss',\n",
              " 'Miss',\n",
              " 'Miss',\n",
              " 'Mrs',\n",
              " 'Mr',\n",
              " 'Mr',\n",
              " 'Miss',\n",
              " 'Mrs',\n",
              " 'Dr',\n",
              " 'Miss',\n",
              " 'Mrs',\n",
              " 'Mr',\n",
              " 'Mr',\n",
              " 'Miss',\n",
              " 'Mrs',\n",
              " 'Mr',\n",
              " 'Miss',\n",
              " 'Mr',\n",
              " 'Mrs',\n",
              " 'Mrs',\n",
              " 'Miss',\n",
              " 'Miss',\n",
              " 'Mr',\n",
              " 'Mr',\n",
              " 'Mr',\n",
              " 'Mrs',\n",
              " 'Mr',\n",
              " 'Mr',\n",
              " 'Miss',\n",
              " 'Mr',\n",
              " 'Mr',\n",
              " 'Master',\n",
              " 'Miss',\n",
              " 'Mr',\n",
              " 'Mr',\n",
              " 'Mr',\n",
              " 'Miss',\n",
              " 'Miss',\n",
              " 'Mrs',\n",
              " 'Master',\n",
              " 'Mr',\n",
              " 'Mr',\n",
              " 'Mr',\n",
              " 'Mr',\n",
              " 'Mr',\n",
              " 'Mr',\n",
              " 'Mr',\n",
              " 'Miss',\n",
              " 'Miss',\n",
              " 'Miss',\n",
              " 'Miss',\n",
              " 'Mr',\n",
              " 'Mr',\n",
              " 'Mrs',\n",
              " 'Mr',\n",
              " 'Mr',\n",
              " 'Mr',\n",
              " 'Mrs',\n",
              " 'Mrs',\n",
              " 'Miss',\n",
              " 'Mme',\n",
              " 'Mr',\n",
              " 'Mr',\n",
              " 'Mr',\n",
              " 'Mr',\n",
              " 'Miss',\n",
              " 'Mrs',\n",
              " 'Miss',\n",
              " 'Mr',\n",
              " 'Mr',\n",
              " 'Mr',\n",
              " 'Miss',\n",
              " 'Miss',\n",
              " 'Mr',\n",
              " 'Mrs',\n",
              " 'Mr',\n",
              " 'Mr',\n",
              " 'Master',\n",
              " 'Miss',\n",
              " 'Mr',\n",
              " 'Miss',\n",
              " 'Mr',\n",
              " 'Mr',\n",
              " 'Mr',\n",
              " 'Miss',\n",
              " 'Mrs',\n",
              " 'Mr',\n",
              " 'Miss',\n",
              " 'Mr',\n",
              " 'Dr',\n",
              " 'Mrs',\n",
              " 'Mr',\n",
              " 'Mr',\n",
              " 'Miss',\n",
              " 'Mr',\n",
              " 'Miss',\n",
              " 'Mr',\n",
              " 'Mr',\n",
              " 'Master',\n",
              " 'Mr',\n",
              " 'Miss',\n",
              " 'Mr',\n",
              " 'Mr',\n",
              " 'Miss',\n",
              " 'Mr',\n",
              " 'Mr',\n",
              " 'Mrs',\n",
              " 'Mrs',\n",
              " 'Miss',\n",
              " 'Mr',\n",
              " 'Miss',\n",
              " 'Mr',\n",
              " 'Mr',\n",
              " 'Mr',\n",
              " 'Mrs',\n",
              " 'Mr',\n",
              " 'Mr',\n",
              " 'Mrs',\n",
              " 'Miss',\n",
              " 'Mr',\n",
              " 'Mr',\n",
              " 'Mr',\n",
              " 'Mrs',\n",
              " 'Mrs',\n",
              " 'Mr',\n",
              " 'Mr',\n",
              " 'Miss',\n",
              " 'Miss',\n",
              " 'Mrs',\n",
              " 'Mr',\n",
              " 'Mr',\n",
              " 'Mrs',\n",
              " 'Mr',\n",
              " 'Mr',\n",
              " 'Ms',\n",
              " 'Mr',\n",
              " 'Master',\n",
              " 'Miss',\n",
              " 'Mr',\n",
              " 'Miss',\n",
              " 'Major',\n",
              " 'Mr',\n",
              " 'Mr',\n",
              " 'Mr',\n",
              " 'Mr',\n",
              " 'Mr',\n",
              " 'Mr',\n",
              " 'Mr',\n",
              " 'Mrs',\n",
              " 'Miss',\n",
              " 'Mr',\n",
              " 'Mr',\n",
              " 'Mr',\n",
              " 'Mr',\n",
              " 'Mr',\n",
              " 'Mr',\n",
              " 'Mr',\n",
              " 'Mr',\n",
              " 'Mr',\n",
              " 'Mr',\n",
              " 'Miss',\n",
              " 'Mr',\n",
              " 'Mr',\n",
              " 'Mrs',\n",
              " 'Mrs',\n",
              " 'Miss',\n",
              " 'Mr',\n",
              " 'Mr',\n",
              " 'Mr',\n",
              " 'Mr',\n",
              " 'Miss',\n",
              " 'Master',\n",
              " 'Mr',\n",
              " 'Mr',\n",
              " 'Mrs',\n",
              " 'Mr',\n",
              " 'Miss',\n",
              " 'Mrs',\n",
              " 'Mr',\n",
              " 'Mr',\n",
              " 'Master',\n",
              " 'Mr',\n",
              " 'Mr',\n",
              " 'Mr',\n",
              " 'Mr',\n",
              " 'Mr',\n",
              " 'Mr',\n",
              " 'Miss',\n",
              " 'Mr',\n",
              " 'Mrs',\n",
              " 'Mr',\n",
              " 'Mr',\n",
              " 'Miss',\n",
              " 'Miss',\n",
              " 'Miss',\n",
              " 'Miss',\n",
              " 'Mr',\n",
              " 'Mrs',\n",
              " 'Mr',\n",
              " 'Mr',\n",
              " 'Mr',\n",
              " 'Mr',\n",
              " 'Mr',\n",
              " 'Mr',\n",
              " 'Mrs',\n",
              " 'L',\n",
              " 'Mr',\n",
              " 'Mr',\n",
              " 'Mrs',\n",
              " 'Mr',\n",
              " 'Mrs',\n",
              " 'Mr',\n",
              " 'Miss',\n",
              " 'Mr',\n",
              " 'Mr',\n",
              " 'Mrs',\n",
              " 'Mr',\n",
              " 'Mr',\n",
              " 'Miss',\n",
              " 'Mr',\n",
              " 'Mr',\n",
              " 'Mr',\n",
              " 'Miss',\n",
              " 'Mr',\n",
              " 'Mr',\n",
              " 'Mrs',\n",
              " 'Miss',\n",
              " 'Miss',\n",
              " 'Major',\n",
              " 'Miss',\n",
              " 'Mr',\n",
              " 'Miss',\n",
              " 'Miss',\n",
              " 'Miss',\n",
              " 'Miss',\n",
              " 'Mr',\n",
              " 'Mr',\n",
              " 'Mr',\n",
              " 'Mrs',\n",
              " 'Mr',\n",
              " 'Mr',\n",
              " 'Master',\n",
              " 'Mr',\n",
              " 'Mr',\n",
              " 'Mr',\n",
              " 'Mr',\n",
              " 'Miss',\n",
              " 'Mr',\n",
              " 'Lady',\n",
              " 'Mr',\n",
              " 'Mrs',\n",
              " 'Mrs',\n",
              " 'Mr',\n",
              " 'Mr',\n",
              " 'Mr',\n",
              " 'Mr',\n",
              " 'Miss',\n",
              " 'Mr',\n",
              " 'Mr',\n",
              " 'Mrs',\n",
              " 'Mr',\n",
              " 'Mr',\n",
              " 'Mr',\n",
              " 'Mrs',\n",
              " 'Mr',\n",
              " 'Miss',\n",
              " 'Mr',\n",
              " 'Mr',\n",
              " 'Miss',\n",
              " 'Mrs',\n",
              " 'Mrs',\n",
              " 'Mr',\n",
              " 'Miss',\n",
              " 'Mrs',\n",
              " 'Mr',\n",
              " 'Mr',\n",
              " 'Mr',\n",
              " 'Miss',\n",
              " 'Mr',\n",
              " 'Mr',\n",
              " 'Mr',\n",
              " 'Mr',\n",
              " 'Mr',\n",
              " 'Mrs',\n",
              " 'Mr',\n",
              " 'Miss',\n",
              " 'Mr',\n",
              " 'Mr',\n",
              " 'Miss',\n",
              " 'Mr',\n",
              " 'Mr',\n",
              " 'Sir',\n",
              " 'Mrs',\n",
              " 'Mr',\n",
              " 'Mr',\n",
              " 'Mr',\n",
              " 'Mr',\n",
              " 'Mr',\n",
              " 'Mr',\n",
              " 'Mr',\n",
              " 'Mrs',\n",
              " 'Miss',\n",
              " 'Mrs',\n",
              " 'Mr',\n",
              " 'Miss',\n",
              " 'Mr',\n",
              " 'Mr',\n",
              " 'Miss',\n",
              " 'Mr',\n",
              " 'Mrs',\n",
              " 'Miss',\n",
              " 'Mr',\n",
              " 'Mr',\n",
              " 'Mr',\n",
              " 'Mr',\n",
              " 'Mr',\n",
              " 'Mr',\n",
              " 'Mr',\n",
              " 'Rev',\n",
              " 'Miss',\n",
              " 'Mr',\n",
              " 'Mr',\n",
              " 'Mr',\n",
              " 'Mr',\n",
              " 'Dr',\n",
              " 'Mr',\n",
              " 'Miss',\n",
              " 'Miss',\n",
              " 'Mr',\n",
              " 'Mr',\n",
              " 'Mrs',\n",
              " 'Mr',\n",
              " 'Mr',\n",
              " 'Mlle',\n",
              " 'Miss',\n",
              " 'Mr',\n",
              " 'Miss',\n",
              " 'Mr',\n",
              " 'Mr',\n",
              " 'Col',\n",
              " 'Mr',\n",
              " 'Miss',\n",
              " 'Mr',\n",
              " 'Miss',\n",
              " 'Mr',\n",
              " 'Miss',\n",
              " 'Miss',\n",
              " 'Mr',\n",
              " 'Mr',\n",
              " 'Mrs',\n",
              " 'Mr',\n",
              " 'Mr',\n",
              " 'Dr',\n",
              " 'Mr',\n",
              " 'Mr',\n",
              " 'Mr',\n",
              " 'Mr',\n",
              " 'Mr',\n",
              " 'Mr',\n",
              " 'Mr',\n",
              " 'Mr',\n",
              " 'Mrs',\n",
              " 'Mrs',\n",
              " 'Mr',\n",
              " 'Mr',\n",
              " 'Mr',\n",
              " 'Mr',\n",
              " 'Mr',\n",
              " 'Mr',\n",
              " 'Miss',\n",
              " 'Mrs',\n",
              " 'Mr',\n",
              " 'Miss',\n",
              " 'Mr',\n",
              " 'Mr',\n",
              " 'Mr',\n",
              " 'Mr',\n",
              " 'Mr',\n",
              " 'Mr',\n",
              " 'Mr',\n",
              " 'Mr',\n",
              " 'Miss',\n",
              " 'Mr',\n",
              " 'Miss',\n",
              " 'Mr',\n",
              " 'Mr',\n",
              " 'Col',\n",
              " 'Mr',\n",
              " 'Mr',\n",
              " 'Miss',\n",
              " 'Mr',\n",
              " 'Mr',\n",
              " 'Mrs',\n",
              " 'Mr',\n",
              " 'Miss',\n",
              " 'Mr',\n",
              " 'Mr',\n",
              " 'Mr',\n",
              " 'Mrs',\n",
              " 'Mr',\n",
              " 'Miss',\n",
              " 'Master',\n",
              " 'Mlle',\n",
              " 'Mr',\n",
              " 'Mr',\n",
              " 'Mr',\n",
              " 'Mr',\n",
              " 'Mr',\n",
              " 'Miss',\n",
              " 'Miss',\n",
              " 'Mr',\n",
              " 'Mr',\n",
              " 'Miss',\n",
              " 'Mr',\n",
              " 'Mr',\n",
              " 'Mr',\n",
              " 'Mr',\n",
              " 'Mr',\n",
              " 'Mrs',\n",
              " 'Miss',\n",
              " 'Mr',\n",
              " 'Miss',\n",
              " 'Miss',\n",
              " 'Mr',\n",
              " 'Mr',\n",
              " 'Mr',\n",
              " 'Mr',\n",
              " 'Mr',\n",
              " 'Mrs',\n",
              " 'Mr',\n",
              " 'Mr',\n",
              " 'Mr',\n",
              " 'Mr',\n",
              " 'Mr',\n",
              " 'Miss',\n",
              " 'Mr',\n",
              " 'Mr',\n",
              " 'Capt',\n",
              " 'Mr',\n",
              " 'Miss',\n",
              " 'Mr',\n",
              " 'Mr',\n",
              " 'Miss',\n",
              " 'Master',\n",
              " 'Mr',\n",
              " 'Mr',\n",
              " 'Mrs',\n",
              " 'Master',\n",
              " 'Mr',\n",
              " 'Mr',\n",
              " 'Mr',\n",
              " 'Countess',\n",
              " 'Mr',\n",
              " 'Mr',\n",
              " 'Mr',\n",
              " 'Mrs',\n",
              " 'Mr',\n",
              " 'Mrs',\n",
              " 'Dr',\n",
              " 'Miss',\n",
              " 'Mr',\n",
              " 'Mr',\n",
              " 'Mr',\n",
              " 'Mr',\n",
              " 'Mrs',\n",
              " 'Mr',\n",
              " 'Mrs',\n",
              " 'Mr',\n",
              " 'Mr',\n",
              " 'Miss',\n",
              " 'Mr',\n",
              " 'Mrs',\n",
              " 'Miss',\n",
              " 'Mrs',\n",
              " 'Mr',\n",
              " 'Mr',\n",
              " 'Mr',\n",
              " 'Mr',\n",
              " 'Miss',\n",
              " 'Master',\n",
              " 'Master',\n",
              " 'Mr',\n",
              " 'Mr',\n",
              " 'Mr',\n",
              " 'Miss',\n",
              " 'Mr',\n",
              " 'Mr',\n",
              " 'Mr',\n",
              " 'Dr',\n",
              " 'Mrs',\n",
              " 'Mr',\n",
              " 'Mrs',\n",
              " 'Mr',\n",
              " 'Mrs',\n",
              " 'Master',\n",
              " 'Master',\n",
              " 'Mr',\n",
              " 'Mr',\n",
              " 'Mr',\n",
              " 'Miss',\n",
              " 'Mr',\n",
              " 'Mrs',\n",
              " 'Mr',\n",
              " 'Mr',\n",
              " 'Mr',\n",
              " 'Miss',\n",
              " 'Mr',\n",
              " 'Mr',\n",
              " 'Miss',\n",
              " 'Mr',\n",
              " 'Mr',\n",
              " 'Master',\n",
              " 'Mrs',\n",
              " 'Mr',\n",
              " 'Jonkheer',\n",
              " 'Mrs',\n",
              " 'Master',\n",
              " 'Mr',\n",
              " 'Mr',\n",
              " 'Master',\n",
              " 'Mr',\n",
              " 'Mrs',\n",
              " 'Mrs',\n",
              " 'Master',\n",
              " 'Mr',\n",
              " 'Mr',\n",
              " 'Mr',\n",
              " 'Miss',\n",
              " 'Mr',\n",
              " 'Mr',\n",
              " 'Mr',\n",
              " 'Mr',\n",
              " 'Mr',\n",
              " 'Mr',\n",
              " 'Miss',\n",
              " 'Mr',\n",
              " 'Mr',\n",
              " 'Mr',\n",
              " 'Mr',\n",
              " 'Mr',\n",
              " 'Rev',\n",
              " 'Mrs',\n",
              " 'Master',\n",
              " 'Mr',\n",
              " 'Miss',\n",
              " 'Miss',\n",
              " 'Mrs',\n",
              " 'Mrs',\n",
              " 'Mrs',\n",
              " 'Mr',\n",
              " 'Mrs',\n",
              " 'Mr',\n",
              " 'Mr',\n",
              " 'Mr',\n",
              " 'Mrs',\n",
              " 'Miss',\n",
              " 'Mr',\n",
              " 'Mrs',\n",
              " 'Miss',\n",
              " 'Mr',\n",
              " 'Mr',\n",
              " 'Master',\n",
              " 'Mr',\n",
              " 'Mrs',\n",
              " 'Mr',\n",
              " 'Mr',\n",
              " 'Mrs',\n",
              " 'Miss',\n",
              " 'Mr',\n",
              " 'Mr',\n",
              " 'Mr',\n",
              " 'Mrs',\n",
              " 'Mrs',\n",
              " 'Mr',\n",
              " 'Miss',\n",
              " 'Mr',\n",
              " 'Mr',\n",
              " 'Mrs',\n",
              " 'Rev',\n",
              " 'Miss',\n",
              " 'Miss',\n",
              " 'Mr',\n",
              " 'Mr']"
            ]
          },
          "metadata": {
            "tags": []
          },
          "execution_count": 30
        }
      ]
    },
    {
      "cell_type": "code",
      "metadata": {
        "id": "vT9-6GekL4UA",
        "colab": {
          "base_uri": "https://localhost:8080/"
        },
        "outputId": "324d2506-d42a-427d-ca4d-d23435fe559d"
      },
      "source": [
        "train['Name'] = pd.Series(Name)\r\n",
        "train['Name']"
      ],
      "execution_count": 31,
      "outputs": [
        {
          "output_type": "execute_result",
          "data": {
            "text/plain": [
              "0        Mr\n",
              "1       Mrs\n",
              "2      Miss\n",
              "3       Mrs\n",
              "4        Mr\n",
              "       ... \n",
              "886     Mrs\n",
              "887     Rev\n",
              "888    Miss\n",
              "889    Miss\n",
              "890      Mr\n",
              "Name: Name, Length: 891, dtype: object"
            ]
          },
          "metadata": {
            "tags": []
          },
          "execution_count": 31
        }
      ]
    },
    {
      "cell_type": "code",
      "metadata": {
        "id": "-jwqI3pvMQ4F",
        "colab": {
          "base_uri": "https://localhost:8080/"
        },
        "outputId": "7aab1481-fa61-47b6-e81d-d9d308aaf37b"
      },
      "source": [
        "train['Name'].unique()"
      ],
      "execution_count": 32,
      "outputs": [
        {
          "output_type": "execute_result",
          "data": {
            "text/plain": [
              "array(['Mr', 'Mrs', 'Miss', 'Master', 'Don', 'Rev', 'Dr', 'Mme', 'Ms',\n",
              "       'Major', 'L', 'Lady', 'Sir', 'Mlle', 'Col', 'Capt', 'Countess',\n",
              "       'Jonkheer'], dtype=object)"
            ]
          },
          "metadata": {
            "tags": []
          },
          "execution_count": 32
        }
      ]
    },
    {
      "cell_type": "code",
      "metadata": {
        "id": "7flvOj16M7yc",
        "colab": {
          "base_uri": "https://localhost:8080/",
          "height": 295
        },
        "outputId": "97cf7d25-89ff-407f-ebbe-8009c559e481"
      },
      "source": [
        "sns.countplot(data= train, x = train['Name'])\r\n",
        "plt.title('Number of People')\r\n",
        "plt.show()"
      ],
      "execution_count": 33,
      "outputs": [
        {
          "output_type": "display_data",
          "data": {
            "image/png": "[encoded data removed]",
            "text/plain": [
              "<Figure size 432x288 with 1 Axes>"
            ]
          },
          "metadata": {
            "tags": [],
            "needs_background": "light"
          }
        }
      ]
    },
    {
      "cell_type": "markdown",
      "metadata": {
        "id": "a3_e28uITZth"
      },
      "source": [
        "` name의 구성을 보면 'Mr','Mrs','Miss','Master'가 대부분을 구성하고 나머지 많은 이름들은 극히 일부분이므로 Others로 통합 ` "
      ]
    },
    {
      "cell_type": "code",
      "metadata": {
        "id": "_FD4y5c0PxMu",
        "colab": {
          "base_uri": "https://localhost:8080/"
        },
        "outputId": "eaaaa0dd-76e1-427e-f103-4072871d2603"
      },
      "source": [
        "train['Name'] = train['Name'].replace([ 'Don', 'Rev', 'Dr', 'Mme', 'Ms',\r\n",
        "       'Major', 'L', 'Lady', 'Sir', 'Mlle', 'Col', 'Capt', 'Countess',\r\n",
        "       'Jonkheer'], 'Others')\r\n",
        "train['Name'].unique()"
      ],
      "execution_count": 34,
      "outputs": [
        {
          "output_type": "execute_result",
          "data": {
            "text/plain": [
              "array(['Mr', 'Mrs', 'Miss', 'Master', 'Others'], dtype=object)"
            ]
          },
          "metadata": {
            "tags": []
          },
          "execution_count": 34
        }
      ]
    },
    {
      "cell_type": "code",
      "metadata": {
        "id": "buYtDGfhVJX9",
        "colab": {
          "base_uri": "https://localhost:8080/",
          "height": 295
        },
        "outputId": "a618bc96-d4f6-4eae-c905-2ca2265c43b7"
      },
      "source": [
        "sns.countplot(data= train, x = train['Name'])\r\n",
        "plt.title('Number of People')\r\n",
        "plt.show()"
      ],
      "execution_count": 35,
      "outputs": [
        {
          "output_type": "display_data",
          "data": {
            "image/png": "[encoded data removed]",
            "text/plain": [
              "<Figure size 432x288 with 1 Axes>"
            ]
          },
          "metadata": {
            "tags": [],
            "needs_background": "light"
          }
        }
      ]
    },
    {
      "cell_type": "markdown",
      "metadata": {
        "id": "aZ1rLtudWZxT"
      },
      "source": [
        "` 인코딩을 통해 int형 으로 만들어 주기 `"
      ]
    },
    {
      "cell_type": "code",
      "metadata": {
        "id": "OYl4yt1LVoHh"
      },
      "source": [
        "from sklearn.preprocessing import LabelEncoder"
      ],
      "execution_count": 36,
      "outputs": []
    },
    {
      "cell_type": "markdown",
      "metadata": {
        "id": "aTWxsjlE887T"
      },
      "source": [
        "` Master : 0 , Miss : 1,  Mr : 2, Mrs : 3  Others : 4`\r\n",
        "내가 원하는대로 숫자를 지정해 줄 수 있나?"
      ]
    },
    {
      "cell_type": "code",
      "metadata": {
        "id": "kyv9qkVoVQ-i",
        "colab": {
          "base_uri": "https://localhost:8080/",
          "height": 343
        },
        "outputId": "19406dfb-5ade-4f50-e2af-ed0e77d24ddc"
      },
      "source": [
        "le = LabelEncoder()\r\n",
        "le.fit(train['Name'])\r\n",
        "train['Name'] = le.transform(train['Name'])\r\n",
        "train.head(10)"
      ],
      "execution_count": 37,
      "outputs": [
        {
          "output_type": "execute_result",
          "data": {
            "text/html": [
              "<div>\n",
              "<style scoped>\n",
              "    .dataframe tbody tr th:only-of-type {\n",
              "        vertical-align: middle;\n",
              "    }\n",
              "\n",
              "    .dataframe tbody tr th {\n",
              "        vertical-align: top;\n",
              "    }\n",
              "\n",
              "    .dataframe thead th {\n",
              "        text-align: right;\n",
              "    }\n",
              "</style>\n",
              "<table border=\"1\" class=\"dataframe\">\n",
              "  <thead>\n",
              "    <tr style=\"text-align: right;\">\n",
              "      <th></th>\n",
              "      <th>PassengerId</th>\n",
              "      <th>Survived</th>\n",
              "      <th>Pclass</th>\n",
              "      <th>Name</th>\n",
              "      <th>Sex</th>\n",
              "      <th>Age</th>\n",
              "      <th>Fare</th>\n",
              "      <th>Embarked</th>\n",
              "      <th>Alone</th>\n",
              "    </tr>\n",
              "  </thead>\n",
              "  <tbody>\n",
              "    <tr>\n",
              "      <th>0</th>\n",
              "      <td>1</td>\n",
              "      <td>0</td>\n",
              "      <td>3</td>\n",
              "      <td>2</td>\n",
              "      <td>male</td>\n",
              "      <td>22</td>\n",
              "      <td>7</td>\n",
              "      <td>S</td>\n",
              "      <td>1</td>\n",
              "    </tr>\n",
              "    <tr>\n",
              "      <th>1</th>\n",
              "      <td>2</td>\n",
              "      <td>1</td>\n",
              "      <td>1</td>\n",
              "      <td>3</td>\n",
              "      <td>female</td>\n",
              "      <td>38</td>\n",
              "      <td>71</td>\n",
              "      <td>C</td>\n",
              "      <td>1</td>\n",
              "    </tr>\n",
              "    <tr>\n",
              "      <th>2</th>\n",
              "      <td>3</td>\n",
              "      <td>1</td>\n",
              "      <td>3</td>\n",
              "      <td>1</td>\n",
              "      <td>female</td>\n",
              "      <td>26</td>\n",
              "      <td>8</td>\n",
              "      <td>S</td>\n",
              "      <td>0</td>\n",
              "    </tr>\n",
              "    <tr>\n",
              "      <th>3</th>\n",
              "      <td>4</td>\n",
              "      <td>1</td>\n",
              "      <td>1</td>\n",
              "      <td>3</td>\n",
              "      <td>female</td>\n",
              "      <td>35</td>\n",
              "      <td>53</td>\n",
              "      <td>S</td>\n",
              "      <td>1</td>\n",
              "    </tr>\n",
              "    <tr>\n",
              "      <th>4</th>\n",
              "      <td>5</td>\n",
              "      <td>0</td>\n",
              "      <td>3</td>\n",
              "      <td>2</td>\n",
              "      <td>male</td>\n",
              "      <td>35</td>\n",
              "      <td>8</td>\n",
              "      <td>S</td>\n",
              "      <td>0</td>\n",
              "    </tr>\n",
              "    <tr>\n",
              "      <th>5</th>\n",
              "      <td>6</td>\n",
              "      <td>0</td>\n",
              "      <td>3</td>\n",
              "      <td>2</td>\n",
              "      <td>male</td>\n",
              "      <td>32</td>\n",
              "      <td>8</td>\n",
              "      <td>Q</td>\n",
              "      <td>0</td>\n",
              "    </tr>\n",
              "    <tr>\n",
              "      <th>6</th>\n",
              "      <td>7</td>\n",
              "      <td>0</td>\n",
              "      <td>1</td>\n",
              "      <td>2</td>\n",
              "      <td>male</td>\n",
              "      <td>54</td>\n",
              "      <td>52</td>\n",
              "      <td>S</td>\n",
              "      <td>0</td>\n",
              "    </tr>\n",
              "    <tr>\n",
              "      <th>7</th>\n",
              "      <td>8</td>\n",
              "      <td>0</td>\n",
              "      <td>3</td>\n",
              "      <td>0</td>\n",
              "      <td>male</td>\n",
              "      <td>2</td>\n",
              "      <td>21</td>\n",
              "      <td>S</td>\n",
              "      <td>1</td>\n",
              "    </tr>\n",
              "    <tr>\n",
              "      <th>8</th>\n",
              "      <td>9</td>\n",
              "      <td>1</td>\n",
              "      <td>3</td>\n",
              "      <td>3</td>\n",
              "      <td>female</td>\n",
              "      <td>27</td>\n",
              "      <td>11</td>\n",
              "      <td>S</td>\n",
              "      <td>1</td>\n",
              "    </tr>\n",
              "    <tr>\n",
              "      <th>9</th>\n",
              "      <td>10</td>\n",
              "      <td>1</td>\n",
              "      <td>2</td>\n",
              "      <td>3</td>\n",
              "      <td>female</td>\n",
              "      <td>14</td>\n",
              "      <td>30</td>\n",
              "      <td>C</td>\n",
              "      <td>1</td>\n",
              "    </tr>\n",
              "  </tbody>\n",
              "</table>\n",
              "</div>"
            ],
            "text/plain": [
              "   PassengerId  Survived  Pclass  Name     Sex  Age  Fare Embarked  Alone\n",
              "0            1         0       3     2    male   22     7        S      1\n",
              "1            2         1       1     3  female   38    71        C      1\n",
              "2            3         1       3     1  female   26     8        S      0\n",
              "3            4         1       1     3  female   35    53        S      1\n",
              "4            5         0       3     2    male   35     8        S      0\n",
              "5            6         0       3     2    male   32     8        Q      0\n",
              "6            7         0       1     2    male   54    52        S      0\n",
              "7            8         0       3     0    male    2    21        S      1\n",
              "8            9         1       3     3  female   27    11        S      1\n",
              "9           10         1       2     3  female   14    30        C      1"
            ]
          },
          "metadata": {
            "tags": []
          },
          "execution_count": 37
        }
      ]
    },
    {
      "cell_type": "code",
      "metadata": {
        "id": "C1s5mpXjWKj0",
        "colab": {
          "base_uri": "https://localhost:8080/"
        },
        "outputId": "f628ae32-b231-410a-83a7-9d0f73b92680"
      },
      "source": [
        "train['Name'].unique()\r\n",
        "# train['Name'].nunique()"
      ],
      "execution_count": 38,
      "outputs": [
        {
          "output_type": "execute_result",
          "data": {
            "text/plain": [
              "array([2, 3, 1, 0, 4])"
            ]
          },
          "metadata": {
            "tags": []
          },
          "execution_count": 38
        }
      ]
    },
    {
      "cell_type": "code",
      "metadata": {
        "id": "SQO0EBkCWPT6",
        "colab": {
          "base_uri": "https://localhost:8080/"
        },
        "outputId": "44d7ea80-a776-4a4e-efb5-fc366b76e113"
      },
      "source": [
        "train.info()"
      ],
      "execution_count": 39,
      "outputs": [
        {
          "output_type": "stream",
          "text": [
            "<class 'pandas.core.frame.DataFrame'>\n",
            "RangeIndex: 891 entries, 0 to 890\n",
            "Data columns (total 9 columns):\n",
            " #   Column       Non-Null Count  Dtype \n",
            "---  ------       --------------  ----- \n",
            " 0   PassengerId  891 non-null    int64 \n",
            " 1   Survived     891 non-null    int64 \n",
            " 2   Pclass       891 non-null    int64 \n",
            " 3   Name         891 non-null    int64 \n",
            " 4   Sex          891 non-null    object\n",
            " 5   Age          891 non-null    int64 \n",
            " 6   Fare         891 non-null    int64 \n",
            " 7   Embarked     891 non-null    object\n",
            " 8   Alone        891 non-null    int64 \n",
            "dtypes: int64(7), object(2)\n",
            "memory usage: 62.8+ KB\n"
          ],
          "name": "stdout"
        }
      ]
    },
    {
      "cell_type": "markdown",
      "metadata": {
        "id": "OEsNC-l7XWPY"
      },
      "source": [
        "'Sex' 변환"
      ]
    },
    {
      "cell_type": "code",
      "metadata": {
        "id": "tMYxUpdKXOr6",
        "colab": {
          "base_uri": "https://localhost:8080/"
        },
        "outputId": "e73f49df-53d7-45da-d8f9-c127b359fa7d"
      },
      "source": [
        "train['Sex'] = train['Sex'].map({'male': 0, 'female' : 1})\r\n",
        "train['Sex']"
      ],
      "execution_count": 40,
      "outputs": [
        {
          "output_type": "execute_result",
          "data": {
            "text/plain": [
              "0      0\n",
              "1      1\n",
              "2      1\n",
              "3      1\n",
              "4      0\n",
              "      ..\n",
              "886    0\n",
              "887    1\n",
              "888    1\n",
              "889    0\n",
              "890    0\n",
              "Name: Sex, Length: 891, dtype: int64"
            ]
          },
          "metadata": {
            "tags": []
          },
          "execution_count": 40
        }
      ]
    },
    {
      "cell_type": "code",
      "metadata": {
        "id": "EReNjDGpXkhT",
        "colab": {
          "base_uri": "https://localhost:8080/"
        },
        "outputId": "ce5c4ac8-f9d9-4785-bf66-84277ff07a17"
      },
      "source": [
        "train.info()"
      ],
      "execution_count": 41,
      "outputs": [
        {
          "output_type": "stream",
          "text": [
            "<class 'pandas.core.frame.DataFrame'>\n",
            "RangeIndex: 891 entries, 0 to 890\n",
            "Data columns (total 9 columns):\n",
            " #   Column       Non-Null Count  Dtype \n",
            "---  ------       --------------  ----- \n",
            " 0   PassengerId  891 non-null    int64 \n",
            " 1   Survived     891 non-null    int64 \n",
            " 2   Pclass       891 non-null    int64 \n",
            " 3   Name         891 non-null    int64 \n",
            " 4   Sex          891 non-null    int64 \n",
            " 5   Age          891 non-null    int64 \n",
            " 6   Fare         891 non-null    int64 \n",
            " 7   Embarked     891 non-null    object\n",
            " 8   Alone        891 non-null    int64 \n",
            "dtypes: int64(8), object(1)\n",
            "memory usage: 62.8+ KB\n"
          ],
          "name": "stdout"
        }
      ]
    },
    {
      "cell_type": "markdown",
      "metadata": {
        "id": "XUFYJUvGY4uD"
      },
      "source": [
        "'Embarked' 변환"
      ]
    },
    {
      "cell_type": "code",
      "metadata": {
        "id": "U7MXBII6XnVa",
        "colab": {
          "base_uri": "https://localhost:8080/"
        },
        "outputId": "1aa6da0b-8bc2-4904-a0ab-0d5461ceda56"
      },
      "source": [
        "train['Embarked'].unique()"
      ],
      "execution_count": 42,
      "outputs": [
        {
          "output_type": "execute_result",
          "data": {
            "text/plain": [
              "array(['S', 'C', 'Q'], dtype=object)"
            ]
          },
          "metadata": {
            "tags": []
          },
          "execution_count": 42
        }
      ]
    },
    {
      "cell_type": "code",
      "metadata": {
        "id": "-WdXI7jSZiyR",
        "colab": {
          "base_uri": "https://localhost:8080/"
        },
        "outputId": "3120bcae-dedf-4416-b309-1243ee551907"
      },
      "source": [
        "train.loc[train['Embarked'] == 'S', 'Embarked'].count()\r\n"
      ],
      "execution_count": 43,
      "outputs": [
        {
          "output_type": "execute_result",
          "data": {
            "text/plain": [
              "646"
            ]
          },
          "metadata": {
            "tags": []
          },
          "execution_count": 43
        }
      ]
    },
    {
      "cell_type": "code",
      "metadata": {
        "id": "gZ5rUnpoZus6",
        "colab": {
          "base_uri": "https://localhost:8080/"
        },
        "outputId": "58dce8e0-05f6-4e88-c082-0f0ef47c0fd5"
      },
      "source": [
        "train.loc[train['Embarked'] == 'C', 'Embarked'].count()"
      ],
      "execution_count": 44,
      "outputs": [
        {
          "output_type": "execute_result",
          "data": {
            "text/plain": [
              "168"
            ]
          },
          "metadata": {
            "tags": []
          },
          "execution_count": 44
        }
      ]
    },
    {
      "cell_type": "code",
      "metadata": {
        "id": "Q0Lt-mOraB_7",
        "colab": {
          "base_uri": "https://localhost:8080/"
        },
        "outputId": "ae399233-b4f7-4a41-ed35-59b3b2d81891"
      },
      "source": [
        "train.loc[train['Embarked'] == 'Q', 'Embarked'].count()"
      ],
      "execution_count": 45,
      "outputs": [
        {
          "output_type": "execute_result",
          "data": {
            "text/plain": [
              "77"
            ]
          },
          "metadata": {
            "tags": []
          },
          "execution_count": 45
        }
      ]
    },
    {
      "cell_type": "markdown",
      "metadata": {
        "id": "4jqCxaSVbDmV"
      },
      "source": [
        "` Survivded : 0 = 비생존 , 1 = 생존 `\r\n",
        "\r\n",
        "` Embarked : Q = 1 , C = 0 , S = 2 `\r\n",
        "\r\n",
        "` Pclass : 1 = 1등급, 2 = 2등급 , 3 = 3등급`\r\n",
        "\r\n",
        "` Name : 0 = 'Master', 1 = 'Miss', 2 = 'Mr', \r\n",
        "3 =   'Mrs', 4 = 'Others' `\r\n",
        "\r\n",
        "` Sex : 0  = male, 1 = female `\r\n",
        "\r\n",
        "` Alone : 0 = 혼자, 1 = 둘 이상 `"
      ]
    },
    {
      "cell_type": "code",
      "metadata": {
        "id": "Yzbd94bUaDTa",
        "colab": {
          "base_uri": "https://localhost:8080/",
          "height": 343
        },
        "outputId": "693860e3-fedc-4659-9d81-0bc93a2712b4"
      },
      "source": [
        "le= LabelEncoder()\r\n",
        "le.fit(train['Embarked'])\r\n",
        "train['Embarked'] =le.transform(train['Embarked']) \r\n",
        "train.head(10)\r\n"
      ],
      "execution_count": 46,
      "outputs": [
        {
          "output_type": "execute_result",
          "data": {
            "text/html": [
              "<div>\n",
              "<style scoped>\n",
              "    .dataframe tbody tr th:only-of-type {\n",
              "        vertical-align: middle;\n",
              "    }\n",
              "\n",
              "    .dataframe tbody tr th {\n",
              "        vertical-align: top;\n",
              "    }\n",
              "\n",
              "    .dataframe thead th {\n",
              "        text-align: right;\n",
              "    }\n",
              "</style>\n",
              "<table border=\"1\" class=\"dataframe\">\n",
              "  <thead>\n",
              "    <tr style=\"text-align: right;\">\n",
              "      <th></th>\n",
              "      <th>PassengerId</th>\n",
              "      <th>Survived</th>\n",
              "      <th>Pclass</th>\n",
              "      <th>Name</th>\n",
              "      <th>Sex</th>\n",
              "      <th>Age</th>\n",
              "      <th>Fare</th>\n",
              "      <th>Embarked</th>\n",
              "      <th>Alone</th>\n",
              "    </tr>\n",
              "  </thead>\n",
              "  <tbody>\n",
              "    <tr>\n",
              "      <th>0</th>\n",
              "      <td>1</td>\n",
              "      <td>0</td>\n",
              "      <td>3</td>\n",
              "      <td>2</td>\n",
              "      <td>0</td>\n",
              "      <td>22</td>\n",
              "      <td>7</td>\n",
              "      <td>2</td>\n",
              "      <td>1</td>\n",
              "    </tr>\n",
              "    <tr>\n",
              "      <th>1</th>\n",
              "      <td>2</td>\n",
              "      <td>1</td>\n",
              "      <td>1</td>\n",
              "      <td>3</td>\n",
              "      <td>1</td>\n",
              "      <td>38</td>\n",
              "      <td>71</td>\n",
              "      <td>0</td>\n",
              "      <td>1</td>\n",
              "    </tr>\n",
              "    <tr>\n",
              "      <th>2</th>\n",
              "      <td>3</td>\n",
              "      <td>1</td>\n",
              "      <td>3</td>\n",
              "      <td>1</td>\n",
              "      <td>1</td>\n",
              "      <td>26</td>\n",
              "      <td>8</td>\n",
              "      <td>2</td>\n",
              "      <td>0</td>\n",
              "    </tr>\n",
              "    <tr>\n",
              "      <th>3</th>\n",
              "      <td>4</td>\n",
              "      <td>1</td>\n",
              "      <td>1</td>\n",
              "      <td>3</td>\n",
              "      <td>1</td>\n",
              "      <td>35</td>\n",
              "      <td>53</td>\n",
              "      <td>2</td>\n",
              "      <td>1</td>\n",
              "    </tr>\n",
              "    <tr>\n",
              "      <th>4</th>\n",
              "      <td>5</td>\n",
              "      <td>0</td>\n",
              "      <td>3</td>\n",
              "      <td>2</td>\n",
              "      <td>0</td>\n",
              "      <td>35</td>\n",
              "      <td>8</td>\n",
              "      <td>2</td>\n",
              "      <td>0</td>\n",
              "    </tr>\n",
              "    <tr>\n",
              "      <th>5</th>\n",
              "      <td>6</td>\n",
              "      <td>0</td>\n",
              "      <td>3</td>\n",
              "      <td>2</td>\n",
              "      <td>0</td>\n",
              "      <td>32</td>\n",
              "      <td>8</td>\n",
              "      <td>1</td>\n",
              "      <td>0</td>\n",
              "    </tr>\n",
              "    <tr>\n",
              "      <th>6</th>\n",
              "      <td>7</td>\n",
              "      <td>0</td>\n",
              "      <td>1</td>\n",
              "      <td>2</td>\n",
              "      <td>0</td>\n",
              "      <td>54</td>\n",
              "      <td>52</td>\n",
              "      <td>2</td>\n",
              "      <td>0</td>\n",
              "    </tr>\n",
              "    <tr>\n",
              "      <th>7</th>\n",
              "      <td>8</td>\n",
              "      <td>0</td>\n",
              "      <td>3</td>\n",
              "      <td>0</td>\n",
              "      <td>0</td>\n",
              "      <td>2</td>\n",
              "      <td>21</td>\n",
              "      <td>2</td>\n",
              "      <td>1</td>\n",
              "    </tr>\n",
              "    <tr>\n",
              "      <th>8</th>\n",
              "      <td>9</td>\n",
              "      <td>1</td>\n",
              "      <td>3</td>\n",
              "      <td>3</td>\n",
              "      <td>1</td>\n",
              "      <td>27</td>\n",
              "      <td>11</td>\n",
              "      <td>2</td>\n",
              "      <td>1</td>\n",
              "    </tr>\n",
              "    <tr>\n",
              "      <th>9</th>\n",
              "      <td>10</td>\n",
              "      <td>1</td>\n",
              "      <td>2</td>\n",
              "      <td>3</td>\n",
              "      <td>1</td>\n",
              "      <td>14</td>\n",
              "      <td>30</td>\n",
              "      <td>0</td>\n",
              "      <td>1</td>\n",
              "    </tr>\n",
              "  </tbody>\n",
              "</table>\n",
              "</div>"
            ],
            "text/plain": [
              "   PassengerId  Survived  Pclass  Name  Sex  Age  Fare  Embarked  Alone\n",
              "0            1         0       3     2    0   22     7         2      1\n",
              "1            2         1       1     3    1   38    71         0      1\n",
              "2            3         1       3     1    1   26     8         2      0\n",
              "3            4         1       1     3    1   35    53         2      1\n",
              "4            5         0       3     2    0   35     8         2      0\n",
              "5            6         0       3     2    0   32     8         1      0\n",
              "6            7         0       1     2    0   54    52         2      0\n",
              "7            8         0       3     0    0    2    21         2      1\n",
              "8            9         1       3     3    1   27    11         2      1\n",
              "9           10         1       2     3    1   14    30         0      1"
            ]
          },
          "metadata": {
            "tags": []
          },
          "execution_count": 46
        }
      ]
    },
    {
      "cell_type": "markdown",
      "metadata": {
        "id": "Frs29JpDcQi3"
      },
      "source": [
        "` 'Age' 와 'Fare' 의 인코딩이 필요 `"
      ]
    },
    {
      "cell_type": "code",
      "metadata": {
        "id": "D_NAef5NavS_",
        "colab": {
          "base_uri": "https://localhost:8080/"
        },
        "outputId": "bc4f1ddc-d615-444e-bee1-cecadaa17cab"
      },
      "source": [
        "train['Age'].min()"
      ],
      "execution_count": 47,
      "outputs": [
        {
          "output_type": "execute_result",
          "data": {
            "text/plain": [
              "0"
            ]
          },
          "metadata": {
            "tags": []
          },
          "execution_count": 47
        }
      ]
    },
    {
      "cell_type": "code",
      "metadata": {
        "id": "Wx0mt5MEL3xA",
        "colab": {
          "base_uri": "https://localhost:8080/"
        },
        "outputId": "d8ad5271-04be-4010-b1dc-0081c071f268"
      },
      "source": [
        "train['Age'].max()"
      ],
      "execution_count": 48,
      "outputs": [
        {
          "output_type": "execute_result",
          "data": {
            "text/plain": [
              "80"
            ]
          },
          "metadata": {
            "tags": []
          },
          "execution_count": 48
        }
      ]
    },
    {
      "cell_type": "code",
      "metadata": {
        "id": "xvn5yrcKL_aw",
        "colab": {
          "base_uri": "https://localhost:8080/"
        },
        "outputId": "f0198e51-48e6-4902-a054-64ed3da0d5e7"
      },
      "source": [
        "train.loc[train['Age'] == 0 , 'Age']"
      ],
      "execution_count": 49,
      "outputs": [
        {
          "output_type": "execute_result",
          "data": {
            "text/plain": [
              "78     0\n",
              "305    0\n",
              "469    0\n",
              "644    0\n",
              "755    0\n",
              "803    0\n",
              "831    0\n",
              "Name: Age, dtype: int64"
            ]
          },
          "metadata": {
            "tags": []
          },
          "execution_count": 49
        }
      ]
    },
    {
      "cell_type": "code",
      "metadata": {
        "id": "hPqdkgbJMUD8",
        "outputId": "1d94ba97-8fc0-4e33-9a48-2d3500dbb9db",
        "colab": {
          "base_uri": "https://localhost:8080/",
          "height": 402
        }
      },
      "source": [
        "a = train.loc[train['Age'] == 0 , 'Age']\r\n",
        "train.drop(a.index,inplace=True)\r\n",
        "train"
      ],
      "execution_count": 50,
      "outputs": [
        {
          "output_type": "execute_result",
          "data": {
            "text/html": [
              "<div>\n",
              "<style scoped>\n",
              "    .dataframe tbody tr th:only-of-type {\n",
              "        vertical-align: middle;\n",
              "    }\n",
              "\n",
              "    .dataframe tbody tr th {\n",
              "        vertical-align: top;\n",
              "    }\n",
              "\n",
              "    .dataframe thead th {\n",
              "        text-align: right;\n",
              "    }\n",
              "</style>\n",
              "<table border=\"1\" class=\"dataframe\">\n",
              "  <thead>\n",
              "    <tr style=\"text-align: right;\">\n",
              "      <th></th>\n",
              "      <th>PassengerId</th>\n",
              "      <th>Survived</th>\n",
              "      <th>Pclass</th>\n",
              "      <th>Name</th>\n",
              "      <th>Sex</th>\n",
              "      <th>Age</th>\n",
              "      <th>Fare</th>\n",
              "      <th>Embarked</th>\n",
              "      <th>Alone</th>\n",
              "    </tr>\n",
              "  </thead>\n",
              "  <tbody>\n",
              "    <tr>\n",
              "      <th>0</th>\n",
              "      <td>1</td>\n",
              "      <td>0</td>\n",
              "      <td>3</td>\n",
              "      <td>2</td>\n",
              "      <td>0</td>\n",
              "      <td>22</td>\n",
              "      <td>7</td>\n",
              "      <td>2</td>\n",
              "      <td>1</td>\n",
              "    </tr>\n",
              "    <tr>\n",
              "      <th>1</th>\n",
              "      <td>2</td>\n",
              "      <td>1</td>\n",
              "      <td>1</td>\n",
              "      <td>3</td>\n",
              "      <td>1</td>\n",
              "      <td>38</td>\n",
              "      <td>71</td>\n",
              "      <td>0</td>\n",
              "      <td>1</td>\n",
              "    </tr>\n",
              "    <tr>\n",
              "      <th>2</th>\n",
              "      <td>3</td>\n",
              "      <td>1</td>\n",
              "      <td>3</td>\n",
              "      <td>1</td>\n",
              "      <td>1</td>\n",
              "      <td>26</td>\n",
              "      <td>8</td>\n",
              "      <td>2</td>\n",
              "      <td>0</td>\n",
              "    </tr>\n",
              "    <tr>\n",
              "      <th>3</th>\n",
              "      <td>4</td>\n",
              "      <td>1</td>\n",
              "      <td>1</td>\n",
              "      <td>3</td>\n",
              "      <td>1</td>\n",
              "      <td>35</td>\n",
              "      <td>53</td>\n",
              "      <td>2</td>\n",
              "      <td>1</td>\n",
              "    </tr>\n",
              "    <tr>\n",
              "      <th>4</th>\n",
              "      <td>5</td>\n",
              "      <td>0</td>\n",
              "      <td>3</td>\n",
              "      <td>2</td>\n",
              "      <td>0</td>\n",
              "      <td>35</td>\n",
              "      <td>8</td>\n",
              "      <td>2</td>\n",
              "      <td>0</td>\n",
              "    </tr>\n",
              "    <tr>\n",
              "      <th>...</th>\n",
              "      <td>...</td>\n",
              "      <td>...</td>\n",
              "      <td>...</td>\n",
              "      <td>...</td>\n",
              "      <td>...</td>\n",
              "      <td>...</td>\n",
              "      <td>...</td>\n",
              "      <td>...</td>\n",
              "      <td>...</td>\n",
              "    </tr>\n",
              "    <tr>\n",
              "      <th>886</th>\n",
              "      <td>887</td>\n",
              "      <td>0</td>\n",
              "      <td>2</td>\n",
              "      <td>3</td>\n",
              "      <td>0</td>\n",
              "      <td>27</td>\n",
              "      <td>13</td>\n",
              "      <td>2</td>\n",
              "      <td>0</td>\n",
              "    </tr>\n",
              "    <tr>\n",
              "      <th>887</th>\n",
              "      <td>888</td>\n",
              "      <td>1</td>\n",
              "      <td>1</td>\n",
              "      <td>4</td>\n",
              "      <td>1</td>\n",
              "      <td>19</td>\n",
              "      <td>30</td>\n",
              "      <td>2</td>\n",
              "      <td>0</td>\n",
              "    </tr>\n",
              "    <tr>\n",
              "      <th>888</th>\n",
              "      <td>889</td>\n",
              "      <td>0</td>\n",
              "      <td>3</td>\n",
              "      <td>1</td>\n",
              "      <td>1</td>\n",
              "      <td>51</td>\n",
              "      <td>23</td>\n",
              "      <td>2</td>\n",
              "      <td>1</td>\n",
              "    </tr>\n",
              "    <tr>\n",
              "      <th>889</th>\n",
              "      <td>890</td>\n",
              "      <td>1</td>\n",
              "      <td>1</td>\n",
              "      <td>1</td>\n",
              "      <td>0</td>\n",
              "      <td>26</td>\n",
              "      <td>30</td>\n",
              "      <td>0</td>\n",
              "      <td>0</td>\n",
              "    </tr>\n",
              "    <tr>\n",
              "      <th>890</th>\n",
              "      <td>891</td>\n",
              "      <td>0</td>\n",
              "      <td>3</td>\n",
              "      <td>2</td>\n",
              "      <td>0</td>\n",
              "      <td>32</td>\n",
              "      <td>8</td>\n",
              "      <td>1</td>\n",
              "      <td>0</td>\n",
              "    </tr>\n",
              "  </tbody>\n",
              "</table>\n",
              "<p>884 rows × 9 columns</p>\n",
              "</div>"
            ],
            "text/plain": [
              "     PassengerId  Survived  Pclass  Name  Sex  Age  Fare  Embarked  Alone\n",
              "0              1         0       3     2    0   22     7         2      1\n",
              "1              2         1       1     3    1   38    71         0      1\n",
              "2              3         1       3     1    1   26     8         2      0\n",
              "3              4         1       1     3    1   35    53         2      1\n",
              "4              5         0       3     2    0   35     8         2      0\n",
              "..           ...       ...     ...   ...  ...  ...   ...       ...    ...\n",
              "886          887         0       2     3    0   27    13         2      0\n",
              "887          888         1       1     4    1   19    30         2      0\n",
              "888          889         0       3     1    1   51    23         2      1\n",
              "889          890         1       1     1    0   26    30         0      0\n",
              "890          891         0       3     2    0   32     8         1      0\n",
              "\n",
              "[884 rows x 9 columns]"
            ]
          },
          "metadata": {
            "tags": []
          },
          "execution_count": 50
        }
      ]
    },
    {
      "cell_type": "code",
      "metadata": {
        "id": "welpd-1PCjsa",
        "outputId": "15a6b21e-063d-4df6-8941-824e9d6e592c",
        "colab": {
          "base_uri": "https://localhost:8080/"
        }
      },
      "source": [
        "train['Age'].min()"
      ],
      "execution_count": 51,
      "outputs": [
        {
          "output_type": "execute_result",
          "data": {
            "text/plain": [
              "1"
            ]
          },
          "metadata": {
            "tags": []
          },
          "execution_count": 51
        }
      ]
    },
    {
      "cell_type": "code",
      "metadata": {
        "id": "PzaO4FB8MrYh",
        "colab": {
          "base_uri": "https://localhost:8080/"
        },
        "outputId": "b83e1ca0-1714-476e-d341-10f3d24c7ecc"
      },
      "source": [
        "train['Age'] = pd.cut(train['Age'], 5)\r\n",
        "train['Age']"
      ],
      "execution_count": 53,
      "outputs": [
        {
          "output_type": "execute_result",
          "data": {
            "text/plain": [
              "0      (16.8, 32.6]\n",
              "1      (32.6, 48.4]\n",
              "2      (16.8, 32.6]\n",
              "3      (32.6, 48.4]\n",
              "4      (32.6, 48.4]\n",
              "           ...     \n",
              "886    (16.8, 32.6]\n",
              "887    (16.8, 32.6]\n",
              "888    (48.4, 64.2]\n",
              "889    (16.8, 32.6]\n",
              "890    (16.8, 32.6]\n",
              "Name: Age, Length: 884, dtype: category\n",
              "Categories (5, interval[float64]): [(0.921, 16.8] < (16.8, 32.6] < (32.6, 48.4] < (48.4, 64.2] <\n",
              "                                    (64.2, 80.0]]"
            ]
          },
          "metadata": {
            "tags": []
          },
          "execution_count": 53
        }
      ]
    },
    {
      "cell_type": "code",
      "metadata": {
        "id": "BmVg72iMOseC",
        "outputId": "9d7102aa-562c-45e9-e9a6-887486596cde",
        "colab": {
          "base_uri": "https://localhost:8080/",
          "height": 402
        }
      },
      "source": [
        "train"
      ],
      "execution_count": 56,
      "outputs": [
        {
          "output_type": "execute_result",
          "data": {
            "text/html": [
              "<div>\n",
              "<style scoped>\n",
              "    .dataframe tbody tr th:only-of-type {\n",
              "        vertical-align: middle;\n",
              "    }\n",
              "\n",
              "    .dataframe tbody tr th {\n",
              "        vertical-align: top;\n",
              "    }\n",
              "\n",
              "    .dataframe thead th {\n",
              "        text-align: right;\n",
              "    }\n",
              "</style>\n",
              "<table border=\"1\" class=\"dataframe\">\n",
              "  <thead>\n",
              "    <tr style=\"text-align: right;\">\n",
              "      <th></th>\n",
              "      <th>PassengerId</th>\n",
              "      <th>Survived</th>\n",
              "      <th>Pclass</th>\n",
              "      <th>Name</th>\n",
              "      <th>Sex</th>\n",
              "      <th>Age</th>\n",
              "      <th>Fare</th>\n",
              "      <th>Embarked</th>\n",
              "      <th>Alone</th>\n",
              "    </tr>\n",
              "  </thead>\n",
              "  <tbody>\n",
              "    <tr>\n",
              "      <th>0</th>\n",
              "      <td>1</td>\n",
              "      <td>0</td>\n",
              "      <td>3</td>\n",
              "      <td>2</td>\n",
              "      <td>0</td>\n",
              "      <td>(16.8, 32.6]</td>\n",
              "      <td>7</td>\n",
              "      <td>2</td>\n",
              "      <td>1</td>\n",
              "    </tr>\n",
              "    <tr>\n",
              "      <th>1</th>\n",
              "      <td>2</td>\n",
              "      <td>1</td>\n",
              "      <td>1</td>\n",
              "      <td>3</td>\n",
              "      <td>1</td>\n",
              "      <td>(32.6, 48.4]</td>\n",
              "      <td>71</td>\n",
              "      <td>0</td>\n",
              "      <td>1</td>\n",
              "    </tr>\n",
              "    <tr>\n",
              "      <th>2</th>\n",
              "      <td>3</td>\n",
              "      <td>1</td>\n",
              "      <td>3</td>\n",
              "      <td>1</td>\n",
              "      <td>1</td>\n",
              "      <td>(16.8, 32.6]</td>\n",
              "      <td>8</td>\n",
              "      <td>2</td>\n",
              "      <td>0</td>\n",
              "    </tr>\n",
              "    <tr>\n",
              "      <th>3</th>\n",
              "      <td>4</td>\n",
              "      <td>1</td>\n",
              "      <td>1</td>\n",
              "      <td>3</td>\n",
              "      <td>1</td>\n",
              "      <td>(32.6, 48.4]</td>\n",
              "      <td>53</td>\n",
              "      <td>2</td>\n",
              "      <td>1</td>\n",
              "    </tr>\n",
              "    <tr>\n",
              "      <th>4</th>\n",
              "      <td>5</td>\n",
              "      <td>0</td>\n",
              "      <td>3</td>\n",
              "      <td>2</td>\n",
              "      <td>0</td>\n",
              "      <td>(32.6, 48.4]</td>\n",
              "      <td>8</td>\n",
              "      <td>2</td>\n",
              "      <td>0</td>\n",
              "    </tr>\n",
              "    <tr>\n",
              "      <th>...</th>\n",
              "      <td>...</td>\n",
              "      <td>...</td>\n",
              "      <td>...</td>\n",
              "      <td>...</td>\n",
              "      <td>...</td>\n",
              "      <td>...</td>\n",
              "      <td>...</td>\n",
              "      <td>...</td>\n",
              "      <td>...</td>\n",
              "    </tr>\n",
              "    <tr>\n",
              "      <th>886</th>\n",
              "      <td>887</td>\n",
              "      <td>0</td>\n",
              "      <td>2</td>\n",
              "      <td>3</td>\n",
              "      <td>0</td>\n",
              "      <td>(16.8, 32.6]</td>\n",
              "      <td>13</td>\n",
              "      <td>2</td>\n",
              "      <td>0</td>\n",
              "    </tr>\n",
              "    <tr>\n",
              "      <th>887</th>\n",
              "      <td>888</td>\n",
              "      <td>1</td>\n",
              "      <td>1</td>\n",
              "      <td>4</td>\n",
              "      <td>1</td>\n",
              "      <td>(16.8, 32.6]</td>\n",
              "      <td>30</td>\n",
              "      <td>2</td>\n",
              "      <td>0</td>\n",
              "    </tr>\n",
              "    <tr>\n",
              "      <th>888</th>\n",
              "      <td>889</td>\n",
              "      <td>0</td>\n",
              "      <td>3</td>\n",
              "      <td>1</td>\n",
              "      <td>1</td>\n",
              "      <td>(48.4, 64.2]</td>\n",
              "      <td>23</td>\n",
              "      <td>2</td>\n",
              "      <td>1</td>\n",
              "    </tr>\n",
              "    <tr>\n",
              "      <th>889</th>\n",
              "      <td>890</td>\n",
              "      <td>1</td>\n",
              "      <td>1</td>\n",
              "      <td>1</td>\n",
              "      <td>0</td>\n",
              "      <td>(16.8, 32.6]</td>\n",
              "      <td>30</td>\n",
              "      <td>0</td>\n",
              "      <td>0</td>\n",
              "    </tr>\n",
              "    <tr>\n",
              "      <th>890</th>\n",
              "      <td>891</td>\n",
              "      <td>0</td>\n",
              "      <td>3</td>\n",
              "      <td>2</td>\n",
              "      <td>0</td>\n",
              "      <td>(16.8, 32.6]</td>\n",
              "      <td>8</td>\n",
              "      <td>1</td>\n",
              "      <td>0</td>\n",
              "    </tr>\n",
              "  </tbody>\n",
              "</table>\n",
              "<p>884 rows × 9 columns</p>\n",
              "</div>"
            ],
            "text/plain": [
              "     PassengerId  Survived  Pclass  Name  ...           Age Fare  Embarked  Alone\n",
              "0              1         0       3     2  ...  (16.8, 32.6]    7         2      1\n",
              "1              2         1       1     3  ...  (32.6, 48.4]   71         0      1\n",
              "2              3         1       3     1  ...  (16.8, 32.6]    8         2      0\n",
              "3              4         1       1     3  ...  (32.6, 48.4]   53         2      1\n",
              "4              5         0       3     2  ...  (32.6, 48.4]    8         2      0\n",
              "..           ...       ...     ...   ...  ...           ...  ...       ...    ...\n",
              "886          887         0       2     3  ...  (16.8, 32.6]   13         2      0\n",
              "887          888         1       1     4  ...  (16.8, 32.6]   30         2      0\n",
              "888          889         0       3     1  ...  (48.4, 64.2]   23         2      1\n",
              "889          890         1       1     1  ...  (16.8, 32.6]   30         0      0\n",
              "890          891         0       3     2  ...  (16.8, 32.6]    8         1      0\n",
              "\n",
              "[884 rows x 9 columns]"
            ]
          },
          "metadata": {
            "tags": []
          },
          "execution_count": 56
        }
      ]
    },
    {
      "cell_type": "code",
      "metadata": {
        "id": "gcWdUnaPKDEa",
        "outputId": "6185b687-fdcc-4afd-afb9-a61d8badeaf0",
        "colab": {
          "base_uri": "https://localhost:8080/",
          "height": 402
        }
      },
      "source": [
        "le.fit(train['Age'])\r\n",
        "train['Age'] = le.transform(train['Age'])\r\n",
        "train"
      ],
      "execution_count": 57,
      "outputs": [
        {
          "output_type": "execute_result",
          "data": {
            "text/html": [
              "<div>\n",
              "<style scoped>\n",
              "    .dataframe tbody tr th:only-of-type {\n",
              "        vertical-align: middle;\n",
              "    }\n",
              "\n",
              "    .dataframe tbody tr th {\n",
              "        vertical-align: top;\n",
              "    }\n",
              "\n",
              "    .dataframe thead th {\n",
              "        text-align: right;\n",
              "    }\n",
              "</style>\n",
              "<table border=\"1\" class=\"dataframe\">\n",
              "  <thead>\n",
              "    <tr style=\"text-align: right;\">\n",
              "      <th></th>\n",
              "      <th>PassengerId</th>\n",
              "      <th>Survived</th>\n",
              "      <th>Pclass</th>\n",
              "      <th>Name</th>\n",
              "      <th>Sex</th>\n",
              "      <th>Age</th>\n",
              "      <th>Fare</th>\n",
              "      <th>Embarked</th>\n",
              "      <th>Alone</th>\n",
              "    </tr>\n",
              "  </thead>\n",
              "  <tbody>\n",
              "    <tr>\n",
              "      <th>0</th>\n",
              "      <td>1</td>\n",
              "      <td>0</td>\n",
              "      <td>3</td>\n",
              "      <td>2</td>\n",
              "      <td>0</td>\n",
              "      <td>1</td>\n",
              "      <td>7</td>\n",
              "      <td>2</td>\n",
              "      <td>1</td>\n",
              "    </tr>\n",
              "    <tr>\n",
              "      <th>1</th>\n",
              "      <td>2</td>\n",
              "      <td>1</td>\n",
              "      <td>1</td>\n",
              "      <td>3</td>\n",
              "      <td>1</td>\n",
              "      <td>2</td>\n",
              "      <td>71</td>\n",
              "      <td>0</td>\n",
              "      <td>1</td>\n",
              "    </tr>\n",
              "    <tr>\n",
              "      <th>2</th>\n",
              "      <td>3</td>\n",
              "      <td>1</td>\n",
              "      <td>3</td>\n",
              "      <td>1</td>\n",
              "      <td>1</td>\n",
              "      <td>1</td>\n",
              "      <td>8</td>\n",
              "      <td>2</td>\n",
              "      <td>0</td>\n",
              "    </tr>\n",
              "    <tr>\n",
              "      <th>3</th>\n",
              "      <td>4</td>\n",
              "      <td>1</td>\n",
              "      <td>1</td>\n",
              "      <td>3</td>\n",
              "      <td>1</td>\n",
              "      <td>2</td>\n",
              "      <td>53</td>\n",
              "      <td>2</td>\n",
              "      <td>1</td>\n",
              "    </tr>\n",
              "    <tr>\n",
              "      <th>4</th>\n",
              "      <td>5</td>\n",
              "      <td>0</td>\n",
              "      <td>3</td>\n",
              "      <td>2</td>\n",
              "      <td>0</td>\n",
              "      <td>2</td>\n",
              "      <td>8</td>\n",
              "      <td>2</td>\n",
              "      <td>0</td>\n",
              "    </tr>\n",
              "    <tr>\n",
              "      <th>...</th>\n",
              "      <td>...</td>\n",
              "      <td>...</td>\n",
              "      <td>...</td>\n",
              "      <td>...</td>\n",
              "      <td>...</td>\n",
              "      <td>...</td>\n",
              "      <td>...</td>\n",
              "      <td>...</td>\n",
              "      <td>...</td>\n",
              "    </tr>\n",
              "    <tr>\n",
              "      <th>886</th>\n",
              "      <td>887</td>\n",
              "      <td>0</td>\n",
              "      <td>2</td>\n",
              "      <td>3</td>\n",
              "      <td>0</td>\n",
              "      <td>1</td>\n",
              "      <td>13</td>\n",
              "      <td>2</td>\n",
              "      <td>0</td>\n",
              "    </tr>\n",
              "    <tr>\n",
              "      <th>887</th>\n",
              "      <td>888</td>\n",
              "      <td>1</td>\n",
              "      <td>1</td>\n",
              "      <td>4</td>\n",
              "      <td>1</td>\n",
              "      <td>1</td>\n",
              "      <td>30</td>\n",
              "      <td>2</td>\n",
              "      <td>0</td>\n",
              "    </tr>\n",
              "    <tr>\n",
              "      <th>888</th>\n",
              "      <td>889</td>\n",
              "      <td>0</td>\n",
              "      <td>3</td>\n",
              "      <td>1</td>\n",
              "      <td>1</td>\n",
              "      <td>3</td>\n",
              "      <td>23</td>\n",
              "      <td>2</td>\n",
              "      <td>1</td>\n",
              "    </tr>\n",
              "    <tr>\n",
              "      <th>889</th>\n",
              "      <td>890</td>\n",
              "      <td>1</td>\n",
              "      <td>1</td>\n",
              "      <td>1</td>\n",
              "      <td>0</td>\n",
              "      <td>1</td>\n",
              "      <td>30</td>\n",
              "      <td>0</td>\n",
              "      <td>0</td>\n",
              "    </tr>\n",
              "    <tr>\n",
              "      <th>890</th>\n",
              "      <td>891</td>\n",
              "      <td>0</td>\n",
              "      <td>3</td>\n",
              "      <td>2</td>\n",
              "      <td>0</td>\n",
              "      <td>1</td>\n",
              "      <td>8</td>\n",
              "      <td>1</td>\n",
              "      <td>0</td>\n",
              "    </tr>\n",
              "  </tbody>\n",
              "</table>\n",
              "<p>884 rows × 9 columns</p>\n",
              "</div>"
            ],
            "text/plain": [
              "     PassengerId  Survived  Pclass  Name  Sex  Age  Fare  Embarked  Alone\n",
              "0              1         0       3     2    0    1     7         2      1\n",
              "1              2         1       1     3    1    2    71         0      1\n",
              "2              3         1       3     1    1    1     8         2      0\n",
              "3              4         1       1     3    1    2    53         2      1\n",
              "4              5         0       3     2    0    2     8         2      0\n",
              "..           ...       ...     ...   ...  ...  ...   ...       ...    ...\n",
              "886          887         0       2     3    0    1    13         2      0\n",
              "887          888         1       1     4    1    1    30         2      0\n",
              "888          889         0       3     1    1    3    23         2      1\n",
              "889          890         1       1     1    0    1    30         0      0\n",
              "890          891         0       3     2    0    1     8         1      0\n",
              "\n",
              "[884 rows x 9 columns]"
            ]
          },
          "metadata": {
            "tags": []
          },
          "execution_count": 57
        }
      ]
    },
    {
      "cell_type": "code",
      "metadata": {
        "id": "dmoHhTWcKsy-",
        "outputId": "958c6dee-0832-4d74-e576-655a794f060a",
        "colab": {
          "base_uri": "https://localhost:8080/"
        }
      },
      "source": [
        "train['Age'].unique()"
      ],
      "execution_count": 60,
      "outputs": [
        {
          "output_type": "execute_result",
          "data": {
            "text/plain": [
              "array([1, 2, 3, 0, 4])"
            ]
          },
          "metadata": {
            "tags": []
          },
          "execution_count": 60
        }
      ]
    },
    {
      "cell_type": "code",
      "metadata": {
        "id": "FvVH882cKxJb",
        "outputId": "9e200e14-7fb8-4690-8772-15de0d2de49a",
        "colab": {
          "base_uri": "https://localhost:8080/"
        }
      },
      "source": [
        "le.classes_"
      ],
      "execution_count": 63,
      "outputs": [
        {
          "output_type": "execute_result",
          "data": {
            "text/plain": [
              "array([Interval(0.921, 16.8, closed='right'),\n",
              "       Interval(16.8, 32.6, closed='right'),\n",
              "       Interval(32.6, 48.4, closed='right'),\n",
              "       Interval(48.4, 64.2, closed='right'),\n",
              "       Interval(64.2, 80.0, closed='right')], dtype=object)"
            ]
          },
          "metadata": {
            "tags": []
          },
          "execution_count": 63
        }
      ]
    },
    {
      "cell_type": "code",
      "metadata": {
        "id": "4kmu2hlTN_VY"
      },
      "source": [
        ""
      ],
      "execution_count": null,
      "outputs": []
    }
  ]
}