{
  "nbformat": 4,
  "nbformat_minor": 0,
  "metadata": {
    "colab": {
      "name": "titanic_v2.ipynb",
      "provenance": []
    },
    "kernelspec": {
      "name": "python3",
      "display_name": "Python 3"
    }
  },
  "cells": [
    {
      "cell_type": "markdown",
      "metadata": {
        "id": "LvDU5aFtpuGr"
      },
      "source": [
        "데이터 분석의 목표 : 어떤 사람들이 생존에 유리했을지 파악하기"
      ]
    },
    {
      "cell_type": "markdown",
      "metadata": {
        "id": "HAm8SUK4rVZ9"
      },
      "source": [
        "참고(in Kaggle)\r\n",
        "1.  EDA To Prediction(DieTanic) \r\n",
        "2.  Titanic Data Science Solutions"
      ]
    },
    {
      "cell_type": "markdown",
      "metadata": {
        "id": "4hgld1kh1mfI"
      },
      "source": [
        "# 데이터 불러오기"
      ]
    },
    {
      "cell_type": "code",
      "metadata": {
        "colab": {
          "base_uri": "https://localhost:8080/"
        },
        "id": "T9AvvvGoupYo",
        "outputId": "1f453e3d-630e-457f-f736-2e78245df143"
      },
      "source": [
        "from google.colab import drive\r\n",
        "drive.mount('/content/Mydrive')"
      ],
      "execution_count": 1,
      "outputs": [
        {
          "output_type": "stream",
          "text": [
            "Mounted at /content/Mydrive\n"
          ],
          "name": "stdout"
        }
      ]
    },
    {
      "cell_type": "code",
      "metadata": {
        "id": "yZXDe0LiurWS"
      },
      "source": [
        "import pandas as pd\r\n",
        "import numpy as np\r\n",
        "import matplotlib.pyplot as plt\r\n",
        "import seaborn as sns\r\n",
        "\r\n",
        "\r\n",
        "train_df = pd.read_csv('/content/Mydrive/MyDrive/datascience/train.csv')\r\n",
        "test_df = pd.read_csv('/content/Mydrive/MyDrive/datascience/test.csv')\r\n",
        "combine = [train_df, test_df] # train셋과 test셋을 동시에 전처리 하기 위함 "
      ],
      "execution_count": 2,
      "outputs": []
    },
    {
      "cell_type": "markdown",
      "metadata": {
        "id": "GRFPZEQ11obU"
      },
      "source": [
        "# 데이터 확인하기"
      ]
    },
    {
      "cell_type": "markdown",
      "metadata": {
        "id": "nK57yGyqp6bS"
      },
      "source": [
        "**★각 컬럼에 대한 설명입니다★**\r\n",
        "\r\n",
        "PassengerId : 각 승객의 고유 번호\r\n",
        "\r\n",
        "Survived : 생존 여부(생존x : 0, 생존O : 1)\r\n",
        "\r\n",
        "Pclass :  티켓의 등급 (1 = 1등급, 2 = 2등급, 3 = 3등급)\r\n",
        "\r\n",
        "Name : 탑승객의 이름\r\n",
        "\r\n",
        "Sex : 탑승객의 성별 (male or female)\r\n",
        "\r\n",
        "Age : 탑승객의 나이\r\n",
        "\r\n",
        "SibSp : 함께 탑승한 형제 또는 배우자 수 \r\n",
        "\r\n",
        "Parch : 함께 탑승한 부모 또는 자녀 수 \r\n",
        "\r\n",
        "Ticket : 티켓 번호\r\n",
        "\r\n",
        "Fare : 요금\r\n",
        "\r\n",
        "Cabin : 선실 번호\r\n",
        "\r\n",
        "Embarked : 탑승장소(S = Southhampton, C = Cherbourg, Q = Queenstown)\r\n"
      ]
    },
    {
      "cell_type": "markdown",
      "metadata": {
        "id": "iFLILhSRowge"
      },
      "source": [
        "데이터 유형 살피기\r\n",
        "- categorical : sex, embarked\r\n",
        "- ordinal : Pclass\r\n",
        "- continous : Age"
      ]
    },
    {
      "cell_type": "code",
      "metadata": {
        "colab": {
          "base_uri": "https://localhost:8080/"
        },
        "id": "7h1HVZZ21Z7R",
        "outputId": "7b3435c9-9c3d-492c-9f9d-403891a1a065"
      },
      "source": [
        "train_df.info()"
      ],
      "execution_count": 3,
      "outputs": [
        {
          "output_type": "stream",
          "text": [
            "<class 'pandas.core.frame.DataFrame'>\n",
            "RangeIndex: 891 entries, 0 to 890\n",
            "Data columns (total 12 columns):\n",
            " #   Column       Non-Null Count  Dtype  \n",
            "---  ------       --------------  -----  \n",
            " 0   PassengerId  891 non-null    int64  \n",
            " 1   Survived     891 non-null    int64  \n",
            " 2   Pclass       891 non-null    int64  \n",
            " 3   Name         891 non-null    object \n",
            " 4   Sex          891 non-null    object \n",
            " 5   Age          714 non-null    float64\n",
            " 6   SibSp        891 non-null    int64  \n",
            " 7   Parch        891 non-null    int64  \n",
            " 8   Ticket       891 non-null    object \n",
            " 9   Fare         891 non-null    float64\n",
            " 10  Cabin        204 non-null    object \n",
            " 11  Embarked     889 non-null    object \n",
            "dtypes: float64(2), int64(5), object(5)\n",
            "memory usage: 83.7+ KB\n"
          ],
          "name": "stdout"
        }
      ]
    },
    {
      "cell_type": "code",
      "metadata": {
        "colab": {
          "base_uri": "https://localhost:8080/"
        },
        "id": "O6U5PDfKyFpy",
        "outputId": "85fc36a1-ff3e-4631-86ee-c614976efb27"
      },
      "source": [
        "test_df.info()"
      ],
      "execution_count": 4,
      "outputs": [
        {
          "output_type": "stream",
          "text": [
            "<class 'pandas.core.frame.DataFrame'>\n",
            "RangeIndex: 418 entries, 0 to 417\n",
            "Data columns (total 11 columns):\n",
            " #   Column       Non-Null Count  Dtype  \n",
            "---  ------       --------------  -----  \n",
            " 0   PassengerId  418 non-null    int64  \n",
            " 1   Pclass       418 non-null    int64  \n",
            " 2   Name         418 non-null    object \n",
            " 3   Sex          418 non-null    object \n",
            " 4   Age          332 non-null    float64\n",
            " 5   SibSp        418 non-null    int64  \n",
            " 6   Parch        418 non-null    int64  \n",
            " 7   Ticket       418 non-null    object \n",
            " 8   Fare         417 non-null    float64\n",
            " 9   Cabin        91 non-null     object \n",
            " 10  Embarked     418 non-null    object \n",
            "dtypes: float64(2), int64(4), object(5)\n",
            "memory usage: 36.0+ KB\n"
          ],
          "name": "stdout"
        }
      ]
    },
    {
      "cell_type": "markdown",
      "metadata": {
        "id": "8jzYpoLV2EVs"
      },
      "source": [
        "**1. 공통적으로 Age, Cabin, Embarked 에 NaN값이 존재, test셋에는 Fare에 1개의 NaN값이 존재**\r\n",
        "\r\n",
        "**2.  Name, Sex, Age, Fare, Embarked 는 인코딩 작업이 필요 해 보인다.** "
      ]
    },
    {
      "cell_type": "code",
      "metadata": {
        "colab": {
          "base_uri": "https://localhost:8080/",
          "height": 198
        },
        "id": "yLGW7RBs25-k",
        "outputId": "cfd1b9b3-43b7-4d11-d5d9-c252b601a7fa"
      },
      "source": [
        "train_df.head()"
      ],
      "execution_count": 5,
      "outputs": [
        {
          "output_type": "execute_result",
          "data": {
            "text/html": [
              "<div>\n",
              "<style scoped>\n",
              "    .dataframe tbody tr th:only-of-type {\n",
              "        vertical-align: middle;\n",
              "    }\n",
              "\n",
              "    .dataframe tbody tr th {\n",
              "        vertical-align: top;\n",
              "    }\n",
              "\n",
              "    .dataframe thead th {\n",
              "        text-align: right;\n",
              "    }\n",
              "</style>\n",
              "<table border=\"1\" class=\"dataframe\">\n",
              "  <thead>\n",
              "    <tr style=\"text-align: right;\">\n",
              "      <th></th>\n",
              "      <th>PassengerId</th>\n",
              "      <th>Survived</th>\n",
              "      <th>Pclass</th>\n",
              "      <th>Name</th>\n",
              "      <th>Sex</th>\n",
              "      <th>Age</th>\n",
              "      <th>SibSp</th>\n",
              "      <th>Parch</th>\n",
              "      <th>Ticket</th>\n",
              "      <th>Fare</th>\n",
              "      <th>Cabin</th>\n",
              "      <th>Embarked</th>\n",
              "    </tr>\n",
              "  </thead>\n",
              "  <tbody>\n",
              "    <tr>\n",
              "      <th>0</th>\n",
              "      <td>1</td>\n",
              "      <td>0</td>\n",
              "      <td>3</td>\n",
              "      <td>Braund, Mr. Owen Harris</td>\n",
              "      <td>male</td>\n",
              "      <td>22.0</td>\n",
              "      <td>1</td>\n",
              "      <td>0</td>\n",
              "      <td>A/5 21171</td>\n",
              "      <td>7.2500</td>\n",
              "      <td>NaN</td>\n",
              "      <td>S</td>\n",
              "    </tr>\n",
              "    <tr>\n",
              "      <th>1</th>\n",
              "      <td>2</td>\n",
              "      <td>1</td>\n",
              "      <td>1</td>\n",
              "      <td>Cumings, Mrs. John Bradley (Florence Briggs Th...</td>\n",
              "      <td>female</td>\n",
              "      <td>38.0</td>\n",
              "      <td>1</td>\n",
              "      <td>0</td>\n",
              "      <td>PC 17599</td>\n",
              "      <td>71.2833</td>\n",
              "      <td>C85</td>\n",
              "      <td>C</td>\n",
              "    </tr>\n",
              "    <tr>\n",
              "      <th>2</th>\n",
              "      <td>3</td>\n",
              "      <td>1</td>\n",
              "      <td>3</td>\n",
              "      <td>Heikkinen, Miss. Laina</td>\n",
              "      <td>female</td>\n",
              "      <td>26.0</td>\n",
              "      <td>0</td>\n",
              "      <td>0</td>\n",
              "      <td>STON/O2. 3101282</td>\n",
              "      <td>7.9250</td>\n",
              "      <td>NaN</td>\n",
              "      <td>S</td>\n",
              "    </tr>\n",
              "    <tr>\n",
              "      <th>3</th>\n",
              "      <td>4</td>\n",
              "      <td>1</td>\n",
              "      <td>1</td>\n",
              "      <td>Futrelle, Mrs. Jacques Heath (Lily May Peel)</td>\n",
              "      <td>female</td>\n",
              "      <td>35.0</td>\n",
              "      <td>1</td>\n",
              "      <td>0</td>\n",
              "      <td>113803</td>\n",
              "      <td>53.1000</td>\n",
              "      <td>C123</td>\n",
              "      <td>S</td>\n",
              "    </tr>\n",
              "    <tr>\n",
              "      <th>4</th>\n",
              "      <td>5</td>\n",
              "      <td>0</td>\n",
              "      <td>3</td>\n",
              "      <td>Allen, Mr. William Henry</td>\n",
              "      <td>male</td>\n",
              "      <td>35.0</td>\n",
              "      <td>0</td>\n",
              "      <td>0</td>\n",
              "      <td>373450</td>\n",
              "      <td>8.0500</td>\n",
              "      <td>NaN</td>\n",
              "      <td>S</td>\n",
              "    </tr>\n",
              "  </tbody>\n",
              "</table>\n",
              "</div>"
            ],
            "text/plain": [
              "   PassengerId  Survived  Pclass  ...     Fare Cabin  Embarked\n",
              "0            1         0       3  ...   7.2500   NaN         S\n",
              "1            2         1       1  ...  71.2833   C85         C\n",
              "2            3         1       3  ...   7.9250   NaN         S\n",
              "3            4         1       1  ...  53.1000  C123         S\n",
              "4            5         0       3  ...   8.0500   NaN         S\n",
              "\n",
              "[5 rows x 12 columns]"
            ]
          },
          "metadata": {
            "tags": []
          },
          "execution_count": 5
        }
      ]
    },
    {
      "cell_type": "code",
      "metadata": {
        "colab": {
          "base_uri": "https://localhost:8080/",
          "height": 498
        },
        "id": "PUe5GFUVyShX",
        "outputId": "80400579-1e41-46ce-d8c2-4c63c4d6c51e"
      },
      "source": [
        "train_df[['SibSp', 'Parch']].head(15)"
      ],
      "execution_count": 6,
      "outputs": [
        {
          "output_type": "execute_result",
          "data": {
            "text/html": [
              "<div>\n",
              "<style scoped>\n",
              "    .dataframe tbody tr th:only-of-type {\n",
              "        vertical-align: middle;\n",
              "    }\n",
              "\n",
              "    .dataframe tbody tr th {\n",
              "        vertical-align: top;\n",
              "    }\n",
              "\n",
              "    .dataframe thead th {\n",
              "        text-align: right;\n",
              "    }\n",
              "</style>\n",
              "<table border=\"1\" class=\"dataframe\">\n",
              "  <thead>\n",
              "    <tr style=\"text-align: right;\">\n",
              "      <th></th>\n",
              "      <th>SibSp</th>\n",
              "      <th>Parch</th>\n",
              "    </tr>\n",
              "  </thead>\n",
              "  <tbody>\n",
              "    <tr>\n",
              "      <th>0</th>\n",
              "      <td>1</td>\n",
              "      <td>0</td>\n",
              "    </tr>\n",
              "    <tr>\n",
              "      <th>1</th>\n",
              "      <td>1</td>\n",
              "      <td>0</td>\n",
              "    </tr>\n",
              "    <tr>\n",
              "      <th>2</th>\n",
              "      <td>0</td>\n",
              "      <td>0</td>\n",
              "    </tr>\n",
              "    <tr>\n",
              "      <th>3</th>\n",
              "      <td>1</td>\n",
              "      <td>0</td>\n",
              "    </tr>\n",
              "    <tr>\n",
              "      <th>4</th>\n",
              "      <td>0</td>\n",
              "      <td>0</td>\n",
              "    </tr>\n",
              "    <tr>\n",
              "      <th>5</th>\n",
              "      <td>0</td>\n",
              "      <td>0</td>\n",
              "    </tr>\n",
              "    <tr>\n",
              "      <th>6</th>\n",
              "      <td>0</td>\n",
              "      <td>0</td>\n",
              "    </tr>\n",
              "    <tr>\n",
              "      <th>7</th>\n",
              "      <td>3</td>\n",
              "      <td>1</td>\n",
              "    </tr>\n",
              "    <tr>\n",
              "      <th>8</th>\n",
              "      <td>0</td>\n",
              "      <td>2</td>\n",
              "    </tr>\n",
              "    <tr>\n",
              "      <th>9</th>\n",
              "      <td>1</td>\n",
              "      <td>0</td>\n",
              "    </tr>\n",
              "    <tr>\n",
              "      <th>10</th>\n",
              "      <td>1</td>\n",
              "      <td>1</td>\n",
              "    </tr>\n",
              "    <tr>\n",
              "      <th>11</th>\n",
              "      <td>0</td>\n",
              "      <td>0</td>\n",
              "    </tr>\n",
              "    <tr>\n",
              "      <th>12</th>\n",
              "      <td>0</td>\n",
              "      <td>0</td>\n",
              "    </tr>\n",
              "    <tr>\n",
              "      <th>13</th>\n",
              "      <td>1</td>\n",
              "      <td>5</td>\n",
              "    </tr>\n",
              "    <tr>\n",
              "      <th>14</th>\n",
              "      <td>0</td>\n",
              "      <td>0</td>\n",
              "    </tr>\n",
              "  </tbody>\n",
              "</table>\n",
              "</div>"
            ],
            "text/plain": [
              "    SibSp  Parch\n",
              "0       1      0\n",
              "1       1      0\n",
              "2       0      0\n",
              "3       1      0\n",
              "4       0      0\n",
              "5       0      0\n",
              "6       0      0\n",
              "7       3      1\n",
              "8       0      2\n",
              "9       1      0\n",
              "10      1      1\n",
              "11      0      0\n",
              "12      0      0\n",
              "13      1      5\n",
              "14      0      0"
            ]
          },
          "metadata": {
            "tags": []
          },
          "execution_count": 6
        }
      ]
    },
    {
      "cell_type": "markdown",
      "metadata": {
        "id": "E1QBeLsR3DkT"
      },
      "source": [
        "**1. Sibsp 와 Parch는 한개의 컬럼으로 줄일 수 있을것 같다.**\r\n",
        "\r\n",
        "**2. Embarked는 위의 자료만으로 확실하게 필요한 데이터 라는 여부를 판단하기 힘들다.**"
      ]
    },
    {
      "cell_type": "code",
      "metadata": {
        "id": "jCxsCx1A3kx6",
        "colab": {
          "base_uri": "https://localhost:8080/",
          "height": 288
        },
        "outputId": "03f03846-a878-495b-872a-2caaa3005ef5"
      },
      "source": [
        "train_df.describe()"
      ],
      "execution_count": 7,
      "outputs": [
        {
          "output_type": "execute_result",
          "data": {
            "text/html": [
              "<div>\n",
              "<style scoped>\n",
              "    .dataframe tbody tr th:only-of-type {\n",
              "        vertical-align: middle;\n",
              "    }\n",
              "\n",
              "    .dataframe tbody tr th {\n",
              "        vertical-align: top;\n",
              "    }\n",
              "\n",
              "    .dataframe thead th {\n",
              "        text-align: right;\n",
              "    }\n",
              "</style>\n",
              "<table border=\"1\" class=\"dataframe\">\n",
              "  <thead>\n",
              "    <tr style=\"text-align: right;\">\n",
              "      <th></th>\n",
              "      <th>PassengerId</th>\n",
              "      <th>Survived</th>\n",
              "      <th>Pclass</th>\n",
              "      <th>Age</th>\n",
              "      <th>SibSp</th>\n",
              "      <th>Parch</th>\n",
              "      <th>Fare</th>\n",
              "    </tr>\n",
              "  </thead>\n",
              "  <tbody>\n",
              "    <tr>\n",
              "      <th>count</th>\n",
              "      <td>891.000000</td>\n",
              "      <td>891.000000</td>\n",
              "      <td>891.000000</td>\n",
              "      <td>714.000000</td>\n",
              "      <td>891.000000</td>\n",
              "      <td>891.000000</td>\n",
              "      <td>891.000000</td>\n",
              "    </tr>\n",
              "    <tr>\n",
              "      <th>mean</th>\n",
              "      <td>446.000000</td>\n",
              "      <td>0.383838</td>\n",
              "      <td>2.308642</td>\n",
              "      <td>29.699118</td>\n",
              "      <td>0.523008</td>\n",
              "      <td>0.381594</td>\n",
              "      <td>32.204208</td>\n",
              "    </tr>\n",
              "    <tr>\n",
              "      <th>std</th>\n",
              "      <td>257.353842</td>\n",
              "      <td>0.486592</td>\n",
              "      <td>0.836071</td>\n",
              "      <td>14.526497</td>\n",
              "      <td>1.102743</td>\n",
              "      <td>0.806057</td>\n",
              "      <td>49.693429</td>\n",
              "    </tr>\n",
              "    <tr>\n",
              "      <th>min</th>\n",
              "      <td>1.000000</td>\n",
              "      <td>0.000000</td>\n",
              "      <td>1.000000</td>\n",
              "      <td>0.420000</td>\n",
              "      <td>0.000000</td>\n",
              "      <td>0.000000</td>\n",
              "      <td>0.000000</td>\n",
              "    </tr>\n",
              "    <tr>\n",
              "      <th>25%</th>\n",
              "      <td>223.500000</td>\n",
              "      <td>0.000000</td>\n",
              "      <td>2.000000</td>\n",
              "      <td>20.125000</td>\n",
              "      <td>0.000000</td>\n",
              "      <td>0.000000</td>\n",
              "      <td>7.910400</td>\n",
              "    </tr>\n",
              "    <tr>\n",
              "      <th>50%</th>\n",
              "      <td>446.000000</td>\n",
              "      <td>0.000000</td>\n",
              "      <td>3.000000</td>\n",
              "      <td>28.000000</td>\n",
              "      <td>0.000000</td>\n",
              "      <td>0.000000</td>\n",
              "      <td>14.454200</td>\n",
              "    </tr>\n",
              "    <tr>\n",
              "      <th>75%</th>\n",
              "      <td>668.500000</td>\n",
              "      <td>1.000000</td>\n",
              "      <td>3.000000</td>\n",
              "      <td>38.000000</td>\n",
              "      <td>1.000000</td>\n",
              "      <td>0.000000</td>\n",
              "      <td>31.000000</td>\n",
              "    </tr>\n",
              "    <tr>\n",
              "      <th>max</th>\n",
              "      <td>891.000000</td>\n",
              "      <td>1.000000</td>\n",
              "      <td>3.000000</td>\n",
              "      <td>80.000000</td>\n",
              "      <td>8.000000</td>\n",
              "      <td>6.000000</td>\n",
              "      <td>512.329200</td>\n",
              "    </tr>\n",
              "  </tbody>\n",
              "</table>\n",
              "</div>"
            ],
            "text/plain": [
              "       PassengerId    Survived      Pclass  ...       SibSp       Parch        Fare\n",
              "count   891.000000  891.000000  891.000000  ...  891.000000  891.000000  891.000000\n",
              "mean    446.000000    0.383838    2.308642  ...    0.523008    0.381594   32.204208\n",
              "std     257.353842    0.486592    0.836071  ...    1.102743    0.806057   49.693429\n",
              "min       1.000000    0.000000    1.000000  ...    0.000000    0.000000    0.000000\n",
              "25%     223.500000    0.000000    2.000000  ...    0.000000    0.000000    7.910400\n",
              "50%     446.000000    0.000000    3.000000  ...    0.000000    0.000000   14.454200\n",
              "75%     668.500000    1.000000    3.000000  ...    1.000000    0.000000   31.000000\n",
              "max     891.000000    1.000000    3.000000  ...    8.000000    6.000000  512.329200\n",
              "\n",
              "[8 rows x 7 columns]"
            ]
          },
          "metadata": {
            "tags": []
          },
          "execution_count": 7
        }
      ]
    },
    {
      "cell_type": "code",
      "metadata": {
        "colab": {
          "base_uri": "https://localhost:8080/",
          "height": 288
        },
        "id": "PBQEuVDD18ET",
        "outputId": "4616e613-d755-4ca1-867b-4809ba8f3f27"
      },
      "source": [
        "test_df.describe()"
      ],
      "execution_count": 8,
      "outputs": [
        {
          "output_type": "execute_result",
          "data": {
            "text/html": [
              "<div>\n",
              "<style scoped>\n",
              "    .dataframe tbody tr th:only-of-type {\n",
              "        vertical-align: middle;\n",
              "    }\n",
              "\n",
              "    .dataframe tbody tr th {\n",
              "        vertical-align: top;\n",
              "    }\n",
              "\n",
              "    .dataframe thead th {\n",
              "        text-align: right;\n",
              "    }\n",
              "</style>\n",
              "<table border=\"1\" class=\"dataframe\">\n",
              "  <thead>\n",
              "    <tr style=\"text-align: right;\">\n",
              "      <th></th>\n",
              "      <th>PassengerId</th>\n",
              "      <th>Pclass</th>\n",
              "      <th>Age</th>\n",
              "      <th>SibSp</th>\n",
              "      <th>Parch</th>\n",
              "      <th>Fare</th>\n",
              "    </tr>\n",
              "  </thead>\n",
              "  <tbody>\n",
              "    <tr>\n",
              "      <th>count</th>\n",
              "      <td>418.000000</td>\n",
              "      <td>418.000000</td>\n",
              "      <td>332.000000</td>\n",
              "      <td>418.000000</td>\n",
              "      <td>418.000000</td>\n",
              "      <td>417.000000</td>\n",
              "    </tr>\n",
              "    <tr>\n",
              "      <th>mean</th>\n",
              "      <td>1100.500000</td>\n",
              "      <td>2.265550</td>\n",
              "      <td>30.272590</td>\n",
              "      <td>0.447368</td>\n",
              "      <td>0.392344</td>\n",
              "      <td>35.627188</td>\n",
              "    </tr>\n",
              "    <tr>\n",
              "      <th>std</th>\n",
              "      <td>120.810458</td>\n",
              "      <td>0.841838</td>\n",
              "      <td>14.181209</td>\n",
              "      <td>0.896760</td>\n",
              "      <td>0.981429</td>\n",
              "      <td>55.907576</td>\n",
              "    </tr>\n",
              "    <tr>\n",
              "      <th>min</th>\n",
              "      <td>892.000000</td>\n",
              "      <td>1.000000</td>\n",
              "      <td>0.170000</td>\n",
              "      <td>0.000000</td>\n",
              "      <td>0.000000</td>\n",
              "      <td>0.000000</td>\n",
              "    </tr>\n",
              "    <tr>\n",
              "      <th>25%</th>\n",
              "      <td>996.250000</td>\n",
              "      <td>1.000000</td>\n",
              "      <td>21.000000</td>\n",
              "      <td>0.000000</td>\n",
              "      <td>0.000000</td>\n",
              "      <td>7.895800</td>\n",
              "    </tr>\n",
              "    <tr>\n",
              "      <th>50%</th>\n",
              "      <td>1100.500000</td>\n",
              "      <td>3.000000</td>\n",
              "      <td>27.000000</td>\n",
              "      <td>0.000000</td>\n",
              "      <td>0.000000</td>\n",
              "      <td>14.454200</td>\n",
              "    </tr>\n",
              "    <tr>\n",
              "      <th>75%</th>\n",
              "      <td>1204.750000</td>\n",
              "      <td>3.000000</td>\n",
              "      <td>39.000000</td>\n",
              "      <td>1.000000</td>\n",
              "      <td>0.000000</td>\n",
              "      <td>31.500000</td>\n",
              "    </tr>\n",
              "    <tr>\n",
              "      <th>max</th>\n",
              "      <td>1309.000000</td>\n",
              "      <td>3.000000</td>\n",
              "      <td>76.000000</td>\n",
              "      <td>8.000000</td>\n",
              "      <td>9.000000</td>\n",
              "      <td>512.329200</td>\n",
              "    </tr>\n",
              "  </tbody>\n",
              "</table>\n",
              "</div>"
            ],
            "text/plain": [
              "       PassengerId      Pclass         Age       SibSp       Parch        Fare\n",
              "count   418.000000  418.000000  332.000000  418.000000  418.000000  417.000000\n",
              "mean   1100.500000    2.265550   30.272590    0.447368    0.392344   35.627188\n",
              "std     120.810458    0.841838   14.181209    0.896760    0.981429   55.907576\n",
              "min     892.000000    1.000000    0.170000    0.000000    0.000000    0.000000\n",
              "25%     996.250000    1.000000   21.000000    0.000000    0.000000    7.895800\n",
              "50%    1100.500000    3.000000   27.000000    0.000000    0.000000   14.454200\n",
              "75%    1204.750000    3.000000   39.000000    1.000000    0.000000   31.500000\n",
              "max    1309.000000    3.000000   76.000000    8.000000    9.000000  512.329200"
            ]
          },
          "metadata": {
            "tags": []
          },
          "execution_count": 8
        }
      ]
    },
    {
      "cell_type": "code",
      "metadata": {
        "colab": {
          "base_uri": "https://localhost:8080/",
          "height": 168
        },
        "id": "lXIWqKaq2A7U",
        "outputId": "f231f7fe-0c84-43f1-8609-dce98d3021b6"
      },
      "source": [
        "train_df.describe(include ='O')"
      ],
      "execution_count": 9,
      "outputs": [
        {
          "output_type": "execute_result",
          "data": {
            "text/html": [
              "<div>\n",
              "<style scoped>\n",
              "    .dataframe tbody tr th:only-of-type {\n",
              "        vertical-align: middle;\n",
              "    }\n",
              "\n",
              "    .dataframe tbody tr th {\n",
              "        vertical-align: top;\n",
              "    }\n",
              "\n",
              "    .dataframe thead th {\n",
              "        text-align: right;\n",
              "    }\n",
              "</style>\n",
              "<table border=\"1\" class=\"dataframe\">\n",
              "  <thead>\n",
              "    <tr style=\"text-align: right;\">\n",
              "      <th></th>\n",
              "      <th>Name</th>\n",
              "      <th>Sex</th>\n",
              "      <th>Ticket</th>\n",
              "      <th>Cabin</th>\n",
              "      <th>Embarked</th>\n",
              "    </tr>\n",
              "  </thead>\n",
              "  <tbody>\n",
              "    <tr>\n",
              "      <th>count</th>\n",
              "      <td>891</td>\n",
              "      <td>891</td>\n",
              "      <td>891</td>\n",
              "      <td>204</td>\n",
              "      <td>889</td>\n",
              "    </tr>\n",
              "    <tr>\n",
              "      <th>unique</th>\n",
              "      <td>891</td>\n",
              "      <td>2</td>\n",
              "      <td>681</td>\n",
              "      <td>147</td>\n",
              "      <td>3</td>\n",
              "    </tr>\n",
              "    <tr>\n",
              "      <th>top</th>\n",
              "      <td>McCoy, Mr. Bernard</td>\n",
              "      <td>male</td>\n",
              "      <td>CA. 2343</td>\n",
              "      <td>G6</td>\n",
              "      <td>S</td>\n",
              "    </tr>\n",
              "    <tr>\n",
              "      <th>freq</th>\n",
              "      <td>1</td>\n",
              "      <td>577</td>\n",
              "      <td>7</td>\n",
              "      <td>4</td>\n",
              "      <td>644</td>\n",
              "    </tr>\n",
              "  </tbody>\n",
              "</table>\n",
              "</div>"
            ],
            "text/plain": [
              "                      Name   Sex    Ticket Cabin Embarked\n",
              "count                  891   891       891   204      889\n",
              "unique                 891     2       681   147        3\n",
              "top     McCoy, Mr. Bernard  male  CA. 2343    G6        S\n",
              "freq                     1   577         7     4      644"
            ]
          },
          "metadata": {
            "tags": []
          },
          "execution_count": 9
        }
      ]
    },
    {
      "cell_type": "code",
      "metadata": {
        "colab": {
          "base_uri": "https://localhost:8080/",
          "height": 168
        },
        "id": "Ovdo0jPq70Jf",
        "outputId": "be6fea80-6e71-4e4f-e09f-74501395df12"
      },
      "source": [
        "test_df.describe(include ='O')"
      ],
      "execution_count": 10,
      "outputs": [
        {
          "output_type": "execute_result",
          "data": {
            "text/html": [
              "<div>\n",
              "<style scoped>\n",
              "    .dataframe tbody tr th:only-of-type {\n",
              "        vertical-align: middle;\n",
              "    }\n",
              "\n",
              "    .dataframe tbody tr th {\n",
              "        vertical-align: top;\n",
              "    }\n",
              "\n",
              "    .dataframe thead th {\n",
              "        text-align: right;\n",
              "    }\n",
              "</style>\n",
              "<table border=\"1\" class=\"dataframe\">\n",
              "  <thead>\n",
              "    <tr style=\"text-align: right;\">\n",
              "      <th></th>\n",
              "      <th>Name</th>\n",
              "      <th>Sex</th>\n",
              "      <th>Ticket</th>\n",
              "      <th>Cabin</th>\n",
              "      <th>Embarked</th>\n",
              "    </tr>\n",
              "  </thead>\n",
              "  <tbody>\n",
              "    <tr>\n",
              "      <th>count</th>\n",
              "      <td>418</td>\n",
              "      <td>418</td>\n",
              "      <td>418</td>\n",
              "      <td>91</td>\n",
              "      <td>418</td>\n",
              "    </tr>\n",
              "    <tr>\n",
              "      <th>unique</th>\n",
              "      <td>418</td>\n",
              "      <td>2</td>\n",
              "      <td>363</td>\n",
              "      <td>76</td>\n",
              "      <td>3</td>\n",
              "    </tr>\n",
              "    <tr>\n",
              "      <th>top</th>\n",
              "      <td>Louch, Mr. Charles Alexander</td>\n",
              "      <td>male</td>\n",
              "      <td>PC 17608</td>\n",
              "      <td>B57 B59 B63 B66</td>\n",
              "      <td>S</td>\n",
              "    </tr>\n",
              "    <tr>\n",
              "      <th>freq</th>\n",
              "      <td>1</td>\n",
              "      <td>266</td>\n",
              "      <td>5</td>\n",
              "      <td>3</td>\n",
              "      <td>270</td>\n",
              "    </tr>\n",
              "  </tbody>\n",
              "</table>\n",
              "</div>"
            ],
            "text/plain": [
              "                                Name   Sex    Ticket            Cabin Embarked\n",
              "count                            418   418       418               91      418\n",
              "unique                           418     2       363               76        3\n",
              "top     Louch, Mr. Charles Alexander  male  PC 17608  B57 B59 B63 B66        S\n",
              "freq                               1   266         5                3      270"
            ]
          },
          "metadata": {
            "tags": []
          },
          "execution_count": 10
        }
      ]
    },
    {
      "cell_type": "markdown",
      "metadata": {
        "id": "sQydgKlw8Ssd"
      },
      "source": [
        "**1. 남성 탑승객이 여성 탑승객 보다 많은 것을 알 수 있다.**\r\n",
        "\r\n",
        "**2. 다수의 승객분들이 Southampton에서 탑승한 것을 알 수 있다.**"
      ]
    },
    {
      "cell_type": "markdown",
      "metadata": {
        "id": "1WwbtLH78shB"
      },
      "source": [
        "# 시각화를 통한 데이터 탐색하기"
      ]
    },
    {
      "cell_type": "markdown",
      "metadata": {
        "id": "8U2VS9_Tlpt4"
      },
      "source": [
        "얼마나 많은 사람들이 살아남았는가?"
      ]
    },
    {
      "cell_type": "code",
      "metadata": {
        "id": "FBpS04RPlo3b",
        "colab": {
          "base_uri": "https://localhost:8080/",
          "height": 404
        },
        "outputId": "70d765a7-3987-44fe-ce83-543a9a792b67"
      },
      "source": [
        "fig, ax = plt.subplots(1,2, figsize = (12,6))\r\n",
        "train_df['Survived'].value_counts().plot.pie(explode=[0,0.1],autopct='%1.1f%%',ax= ax[0],shadow=True)\r\n",
        "ax[0].set_title('Survived')\r\n",
        "ax[0].set_ylabel('') \r\n",
        "sns.countplot(x ='Survived', data = train_df,ax = ax[1] )\r\n",
        "ax[1].set_title('Survived')\r\n",
        "plt.show()"
      ],
      "execution_count": 11,
      "outputs": [
        {
          "output_type": "display_data",
          "data": {
            "image/png": "[encoded data removed]",
            "text/plain": [
              "<Figure size 864x432 with 2 Axes>"
            ]
          },
          "metadata": {
            "tags": [],
            "needs_background": "light"
          }
        }
      ]
    },
    {
      "cell_type": "markdown",
      "metadata": {
        "id": "nC8iYPX-jeU5"
      },
      "source": [
        "Pclass와 Survived의 관계"
      ]
    },
    {
      "cell_type": "code",
      "metadata": {
        "id": "P52ZFGbTqhlB",
        "colab": {
          "base_uri": "https://localhost:8080/",
          "height": 145
        },
        "outputId": "b799fedb-1389-4ee5-f047-ac06d05ceade"
      },
      "source": [
        "pd.crosstab(train_df.Pclass, train_df.Survived, margins=True).style.background_gradient(cmap = 'summer_r')"
      ],
      "execution_count": 12,
      "outputs": [
        {
          "output_type": "execute_result",
          "data": {
            "text/html": [
              "<style  type=\"text/css\" >\n",
              "#T_2d9acf76_7a80_11eb_b153_0242ac1c0002row0_col0,#T_2d9acf76_7a80_11eb_b153_0242ac1c0002row1_col1,#T_2d9acf76_7a80_11eb_b153_0242ac1c0002row1_col2{\n",
              "            background-color:  #ffff66;\n",
              "            color:  #000000;\n",
              "        }#T_2d9acf76_7a80_11eb_b153_0242ac1c0002row0_col1{\n",
              "            background-color:  #cee666;\n",
              "            color:  #000000;\n",
              "        }#T_2d9acf76_7a80_11eb_b153_0242ac1c0002row0_col2{\n",
              "            background-color:  #f4fa66;\n",
              "            color:  #000000;\n",
              "        }#T_2d9acf76_7a80_11eb_b153_0242ac1c0002row1_col0{\n",
              "            background-color:  #f6fa66;\n",
              "            color:  #000000;\n",
              "        }#T_2d9acf76_7a80_11eb_b153_0242ac1c0002row2_col0{\n",
              "            background-color:  #60b066;\n",
              "            color:  #000000;\n",
              "        }#T_2d9acf76_7a80_11eb_b153_0242ac1c0002row2_col1{\n",
              "            background-color:  #dfef66;\n",
              "            color:  #000000;\n",
              "        }#T_2d9acf76_7a80_11eb_b153_0242ac1c0002row2_col2{\n",
              "            background-color:  #90c866;\n",
              "            color:  #000000;\n",
              "        }#T_2d9acf76_7a80_11eb_b153_0242ac1c0002row3_col0,#T_2d9acf76_7a80_11eb_b153_0242ac1c0002row3_col1,#T_2d9acf76_7a80_11eb_b153_0242ac1c0002row3_col2{\n",
              "            background-color:  #008066;\n",
              "            color:  #f1f1f1;\n",
              "        }</style><table id=\"T_2d9acf76_7a80_11eb_b153_0242ac1c0002\" ><thead>    <tr>        <th class=\"index_name level0\" >Survived</th>        <th class=\"col_heading level0 col0\" >0</th>        <th class=\"col_heading level0 col1\" >1</th>        <th class=\"col_heading level0 col2\" >All</th>    </tr>    <tr>        <th class=\"index_name level0\" >Pclass</th>        <th class=\"blank\" ></th>        <th class=\"blank\" ></th>        <th class=\"blank\" ></th>    </tr></thead><tbody>\n",
              "                <tr>\n",
              "                        <th id=\"T_2d9acf76_7a80_11eb_b153_0242ac1c0002level0_row0\" class=\"row_heading level0 row0\" >1</th>\n",
              "                        <td id=\"T_2d9acf76_7a80_11eb_b153_0242ac1c0002row0_col0\" class=\"data row0 col0\" >80</td>\n",
              "                        <td id=\"T_2d9acf76_7a80_11eb_b153_0242ac1c0002row0_col1\" class=\"data row0 col1\" >136</td>\n",
              "                        <td id=\"T_2d9acf76_7a80_11eb_b153_0242ac1c0002row0_col2\" class=\"data row0 col2\" >216</td>\n",
              "            </tr>\n",
              "            <tr>\n",
              "                        <th id=\"T_2d9acf76_7a80_11eb_b153_0242ac1c0002level0_row1\" class=\"row_heading level0 row1\" >2</th>\n",
              "                        <td id=\"T_2d9acf76_7a80_11eb_b153_0242ac1c0002row1_col0\" class=\"data row1 col0\" >97</td>\n",
              "                        <td id=\"T_2d9acf76_7a80_11eb_b153_0242ac1c0002row1_col1\" class=\"data row1 col1\" >87</td>\n",
              "                        <td id=\"T_2d9acf76_7a80_11eb_b153_0242ac1c0002row1_col2\" class=\"data row1 col2\" >184</td>\n",
              "            </tr>\n",
              "            <tr>\n",
              "                        <th id=\"T_2d9acf76_7a80_11eb_b153_0242ac1c0002level0_row2\" class=\"row_heading level0 row2\" >3</th>\n",
              "                        <td id=\"T_2d9acf76_7a80_11eb_b153_0242ac1c0002row2_col0\" class=\"data row2 col0\" >372</td>\n",
              "                        <td id=\"T_2d9acf76_7a80_11eb_b153_0242ac1c0002row2_col1\" class=\"data row2 col1\" >119</td>\n",
              "                        <td id=\"T_2d9acf76_7a80_11eb_b153_0242ac1c0002row2_col2\" class=\"data row2 col2\" >491</td>\n",
              "            </tr>\n",
              "            <tr>\n",
              "                        <th id=\"T_2d9acf76_7a80_11eb_b153_0242ac1c0002level0_row3\" class=\"row_heading level0 row3\" >All</th>\n",
              "                        <td id=\"T_2d9acf76_7a80_11eb_b153_0242ac1c0002row3_col0\" class=\"data row3 col0\" >549</td>\n",
              "                        <td id=\"T_2d9acf76_7a80_11eb_b153_0242ac1c0002row3_col1\" class=\"data row3 col1\" >342</td>\n",
              "                        <td id=\"T_2d9acf76_7a80_11eb_b153_0242ac1c0002row3_col2\" class=\"data row3 col2\" >891</td>\n",
              "            </tr>\n",
              "    </tbody></table>"
            ],
            "text/plain": [
              "<pandas.io.formats.style.Styler at 0x7ff241f05810>"
            ]
          },
          "metadata": {
            "tags": []
          },
          "execution_count": 12
        }
      ]
    },
    {
      "cell_type": "markdown",
      "metadata": {
        "id": "PDcxyszjvSmj"
      },
      "source": [
        "crosstab\r\n",
        "\r\n",
        "pd.crosstab(index, columns,margins= , normalize = )\r\n",
        "\r\n",
        "pd.crosstab([id1,id2],[col1,col2],margins= , normalize = )\r\n",
        "\r\n",
        "- margins : 행 합, 열 합\r\n",
        "- normalize : 비율(퍼센트 표기)\r\n",
        "- rownames=[' '] , colnames = [' ']\r\n",
        " \r\n"
      ]
    },
    {
      "cell_type": "code",
      "metadata": {
        "id": "0q69rguOitMZ",
        "colab": {
          "base_uri": "https://localhost:8080/",
          "height": 297
        },
        "outputId": "c8142bfb-9722-4120-92bd-a43739708051"
      },
      "source": [
        "sns.countplot(x = 'Pclass', hue = 'Survived', data = train_df)"
      ],
      "execution_count": 13,
      "outputs": [
        {
          "output_type": "execute_result",
          "data": {
            "text/plain": [
              "<matplotlib.axes._subplots.AxesSubplot at 0x7ff2416c6ed0>"
            ]
          },
          "metadata": {
            "tags": []
          },
          "execution_count": 13
        },
        {
          "output_type": "display_data",
          "data": {
            "image/png": "[encoded data removed]",
            "text/plain": [
              "<Figure size 432x288 with 1 Axes>"
            ]
          },
          "metadata": {
            "tags": [],
            "needs_background": "light"
          }
        }
      ]
    },
    {
      "cell_type": "markdown",
      "metadata": {
        "id": "fZLW_Mu5Q01y"
      },
      "source": [
        "**티켓의 등급이 높을 수록 생존율이 높다.**"
      ]
    },
    {
      "cell_type": "markdown",
      "metadata": {
        "id": "ACFAIIggjyNQ"
      },
      "source": [
        "Sex와 Survived의 관계\r\n"
      ]
    },
    {
      "cell_type": "code",
      "metadata": {
        "colab": {
          "base_uri": "https://localhost:8080/",
          "height": 108
        },
        "id": "Dm3ItnHqR5PR",
        "outputId": "e43956c0-eba5-4d5a-b201-7667ddbe9f3e"
      },
      "source": [
        "train_df[['Sex', 'Survived']].groupby('Sex', as_index = False).mean()"
      ],
      "execution_count": 14,
      "outputs": [
        {
          "output_type": "execute_result",
          "data": {
            "text/html": [
              "<div>\n",
              "<style scoped>\n",
              "    .dataframe tbody tr th:only-of-type {\n",
              "        vertical-align: middle;\n",
              "    }\n",
              "\n",
              "    .dataframe tbody tr th {\n",
              "        vertical-align: top;\n",
              "    }\n",
              "\n",
              "    .dataframe thead th {\n",
              "        text-align: right;\n",
              "    }\n",
              "</style>\n",
              "<table border=\"1\" class=\"dataframe\">\n",
              "  <thead>\n",
              "    <tr style=\"text-align: right;\">\n",
              "      <th></th>\n",
              "      <th>Sex</th>\n",
              "      <th>Survived</th>\n",
              "    </tr>\n",
              "  </thead>\n",
              "  <tbody>\n",
              "    <tr>\n",
              "      <th>0</th>\n",
              "      <td>female</td>\n",
              "      <td>0.742038</td>\n",
              "    </tr>\n",
              "    <tr>\n",
              "      <th>1</th>\n",
              "      <td>male</td>\n",
              "      <td>0.188908</td>\n",
              "    </tr>\n",
              "  </tbody>\n",
              "</table>\n",
              "</div>"
            ],
            "text/plain": [
              "      Sex  Survived\n",
              "0  female  0.742038\n",
              "1    male  0.188908"
            ]
          },
          "metadata": {
            "tags": []
          },
          "execution_count": 14
        }
      ]
    },
    {
      "cell_type": "code",
      "metadata": {
        "id": "LSypOSofqI18",
        "colab": {
          "base_uri": "https://localhost:8080/"
        },
        "outputId": "84f2c87f-91e0-42ef-e5b0-14e4bc74f852"
      },
      "source": [
        "train_df.groupby(['Sex','Survived'])['Survived'].count()"
      ],
      "execution_count": 15,
      "outputs": [
        {
          "output_type": "execute_result",
          "data": {
            "text/plain": [
              "Sex     Survived\n",
              "female  0            81\n",
              "        1           233\n",
              "male    0           468\n",
              "        1           109\n",
              "Name: Survived, dtype: int64"
            ]
          },
          "metadata": {
            "tags": []
          },
          "execution_count": 15
        }
      ]
    },
    {
      "cell_type": "code",
      "metadata": {
        "id": "LeErJErEutFh",
        "colab": {
          "base_uri": "https://localhost:8080/",
          "height": 168
        },
        "outputId": "665c478b-8ce5-45d7-a1e9-1bbef72180aa"
      },
      "source": [
        "pd.crosstab(train_df.Sex, train_df.Survived, margins=True)"
      ],
      "execution_count": 16,
      "outputs": [
        {
          "output_type": "execute_result",
          "data": {
            "text/html": [
              "<div>\n",
              "<style scoped>\n",
              "    .dataframe tbody tr th:only-of-type {\n",
              "        vertical-align: middle;\n",
              "    }\n",
              "\n",
              "    .dataframe tbody tr th {\n",
              "        vertical-align: top;\n",
              "    }\n",
              "\n",
              "    .dataframe thead th {\n",
              "        text-align: right;\n",
              "    }\n",
              "</style>\n",
              "<table border=\"1\" class=\"dataframe\">\n",
              "  <thead>\n",
              "    <tr style=\"text-align: right;\">\n",
              "      <th>Survived</th>\n",
              "      <th>0</th>\n",
              "      <th>1</th>\n",
              "      <th>All</th>\n",
              "    </tr>\n",
              "    <tr>\n",
              "      <th>Sex</th>\n",
              "      <th></th>\n",
              "      <th></th>\n",
              "      <th></th>\n",
              "    </tr>\n",
              "  </thead>\n",
              "  <tbody>\n",
              "    <tr>\n",
              "      <th>female</th>\n",
              "      <td>81</td>\n",
              "      <td>233</td>\n",
              "      <td>314</td>\n",
              "    </tr>\n",
              "    <tr>\n",
              "      <th>male</th>\n",
              "      <td>468</td>\n",
              "      <td>109</td>\n",
              "      <td>577</td>\n",
              "    </tr>\n",
              "    <tr>\n",
              "      <th>All</th>\n",
              "      <td>549</td>\n",
              "      <td>342</td>\n",
              "      <td>891</td>\n",
              "    </tr>\n",
              "  </tbody>\n",
              "</table>\n",
              "</div>"
            ],
            "text/plain": [
              "Survived    0    1  All\n",
              "Sex                    \n",
              "female     81  233  314\n",
              "male      468  109  577\n",
              "All       549  342  891"
            ]
          },
          "metadata": {
            "tags": []
          },
          "execution_count": 16
        }
      ]
    },
    {
      "cell_type": "code",
      "metadata": {
        "colab": {
          "base_uri": "https://localhost:8080/",
          "height": 594
        },
        "id": "HJoTmt5g9VRn",
        "outputId": "a9981a75-b48f-47c1-c097-d5dc2361e111"
      },
      "source": [
        "fig,ax=plt.subplots(1,2,figsize=(18,8))\r\n",
        "train_df[['Sex','Survived']].groupby(['Sex']).mean().plot.bar(ax=ax[0])\r\n",
        "ax[0].set_title('Survived vs Sex')\r\n",
        "sns.countplot('Sex',hue='Survived',data=train_df,ax=ax[1])\r\n",
        "ax[1].set_title('Sex:Survived vs Dead')\r\n",
        "plt.show()\r\n",
        "\r\n",
        "# train_df[['Sex','Survived']].groupby(['Sex']).mean().plot.bar(ax=axes[0]) \r\n",
        "# 'Sex'와 'Survived'를 가져와서 'Sex'별로 survived의 평균값을 barplot으로 (pandas로 플랏접근)"
      ],
      "execution_count": 17,
      "outputs": [
        {
          "output_type": "stream",
          "text": [
            "/usr/local/lib/python3.7/dist-packages/seaborn/_decorators.py:43: FutureWarning: Pass the following variable as a keyword arg: x. From version 0.12, the only valid positional argument will be `data`, and passing other arguments without an explicit keyword will result in an error or misinterpretation.\n",
            "  FutureWarning\n"
          ],
          "name": "stderr"
        },
        {
          "output_type": "display_data",
          "data": {
            "image/png": "[encoded data removed]",
            "text/plain": [
              "<Figure size 1296x576 with 2 Axes>"
            ]
          },
          "metadata": {
            "tags": [],
            "needs_background": "light"
          }
        }
      ]
    },
    {
      "cell_type": "markdown",
      "metadata": {
        "id": "lWCpufJ1T039"
      },
      "source": [
        "**여성의 생존율이 훨씬 높다는 것을 알게 되었다.**"
      ]
    },
    {
      "cell_type": "markdown",
      "metadata": {
        "id": "cq1_7uLDs3ov"
      },
      "source": [
        "'Sex'와 'Pclass'와의 생존 관계 정리\r\n",
        "\r\n"
      ]
    },
    {
      "cell_type": "code",
      "metadata": {
        "id": "TfJ-Wfw7s-eR",
        "colab": {
          "base_uri": "https://localhost:8080/",
          "height": 165
        },
        "outputId": "e59bc62a-5bf1-496b-cd5d-cf964d4965e8"
      },
      "source": [
        "pd.crosstab([train_df.Sex,train_df.Survived],train_df.Pclass,margins=True).style.background_gradient(cmap='summer_r')\r\n",
        "# 다시한번 등급이 높을수록 생존 비율이 높으며 여성의 생존이 더 높다는것을 \r\n",
        "# 알 수 있다."
      ],
      "execution_count": 18,
      "outputs": [
        {
          "output_type": "execute_result",
          "data": {
            "text/html": [
              "<style  type=\"text/css\" >\n",
              "#T_2e08cce2_7a80_11eb_b153_0242ac1c0002row0_col0,#T_2e08cce2_7a80_11eb_b153_0242ac1c0002row0_col1,#T_2e08cce2_7a80_11eb_b153_0242ac1c0002row0_col3,#T_2e08cce2_7a80_11eb_b153_0242ac1c0002row3_col2{\n",
              "            background-color:  #ffff66;\n",
              "            color:  #000000;\n",
              "        }#T_2e08cce2_7a80_11eb_b153_0242ac1c0002row0_col2,#T_2e08cce2_7a80_11eb_b153_0242ac1c0002row1_col2{\n",
              "            background-color:  #f1f866;\n",
              "            color:  #000000;\n",
              "        }#T_2e08cce2_7a80_11eb_b153_0242ac1c0002row1_col0{\n",
              "            background-color:  #96cb66;\n",
              "            color:  #000000;\n",
              "        }#T_2e08cce2_7a80_11eb_b153_0242ac1c0002row1_col1{\n",
              "            background-color:  #a3d166;\n",
              "            color:  #000000;\n",
              "        }#T_2e08cce2_7a80_11eb_b153_0242ac1c0002row1_col3{\n",
              "            background-color:  #cfe766;\n",
              "            color:  #000000;\n",
              "        }#T_2e08cce2_7a80_11eb_b153_0242ac1c0002row2_col0{\n",
              "            background-color:  #a7d366;\n",
              "            color:  #000000;\n",
              "        }#T_2e08cce2_7a80_11eb_b153_0242ac1c0002row2_col1,#T_2e08cce2_7a80_11eb_b153_0242ac1c0002row2_col3{\n",
              "            background-color:  #85c266;\n",
              "            color:  #000000;\n",
              "        }#T_2e08cce2_7a80_11eb_b153_0242ac1c0002row2_col2{\n",
              "            background-color:  #6eb666;\n",
              "            color:  #000000;\n",
              "        }#T_2e08cce2_7a80_11eb_b153_0242ac1c0002row3_col0{\n",
              "            background-color:  #cde666;\n",
              "            color:  #000000;\n",
              "        }#T_2e08cce2_7a80_11eb_b153_0242ac1c0002row3_col1{\n",
              "            background-color:  #f0f866;\n",
              "            color:  #000000;\n",
              "        }#T_2e08cce2_7a80_11eb_b153_0242ac1c0002row3_col3{\n",
              "            background-color:  #f7fb66;\n",
              "            color:  #000000;\n",
              "        }#T_2e08cce2_7a80_11eb_b153_0242ac1c0002row4_col0,#T_2e08cce2_7a80_11eb_b153_0242ac1c0002row4_col1,#T_2e08cce2_7a80_11eb_b153_0242ac1c0002row4_col2,#T_2e08cce2_7a80_11eb_b153_0242ac1c0002row4_col3{\n",
              "            background-color:  #008066;\n",
              "            color:  #f1f1f1;\n",
              "        }</style><table id=\"T_2e08cce2_7a80_11eb_b153_0242ac1c0002\" ><thead>    <tr>        <th class=\"blank\" ></th>        <th class=\"index_name level0\" >Pclass</th>        <th class=\"col_heading level0 col0\" >1</th>        <th class=\"col_heading level0 col1\" >2</th>        <th class=\"col_heading level0 col2\" >3</th>        <th class=\"col_heading level0 col3\" >All</th>    </tr>    <tr>        <th class=\"index_name level0\" >Sex</th>        <th class=\"index_name level1\" >Survived</th>        <th class=\"blank\" ></th>        <th class=\"blank\" ></th>        <th class=\"blank\" ></th>        <th class=\"blank\" ></th>    </tr></thead><tbody>\n",
              "                <tr>\n",
              "                        <th id=\"T_2e08cce2_7a80_11eb_b153_0242ac1c0002level0_row0\" class=\"row_heading level0 row0\" rowspan=2>female</th>\n",
              "                        <th id=\"T_2e08cce2_7a80_11eb_b153_0242ac1c0002level1_row0\" class=\"row_heading level1 row0\" >0</th>\n",
              "                        <td id=\"T_2e08cce2_7a80_11eb_b153_0242ac1c0002row0_col0\" class=\"data row0 col0\" >3</td>\n",
              "                        <td id=\"T_2e08cce2_7a80_11eb_b153_0242ac1c0002row0_col1\" class=\"data row0 col1\" >6</td>\n",
              "                        <td id=\"T_2e08cce2_7a80_11eb_b153_0242ac1c0002row0_col2\" class=\"data row0 col2\" >72</td>\n",
              "                        <td id=\"T_2e08cce2_7a80_11eb_b153_0242ac1c0002row0_col3\" class=\"data row0 col3\" >81</td>\n",
              "            </tr>\n",
              "            <tr>\n",
              "                                <th id=\"T_2e08cce2_7a80_11eb_b153_0242ac1c0002level1_row1\" class=\"row_heading level1 row1\" >1</th>\n",
              "                        <td id=\"T_2e08cce2_7a80_11eb_b153_0242ac1c0002row1_col0\" class=\"data row1 col0\" >91</td>\n",
              "                        <td id=\"T_2e08cce2_7a80_11eb_b153_0242ac1c0002row1_col1\" class=\"data row1 col1\" >70</td>\n",
              "                        <td id=\"T_2e08cce2_7a80_11eb_b153_0242ac1c0002row1_col2\" class=\"data row1 col2\" >72</td>\n",
              "                        <td id=\"T_2e08cce2_7a80_11eb_b153_0242ac1c0002row1_col3\" class=\"data row1 col3\" >233</td>\n",
              "            </tr>\n",
              "            <tr>\n",
              "                        <th id=\"T_2e08cce2_7a80_11eb_b153_0242ac1c0002level0_row2\" class=\"row_heading level0 row2\" rowspan=2>male</th>\n",
              "                        <th id=\"T_2e08cce2_7a80_11eb_b153_0242ac1c0002level1_row2\" class=\"row_heading level1 row2\" >0</th>\n",
              "                        <td id=\"T_2e08cce2_7a80_11eb_b153_0242ac1c0002row2_col0\" class=\"data row2 col0\" >77</td>\n",
              "                        <td id=\"T_2e08cce2_7a80_11eb_b153_0242ac1c0002row2_col1\" class=\"data row2 col1\" >91</td>\n",
              "                        <td id=\"T_2e08cce2_7a80_11eb_b153_0242ac1c0002row2_col2\" class=\"data row2 col2\" >300</td>\n",
              "                        <td id=\"T_2e08cce2_7a80_11eb_b153_0242ac1c0002row2_col3\" class=\"data row2 col3\" >468</td>\n",
              "            </tr>\n",
              "            <tr>\n",
              "                                <th id=\"T_2e08cce2_7a80_11eb_b153_0242ac1c0002level1_row3\" class=\"row_heading level1 row3\" >1</th>\n",
              "                        <td id=\"T_2e08cce2_7a80_11eb_b153_0242ac1c0002row3_col0\" class=\"data row3 col0\" >45</td>\n",
              "                        <td id=\"T_2e08cce2_7a80_11eb_b153_0242ac1c0002row3_col1\" class=\"data row3 col1\" >17</td>\n",
              "                        <td id=\"T_2e08cce2_7a80_11eb_b153_0242ac1c0002row3_col2\" class=\"data row3 col2\" >47</td>\n",
              "                        <td id=\"T_2e08cce2_7a80_11eb_b153_0242ac1c0002row3_col3\" class=\"data row3 col3\" >109</td>\n",
              "            </tr>\n",
              "            <tr>\n",
              "                        <th id=\"T_2e08cce2_7a80_11eb_b153_0242ac1c0002level0_row4\" class=\"row_heading level0 row4\" >All</th>\n",
              "                        <th id=\"T_2e08cce2_7a80_11eb_b153_0242ac1c0002level1_row4\" class=\"row_heading level1 row4\" ></th>\n",
              "                        <td id=\"T_2e08cce2_7a80_11eb_b153_0242ac1c0002row4_col0\" class=\"data row4 col0\" >216</td>\n",
              "                        <td id=\"T_2e08cce2_7a80_11eb_b153_0242ac1c0002row4_col1\" class=\"data row4 col1\" >184</td>\n",
              "                        <td id=\"T_2e08cce2_7a80_11eb_b153_0242ac1c0002row4_col2\" class=\"data row4 col2\" >491</td>\n",
              "                        <td id=\"T_2e08cce2_7a80_11eb_b153_0242ac1c0002row4_col3\" class=\"data row4 col3\" >891</td>\n",
              "            </tr>\n",
              "    </tbody></table>"
            ],
            "text/plain": [
              "<pandas.io.formats.style.Styler at 0x7ff2416d3bd0>"
            ]
          },
          "metadata": {
            "tags": []
          },
          "execution_count": 18
        }
      ]
    },
    {
      "cell_type": "markdown",
      "metadata": {
        "id": "pBuIytDgtZDu"
      },
      "source": [
        "'Age'와 'Survived'의 관계 정리"
      ]
    },
    {
      "cell_type": "code",
      "metadata": {
        "colab": {
          "base_uri": "https://localhost:8080/",
          "height": 297
        },
        "id": "fbJhnixURzGq",
        "outputId": "c53ffe6a-1576-4fbe-c493-48c896ca4de1"
      },
      "source": [
        "sns.histplot(x = 'Age',hue = 'Survived', data = train_df)"
      ],
      "execution_count": 19,
      "outputs": [
        {
          "output_type": "execute_result",
          "data": {
            "text/plain": [
              "<matplotlib.axes._subplots.AxesSubplot at 0x7ff2413b8150>"
            ]
          },
          "metadata": {
            "tags": []
          },
          "execution_count": 19
        },
        {
          "output_type": "display_data",
          "data": {
            "image/png": "[encoded data removed]",
            "text/plain": [
              "<Figure size 432x288 with 1 Axes>"
            ]
          },
          "metadata": {
            "tags": [],
            "needs_background": "light"
          }
        }
      ]
    },
    {
      "cell_type": "code",
      "metadata": {
        "id": "7mNYPw1V9yEY",
        "colab": {
          "base_uri": "https://localhost:8080/"
        },
        "outputId": "250bc032-c5bb-4139-eb1e-e9e4e2984c08"
      },
      "source": [
        "for total_data in combine:\r\n",
        "  young_people = total_data.loc[total_data['Age'] < 10, 'Age']\r\n",
        "\r\n",
        "young_people"
      ],
      "execution_count": 20,
      "outputs": [
        {
          "output_type": "execute_result",
          "data": {
            "text/plain": [
              "21     9.00\n",
              "80     6.00\n",
              "89     2.00\n",
              "117    1.00\n",
              "161    7.00\n",
              "194    8.00\n",
              "196    6.00\n",
              "201    0.33\n",
              "203    8.00\n",
              "250    0.92\n",
              "263    1.00\n",
              "281    0.75\n",
              "283    9.00\n",
              "284    2.00\n",
              "296    1.00\n",
              "307    0.83\n",
              "354    0.17\n",
              "379    5.00\n",
              "389    6.00\n",
              "409    3.00\n",
              "Name: Age, dtype: float64"
            ]
          },
          "metadata": {
            "tags": []
          },
          "execution_count": 20
        }
      ]
    },
    {
      "cell_type": "code",
      "metadata": {
        "id": "lA6cmjPM9RNg",
        "colab": {
          "base_uri": "https://localhost:8080/"
        },
        "outputId": "7d4a5542-caa8-4d93-b8e3-2871c521ac3b"
      },
      "source": [
        "for total_data in combine:\r\n",
        "  old_people = total_data.loc[total_data['Age']>70, 'Age']\r\n",
        "old_people"
      ],
      "execution_count": 21,
      "outputs": [
        {
          "output_type": "execute_result",
          "data": {
            "text/plain": [
              "96    76.0\n",
              "Name: Age, dtype: float64"
            ]
          },
          "metadata": {
            "tags": []
          },
          "execution_count": 21
        }
      ]
    },
    {
      "cell_type": "markdown",
      "metadata": {
        "id": "SgGC4_eIU83U"
      },
      "source": [
        "**생존이 더 높은 연령층은 10세 미만 아이들과  76세의 고령탑승객이다.**"
      ]
    },
    {
      "cell_type": "markdown",
      "metadata": {
        "id": "pjLDmSlIuQos"
      },
      "source": [
        "'Sibsp'와 'Parch' 각각의 'Survived'와의 관계"
      ]
    },
    {
      "cell_type": "code",
      "metadata": {
        "id": "apAG8C2B-yn9",
        "colab": {
          "base_uri": "https://localhost:8080/",
          "height": 297
        },
        "outputId": "224c47d2-ca4d-47a1-d8b7-9b9211c25c3a"
      },
      "source": [
        "sns.barplot(x = 'SibSp', y = 'Survived', data = train_df)"
      ],
      "execution_count": 22,
      "outputs": [
        {
          "output_type": "execute_result",
          "data": {
            "text/plain": [
              "<matplotlib.axes._subplots.AxesSubplot at 0x7ff2412540d0>"
            ]
          },
          "metadata": {
            "tags": []
          },
          "execution_count": 22
        },
        {
          "output_type": "display_data",
          "data": {
            "image/png": "[encoded data removed]",
            "text/plain": [
              "<Figure size 432x288 with 1 Axes>"
            ]
          },
          "metadata": {
            "tags": [],
            "needs_background": "light"
          }
        }
      ]
    },
    {
      "cell_type": "code",
      "metadata": {
        "id": "5kVwiIus_CWd",
        "colab": {
          "base_uri": "https://localhost:8080/",
          "height": 297
        },
        "outputId": "c0fa3a05-c619-4a78-ddc6-4b34fbabcf65"
      },
      "source": [
        "sns.barplot(x = 'Parch', y = 'Survived', data = train_df)"
      ],
      "execution_count": 23,
      "outputs": [
        {
          "output_type": "execute_result",
          "data": {
            "text/plain": [
              "<matplotlib.axes._subplots.AxesSubplot at 0x7ff2411f5b90>"
            ]
          },
          "metadata": {
            "tags": []
          },
          "execution_count": 23
        },
        {
          "output_type": "display_data",
          "data": {
            "image/png": "[encoded data removed]",
            "text/plain": [
              "<Figure size 432x288 with 1 Axes>"
            ]
          },
          "metadata": {
            "tags": [],
            "needs_background": "light"
          }
        }
      ]
    },
    {
      "cell_type": "markdown",
      "metadata": {
        "id": "Ye83qNzuuZH6"
      },
      "source": [
        "'Embarked' 와 'Survived' 의 관계"
      ]
    },
    {
      "cell_type": "code",
      "metadata": {
        "colab": {
          "base_uri": "https://localhost:8080/",
          "height": 297
        },
        "id": "nawHgQLbff6W",
        "outputId": "30a5be6c-f44f-4f64-9616-20878a45fac4"
      },
      "source": [
        "sns.barplot(x = 'Embarked', y = 'Survived', data = train_df)"
      ],
      "execution_count": 24,
      "outputs": [
        {
          "output_type": "execute_result",
          "data": {
            "text/plain": [
              "<matplotlib.axes._subplots.AxesSubplot at 0x7ff2410fbf90>"
            ]
          },
          "metadata": {
            "tags": []
          },
          "execution_count": 24
        },
        {
          "output_type": "display_data",
          "data": {
            "image/png": "[encoded data removed]",
            "text/plain": [
              "<Figure size 432x288 with 1 Axes>"
            ]
          },
          "metadata": {
            "tags": [],
            "needs_background": "light"
          }
        }
      ]
    },
    {
      "cell_type": "markdown",
      "metadata": {
        "id": "bInRKvRBuvep"
      },
      "source": [
        "'Embarked'와 'Pclass' 별로 'Sex'와 'Survived'의 관계"
      ]
    },
    {
      "cell_type": "code",
      "metadata": {
        "id": "GLnJCbkqu2vV",
        "colab": {
          "base_uri": "https://localhost:8080/",
          "height": 291
        },
        "outputId": "ebc8d055-df02-4ceb-9e42-0cf0bcee3286"
      },
      "source": [
        "pd.crosstab([train_df.Embarked,train_df.Pclass],[train_df.Sex,train_df.Survived],margins=True).style.background_gradient(cmap='summer_r')"
      ],
      "execution_count": 25,
      "outputs": [
        {
          "output_type": "execute_result",
          "data": {
            "text/html": [
              "<style  type=\"text/css\" >\n",
              "#T_2ef2d15c_7a80_11eb_b153_0242ac1c0002row0_col0,#T_2ef2d15c_7a80_11eb_b153_0242ac1c0002row1_col2{\n",
              "            background-color:  #fcfe66;\n",
              "            color:  #000000;\n",
              "        }#T_2ef2d15c_7a80_11eb_b153_0242ac1c0002row0_col1{\n",
              "            background-color:  #d2e866;\n",
              "            color:  #000000;\n",
              "        }#T_2ef2d15c_7a80_11eb_b153_0242ac1c0002row0_col2{\n",
              "            background-color:  #f2f866;\n",
              "            color:  #000000;\n",
              "        }#T_2ef2d15c_7a80_11eb_b153_0242ac1c0002row0_col3{\n",
              "            background-color:  #d8ec66;\n",
              "            color:  #000000;\n",
              "        }#T_2ef2d15c_7a80_11eb_b153_0242ac1c0002row0_col4,#T_2ef2d15c_7a80_11eb_b153_0242ac1c0002row2_col3{\n",
              "            background-color:  #e8f466;\n",
              "            color:  #000000;\n",
              "        }#T_2ef2d15c_7a80_11eb_b153_0242ac1c0002row1_col0,#T_2ef2d15c_7a80_11eb_b153_0242ac1c0002row3_col0,#T_2ef2d15c_7a80_11eb_b153_0242ac1c0002row3_col1,#T_2ef2d15c_7a80_11eb_b153_0242ac1c0002row3_col2,#T_2ef2d15c_7a80_11eb_b153_0242ac1c0002row3_col3,#T_2ef2d15c_7a80_11eb_b153_0242ac1c0002row3_col4,#T_2ef2d15c_7a80_11eb_b153_0242ac1c0002row4_col0,#T_2ef2d15c_7a80_11eb_b153_0242ac1c0002row4_col2,#T_2ef2d15c_7a80_11eb_b153_0242ac1c0002row4_col3,#T_2ef2d15c_7a80_11eb_b153_0242ac1c0002row4_col4{\n",
              "            background-color:  #ffff66;\n",
              "            color:  #000000;\n",
              "        }#T_2ef2d15c_7a80_11eb_b153_0242ac1c0002row1_col1,#T_2ef2d15c_7a80_11eb_b153_0242ac1c0002row6_col0{\n",
              "            background-color:  #f9fc66;\n",
              "            color:  #000000;\n",
              "        }#T_2ef2d15c_7a80_11eb_b153_0242ac1c0002row1_col3,#T_2ef2d15c_7a80_11eb_b153_0242ac1c0002row1_col4{\n",
              "            background-color:  #fbfd66;\n",
              "            color:  #000000;\n",
              "        }#T_2ef2d15c_7a80_11eb_b153_0242ac1c0002row2_col0,#T_2ef2d15c_7a80_11eb_b153_0242ac1c0002row5_col1{\n",
              "            background-color:  #e6f266;\n",
              "            color:  #000000;\n",
              "        }#T_2ef2d15c_7a80_11eb_b153_0242ac1c0002row2_col1{\n",
              "            background-color:  #f0f866;\n",
              "            color:  #000000;\n",
              "        }#T_2ef2d15c_7a80_11eb_b153_0242ac1c0002row2_col2{\n",
              "            background-color:  #eef666;\n",
              "            color:  #000000;\n",
              "        }#T_2ef2d15c_7a80_11eb_b153_0242ac1c0002row2_col4,#T_2ef2d15c_7a80_11eb_b153_0242ac1c0002row7_col0{\n",
              "            background-color:  #edf666;\n",
              "            color:  #000000;\n",
              "        }#T_2ef2d15c_7a80_11eb_b153_0242ac1c0002row4_col1{\n",
              "            background-color:  #fefe66;\n",
              "            color:  #000000;\n",
              "        }#T_2ef2d15c_7a80_11eb_b153_0242ac1c0002row5_col0{\n",
              "            background-color:  #e3f166;\n",
              "            color:  #000000;\n",
              "        }#T_2ef2d15c_7a80_11eb_b153_0242ac1c0002row5_col2{\n",
              "            background-color:  #ecf666;\n",
              "            color:  #000000;\n",
              "        }#T_2ef2d15c_7a80_11eb_b153_0242ac1c0002row5_col3{\n",
              "            background-color:  #f8fc66;\n",
              "            color:  #000000;\n",
              "        }#T_2ef2d15c_7a80_11eb_b153_0242ac1c0002row5_col4{\n",
              "            background-color:  #ebf566;\n",
              "            color:  #000000;\n",
              "        }#T_2ef2d15c_7a80_11eb_b153_0242ac1c0002row6_col1{\n",
              "            background-color:  #cde666;\n",
              "            color:  #000000;\n",
              "        }#T_2ef2d15c_7a80_11eb_b153_0242ac1c0002row6_col2{\n",
              "            background-color:  #e4f266;\n",
              "            color:  #000000;\n",
              "        }#T_2ef2d15c_7a80_11eb_b153_0242ac1c0002row6_col3{\n",
              "            background-color:  #bede66;\n",
              "            color:  #000000;\n",
              "        }#T_2ef2d15c_7a80_11eb_b153_0242ac1c0002row6_col4{\n",
              "            background-color:  #dbed66;\n",
              "            color:  #000000;\n",
              "        }#T_2ef2d15c_7a80_11eb_b153_0242ac1c0002row7_col1{\n",
              "            background-color:  #bdde66;\n",
              "            color:  #000000;\n",
              "        }#T_2ef2d15c_7a80_11eb_b153_0242ac1c0002row7_col2{\n",
              "            background-color:  #d3e966;\n",
              "            color:  #000000;\n",
              "        }#T_2ef2d15c_7a80_11eb_b153_0242ac1c0002row7_col3,#T_2ef2d15c_7a80_11eb_b153_0242ac1c0002row8_col1{\n",
              "            background-color:  #dcee66;\n",
              "            color:  #000000;\n",
              "        }#T_2ef2d15c_7a80_11eb_b153_0242ac1c0002row7_col4{\n",
              "            background-color:  #d1e866;\n",
              "            color:  #000000;\n",
              "        }#T_2ef2d15c_7a80_11eb_b153_0242ac1c0002row8_col0{\n",
              "            background-color:  #52a866;\n",
              "            color:  #000000;\n",
              "        }#T_2ef2d15c_7a80_11eb_b153_0242ac1c0002row8_col2{\n",
              "            background-color:  #81c066;\n",
              "            color:  #000000;\n",
              "        }#T_2ef2d15c_7a80_11eb_b153_0242ac1c0002row8_col3{\n",
              "            background-color:  #b0d866;\n",
              "            color:  #000000;\n",
              "        }#T_2ef2d15c_7a80_11eb_b153_0242ac1c0002row8_col4{\n",
              "            background-color:  #9acc66;\n",
              "            color:  #000000;\n",
              "        }#T_2ef2d15c_7a80_11eb_b153_0242ac1c0002row9_col0,#T_2ef2d15c_7a80_11eb_b153_0242ac1c0002row9_col1,#T_2ef2d15c_7a80_11eb_b153_0242ac1c0002row9_col2,#T_2ef2d15c_7a80_11eb_b153_0242ac1c0002row9_col3,#T_2ef2d15c_7a80_11eb_b153_0242ac1c0002row9_col4{\n",
              "            background-color:  #008066;\n",
              "            color:  #f1f1f1;\n",
              "        }</style><table id=\"T_2ef2d15c_7a80_11eb_b153_0242ac1c0002\" ><thead>    <tr>        <th class=\"blank\" ></th>        <th class=\"index_name level0\" >Sex</th>        <th class=\"col_heading level0 col0\" colspan=2>female</th>        <th class=\"col_heading level0 col2\" colspan=2>male</th>        <th class=\"col_heading level0 col4\" >All</th>    </tr>    <tr>        <th class=\"blank\" ></th>        <th class=\"index_name level1\" >Survived</th>        <th class=\"col_heading level1 col0\" >0</th>        <th class=\"col_heading level1 col1\" >1</th>        <th class=\"col_heading level1 col2\" >0</th>        <th class=\"col_heading level1 col3\" >1</th>        <th class=\"col_heading level1 col4\" ></th>    </tr>    <tr>        <th class=\"index_name level0\" >Embarked</th>        <th class=\"index_name level1\" >Pclass</th>        <th class=\"blank\" ></th>        <th class=\"blank\" ></th>        <th class=\"blank\" ></th>        <th class=\"blank\" ></th>        <th class=\"blank\" ></th>    </tr></thead><tbody>\n",
              "                <tr>\n",
              "                        <th id=\"T_2ef2d15c_7a80_11eb_b153_0242ac1c0002level0_row0\" class=\"row_heading level0 row0\" rowspan=3>C</th>\n",
              "                        <th id=\"T_2ef2d15c_7a80_11eb_b153_0242ac1c0002level1_row0\" class=\"row_heading level1 row0\" >1</th>\n",
              "                        <td id=\"T_2ef2d15c_7a80_11eb_b153_0242ac1c0002row0_col0\" class=\"data row0 col0\" >1</td>\n",
              "                        <td id=\"T_2ef2d15c_7a80_11eb_b153_0242ac1c0002row0_col1\" class=\"data row0 col1\" >42</td>\n",
              "                        <td id=\"T_2ef2d15c_7a80_11eb_b153_0242ac1c0002row0_col2\" class=\"data row0 col2\" >25</td>\n",
              "                        <td id=\"T_2ef2d15c_7a80_11eb_b153_0242ac1c0002row0_col3\" class=\"data row0 col3\" >17</td>\n",
              "                        <td id=\"T_2ef2d15c_7a80_11eb_b153_0242ac1c0002row0_col4\" class=\"data row0 col4\" >85</td>\n",
              "            </tr>\n",
              "            <tr>\n",
              "                                <th id=\"T_2ef2d15c_7a80_11eb_b153_0242ac1c0002level1_row1\" class=\"row_heading level1 row1\" >2</th>\n",
              "                        <td id=\"T_2ef2d15c_7a80_11eb_b153_0242ac1c0002row1_col0\" class=\"data row1 col0\" >0</td>\n",
              "                        <td id=\"T_2ef2d15c_7a80_11eb_b153_0242ac1c0002row1_col1\" class=\"data row1 col1\" >7</td>\n",
              "                        <td id=\"T_2ef2d15c_7a80_11eb_b153_0242ac1c0002row1_col2\" class=\"data row1 col2\" >8</td>\n",
              "                        <td id=\"T_2ef2d15c_7a80_11eb_b153_0242ac1c0002row1_col3\" class=\"data row1 col3\" >2</td>\n",
              "                        <td id=\"T_2ef2d15c_7a80_11eb_b153_0242ac1c0002row1_col4\" class=\"data row1 col4\" >17</td>\n",
              "            </tr>\n",
              "            <tr>\n",
              "                                <th id=\"T_2ef2d15c_7a80_11eb_b153_0242ac1c0002level1_row2\" class=\"row_heading level1 row2\" >3</th>\n",
              "                        <td id=\"T_2ef2d15c_7a80_11eb_b153_0242ac1c0002row2_col0\" class=\"data row2 col0\" >8</td>\n",
              "                        <td id=\"T_2ef2d15c_7a80_11eb_b153_0242ac1c0002row2_col1\" class=\"data row2 col1\" >15</td>\n",
              "                        <td id=\"T_2ef2d15c_7a80_11eb_b153_0242ac1c0002row2_col2\" class=\"data row2 col2\" >33</td>\n",
              "                        <td id=\"T_2ef2d15c_7a80_11eb_b153_0242ac1c0002row2_col3\" class=\"data row2 col3\" >10</td>\n",
              "                        <td id=\"T_2ef2d15c_7a80_11eb_b153_0242ac1c0002row2_col4\" class=\"data row2 col4\" >66</td>\n",
              "            </tr>\n",
              "            <tr>\n",
              "                        <th id=\"T_2ef2d15c_7a80_11eb_b153_0242ac1c0002level0_row3\" class=\"row_heading level0 row3\" rowspan=3>Q</th>\n",
              "                        <th id=\"T_2ef2d15c_7a80_11eb_b153_0242ac1c0002level1_row3\" class=\"row_heading level1 row3\" >1</th>\n",
              "                        <td id=\"T_2ef2d15c_7a80_11eb_b153_0242ac1c0002row3_col0\" class=\"data row3 col0\" >0</td>\n",
              "                        <td id=\"T_2ef2d15c_7a80_11eb_b153_0242ac1c0002row3_col1\" class=\"data row3 col1\" >1</td>\n",
              "                        <td id=\"T_2ef2d15c_7a80_11eb_b153_0242ac1c0002row3_col2\" class=\"data row3 col2\" >1</td>\n",
              "                        <td id=\"T_2ef2d15c_7a80_11eb_b153_0242ac1c0002row3_col3\" class=\"data row3 col3\" >0</td>\n",
              "                        <td id=\"T_2ef2d15c_7a80_11eb_b153_0242ac1c0002row3_col4\" class=\"data row3 col4\" >2</td>\n",
              "            </tr>\n",
              "            <tr>\n",
              "                                <th id=\"T_2ef2d15c_7a80_11eb_b153_0242ac1c0002level1_row4\" class=\"row_heading level1 row4\" >2</th>\n",
              "                        <td id=\"T_2ef2d15c_7a80_11eb_b153_0242ac1c0002row4_col0\" class=\"data row4 col0\" >0</td>\n",
              "                        <td id=\"T_2ef2d15c_7a80_11eb_b153_0242ac1c0002row4_col1\" class=\"data row4 col1\" >2</td>\n",
              "                        <td id=\"T_2ef2d15c_7a80_11eb_b153_0242ac1c0002row4_col2\" class=\"data row4 col2\" >1</td>\n",
              "                        <td id=\"T_2ef2d15c_7a80_11eb_b153_0242ac1c0002row4_col3\" class=\"data row4 col3\" >0</td>\n",
              "                        <td id=\"T_2ef2d15c_7a80_11eb_b153_0242ac1c0002row4_col4\" class=\"data row4 col4\" >3</td>\n",
              "            </tr>\n",
              "            <tr>\n",
              "                                <th id=\"T_2ef2d15c_7a80_11eb_b153_0242ac1c0002level1_row5\" class=\"row_heading level1 row5\" >3</th>\n",
              "                        <td id=\"T_2ef2d15c_7a80_11eb_b153_0242ac1c0002row5_col0\" class=\"data row5 col0\" >9</td>\n",
              "                        <td id=\"T_2ef2d15c_7a80_11eb_b153_0242ac1c0002row5_col1\" class=\"data row5 col1\" >24</td>\n",
              "                        <td id=\"T_2ef2d15c_7a80_11eb_b153_0242ac1c0002row5_col2\" class=\"data row5 col2\" >36</td>\n",
              "                        <td id=\"T_2ef2d15c_7a80_11eb_b153_0242ac1c0002row5_col3\" class=\"data row5 col3\" >3</td>\n",
              "                        <td id=\"T_2ef2d15c_7a80_11eb_b153_0242ac1c0002row5_col4\" class=\"data row5 col4\" >72</td>\n",
              "            </tr>\n",
              "            <tr>\n",
              "                        <th id=\"T_2ef2d15c_7a80_11eb_b153_0242ac1c0002level0_row6\" class=\"row_heading level0 row6\" rowspan=3>S</th>\n",
              "                        <th id=\"T_2ef2d15c_7a80_11eb_b153_0242ac1c0002level1_row6\" class=\"row_heading level1 row6\" >1</th>\n",
              "                        <td id=\"T_2ef2d15c_7a80_11eb_b153_0242ac1c0002row6_col0\" class=\"data row6 col0\" >2</td>\n",
              "                        <td id=\"T_2ef2d15c_7a80_11eb_b153_0242ac1c0002row6_col1\" class=\"data row6 col1\" >46</td>\n",
              "                        <td id=\"T_2ef2d15c_7a80_11eb_b153_0242ac1c0002row6_col2\" class=\"data row6 col2\" >51</td>\n",
              "                        <td id=\"T_2ef2d15c_7a80_11eb_b153_0242ac1c0002row6_col3\" class=\"data row6 col3\" >28</td>\n",
              "                        <td id=\"T_2ef2d15c_7a80_11eb_b153_0242ac1c0002row6_col4\" class=\"data row6 col4\" >127</td>\n",
              "            </tr>\n",
              "            <tr>\n",
              "                                <th id=\"T_2ef2d15c_7a80_11eb_b153_0242ac1c0002level1_row7\" class=\"row_heading level1 row7\" >2</th>\n",
              "                        <td id=\"T_2ef2d15c_7a80_11eb_b153_0242ac1c0002row7_col0\" class=\"data row7 col0\" >6</td>\n",
              "                        <td id=\"T_2ef2d15c_7a80_11eb_b153_0242ac1c0002row7_col1\" class=\"data row7 col1\" >61</td>\n",
              "                        <td id=\"T_2ef2d15c_7a80_11eb_b153_0242ac1c0002row7_col2\" class=\"data row7 col2\" >82</td>\n",
              "                        <td id=\"T_2ef2d15c_7a80_11eb_b153_0242ac1c0002row7_col3\" class=\"data row7 col3\" >15</td>\n",
              "                        <td id=\"T_2ef2d15c_7a80_11eb_b153_0242ac1c0002row7_col4\" class=\"data row7 col4\" >164</td>\n",
              "            </tr>\n",
              "            <tr>\n",
              "                                <th id=\"T_2ef2d15c_7a80_11eb_b153_0242ac1c0002level1_row8\" class=\"row_heading level1 row8\" >3</th>\n",
              "                        <td id=\"T_2ef2d15c_7a80_11eb_b153_0242ac1c0002row8_col0\" class=\"data row8 col0\" >55</td>\n",
              "                        <td id=\"T_2ef2d15c_7a80_11eb_b153_0242ac1c0002row8_col1\" class=\"data row8 col1\" >33</td>\n",
              "                        <td id=\"T_2ef2d15c_7a80_11eb_b153_0242ac1c0002row8_col2\" class=\"data row8 col2\" >231</td>\n",
              "                        <td id=\"T_2ef2d15c_7a80_11eb_b153_0242ac1c0002row8_col3\" class=\"data row8 col3\" >34</td>\n",
              "                        <td id=\"T_2ef2d15c_7a80_11eb_b153_0242ac1c0002row8_col4\" class=\"data row8 col4\" >353</td>\n",
              "            </tr>\n",
              "            <tr>\n",
              "                        <th id=\"T_2ef2d15c_7a80_11eb_b153_0242ac1c0002level0_row9\" class=\"row_heading level0 row9\" >All</th>\n",
              "                        <th id=\"T_2ef2d15c_7a80_11eb_b153_0242ac1c0002level1_row9\" class=\"row_heading level1 row9\" ></th>\n",
              "                        <td id=\"T_2ef2d15c_7a80_11eb_b153_0242ac1c0002row9_col0\" class=\"data row9 col0\" >81</td>\n",
              "                        <td id=\"T_2ef2d15c_7a80_11eb_b153_0242ac1c0002row9_col1\" class=\"data row9 col1\" >231</td>\n",
              "                        <td id=\"T_2ef2d15c_7a80_11eb_b153_0242ac1c0002row9_col2\" class=\"data row9 col2\" >468</td>\n",
              "                        <td id=\"T_2ef2d15c_7a80_11eb_b153_0242ac1c0002row9_col3\" class=\"data row9 col3\" >109</td>\n",
              "                        <td id=\"T_2ef2d15c_7a80_11eb_b153_0242ac1c0002row9_col4\" class=\"data row9 col4\" >889</td>\n",
              "            </tr>\n",
              "    </tbody></table>"
            ],
            "text/plain": [
              "<pandas.io.formats.style.Styler at 0x7ff24133c9d0>"
            ]
          },
          "metadata": {
            "tags": []
          },
          "execution_count": 25
        }
      ]
    },
    {
      "cell_type": "markdown",
      "metadata": {
        "id": "RDWb4h7hg-F1"
      },
      "source": [
        "탑승장소에 대한 자세한 특성을 알아봐야할 필요가 있을것 같다.\r\n"
      ]
    },
    {
      "cell_type": "markdown",
      "metadata": {
        "id": "exVntOlavrF0"
      },
      "source": [
        "각 변수들 간의 상관관계\r\n",
        "\r\n"
      ]
    },
    {
      "cell_type": "code",
      "metadata": {
        "id": "vCmCMN1Kvjk1",
        "colab": {
          "base_uri": "https://localhost:8080/",
          "height": 537
        },
        "outputId": "1b494450-39d1-4882-8f17-91954c73f1c2"
      },
      "source": [
        "# heatmap을 사용하면 각 변수들 간의 correlation을 확인 할 수 있으며,\r\n",
        "# 전처리 시 도움이 된다. \r\n",
        "sns.heatmap(train_df.corr(),annot=True,cmap='RdYlGn') #data.corr()-->correlation matrix\r\n",
        "fig=plt.gcf()\r\n",
        "fig.set_size_inches(10,8)\r\n",
        "plt.show()\r\n",
        "\r\n"
      ],
      "execution_count": 26,
      "outputs": [
        {
          "output_type": "display_data",
          "data": {
            "image/png": "[encoded data removed]",
            "text/plain": [
              "<Figure size 720x576 with 2 Axes>"
            ]
          },
          "metadata": {
            "tags": [],
            "needs_background": "light"
          }
        }
      ]
    },
    {
      "cell_type": "markdown",
      "metadata": {
        "id": "PDj8wyg-3UgA"
      },
      "source": [
        "히트맵 코드 설명 (fig = plt.gcf())\r\n",
        "plt.~~~ 코드로 그림을 그리는 방식을 상태기반(state-based)이라고 한다. 반면 그림의 구성요소를 지정해서 제어하는 것을 객체지향(object-oriented)방식이라고 한다. plt.로 그림을 그리다 보면 그림제어에 한계가 느껴져 객체지향으로 변환해야 하는데 그러때 쓰는것이 fig = plt.gcf()명령이다. 지금 그림(plt)의 전체영역(Figure)에 접근하겠다(gcf: get current figure)는 의미입니다. \r\n",
        "\r\n",
        "fig = plt.gcf()로 Figure객체를 fig라는 변수에 담은 후, figuresize 를 변경하는 명령이다.\r\n",
        "\r\n",
        "하지만 matplot이 손에 익을 때 까지는 객체지향을 연습하며 사용하는것을 추천한다. ( 이재현 님 설명 인용)"
      ]
    },
    {
      "cell_type": "code",
      "metadata": {
        "id": "ECVi65k3Uz0I",
        "colab": {
          "base_uri": "https://localhost:8080/",
          "height": 258
        },
        "outputId": "59719c7d-dcc3-45fe-c3fd-d30990824ce7"
      },
      "source": [
        "train_df.corr()"
      ],
      "execution_count": 27,
      "outputs": [
        {
          "output_type": "execute_result",
          "data": {
            "text/html": [
              "<div>\n",
              "<style scoped>\n",
              "    .dataframe tbody tr th:only-of-type {\n",
              "        vertical-align: middle;\n",
              "    }\n",
              "\n",
              "    .dataframe tbody tr th {\n",
              "        vertical-align: top;\n",
              "    }\n",
              "\n",
              "    .dataframe thead th {\n",
              "        text-align: right;\n",
              "    }\n",
              "</style>\n",
              "<table border=\"1\" class=\"dataframe\">\n",
              "  <thead>\n",
              "    <tr style=\"text-align: right;\">\n",
              "      <th></th>\n",
              "      <th>PassengerId</th>\n",
              "      <th>Survived</th>\n",
              "      <th>Pclass</th>\n",
              "      <th>Age</th>\n",
              "      <th>SibSp</th>\n",
              "      <th>Parch</th>\n",
              "      <th>Fare</th>\n",
              "    </tr>\n",
              "  </thead>\n",
              "  <tbody>\n",
              "    <tr>\n",
              "      <th>PassengerId</th>\n",
              "      <td>1.000000</td>\n",
              "      <td>-0.005007</td>\n",
              "      <td>-0.035144</td>\n",
              "      <td>0.036847</td>\n",
              "      <td>-0.057527</td>\n",
              "      <td>-0.001652</td>\n",
              "      <td>0.012658</td>\n",
              "    </tr>\n",
              "    <tr>\n",
              "      <th>Survived</th>\n",
              "      <td>-0.005007</td>\n",
              "      <td>1.000000</td>\n",
              "      <td>-0.338481</td>\n",
              "      <td>-0.077221</td>\n",
              "      <td>-0.035322</td>\n",
              "      <td>0.081629</td>\n",
              "      <td>0.257307</td>\n",
              "    </tr>\n",
              "    <tr>\n",
              "      <th>Pclass</th>\n",
              "      <td>-0.035144</td>\n",
              "      <td>-0.338481</td>\n",
              "      <td>1.000000</td>\n",
              "      <td>-0.369226</td>\n",
              "      <td>0.083081</td>\n",
              "      <td>0.018443</td>\n",
              "      <td>-0.549500</td>\n",
              "    </tr>\n",
              "    <tr>\n",
              "      <th>Age</th>\n",
              "      <td>0.036847</td>\n",
              "      <td>-0.077221</td>\n",
              "      <td>-0.369226</td>\n",
              "      <td>1.000000</td>\n",
              "      <td>-0.308247</td>\n",
              "      <td>-0.189119</td>\n",
              "      <td>0.096067</td>\n",
              "    </tr>\n",
              "    <tr>\n",
              "      <th>SibSp</th>\n",
              "      <td>-0.057527</td>\n",
              "      <td>-0.035322</td>\n",
              "      <td>0.083081</td>\n",
              "      <td>-0.308247</td>\n",
              "      <td>1.000000</td>\n",
              "      <td>0.414838</td>\n",
              "      <td>0.159651</td>\n",
              "    </tr>\n",
              "    <tr>\n",
              "      <th>Parch</th>\n",
              "      <td>-0.001652</td>\n",
              "      <td>0.081629</td>\n",
              "      <td>0.018443</td>\n",
              "      <td>-0.189119</td>\n",
              "      <td>0.414838</td>\n",
              "      <td>1.000000</td>\n",
              "      <td>0.216225</td>\n",
              "    </tr>\n",
              "    <tr>\n",
              "      <th>Fare</th>\n",
              "      <td>0.012658</td>\n",
              "      <td>0.257307</td>\n",
              "      <td>-0.549500</td>\n",
              "      <td>0.096067</td>\n",
              "      <td>0.159651</td>\n",
              "      <td>0.216225</td>\n",
              "      <td>1.000000</td>\n",
              "    </tr>\n",
              "  </tbody>\n",
              "</table>\n",
              "</div>"
            ],
            "text/plain": [
              "             PassengerId  Survived    Pclass  ...     SibSp     Parch      Fare\n",
              "PassengerId     1.000000 -0.005007 -0.035144  ... -0.057527 -0.001652  0.012658\n",
              "Survived       -0.005007  1.000000 -0.338481  ... -0.035322  0.081629  0.257307\n",
              "Pclass         -0.035144 -0.338481  1.000000  ...  0.083081  0.018443 -0.549500\n",
              "Age             0.036847 -0.077221 -0.369226  ... -0.308247 -0.189119  0.096067\n",
              "SibSp          -0.057527 -0.035322  0.083081  ...  1.000000  0.414838  0.159651\n",
              "Parch          -0.001652  0.081629  0.018443  ...  0.414838  1.000000  0.216225\n",
              "Fare            0.012658  0.257307 -0.549500  ...  0.159651  0.216225  1.000000\n",
              "\n",
              "[7 rows x 7 columns]"
            ]
          },
          "metadata": {
            "tags": []
          },
          "execution_count": 27
        }
      ]
    },
    {
      "cell_type": "markdown",
      "metadata": {
        "id": "Aq9YybTvytB-"
      },
      "source": [
        "heatmap\r\n",
        "- annot = True 하면 값을 표시\r\n",
        "- df.corr()  데이터간의 상관관계 correlation 의 줄임 "
      ]
    },
    {
      "cell_type": "markdown",
      "metadata": {
        "id": "Ai2oiG1jy7Py"
      },
      "source": [
        ""
      ]
    },
    {
      "cell_type": "markdown",
      "metadata": {
        "id": "p1NZ8dAFhU6o"
      },
      "source": [
        "# 데이터 전처리"
      ]
    },
    {
      "cell_type": "markdown",
      "metadata": {
        "id": "pqF4DOzP0jvZ"
      },
      "source": [
        "## Name 컬럼 전처리"
      ]
    },
    {
      "cell_type": "markdown",
      "metadata": {
        "id": "alW5OvmICqZb"
      },
      "source": [
        "Name 의 경우는 성 으로 추정되는 데이터를 바탕으로 구분을 하고자 한다."
      ]
    },
    {
      "cell_type": "code",
      "metadata": {
        "colab": {
          "base_uri": "https://localhost:8080/"
        },
        "id": "NzIZRGG805OO",
        "outputId": "9ed4176b-f582-46fc-a810-32795d9eda70"
      },
      "source": [
        "# train_df\r\n",
        "Name = []\r\n",
        "\r\n",
        "for i in train_df['Name']:\r\n",
        "  for h in i.split(' '):\r\n",
        "    if '.' in h:\r\n",
        "      Name.append(h[:-1])\r\n",
        "\r\n",
        "Name"
      ],
      "execution_count": 28,
      "outputs": [
        {
          "output_type": "execute_result",
          "data": {
            "text/plain": [
              "['Mr',\n",
              " 'Mrs',\n",
              " 'Miss',\n",
              " 'Mrs',\n",
              " 'Mr',\n",
              " 'Mr',\n",
              " 'Mr',\n",
              " 'Master',\n",
              " 'Mrs',\n",
              " 'Mrs',\n",
              " 'Miss',\n",
              " 'Miss',\n",
              " 'Mr',\n",
              " 'Mr',\n",
              " 'Miss',\n",
              " 'Mrs',\n",
              " 'Master',\n",
              " 'Mr',\n",
              " 'Mrs',\n",
              " 'Mrs',\n",
              " 'Mr',\n",
              " 'Mr',\n",
              " 'Miss',\n",
              " 'Mr',\n",
              " 'Miss',\n",
              " 'Mrs',\n",
              " 'Mr',\n",
              " 'Mr',\n",
              " 'Miss',\n",
              " 'Mr',\n",
              " 'Don',\n",
              " 'Mrs',\n",
              " 'Miss',\n",
              " 'Mr',\n",
              " 'Mr',\n",
              " 'Mr',\n",
              " 'Mr',\n",
              " 'Mr',\n",
              " 'Miss',\n",
              " 'Miss',\n",
              " 'Mrs',\n",
              " 'Mrs',\n",
              " 'Mr',\n",
              " 'Miss',\n",
              " 'Miss',\n",
              " 'Mr',\n",
              " 'Mr',\n",
              " 'Miss',\n",
              " 'Mr',\n",
              " 'Mrs',\n",
              " 'Master',\n",
              " 'Mr',\n",
              " 'Mrs',\n",
              " 'Mrs',\n",
              " 'Mr',\n",
              " 'Mr',\n",
              " 'Miss',\n",
              " 'Mr',\n",
              " 'Miss',\n",
              " 'Master',\n",
              " 'Mr',\n",
              " 'Miss',\n",
              " 'Mr',\n",
              " 'Master',\n",
              " 'Mr',\n",
              " 'Master',\n",
              " 'Mrs',\n",
              " 'Mr',\n",
              " 'Miss',\n",
              " 'Mr',\n",
              " 'Mr',\n",
              " 'Miss',\n",
              " 'Mr',\n",
              " 'Mr',\n",
              " 'Mr',\n",
              " 'Mr',\n",
              " 'Mr',\n",
              " 'Mr',\n",
              " 'Master',\n",
              " 'Miss',\n",
              " 'Mr',\n",
              " 'Mr',\n",
              " 'Miss',\n",
              " 'Mr',\n",
              " 'Miss',\n",
              " 'Mrs',\n",
              " 'Mr',\n",
              " 'Mr',\n",
              " 'Miss',\n",
              " 'Mr',\n",
              " 'Mr',\n",
              " 'Mr',\n",
              " 'Mr',\n",
              " 'Mr',\n",
              " 'Mr',\n",
              " 'Mr',\n",
              " 'Mr',\n",
              " 'Mr',\n",
              " 'Mrs',\n",
              " 'Mr',\n",
              " 'Miss',\n",
              " 'Mr',\n",
              " 'Mr',\n",
              " 'Mr',\n",
              " 'Mr',\n",
              " 'Mr',\n",
              " 'Miss',\n",
              " 'Mr',\n",
              " 'Mr',\n",
              " 'Miss',\n",
              " 'Mr',\n",
              " 'Miss',\n",
              " 'Mr',\n",
              " 'Miss',\n",
              " 'Miss',\n",
              " 'Mr',\n",
              " 'Mr',\n",
              " 'Mr',\n",
              " 'Mr',\n",
              " 'Miss',\n",
              " 'Mr',\n",
              " 'Mr',\n",
              " 'Mr',\n",
              " 'Miss',\n",
              " 'Mr',\n",
              " 'Master',\n",
              " 'Mr',\n",
              " 'Mr',\n",
              " 'Miss',\n",
              " 'Mr',\n",
              " 'Mr',\n",
              " 'Mr',\n",
              " 'Mrs',\n",
              " 'Mrs',\n",
              " 'Mr',\n",
              " 'Mr',\n",
              " 'Miss',\n",
              " 'Mr',\n",
              " 'Mr',\n",
              " 'Mr',\n",
              " 'Mrs',\n",
              " 'Miss',\n",
              " 'Mrs',\n",
              " 'Mr',\n",
              " 'Mr',\n",
              " 'Mr',\n",
              " 'Mr',\n",
              " 'Miss',\n",
              " 'Mr',\n",
              " 'Rev',\n",
              " 'Rev',\n",
              " 'Mrs',\n",
              " 'Mr',\n",
              " 'Mr',\n",
              " 'Mr',\n",
              " 'Mr',\n",
              " 'Miss',\n",
              " 'Mr',\n",
              " 'Mr',\n",
              " 'Master',\n",
              " 'Mr',\n",
              " 'Mrs',\n",
              " 'Mr',\n",
              " 'Mr',\n",
              " 'Master',\n",
              " 'Master',\n",
              " 'Mrs',\n",
              " 'Mrs',\n",
              " 'Mr',\n",
              " 'Mr',\n",
              " 'Mr',\n",
              " 'Master',\n",
              " 'Miss',\n",
              " 'Mr',\n",
              " 'Mr',\n",
              " 'Mr',\n",
              " 'Master',\n",
              " 'Miss',\n",
              " 'Mr',\n",
              " 'Mr',\n",
              " 'Miss',\n",
              " 'Mr',\n",
              " 'Master',\n",
              " 'Master',\n",
              " 'Miss',\n",
              " 'Mr',\n",
              " 'Mrs',\n",
              " 'Mr',\n",
              " 'Mr',\n",
              " 'Mr',\n",
              " 'Mrs',\n",
              " 'Mr',\n",
              " 'Miss',\n",
              " 'Master',\n",
              " 'Mrs',\n",
              " 'Miss',\n",
              " 'Mr',\n",
              " 'Mr',\n",
              " 'Miss',\n",
              " 'Miss',\n",
              " 'Mr',\n",
              " 'Mr',\n",
              " 'Mr',\n",
              " 'Mr',\n",
              " 'Mr',\n",
              " 'Miss',\n",
              " 'Mr',\n",
              " 'Mr',\n",
              " 'Miss',\n",
              " 'Mr',\n",
              " 'Mr',\n",
              " 'Miss',\n",
              " 'Mr',\n",
              " 'Mr',\n",
              " 'Mr',\n",
              " 'Miss',\n",
              " 'Miss',\n",
              " 'Mr',\n",
              " 'Miss',\n",
              " 'Mr',\n",
              " 'Mr',\n",
              " 'Mr',\n",
              " 'Mr',\n",
              " 'Mr',\n",
              " 'Mr',\n",
              " 'Mr',\n",
              " 'Mr',\n",
              " 'Mr',\n",
              " 'Mr',\n",
              " 'Miss',\n",
              " 'Mrs',\n",
              " 'Mr',\n",
              " 'Mr',\n",
              " 'Miss',\n",
              " 'Mr',\n",
              " 'Miss',\n",
              " 'Mr',\n",
              " 'Miss',\n",
              " 'Mr',\n",
              " 'Mr',\n",
              " 'Miss',\n",
              " 'Miss',\n",
              " 'Mr',\n",
              " 'Mr',\n",
              " 'Mr',\n",
              " 'Dr',\n",
              " 'Miss',\n",
              " 'Mrs',\n",
              " 'Mr',\n",
              " 'Rev',\n",
              " 'Mr',\n",
              " 'Mrs',\n",
              " 'Mr',\n",
              " 'Mr',\n",
              " 'Mrs',\n",
              " 'Mrs',\n",
              " 'Mrs',\n",
              " 'Miss',\n",
              " 'Miss',\n",
              " 'Mrs',\n",
              " 'Mr',\n",
              " 'Master',\n",
              " 'Mr',\n",
              " 'Mr',\n",
              " 'Miss',\n",
              " 'Mr',\n",
              " 'Mr',\n",
              " 'Mr',\n",
              " 'Mrs',\n",
              " 'Miss',\n",
              " 'Mr',\n",
              " 'Mr',\n",
              " 'Mrs',\n",
              " 'Mr',\n",
              " 'Miss',\n",
              " 'Miss',\n",
              " 'Miss',\n",
              " 'Mr',\n",
              " 'Master',\n",
              " 'Mrs',\n",
              " 'Mr',\n",
              " 'Mr',\n",
              " 'Mr',\n",
              " 'Mr',\n",
              " 'Mr',\n",
              " 'Mr',\n",
              " 'Mr',\n",
              " 'Mr',\n",
              " 'Mr',\n",
              " 'Miss',\n",
              " 'Miss',\n",
              " 'Mrs',\n",
              " 'Mr',\n",
              " 'Miss',\n",
              " 'Mr',\n",
              " 'Mr',\n",
              " 'Mr',\n",
              " 'Miss',\n",
              " 'Mr',\n",
              " 'Mrs',\n",
              " 'Miss',\n",
              " 'Mr',\n",
              " 'Mr',\n",
              " 'Miss',\n",
              " 'Mr',\n",
              " 'Master',\n",
              " 'Miss',\n",
              " 'Mrs',\n",
              " 'Mr',\n",
              " 'Miss',\n",
              " 'Miss',\n",
              " 'Miss',\n",
              " 'Mrs',\n",
              " 'Mr',\n",
              " 'Mr',\n",
              " 'Miss',\n",
              " 'Mrs',\n",
              " 'Dr',\n",
              " 'Miss',\n",
              " 'Mrs',\n",
              " 'Mr',\n",
              " 'Mr',\n",
              " 'Miss',\n",
              " 'Mrs',\n",
              " 'Mr',\n",
              " 'Miss',\n",
              " 'Mr',\n",
              " 'Mrs',\n",
              " 'Mrs',\n",
              " 'Miss',\n",
              " 'Miss',\n",
              " 'Mr',\n",
              " 'Mr',\n",
              " 'Mr',\n",
              " 'Mrs',\n",
              " 'Mr',\n",
              " 'Mr',\n",
              " 'Miss',\n",
              " 'Mr',\n",
              " 'Mr',\n",
              " 'Master',\n",
              " 'Miss',\n",
              " 'Mr',\n",
              " 'Mr',\n",
              " 'Mr',\n",
              " 'Miss',\n",
              " 'Miss',\n",
              " 'Mrs',\n",
              " 'Master',\n",
              " 'Mr',\n",
              " 'Mr',\n",
              " 'Mr',\n",
              " 'Mr',\n",
              " 'Mr',\n",
              " 'Mr',\n",
              " 'Mr',\n",
              " 'Miss',\n",
              " 'Miss',\n",
              " 'Miss',\n",
              " 'Miss',\n",
              " 'Mr',\n",
              " 'Mr',\n",
              " 'Mrs',\n",
              " 'Mr',\n",
              " 'Mr',\n",
              " 'Mr',\n",
              " 'Mrs',\n",
              " 'Mrs',\n",
              " 'Miss',\n",
              " 'Mme',\n",
              " 'Mr',\n",
              " 'Mr',\n",
              " 'Mr',\n",
              " 'Mr',\n",
              " 'Miss',\n",
              " 'Mrs',\n",
              " 'Miss',\n",
              " 'Mr',\n",
              " 'Mr',\n",
              " 'Mr',\n",
              " 'Miss',\n",
              " 'Miss',\n",
              " 'Mr',\n",
              " 'Mrs',\n",
              " 'Mr',\n",
              " 'Mr',\n",
              " 'Master',\n",
              " 'Miss',\n",
              " 'Mr',\n",
              " 'Miss',\n",
              " 'Mr',\n",
              " 'Mr',\n",
              " 'Mr',\n",
              " 'Miss',\n",
              " 'Mrs',\n",
              " 'Mr',\n",
              " 'Miss',\n",
              " 'Mr',\n",
              " 'Dr',\n",
              " 'Mrs',\n",
              " 'Mr',\n",
              " 'Mr',\n",
              " 'Miss',\n",
              " 'Mr',\n",
              " 'Miss',\n",
              " 'Mr',\n",
              " 'Mr',\n",
              " 'Master',\n",
              " 'Mr',\n",
              " 'Miss',\n",
              " 'Mr',\n",
              " 'Mr',\n",
              " 'Miss',\n",
              " 'Mr',\n",
              " 'Mr',\n",
              " 'Mrs',\n",
              " 'Mrs',\n",
              " 'Miss',\n",
              " 'Mr',\n",
              " 'Miss',\n",
              " 'Mr',\n",
              " 'Mr',\n",
              " 'Mr',\n",
              " 'Mrs',\n",
              " 'Mr',\n",
              " 'Mr',\n",
              " 'Mrs',\n",
              " 'Miss',\n",
              " 'Mr',\n",
              " 'Mr',\n",
              " 'Mr',\n",
              " 'Mrs',\n",
              " 'Mrs',\n",
              " 'Mr',\n",
              " 'Mr',\n",
              " 'Miss',\n",
              " 'Miss',\n",
              " 'Mrs',\n",
              " 'Mr',\n",
              " 'Mr',\n",
              " 'Mrs',\n",
              " 'Mr',\n",
              " 'Mr',\n",
              " 'Ms',\n",
              " 'Mr',\n",
              " 'Master',\n",
              " 'Miss',\n",
              " 'Mr',\n",
              " 'Miss',\n",
              " 'Major',\n",
              " 'Mr',\n",
              " 'Mr',\n",
              " 'Mr',\n",
              " 'Mr',\n",
              " 'Mr',\n",
              " 'Mr',\n",
              " 'Mr',\n",
              " 'Mrs',\n",
              " 'Miss',\n",
              " 'Mr',\n",
              " 'Mr',\n",
              " 'Mr',\n",
              " 'Mr',\n",
              " 'Mr',\n",
              " 'Mr',\n",
              " 'Mr',\n",
              " 'Mr',\n",
              " 'Mr',\n",
              " 'Mr',\n",
              " 'Miss',\n",
              " 'Mr',\n",
              " 'Mr',\n",
              " 'Mrs',\n",
              " 'Mrs',\n",
              " 'Miss',\n",
              " 'Mr',\n",
              " 'Mr',\n",
              " 'Mr',\n",
              " 'Mr',\n",
              " 'Miss',\n",
              " 'Master',\n",
              " 'Mr',\n",
              " 'Mr',\n",
              " 'Mrs',\n",
              " 'Mr',\n",
              " 'Miss',\n",
              " 'Mrs',\n",
              " 'Mr',\n",
              " 'Mr',\n",
              " 'Master',\n",
              " 'Mr',\n",
              " 'Mr',\n",
              " 'Mr',\n",
              " 'Mr',\n",
              " 'Mr',\n",
              " 'Mr',\n",
              " 'Miss',\n",
              " 'Mr',\n",
              " 'Mrs',\n",
              " 'Mr',\n",
              " 'Mr',\n",
              " 'Miss',\n",
              " 'Miss',\n",
              " 'Miss',\n",
              " 'Miss',\n",
              " 'Mr',\n",
              " 'Mrs',\n",
              " 'Mr',\n",
              " 'Mr',\n",
              " 'Mr',\n",
              " 'Mr',\n",
              " 'Mr',\n",
              " 'Mr',\n",
              " 'Mrs',\n",
              " 'L',\n",
              " 'Mr',\n",
              " 'Mr',\n",
              " 'Mrs',\n",
              " 'Mr',\n",
              " 'Mrs',\n",
              " 'Mr',\n",
              " 'Miss',\n",
              " 'Mr',\n",
              " 'Mr',\n",
              " 'Mrs',\n",
              " 'Mr',\n",
              " 'Mr',\n",
              " 'Miss',\n",
              " 'Mr',\n",
              " 'Mr',\n",
              " 'Mr',\n",
              " 'Miss',\n",
              " 'Mr',\n",
              " 'Mr',\n",
              " 'Mrs',\n",
              " 'Miss',\n",
              " 'Miss',\n",
              " 'Major',\n",
              " 'Miss',\n",
              " 'Mr',\n",
              " 'Miss',\n",
              " 'Miss',\n",
              " 'Miss',\n",
              " 'Miss',\n",
              " 'Mr',\n",
              " 'Mr',\n",
              " 'Mr',\n",
              " 'Mrs',\n",
              " 'Mr',\n",
              " 'Mr',\n",
              " 'Master',\n",
              " 'Mr',\n",
              " 'Mr',\n",
              " 'Mr',\n",
              " 'Mr',\n",
              " 'Miss',\n",
              " 'Mr',\n",
              " 'Lady',\n",
              " 'Mr',\n",
              " 'Mrs',\n",
              " 'Mrs',\n",
              " 'Mr',\n",
              " 'Mr',\n",
              " 'Mr',\n",
              " 'Mr',\n",
              " 'Miss',\n",
              " 'Mr',\n",
              " 'Mr',\n",
              " 'Mrs',\n",
              " 'Mr',\n",
              " 'Mr',\n",
              " 'Mr',\n",
              " 'Mrs',\n",
              " 'Mr',\n",
              " 'Miss',\n",
              " 'Mr',\n",
              " 'Mr',\n",
              " 'Miss',\n",
              " 'Mrs',\n",
              " 'Mrs',\n",
              " 'Mr',\n",
              " 'Miss',\n",
              " 'Mrs',\n",
              " 'Mr',\n",
              " 'Mr',\n",
              " 'Mr',\n",
              " 'Miss',\n",
              " 'Mr',\n",
              " 'Mr',\n",
              " 'Mr',\n",
              " 'Mr',\n",
              " 'Mr',\n",
              " 'Mrs',\n",
              " 'Mr',\n",
              " 'Miss',\n",
              " 'Mr',\n",
              " 'Mr',\n",
              " 'Miss',\n",
              " 'Mr',\n",
              " 'Mr',\n",
              " 'Sir',\n",
              " 'Mrs',\n",
              " 'Mr',\n",
              " 'Mr',\n",
              " 'Mr',\n",
              " 'Mr',\n",
              " 'Mr',\n",
              " 'Mr',\n",
              " 'Mr',\n",
              " 'Mrs',\n",
              " 'Miss',\n",
              " 'Mrs',\n",
              " 'Mr',\n",
              " 'Miss',\n",
              " 'Mr',\n",
              " 'Mr',\n",
              " 'Miss',\n",
              " 'Mr',\n",
              " 'Mrs',\n",
              " 'Miss',\n",
              " 'Mr',\n",
              " 'Mr',\n",
              " 'Mr',\n",
              " 'Mr',\n",
              " 'Mr',\n",
              " 'Mr',\n",
              " 'Mr',\n",
              " 'Rev',\n",
              " 'Miss',\n",
              " 'Mr',\n",
              " 'Mr',\n",
              " 'Mr',\n",
              " 'Mr',\n",
              " 'Dr',\n",
              " 'Mr',\n",
              " 'Miss',\n",
              " 'Miss',\n",
              " 'Mr',\n",
              " 'Mr',\n",
              " 'Mrs',\n",
              " 'Mr',\n",
              " 'Mr',\n",
              " 'Mlle',\n",
              " 'Miss',\n",
              " 'Mr',\n",
              " 'Miss',\n",
              " 'Mr',\n",
              " 'Mr',\n",
              " 'Col',\n",
              " 'Mr',\n",
              " 'Miss',\n",
              " 'Mr',\n",
              " 'Miss',\n",
              " 'Mr',\n",
              " 'Miss',\n",
              " 'Miss',\n",
              " 'Mr',\n",
              " 'Mr',\n",
              " 'Mrs',\n",
              " 'Mr',\n",
              " 'Mr',\n",
              " 'Dr',\n",
              " 'Mr',\n",
              " 'Mr',\n",
              " 'Mr',\n",
              " 'Mr',\n",
              " 'Mr',\n",
              " 'Mr',\n",
              " 'Mr',\n",
              " 'Mr',\n",
              " 'Mrs',\n",
              " 'Mrs',\n",
              " 'Mr',\n",
              " 'Mr',\n",
              " 'Mr',\n",
              " 'Mr',\n",
              " 'Mr',\n",
              " 'Mr',\n",
              " 'Miss',\n",
              " 'Mrs',\n",
              " 'Mr',\n",
              " 'Miss',\n",
              " 'Mr',\n",
              " 'Mr',\n",
              " 'Mr',\n",
              " 'Mr',\n",
              " 'Mr',\n",
              " 'Mr',\n",
              " 'Mr',\n",
              " 'Mr',\n",
              " 'Miss',\n",
              " 'Mr',\n",
              " 'Miss',\n",
              " 'Mr',\n",
              " 'Mr',\n",
              " 'Col',\n",
              " 'Mr',\n",
              " 'Mr',\n",
              " 'Miss',\n",
              " 'Mr',\n",
              " 'Mr',\n",
              " 'Mrs',\n",
              " 'Mr',\n",
              " 'Miss',\n",
              " 'Mr',\n",
              " 'Mr',\n",
              " 'Mr',\n",
              " 'Mrs',\n",
              " 'Mr',\n",
              " 'Miss',\n",
              " 'Master',\n",
              " 'Mlle',\n",
              " 'Mr',\n",
              " 'Mr',\n",
              " 'Mr',\n",
              " 'Mr',\n",
              " 'Mr',\n",
              " 'Miss',\n",
              " 'Miss',\n",
              " 'Mr',\n",
              " 'Mr',\n",
              " 'Miss',\n",
              " 'Mr',\n",
              " 'Mr',\n",
              " 'Mr',\n",
              " 'Mr',\n",
              " 'Mr',\n",
              " 'Mrs',\n",
              " 'Miss',\n",
              " 'Mr',\n",
              " 'Miss',\n",
              " 'Miss',\n",
              " 'Mr',\n",
              " 'Mr',\n",
              " 'Mr',\n",
              " 'Mr',\n",
              " 'Mr',\n",
              " 'Mrs',\n",
              " 'Mr',\n",
              " 'Mr',\n",
              " 'Mr',\n",
              " 'Mr',\n",
              " 'Mr',\n",
              " 'Miss',\n",
              " 'Mr',\n",
              " 'Mr',\n",
              " 'Capt',\n",
              " 'Mr',\n",
              " 'Miss',\n",
              " 'Mr',\n",
              " 'Mr',\n",
              " 'Miss',\n",
              " 'Master',\n",
              " 'Mr',\n",
              " 'Mr',\n",
              " 'Mrs',\n",
              " 'Master',\n",
              " 'Mr',\n",
              " 'Mr',\n",
              " 'Mr',\n",
              " 'Countess',\n",
              " 'Mr',\n",
              " 'Mr',\n",
              " 'Mr',\n",
              " 'Mrs',\n",
              " 'Mr',\n",
              " 'Mrs',\n",
              " 'Dr',\n",
              " 'Miss',\n",
              " 'Mr',\n",
              " 'Mr',\n",
              " 'Mr',\n",
              " 'Mr',\n",
              " 'Mrs',\n",
              " 'Mr',\n",
              " 'Mrs',\n",
              " 'Mr',\n",
              " 'Mr',\n",
              " 'Miss',\n",
              " 'Mr',\n",
              " 'Mrs',\n",
              " 'Miss',\n",
              " 'Mrs',\n",
              " 'Mr',\n",
              " 'Mr',\n",
              " 'Mr',\n",
              " 'Mr',\n",
              " 'Miss',\n",
              " 'Master',\n",
              " 'Master',\n",
              " 'Mr',\n",
              " 'Mr',\n",
              " 'Mr',\n",
              " 'Miss',\n",
              " 'Mr',\n",
              " 'Mr',\n",
              " 'Mr',\n",
              " 'Dr',\n",
              " 'Mrs',\n",
              " 'Mr',\n",
              " 'Mrs',\n",
              " 'Mr',\n",
              " 'Mrs',\n",
              " 'Master',\n",
              " 'Master',\n",
              " 'Mr',\n",
              " 'Mr',\n",
              " 'Mr',\n",
              " 'Miss',\n",
              " 'Mr',\n",
              " 'Mrs',\n",
              " 'Mr',\n",
              " 'Mr',\n",
              " 'Mr',\n",
              " 'Miss',\n",
              " 'Mr',\n",
              " 'Mr',\n",
              " 'Miss',\n",
              " 'Mr',\n",
              " 'Mr',\n",
              " 'Master',\n",
              " 'Mrs',\n",
              " 'Mr',\n",
              " 'Jonkheer',\n",
              " 'Mrs',\n",
              " 'Master',\n",
              " 'Mr',\n",
              " 'Mr',\n",
              " 'Master',\n",
              " 'Mr',\n",
              " 'Mrs',\n",
              " 'Mrs',\n",
              " 'Master',\n",
              " 'Mr',\n",
              " 'Mr',\n",
              " 'Mr',\n",
              " 'Miss',\n",
              " 'Mr',\n",
              " 'Mr',\n",
              " 'Mr',\n",
              " 'Mr',\n",
              " 'Mr',\n",
              " 'Mr',\n",
              " 'Miss',\n",
              " 'Mr',\n",
              " 'Mr',\n",
              " 'Mr',\n",
              " 'Mr',\n",
              " 'Mr',\n",
              " 'Rev',\n",
              " 'Mrs',\n",
              " 'Master',\n",
              " 'Mr',\n",
              " 'Miss',\n",
              " 'Miss',\n",
              " 'Mrs',\n",
              " 'Mrs',\n",
              " 'Mrs',\n",
              " 'Mr',\n",
              " 'Mrs',\n",
              " 'Mr',\n",
              " 'Mr',\n",
              " 'Mr',\n",
              " 'Mrs',\n",
              " 'Miss',\n",
              " 'Mr',\n",
              " 'Mrs',\n",
              " 'Miss',\n",
              " 'Mr',\n",
              " 'Mr',\n",
              " 'Master',\n",
              " 'Mr',\n",
              " 'Mrs',\n",
              " 'Mr',\n",
              " 'Mr',\n",
              " 'Mrs',\n",
              " 'Miss',\n",
              " 'Mr',\n",
              " 'Mr',\n",
              " 'Mr',\n",
              " 'Mrs',\n",
              " 'Mrs',\n",
              " 'Mr',\n",
              " 'Miss',\n",
              " 'Mr',\n",
              " 'Mr',\n",
              " 'Mrs',\n",
              " 'Rev',\n",
              " 'Miss',\n",
              " 'Miss',\n",
              " 'Mr',\n",
              " 'Mr']"
            ]
          },
          "metadata": {
            "tags": []
          },
          "execution_count": 28
        }
      ]
    },
    {
      "cell_type": "code",
      "metadata": {
        "colab": {
          "base_uri": "https://localhost:8080/"
        },
        "id": "D-5MkEt3FEOp",
        "outputId": "1e2ab5ad-a46d-48de-e81b-bf4ba9bd4a78"
      },
      "source": [
        "# test_df\r\n",
        "Name2 = []\r\n",
        "\r\n",
        "for i in test_df['Name']:\r\n",
        "  for h in i.split(' '):\r\n",
        "    if '.' in h:\r\n",
        "      Name2.append(h[:-1])\r\n",
        "\r\n",
        "Name2"
      ],
      "execution_count": 29,
      "outputs": [
        {
          "output_type": "execute_result",
          "data": {
            "text/plain": [
              "['Mr',\n",
              " 'Mrs',\n",
              " 'Mr',\n",
              " 'Mr',\n",
              " 'Mrs',\n",
              " 'Mr',\n",
              " 'Miss',\n",
              " 'Mr',\n",
              " 'Mrs',\n",
              " 'Mr',\n",
              " 'Mr',\n",
              " 'Mr',\n",
              " 'Mrs',\n",
              " 'Mr',\n",
              " 'Mrs',\n",
              " 'Mrs',\n",
              " 'Mr',\n",
              " 'Mr',\n",
              " 'Miss',\n",
              " 'Mrs',\n",
              " 'Mr',\n",
              " 'Master',\n",
              " 'Mrs',\n",
              " 'Mr',\n",
              " 'Mrs',\n",
              " 'Mr',\n",
              " 'Miss',\n",
              " 'Mr',\n",
              " 'Mr',\n",
              " 'Mr',\n",
              " 'Mr',\n",
              " 'Mr',\n",
              " 'Mrs',\n",
              " 'Mrs',\n",
              " 'Mr',\n",
              " 'Mr',\n",
              " 'Miss',\n",
              " 'Miss',\n",
              " 'Mr',\n",
              " 'Mr',\n",
              " 'Mr',\n",
              " 'Mr',\n",
              " 'Mr',\n",
              " 'Mrs',\n",
              " 'Mrs',\n",
              " 'Mr',\n",
              " 'Mr',\n",
              " 'Mr',\n",
              " 'Mrs',\n",
              " 'Mrs',\n",
              " 'Mr',\n",
              " 'Mr',\n",
              " 'Miss',\n",
              " 'Miss',\n",
              " 'Mr',\n",
              " 'Master',\n",
              " 'Mr',\n",
              " 'Mr',\n",
              " 'Mr',\n",
              " 'Miss',\n",
              " 'Mr',\n",
              " 'Mr',\n",
              " 'Mr',\n",
              " 'Miss',\n",
              " 'Master',\n",
              " 'Mrs',\n",
              " 'Miss',\n",
              " 'Mr',\n",
              " 'Mr',\n",
              " 'Mrs',\n",
              " 'Miss',\n",
              " 'Mr',\n",
              " 'Miss',\n",
              " 'Mr',\n",
              " 'Miss',\n",
              " 'Mr',\n",
              " 'Mr',\n",
              " 'Mrs',\n",
              " 'Mr',\n",
              " 'Miss',\n",
              " 'Master',\n",
              " 'Mr',\n",
              " 'Mr',\n",
              " 'Mr',\n",
              " 'Mr',\n",
              " 'Mr',\n",
              " 'Miss',\n",
              " 'Miss',\n",
              " 'Ms',\n",
              " 'Master',\n",
              " 'Mrs',\n",
              " 'Mr',\n",
              " 'Mrs',\n",
              " 'Mr',\n",
              " 'Mr',\n",
              " 'Mr',\n",
              " 'Mrs',\n",
              " 'Mr',\n",
              " 'Miss',\n",
              " 'Mr',\n",
              " 'Mrs',\n",
              " 'Mr',\n",
              " 'Mr',\n",
              " 'Mr',\n",
              " 'Mrs',\n",
              " 'Mr',\n",
              " 'Mr',\n",
              " 'Mr',\n",
              " 'Mr',\n",
              " 'Mr',\n",
              " 'Mr',\n",
              " 'Miss',\n",
              " 'Miss',\n",
              " 'Miss',\n",
              " 'Mrs',\n",
              " 'Mr',\n",
              " 'Mr',\n",
              " 'Miss',\n",
              " 'Mr',\n",
              " 'Mrs',\n",
              " 'Miss',\n",
              " 'Mr',\n",
              " 'Mrs',\n",
              " 'Mr',\n",
              " 'Mr',\n",
              " 'Miss',\n",
              " 'Mr',\n",
              " 'Miss',\n",
              " 'Mr',\n",
              " 'Mr',\n",
              " 'Mr',\n",
              " 'Col',\n",
              " 'Mrs',\n",
              " 'Mr',\n",
              " 'Mr',\n",
              " 'Mr',\n",
              " 'Mr',\n",
              " 'Mr',\n",
              " 'Miss',\n",
              " 'Mr',\n",
              " 'Miss',\n",
              " 'Miss',\n",
              " 'Mr',\n",
              " 'Mr',\n",
              " 'Mr',\n",
              " 'Mr',\n",
              " 'Mr',\n",
              " 'Mr',\n",
              " 'Mr',\n",
              " 'Rev',\n",
              " 'Mrs',\n",
              " 'Mr',\n",
              " 'Mr',\n",
              " 'Mrs',\n",
              " 'Master',\n",
              " 'Mr',\n",
              " 'Miss',\n",
              " 'Miss',\n",
              " 'Mr',\n",
              " 'Mrs',\n",
              " 'Miss',\n",
              " 'Master',\n",
              " 'Miss',\n",
              " 'Mr',\n",
              " 'Rev',\n",
              " 'Mrs',\n",
              " 'Mr',\n",
              " 'Mr',\n",
              " 'Mrs',\n",
              " 'Miss',\n",
              " 'Mr',\n",
              " 'Mr',\n",
              " 'Mr',\n",
              " 'Mr',\n",
              " 'Mr',\n",
              " 'Miss',\n",
              " 'Miss',\n",
              " 'Mr',\n",
              " 'Mrs',\n",
              " 'Mrs',\n",
              " 'Mr',\n",
              " 'Mr',\n",
              " 'Mrs',\n",
              " 'Mr',\n",
              " 'Mrs',\n",
              " 'Mr',\n",
              " 'Miss',\n",
              " 'Mr',\n",
              " 'Miss',\n",
              " 'Mr',\n",
              " 'Mr',\n",
              " 'Mr',\n",
              " 'Master',\n",
              " 'Mr',\n",
              " 'Master',\n",
              " 'Mr',\n",
              " 'Master',\n",
              " 'Miss',\n",
              " 'Mr',\n",
              " 'Mrs',\n",
              " 'Miss',\n",
              " 'Master',\n",
              " 'Col',\n",
              " 'Miss',\n",
              " 'Mr',\n",
              " 'Mr',\n",
              " 'Miss',\n",
              " 'Mr',\n",
              " 'Miss',\n",
              " 'Mr',\n",
              " 'Mr',\n",
              " 'Mr',\n",
              " 'Mr',\n",
              " 'Mrs',\n",
              " 'Miss',\n",
              " 'Mr',\n",
              " 'Miss',\n",
              " 'Mr',\n",
              " 'Mrs',\n",
              " 'Mr',\n",
              " 'Miss',\n",
              " 'Mr',\n",
              " 'Mrs',\n",
              " 'Mr',\n",
              " 'Mrs',\n",
              " 'Mrs',\n",
              " 'Mr',\n",
              " 'Miss',\n",
              " 'Mr',\n",
              " 'Mr',\n",
              " 'Mr',\n",
              " 'Miss',\n",
              " 'Mr',\n",
              " 'Mr',\n",
              " 'Mr',\n",
              " 'Mr',\n",
              " 'Mr',\n",
              " 'Mr',\n",
              " 'Miss',\n",
              " 'Mrs',\n",
              " 'Mrs',\n",
              " 'Mrs',\n",
              " 'Mr',\n",
              " 'Mr',\n",
              " 'Master',\n",
              " 'Mr',\n",
              " 'Mrs',\n",
              " 'Mr',\n",
              " 'Mrs',\n",
              " 'Mrs',\n",
              " 'Miss',\n",
              " 'Mr',\n",
              " 'Mr',\n",
              " 'Mr',\n",
              " 'Mr',\n",
              " 'Mr',\n",
              " 'Mr',\n",
              " 'Mr',\n",
              " 'Miss',\n",
              " 'Mr',\n",
              " 'Mr',\n",
              " 'Mr',\n",
              " 'Mrs',\n",
              " 'Miss',\n",
              " 'Mr',\n",
              " 'Mr',\n",
              " 'Mr',\n",
              " 'Mr',\n",
              " 'Miss',\n",
              " 'Mr',\n",
              " 'Mr',\n",
              " 'Mr',\n",
              " 'Mrs',\n",
              " 'Miss',\n",
              " 'Mr',\n",
              " 'Miss',\n",
              " 'Mr',\n",
              " 'Mr',\n",
              " 'Mr',\n",
              " 'Mr',\n",
              " 'Miss',\n",
              " 'Master',\n",
              " 'Miss',\n",
              " 'Miss',\n",
              " 'Miss',\n",
              " 'Mr',\n",
              " 'Mr',\n",
              " 'Mr',\n",
              " 'Mr',\n",
              " 'Mr',\n",
              " 'Mr',\n",
              " 'Miss',\n",
              " 'Mr',\n",
              " 'Dr',\n",
              " 'Mr',\n",
              " 'Mr',\n",
              " 'Miss',\n",
              " 'Mr',\n",
              " 'Mr',\n",
              " 'Mr',\n",
              " 'Mr',\n",
              " 'Mr',\n",
              " 'Mr',\n",
              " 'Mr',\n",
              " 'Miss',\n",
              " 'Mrs',\n",
              " 'Mr',\n",
              " 'Master',\n",
              " 'Mr',\n",
              " 'Mrs',\n",
              " 'Mr',\n",
              " 'Mr',\n",
              " 'Mr',\n",
              " 'Miss',\n",
              " 'Mrs',\n",
              " 'Miss',\n",
              " 'Mr',\n",
              " 'Mr',\n",
              " 'Mr',\n",
              " 'Mr',\n",
              " 'Mr',\n",
              " 'Mr',\n",
              " 'Mr',\n",
              " 'Mr',\n",
              " 'Miss',\n",
              " 'Mr',\n",
              " 'Miss',\n",
              " 'Mr',\n",
              " 'Mr',\n",
              " 'Mr',\n",
              " 'Mrs',\n",
              " 'Mr',\n",
              " 'Mr',\n",
              " 'Mrs',\n",
              " 'Mr',\n",
              " 'Mr',\n",
              " 'Mr',\n",
              " 'Mr',\n",
              " 'Mr',\n",
              " 'Master',\n",
              " 'Mr',\n",
              " 'Mr',\n",
              " 'Mr',\n",
              " 'Mrs',\n",
              " 'Master',\n",
              " 'Miss',\n",
              " 'Mr',\n",
              " 'Mrs',\n",
              " 'Mr',\n",
              " 'Miss',\n",
              " 'Mrs',\n",
              " 'Mr',\n",
              " 'Mr',\n",
              " 'Mr',\n",
              " 'Miss',\n",
              " 'Mr',\n",
              " 'Mrs',\n",
              " 'Mr',\n",
              " 'Mr',\n",
              " 'Mrs',\n",
              " 'Master',\n",
              " 'Mrs',\n",
              " 'Mrs',\n",
              " 'Mr',\n",
              " 'Mrs',\n",
              " 'Mrs',\n",
              " 'Mr',\n",
              " 'Miss',\n",
              " 'Mrs',\n",
              " 'Mr',\n",
              " 'Mr',\n",
              " 'Miss',\n",
              " 'Mr',\n",
              " 'Mr',\n",
              " 'Mrs',\n",
              " 'Miss',\n",
              " 'Miss',\n",
              " 'Mr',\n",
              " 'Mr',\n",
              " 'Master',\n",
              " 'Mr',\n",
              " 'Mr',\n",
              " 'Mrs',\n",
              " 'Mrs',\n",
              " 'Mr',\n",
              " 'Miss',\n",
              " 'Mr',\n",
              " 'Mr',\n",
              " 'Mr',\n",
              " 'Master',\n",
              " 'Mr',\n",
              " 'Mrs',\n",
              " 'Master',\n",
              " 'Mr',\n",
              " 'Mr',\n",
              " 'Mrs',\n",
              " 'Mr',\n",
              " 'Mrs',\n",
              " 'Mr',\n",
              " 'Mr',\n",
              " 'Miss',\n",
              " 'Mr',\n",
              " 'Miss',\n",
              " 'Mr',\n",
              " 'Mr',\n",
              " 'Mr',\n",
              " 'Mr',\n",
              " 'Mr',\n",
              " 'Miss',\n",
              " 'Miss',\n",
              " 'Miss',\n",
              " 'Mrs',\n",
              " 'Miss',\n",
              " 'Mr',\n",
              " 'Dona',\n",
              " 'Mr',\n",
              " 'Mr',\n",
              " 'Master']"
            ]
          },
          "metadata": {
            "tags": []
          },
          "execution_count": 29
        }
      ]
    },
    {
      "cell_type": "code",
      "metadata": {
        "colab": {
          "base_uri": "https://localhost:8080/"
        },
        "id": "CiR4SnevJark",
        "outputId": "f1cf342b-39cc-45ff-ff9c-983f49bba659"
      },
      "source": [
        "# train_df\r\n",
        "train_df['Name'] = pd.Series(Name)\r\n",
        "train_df['Name']\r\n",
        "\r\n",
        "# test_df\r\n",
        "test_df['Name'] = pd.Series(Name2)\r\n",
        "test_df['Name'] "
      ],
      "execution_count": 30,
      "outputs": [
        {
          "output_type": "execute_result",
          "data": {
            "text/plain": [
              "0          Mr\n",
              "1         Mrs\n",
              "2          Mr\n",
              "3          Mr\n",
              "4         Mrs\n",
              "        ...  \n",
              "413        Mr\n",
              "414      Dona\n",
              "415        Mr\n",
              "416        Mr\n",
              "417    Master\n",
              "Name: Name, Length: 418, dtype: object"
            ]
          },
          "metadata": {
            "tags": []
          },
          "execution_count": 30
        }
      ]
    },
    {
      "cell_type": "code",
      "metadata": {
        "colab": {
          "base_uri": "https://localhost:8080/"
        },
        "id": "UCFvxcHxKD0U",
        "outputId": "3064eb4a-384a-4e44-ed0c-41dc33003ed3"
      },
      "source": [
        "train_df['Name'].unique()"
      ],
      "execution_count": 31,
      "outputs": [
        {
          "output_type": "execute_result",
          "data": {
            "text/plain": [
              "array(['Mr', 'Mrs', 'Miss', 'Master', 'Don', 'Rev', 'Dr', 'Mme', 'Ms',\n",
              "       'Major', 'L', 'Lady', 'Sir', 'Mlle', 'Col', 'Capt', 'Countess',\n",
              "       'Jonkheer'], dtype=object)"
            ]
          },
          "metadata": {
            "tags": []
          },
          "execution_count": 31
        }
      ]
    },
    {
      "cell_type": "code",
      "metadata": {
        "colab": {
          "base_uri": "https://localhost:8080/",
          "height": 0
        },
        "id": "MiGQoC48KiWb",
        "outputId": "59cfd2e9-b97d-4a51-cb3b-92db4f3a27af"
      },
      "source": [
        "plt.figure(figsize = (12, 6))\r\n",
        "sns.countplot(x = 'Name',data = train_df)"
      ],
      "execution_count": 32,
      "outputs": [
        {
          "output_type": "execute_result",
          "data": {
            "text/plain": [
              "<matplotlib.axes._subplots.AxesSubplot at 0x7ff2432e9410>"
            ]
          },
          "metadata": {
            "tags": []
          },
          "execution_count": 32
        },
        {
          "output_type": "display_data",
          "data": {
            "image/png": "[encoded data removed]",
            "text/plain": [
              "<Figure size 864x432 with 1 Axes>"
            ]
          },
          "metadata": {
            "tags": [],
            "needs_background": "light"
          }
        }
      ]
    },
    {
      "cell_type": "code",
      "metadata": {
        "colab": {
          "base_uri": "https://localhost:8080/",
          "height": 0
        },
        "id": "FH_8DKhLRate",
        "outputId": "b8434f41-145b-4966-cb6a-dbd0d3b9d528"
      },
      "source": [
        "plt.figure(figsize = (12, 6))\r\n",
        "sns.countplot(x = 'Name',data = test_df)"
      ],
      "execution_count": 33,
      "outputs": [
        {
          "output_type": "execute_result",
          "data": {
            "text/plain": [
              "<matplotlib.axes._subplots.AxesSubplot at 0x7ff23873c590>"
            ]
          },
          "metadata": {
            "tags": []
          },
          "execution_count": 33
        },
        {
          "output_type": "display_data",
          "data": {
            "image/png": "[encoded data removed]",
            "text/plain": [
              "<Figure size 864x432 with 1 Axes>"
            ]
          },
          "metadata": {
            "tags": [],
            "needs_background": "light"
          }
        }
      ]
    },
    {
      "cell_type": "markdown",
      "metadata": {
        "id": "wzyvHUBhMU_k"
      },
      "source": [
        "Mr, Mrs, Miss, Master 를 제외한 다른 이름들은 극히 적은 인원수 를 가지고 있으므로 Others로 통일한다."
      ]
    },
    {
      "cell_type": "code",
      "metadata": {
        "colab": {
          "base_uri": "https://localhost:8080/",
          "height": 0
        },
        "id": "3GLPZVgwMf-k",
        "outputId": "50173331-0674-4313-9122-4bab02648ddd"
      },
      "source": [
        "for all_data in combine:\r\n",
        "  all_data['Name'] =all_data['Name'].replace (['Don', 'Rev', 'Dr', 'Mme', 'Ms',\r\n",
        "       'Major', 'L', 'Lady', 'Sir', 'Mlle', 'Col', 'Capt', 'Countess',\r\n",
        "       'Jonkheer','Dona'],'Others') # test셋에만 Dona라는 이름이 있으므로 주의\r\n",
        "\r\n",
        "test_df"
      ],
      "execution_count": 34,
      "outputs": [
        {
          "output_type": "execute_result",
          "data": {
            "text/html": [
              "<div>\n",
              "<style scoped>\n",
              "    .dataframe tbody tr th:only-of-type {\n",
              "        vertical-align: middle;\n",
              "    }\n",
              "\n",
              "    .dataframe tbody tr th {\n",
              "        vertical-align: top;\n",
              "    }\n",
              "\n",
              "    .dataframe thead th {\n",
              "        text-align: right;\n",
              "    }\n",
              "</style>\n",
              "<table border=\"1\" class=\"dataframe\">\n",
              "  <thead>\n",
              "    <tr style=\"text-align: right;\">\n",
              "      <th></th>\n",
              "      <th>PassengerId</th>\n",
              "      <th>Pclass</th>\n",
              "      <th>Name</th>\n",
              "      <th>Sex</th>\n",
              "      <th>Age</th>\n",
              "      <th>SibSp</th>\n",
              "      <th>Parch</th>\n",
              "      <th>Ticket</th>\n",
              "      <th>Fare</th>\n",
              "      <th>Cabin</th>\n",
              "      <th>Embarked</th>\n",
              "    </tr>\n",
              "  </thead>\n",
              "  <tbody>\n",
              "    <tr>\n",
              "      <th>0</th>\n",
              "      <td>892</td>\n",
              "      <td>3</td>\n",
              "      <td>Mr</td>\n",
              "      <td>male</td>\n",
              "      <td>34.5</td>\n",
              "      <td>0</td>\n",
              "      <td>0</td>\n",
              "      <td>330911</td>\n",
              "      <td>7.8292</td>\n",
              "      <td>NaN</td>\n",
              "      <td>Q</td>\n",
              "    </tr>\n",
              "    <tr>\n",
              "      <th>1</th>\n",
              "      <td>893</td>\n",
              "      <td>3</td>\n",
              "      <td>Mrs</td>\n",
              "      <td>female</td>\n",
              "      <td>47.0</td>\n",
              "      <td>1</td>\n",
              "      <td>0</td>\n",
              "      <td>363272</td>\n",
              "      <td>7.0000</td>\n",
              "      <td>NaN</td>\n",
              "      <td>S</td>\n",
              "    </tr>\n",
              "    <tr>\n",
              "      <th>2</th>\n",
              "      <td>894</td>\n",
              "      <td>2</td>\n",
              "      <td>Mr</td>\n",
              "      <td>male</td>\n",
              "      <td>62.0</td>\n",
              "      <td>0</td>\n",
              "      <td>0</td>\n",
              "      <td>240276</td>\n",
              "      <td>9.6875</td>\n",
              "      <td>NaN</td>\n",
              "      <td>Q</td>\n",
              "    </tr>\n",
              "    <tr>\n",
              "      <th>3</th>\n",
              "      <td>895</td>\n",
              "      <td>3</td>\n",
              "      <td>Mr</td>\n",
              "      <td>male</td>\n",
              "      <td>27.0</td>\n",
              "      <td>0</td>\n",
              "      <td>0</td>\n",
              "      <td>315154</td>\n",
              "      <td>8.6625</td>\n",
              "      <td>NaN</td>\n",
              "      <td>S</td>\n",
              "    </tr>\n",
              "    <tr>\n",
              "      <th>4</th>\n",
              "      <td>896</td>\n",
              "      <td>3</td>\n",
              "      <td>Mrs</td>\n",
              "      <td>female</td>\n",
              "      <td>22.0</td>\n",
              "      <td>1</td>\n",
              "      <td>1</td>\n",
              "      <td>3101298</td>\n",
              "      <td>12.2875</td>\n",
              "      <td>NaN</td>\n",
              "      <td>S</td>\n",
              "    </tr>\n",
              "    <tr>\n",
              "      <th>...</th>\n",
              "      <td>...</td>\n",
              "      <td>...</td>\n",
              "      <td>...</td>\n",
              "      <td>...</td>\n",
              "      <td>...</td>\n",
              "      <td>...</td>\n",
              "      <td>...</td>\n",
              "      <td>...</td>\n",
              "      <td>...</td>\n",
              "      <td>...</td>\n",
              "      <td>...</td>\n",
              "    </tr>\n",
              "    <tr>\n",
              "      <th>413</th>\n",
              "      <td>1305</td>\n",
              "      <td>3</td>\n",
              "      <td>Mr</td>\n",
              "      <td>male</td>\n",
              "      <td>NaN</td>\n",
              "      <td>0</td>\n",
              "      <td>0</td>\n",
              "      <td>A.5. 3236</td>\n",
              "      <td>8.0500</td>\n",
              "      <td>NaN</td>\n",
              "      <td>S</td>\n",
              "    </tr>\n",
              "    <tr>\n",
              "      <th>414</th>\n",
              "      <td>1306</td>\n",
              "      <td>1</td>\n",
              "      <td>Others</td>\n",
              "      <td>female</td>\n",
              "      <td>39.0</td>\n",
              "      <td>0</td>\n",
              "      <td>0</td>\n",
              "      <td>PC 17758</td>\n",
              "      <td>108.9000</td>\n",
              "      <td>C105</td>\n",
              "      <td>C</td>\n",
              "    </tr>\n",
              "    <tr>\n",
              "      <th>415</th>\n",
              "      <td>1307</td>\n",
              "      <td>3</td>\n",
              "      <td>Mr</td>\n",
              "      <td>male</td>\n",
              "      <td>38.5</td>\n",
              "      <td>0</td>\n",
              "      <td>0</td>\n",
              "      <td>SOTON/O.Q. 3101262</td>\n",
              "      <td>7.2500</td>\n",
              "      <td>NaN</td>\n",
              "      <td>S</td>\n",
              "    </tr>\n",
              "    <tr>\n",
              "      <th>416</th>\n",
              "      <td>1308</td>\n",
              "      <td>3</td>\n",
              "      <td>Mr</td>\n",
              "      <td>male</td>\n",
              "      <td>NaN</td>\n",
              "      <td>0</td>\n",
              "      <td>0</td>\n",
              "      <td>359309</td>\n",
              "      <td>8.0500</td>\n",
              "      <td>NaN</td>\n",
              "      <td>S</td>\n",
              "    </tr>\n",
              "    <tr>\n",
              "      <th>417</th>\n",
              "      <td>1309</td>\n",
              "      <td>3</td>\n",
              "      <td>Master</td>\n",
              "      <td>male</td>\n",
              "      <td>NaN</td>\n",
              "      <td>1</td>\n",
              "      <td>1</td>\n",
              "      <td>2668</td>\n",
              "      <td>22.3583</td>\n",
              "      <td>NaN</td>\n",
              "      <td>C</td>\n",
              "    </tr>\n",
              "  </tbody>\n",
              "</table>\n",
              "<p>418 rows × 11 columns</p>\n",
              "</div>"
            ],
            "text/plain": [
              "     PassengerId  Pclass    Name  ...      Fare  Cabin  Embarked\n",
              "0            892       3      Mr  ...    7.8292    NaN         Q\n",
              "1            893       3     Mrs  ...    7.0000    NaN         S\n",
              "2            894       2      Mr  ...    9.6875    NaN         Q\n",
              "3            895       3      Mr  ...    8.6625    NaN         S\n",
              "4            896       3     Mrs  ...   12.2875    NaN         S\n",
              "..           ...     ...     ...  ...       ...    ...       ...\n",
              "413         1305       3      Mr  ...    8.0500    NaN         S\n",
              "414         1306       1  Others  ...  108.9000   C105         C\n",
              "415         1307       3      Mr  ...    7.2500    NaN         S\n",
              "416         1308       3      Mr  ...    8.0500    NaN         S\n",
              "417         1309       3  Master  ...   22.3583    NaN         C\n",
              "\n",
              "[418 rows x 11 columns]"
            ]
          },
          "metadata": {
            "tags": []
          },
          "execution_count": 34
        }
      ]
    },
    {
      "cell_type": "code",
      "metadata": {
        "colab": {
          "base_uri": "https://localhost:8080/"
        },
        "id": "32l53MWI5V5F",
        "outputId": "48dff05f-d351-416d-efcf-81a825a879c5"
      },
      "source": [
        "train_df['Name'].unique()"
      ],
      "execution_count": 35,
      "outputs": [
        {
          "output_type": "execute_result",
          "data": {
            "text/plain": [
              "array(['Mr', 'Mrs', 'Miss', 'Master', 'Others'], dtype=object)"
            ]
          },
          "metadata": {
            "tags": []
          },
          "execution_count": 35
        }
      ]
    },
    {
      "cell_type": "code",
      "metadata": {
        "colab": {
          "base_uri": "https://localhost:8080/"
        },
        "id": "AYb3Y1R9SRmX",
        "outputId": "1aa6110a-9155-422a-b14b-29509a367d5f"
      },
      "source": [
        "test_df['Name'].unique()"
      ],
      "execution_count": 36,
      "outputs": [
        {
          "output_type": "execute_result",
          "data": {
            "text/plain": [
              "array(['Mr', 'Mrs', 'Miss', 'Master', 'Others'], dtype=object)"
            ]
          },
          "metadata": {
            "tags": []
          },
          "execution_count": 36
        }
      ]
    },
    {
      "cell_type": "code",
      "metadata": {
        "colab": {
          "base_uri": "https://localhost:8080/",
          "height": 0
        },
        "id": "UC5Q9t626Ki6",
        "outputId": "4148df5d-209f-41bb-8a78-67c80e4bb3c8"
      },
      "source": [
        "# 다수의 이름 순서대로 mapping\r\n",
        "\r\n",
        "name_mapping = {'Mr' : 0, 'Miss' : 1, 'Mrs' : 2, 'Master' : 3, 'Others' : 4}\r\n",
        "for all_data in combine:\r\n",
        "  all_data['Name'] = all_data['Name'].map(name_mapping).astype(int)\r\n",
        "\r\n",
        "# train_df\r\n",
        "test_df\r\n"
      ],
      "execution_count": 37,
      "outputs": [
        {
          "output_type": "execute_result",
          "data": {
            "text/html": [
              "<div>\n",
              "<style scoped>\n",
              "    .dataframe tbody tr th:only-of-type {\n",
              "        vertical-align: middle;\n",
              "    }\n",
              "\n",
              "    .dataframe tbody tr th {\n",
              "        vertical-align: top;\n",
              "    }\n",
              "\n",
              "    .dataframe thead th {\n",
              "        text-align: right;\n",
              "    }\n",
              "</style>\n",
              "<table border=\"1\" class=\"dataframe\">\n",
              "  <thead>\n",
              "    <tr style=\"text-align: right;\">\n",
              "      <th></th>\n",
              "      <th>PassengerId</th>\n",
              "      <th>Pclass</th>\n",
              "      <th>Name</th>\n",
              "      <th>Sex</th>\n",
              "      <th>Age</th>\n",
              "      <th>SibSp</th>\n",
              "      <th>Parch</th>\n",
              "      <th>Ticket</th>\n",
              "      <th>Fare</th>\n",
              "      <th>Cabin</th>\n",
              "      <th>Embarked</th>\n",
              "    </tr>\n",
              "  </thead>\n",
              "  <tbody>\n",
              "    <tr>\n",
              "      <th>0</th>\n",
              "      <td>892</td>\n",
              "      <td>3</td>\n",
              "      <td>0</td>\n",
              "      <td>male</td>\n",
              "      <td>34.5</td>\n",
              "      <td>0</td>\n",
              "      <td>0</td>\n",
              "      <td>330911</td>\n",
              "      <td>7.8292</td>\n",
              "      <td>NaN</td>\n",
              "      <td>Q</td>\n",
              "    </tr>\n",
              "    <tr>\n",
              "      <th>1</th>\n",
              "      <td>893</td>\n",
              "      <td>3</td>\n",
              "      <td>2</td>\n",
              "      <td>female</td>\n",
              "      <td>47.0</td>\n",
              "      <td>1</td>\n",
              "      <td>0</td>\n",
              "      <td>363272</td>\n",
              "      <td>7.0000</td>\n",
              "      <td>NaN</td>\n",
              "      <td>S</td>\n",
              "    </tr>\n",
              "    <tr>\n",
              "      <th>2</th>\n",
              "      <td>894</td>\n",
              "      <td>2</td>\n",
              "      <td>0</td>\n",
              "      <td>male</td>\n",
              "      <td>62.0</td>\n",
              "      <td>0</td>\n",
              "      <td>0</td>\n",
              "      <td>240276</td>\n",
              "      <td>9.6875</td>\n",
              "      <td>NaN</td>\n",
              "      <td>Q</td>\n",
              "    </tr>\n",
              "    <tr>\n",
              "      <th>3</th>\n",
              "      <td>895</td>\n",
              "      <td>3</td>\n",
              "      <td>0</td>\n",
              "      <td>male</td>\n",
              "      <td>27.0</td>\n",
              "      <td>0</td>\n",
              "      <td>0</td>\n",
              "      <td>315154</td>\n",
              "      <td>8.6625</td>\n",
              "      <td>NaN</td>\n",
              "      <td>S</td>\n",
              "    </tr>\n",
              "    <tr>\n",
              "      <th>4</th>\n",
              "      <td>896</td>\n",
              "      <td>3</td>\n",
              "      <td>2</td>\n",
              "      <td>female</td>\n",
              "      <td>22.0</td>\n",
              "      <td>1</td>\n",
              "      <td>1</td>\n",
              "      <td>3101298</td>\n",
              "      <td>12.2875</td>\n",
              "      <td>NaN</td>\n",
              "      <td>S</td>\n",
              "    </tr>\n",
              "    <tr>\n",
              "      <th>...</th>\n",
              "      <td>...</td>\n",
              "      <td>...</td>\n",
              "      <td>...</td>\n",
              "      <td>...</td>\n",
              "      <td>...</td>\n",
              "      <td>...</td>\n",
              "      <td>...</td>\n",
              "      <td>...</td>\n",
              "      <td>...</td>\n",
              "      <td>...</td>\n",
              "      <td>...</td>\n",
              "    </tr>\n",
              "    <tr>\n",
              "      <th>413</th>\n",
              "      <td>1305</td>\n",
              "      <td>3</td>\n",
              "      <td>0</td>\n",
              "      <td>male</td>\n",
              "      <td>NaN</td>\n",
              "      <td>0</td>\n",
              "      <td>0</td>\n",
              "      <td>A.5. 3236</td>\n",
              "      <td>8.0500</td>\n",
              "      <td>NaN</td>\n",
              "      <td>S</td>\n",
              "    </tr>\n",
              "    <tr>\n",
              "      <th>414</th>\n",
              "      <td>1306</td>\n",
              "      <td>1</td>\n",
              "      <td>4</td>\n",
              "      <td>female</td>\n",
              "      <td>39.0</td>\n",
              "      <td>0</td>\n",
              "      <td>0</td>\n",
              "      <td>PC 17758</td>\n",
              "      <td>108.9000</td>\n",
              "      <td>C105</td>\n",
              "      <td>C</td>\n",
              "    </tr>\n",
              "    <tr>\n",
              "      <th>415</th>\n",
              "      <td>1307</td>\n",
              "      <td>3</td>\n",
              "      <td>0</td>\n",
              "      <td>male</td>\n",
              "      <td>38.5</td>\n",
              "      <td>0</td>\n",
              "      <td>0</td>\n",
              "      <td>SOTON/O.Q. 3101262</td>\n",
              "      <td>7.2500</td>\n",
              "      <td>NaN</td>\n",
              "      <td>S</td>\n",
              "    </tr>\n",
              "    <tr>\n",
              "      <th>416</th>\n",
              "      <td>1308</td>\n",
              "      <td>3</td>\n",
              "      <td>0</td>\n",
              "      <td>male</td>\n",
              "      <td>NaN</td>\n",
              "      <td>0</td>\n",
              "      <td>0</td>\n",
              "      <td>359309</td>\n",
              "      <td>8.0500</td>\n",
              "      <td>NaN</td>\n",
              "      <td>S</td>\n",
              "    </tr>\n",
              "    <tr>\n",
              "      <th>417</th>\n",
              "      <td>1309</td>\n",
              "      <td>3</td>\n",
              "      <td>3</td>\n",
              "      <td>male</td>\n",
              "      <td>NaN</td>\n",
              "      <td>1</td>\n",
              "      <td>1</td>\n",
              "      <td>2668</td>\n",
              "      <td>22.3583</td>\n",
              "      <td>NaN</td>\n",
              "      <td>C</td>\n",
              "    </tr>\n",
              "  </tbody>\n",
              "</table>\n",
              "<p>418 rows × 11 columns</p>\n",
              "</div>"
            ],
            "text/plain": [
              "     PassengerId  Pclass  Name  ...      Fare  Cabin  Embarked\n",
              "0            892       3     0  ...    7.8292    NaN         Q\n",
              "1            893       3     2  ...    7.0000    NaN         S\n",
              "2            894       2     0  ...    9.6875    NaN         Q\n",
              "3            895       3     0  ...    8.6625    NaN         S\n",
              "4            896       3     2  ...   12.2875    NaN         S\n",
              "..           ...     ...   ...  ...       ...    ...       ...\n",
              "413         1305       3     0  ...    8.0500    NaN         S\n",
              "414         1306       1     4  ...  108.9000   C105         C\n",
              "415         1307       3     0  ...    7.2500    NaN         S\n",
              "416         1308       3     0  ...    8.0500    NaN         S\n",
              "417         1309       3     3  ...   22.3583    NaN         C\n",
              "\n",
              "[418 rows x 11 columns]"
            ]
          },
          "metadata": {
            "tags": []
          },
          "execution_count": 37
        }
      ]
    },
    {
      "cell_type": "markdown",
      "metadata": {
        "id": "0cGdVgdZ5dLH"
      },
      "source": [
        "## Sex 컬럽 전처리"
      ]
    },
    {
      "cell_type": "markdown",
      "metadata": {
        "id": "RLPIOd6DEvUF"
      },
      "source": [
        "남성은 0으로 여성은 1로 변환한다."
      ]
    },
    {
      "cell_type": "code",
      "metadata": {
        "colab": {
          "base_uri": "https://localhost:8080/",
          "height": 0
        },
        "id": "v5tYKN025fd1",
        "outputId": "598a9c53-b2d9-461e-b425-4798be8ad4f5"
      },
      "source": [
        "sex_mapping = {'male' : 0, 'female' : 1}\r\n",
        "for all_data in combine:\r\n",
        "  all_data['Sex'] = all_data['Sex'].map(sex_mapping).astype(int)\r\n",
        "  \r\n",
        "#train_df  \r\n",
        "test_df\r\n",
        "\r\n"
      ],
      "execution_count": 38,
      "outputs": [
        {
          "output_type": "execute_result",
          "data": {
            "text/html": [
              "<div>\n",
              "<style scoped>\n",
              "    .dataframe tbody tr th:only-of-type {\n",
              "        vertical-align: middle;\n",
              "    }\n",
              "\n",
              "    .dataframe tbody tr th {\n",
              "        vertical-align: top;\n",
              "    }\n",
              "\n",
              "    .dataframe thead th {\n",
              "        text-align: right;\n",
              "    }\n",
              "</style>\n",
              "<table border=\"1\" class=\"dataframe\">\n",
              "  <thead>\n",
              "    <tr style=\"text-align: right;\">\n",
              "      <th></th>\n",
              "      <th>PassengerId</th>\n",
              "      <th>Pclass</th>\n",
              "      <th>Name</th>\n",
              "      <th>Sex</th>\n",
              "      <th>Age</th>\n",
              "      <th>SibSp</th>\n",
              "      <th>Parch</th>\n",
              "      <th>Ticket</th>\n",
              "      <th>Fare</th>\n",
              "      <th>Cabin</th>\n",
              "      <th>Embarked</th>\n",
              "    </tr>\n",
              "  </thead>\n",
              "  <tbody>\n",
              "    <tr>\n",
              "      <th>0</th>\n",
              "      <td>892</td>\n",
              "      <td>3</td>\n",
              "      <td>0</td>\n",
              "      <td>0</td>\n",
              "      <td>34.5</td>\n",
              "      <td>0</td>\n",
              "      <td>0</td>\n",
              "      <td>330911</td>\n",
              "      <td>7.8292</td>\n",
              "      <td>NaN</td>\n",
              "      <td>Q</td>\n",
              "    </tr>\n",
              "    <tr>\n",
              "      <th>1</th>\n",
              "      <td>893</td>\n",
              "      <td>3</td>\n",
              "      <td>2</td>\n",
              "      <td>1</td>\n",
              "      <td>47.0</td>\n",
              "      <td>1</td>\n",
              "      <td>0</td>\n",
              "      <td>363272</td>\n",
              "      <td>7.0000</td>\n",
              "      <td>NaN</td>\n",
              "      <td>S</td>\n",
              "    </tr>\n",
              "    <tr>\n",
              "      <th>2</th>\n",
              "      <td>894</td>\n",
              "      <td>2</td>\n",
              "      <td>0</td>\n",
              "      <td>0</td>\n",
              "      <td>62.0</td>\n",
              "      <td>0</td>\n",
              "      <td>0</td>\n",
              "      <td>240276</td>\n",
              "      <td>9.6875</td>\n",
              "      <td>NaN</td>\n",
              "      <td>Q</td>\n",
              "    </tr>\n",
              "    <tr>\n",
              "      <th>3</th>\n",
              "      <td>895</td>\n",
              "      <td>3</td>\n",
              "      <td>0</td>\n",
              "      <td>0</td>\n",
              "      <td>27.0</td>\n",
              "      <td>0</td>\n",
              "      <td>0</td>\n",
              "      <td>315154</td>\n",
              "      <td>8.6625</td>\n",
              "      <td>NaN</td>\n",
              "      <td>S</td>\n",
              "    </tr>\n",
              "    <tr>\n",
              "      <th>4</th>\n",
              "      <td>896</td>\n",
              "      <td>3</td>\n",
              "      <td>2</td>\n",
              "      <td>1</td>\n",
              "      <td>22.0</td>\n",
              "      <td>1</td>\n",
              "      <td>1</td>\n",
              "      <td>3101298</td>\n",
              "      <td>12.2875</td>\n",
              "      <td>NaN</td>\n",
              "      <td>S</td>\n",
              "    </tr>\n",
              "    <tr>\n",
              "      <th>...</th>\n",
              "      <td>...</td>\n",
              "      <td>...</td>\n",
              "      <td>...</td>\n",
              "      <td>...</td>\n",
              "      <td>...</td>\n",
              "      <td>...</td>\n",
              "      <td>...</td>\n",
              "      <td>...</td>\n",
              "      <td>...</td>\n",
              "      <td>...</td>\n",
              "      <td>...</td>\n",
              "    </tr>\n",
              "    <tr>\n",
              "      <th>413</th>\n",
              "      <td>1305</td>\n",
              "      <td>3</td>\n",
              "      <td>0</td>\n",
              "      <td>0</td>\n",
              "      <td>NaN</td>\n",
              "      <td>0</td>\n",
              "      <td>0</td>\n",
              "      <td>A.5. 3236</td>\n",
              "      <td>8.0500</td>\n",
              "      <td>NaN</td>\n",
              "      <td>S</td>\n",
              "    </tr>\n",
              "    <tr>\n",
              "      <th>414</th>\n",
              "      <td>1306</td>\n",
              "      <td>1</td>\n",
              "      <td>4</td>\n",
              "      <td>1</td>\n",
              "      <td>39.0</td>\n",
              "      <td>0</td>\n",
              "      <td>0</td>\n",
              "      <td>PC 17758</td>\n",
              "      <td>108.9000</td>\n",
              "      <td>C105</td>\n",
              "      <td>C</td>\n",
              "    </tr>\n",
              "    <tr>\n",
              "      <th>415</th>\n",
              "      <td>1307</td>\n",
              "      <td>3</td>\n",
              "      <td>0</td>\n",
              "      <td>0</td>\n",
              "      <td>38.5</td>\n",
              "      <td>0</td>\n",
              "      <td>0</td>\n",
              "      <td>SOTON/O.Q. 3101262</td>\n",
              "      <td>7.2500</td>\n",
              "      <td>NaN</td>\n",
              "      <td>S</td>\n",
              "    </tr>\n",
              "    <tr>\n",
              "      <th>416</th>\n",
              "      <td>1308</td>\n",
              "      <td>3</td>\n",
              "      <td>0</td>\n",
              "      <td>0</td>\n",
              "      <td>NaN</td>\n",
              "      <td>0</td>\n",
              "      <td>0</td>\n",
              "      <td>359309</td>\n",
              "      <td>8.0500</td>\n",
              "      <td>NaN</td>\n",
              "      <td>S</td>\n",
              "    </tr>\n",
              "    <tr>\n",
              "      <th>417</th>\n",
              "      <td>1309</td>\n",
              "      <td>3</td>\n",
              "      <td>3</td>\n",
              "      <td>0</td>\n",
              "      <td>NaN</td>\n",
              "      <td>1</td>\n",
              "      <td>1</td>\n",
              "      <td>2668</td>\n",
              "      <td>22.3583</td>\n",
              "      <td>NaN</td>\n",
              "      <td>C</td>\n",
              "    </tr>\n",
              "  </tbody>\n",
              "</table>\n",
              "<p>418 rows × 11 columns</p>\n",
              "</div>"
            ],
            "text/plain": [
              "     PassengerId  Pclass  Name  ...      Fare  Cabin  Embarked\n",
              "0            892       3     0  ...    7.8292    NaN         Q\n",
              "1            893       3     2  ...    7.0000    NaN         S\n",
              "2            894       2     0  ...    9.6875    NaN         Q\n",
              "3            895       3     0  ...    8.6625    NaN         S\n",
              "4            896       3     2  ...   12.2875    NaN         S\n",
              "..           ...     ...   ...  ...       ...    ...       ...\n",
              "413         1305       3     0  ...    8.0500    NaN         S\n",
              "414         1306       1     4  ...  108.9000   C105         C\n",
              "415         1307       3     0  ...    7.2500    NaN         S\n",
              "416         1308       3     0  ...    8.0500    NaN         S\n",
              "417         1309       3     3  ...   22.3583    NaN         C\n",
              "\n",
              "[418 rows x 11 columns]"
            ]
          },
          "metadata": {
            "tags": []
          },
          "execution_count": 38
        }
      ]
    },
    {
      "cell_type": "code",
      "metadata": {
        "colab": {
          "base_uri": "https://localhost:8080/"
        },
        "id": "qr1W2Jf1PvKq",
        "outputId": "3be04cc7-07b8-4c6f-c3b6-42f94d8d3bb7"
      },
      "source": [
        "train_df.info()"
      ],
      "execution_count": 39,
      "outputs": [
        {
          "output_type": "stream",
          "text": [
            "<class 'pandas.core.frame.DataFrame'>\n",
            "RangeIndex: 891 entries, 0 to 890\n",
            "Data columns (total 12 columns):\n",
            " #   Column       Non-Null Count  Dtype  \n",
            "---  ------       --------------  -----  \n",
            " 0   PassengerId  891 non-null    int64  \n",
            " 1   Survived     891 non-null    int64  \n",
            " 2   Pclass       891 non-null    int64  \n",
            " 3   Name         891 non-null    int64  \n",
            " 4   Sex          891 non-null    int64  \n",
            " 5   Age          714 non-null    float64\n",
            " 6   SibSp        891 non-null    int64  \n",
            " 7   Parch        891 non-null    int64  \n",
            " 8   Ticket       891 non-null    object \n",
            " 9   Fare         891 non-null    float64\n",
            " 10  Cabin        204 non-null    object \n",
            " 11  Embarked     889 non-null    object \n",
            "dtypes: float64(2), int64(7), object(3)\n",
            "memory usage: 83.7+ KB\n"
          ],
          "name": "stdout"
        }
      ]
    },
    {
      "cell_type": "code",
      "metadata": {
        "colab": {
          "base_uri": "https://localhost:8080/"
        },
        "id": "LkfeImmXPxMa",
        "outputId": "b6689f8a-32d9-4e57-be7e-6375c5a94fd1"
      },
      "source": [
        "test_df.info()"
      ],
      "execution_count": 40,
      "outputs": [
        {
          "output_type": "stream",
          "text": [
            "<class 'pandas.core.frame.DataFrame'>\n",
            "RangeIndex: 418 entries, 0 to 417\n",
            "Data columns (total 11 columns):\n",
            " #   Column       Non-Null Count  Dtype  \n",
            "---  ------       --------------  -----  \n",
            " 0   PassengerId  418 non-null    int64  \n",
            " 1   Pclass       418 non-null    int64  \n",
            " 2   Name         418 non-null    int64  \n",
            " 3   Sex          418 non-null    int64  \n",
            " 4   Age          332 non-null    float64\n",
            " 5   SibSp        418 non-null    int64  \n",
            " 6   Parch        418 non-null    int64  \n",
            " 7   Ticket       418 non-null    object \n",
            " 8   Fare         417 non-null    float64\n",
            " 9   Cabin        91 non-null     object \n",
            " 10  Embarked     418 non-null    object \n",
            "dtypes: float64(2), int64(6), object(3)\n",
            "memory usage: 36.0+ KB\n"
          ],
          "name": "stdout"
        }
      ]
    },
    {
      "cell_type": "markdown",
      "metadata": {
        "id": "DfyBEvwBheW5"
      },
      "source": [
        "## Age 컬럼 전처리"
      ]
    },
    {
      "cell_type": "markdown",
      "metadata": {
        "id": "Yh4e-58ihvVE"
      },
      "source": [
        "**현재 까지 알고있는 전처리 방법론은  첫 번째로, 해당 행을 지우는 방법과 두 번째로, 평균 값 혹은 0 으로 바꾸는 방법, 세 번째로 다른 컬럼들과의 관계를 이용하여 예측하는 방법 이렇게 세가지이다.**\r\n",
        "\r\n",
        "**그 중 Age는 생존율 예측에 있어서 중요한 데이터 이므로 약 900개중 200개 가량의 데이터를 지우는 것은 좋지 않으며, 평균 혹은 0으로 바꾸어 주는것 또한 데이터의 상태를 변형시키기 때문에 세 번째 방법인 다른 컬럼들과의 관계를 통해 그 관계의 평균 값으로 Age를 예측하는 방법을 사용할 것이다.**"
      ]
    },
    {
      "cell_type": "code",
      "metadata": {
        "id": "IECDkIlQVRST",
        "colab": {
          "base_uri": "https://localhost:8080/",
          "height": 348
        },
        "outputId": "dbc6bb66-b527-4b03-f3be-de2f813019ee"
      },
      "source": [
        "train_df[['Pclass',\r\n",
        "          'Sex',\r\n",
        "          'Age']].sample(10)"
      ],
      "execution_count": 41,
      "outputs": [
        {
          "output_type": "execute_result",
          "data": {
            "text/html": [
              "<div>\n",
              "<style scoped>\n",
              "    .dataframe tbody tr th:only-of-type {\n",
              "        vertical-align: middle;\n",
              "    }\n",
              "\n",
              "    .dataframe tbody tr th {\n",
              "        vertical-align: top;\n",
              "    }\n",
              "\n",
              "    .dataframe thead th {\n",
              "        text-align: right;\n",
              "    }\n",
              "</style>\n",
              "<table border=\"1\" class=\"dataframe\">\n",
              "  <thead>\n",
              "    <tr style=\"text-align: right;\">\n",
              "      <th></th>\n",
              "      <th>Pclass</th>\n",
              "      <th>Sex</th>\n",
              "      <th>Age</th>\n",
              "    </tr>\n",
              "  </thead>\n",
              "  <tbody>\n",
              "    <tr>\n",
              "      <th>711</th>\n",
              "      <td>1</td>\n",
              "      <td>0</td>\n",
              "      <td>NaN</td>\n",
              "    </tr>\n",
              "    <tr>\n",
              "      <th>887</th>\n",
              "      <td>1</td>\n",
              "      <td>1</td>\n",
              "      <td>19.0</td>\n",
              "    </tr>\n",
              "    <tr>\n",
              "      <th>696</th>\n",
              "      <td>3</td>\n",
              "      <td>0</td>\n",
              "      <td>44.0</td>\n",
              "    </tr>\n",
              "    <tr>\n",
              "      <th>296</th>\n",
              "      <td>3</td>\n",
              "      <td>0</td>\n",
              "      <td>23.5</td>\n",
              "    </tr>\n",
              "    <tr>\n",
              "      <th>551</th>\n",
              "      <td>2</td>\n",
              "      <td>0</td>\n",
              "      <td>27.0</td>\n",
              "    </tr>\n",
              "    <tr>\n",
              "      <th>766</th>\n",
              "      <td>1</td>\n",
              "      <td>0</td>\n",
              "      <td>NaN</td>\n",
              "    </tr>\n",
              "    <tr>\n",
              "      <th>587</th>\n",
              "      <td>1</td>\n",
              "      <td>0</td>\n",
              "      <td>60.0</td>\n",
              "    </tr>\n",
              "    <tr>\n",
              "      <th>43</th>\n",
              "      <td>2</td>\n",
              "      <td>1</td>\n",
              "      <td>3.0</td>\n",
              "    </tr>\n",
              "    <tr>\n",
              "      <th>729</th>\n",
              "      <td>3</td>\n",
              "      <td>1</td>\n",
              "      <td>25.0</td>\n",
              "    </tr>\n",
              "    <tr>\n",
              "      <th>250</th>\n",
              "      <td>3</td>\n",
              "      <td>0</td>\n",
              "      <td>NaN</td>\n",
              "    </tr>\n",
              "  </tbody>\n",
              "</table>\n",
              "</div>"
            ],
            "text/plain": [
              "     Pclass  Sex   Age\n",
              "711       1    0   NaN\n",
              "887       1    1  19.0\n",
              "696       3    0  44.0\n",
              "296       3    0  23.5\n",
              "551       2    0  27.0\n",
              "766       1    0   NaN\n",
              "587       1    0  60.0\n",
              "43        2    1   3.0\n",
              "729       3    1  25.0\n",
              "250       3    0   NaN"
            ]
          },
          "metadata": {
            "tags": []
          },
          "execution_count": 41
        }
      ]
    },
    {
      "cell_type": "code",
      "metadata": {
        "colab": {
          "base_uri": "https://localhost:8080/"
        },
        "id": "JOqGIjI0rMY3",
        "outputId": "2dc19387-58a1-43c9-f752-a272488d3b9d"
      },
      "source": [
        "guess_ages = np.zeros((2,3))\r\n",
        "guess_ages"
      ],
      "execution_count": 42,
      "outputs": [
        {
          "output_type": "execute_result",
          "data": {
            "text/plain": [
              "array([[0., 0., 0.],\n",
              "       [0., 0., 0.]])"
            ]
          },
          "metadata": {
            "tags": []
          },
          "execution_count": 42
        }
      ]
    },
    {
      "cell_type": "markdown",
      "metadata": {
        "id": "em7tEdncE3M-"
      },
      "source": [
        "Sex와 Pclass의 관계를 통하여 Age를 유추한다."
      ]
    },
    {
      "cell_type": "code",
      "metadata": {
        "colab": {
          "base_uri": "https://localhost:8080/",
          "height": 635
        },
        "id": "GKDy7snXhOC-",
        "outputId": "3bd99851-96a9-49fc-9066-4fd4208d7a8b"
      },
      "source": [
        "for all_df in combine:\r\n",
        "    for i in range(0, 2):\r\n",
        "        for j in range(0, 3):\r\n",
        "            guess_df = all_df[(all_df['Sex'] == i) & \\\r\n",
        "                                  (all_df['Pclass'] == j+1)]['Age'].dropna()\r\n",
        "          \r\n",
        "            age_guess = guess_df.median() # Median of Sex and Pclass\r\n",
        "            \r\n",
        "            # Convert random age float to nearest .5 age\r\n",
        "            guess_ages[i,j] = int(age_guess/0.5 + 0.5 ) * 0.5\r\n",
        "            print(guess_ages)\r\n",
        "            \r\n",
        "    for i in range(0, 2):\r\n",
        "        for j in range(0, 3):\r\n",
        "            all_df.loc[ (all_df.Age.isnull()) & (all_df.Sex == i) & (all_df.Pclass == j+1),\\\r\n",
        "                    'Age'] = guess_ages[i,j]\r\n",
        "\r\n",
        "    all_df['Age'] = all_df['Age'].astype(int)\r\n",
        "\r\n",
        "train_df.head()"
      ],
      "execution_count": 43,
      "outputs": [
        {
          "output_type": "stream",
          "text": [
            "[[40.  0.  0.]\n",
            " [ 0.  0.  0.]]\n",
            "[[40. 30.  0.]\n",
            " [ 0.  0.  0.]]\n",
            "[[40. 30. 25.]\n",
            " [ 0.  0.  0.]]\n",
            "[[40. 30. 25.]\n",
            " [35.  0.  0.]]\n",
            "[[40. 30. 25.]\n",
            " [35. 28.  0.]]\n",
            "[[40.  30.  25. ]\n",
            " [35.  28.  21.5]]\n",
            "[[42.  30.  25. ]\n",
            " [35.  28.  21.5]]\n",
            "[[42.  28.  25. ]\n",
            " [35.  28.  21.5]]\n",
            "[[42.  28.  24. ]\n",
            " [35.  28.  21.5]]\n",
            "[[42.  28.  24. ]\n",
            " [41.  28.  21.5]]\n",
            "[[42.  28.  24. ]\n",
            " [41.  24.  21.5]]\n",
            "[[42. 28. 24.]\n",
            " [41. 24. 22.]]\n"
          ],
          "name": "stdout"
        },
        {
          "output_type": "execute_result",
          "data": {
            "text/html": [
              "<div>\n",
              "<style scoped>\n",
              "    .dataframe tbody tr th:only-of-type {\n",
              "        vertical-align: middle;\n",
              "    }\n",
              "\n",
              "    .dataframe tbody tr th {\n",
              "        vertical-align: top;\n",
              "    }\n",
              "\n",
              "    .dataframe thead th {\n",
              "        text-align: right;\n",
              "    }\n",
              "</style>\n",
              "<table border=\"1\" class=\"dataframe\">\n",
              "  <thead>\n",
              "    <tr style=\"text-align: right;\">\n",
              "      <th></th>\n",
              "      <th>PassengerId</th>\n",
              "      <th>Survived</th>\n",
              "      <th>Pclass</th>\n",
              "      <th>Name</th>\n",
              "      <th>Sex</th>\n",
              "      <th>Age</th>\n",
              "      <th>SibSp</th>\n",
              "      <th>Parch</th>\n",
              "      <th>Ticket</th>\n",
              "      <th>Fare</th>\n",
              "      <th>Cabin</th>\n",
              "      <th>Embarked</th>\n",
              "    </tr>\n",
              "  </thead>\n",
              "  <tbody>\n",
              "    <tr>\n",
              "      <th>0</th>\n",
              "      <td>1</td>\n",
              "      <td>0</td>\n",
              "      <td>3</td>\n",
              "      <td>0</td>\n",
              "      <td>0</td>\n",
              "      <td>22</td>\n",
              "      <td>1</td>\n",
              "      <td>0</td>\n",
              "      <td>A/5 21171</td>\n",
              "      <td>7.2500</td>\n",
              "      <td>NaN</td>\n",
              "      <td>S</td>\n",
              "    </tr>\n",
              "    <tr>\n",
              "      <th>1</th>\n",
              "      <td>2</td>\n",
              "      <td>1</td>\n",
              "      <td>1</td>\n",
              "      <td>2</td>\n",
              "      <td>1</td>\n",
              "      <td>38</td>\n",
              "      <td>1</td>\n",
              "      <td>0</td>\n",
              "      <td>PC 17599</td>\n",
              "      <td>71.2833</td>\n",
              "      <td>C85</td>\n",
              "      <td>C</td>\n",
              "    </tr>\n",
              "    <tr>\n",
              "      <th>2</th>\n",
              "      <td>3</td>\n",
              "      <td>1</td>\n",
              "      <td>3</td>\n",
              "      <td>1</td>\n",
              "      <td>1</td>\n",
              "      <td>26</td>\n",
              "      <td>0</td>\n",
              "      <td>0</td>\n",
              "      <td>STON/O2. 3101282</td>\n",
              "      <td>7.9250</td>\n",
              "      <td>NaN</td>\n",
              "      <td>S</td>\n",
              "    </tr>\n",
              "    <tr>\n",
              "      <th>3</th>\n",
              "      <td>4</td>\n",
              "      <td>1</td>\n",
              "      <td>1</td>\n",
              "      <td>2</td>\n",
              "      <td>1</td>\n",
              "      <td>35</td>\n",
              "      <td>1</td>\n",
              "      <td>0</td>\n",
              "      <td>113803</td>\n",
              "      <td>53.1000</td>\n",
              "      <td>C123</td>\n",
              "      <td>S</td>\n",
              "    </tr>\n",
              "    <tr>\n",
              "      <th>4</th>\n",
              "      <td>5</td>\n",
              "      <td>0</td>\n",
              "      <td>3</td>\n",
              "      <td>0</td>\n",
              "      <td>0</td>\n",
              "      <td>35</td>\n",
              "      <td>0</td>\n",
              "      <td>0</td>\n",
              "      <td>373450</td>\n",
              "      <td>8.0500</td>\n",
              "      <td>NaN</td>\n",
              "      <td>S</td>\n",
              "    </tr>\n",
              "  </tbody>\n",
              "</table>\n",
              "</div>"
            ],
            "text/plain": [
              "   PassengerId  Survived  Pclass  ...     Fare  Cabin  Embarked\n",
              "0            1         0       3  ...   7.2500    NaN         S\n",
              "1            2         1       1  ...  71.2833    C85         C\n",
              "2            3         1       3  ...   7.9250    NaN         S\n",
              "3            4         1       1  ...  53.1000   C123         S\n",
              "4            5         0       3  ...   8.0500    NaN         S\n",
              "\n",
              "[5 rows x 12 columns]"
            ]
          },
          "metadata": {
            "tags": []
          },
          "execution_count": 43
        }
      ]
    },
    {
      "cell_type": "code",
      "metadata": {
        "colab": {
          "base_uri": "https://localhost:8080/"
        },
        "id": "Wz5fcNV37pkf",
        "outputId": "165d76b7-3a4d-4755-f2df-c99ebbd650d8"
      },
      "source": [
        "train_df.info()"
      ],
      "execution_count": 44,
      "outputs": [
        {
          "output_type": "stream",
          "text": [
            "<class 'pandas.core.frame.DataFrame'>\n",
            "RangeIndex: 891 entries, 0 to 890\n",
            "Data columns (total 12 columns):\n",
            " #   Column       Non-Null Count  Dtype  \n",
            "---  ------       --------------  -----  \n",
            " 0   PassengerId  891 non-null    int64  \n",
            " 1   Survived     891 non-null    int64  \n",
            " 2   Pclass       891 non-null    int64  \n",
            " 3   Name         891 non-null    int64  \n",
            " 4   Sex          891 non-null    int64  \n",
            " 5   Age          891 non-null    int64  \n",
            " 6   SibSp        891 non-null    int64  \n",
            " 7   Parch        891 non-null    int64  \n",
            " 8   Ticket       891 non-null    object \n",
            " 9   Fare         891 non-null    float64\n",
            " 10  Cabin        204 non-null    object \n",
            " 11  Embarked     889 non-null    object \n",
            "dtypes: float64(1), int64(8), object(3)\n",
            "memory usage: 83.7+ KB\n"
          ],
          "name": "stdout"
        }
      ]
    },
    {
      "cell_type": "code",
      "metadata": {
        "colab": {
          "base_uri": "https://localhost:8080/"
        },
        "id": "LMrSvEaKTxib",
        "outputId": "3d690f1f-497b-435b-fc53-d09b075c7afa"
      },
      "source": [
        "test_df.info()"
      ],
      "execution_count": 45,
      "outputs": [
        {
          "output_type": "stream",
          "text": [
            "<class 'pandas.core.frame.DataFrame'>\n",
            "RangeIndex: 418 entries, 0 to 417\n",
            "Data columns (total 11 columns):\n",
            " #   Column       Non-Null Count  Dtype  \n",
            "---  ------       --------------  -----  \n",
            " 0   PassengerId  418 non-null    int64  \n",
            " 1   Pclass       418 non-null    int64  \n",
            " 2   Name         418 non-null    int64  \n",
            " 3   Sex          418 non-null    int64  \n",
            " 4   Age          418 non-null    int64  \n",
            " 5   SibSp        418 non-null    int64  \n",
            " 6   Parch        418 non-null    int64  \n",
            " 7   Ticket       418 non-null    object \n",
            " 8   Fare         417 non-null    float64\n",
            " 9   Cabin        91 non-null     object \n",
            " 10  Embarked     418 non-null    object \n",
            "dtypes: float64(1), int64(7), object(3)\n",
            "memory usage: 36.0+ KB\n"
          ],
          "name": "stdout"
        }
      ]
    },
    {
      "cell_type": "code",
      "metadata": {
        "colab": {
          "base_uri": "https://localhost:8080/"
        },
        "id": "e7zxquDciekn",
        "outputId": "6e0dd844-98aa-48d5-ba36-5e2e80fdb102"
      },
      "source": [
        "train_df['Age'].tail(50)"
      ],
      "execution_count": 46,
      "outputs": [
        {
          "output_type": "execute_result",
          "data": {
            "text/plain": [
              "841    16\n",
              "842    30\n",
              "843    34\n",
              "844    17\n",
              "845    42\n",
              "846    25\n",
              "847    35\n",
              "848    28\n",
              "849    35\n",
              "850     4\n",
              "851    74\n",
              "852     9\n",
              "853    16\n",
              "854    44\n",
              "855    18\n",
              "856    45\n",
              "857    51\n",
              "858    24\n",
              "859    25\n",
              "860    41\n",
              "861    21\n",
              "862    48\n",
              "863    21\n",
              "864    24\n",
              "865    42\n",
              "866    27\n",
              "867    31\n",
              "868    25\n",
              "869     4\n",
              "870    26\n",
              "871    47\n",
              "872    33\n",
              "873    47\n",
              "874    28\n",
              "875    15\n",
              "876    20\n",
              "877    19\n",
              "878    25\n",
              "879    56\n",
              "880    25\n",
              "881    33\n",
              "882    22\n",
              "883    28\n",
              "884    25\n",
              "885    39\n",
              "886    27\n",
              "887    19\n",
              "888    21\n",
              "889    26\n",
              "890    32\n",
              "Name: Age, dtype: int64"
            ]
          },
          "metadata": {
            "tags": []
          },
          "execution_count": 46
        }
      ]
    },
    {
      "cell_type": "markdown",
      "metadata": {
        "id": "VEF5aHARE9NS"
      },
      "source": [
        "Age를 다섯개의 카테고리로 나누어 인코딩 준비를 한다."
      ]
    },
    {
      "cell_type": "code",
      "metadata": {
        "colab": {
          "base_uri": "https://localhost:8080/"
        },
        "id": "85rDCyV_gbYG",
        "outputId": "5c3026b7-f9b2-4f71-e834-29c9d3cb3934"
      },
      "source": [
        "for total_df in combine:\r\n",
        "  total_df['Age'] = pd.cut(total_df['Age'], 5)\r\n",
        "\r\n",
        "train_df['Age']"
      ],
      "execution_count": 47,
      "outputs": [
        {
          "output_type": "execute_result",
          "data": {
            "text/plain": [
              "0      (16.0, 32.0]\n",
              "1      (32.0, 48.0]\n",
              "2      (16.0, 32.0]\n",
              "3      (32.0, 48.0]\n",
              "4      (32.0, 48.0]\n",
              "           ...     \n",
              "886    (16.0, 32.0]\n",
              "887    (16.0, 32.0]\n",
              "888    (16.0, 32.0]\n",
              "889    (16.0, 32.0]\n",
              "890    (16.0, 32.0]\n",
              "Name: Age, Length: 891, dtype: category\n",
              "Categories (5, interval[float64]): [(-0.08, 16.0] < (16.0, 32.0] < (32.0, 48.0] < (48.0, 64.0] <\n",
              "                                    (64.0, 80.0]]"
            ]
          },
          "metadata": {
            "tags": []
          },
          "execution_count": 47
        }
      ]
    },
    {
      "cell_type": "markdown",
      "metadata": {
        "id": "SrRYz9w4jGky"
      },
      "source": [
        "인코딩 방법소개"
      ]
    },
    {
      "cell_type": "markdown",
      "metadata": {
        "id": "EbUNg-zNFIq7"
      },
      "source": [
        "\r\n"
      ]
    },
    {
      "cell_type": "code",
      "metadata": {
        "colab": {
          "base_uri": "https://localhost:8080/"
        },
        "id": "Tyt5FctOg3Dt",
        "outputId": "c4ee3684-226c-4fe4-d0da-68bb6d12386d"
      },
      "source": [
        "from sklearn.preprocessing import LabelEncoder\r\n",
        "le = LabelEncoder()\r\n",
        "\r\n",
        "for total_df in combine:\r\n",
        "  le.fit(total_df['Age'])\r\n",
        "  total_df['Age'] = le.transform(total_df['Age'])\r\n",
        "\r\n",
        "train_df['Age'].tail(50)\r\n"
      ],
      "execution_count": 48,
      "outputs": [
        {
          "output_type": "execute_result",
          "data": {
            "text/plain": [
              "841    0\n",
              "842    1\n",
              "843    2\n",
              "844    1\n",
              "845    2\n",
              "846    1\n",
              "847    2\n",
              "848    1\n",
              "849    2\n",
              "850    0\n",
              "851    4\n",
              "852    0\n",
              "853    0\n",
              "854    2\n",
              "855    1\n",
              "856    2\n",
              "857    3\n",
              "858    1\n",
              "859    1\n",
              "860    2\n",
              "861    1\n",
              "862    2\n",
              "863    1\n",
              "864    1\n",
              "865    2\n",
              "866    1\n",
              "867    1\n",
              "868    1\n",
              "869    0\n",
              "870    1\n",
              "871    2\n",
              "872    2\n",
              "873    2\n",
              "874    1\n",
              "875    0\n",
              "876    1\n",
              "877    1\n",
              "878    1\n",
              "879    3\n",
              "880    1\n",
              "881    2\n",
              "882    1\n",
              "883    1\n",
              "884    1\n",
              "885    2\n",
              "886    1\n",
              "887    1\n",
              "888    1\n",
              "889    1\n",
              "890    1\n",
              "Name: Age, dtype: int64"
            ]
          },
          "metadata": {
            "tags": []
          },
          "execution_count": 48
        }
      ]
    },
    {
      "cell_type": "markdown",
      "metadata": {
        "id": "PualZckDipV8"
      },
      "source": [
        "**(-0.08, 16.0) = 0**\r\n",
        "\r\n",
        "**(16.0, 32.0) = 1**\r\n",
        "\r\n",
        "**(32.0, 48.0) = 2**\r\n",
        "\r\n",
        "**(48.0, 64.0) = 3**\r\n",
        "\r\n",
        "**(64.0, 80.0) = 4**         "
      ]
    },
    {
      "cell_type": "markdown",
      "metadata": {
        "id": "wOSIgigoU1NY"
      },
      "source": [
        "## Ticket  컬럼전처리"
      ]
    },
    {
      "cell_type": "markdown",
      "metadata": {
        "id": "VaiSeI6aFMto"
      },
      "source": [
        "티켓과 의 연관성을 찾지못하여 지워주었다."
      ]
    },
    {
      "cell_type": "code",
      "metadata": {
        "colab": {
          "base_uri": "https://localhost:8080/",
          "height": 0
        },
        "id": "W3npCodGUwmk",
        "outputId": "dde08f5e-2a89-4d28-e8fd-32f2d7501182"
      },
      "source": [
        "for all_data in combine:\r\n",
        "  all_data = all_data.drop('Ticket', axis = 1, inplace = True)\r\n",
        "\r\n",
        "# train_df\r\n",
        "test_df"
      ],
      "execution_count": 49,
      "outputs": [
        {
          "output_type": "execute_result",
          "data": {
            "text/html": [
              "<div>\n",
              "<style scoped>\n",
              "    .dataframe tbody tr th:only-of-type {\n",
              "        vertical-align: middle;\n",
              "    }\n",
              "\n",
              "    .dataframe tbody tr th {\n",
              "        vertical-align: top;\n",
              "    }\n",
              "\n",
              "    .dataframe thead th {\n",
              "        text-align: right;\n",
              "    }\n",
              "</style>\n",
              "<table border=\"1\" class=\"dataframe\">\n",
              "  <thead>\n",
              "    <tr style=\"text-align: right;\">\n",
              "      <th></th>\n",
              "      <th>PassengerId</th>\n",
              "      <th>Pclass</th>\n",
              "      <th>Name</th>\n",
              "      <th>Sex</th>\n",
              "      <th>Age</th>\n",
              "      <th>SibSp</th>\n",
              "      <th>Parch</th>\n",
              "      <th>Fare</th>\n",
              "      <th>Cabin</th>\n",
              "      <th>Embarked</th>\n",
              "    </tr>\n",
              "  </thead>\n",
              "  <tbody>\n",
              "    <tr>\n",
              "      <th>0</th>\n",
              "      <td>892</td>\n",
              "      <td>3</td>\n",
              "      <td>0</td>\n",
              "      <td>0</td>\n",
              "      <td>2</td>\n",
              "      <td>0</td>\n",
              "      <td>0</td>\n",
              "      <td>7.8292</td>\n",
              "      <td>NaN</td>\n",
              "      <td>Q</td>\n",
              "    </tr>\n",
              "    <tr>\n",
              "      <th>1</th>\n",
              "      <td>893</td>\n",
              "      <td>3</td>\n",
              "      <td>2</td>\n",
              "      <td>1</td>\n",
              "      <td>3</td>\n",
              "      <td>1</td>\n",
              "      <td>0</td>\n",
              "      <td>7.0000</td>\n",
              "      <td>NaN</td>\n",
              "      <td>S</td>\n",
              "    </tr>\n",
              "    <tr>\n",
              "      <th>2</th>\n",
              "      <td>894</td>\n",
              "      <td>2</td>\n",
              "      <td>0</td>\n",
              "      <td>0</td>\n",
              "      <td>4</td>\n",
              "      <td>0</td>\n",
              "      <td>0</td>\n",
              "      <td>9.6875</td>\n",
              "      <td>NaN</td>\n",
              "      <td>Q</td>\n",
              "    </tr>\n",
              "    <tr>\n",
              "      <th>3</th>\n",
              "      <td>895</td>\n",
              "      <td>3</td>\n",
              "      <td>0</td>\n",
              "      <td>0</td>\n",
              "      <td>1</td>\n",
              "      <td>0</td>\n",
              "      <td>0</td>\n",
              "      <td>8.6625</td>\n",
              "      <td>NaN</td>\n",
              "      <td>S</td>\n",
              "    </tr>\n",
              "    <tr>\n",
              "      <th>4</th>\n",
              "      <td>896</td>\n",
              "      <td>3</td>\n",
              "      <td>2</td>\n",
              "      <td>1</td>\n",
              "      <td>1</td>\n",
              "      <td>1</td>\n",
              "      <td>1</td>\n",
              "      <td>12.2875</td>\n",
              "      <td>NaN</td>\n",
              "      <td>S</td>\n",
              "    </tr>\n",
              "    <tr>\n",
              "      <th>...</th>\n",
              "      <td>...</td>\n",
              "      <td>...</td>\n",
              "      <td>...</td>\n",
              "      <td>...</td>\n",
              "      <td>...</td>\n",
              "      <td>...</td>\n",
              "      <td>...</td>\n",
              "      <td>...</td>\n",
              "      <td>...</td>\n",
              "      <td>...</td>\n",
              "    </tr>\n",
              "    <tr>\n",
              "      <th>413</th>\n",
              "      <td>1305</td>\n",
              "      <td>3</td>\n",
              "      <td>0</td>\n",
              "      <td>0</td>\n",
              "      <td>1</td>\n",
              "      <td>0</td>\n",
              "      <td>0</td>\n",
              "      <td>8.0500</td>\n",
              "      <td>NaN</td>\n",
              "      <td>S</td>\n",
              "    </tr>\n",
              "    <tr>\n",
              "      <th>414</th>\n",
              "      <td>1306</td>\n",
              "      <td>1</td>\n",
              "      <td>4</td>\n",
              "      <td>1</td>\n",
              "      <td>2</td>\n",
              "      <td>0</td>\n",
              "      <td>0</td>\n",
              "      <td>108.9000</td>\n",
              "      <td>C105</td>\n",
              "      <td>C</td>\n",
              "    </tr>\n",
              "    <tr>\n",
              "      <th>415</th>\n",
              "      <td>1307</td>\n",
              "      <td>3</td>\n",
              "      <td>0</td>\n",
              "      <td>0</td>\n",
              "      <td>2</td>\n",
              "      <td>0</td>\n",
              "      <td>0</td>\n",
              "      <td>7.2500</td>\n",
              "      <td>NaN</td>\n",
              "      <td>S</td>\n",
              "    </tr>\n",
              "    <tr>\n",
              "      <th>416</th>\n",
              "      <td>1308</td>\n",
              "      <td>3</td>\n",
              "      <td>0</td>\n",
              "      <td>0</td>\n",
              "      <td>1</td>\n",
              "      <td>0</td>\n",
              "      <td>0</td>\n",
              "      <td>8.0500</td>\n",
              "      <td>NaN</td>\n",
              "      <td>S</td>\n",
              "    </tr>\n",
              "    <tr>\n",
              "      <th>417</th>\n",
              "      <td>1309</td>\n",
              "      <td>3</td>\n",
              "      <td>3</td>\n",
              "      <td>0</td>\n",
              "      <td>1</td>\n",
              "      <td>1</td>\n",
              "      <td>1</td>\n",
              "      <td>22.3583</td>\n",
              "      <td>NaN</td>\n",
              "      <td>C</td>\n",
              "    </tr>\n",
              "  </tbody>\n",
              "</table>\n",
              "<p>418 rows × 10 columns</p>\n",
              "</div>"
            ],
            "text/plain": [
              "     PassengerId  Pclass  Name  Sex  Age  SibSp  Parch      Fare Cabin Embarked\n",
              "0            892       3     0    0    2      0      0    7.8292   NaN        Q\n",
              "1            893       3     2    1    3      1      0    7.0000   NaN        S\n",
              "2            894       2     0    0    4      0      0    9.6875   NaN        Q\n",
              "3            895       3     0    0    1      0      0    8.6625   NaN        S\n",
              "4            896       3     2    1    1      1      1   12.2875   NaN        S\n",
              "..           ...     ...   ...  ...  ...    ...    ...       ...   ...      ...\n",
              "413         1305       3     0    0    1      0      0    8.0500   NaN        S\n",
              "414         1306       1     4    1    2      0      0  108.9000  C105        C\n",
              "415         1307       3     0    0    2      0      0    7.2500   NaN        S\n",
              "416         1308       3     0    0    1      0      0    8.0500   NaN        S\n",
              "417         1309       3     3    0    1      1      1   22.3583   NaN        C\n",
              "\n",
              "[418 rows x 10 columns]"
            ]
          },
          "metadata": {
            "tags": []
          },
          "execution_count": 49
        }
      ]
    },
    {
      "cell_type": "markdown",
      "metadata": {
        "id": "d-2I8mJ8Vyj3"
      },
      "source": [
        "## SibSp 와 Parch 컬럼 결합"
      ]
    },
    {
      "cell_type": "markdown",
      "metadata": {
        "id": "2_x6ZALzFRhb"
      },
      "source": [
        "동승자가 있다 ,없다 라는 기준으로 새로운 컬럼을 만든후 기존 컬럼을 제거했다."
      ]
    },
    {
      "cell_type": "code",
      "metadata": {
        "colab": {
          "base_uri": "https://localhost:8080/",
          "height": 0
        },
        "id": "6dhBIfxDViu2",
        "outputId": "7f90b1ff-81a2-4e10-b486-76bc3129e7fc"
      },
      "source": [
        "for all_data in combine:\r\n",
        "  all_data['Alone'] = all_data['SibSp'] + all_data['Parch']\r\n",
        "  all_data = all_data.drop(['SibSp', 'Parch'], axis = 1,inplace=True)\r\n",
        "   \r\n",
        "train_df"
      ],
      "execution_count": 50,
      "outputs": [
        {
          "output_type": "execute_result",
          "data": {
            "text/html": [
              "<div>\n",
              "<style scoped>\n",
              "    .dataframe tbody tr th:only-of-type {\n",
              "        vertical-align: middle;\n",
              "    }\n",
              "\n",
              "    .dataframe tbody tr th {\n",
              "        vertical-align: top;\n",
              "    }\n",
              "\n",
              "    .dataframe thead th {\n",
              "        text-align: right;\n",
              "    }\n",
              "</style>\n",
              "<table border=\"1\" class=\"dataframe\">\n",
              "  <thead>\n",
              "    <tr style=\"text-align: right;\">\n",
              "      <th></th>\n",
              "      <th>PassengerId</th>\n",
              "      <th>Survived</th>\n",
              "      <th>Pclass</th>\n",
              "      <th>Name</th>\n",
              "      <th>Sex</th>\n",
              "      <th>Age</th>\n",
              "      <th>Fare</th>\n",
              "      <th>Cabin</th>\n",
              "      <th>Embarked</th>\n",
              "      <th>Alone</th>\n",
              "    </tr>\n",
              "  </thead>\n",
              "  <tbody>\n",
              "    <tr>\n",
              "      <th>0</th>\n",
              "      <td>1</td>\n",
              "      <td>0</td>\n",
              "      <td>3</td>\n",
              "      <td>0</td>\n",
              "      <td>0</td>\n",
              "      <td>1</td>\n",
              "      <td>7.2500</td>\n",
              "      <td>NaN</td>\n",
              "      <td>S</td>\n",
              "      <td>1</td>\n",
              "    </tr>\n",
              "    <tr>\n",
              "      <th>1</th>\n",
              "      <td>2</td>\n",
              "      <td>1</td>\n",
              "      <td>1</td>\n",
              "      <td>2</td>\n",
              "      <td>1</td>\n",
              "      <td>2</td>\n",
              "      <td>71.2833</td>\n",
              "      <td>C85</td>\n",
              "      <td>C</td>\n",
              "      <td>1</td>\n",
              "    </tr>\n",
              "    <tr>\n",
              "      <th>2</th>\n",
              "      <td>3</td>\n",
              "      <td>1</td>\n",
              "      <td>3</td>\n",
              "      <td>1</td>\n",
              "      <td>1</td>\n",
              "      <td>1</td>\n",
              "      <td>7.9250</td>\n",
              "      <td>NaN</td>\n",
              "      <td>S</td>\n",
              "      <td>0</td>\n",
              "    </tr>\n",
              "    <tr>\n",
              "      <th>3</th>\n",
              "      <td>4</td>\n",
              "      <td>1</td>\n",
              "      <td>1</td>\n",
              "      <td>2</td>\n",
              "      <td>1</td>\n",
              "      <td>2</td>\n",
              "      <td>53.1000</td>\n",
              "      <td>C123</td>\n",
              "      <td>S</td>\n",
              "      <td>1</td>\n",
              "    </tr>\n",
              "    <tr>\n",
              "      <th>4</th>\n",
              "      <td>5</td>\n",
              "      <td>0</td>\n",
              "      <td>3</td>\n",
              "      <td>0</td>\n",
              "      <td>0</td>\n",
              "      <td>2</td>\n",
              "      <td>8.0500</td>\n",
              "      <td>NaN</td>\n",
              "      <td>S</td>\n",
              "      <td>0</td>\n",
              "    </tr>\n",
              "    <tr>\n",
              "      <th>...</th>\n",
              "      <td>...</td>\n",
              "      <td>...</td>\n",
              "      <td>...</td>\n",
              "      <td>...</td>\n",
              "      <td>...</td>\n",
              "      <td>...</td>\n",
              "      <td>...</td>\n",
              "      <td>...</td>\n",
              "      <td>...</td>\n",
              "      <td>...</td>\n",
              "    </tr>\n",
              "    <tr>\n",
              "      <th>886</th>\n",
              "      <td>887</td>\n",
              "      <td>0</td>\n",
              "      <td>2</td>\n",
              "      <td>2</td>\n",
              "      <td>0</td>\n",
              "      <td>1</td>\n",
              "      <td>13.0000</td>\n",
              "      <td>NaN</td>\n",
              "      <td>S</td>\n",
              "      <td>0</td>\n",
              "    </tr>\n",
              "    <tr>\n",
              "      <th>887</th>\n",
              "      <td>888</td>\n",
              "      <td>1</td>\n",
              "      <td>1</td>\n",
              "      <td>4</td>\n",
              "      <td>1</td>\n",
              "      <td>1</td>\n",
              "      <td>30.0000</td>\n",
              "      <td>B42</td>\n",
              "      <td>S</td>\n",
              "      <td>0</td>\n",
              "    </tr>\n",
              "    <tr>\n",
              "      <th>888</th>\n",
              "      <td>889</td>\n",
              "      <td>0</td>\n",
              "      <td>3</td>\n",
              "      <td>1</td>\n",
              "      <td>1</td>\n",
              "      <td>1</td>\n",
              "      <td>23.4500</td>\n",
              "      <td>NaN</td>\n",
              "      <td>S</td>\n",
              "      <td>3</td>\n",
              "    </tr>\n",
              "    <tr>\n",
              "      <th>889</th>\n",
              "      <td>890</td>\n",
              "      <td>1</td>\n",
              "      <td>1</td>\n",
              "      <td>1</td>\n",
              "      <td>0</td>\n",
              "      <td>1</td>\n",
              "      <td>30.0000</td>\n",
              "      <td>C148</td>\n",
              "      <td>C</td>\n",
              "      <td>0</td>\n",
              "    </tr>\n",
              "    <tr>\n",
              "      <th>890</th>\n",
              "      <td>891</td>\n",
              "      <td>0</td>\n",
              "      <td>3</td>\n",
              "      <td>0</td>\n",
              "      <td>0</td>\n",
              "      <td>1</td>\n",
              "      <td>7.7500</td>\n",
              "      <td>NaN</td>\n",
              "      <td>Q</td>\n",
              "      <td>0</td>\n",
              "    </tr>\n",
              "  </tbody>\n",
              "</table>\n",
              "<p>891 rows × 10 columns</p>\n",
              "</div>"
            ],
            "text/plain": [
              "     PassengerId  Survived  Pclass  Name  ...     Fare  Cabin  Embarked Alone\n",
              "0              1         0       3     0  ...   7.2500    NaN         S     1\n",
              "1              2         1       1     2  ...  71.2833    C85         C     1\n",
              "2              3         1       3     1  ...   7.9250    NaN         S     0\n",
              "3              4         1       1     2  ...  53.1000   C123         S     1\n",
              "4              5         0       3     0  ...   8.0500    NaN         S     0\n",
              "..           ...       ...     ...   ...  ...      ...    ...       ...   ...\n",
              "886          887         0       2     2  ...  13.0000    NaN         S     0\n",
              "887          888         1       1     4  ...  30.0000    B42         S     0\n",
              "888          889         0       3     1  ...  23.4500    NaN         S     3\n",
              "889          890         1       1     1  ...  30.0000   C148         C     0\n",
              "890          891         0       3     0  ...   7.7500    NaN         Q     0\n",
              "\n",
              "[891 rows x 10 columns]"
            ]
          },
          "metadata": {
            "tags": []
          },
          "execution_count": 50
        }
      ]
    },
    {
      "cell_type": "code",
      "metadata": {
        "id": "1GMLYn8ClQoh",
        "colab": {
          "base_uri": "https://localhost:8080/",
          "height": 0
        },
        "outputId": "0fb25c4e-8f02-4379-b483-528495905dc3"
      },
      "source": [
        "for all_data in combine:\r\n",
        "  all_data.loc[all_data['Alone']==0,'Alone'] = 0\r\n",
        "  all_data.loc[all_data['Alone']!=0,'Alone'] = 1\r\n",
        "\r\n",
        "train_df\r\n",
        "\r\n"
      ],
      "execution_count": 51,
      "outputs": [
        {
          "output_type": "execute_result",
          "data": {
            "text/html": [
              "<div>\n",
              "<style scoped>\n",
              "    .dataframe tbody tr th:only-of-type {\n",
              "        vertical-align: middle;\n",
              "    }\n",
              "\n",
              "    .dataframe tbody tr th {\n",
              "        vertical-align: top;\n",
              "    }\n",
              "\n",
              "    .dataframe thead th {\n",
              "        text-align: right;\n",
              "    }\n",
              "</style>\n",
              "<table border=\"1\" class=\"dataframe\">\n",
              "  <thead>\n",
              "    <tr style=\"text-align: right;\">\n",
              "      <th></th>\n",
              "      <th>PassengerId</th>\n",
              "      <th>Survived</th>\n",
              "      <th>Pclass</th>\n",
              "      <th>Name</th>\n",
              "      <th>Sex</th>\n",
              "      <th>Age</th>\n",
              "      <th>Fare</th>\n",
              "      <th>Cabin</th>\n",
              "      <th>Embarked</th>\n",
              "      <th>Alone</th>\n",
              "    </tr>\n",
              "  </thead>\n",
              "  <tbody>\n",
              "    <tr>\n",
              "      <th>0</th>\n",
              "      <td>1</td>\n",
              "      <td>0</td>\n",
              "      <td>3</td>\n",
              "      <td>0</td>\n",
              "      <td>0</td>\n",
              "      <td>1</td>\n",
              "      <td>7.2500</td>\n",
              "      <td>NaN</td>\n",
              "      <td>S</td>\n",
              "      <td>1</td>\n",
              "    </tr>\n",
              "    <tr>\n",
              "      <th>1</th>\n",
              "      <td>2</td>\n",
              "      <td>1</td>\n",
              "      <td>1</td>\n",
              "      <td>2</td>\n",
              "      <td>1</td>\n",
              "      <td>2</td>\n",
              "      <td>71.2833</td>\n",
              "      <td>C85</td>\n",
              "      <td>C</td>\n",
              "      <td>1</td>\n",
              "    </tr>\n",
              "    <tr>\n",
              "      <th>2</th>\n",
              "      <td>3</td>\n",
              "      <td>1</td>\n",
              "      <td>3</td>\n",
              "      <td>1</td>\n",
              "      <td>1</td>\n",
              "      <td>1</td>\n",
              "      <td>7.9250</td>\n",
              "      <td>NaN</td>\n",
              "      <td>S</td>\n",
              "      <td>0</td>\n",
              "    </tr>\n",
              "    <tr>\n",
              "      <th>3</th>\n",
              "      <td>4</td>\n",
              "      <td>1</td>\n",
              "      <td>1</td>\n",
              "      <td>2</td>\n",
              "      <td>1</td>\n",
              "      <td>2</td>\n",
              "      <td>53.1000</td>\n",
              "      <td>C123</td>\n",
              "      <td>S</td>\n",
              "      <td>1</td>\n",
              "    </tr>\n",
              "    <tr>\n",
              "      <th>4</th>\n",
              "      <td>5</td>\n",
              "      <td>0</td>\n",
              "      <td>3</td>\n",
              "      <td>0</td>\n",
              "      <td>0</td>\n",
              "      <td>2</td>\n",
              "      <td>8.0500</td>\n",
              "      <td>NaN</td>\n",
              "      <td>S</td>\n",
              "      <td>0</td>\n",
              "    </tr>\n",
              "    <tr>\n",
              "      <th>...</th>\n",
              "      <td>...</td>\n",
              "      <td>...</td>\n",
              "      <td>...</td>\n",
              "      <td>...</td>\n",
              "      <td>...</td>\n",
              "      <td>...</td>\n",
              "      <td>...</td>\n",
              "      <td>...</td>\n",
              "      <td>...</td>\n",
              "      <td>...</td>\n",
              "    </tr>\n",
              "    <tr>\n",
              "      <th>886</th>\n",
              "      <td>887</td>\n",
              "      <td>0</td>\n",
              "      <td>2</td>\n",
              "      <td>2</td>\n",
              "      <td>0</td>\n",
              "      <td>1</td>\n",
              "      <td>13.0000</td>\n",
              "      <td>NaN</td>\n",
              "      <td>S</td>\n",
              "      <td>0</td>\n",
              "    </tr>\n",
              "    <tr>\n",
              "      <th>887</th>\n",
              "      <td>888</td>\n",
              "      <td>1</td>\n",
              "      <td>1</td>\n",
              "      <td>4</td>\n",
              "      <td>1</td>\n",
              "      <td>1</td>\n",
              "      <td>30.0000</td>\n",
              "      <td>B42</td>\n",
              "      <td>S</td>\n",
              "      <td>0</td>\n",
              "    </tr>\n",
              "    <tr>\n",
              "      <th>888</th>\n",
              "      <td>889</td>\n",
              "      <td>0</td>\n",
              "      <td>3</td>\n",
              "      <td>1</td>\n",
              "      <td>1</td>\n",
              "      <td>1</td>\n",
              "      <td>23.4500</td>\n",
              "      <td>NaN</td>\n",
              "      <td>S</td>\n",
              "      <td>1</td>\n",
              "    </tr>\n",
              "    <tr>\n",
              "      <th>889</th>\n",
              "      <td>890</td>\n",
              "      <td>1</td>\n",
              "      <td>1</td>\n",
              "      <td>1</td>\n",
              "      <td>0</td>\n",
              "      <td>1</td>\n",
              "      <td>30.0000</td>\n",
              "      <td>C148</td>\n",
              "      <td>C</td>\n",
              "      <td>0</td>\n",
              "    </tr>\n",
              "    <tr>\n",
              "      <th>890</th>\n",
              "      <td>891</td>\n",
              "      <td>0</td>\n",
              "      <td>3</td>\n",
              "      <td>0</td>\n",
              "      <td>0</td>\n",
              "      <td>1</td>\n",
              "      <td>7.7500</td>\n",
              "      <td>NaN</td>\n",
              "      <td>Q</td>\n",
              "      <td>0</td>\n",
              "    </tr>\n",
              "  </tbody>\n",
              "</table>\n",
              "<p>891 rows × 10 columns</p>\n",
              "</div>"
            ],
            "text/plain": [
              "     PassengerId  Survived  Pclass  Name  ...     Fare  Cabin  Embarked Alone\n",
              "0              1         0       3     0  ...   7.2500    NaN         S     1\n",
              "1              2         1       1     2  ...  71.2833    C85         C     1\n",
              "2              3         1       3     1  ...   7.9250    NaN         S     0\n",
              "3              4         1       1     2  ...  53.1000   C123         S     1\n",
              "4              5         0       3     0  ...   8.0500    NaN         S     0\n",
              "..           ...       ...     ...   ...  ...      ...    ...       ...   ...\n",
              "886          887         0       2     2  ...  13.0000    NaN         S     0\n",
              "887          888         1       1     4  ...  30.0000    B42         S     0\n",
              "888          889         0       3     1  ...  23.4500    NaN         S     1\n",
              "889          890         1       1     1  ...  30.0000   C148         C     0\n",
              "890          891         0       3     0  ...   7.7500    NaN         Q     0\n",
              "\n",
              "[891 rows x 10 columns]"
            ]
          },
          "metadata": {
            "tags": []
          },
          "execution_count": 51
        }
      ]
    },
    {
      "cell_type": "code",
      "metadata": {
        "colab": {
          "base_uri": "https://localhost:8080/"
        },
        "id": "Uh0gd3TYXgrQ",
        "outputId": "dc37a9db-ff19-4c86-e8d1-e4313a009be4"
      },
      "source": [
        "train_df.info()"
      ],
      "execution_count": 52,
      "outputs": [
        {
          "output_type": "stream",
          "text": [
            "<class 'pandas.core.frame.DataFrame'>\n",
            "RangeIndex: 891 entries, 0 to 890\n",
            "Data columns (total 10 columns):\n",
            " #   Column       Non-Null Count  Dtype  \n",
            "---  ------       --------------  -----  \n",
            " 0   PassengerId  891 non-null    int64  \n",
            " 1   Survived     891 non-null    int64  \n",
            " 2   Pclass       891 non-null    int64  \n",
            " 3   Name         891 non-null    int64  \n",
            " 4   Sex          891 non-null    int64  \n",
            " 5   Age          891 non-null    int64  \n",
            " 6   Fare         891 non-null    float64\n",
            " 7   Cabin        204 non-null    object \n",
            " 8   Embarked     889 non-null    object \n",
            " 9   Alone        891 non-null    int64  \n",
            "dtypes: float64(1), int64(7), object(2)\n",
            "memory usage: 69.7+ KB\n"
          ],
          "name": "stdout"
        }
      ]
    },
    {
      "cell_type": "code",
      "metadata": {
        "colab": {
          "base_uri": "https://localhost:8080/"
        },
        "id": "dksVfIojXoWI",
        "outputId": "b4025fe3-cd49-4da1-9a8e-e55398f9993d"
      },
      "source": [
        "test_df.info()"
      ],
      "execution_count": 53,
      "outputs": [
        {
          "output_type": "stream",
          "text": [
            "<class 'pandas.core.frame.DataFrame'>\n",
            "RangeIndex: 418 entries, 0 to 417\n",
            "Data columns (total 9 columns):\n",
            " #   Column       Non-Null Count  Dtype  \n",
            "---  ------       --------------  -----  \n",
            " 0   PassengerId  418 non-null    int64  \n",
            " 1   Pclass       418 non-null    int64  \n",
            " 2   Name         418 non-null    int64  \n",
            " 3   Sex          418 non-null    int64  \n",
            " 4   Age          418 non-null    int64  \n",
            " 5   Fare         417 non-null    float64\n",
            " 6   Cabin        91 non-null     object \n",
            " 7   Embarked     418 non-null    object \n",
            " 8   Alone        418 non-null    int64  \n",
            "dtypes: float64(1), int64(6), object(2)\n",
            "memory usage: 29.5+ KB\n"
          ],
          "name": "stdout"
        }
      ]
    },
    {
      "cell_type": "markdown",
      "metadata": {
        "id": "lhiLK7_fYteh"
      },
      "source": [
        "## Fare 컬럼 전처리"
      ]
    },
    {
      "cell_type": "code",
      "metadata": {
        "colab": {
          "base_uri": "https://localhost:8080/"
        },
        "id": "u9OfZ1L1YtEy",
        "outputId": "5896c5fd-f7d3-49da-d064-87e1ebd4f22f"
      },
      "source": [
        "train_df['Fare'].head(15)"
      ],
      "execution_count": 54,
      "outputs": [
        {
          "output_type": "execute_result",
          "data": {
            "text/plain": [
              "0      7.2500\n",
              "1     71.2833\n",
              "2      7.9250\n",
              "3     53.1000\n",
              "4      8.0500\n",
              "5      8.4583\n",
              "6     51.8625\n",
              "7     21.0750\n",
              "8     11.1333\n",
              "9     30.0708\n",
              "10    16.7000\n",
              "11    26.5500\n",
              "12     8.0500\n",
              "13    31.2750\n",
              "14     7.8542\n",
              "Name: Fare, dtype: float64"
            ]
          },
          "metadata": {
            "tags": []
          },
          "execution_count": 54
        }
      ]
    },
    {
      "cell_type": "markdown",
      "metadata": {
        "id": "cBubSviaFbbi"
      },
      "source": [
        "Fare의 경우에는 1개의 결측값이 있어 중간값으로 채워주었다."
      ]
    },
    {
      "cell_type": "code",
      "metadata": {
        "id": "w96Yvw3TXom4",
        "colab": {
          "base_uri": "https://localhost:8080/"
        },
        "outputId": "005c04b3-168c-449b-a094-fbdeee9f9231"
      },
      "source": [
        "for total_df in combine:\r\n",
        "  total_df['Fare'] = total_df['Fare'].fillna(total_df['Fare'].median()).round()\r\n",
        "\r\n",
        "test_df['Fare']"
      ],
      "execution_count": 55,
      "outputs": [
        {
          "output_type": "execute_result",
          "data": {
            "text/plain": [
              "0        8.0\n",
              "1        7.0\n",
              "2       10.0\n",
              "3        9.0\n",
              "4       12.0\n",
              "       ...  \n",
              "413      8.0\n",
              "414    109.0\n",
              "415      7.0\n",
              "416      8.0\n",
              "417     22.0\n",
              "Name: Fare, Length: 418, dtype: float64"
            ]
          },
          "metadata": {
            "tags": []
          },
          "execution_count": 55
        }
      ]
    },
    {
      "cell_type": "code",
      "metadata": {
        "colab": {
          "base_uri": "https://localhost:8080/",
          "height": 0
        },
        "id": "FeCKSt9K588b",
        "outputId": "357028d4-b8da-4cc6-cb8b-bc32abf5d9e9"
      },
      "source": [
        "# train_df[['Fare','Survived']].groupby('Fare',as_index = False).mean().tail(20)\r\n",
        "# train_df[['Fare','Survived']].groupby('Fare',as_index = False).count().tail(20)\r\n",
        "train_df[['Fare','Survived']].groupby('Fare',as_index = False).mean().tail(20)"
      ],
      "execution_count": 56,
      "outputs": [
        {
          "output_type": "execute_result",
          "data": {
            "text/html": [
              "<div>\n",
              "<style scoped>\n",
              "    .dataframe tbody tr th:only-of-type {\n",
              "        vertical-align: middle;\n",
              "    }\n",
              "\n",
              "    .dataframe tbody tr th {\n",
              "        vertical-align: top;\n",
              "    }\n",
              "\n",
              "    .dataframe thead th {\n",
              "        text-align: right;\n",
              "    }\n",
              "</style>\n",
              "<table border=\"1\" class=\"dataframe\">\n",
              "  <thead>\n",
              "    <tr style=\"text-align: right;\">\n",
              "      <th></th>\n",
              "      <th>Fare</th>\n",
              "      <th>Survived</th>\n",
              "    </tr>\n",
              "  </thead>\n",
              "  <tbody>\n",
              "    <tr>\n",
              "      <th>70</th>\n",
              "      <td>94.0</td>\n",
              "      <td>1.000000</td>\n",
              "    </tr>\n",
              "    <tr>\n",
              "      <th>71</th>\n",
              "      <td>106.0</td>\n",
              "      <td>0.500000</td>\n",
              "    </tr>\n",
              "    <tr>\n",
              "      <th>72</th>\n",
              "      <td>109.0</td>\n",
              "      <td>0.500000</td>\n",
              "    </tr>\n",
              "    <tr>\n",
              "      <th>73</th>\n",
              "      <td>111.0</td>\n",
              "      <td>0.750000</td>\n",
              "    </tr>\n",
              "    <tr>\n",
              "      <th>74</th>\n",
              "      <td>113.0</td>\n",
              "      <td>0.666667</td>\n",
              "    </tr>\n",
              "    <tr>\n",
              "      <th>75</th>\n",
              "      <td>120.0</td>\n",
              "      <td>1.000000</td>\n",
              "    </tr>\n",
              "    <tr>\n",
              "      <th>76</th>\n",
              "      <td>134.0</td>\n",
              "      <td>1.000000</td>\n",
              "    </tr>\n",
              "    <tr>\n",
              "      <th>77</th>\n",
              "      <td>136.0</td>\n",
              "      <td>0.666667</td>\n",
              "    </tr>\n",
              "    <tr>\n",
              "      <th>78</th>\n",
              "      <td>147.0</td>\n",
              "      <td>1.000000</td>\n",
              "    </tr>\n",
              "    <tr>\n",
              "      <th>79</th>\n",
              "      <td>152.0</td>\n",
              "      <td>0.500000</td>\n",
              "    </tr>\n",
              "    <tr>\n",
              "      <th>80</th>\n",
              "      <td>153.0</td>\n",
              "      <td>0.666667</td>\n",
              "    </tr>\n",
              "    <tr>\n",
              "      <th>81</th>\n",
              "      <td>165.0</td>\n",
              "      <td>1.000000</td>\n",
              "    </tr>\n",
              "    <tr>\n",
              "      <th>82</th>\n",
              "      <td>211.0</td>\n",
              "      <td>1.000000</td>\n",
              "    </tr>\n",
              "    <tr>\n",
              "      <th>83</th>\n",
              "      <td>212.0</td>\n",
              "      <td>0.000000</td>\n",
              "    </tr>\n",
              "    <tr>\n",
              "      <th>84</th>\n",
              "      <td>222.0</td>\n",
              "      <td>0.000000</td>\n",
              "    </tr>\n",
              "    <tr>\n",
              "      <th>85</th>\n",
              "      <td>228.0</td>\n",
              "      <td>0.750000</td>\n",
              "    </tr>\n",
              "    <tr>\n",
              "      <th>86</th>\n",
              "      <td>248.0</td>\n",
              "      <td>0.500000</td>\n",
              "    </tr>\n",
              "    <tr>\n",
              "      <th>87</th>\n",
              "      <td>262.0</td>\n",
              "      <td>1.000000</td>\n",
              "    </tr>\n",
              "    <tr>\n",
              "      <th>88</th>\n",
              "      <td>263.0</td>\n",
              "      <td>0.500000</td>\n",
              "    </tr>\n",
              "    <tr>\n",
              "      <th>89</th>\n",
              "      <td>512.0</td>\n",
              "      <td>1.000000</td>\n",
              "    </tr>\n",
              "  </tbody>\n",
              "</table>\n",
              "</div>"
            ],
            "text/plain": [
              "     Fare  Survived\n",
              "70   94.0  1.000000\n",
              "71  106.0  0.500000\n",
              "72  109.0  0.500000\n",
              "73  111.0  0.750000\n",
              "74  113.0  0.666667\n",
              "75  120.0  1.000000\n",
              "76  134.0  1.000000\n",
              "77  136.0  0.666667\n",
              "78  147.0  1.000000\n",
              "79  152.0  0.500000\n",
              "80  153.0  0.666667\n",
              "81  165.0  1.000000\n",
              "82  211.0  1.000000\n",
              "83  212.0  0.000000\n",
              "84  222.0  0.000000\n",
              "85  228.0  0.750000\n",
              "86  248.0  0.500000\n",
              "87  262.0  1.000000\n",
              "88  263.0  0.500000\n",
              "89  512.0  1.000000"
            ]
          },
          "metadata": {
            "tags": []
          },
          "execution_count": 56
        }
      ]
    },
    {
      "cell_type": "code",
      "metadata": {
        "colab": {
          "base_uri": "https://localhost:8080/"
        },
        "id": "rjsPHAaFCa7i",
        "outputId": "992972b4-f5d1-44ba-d24e-40b7a86efecd"
      },
      "source": [
        "train_df.info()"
      ],
      "execution_count": 57,
      "outputs": [
        {
          "output_type": "stream",
          "text": [
            "<class 'pandas.core.frame.DataFrame'>\n",
            "RangeIndex: 891 entries, 0 to 890\n",
            "Data columns (total 10 columns):\n",
            " #   Column       Non-Null Count  Dtype  \n",
            "---  ------       --------------  -----  \n",
            " 0   PassengerId  891 non-null    int64  \n",
            " 1   Survived     891 non-null    int64  \n",
            " 2   Pclass       891 non-null    int64  \n",
            " 3   Name         891 non-null    int64  \n",
            " 4   Sex          891 non-null    int64  \n",
            " 5   Age          891 non-null    int64  \n",
            " 6   Fare         891 non-null    float64\n",
            " 7   Cabin        204 non-null    object \n",
            " 8   Embarked     889 non-null    object \n",
            " 9   Alone        891 non-null    int64  \n",
            "dtypes: float64(1), int64(7), object(2)\n",
            "memory usage: 69.7+ KB\n"
          ],
          "name": "stdout"
        }
      ]
    },
    {
      "cell_type": "code",
      "metadata": {
        "id": "pEGWbSwI2nDD"
      },
      "source": [
        "#for total_df in combine:\r\n",
        "#  total_df['Fare'] = pd.qcut(total_df['Fare'],4).astype\r\n",
        "  \r\n",
        "\r\n",
        "#train_df  \r\n",
        "#test_df"
      ],
      "execution_count": 58,
      "outputs": []
    },
    {
      "cell_type": "code",
      "metadata": {
        "id": "3qqnQxcr9BXh"
      },
      "source": [
        "#train_df['Fare'].unique()"
      ],
      "execution_count": 59,
      "outputs": []
    },
    {
      "cell_type": "code",
      "metadata": {
        "id": "5VojPC-j-Zxn"
      },
      "source": [
        "#test_df['Fare'].unique()"
      ],
      "execution_count": 60,
      "outputs": []
    },
    {
      "cell_type": "markdown",
      "metadata": {
        "id": "xwwhtNXJ-e1j"
      },
      "source": [
        "높은 Fare의 분포가 현저히 작으므로 pd.cut을 통한 일정한 간격보다는 pd.qcut을 통해 같은 인원수로 묶어주었다. "
      ]
    },
    {
      "cell_type": "code",
      "metadata": {
        "colab": {
          "base_uri": "https://localhost:8080/"
        },
        "id": "fXK8xD6NKxWP",
        "outputId": "bb215661-240d-400b-826b-2f020734255a"
      },
      "source": [
        "train_df.info()"
      ],
      "execution_count": 61,
      "outputs": [
        {
          "output_type": "stream",
          "text": [
            "<class 'pandas.core.frame.DataFrame'>\n",
            "RangeIndex: 891 entries, 0 to 890\n",
            "Data columns (total 10 columns):\n",
            " #   Column       Non-Null Count  Dtype  \n",
            "---  ------       --------------  -----  \n",
            " 0   PassengerId  891 non-null    int64  \n",
            " 1   Survived     891 non-null    int64  \n",
            " 2   Pclass       891 non-null    int64  \n",
            " 3   Name         891 non-null    int64  \n",
            " 4   Sex          891 non-null    int64  \n",
            " 5   Age          891 non-null    int64  \n",
            " 6   Fare         891 non-null    float64\n",
            " 7   Cabin        204 non-null    object \n",
            " 8   Embarked     889 non-null    object \n",
            " 9   Alone        891 non-null    int64  \n",
            "dtypes: float64(1), int64(7), object(2)\n",
            "memory usage: 69.7+ KB\n"
          ],
          "name": "stdout"
        }
      ]
    },
    {
      "cell_type": "code",
      "metadata": {
        "colab": {
          "base_uri": "https://localhost:8080/"
        },
        "id": "UBz_izZsK1py",
        "outputId": "59a8be50-4efd-472f-b833-d9ca8f4524ba"
      },
      "source": [
        "test_df.info()"
      ],
      "execution_count": 62,
      "outputs": [
        {
          "output_type": "stream",
          "text": [
            "<class 'pandas.core.frame.DataFrame'>\n",
            "RangeIndex: 418 entries, 0 to 417\n",
            "Data columns (total 9 columns):\n",
            " #   Column       Non-Null Count  Dtype  \n",
            "---  ------       --------------  -----  \n",
            " 0   PassengerId  418 non-null    int64  \n",
            " 1   Pclass       418 non-null    int64  \n",
            " 2   Name         418 non-null    int64  \n",
            " 3   Sex          418 non-null    int64  \n",
            " 4   Age          418 non-null    int64  \n",
            " 5   Fare         418 non-null    float64\n",
            " 6   Cabin        91 non-null     object \n",
            " 7   Embarked     418 non-null    object \n",
            " 8   Alone        418 non-null    int64  \n",
            "dtypes: float64(1), int64(6), object(2)\n",
            "memory usage: 29.5+ KB\n"
          ],
          "name": "stdout"
        }
      ]
    },
    {
      "cell_type": "markdown",
      "metadata": {
        "id": "XMxAyLPALTh-"
      },
      "source": [
        "categorical데이터는 연산이 안되어 다음과 같은 방법으로 바꾸어 주었다."
      ]
    },
    {
      "cell_type": "code",
      "metadata": {
        "colab": {
          "base_uri": "https://localhost:8080/",
          "height": 0
        },
        "id": "bijAG50U-bRX",
        "outputId": "ac8dbb84-0382-4baf-b1d8-3c00174c8bde"
      },
      "source": [
        "for total_df in combine:\r\n",
        "  total_df.loc[total_df['Fare'] <= 8.0 ,'Fare'] = 0\r\n",
        "  total_df.loc[(total_df['Fare'] > 8.0) & (total_df['Fare'] <= 14.0) ,'Fare'] = 1\r\n",
        "  total_df.loc[(total_df['Fare'] > 14.0) & (total_df['Fare'] <= 31.75),'Fare'] = 2\r\n",
        "  total_df.loc[(total_df['Fare'] > 31.75) & (total_df['Fare'] <= 512.0),'Fare'] = 3\r\n",
        "\r\n",
        "  total_df['Fare'] = total_df['Fare'].astype(int)\r\n",
        "  \r\n",
        "train_df.head()"
      ],
      "execution_count": 63,
      "outputs": [
        {
          "output_type": "execute_result",
          "data": {
            "text/html": [
              "<div>\n",
              "<style scoped>\n",
              "    .dataframe tbody tr th:only-of-type {\n",
              "        vertical-align: middle;\n",
              "    }\n",
              "\n",
              "    .dataframe tbody tr th {\n",
              "        vertical-align: top;\n",
              "    }\n",
              "\n",
              "    .dataframe thead th {\n",
              "        text-align: right;\n",
              "    }\n",
              "</style>\n",
              "<table border=\"1\" class=\"dataframe\">\n",
              "  <thead>\n",
              "    <tr style=\"text-align: right;\">\n",
              "      <th></th>\n",
              "      <th>PassengerId</th>\n",
              "      <th>Survived</th>\n",
              "      <th>Pclass</th>\n",
              "      <th>Name</th>\n",
              "      <th>Sex</th>\n",
              "      <th>Age</th>\n",
              "      <th>Fare</th>\n",
              "      <th>Cabin</th>\n",
              "      <th>Embarked</th>\n",
              "      <th>Alone</th>\n",
              "    </tr>\n",
              "  </thead>\n",
              "  <tbody>\n",
              "    <tr>\n",
              "      <th>0</th>\n",
              "      <td>1</td>\n",
              "      <td>0</td>\n",
              "      <td>3</td>\n",
              "      <td>0</td>\n",
              "      <td>0</td>\n",
              "      <td>1</td>\n",
              "      <td>0</td>\n",
              "      <td>NaN</td>\n",
              "      <td>S</td>\n",
              "      <td>1</td>\n",
              "    </tr>\n",
              "    <tr>\n",
              "      <th>1</th>\n",
              "      <td>2</td>\n",
              "      <td>1</td>\n",
              "      <td>1</td>\n",
              "      <td>2</td>\n",
              "      <td>1</td>\n",
              "      <td>2</td>\n",
              "      <td>3</td>\n",
              "      <td>C85</td>\n",
              "      <td>C</td>\n",
              "      <td>1</td>\n",
              "    </tr>\n",
              "    <tr>\n",
              "      <th>2</th>\n",
              "      <td>3</td>\n",
              "      <td>1</td>\n",
              "      <td>3</td>\n",
              "      <td>1</td>\n",
              "      <td>1</td>\n",
              "      <td>1</td>\n",
              "      <td>0</td>\n",
              "      <td>NaN</td>\n",
              "      <td>S</td>\n",
              "      <td>0</td>\n",
              "    </tr>\n",
              "    <tr>\n",
              "      <th>3</th>\n",
              "      <td>4</td>\n",
              "      <td>1</td>\n",
              "      <td>1</td>\n",
              "      <td>2</td>\n",
              "      <td>1</td>\n",
              "      <td>2</td>\n",
              "      <td>3</td>\n",
              "      <td>C123</td>\n",
              "      <td>S</td>\n",
              "      <td>1</td>\n",
              "    </tr>\n",
              "    <tr>\n",
              "      <th>4</th>\n",
              "      <td>5</td>\n",
              "      <td>0</td>\n",
              "      <td>3</td>\n",
              "      <td>0</td>\n",
              "      <td>0</td>\n",
              "      <td>2</td>\n",
              "      <td>0</td>\n",
              "      <td>NaN</td>\n",
              "      <td>S</td>\n",
              "      <td>0</td>\n",
              "    </tr>\n",
              "  </tbody>\n",
              "</table>\n",
              "</div>"
            ],
            "text/plain": [
              "   PassengerId  Survived  Pclass  Name  Sex  Age  Fare Cabin Embarked  Alone\n",
              "0            1         0       3     0    0    1     0   NaN        S      1\n",
              "1            2         1       1     2    1    2     3   C85        C      1\n",
              "2            3         1       3     1    1    1     0   NaN        S      0\n",
              "3            4         1       1     2    1    2     3  C123        S      1\n",
              "4            5         0       3     0    0    2     0   NaN        S      0"
            ]
          },
          "metadata": {
            "tags": []
          },
          "execution_count": 63
        }
      ]
    },
    {
      "cell_type": "code",
      "metadata": {
        "colab": {
          "base_uri": "https://localhost:8080/",
          "height": 0
        },
        "id": "2FMtdjsI_sm_",
        "outputId": "8db437ff-ae0c-4399-8374-eb6a588ef36e"
      },
      "source": [
        "train_df.head()"
      ],
      "execution_count": 64,
      "outputs": [
        {
          "output_type": "execute_result",
          "data": {
            "text/html": [
              "<div>\n",
              "<style scoped>\n",
              "    .dataframe tbody tr th:only-of-type {\n",
              "        vertical-align: middle;\n",
              "    }\n",
              "\n",
              "    .dataframe tbody tr th {\n",
              "        vertical-align: top;\n",
              "    }\n",
              "\n",
              "    .dataframe thead th {\n",
              "        text-align: right;\n",
              "    }\n",
              "</style>\n",
              "<table border=\"1\" class=\"dataframe\">\n",
              "  <thead>\n",
              "    <tr style=\"text-align: right;\">\n",
              "      <th></th>\n",
              "      <th>PassengerId</th>\n",
              "      <th>Survived</th>\n",
              "      <th>Pclass</th>\n",
              "      <th>Name</th>\n",
              "      <th>Sex</th>\n",
              "      <th>Age</th>\n",
              "      <th>Fare</th>\n",
              "      <th>Cabin</th>\n",
              "      <th>Embarked</th>\n",
              "      <th>Alone</th>\n",
              "    </tr>\n",
              "  </thead>\n",
              "  <tbody>\n",
              "    <tr>\n",
              "      <th>0</th>\n",
              "      <td>1</td>\n",
              "      <td>0</td>\n",
              "      <td>3</td>\n",
              "      <td>0</td>\n",
              "      <td>0</td>\n",
              "      <td>1</td>\n",
              "      <td>0</td>\n",
              "      <td>NaN</td>\n",
              "      <td>S</td>\n",
              "      <td>1</td>\n",
              "    </tr>\n",
              "    <tr>\n",
              "      <th>1</th>\n",
              "      <td>2</td>\n",
              "      <td>1</td>\n",
              "      <td>1</td>\n",
              "      <td>2</td>\n",
              "      <td>1</td>\n",
              "      <td>2</td>\n",
              "      <td>3</td>\n",
              "      <td>C85</td>\n",
              "      <td>C</td>\n",
              "      <td>1</td>\n",
              "    </tr>\n",
              "    <tr>\n",
              "      <th>2</th>\n",
              "      <td>3</td>\n",
              "      <td>1</td>\n",
              "      <td>3</td>\n",
              "      <td>1</td>\n",
              "      <td>1</td>\n",
              "      <td>1</td>\n",
              "      <td>0</td>\n",
              "      <td>NaN</td>\n",
              "      <td>S</td>\n",
              "      <td>0</td>\n",
              "    </tr>\n",
              "    <tr>\n",
              "      <th>3</th>\n",
              "      <td>4</td>\n",
              "      <td>1</td>\n",
              "      <td>1</td>\n",
              "      <td>2</td>\n",
              "      <td>1</td>\n",
              "      <td>2</td>\n",
              "      <td>3</td>\n",
              "      <td>C123</td>\n",
              "      <td>S</td>\n",
              "      <td>1</td>\n",
              "    </tr>\n",
              "    <tr>\n",
              "      <th>4</th>\n",
              "      <td>5</td>\n",
              "      <td>0</td>\n",
              "      <td>3</td>\n",
              "      <td>0</td>\n",
              "      <td>0</td>\n",
              "      <td>2</td>\n",
              "      <td>0</td>\n",
              "      <td>NaN</td>\n",
              "      <td>S</td>\n",
              "      <td>0</td>\n",
              "    </tr>\n",
              "  </tbody>\n",
              "</table>\n",
              "</div>"
            ],
            "text/plain": [
              "   PassengerId  Survived  Pclass  Name  Sex  Age  Fare Cabin Embarked  Alone\n",
              "0            1         0       3     0    0    1     0   NaN        S      1\n",
              "1            2         1       1     2    1    2     3   C85        C      1\n",
              "2            3         1       3     1    1    1     0   NaN        S      0\n",
              "3            4         1       1     2    1    2     3  C123        S      1\n",
              "4            5         0       3     0    0    2     0   NaN        S      0"
            ]
          },
          "metadata": {
            "tags": []
          },
          "execution_count": 64
        }
      ]
    },
    {
      "cell_type": "code",
      "metadata": {
        "colab": {
          "base_uri": "https://localhost:8080/",
          "height": 0
        },
        "id": "lzpbuVAKCFTI",
        "outputId": "1cc343a3-592c-4556-c0c0-57e6df5abc8e"
      },
      "source": [
        "test_df.head()"
      ],
      "execution_count": 65,
      "outputs": [
        {
          "output_type": "execute_result",
          "data": {
            "text/html": [
              "<div>\n",
              "<style scoped>\n",
              "    .dataframe tbody tr th:only-of-type {\n",
              "        vertical-align: middle;\n",
              "    }\n",
              "\n",
              "    .dataframe tbody tr th {\n",
              "        vertical-align: top;\n",
              "    }\n",
              "\n",
              "    .dataframe thead th {\n",
              "        text-align: right;\n",
              "    }\n",
              "</style>\n",
              "<table border=\"1\" class=\"dataframe\">\n",
              "  <thead>\n",
              "    <tr style=\"text-align: right;\">\n",
              "      <th></th>\n",
              "      <th>PassengerId</th>\n",
              "      <th>Pclass</th>\n",
              "      <th>Name</th>\n",
              "      <th>Sex</th>\n",
              "      <th>Age</th>\n",
              "      <th>Fare</th>\n",
              "      <th>Cabin</th>\n",
              "      <th>Embarked</th>\n",
              "      <th>Alone</th>\n",
              "    </tr>\n",
              "  </thead>\n",
              "  <tbody>\n",
              "    <tr>\n",
              "      <th>0</th>\n",
              "      <td>892</td>\n",
              "      <td>3</td>\n",
              "      <td>0</td>\n",
              "      <td>0</td>\n",
              "      <td>2</td>\n",
              "      <td>0</td>\n",
              "      <td>NaN</td>\n",
              "      <td>Q</td>\n",
              "      <td>0</td>\n",
              "    </tr>\n",
              "    <tr>\n",
              "      <th>1</th>\n",
              "      <td>893</td>\n",
              "      <td>3</td>\n",
              "      <td>2</td>\n",
              "      <td>1</td>\n",
              "      <td>3</td>\n",
              "      <td>0</td>\n",
              "      <td>NaN</td>\n",
              "      <td>S</td>\n",
              "      <td>1</td>\n",
              "    </tr>\n",
              "    <tr>\n",
              "      <th>2</th>\n",
              "      <td>894</td>\n",
              "      <td>2</td>\n",
              "      <td>0</td>\n",
              "      <td>0</td>\n",
              "      <td>4</td>\n",
              "      <td>1</td>\n",
              "      <td>NaN</td>\n",
              "      <td>Q</td>\n",
              "      <td>0</td>\n",
              "    </tr>\n",
              "    <tr>\n",
              "      <th>3</th>\n",
              "      <td>895</td>\n",
              "      <td>3</td>\n",
              "      <td>0</td>\n",
              "      <td>0</td>\n",
              "      <td>1</td>\n",
              "      <td>1</td>\n",
              "      <td>NaN</td>\n",
              "      <td>S</td>\n",
              "      <td>0</td>\n",
              "    </tr>\n",
              "    <tr>\n",
              "      <th>4</th>\n",
              "      <td>896</td>\n",
              "      <td>3</td>\n",
              "      <td>2</td>\n",
              "      <td>1</td>\n",
              "      <td>1</td>\n",
              "      <td>1</td>\n",
              "      <td>NaN</td>\n",
              "      <td>S</td>\n",
              "      <td>1</td>\n",
              "    </tr>\n",
              "  </tbody>\n",
              "</table>\n",
              "</div>"
            ],
            "text/plain": [
              "   PassengerId  Pclass  Name  Sex  Age  Fare Cabin Embarked  Alone\n",
              "0          892       3     0    0    2     0   NaN        Q      0\n",
              "1          893       3     2    1    3     0   NaN        S      1\n",
              "2          894       2     0    0    4     1   NaN        Q      0\n",
              "3          895       3     0    0    1     1   NaN        S      0\n",
              "4          896       3     2    1    1     1   NaN        S      1"
            ]
          },
          "metadata": {
            "tags": []
          },
          "execution_count": 65
        }
      ]
    },
    {
      "cell_type": "code",
      "metadata": {
        "colab": {
          "base_uri": "https://localhost:8080/"
        },
        "id": "FmbyAlLOCHoX",
        "outputId": "10ca1b42-508a-4191-9e31-358e89a7c880"
      },
      "source": [
        "train_df.info()"
      ],
      "execution_count": 66,
      "outputs": [
        {
          "output_type": "stream",
          "text": [
            "<class 'pandas.core.frame.DataFrame'>\n",
            "RangeIndex: 891 entries, 0 to 890\n",
            "Data columns (total 10 columns):\n",
            " #   Column       Non-Null Count  Dtype \n",
            "---  ------       --------------  ----- \n",
            " 0   PassengerId  891 non-null    int64 \n",
            " 1   Survived     891 non-null    int64 \n",
            " 2   Pclass       891 non-null    int64 \n",
            " 3   Name         891 non-null    int64 \n",
            " 4   Sex          891 non-null    int64 \n",
            " 5   Age          891 non-null    int64 \n",
            " 6   Fare         891 non-null    int64 \n",
            " 7   Cabin        204 non-null    object\n",
            " 8   Embarked     889 non-null    object\n",
            " 9   Alone        891 non-null    int64 \n",
            "dtypes: int64(8), object(2)\n",
            "memory usage: 69.7+ KB\n"
          ],
          "name": "stdout"
        }
      ]
    },
    {
      "cell_type": "code",
      "metadata": {
        "colab": {
          "base_uri": "https://localhost:8080/"
        },
        "id": "niLb4vbWCKmQ",
        "outputId": "08a48622-b577-4003-c43e-17c4904af8f4"
      },
      "source": [
        "test_df.info()"
      ],
      "execution_count": 67,
      "outputs": [
        {
          "output_type": "stream",
          "text": [
            "<class 'pandas.core.frame.DataFrame'>\n",
            "RangeIndex: 418 entries, 0 to 417\n",
            "Data columns (total 9 columns):\n",
            " #   Column       Non-Null Count  Dtype \n",
            "---  ------       --------------  ----- \n",
            " 0   PassengerId  418 non-null    int64 \n",
            " 1   Pclass       418 non-null    int64 \n",
            " 2   Name         418 non-null    int64 \n",
            " 3   Sex          418 non-null    int64 \n",
            " 4   Age          418 non-null    int64 \n",
            " 5   Fare         418 non-null    int64 \n",
            " 6   Cabin        91 non-null     object\n",
            " 7   Embarked     418 non-null    object\n",
            " 8   Alone        418 non-null    int64 \n",
            "dtypes: int64(7), object(2)\n",
            "memory usage: 29.5+ KB\n"
          ],
          "name": "stdout"
        }
      ]
    },
    {
      "cell_type": "markdown",
      "metadata": {
        "id": "gHy5Bw4ZEXXV"
      },
      "source": [
        "## Cabin 컬럼 전처리"
      ]
    },
    {
      "cell_type": "code",
      "metadata": {
        "colab": {
          "base_uri": "https://localhost:8080/",
          "height": 0
        },
        "id": "IP0ioqF4Iamx",
        "outputId": "e17cb5d2-e0cf-4018-9fe5-4834b97cbf26"
      },
      "source": [
        "for total_df in combine:\r\n",
        "  total_df = total_df.drop('Cabin', axis = 1, inplace = True)\r\n",
        "\r\n",
        "test_df"
      ],
      "execution_count": 68,
      "outputs": [
        {
          "output_type": "execute_result",
          "data": {
            "text/html": [
              "<div>\n",
              "<style scoped>\n",
              "    .dataframe tbody tr th:only-of-type {\n",
              "        vertical-align: middle;\n",
              "    }\n",
              "\n",
              "    .dataframe tbody tr th {\n",
              "        vertical-align: top;\n",
              "    }\n",
              "\n",
              "    .dataframe thead th {\n",
              "        text-align: right;\n",
              "    }\n",
              "</style>\n",
              "<table border=\"1\" class=\"dataframe\">\n",
              "  <thead>\n",
              "    <tr style=\"text-align: right;\">\n",
              "      <th></th>\n",
              "      <th>PassengerId</th>\n",
              "      <th>Pclass</th>\n",
              "      <th>Name</th>\n",
              "      <th>Sex</th>\n",
              "      <th>Age</th>\n",
              "      <th>Fare</th>\n",
              "      <th>Embarked</th>\n",
              "      <th>Alone</th>\n",
              "    </tr>\n",
              "  </thead>\n",
              "  <tbody>\n",
              "    <tr>\n",
              "      <th>0</th>\n",
              "      <td>892</td>\n",
              "      <td>3</td>\n",
              "      <td>0</td>\n",
              "      <td>0</td>\n",
              "      <td>2</td>\n",
              "      <td>0</td>\n",
              "      <td>Q</td>\n",
              "      <td>0</td>\n",
              "    </tr>\n",
              "    <tr>\n",
              "      <th>1</th>\n",
              "      <td>893</td>\n",
              "      <td>3</td>\n",
              "      <td>2</td>\n",
              "      <td>1</td>\n",
              "      <td>3</td>\n",
              "      <td>0</td>\n",
              "      <td>S</td>\n",
              "      <td>1</td>\n",
              "    </tr>\n",
              "    <tr>\n",
              "      <th>2</th>\n",
              "      <td>894</td>\n",
              "      <td>2</td>\n",
              "      <td>0</td>\n",
              "      <td>0</td>\n",
              "      <td>4</td>\n",
              "      <td>1</td>\n",
              "      <td>Q</td>\n",
              "      <td>0</td>\n",
              "    </tr>\n",
              "    <tr>\n",
              "      <th>3</th>\n",
              "      <td>895</td>\n",
              "      <td>3</td>\n",
              "      <td>0</td>\n",
              "      <td>0</td>\n",
              "      <td>1</td>\n",
              "      <td>1</td>\n",
              "      <td>S</td>\n",
              "      <td>0</td>\n",
              "    </tr>\n",
              "    <tr>\n",
              "      <th>4</th>\n",
              "      <td>896</td>\n",
              "      <td>3</td>\n",
              "      <td>2</td>\n",
              "      <td>1</td>\n",
              "      <td>1</td>\n",
              "      <td>1</td>\n",
              "      <td>S</td>\n",
              "      <td>1</td>\n",
              "    </tr>\n",
              "    <tr>\n",
              "      <th>...</th>\n",
              "      <td>...</td>\n",
              "      <td>...</td>\n",
              "      <td>...</td>\n",
              "      <td>...</td>\n",
              "      <td>...</td>\n",
              "      <td>...</td>\n",
              "      <td>...</td>\n",
              "      <td>...</td>\n",
              "    </tr>\n",
              "    <tr>\n",
              "      <th>413</th>\n",
              "      <td>1305</td>\n",
              "      <td>3</td>\n",
              "      <td>0</td>\n",
              "      <td>0</td>\n",
              "      <td>1</td>\n",
              "      <td>0</td>\n",
              "      <td>S</td>\n",
              "      <td>0</td>\n",
              "    </tr>\n",
              "    <tr>\n",
              "      <th>414</th>\n",
              "      <td>1306</td>\n",
              "      <td>1</td>\n",
              "      <td>4</td>\n",
              "      <td>1</td>\n",
              "      <td>2</td>\n",
              "      <td>3</td>\n",
              "      <td>C</td>\n",
              "      <td>0</td>\n",
              "    </tr>\n",
              "    <tr>\n",
              "      <th>415</th>\n",
              "      <td>1307</td>\n",
              "      <td>3</td>\n",
              "      <td>0</td>\n",
              "      <td>0</td>\n",
              "      <td>2</td>\n",
              "      <td>0</td>\n",
              "      <td>S</td>\n",
              "      <td>0</td>\n",
              "    </tr>\n",
              "    <tr>\n",
              "      <th>416</th>\n",
              "      <td>1308</td>\n",
              "      <td>3</td>\n",
              "      <td>0</td>\n",
              "      <td>0</td>\n",
              "      <td>1</td>\n",
              "      <td>0</td>\n",
              "      <td>S</td>\n",
              "      <td>0</td>\n",
              "    </tr>\n",
              "    <tr>\n",
              "      <th>417</th>\n",
              "      <td>1309</td>\n",
              "      <td>3</td>\n",
              "      <td>3</td>\n",
              "      <td>0</td>\n",
              "      <td>1</td>\n",
              "      <td>2</td>\n",
              "      <td>C</td>\n",
              "      <td>1</td>\n",
              "    </tr>\n",
              "  </tbody>\n",
              "</table>\n",
              "<p>418 rows × 8 columns</p>\n",
              "</div>"
            ],
            "text/plain": [
              "     PassengerId  Pclass  Name  Sex  Age  Fare Embarked  Alone\n",
              "0            892       3     0    0    2     0        Q      0\n",
              "1            893       3     2    1    3     0        S      1\n",
              "2            894       2     0    0    4     1        Q      0\n",
              "3            895       3     0    0    1     1        S      0\n",
              "4            896       3     2    1    1     1        S      1\n",
              "..           ...     ...   ...  ...  ...   ...      ...    ...\n",
              "413         1305       3     0    0    1     0        S      0\n",
              "414         1306       1     4    1    2     3        C      0\n",
              "415         1307       3     0    0    2     0        S      0\n",
              "416         1308       3     0    0    1     0        S      0\n",
              "417         1309       3     3    0    1     2        C      1\n",
              "\n",
              "[418 rows x 8 columns]"
            ]
          },
          "metadata": {
            "tags": []
          },
          "execution_count": 68
        }
      ]
    },
    {
      "cell_type": "code",
      "metadata": {
        "colab": {
          "base_uri": "https://localhost:8080/"
        },
        "id": "qpeNv7c4JKon",
        "outputId": "07b46a24-821c-46bd-c081-05df23af2d0c"
      },
      "source": [
        "train_df.info()"
      ],
      "execution_count": 69,
      "outputs": [
        {
          "output_type": "stream",
          "text": [
            "<class 'pandas.core.frame.DataFrame'>\n",
            "RangeIndex: 891 entries, 0 to 890\n",
            "Data columns (total 9 columns):\n",
            " #   Column       Non-Null Count  Dtype \n",
            "---  ------       --------------  ----- \n",
            " 0   PassengerId  891 non-null    int64 \n",
            " 1   Survived     891 non-null    int64 \n",
            " 2   Pclass       891 non-null    int64 \n",
            " 3   Name         891 non-null    int64 \n",
            " 4   Sex          891 non-null    int64 \n",
            " 5   Age          891 non-null    int64 \n",
            " 6   Fare         891 non-null    int64 \n",
            " 7   Embarked     889 non-null    object\n",
            " 8   Alone        891 non-null    int64 \n",
            "dtypes: int64(8), object(1)\n",
            "memory usage: 62.8+ KB\n"
          ],
          "name": "stdout"
        }
      ]
    },
    {
      "cell_type": "code",
      "metadata": {
        "colab": {
          "base_uri": "https://localhost:8080/"
        },
        "id": "Gn-P7D3bdHFM",
        "outputId": "214b3c67-7a4c-46c5-96e3-331bdd4c3bde"
      },
      "source": [
        "test_df.info()"
      ],
      "execution_count": 70,
      "outputs": [
        {
          "output_type": "stream",
          "text": [
            "<class 'pandas.core.frame.DataFrame'>\n",
            "RangeIndex: 418 entries, 0 to 417\n",
            "Data columns (total 8 columns):\n",
            " #   Column       Non-Null Count  Dtype \n",
            "---  ------       --------------  ----- \n",
            " 0   PassengerId  418 non-null    int64 \n",
            " 1   Pclass       418 non-null    int64 \n",
            " 2   Name         418 non-null    int64 \n",
            " 3   Sex          418 non-null    int64 \n",
            " 4   Age          418 non-null    int64 \n",
            " 5   Fare         418 non-null    int64 \n",
            " 6   Embarked     418 non-null    object\n",
            " 7   Alone        418 non-null    int64 \n",
            "dtypes: int64(7), object(1)\n",
            "memory usage: 26.2+ KB\n"
          ],
          "name": "stdout"
        }
      ]
    },
    {
      "cell_type": "markdown",
      "metadata": {
        "id": "QiFx7G45JNx_"
      },
      "source": [
        "## Embarked 컬럼 전처리"
      ]
    },
    {
      "cell_type": "code",
      "metadata": {
        "colab": {
          "base_uri": "https://localhost:8080/"
        },
        "id": "Fap9L1F6JMyW",
        "outputId": "ded9608b-6d10-4256-8814-c7557bdfe194"
      },
      "source": [
        "train_df['Embarked'].mode()"
      ],
      "execution_count": 71,
      "outputs": [
        {
          "output_type": "execute_result",
          "data": {
            "text/plain": [
              "0    S\n",
              "dtype: object"
            ]
          },
          "metadata": {
            "tags": []
          },
          "execution_count": 71
        }
      ]
    },
    {
      "cell_type": "code",
      "metadata": {
        "colab": {
          "base_uri": "https://localhost:8080/"
        },
        "id": "GPR86fXxdalG",
        "outputId": "a7f9411f-32f1-4da3-d261-cbd72610e47c"
      },
      "source": [
        "train_df['Embarked'] = train_df['Embarked'].fillna('S')\r\n",
        "train_df.info()"
      ],
      "execution_count": 72,
      "outputs": [
        {
          "output_type": "stream",
          "text": [
            "<class 'pandas.core.frame.DataFrame'>\n",
            "RangeIndex: 891 entries, 0 to 890\n",
            "Data columns (total 9 columns):\n",
            " #   Column       Non-Null Count  Dtype \n",
            "---  ------       --------------  ----- \n",
            " 0   PassengerId  891 non-null    int64 \n",
            " 1   Survived     891 non-null    int64 \n",
            " 2   Pclass       891 non-null    int64 \n",
            " 3   Name         891 non-null    int64 \n",
            " 4   Sex          891 non-null    int64 \n",
            " 5   Age          891 non-null    int64 \n",
            " 6   Fare         891 non-null    int64 \n",
            " 7   Embarked     891 non-null    object\n",
            " 8   Alone        891 non-null    int64 \n",
            "dtypes: int64(8), object(1)\n",
            "memory usage: 62.8+ KB\n"
          ],
          "name": "stdout"
        }
      ]
    },
    {
      "cell_type": "code",
      "metadata": {
        "colab": {
          "base_uri": "https://localhost:8080/",
          "height": 0
        },
        "id": "YZRA7h1dduYG",
        "outputId": "8d7e6e38-5b7d-4f2d-a14c-9be6670327f4"
      },
      "source": [
        "embarked_mapping = {'S' : 0, 'C' : 1, 'Q' : 2}\r\n",
        "\r\n",
        "for total_df in combine:\r\n",
        "  total_df['Embarked'] = total_df['Embarked'].map(embarked_mapping).astype(int)\r\n",
        "\r\n",
        "train_df.head()"
      ],
      "execution_count": 73,
      "outputs": [
        {
          "output_type": "execute_result",
          "data": {
            "text/html": [
              "<div>\n",
              "<style scoped>\n",
              "    .dataframe tbody tr th:only-of-type {\n",
              "        vertical-align: middle;\n",
              "    }\n",
              "\n",
              "    .dataframe tbody tr th {\n",
              "        vertical-align: top;\n",
              "    }\n",
              "\n",
              "    .dataframe thead th {\n",
              "        text-align: right;\n",
              "    }\n",
              "</style>\n",
              "<table border=\"1\" class=\"dataframe\">\n",
              "  <thead>\n",
              "    <tr style=\"text-align: right;\">\n",
              "      <th></th>\n",
              "      <th>PassengerId</th>\n",
              "      <th>Survived</th>\n",
              "      <th>Pclass</th>\n",
              "      <th>Name</th>\n",
              "      <th>Sex</th>\n",
              "      <th>Age</th>\n",
              "      <th>Fare</th>\n",
              "      <th>Embarked</th>\n",
              "      <th>Alone</th>\n",
              "    </tr>\n",
              "  </thead>\n",
              "  <tbody>\n",
              "    <tr>\n",
              "      <th>0</th>\n",
              "      <td>1</td>\n",
              "      <td>0</td>\n",
              "      <td>3</td>\n",
              "      <td>0</td>\n",
              "      <td>0</td>\n",
              "      <td>1</td>\n",
              "      <td>0</td>\n",
              "      <td>0</td>\n",
              "      <td>1</td>\n",
              "    </tr>\n",
              "    <tr>\n",
              "      <th>1</th>\n",
              "      <td>2</td>\n",
              "      <td>1</td>\n",
              "      <td>1</td>\n",
              "      <td>2</td>\n",
              "      <td>1</td>\n",
              "      <td>2</td>\n",
              "      <td>3</td>\n",
              "      <td>1</td>\n",
              "      <td>1</td>\n",
              "    </tr>\n",
              "    <tr>\n",
              "      <th>2</th>\n",
              "      <td>3</td>\n",
              "      <td>1</td>\n",
              "      <td>3</td>\n",
              "      <td>1</td>\n",
              "      <td>1</td>\n",
              "      <td>1</td>\n",
              "      <td>0</td>\n",
              "      <td>0</td>\n",
              "      <td>0</td>\n",
              "    </tr>\n",
              "    <tr>\n",
              "      <th>3</th>\n",
              "      <td>4</td>\n",
              "      <td>1</td>\n",
              "      <td>1</td>\n",
              "      <td>2</td>\n",
              "      <td>1</td>\n",
              "      <td>2</td>\n",
              "      <td>3</td>\n",
              "      <td>0</td>\n",
              "      <td>1</td>\n",
              "    </tr>\n",
              "    <tr>\n",
              "      <th>4</th>\n",
              "      <td>5</td>\n",
              "      <td>0</td>\n",
              "      <td>3</td>\n",
              "      <td>0</td>\n",
              "      <td>0</td>\n",
              "      <td>2</td>\n",
              "      <td>0</td>\n",
              "      <td>0</td>\n",
              "      <td>0</td>\n",
              "    </tr>\n",
              "  </tbody>\n",
              "</table>\n",
              "</div>"
            ],
            "text/plain": [
              "   PassengerId  Survived  Pclass  Name  Sex  Age  Fare  Embarked  Alone\n",
              "0            1         0       3     0    0    1     0         0      1\n",
              "1            2         1       1     2    1    2     3         1      1\n",
              "2            3         1       3     1    1    1     0         0      0\n",
              "3            4         1       1     2    1    2     3         0      1\n",
              "4            5         0       3     0    0    2     0         0      0"
            ]
          },
          "metadata": {
            "tags": []
          },
          "execution_count": 73
        }
      ]
    },
    {
      "cell_type": "code",
      "metadata": {
        "colab": {
          "base_uri": "https://localhost:8080/"
        },
        "id": "eWAByT8Se1en",
        "outputId": "948c77b6-6461-453a-dbe7-5038c1570eac"
      },
      "source": [
        "train_df.info()"
      ],
      "execution_count": 74,
      "outputs": [
        {
          "output_type": "stream",
          "text": [
            "<class 'pandas.core.frame.DataFrame'>\n",
            "RangeIndex: 891 entries, 0 to 890\n",
            "Data columns (total 9 columns):\n",
            " #   Column       Non-Null Count  Dtype\n",
            "---  ------       --------------  -----\n",
            " 0   PassengerId  891 non-null    int64\n",
            " 1   Survived     891 non-null    int64\n",
            " 2   Pclass       891 non-null    int64\n",
            " 3   Name         891 non-null    int64\n",
            " 4   Sex          891 non-null    int64\n",
            " 5   Age          891 non-null    int64\n",
            " 6   Fare         891 non-null    int64\n",
            " 7   Embarked     891 non-null    int64\n",
            " 8   Alone        891 non-null    int64\n",
            "dtypes: int64(9)\n",
            "memory usage: 62.8 KB\n"
          ],
          "name": "stdout"
        }
      ]
    },
    {
      "cell_type": "code",
      "metadata": {
        "colab": {
          "base_uri": "https://localhost:8080/"
        },
        "id": "fjLQgH8ifJ2G",
        "outputId": "b0148bc7-87ca-452b-f2c8-6b8b4daabcb8"
      },
      "source": [
        "test_df.info()"
      ],
      "execution_count": 75,
      "outputs": [
        {
          "output_type": "stream",
          "text": [
            "<class 'pandas.core.frame.DataFrame'>\n",
            "RangeIndex: 418 entries, 0 to 417\n",
            "Data columns (total 8 columns):\n",
            " #   Column       Non-Null Count  Dtype\n",
            "---  ------       --------------  -----\n",
            " 0   PassengerId  418 non-null    int64\n",
            " 1   Pclass       418 non-null    int64\n",
            " 2   Name         418 non-null    int64\n",
            " 3   Sex          418 non-null    int64\n",
            " 4   Age          418 non-null    int64\n",
            " 5   Fare         418 non-null    int64\n",
            " 6   Embarked     418 non-null    int64\n",
            " 7   Alone        418 non-null    int64\n",
            "dtypes: int64(8)\n",
            "memory usage: 26.2 KB\n"
          ],
          "name": "stdout"
        }
      ]
    },
    {
      "cell_type": "markdown",
      "metadata": {
        "id": "Cm7wkPf8f2zu"
      },
      "source": [
        "전처리 이후 Fare의 시각화"
      ]
    },
    {
      "cell_type": "code",
      "metadata": {
        "colab": {
          "base_uri": "https://localhost:8080/",
          "height": 0
        },
        "id": "3a73cRV9fieq",
        "outputId": "3acfee7b-64b9-42a1-a822-90888b30fecd"
      },
      "source": [
        "sns.histplot(x = 'Fare', hue = 'Survived', data = train_df)\r\n",
        "# 더 정돈되게 시각화 하는 방법 찾기"
      ],
      "execution_count": 76,
      "outputs": [
        {
          "output_type": "execute_result",
          "data": {
            "text/plain": [
              "<matplotlib.axes._subplots.AxesSubplot at 0x7ff236f01650>"
            ]
          },
          "metadata": {
            "tags": []
          },
          "execution_count": 76
        },
        {
          "output_type": "display_data",
          "data": {
            "image/png": "[encoded data removed]",
            "text/plain": [
              "<Figure size 432x288 with 1 Axes>"
            ]
          },
          "metadata": {
            "tags": [],
            "needs_background": "light"
          }
        }
      ]
    },
    {
      "cell_type": "code",
      "metadata": {
        "id": "rvpdPZuqA7AV",
        "colab": {
          "base_uri": "https://localhost:8080/",
          "height": 0
        },
        "outputId": "3c6b0dd7-b304-4874-9790-f1b894ac9f2d"
      },
      "source": [
        "sns.barplot(x = 'Alone', y = 'Survived', data = train_df)"
      ],
      "execution_count": 77,
      "outputs": [
        {
          "output_type": "execute_result",
          "data": {
            "text/plain": [
              "<matplotlib.axes._subplots.AxesSubplot at 0x7ff236ef6f90>"
            ]
          },
          "metadata": {
            "tags": []
          },
          "execution_count": 77
        },
        {
          "output_type": "display_data",
          "data": {
            "image/png": "[encoded data removed]",
            "text/plain": [
              "<Figure size 432x288 with 1 Axes>"
            ]
          },
          "metadata": {
            "tags": [],
            "needs_background": "light"
          }
        }
      ]
    },
    {
      "cell_type": "code",
      "metadata": {
        "colab": {
          "base_uri": "https://localhost:8080/"
        },
        "id": "Ly-9BXX3fi27",
        "outputId": "6a748856-8d40-4dfa-80bd-c07428c7a98b"
      },
      "source": [
        "train_df.info()"
      ],
      "execution_count": 78,
      "outputs": [
        {
          "output_type": "stream",
          "text": [
            "<class 'pandas.core.frame.DataFrame'>\n",
            "RangeIndex: 891 entries, 0 to 890\n",
            "Data columns (total 9 columns):\n",
            " #   Column       Non-Null Count  Dtype\n",
            "---  ------       --------------  -----\n",
            " 0   PassengerId  891 non-null    int64\n",
            " 1   Survived     891 non-null    int64\n",
            " 2   Pclass       891 non-null    int64\n",
            " 3   Name         891 non-null    int64\n",
            " 4   Sex          891 non-null    int64\n",
            " 5   Age          891 non-null    int64\n",
            " 6   Fare         891 non-null    int64\n",
            " 7   Embarked     891 non-null    int64\n",
            " 8   Alone        891 non-null    int64\n",
            "dtypes: int64(9)\n",
            "memory usage: 62.8 KB\n"
          ],
          "name": "stdout"
        }
      ]
    },
    {
      "cell_type": "code",
      "metadata": {
        "colab": {
          "base_uri": "https://localhost:8080/",
          "height": 0
        },
        "id": "MHZ3fGR4fLyW",
        "outputId": "5fc988cb-6dba-40e5-b8e5-e163c22681a4"
      },
      "source": [
        "train_df.sample(10)"
      ],
      "execution_count": 79,
      "outputs": [
        {
          "output_type": "execute_result",
          "data": {
            "text/html": [
              "<div>\n",
              "<style scoped>\n",
              "    .dataframe tbody tr th:only-of-type {\n",
              "        vertical-align: middle;\n",
              "    }\n",
              "\n",
              "    .dataframe tbody tr th {\n",
              "        vertical-align: top;\n",
              "    }\n",
              "\n",
              "    .dataframe thead th {\n",
              "        text-align: right;\n",
              "    }\n",
              "</style>\n",
              "<table border=\"1\" class=\"dataframe\">\n",
              "  <thead>\n",
              "    <tr style=\"text-align: right;\">\n",
              "      <th></th>\n",
              "      <th>PassengerId</th>\n",
              "      <th>Survived</th>\n",
              "      <th>Pclass</th>\n",
              "      <th>Name</th>\n",
              "      <th>Sex</th>\n",
              "      <th>Age</th>\n",
              "      <th>Fare</th>\n",
              "      <th>Embarked</th>\n",
              "      <th>Alone</th>\n",
              "    </tr>\n",
              "  </thead>\n",
              "  <tbody>\n",
              "    <tr>\n",
              "      <th>740</th>\n",
              "      <td>741</td>\n",
              "      <td>1</td>\n",
              "      <td>1</td>\n",
              "      <td>0</td>\n",
              "      <td>0</td>\n",
              "      <td>2</td>\n",
              "      <td>2</td>\n",
              "      <td>0</td>\n",
              "      <td>0</td>\n",
              "    </tr>\n",
              "    <tr>\n",
              "      <th>139</th>\n",
              "      <td>140</td>\n",
              "      <td>0</td>\n",
              "      <td>1</td>\n",
              "      <td>0</td>\n",
              "      <td>0</td>\n",
              "      <td>1</td>\n",
              "      <td>3</td>\n",
              "      <td>1</td>\n",
              "      <td>0</td>\n",
              "    </tr>\n",
              "    <tr>\n",
              "      <th>620</th>\n",
              "      <td>621</td>\n",
              "      <td>0</td>\n",
              "      <td>3</td>\n",
              "      <td>0</td>\n",
              "      <td>0</td>\n",
              "      <td>1</td>\n",
              "      <td>1</td>\n",
              "      <td>1</td>\n",
              "      <td>1</td>\n",
              "    </tr>\n",
              "    <tr>\n",
              "      <th>662</th>\n",
              "      <td>663</td>\n",
              "      <td>0</td>\n",
              "      <td>1</td>\n",
              "      <td>0</td>\n",
              "      <td>0</td>\n",
              "      <td>2</td>\n",
              "      <td>2</td>\n",
              "      <td>0</td>\n",
              "      <td>0</td>\n",
              "    </tr>\n",
              "    <tr>\n",
              "      <th>567</th>\n",
              "      <td>568</td>\n",
              "      <td>0</td>\n",
              "      <td>3</td>\n",
              "      <td>0</td>\n",
              "      <td>1</td>\n",
              "      <td>1</td>\n",
              "      <td>2</td>\n",
              "      <td>0</td>\n",
              "      <td>1</td>\n",
              "    </tr>\n",
              "    <tr>\n",
              "      <th>760</th>\n",
              "      <td>761</td>\n",
              "      <td>0</td>\n",
              "      <td>3</td>\n",
              "      <td>4</td>\n",
              "      <td>0</td>\n",
              "      <td>1</td>\n",
              "      <td>1</td>\n",
              "      <td>0</td>\n",
              "      <td>0</td>\n",
              "    </tr>\n",
              "    <tr>\n",
              "      <th>881</th>\n",
              "      <td>882</td>\n",
              "      <td>0</td>\n",
              "      <td>3</td>\n",
              "      <td>2</td>\n",
              "      <td>0</td>\n",
              "      <td>2</td>\n",
              "      <td>0</td>\n",
              "      <td>0</td>\n",
              "      <td>0</td>\n",
              "    </tr>\n",
              "    <tr>\n",
              "      <th>759</th>\n",
              "      <td>760</td>\n",
              "      <td>1</td>\n",
              "      <td>1</td>\n",
              "      <td>0</td>\n",
              "      <td>1</td>\n",
              "      <td>2</td>\n",
              "      <td>3</td>\n",
              "      <td>0</td>\n",
              "      <td>0</td>\n",
              "    </tr>\n",
              "    <tr>\n",
              "      <th>537</th>\n",
              "      <td>538</td>\n",
              "      <td>1</td>\n",
              "      <td>1</td>\n",
              "      <td>4</td>\n",
              "      <td>1</td>\n",
              "      <td>1</td>\n",
              "      <td>3</td>\n",
              "      <td>1</td>\n",
              "      <td>0</td>\n",
              "    </tr>\n",
              "    <tr>\n",
              "      <th>169</th>\n",
              "      <td>170</td>\n",
              "      <td>0</td>\n",
              "      <td>3</td>\n",
              "      <td>0</td>\n",
              "      <td>0</td>\n",
              "      <td>1</td>\n",
              "      <td>3</td>\n",
              "      <td>0</td>\n",
              "      <td>0</td>\n",
              "    </tr>\n",
              "  </tbody>\n",
              "</table>\n",
              "</div>"
            ],
            "text/plain": [
              "     PassengerId  Survived  Pclass  Name  Sex  Age  Fare  Embarked  Alone\n",
              "740          741         1       1     0    0    2     2         0      0\n",
              "139          140         0       1     0    0    1     3         1      0\n",
              "620          621         0       3     0    0    1     1         1      1\n",
              "662          663         0       1     0    0    2     2         0      0\n",
              "567          568         0       3     0    1    1     2         0      1\n",
              "760          761         0       3     4    0    1     1         0      0\n",
              "881          882         0       3     2    0    2     0         0      0\n",
              "759          760         1       1     0    1    2     3         0      0\n",
              "537          538         1       1     4    1    1     3         1      0\n",
              "169          170         0       3     0    0    1     3         0      0"
            ]
          },
          "metadata": {
            "tags": []
          },
          "execution_count": 79
        }
      ]
    },
    {
      "cell_type": "code",
      "metadata": {
        "colab": {
          "base_uri": "https://localhost:8080/",
          "height": 0
        },
        "id": "TLKWY8HijX69",
        "outputId": "7066dc5d-73f6-4af1-9813-d55d4c0cbee0"
      },
      "source": [
        "test_df.sample(10)"
      ],
      "execution_count": 80,
      "outputs": [
        {
          "output_type": "execute_result",
          "data": {
            "text/html": [
              "<div>\n",
              "<style scoped>\n",
              "    .dataframe tbody tr th:only-of-type {\n",
              "        vertical-align: middle;\n",
              "    }\n",
              "\n",
              "    .dataframe tbody tr th {\n",
              "        vertical-align: top;\n",
              "    }\n",
              "\n",
              "    .dataframe thead th {\n",
              "        text-align: right;\n",
              "    }\n",
              "</style>\n",
              "<table border=\"1\" class=\"dataframe\">\n",
              "  <thead>\n",
              "    <tr style=\"text-align: right;\">\n",
              "      <th></th>\n",
              "      <th>PassengerId</th>\n",
              "      <th>Pclass</th>\n",
              "      <th>Name</th>\n",
              "      <th>Sex</th>\n",
              "      <th>Age</th>\n",
              "      <th>Fare</th>\n",
              "      <th>Embarked</th>\n",
              "      <th>Alone</th>\n",
              "    </tr>\n",
              "  </thead>\n",
              "  <tbody>\n",
              "    <tr>\n",
              "      <th>244</th>\n",
              "      <td>1136</td>\n",
              "      <td>3</td>\n",
              "      <td>3</td>\n",
              "      <td>0</td>\n",
              "      <td>1</td>\n",
              "      <td>2</td>\n",
              "      <td>0</td>\n",
              "      <td>1</td>\n",
              "    </tr>\n",
              "    <tr>\n",
              "      <th>305</th>\n",
              "      <td>1197</td>\n",
              "      <td>1</td>\n",
              "      <td>2</td>\n",
              "      <td>1</td>\n",
              "      <td>4</td>\n",
              "      <td>2</td>\n",
              "      <td>0</td>\n",
              "      <td>1</td>\n",
              "    </tr>\n",
              "    <tr>\n",
              "      <th>193</th>\n",
              "      <td>1085</td>\n",
              "      <td>2</td>\n",
              "      <td>0</td>\n",
              "      <td>0</td>\n",
              "      <td>4</td>\n",
              "      <td>1</td>\n",
              "      <td>2</td>\n",
              "      <td>0</td>\n",
              "    </tr>\n",
              "    <tr>\n",
              "      <th>291</th>\n",
              "      <td>1183</td>\n",
              "      <td>3</td>\n",
              "      <td>1</td>\n",
              "      <td>1</td>\n",
              "      <td>1</td>\n",
              "      <td>0</td>\n",
              "      <td>2</td>\n",
              "      <td>0</td>\n",
              "    </tr>\n",
              "    <tr>\n",
              "      <th>129</th>\n",
              "      <td>1021</td>\n",
              "      <td>3</td>\n",
              "      <td>0</td>\n",
              "      <td>0</td>\n",
              "      <td>1</td>\n",
              "      <td>0</td>\n",
              "      <td>0</td>\n",
              "      <td>0</td>\n",
              "    </tr>\n",
              "    <tr>\n",
              "      <th>202</th>\n",
              "      <td>1094</td>\n",
              "      <td>1</td>\n",
              "      <td>4</td>\n",
              "      <td>0</td>\n",
              "      <td>3</td>\n",
              "      <td>3</td>\n",
              "      <td>1</td>\n",
              "      <td>1</td>\n",
              "    </tr>\n",
              "    <tr>\n",
              "      <th>161</th>\n",
              "      <td>1053</td>\n",
              "      <td>3</td>\n",
              "      <td>3</td>\n",
              "      <td>0</td>\n",
              "      <td>0</td>\n",
              "      <td>2</td>\n",
              "      <td>1</td>\n",
              "      <td>1</td>\n",
              "    </tr>\n",
              "    <tr>\n",
              "      <th>321</th>\n",
              "      <td>1213</td>\n",
              "      <td>3</td>\n",
              "      <td>0</td>\n",
              "      <td>0</td>\n",
              "      <td>1</td>\n",
              "      <td>0</td>\n",
              "      <td>1</td>\n",
              "      <td>0</td>\n",
              "    </tr>\n",
              "    <tr>\n",
              "      <th>414</th>\n",
              "      <td>1306</td>\n",
              "      <td>1</td>\n",
              "      <td>4</td>\n",
              "      <td>1</td>\n",
              "      <td>2</td>\n",
              "      <td>3</td>\n",
              "      <td>1</td>\n",
              "      <td>0</td>\n",
              "    </tr>\n",
              "    <tr>\n",
              "      <th>308</th>\n",
              "      <td>1200</td>\n",
              "      <td>1</td>\n",
              "      <td>0</td>\n",
              "      <td>0</td>\n",
              "      <td>3</td>\n",
              "      <td>3</td>\n",
              "      <td>0</td>\n",
              "      <td>1</td>\n",
              "    </tr>\n",
              "  </tbody>\n",
              "</table>\n",
              "</div>"
            ],
            "text/plain": [
              "     PassengerId  Pclass  Name  Sex  Age  Fare  Embarked  Alone\n",
              "244         1136       3     3    0    1     2         0      1\n",
              "305         1197       1     2    1    4     2         0      1\n",
              "193         1085       2     0    0    4     1         2      0\n",
              "291         1183       3     1    1    1     0         2      0\n",
              "129         1021       3     0    0    1     0         0      0\n",
              "202         1094       1     4    0    3     3         1      1\n",
              "161         1053       3     3    0    0     2         1      1\n",
              "321         1213       3     0    0    1     0         1      0\n",
              "414         1306       1     4    1    2     3         1      0\n",
              "308         1200       1     0    0    3     3         0      1"
            ]
          },
          "metadata": {
            "tags": []
          },
          "execution_count": 80
        }
      ]
    },
    {
      "cell_type": "markdown",
      "metadata": {
        "id": "DYvTrrlAWoDa"
      },
      "source": [
        "# (02/14 수정)"
      ]
    },
    {
      "cell_type": "code",
      "metadata": {
        "id": "GXhKutjNTuej"
      },
      "source": [
        "# 요금과 탑승 장소는 상관관계가 없다고 판단\r\n",
        "# for total_data in combine:\r\n",
        "#   total_data = total_data.drop(['Fare', 'Embarked'], axis = 1,inplace = True)\r\n",
        "\r\n",
        "# train_df\r\n",
        "\r\n",
        "\r\n",
        "# 탑승장소만 상관이 없을 때\r\n",
        "# for total_data in combine:\r\n",
        "#   total_data = total_data.drop( 'Embarked', axis = 1,inplace = True)\r\n",
        "\r\n",
        "# train_df"
      ],
      "execution_count": 81,
      "outputs": []
    },
    {
      "cell_type": "code",
      "metadata": {
        "id": "zvIVqHaiTgh7",
        "colab": {
          "base_uri": "https://localhost:8080/",
          "height": 537
        },
        "outputId": "128152b6-0382-43dd-ed95-0c18a5736a4a"
      },
      "source": [
        "sns.heatmap(train_df.corr(),annot=True,cmap='RdYlGn') #data.corr()-->correlation matrix\r\n",
        "fig=plt.gcf()\r\n",
        "fig.set_size_inches(10,8)\r\n",
        "plt.show()\r\n"
      ],
      "execution_count": 82,
      "outputs": [
        {
          "output_type": "display_data",
          "data": {
            "image/png": "[encoded data removed]",
            "text/plain": [
              "<Figure size 720x576 with 2 Axes>"
            ]
          },
          "metadata": {
            "tags": [],
            "needs_background": "light"
          }
        }
      ]
    },
    {
      "cell_type": "markdown",
      "metadata": {
        "id": "eUeCxsp2xQMn"
      },
      "source": [
        "# 머신러닝을 통한 학습"
      ]
    },
    {
      "cell_type": "markdown",
      "metadata": {
        "id": "H1x1UDxYxWq9"
      },
      "source": [
        "## 간단한 설명\r\n",
        "머신러닝은 정말 많은 기법들이 있다. 그 중에서 이번 타이타닉 셋으로 이용할 수 있는 것으로 줄여보면 Classification(분류) 과 Regression(회귀) 그리고 Supervised(지도학습) 세가지의 교집합에 들어가는 기법들 중 가장 유리한 기법을 사용해야한다."
      ]
    },
    {
      "cell_type": "markdown",
      "metadata": {
        "id": "lS1n-hCExyRF"
      },
      "source": [
        "1. Logistic Regression\r\n",
        "2. KNN or K-Nearest Neighbors\r\n",
        "3. Support Vector Machines\r\n",
        "4. Decision Tree\r\n",
        "5. Random Forrest\r\n"
      ]
    },
    {
      "cell_type": "markdown",
      "metadata": {
        "id": "eU2cQvpO9eLh"
      },
      "source": [
        "## 1. Logistic Regression"
      ]
    },
    {
      "cell_type": "code",
      "metadata": {
        "id": "M6WkBUMUxWFo"
      },
      "source": [
        "from sklearn.linear_model import LogisticRegression\r\n",
        "from sklearn.svm import SVC, LinearSVC\r\n",
        "from sklearn.ensemble import RandomForestClassifier\r\n",
        "from sklearn.neighbors import KNeighborsClassifier\r\n",
        "from sklearn.naive_bayes import GaussianNB\r\n",
        "from sklearn.linear_model import Perceptron\r\n",
        "from sklearn.linear_model import SGDClassifier\r\n",
        "from sklearn.tree import DecisionTreeClassifier"
      ],
      "execution_count": 83,
      "outputs": []
    },
    {
      "cell_type": "code",
      "metadata": {
        "id": "3lmB2EXY-P--",
        "colab": {
          "base_uri": "https://localhost:8080/"
        },
        "outputId": "171d6c33-7b4a-4278-e637-1d0df39bffae"
      },
      "source": [
        "x_train = train_df.drop(['Survived','PassengerId'], axis = 1).copy()\r\n",
        "y_train = train_df['Survived']\r\n",
        "x_test = test_df.drop('PassengerId', axis = 1).copy()\r\n",
        "\r\n",
        "\r\n",
        "x_train.shape, y_train.shape, x_test.shape"
      ],
      "execution_count": 84,
      "outputs": [
        {
          "output_type": "execute_result",
          "data": {
            "text/plain": [
              "((891, 7), (891,), (418, 7))"
            ]
          },
          "metadata": {
            "tags": []
          },
          "execution_count": 84
        }
      ]
    },
    {
      "cell_type": "code",
      "metadata": {
        "id": "II-v0x0t-3p0",
        "colab": {
          "base_uri": "https://localhost:8080/",
          "height": 407
        },
        "outputId": "7f316294-4249-4ccf-aa0b-d91b28b5926a"
      },
      "source": [
        "x_train"
      ],
      "execution_count": 85,
      "outputs": [
        {
          "output_type": "execute_result",
          "data": {
            "text/html": [
              "<div>\n",
              "<style scoped>\n",
              "    .dataframe tbody tr th:only-of-type {\n",
              "        vertical-align: middle;\n",
              "    }\n",
              "\n",
              "    .dataframe tbody tr th {\n",
              "        vertical-align: top;\n",
              "    }\n",
              "\n",
              "    .dataframe thead th {\n",
              "        text-align: right;\n",
              "    }\n",
              "</style>\n",
              "<table border=\"1\" class=\"dataframe\">\n",
              "  <thead>\n",
              "    <tr style=\"text-align: right;\">\n",
              "      <th></th>\n",
              "      <th>Pclass</th>\n",
              "      <th>Name</th>\n",
              "      <th>Sex</th>\n",
              "      <th>Age</th>\n",
              "      <th>Fare</th>\n",
              "      <th>Embarked</th>\n",
              "      <th>Alone</th>\n",
              "    </tr>\n",
              "  </thead>\n",
              "  <tbody>\n",
              "    <tr>\n",
              "      <th>0</th>\n",
              "      <td>3</td>\n",
              "      <td>0</td>\n",
              "      <td>0</td>\n",
              "      <td>1</td>\n",
              "      <td>0</td>\n",
              "      <td>0</td>\n",
              "      <td>1</td>\n",
              "    </tr>\n",
              "    <tr>\n",
              "      <th>1</th>\n",
              "      <td>1</td>\n",
              "      <td>2</td>\n",
              "      <td>1</td>\n",
              "      <td>2</td>\n",
              "      <td>3</td>\n",
              "      <td>1</td>\n",
              "      <td>1</td>\n",
              "    </tr>\n",
              "    <tr>\n",
              "      <th>2</th>\n",
              "      <td>3</td>\n",
              "      <td>1</td>\n",
              "      <td>1</td>\n",
              "      <td>1</td>\n",
              "      <td>0</td>\n",
              "      <td>0</td>\n",
              "      <td>0</td>\n",
              "    </tr>\n",
              "    <tr>\n",
              "      <th>3</th>\n",
              "      <td>1</td>\n",
              "      <td>2</td>\n",
              "      <td>1</td>\n",
              "      <td>2</td>\n",
              "      <td>3</td>\n",
              "      <td>0</td>\n",
              "      <td>1</td>\n",
              "    </tr>\n",
              "    <tr>\n",
              "      <th>4</th>\n",
              "      <td>3</td>\n",
              "      <td>0</td>\n",
              "      <td>0</td>\n",
              "      <td>2</td>\n",
              "      <td>0</td>\n",
              "      <td>0</td>\n",
              "      <td>0</td>\n",
              "    </tr>\n",
              "    <tr>\n",
              "      <th>...</th>\n",
              "      <td>...</td>\n",
              "      <td>...</td>\n",
              "      <td>...</td>\n",
              "      <td>...</td>\n",
              "      <td>...</td>\n",
              "      <td>...</td>\n",
              "      <td>...</td>\n",
              "    </tr>\n",
              "    <tr>\n",
              "      <th>886</th>\n",
              "      <td>2</td>\n",
              "      <td>2</td>\n",
              "      <td>0</td>\n",
              "      <td>1</td>\n",
              "      <td>1</td>\n",
              "      <td>0</td>\n",
              "      <td>0</td>\n",
              "    </tr>\n",
              "    <tr>\n",
              "      <th>887</th>\n",
              "      <td>1</td>\n",
              "      <td>4</td>\n",
              "      <td>1</td>\n",
              "      <td>1</td>\n",
              "      <td>2</td>\n",
              "      <td>0</td>\n",
              "      <td>0</td>\n",
              "    </tr>\n",
              "    <tr>\n",
              "      <th>888</th>\n",
              "      <td>3</td>\n",
              "      <td>1</td>\n",
              "      <td>1</td>\n",
              "      <td>1</td>\n",
              "      <td>2</td>\n",
              "      <td>0</td>\n",
              "      <td>1</td>\n",
              "    </tr>\n",
              "    <tr>\n",
              "      <th>889</th>\n",
              "      <td>1</td>\n",
              "      <td>1</td>\n",
              "      <td>0</td>\n",
              "      <td>1</td>\n",
              "      <td>2</td>\n",
              "      <td>1</td>\n",
              "      <td>0</td>\n",
              "    </tr>\n",
              "    <tr>\n",
              "      <th>890</th>\n",
              "      <td>3</td>\n",
              "      <td>0</td>\n",
              "      <td>0</td>\n",
              "      <td>1</td>\n",
              "      <td>0</td>\n",
              "      <td>2</td>\n",
              "      <td>0</td>\n",
              "    </tr>\n",
              "  </tbody>\n",
              "</table>\n",
              "<p>891 rows × 7 columns</p>\n",
              "</div>"
            ],
            "text/plain": [
              "     Pclass  Name  Sex  Age  Fare  Embarked  Alone\n",
              "0         3     0    0    1     0         0      1\n",
              "1         1     2    1    2     3         1      1\n",
              "2         3     1    1    1     0         0      0\n",
              "3         1     2    1    2     3         0      1\n",
              "4         3     0    0    2     0         0      0\n",
              "..      ...   ...  ...  ...   ...       ...    ...\n",
              "886       2     2    0    1     1         0      0\n",
              "887       1     4    1    1     2         0      0\n",
              "888       3     1    1    1     2         0      1\n",
              "889       1     1    0    1     2         1      0\n",
              "890       3     0    0    1     0         2      0\n",
              "\n",
              "[891 rows x 7 columns]"
            ]
          },
          "metadata": {
            "tags": []
          },
          "execution_count": 85
        }
      ]
    },
    {
      "cell_type": "code",
      "metadata": {
        "id": "qqE99YgO-78Y",
        "colab": {
          "base_uri": "https://localhost:8080/",
          "height": 407
        },
        "outputId": "cd06c1c8-e0a5-467e-f679-5536da116aa1"
      },
      "source": [
        "x_test"
      ],
      "execution_count": 86,
      "outputs": [
        {
          "output_type": "execute_result",
          "data": {
            "text/html": [
              "<div>\n",
              "<style scoped>\n",
              "    .dataframe tbody tr th:only-of-type {\n",
              "        vertical-align: middle;\n",
              "    }\n",
              "\n",
              "    .dataframe tbody tr th {\n",
              "        vertical-align: top;\n",
              "    }\n",
              "\n",
              "    .dataframe thead th {\n",
              "        text-align: right;\n",
              "    }\n",
              "</style>\n",
              "<table border=\"1\" class=\"dataframe\">\n",
              "  <thead>\n",
              "    <tr style=\"text-align: right;\">\n",
              "      <th></th>\n",
              "      <th>Pclass</th>\n",
              "      <th>Name</th>\n",
              "      <th>Sex</th>\n",
              "      <th>Age</th>\n",
              "      <th>Fare</th>\n",
              "      <th>Embarked</th>\n",
              "      <th>Alone</th>\n",
              "    </tr>\n",
              "  </thead>\n",
              "  <tbody>\n",
              "    <tr>\n",
              "      <th>0</th>\n",
              "      <td>3</td>\n",
              "      <td>0</td>\n",
              "      <td>0</td>\n",
              "      <td>2</td>\n",
              "      <td>0</td>\n",
              "      <td>2</td>\n",
              "      <td>0</td>\n",
              "    </tr>\n",
              "    <tr>\n",
              "      <th>1</th>\n",
              "      <td>3</td>\n",
              "      <td>2</td>\n",
              "      <td>1</td>\n",
              "      <td>3</td>\n",
              "      <td>0</td>\n",
              "      <td>0</td>\n",
              "      <td>1</td>\n",
              "    </tr>\n",
              "    <tr>\n",
              "      <th>2</th>\n",
              "      <td>2</td>\n",
              "      <td>0</td>\n",
              "      <td>0</td>\n",
              "      <td>4</td>\n",
              "      <td>1</td>\n",
              "      <td>2</td>\n",
              "      <td>0</td>\n",
              "    </tr>\n",
              "    <tr>\n",
              "      <th>3</th>\n",
              "      <td>3</td>\n",
              "      <td>0</td>\n",
              "      <td>0</td>\n",
              "      <td>1</td>\n",
              "      <td>1</td>\n",
              "      <td>0</td>\n",
              "      <td>0</td>\n",
              "    </tr>\n",
              "    <tr>\n",
              "      <th>4</th>\n",
              "      <td>3</td>\n",
              "      <td>2</td>\n",
              "      <td>1</td>\n",
              "      <td>1</td>\n",
              "      <td>1</td>\n",
              "      <td>0</td>\n",
              "      <td>1</td>\n",
              "    </tr>\n",
              "    <tr>\n",
              "      <th>...</th>\n",
              "      <td>...</td>\n",
              "      <td>...</td>\n",
              "      <td>...</td>\n",
              "      <td>...</td>\n",
              "      <td>...</td>\n",
              "      <td>...</td>\n",
              "      <td>...</td>\n",
              "    </tr>\n",
              "    <tr>\n",
              "      <th>413</th>\n",
              "      <td>3</td>\n",
              "      <td>0</td>\n",
              "      <td>0</td>\n",
              "      <td>1</td>\n",
              "      <td>0</td>\n",
              "      <td>0</td>\n",
              "      <td>0</td>\n",
              "    </tr>\n",
              "    <tr>\n",
              "      <th>414</th>\n",
              "      <td>1</td>\n",
              "      <td>4</td>\n",
              "      <td>1</td>\n",
              "      <td>2</td>\n",
              "      <td>3</td>\n",
              "      <td>1</td>\n",
              "      <td>0</td>\n",
              "    </tr>\n",
              "    <tr>\n",
              "      <th>415</th>\n",
              "      <td>3</td>\n",
              "      <td>0</td>\n",
              "      <td>0</td>\n",
              "      <td>2</td>\n",
              "      <td>0</td>\n",
              "      <td>0</td>\n",
              "      <td>0</td>\n",
              "    </tr>\n",
              "    <tr>\n",
              "      <th>416</th>\n",
              "      <td>3</td>\n",
              "      <td>0</td>\n",
              "      <td>0</td>\n",
              "      <td>1</td>\n",
              "      <td>0</td>\n",
              "      <td>0</td>\n",
              "      <td>0</td>\n",
              "    </tr>\n",
              "    <tr>\n",
              "      <th>417</th>\n",
              "      <td>3</td>\n",
              "      <td>3</td>\n",
              "      <td>0</td>\n",
              "      <td>1</td>\n",
              "      <td>2</td>\n",
              "      <td>1</td>\n",
              "      <td>1</td>\n",
              "    </tr>\n",
              "  </tbody>\n",
              "</table>\n",
              "<p>418 rows × 7 columns</p>\n",
              "</div>"
            ],
            "text/plain": [
              "     Pclass  Name  Sex  Age  Fare  Embarked  Alone\n",
              "0         3     0    0    2     0         2      0\n",
              "1         3     2    1    3     0         0      1\n",
              "2         2     0    0    4     1         2      0\n",
              "3         3     0    0    1     1         0      0\n",
              "4         3     2    1    1     1         0      1\n",
              "..      ...   ...  ...  ...   ...       ...    ...\n",
              "413       3     0    0    1     0         0      0\n",
              "414       1     4    1    2     3         1      0\n",
              "415       3     0    0    2     0         0      0\n",
              "416       3     0    0    1     0         0      0\n",
              "417       3     3    0    1     2         1      1\n",
              "\n",
              "[418 rows x 7 columns]"
            ]
          },
          "metadata": {
            "tags": []
          },
          "execution_count": 86
        }
      ]
    },
    {
      "cell_type": "code",
      "metadata": {
        "id": "Z6d2MNuMk3WO",
        "colab": {
          "base_uri": "https://localhost:8080/"
        },
        "outputId": "ba465f0d-abbd-44c4-fa8c-5986a49d29bd"
      },
      "source": [
        "lr = LogisticRegression() # 모델 선언\r\n",
        "lr.fit(x_train, y_train) # 모델 학습\r\n",
        "# 출력은 세팅값 (여러가지를 세부 세팅할 수 있음)"
      ],
      "execution_count": 87,
      "outputs": [
        {
          "output_type": "execute_result",
          "data": {
            "text/plain": [
              "LogisticRegression(C=1.0, class_weight=None, dual=False, fit_intercept=True,\n",
              "                   intercept_scaling=1, l1_ratio=None, max_iter=100,\n",
              "                   multi_class='auto', n_jobs=None, penalty='l2',\n",
              "                   random_state=None, solver='lbfgs', tol=0.0001, verbose=0,\n",
              "                   warm_start=False)"
            ]
          },
          "metadata": {
            "tags": []
          },
          "execution_count": 87
        }
      ]
    },
    {
      "cell_type": "code",
      "metadata": {
        "id": "rAak2Yd9BhfB",
        "colab": {
          "base_uri": "https://localhost:8080/"
        },
        "outputId": "ab842df5-5cbe-47f9-c92e-3d0391fe489d"
      },
      "source": [
        "lr_pred = lr.predict(x_test)\r\n",
        "accuracy = round(lr.score(x_train, y_train)*100, 2)\r\n",
        "accuracy\r\n"
      ],
      "execution_count": 88,
      "outputs": [
        {
          "output_type": "execute_result",
          "data": {
            "text/plain": [
              "79.57"
            ]
          },
          "metadata": {
            "tags": []
          },
          "execution_count": 88
        }
      ]
    },
    {
      "cell_type": "code",
      "metadata": {
        "id": "qITN_IGpFC24"
      },
      "source": [
        "#79.57('Fare','Embarked'포함)\r\n",
        "#79.57('Fare','Embarked'미포함)\r\n",
        "#79.69('Embarked'미포함)"
      ],
      "execution_count": 89,
      "outputs": []
    },
    {
      "cell_type": "markdown",
      "metadata": {
        "id": "1_mfTmIFVbH0"
      },
      "source": [
        "## 2. 랜덤포레스트"
      ]
    },
    {
      "cell_type": "code",
      "metadata": {
        "colab": {
          "base_uri": "https://localhost:8080/"
        },
        "id": "3XS4M9V9VBoJ",
        "outputId": "437a9387-6d45-4e90-89b2-b55759b6739b"
      },
      "source": [
        "random_forest = RandomForestClassifier(n_estimators=100)\r\n",
        "random_forest.fit(x_train, y_train)\r\n",
        "y_pred = random_forest.predict(x_test)\r\n",
        "random_forest.score(x_train, y_train)\r\n",
        "acc_random_forest = round(random_forest.score(x_train, y_train) * 100, 2)\r\n",
        "acc_random_forest"
      ],
      "execution_count": 90,
      "outputs": [
        {
          "output_type": "execute_result",
          "data": {
            "text/plain": [
              "88.66"
            ]
          },
          "metadata": {
            "tags": []
          },
          "execution_count": 90
        }
      ]
    },
    {
      "cell_type": "code",
      "metadata": {
        "id": "Pnb7YEtbVd5O"
      },
      "source": [
        "#88.66('Fare','Embarked'포함)\r\n",
        "#83.28('Fare','Embarked'미포함)\r\n",
        "#86.42('Embarked'미포함)"
      ],
      "execution_count": 91,
      "outputs": []
    },
    {
      "cell_type": "markdown",
      "metadata": {
        "id": "y8SnQoZQg7ca"
      },
      "source": [
        "## 3. KNN"
      ]
    },
    {
      "cell_type": "code",
      "metadata": {
        "id": "c60_4Nl1hBvI",
        "outputId": "b1db1b5b-0400-42e3-a71d-9e678a052aee",
        "colab": {
          "base_uri": "https://localhost:8080/"
        }
      },
      "source": [
        "knn = KNeighborsClassifier(n_neighbors = 3)\r\n",
        "knn.fit(x_train, y_train)\r\n",
        "Y_pred = knn.predict(x_test)\r\n",
        "acc_knn = round(knn.score(x_train, y_train) * 100, 2)\r\n",
        "acc_knn"
      ],
      "execution_count": 93,
      "outputs": [
        {
          "output_type": "execute_result",
          "data": {
            "text/plain": [
              "84.85"
            ]
          },
          "metadata": {
            "tags": []
          },
          "execution_count": 93
        }
      ]
    },
    {
      "cell_type": "markdown",
      "metadata": {
        "id": "gYANVVJZhzL7"
      },
      "source": [
        "## 4. Support Vector Machines"
      ]
    },
    {
      "cell_type": "code",
      "metadata": {
        "id": "T9QON044h4KN",
        "outputId": "c396970f-b28e-49bc-a4ce-2fac43fa09a5",
        "colab": {
          "base_uri": "https://localhost:8080/"
        }
      },
      "source": [
        "svc = SVC()\r\n",
        "svc.fit(x_train, y_train)\r\n",
        "Y_pred = svc.predict(x_test)\r\n",
        "acc_svc = round(svc.score(x_train, y_train) * 100, 2)\r\n",
        "acc_svc"
      ],
      "execution_count": 94,
      "outputs": [
        {
          "output_type": "execute_result",
          "data": {
            "text/plain": [
              "82.49"
            ]
          },
          "metadata": {
            "tags": []
          },
          "execution_count": 94
        }
      ]
    },
    {
      "cell_type": "markdown",
      "metadata": {
        "id": "w7oVH60AiDN6"
      },
      "source": [
        "## 5. Decision Tree"
      ]
    },
    {
      "cell_type": "code",
      "metadata": {
        "id": "NB4Qei-uiM6I",
        "outputId": "91cb4952-bd8c-4305-e6a9-48587b5a6695",
        "colab": {
          "base_uri": "https://localhost:8080/"
        }
      },
      "source": [
        "decision_tree = DecisionTreeClassifier()\r\n",
        "decision_tree.fit(x_train, y_train)\r\n",
        "Y_pred = decision_tree.predict(x_test)\r\n",
        "acc_decision_tree = round(decision_tree.score(x_train, y_train) * 100, 2)\r\n",
        "acc_decision_tree"
      ],
      "execution_count": 95,
      "outputs": [
        {
          "output_type": "execute_result",
          "data": {
            "text/plain": [
              "88.66"
            ]
          },
          "metadata": {
            "tags": []
          },
          "execution_count": 95
        }
      ]
    },
    {
      "cell_type": "markdown",
      "metadata": {
        "id": "OIEWH0npVdL2"
      },
      "source": [
        "# 현재 상태\r\n",
        "\r\n",
        "통계 학습 안되어있음\r\n",
        "\r\n",
        "어떻게 결측지처리해야하는가?\r\n",
        "\r\n",
        "어떤 그래프를 어떻게 사용해야하는가?\r\n",
        "\r\n",
        "어떤 모델을 사용해야하는가 타이타닉은 classification이니까 거기에 맞는 모델이 무엇이 있고 어떤것이 가장유리한가"
      ]
    },
    {
      "cell_type": "code",
      "metadata": {
        "id": "fhautKmTzkRg"
      },
      "source": [
        ""
      ],
      "execution_count": null,
      "outputs": []
    }
  ]
}