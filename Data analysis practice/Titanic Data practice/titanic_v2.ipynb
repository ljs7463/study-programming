{
  "nbformat": 4,
  "nbformat_minor": 0,
  "metadata": {
    "colab": {
      "name": "titanic_v2.ipynb",
      "provenance": []
    },
    "kernelspec": {
      "name": "python3",
      "display_name": "Python 3"
    }
  },
  "cells": [
    {
      "cell_type": "markdown",
      "metadata": {
        "id": "LvDU5aFtpuGr"
      },
      "source": [
        "데이터 분석의 목표 : 어떤 사람들이 생존에 유리했을지 파악하기"
      ]
    },
    {
      "cell_type": "markdown",
      "metadata": {
        "id": "HAm8SUK4rVZ9"
      },
      "source": [
        "참고(in Kaggle)\r\n",
        "1.  EDA To Prediction(DieTanic) \r\n",
        "2.  Titanic Data Science Solutions"
      ]
    },
    {
      "cell_type": "markdown",
      "metadata": {
        "id": "4hgld1kh1mfI"
      },
      "source": [
        "# 데이터 불러오기"
      ]
    },
    {
      "cell_type": "code",
      "metadata": {
        "colab": {
          "base_uri": "https://localhost:8080/"
        },
        "id": "T9AvvvGoupYo",
        "outputId": "d7154cff-907c-4ce3-bb1b-2fdee3787073"
      },
      "source": [
        "from google.colab import drive\r\n",
        "drive.mount('/content/Mydrive')"
      ],
      "execution_count": 1,
      "outputs": [
        {
          "output_type": "stream",
          "text": [
            "Mounted at /content/Mydrive\n"
          ],
          "name": "stdout"
        }
      ]
    },
    {
      "cell_type": "code",
      "metadata": {
        "id": "yZXDe0LiurWS"
      },
      "source": [
        "import pandas as pd\r\n",
        "import numpy as np\r\n",
        "import matplotlib.pyplot as plt\r\n",
        "import seaborn as sns\r\n",
        "\r\n",
        "\r\n",
        "train_df = pd.read_csv('/content/Mydrive/MyDrive/datascience/train.csv')\r\n",
        "test_df = pd.read_csv('/content/Mydrive/MyDrive/datascience/test.csv')\r\n",
        "combine = [train_df, test_df] # train셋과 test셋을 동시에 전처리 하기 위함 "
      ],
      "execution_count": 2,
      "outputs": []
    },
    {
      "cell_type": "markdown",
      "metadata": {
        "id": "GRFPZEQ11obU"
      },
      "source": [
        "# 데이터 확인하기"
      ]
    },
    {
      "cell_type": "markdown",
      "metadata": {
        "id": "nK57yGyqp6bS"
      },
      "source": [
        "**★각 컬럼에 대한 설명입니다★**\r\n",
        "\r\n",
        "PassengerId : 각 승객의 고유 번호\r\n",
        "\r\n",
        "Survived : 생존 여부(생존x : 0, 생존O : 1)\r\n",
        "\r\n",
        "Pclass :  티켓의 등급 (1 = 1등급, 2 = 2등급, 3 = 3등급)\r\n",
        "\r\n",
        "Name : 탑승객의 이름\r\n",
        "\r\n",
        "Sex : 탑승객의 성별 (male or female)\r\n",
        "\r\n",
        "Age : 탑승객의 나이\r\n",
        "\r\n",
        "SibSp : 함께 탑승한 형제 또는 배우자 수 \r\n",
        "\r\n",
        "Parch : 함께 탑승한 부모 또는 자녀 수 \r\n",
        "\r\n",
        "Ticket : 티켓 번호\r\n",
        "\r\n",
        "Fare : 요금\r\n",
        "\r\n",
        "Cabin : 선실 번호\r\n",
        "\r\n",
        "Embarked : 탑승장소(S = Southhampton, C = Cherbourg, Q = Queenstown)\r\n"
      ]
    },
    {
      "cell_type": "markdown",
      "metadata": {
        "id": "iFLILhSRowge"
      },
      "source": [
        "데이터 유형 살피기\r\n",
        "- categorical : sex, embarked\r\n",
        "- ordinal : Pclass\r\n",
        "- continous : Age"
      ]
    },
    {
      "cell_type": "code",
      "metadata": {
        "colab": {
          "base_uri": "https://localhost:8080/"
        },
        "id": "7h1HVZZ21Z7R",
        "outputId": "6c74cf64-782f-4697-eb98-9c728dd40001"
      },
      "source": [
        "train_df.info()"
      ],
      "execution_count": 3,
      "outputs": [
        {
          "output_type": "stream",
          "text": [
            "<class 'pandas.core.frame.DataFrame'>\n",
            "RangeIndex: 891 entries, 0 to 890\n",
            "Data columns (total 12 columns):\n",
            " #   Column       Non-Null Count  Dtype  \n",
            "---  ------       --------------  -----  \n",
            " 0   PassengerId  891 non-null    int64  \n",
            " 1   Survived     891 non-null    int64  \n",
            " 2   Pclass       891 non-null    int64  \n",
            " 3   Name         891 non-null    object \n",
            " 4   Sex          891 non-null    object \n",
            " 5   Age          714 non-null    float64\n",
            " 6   SibSp        891 non-null    int64  \n",
            " 7   Parch        891 non-null    int64  \n",
            " 8   Ticket       891 non-null    object \n",
            " 9   Fare         891 non-null    float64\n",
            " 10  Cabin        204 non-null    object \n",
            " 11  Embarked     889 non-null    object \n",
            "dtypes: float64(2), int64(5), object(5)\n",
            "memory usage: 83.7+ KB\n"
          ],
          "name": "stdout"
        }
      ]
    },
    {
      "cell_type": "code",
      "metadata": {
        "colab": {
          "base_uri": "https://localhost:8080/"
        },
        "id": "O6U5PDfKyFpy",
        "outputId": "bddad990-ded7-4810-8c37-ba7cdfd438a3"
      },
      "source": [
        "test_df.info()"
      ],
      "execution_count": 4,
      "outputs": [
        {
          "output_type": "stream",
          "text": [
            "<class 'pandas.core.frame.DataFrame'>\n",
            "RangeIndex: 418 entries, 0 to 417\n",
            "Data columns (total 11 columns):\n",
            " #   Column       Non-Null Count  Dtype  \n",
            "---  ------       --------------  -----  \n",
            " 0   PassengerId  418 non-null    int64  \n",
            " 1   Pclass       418 non-null    int64  \n",
            " 2   Name         418 non-null    object \n",
            " 3   Sex          418 non-null    object \n",
            " 4   Age          332 non-null    float64\n",
            " 5   SibSp        418 non-null    int64  \n",
            " 6   Parch        418 non-null    int64  \n",
            " 7   Ticket       418 non-null    object \n",
            " 8   Fare         417 non-null    float64\n",
            " 9   Cabin        91 non-null     object \n",
            " 10  Embarked     418 non-null    object \n",
            "dtypes: float64(2), int64(4), object(5)\n",
            "memory usage: 36.0+ KB\n"
          ],
          "name": "stdout"
        }
      ]
    },
    {
      "cell_type": "markdown",
      "metadata": {
        "id": "8jzYpoLV2EVs"
      },
      "source": [
        "**1. 공통적으로 Age, Cabin, Embarked 에 NaN값이 존재, test셋에는 Fare에 1개의 NaN값이 존재**\r\n",
        "\r\n",
        "**2.  Name, Sex, Age, Fare, Embarked 는 인코딩 작업이 필요 해 보인다.** "
      ]
    },
    {
      "cell_type": "code",
      "metadata": {
        "colab": {
          "base_uri": "https://localhost:8080/",
          "height": 484
        },
        "id": "yLGW7RBs25-k",
        "outputId": "ae9ca2a0-2ea3-4793-8c9b-00e593fac53f"
      },
      "source": [
        "train_df.head()"
      ],
      "execution_count": 5,
      "outputs": [
        {
          "output_type": "execute_result",
          "data": {
            "text/html": [
              "<div>\n",
              "<style scoped>\n",
              "    .dataframe tbody tr th:only-of-type {\n",
              "        vertical-align: middle;\n",
              "    }\n",
              "\n",
              "    .dataframe tbody tr th {\n",
              "        vertical-align: top;\n",
              "    }\n",
              "\n",
              "    .dataframe thead th {\n",
              "        text-align: right;\n",
              "    }\n",
              "</style>\n",
              "<table border=\"1\" class=\"dataframe\">\n",
              "  <thead>\n",
              "    <tr style=\"text-align: right;\">\n",
              "      <th></th>\n",
              "      <th>PassengerId</th>\n",
              "      <th>Survived</th>\n",
              "      <th>Pclass</th>\n",
              "      <th>Name</th>\n",
              "      <th>Sex</th>\n",
              "      <th>Age</th>\n",
              "      <th>SibSp</th>\n",
              "      <th>Parch</th>\n",
              "      <th>Ticket</th>\n",
              "      <th>Fare</th>\n",
              "      <th>Cabin</th>\n",
              "      <th>Embarked</th>\n",
              "    </tr>\n",
              "  </thead>\n",
              "  <tbody>\n",
              "    <tr>\n",
              "      <th>0</th>\n",
              "      <td>1</td>\n",
              "      <td>0</td>\n",
              "      <td>3</td>\n",
              "      <td>Braund, Mr. Owen Harris</td>\n",
              "      <td>male</td>\n",
              "      <td>22.0</td>\n",
              "      <td>1</td>\n",
              "      <td>0</td>\n",
              "      <td>A/5 21171</td>\n",
              "      <td>7.2500</td>\n",
              "      <td>NaN</td>\n",
              "      <td>S</td>\n",
              "    </tr>\n",
              "    <tr>\n",
              "      <th>1</th>\n",
              "      <td>2</td>\n",
              "      <td>1</td>\n",
              "      <td>1</td>\n",
              "      <td>Cumings, Mrs. John Bradley (Florence Briggs Th...</td>\n",
              "      <td>female</td>\n",
              "      <td>38.0</td>\n",
              "      <td>1</td>\n",
              "      <td>0</td>\n",
              "      <td>PC 17599</td>\n",
              "      <td>71.2833</td>\n",
              "      <td>C85</td>\n",
              "      <td>C</td>\n",
              "    </tr>\n",
              "    <tr>\n",
              "      <th>2</th>\n",
              "      <td>3</td>\n",
              "      <td>1</td>\n",
              "      <td>3</td>\n",
              "      <td>Heikkinen, Miss. Laina</td>\n",
              "      <td>female</td>\n",
              "      <td>26.0</td>\n",
              "      <td>0</td>\n",
              "      <td>0</td>\n",
              "      <td>STON/O2. 3101282</td>\n",
              "      <td>7.9250</td>\n",
              "      <td>NaN</td>\n",
              "      <td>S</td>\n",
              "    </tr>\n",
              "    <tr>\n",
              "      <th>3</th>\n",
              "      <td>4</td>\n",
              "      <td>1</td>\n",
              "      <td>1</td>\n",
              "      <td>Futrelle, Mrs. Jacques Heath (Lily May Peel)</td>\n",
              "      <td>female</td>\n",
              "      <td>35.0</td>\n",
              "      <td>1</td>\n",
              "      <td>0</td>\n",
              "      <td>113803</td>\n",
              "      <td>53.1000</td>\n",
              "      <td>C123</td>\n",
              "      <td>S</td>\n",
              "    </tr>\n",
              "    <tr>\n",
              "      <th>4</th>\n",
              "      <td>5</td>\n",
              "      <td>0</td>\n",
              "      <td>3</td>\n",
              "      <td>Allen, Mr. William Henry</td>\n",
              "      <td>male</td>\n",
              "      <td>35.0</td>\n",
              "      <td>0</td>\n",
              "      <td>0</td>\n",
              "      <td>373450</td>\n",
              "      <td>8.0500</td>\n",
              "      <td>NaN</td>\n",
              "      <td>S</td>\n",
              "    </tr>\n",
              "  </tbody>\n",
              "</table>\n",
              "</div>"
            ],
            "text/plain": [
              "   PassengerId  Survived  Pclass  ...     Fare Cabin  Embarked\n",
              "0            1         0       3  ...   7.2500   NaN         S\n",
              "1            2         1       1  ...  71.2833   C85         C\n",
              "2            3         1       3  ...   7.9250   NaN         S\n",
              "3            4         1       1  ...  53.1000  C123         S\n",
              "4            5         0       3  ...   8.0500   NaN         S\n",
              "\n",
              "[5 rows x 12 columns]"
            ]
          },
          "metadata": {
            "tags": []
          },
          "execution_count": 5
        }
      ]
    },
    {
      "cell_type": "code",
      "metadata": {
        "colab": {
          "base_uri": "https://localhost:8080/",
          "height": 491
        },
        "id": "PUe5GFUVyShX",
        "outputId": "44b01003-6014-4ef9-a47a-c21b130fbe64"
      },
      "source": [
        "train_df[['SibSp', 'Parch']].head(15)"
      ],
      "execution_count": 9,
      "outputs": [
        {
          "output_type": "execute_result",
          "data": {
            "text/html": [
              "<div>\n",
              "<style scoped>\n",
              "    .dataframe tbody tr th:only-of-type {\n",
              "        vertical-align: middle;\n",
              "    }\n",
              "\n",
              "    .dataframe tbody tr th {\n",
              "        vertical-align: top;\n",
              "    }\n",
              "\n",
              "    .dataframe thead th {\n",
              "        text-align: right;\n",
              "    }\n",
              "</style>\n",
              "<table border=\"1\" class=\"dataframe\">\n",
              "  <thead>\n",
              "    <tr style=\"text-align: right;\">\n",
              "      <th></th>\n",
              "      <th>SibSp</th>\n",
              "      <th>Parch</th>\n",
              "    </tr>\n",
              "  </thead>\n",
              "  <tbody>\n",
              "    <tr>\n",
              "      <th>0</th>\n",
              "      <td>1</td>\n",
              "      <td>0</td>\n",
              "    </tr>\n",
              "    <tr>\n",
              "      <th>1</th>\n",
              "      <td>1</td>\n",
              "      <td>0</td>\n",
              "    </tr>\n",
              "    <tr>\n",
              "      <th>2</th>\n",
              "      <td>0</td>\n",
              "      <td>0</td>\n",
              "    </tr>\n",
              "    <tr>\n",
              "      <th>3</th>\n",
              "      <td>1</td>\n",
              "      <td>0</td>\n",
              "    </tr>\n",
              "    <tr>\n",
              "      <th>4</th>\n",
              "      <td>0</td>\n",
              "      <td>0</td>\n",
              "    </tr>\n",
              "    <tr>\n",
              "      <th>5</th>\n",
              "      <td>0</td>\n",
              "      <td>0</td>\n",
              "    </tr>\n",
              "    <tr>\n",
              "      <th>6</th>\n",
              "      <td>0</td>\n",
              "      <td>0</td>\n",
              "    </tr>\n",
              "    <tr>\n",
              "      <th>7</th>\n",
              "      <td>3</td>\n",
              "      <td>1</td>\n",
              "    </tr>\n",
              "    <tr>\n",
              "      <th>8</th>\n",
              "      <td>0</td>\n",
              "      <td>2</td>\n",
              "    </tr>\n",
              "    <tr>\n",
              "      <th>9</th>\n",
              "      <td>1</td>\n",
              "      <td>0</td>\n",
              "    </tr>\n",
              "    <tr>\n",
              "      <th>10</th>\n",
              "      <td>1</td>\n",
              "      <td>1</td>\n",
              "    </tr>\n",
              "    <tr>\n",
              "      <th>11</th>\n",
              "      <td>0</td>\n",
              "      <td>0</td>\n",
              "    </tr>\n",
              "    <tr>\n",
              "      <th>12</th>\n",
              "      <td>0</td>\n",
              "      <td>0</td>\n",
              "    </tr>\n",
              "    <tr>\n",
              "      <th>13</th>\n",
              "      <td>1</td>\n",
              "      <td>5</td>\n",
              "    </tr>\n",
              "    <tr>\n",
              "      <th>14</th>\n",
              "      <td>0</td>\n",
              "      <td>0</td>\n",
              "    </tr>\n",
              "  </tbody>\n",
              "</table>\n",
              "</div>"
            ],
            "text/plain": [
              "    SibSp  Parch\n",
              "0       1      0\n",
              "1       1      0\n",
              "2       0      0\n",
              "3       1      0\n",
              "4       0      0\n",
              "5       0      0\n",
              "6       0      0\n",
              "7       3      1\n",
              "8       0      2\n",
              "9       1      0\n",
              "10      1      1\n",
              "11      0      0\n",
              "12      0      0\n",
              "13      1      5\n",
              "14      0      0"
            ]
          },
          "metadata": {
            "tags": []
          },
          "execution_count": 9
        }
      ]
    },
    {
      "cell_type": "markdown",
      "metadata": {
        "id": "E1QBeLsR3DkT"
      },
      "source": [
        "**1. Sibsp 와 Parch는 한개의 컬럼으로 줄일 수 있을것 같다.**\r\n",
        "\r\n",
        "**2. Embarked는 위의 자료만으로 확실하게 필요한 데이터 라는 여부를 판단하기 힘들다.**"
      ]
    },
    {
      "cell_type": "code",
      "metadata": {
        "colab": {
          "base_uri": "https://localhost:8080/"
        },
        "id": "2lEEJxK-1swq",
        "outputId": "b05924d7-81c9-4233-ba17-cec104576255"
      },
      "source": [
        "test_df.info()"
      ],
      "execution_count": 10,
      "outputs": [
        {
          "output_type": "stream",
          "text": [
            "<class 'pandas.core.frame.DataFrame'>\n",
            "RangeIndex: 418 entries, 0 to 417\n",
            "Data columns (total 11 columns):\n",
            " #   Column       Non-Null Count  Dtype  \n",
            "---  ------       --------------  -----  \n",
            " 0   PassengerId  418 non-null    int64  \n",
            " 1   Pclass       418 non-null    int64  \n",
            " 2   Name         418 non-null    object \n",
            " 3   Sex          418 non-null    object \n",
            " 4   Age          332 non-null    float64\n",
            " 5   SibSp        418 non-null    int64  \n",
            " 6   Parch        418 non-null    int64  \n",
            " 7   Ticket       418 non-null    object \n",
            " 8   Fare         417 non-null    float64\n",
            " 9   Cabin        91 non-null     object \n",
            " 10  Embarked     418 non-null    object \n",
            "dtypes: float64(2), int64(4), object(5)\n",
            "memory usage: 36.0+ KB\n"
          ],
          "name": "stdout"
        }
      ]
    },
    {
      "cell_type": "markdown",
      "metadata": {
        "id": "IbB4Jo6v62hH"
      },
      "source": [
        "**train_df 데이터셋과 한가지 다른점은 'Fare'에 NaN값이 하나 존재한다**"
      ]
    },
    {
      "cell_type": "code",
      "metadata": {
        "colab": {
          "base_uri": "https://localhost:8080/",
          "height": 284
        },
        "id": "xVWlx6Y612Cx",
        "outputId": "1970f221-a347-4746-934b-205f150174f9"
      },
      "source": [
        "train_df.describe()"
      ],
      "execution_count": 11,
      "outputs": [
        {
          "output_type": "execute_result",
          "data": {
            "text/html": [
              "<div>\n",
              "<style scoped>\n",
              "    .dataframe tbody tr th:only-of-type {\n",
              "        vertical-align: middle;\n",
              "    }\n",
              "\n",
              "    .dataframe tbody tr th {\n",
              "        vertical-align: top;\n",
              "    }\n",
              "\n",
              "    .dataframe thead th {\n",
              "        text-align: right;\n",
              "    }\n",
              "</style>\n",
              "<table border=\"1\" class=\"dataframe\">\n",
              "  <thead>\n",
              "    <tr style=\"text-align: right;\">\n",
              "      <th></th>\n",
              "      <th>PassengerId</th>\n",
              "      <th>Survived</th>\n",
              "      <th>Pclass</th>\n",
              "      <th>Age</th>\n",
              "      <th>SibSp</th>\n",
              "      <th>Parch</th>\n",
              "      <th>Fare</th>\n",
              "    </tr>\n",
              "  </thead>\n",
              "  <tbody>\n",
              "    <tr>\n",
              "      <th>count</th>\n",
              "      <td>891.000000</td>\n",
              "      <td>891.000000</td>\n",
              "      <td>891.000000</td>\n",
              "      <td>714.000000</td>\n",
              "      <td>891.000000</td>\n",
              "      <td>891.000000</td>\n",
              "      <td>891.000000</td>\n",
              "    </tr>\n",
              "    <tr>\n",
              "      <th>mean</th>\n",
              "      <td>446.000000</td>\n",
              "      <td>0.383838</td>\n",
              "      <td>2.308642</td>\n",
              "      <td>29.699118</td>\n",
              "      <td>0.523008</td>\n",
              "      <td>0.381594</td>\n",
              "      <td>32.204208</td>\n",
              "    </tr>\n",
              "    <tr>\n",
              "      <th>std</th>\n",
              "      <td>257.353842</td>\n",
              "      <td>0.486592</td>\n",
              "      <td>0.836071</td>\n",
              "      <td>14.526497</td>\n",
              "      <td>1.102743</td>\n",
              "      <td>0.806057</td>\n",
              "      <td>49.693429</td>\n",
              "    </tr>\n",
              "    <tr>\n",
              "      <th>min</th>\n",
              "      <td>1.000000</td>\n",
              "      <td>0.000000</td>\n",
              "      <td>1.000000</td>\n",
              "      <td>0.420000</td>\n",
              "      <td>0.000000</td>\n",
              "      <td>0.000000</td>\n",
              "      <td>0.000000</td>\n",
              "    </tr>\n",
              "    <tr>\n",
              "      <th>25%</th>\n",
              "      <td>223.500000</td>\n",
              "      <td>0.000000</td>\n",
              "      <td>2.000000</td>\n",
              "      <td>20.125000</td>\n",
              "      <td>0.000000</td>\n",
              "      <td>0.000000</td>\n",
              "      <td>7.910400</td>\n",
              "    </tr>\n",
              "    <tr>\n",
              "      <th>50%</th>\n",
              "      <td>446.000000</td>\n",
              "      <td>0.000000</td>\n",
              "      <td>3.000000</td>\n",
              "      <td>28.000000</td>\n",
              "      <td>0.000000</td>\n",
              "      <td>0.000000</td>\n",
              "      <td>14.454200</td>\n",
              "    </tr>\n",
              "    <tr>\n",
              "      <th>75%</th>\n",
              "      <td>668.500000</td>\n",
              "      <td>1.000000</td>\n",
              "      <td>3.000000</td>\n",
              "      <td>38.000000</td>\n",
              "      <td>1.000000</td>\n",
              "      <td>0.000000</td>\n",
              "      <td>31.000000</td>\n",
              "    </tr>\n",
              "    <tr>\n",
              "      <th>max</th>\n",
              "      <td>891.000000</td>\n",
              "      <td>1.000000</td>\n",
              "      <td>3.000000</td>\n",
              "      <td>80.000000</td>\n",
              "      <td>8.000000</td>\n",
              "      <td>6.000000</td>\n",
              "      <td>512.329200</td>\n",
              "    </tr>\n",
              "  </tbody>\n",
              "</table>\n",
              "</div>"
            ],
            "text/plain": [
              "       PassengerId    Survived      Pclass  ...       SibSp       Parch        Fare\n",
              "count   891.000000  891.000000  891.000000  ...  891.000000  891.000000  891.000000\n",
              "mean    446.000000    0.383838    2.308642  ...    0.523008    0.381594   32.204208\n",
              "std     257.353842    0.486592    0.836071  ...    1.102743    0.806057   49.693429\n",
              "min       1.000000    0.000000    1.000000  ...    0.000000    0.000000    0.000000\n",
              "25%     223.500000    0.000000    2.000000  ...    0.000000    0.000000    7.910400\n",
              "50%     446.000000    0.000000    3.000000  ...    0.000000    0.000000   14.454200\n",
              "75%     668.500000    1.000000    3.000000  ...    1.000000    0.000000   31.000000\n",
              "max     891.000000    1.000000    3.000000  ...    8.000000    6.000000  512.329200\n",
              "\n",
              "[8 rows x 7 columns]"
            ]
          },
          "metadata": {
            "tags": []
          },
          "execution_count": 11
        }
      ]
    },
    {
      "cell_type": "markdown",
      "metadata": {
        "id": "__14xuRg7NM6"
      },
      "source": [
        "**1. 생존을 못한 승객이 더 많다는 것을 알 수 있다.**\r\n",
        "\r\n",
        "**2. 3등급 티켓을 가진 승객이 가장 많다는것을 알 수 있다.**\r\n",
        "\r\n",
        "**3. 평균 나이가 29세 이지만 최고령 탑승자의 나이가 80 인 것을 보아 편차가 많은것 같다.**\r\n",
        "\r\n",
        "**4. 대부분 비공식적인 관계 혹은 혼자서 왔으며 공식적인 관계로 여럿이 함께 온 집단도 있는것을 알 수 있다.**\r\n",
        "\r\n"
      ]
    },
    {
      "cell_type": "code",
      "metadata": {
        "colab": {
          "base_uri": "https://localhost:8080/",
          "height": 284
        },
        "id": "PBQEuVDD18ET",
        "outputId": "06959252-8efb-4ded-c909-27b68ab593e7"
      },
      "source": [
        "test_df.describe()"
      ],
      "execution_count": 12,
      "outputs": [
        {
          "output_type": "execute_result",
          "data": {
            "text/html": [
              "<div>\n",
              "<style scoped>\n",
              "    .dataframe tbody tr th:only-of-type {\n",
              "        vertical-align: middle;\n",
              "    }\n",
              "\n",
              "    .dataframe tbody tr th {\n",
              "        vertical-align: top;\n",
              "    }\n",
              "\n",
              "    .dataframe thead th {\n",
              "        text-align: right;\n",
              "    }\n",
              "</style>\n",
              "<table border=\"1\" class=\"dataframe\">\n",
              "  <thead>\n",
              "    <tr style=\"text-align: right;\">\n",
              "      <th></th>\n",
              "      <th>PassengerId</th>\n",
              "      <th>Pclass</th>\n",
              "      <th>Age</th>\n",
              "      <th>SibSp</th>\n",
              "      <th>Parch</th>\n",
              "      <th>Fare</th>\n",
              "    </tr>\n",
              "  </thead>\n",
              "  <tbody>\n",
              "    <tr>\n",
              "      <th>count</th>\n",
              "      <td>418.000000</td>\n",
              "      <td>418.000000</td>\n",
              "      <td>332.000000</td>\n",
              "      <td>418.000000</td>\n",
              "      <td>418.000000</td>\n",
              "      <td>417.000000</td>\n",
              "    </tr>\n",
              "    <tr>\n",
              "      <th>mean</th>\n",
              "      <td>1100.500000</td>\n",
              "      <td>2.265550</td>\n",
              "      <td>30.272590</td>\n",
              "      <td>0.447368</td>\n",
              "      <td>0.392344</td>\n",
              "      <td>35.627188</td>\n",
              "    </tr>\n",
              "    <tr>\n",
              "      <th>std</th>\n",
              "      <td>120.810458</td>\n",
              "      <td>0.841838</td>\n",
              "      <td>14.181209</td>\n",
              "      <td>0.896760</td>\n",
              "      <td>0.981429</td>\n",
              "      <td>55.907576</td>\n",
              "    </tr>\n",
              "    <tr>\n",
              "      <th>min</th>\n",
              "      <td>892.000000</td>\n",
              "      <td>1.000000</td>\n",
              "      <td>0.170000</td>\n",
              "      <td>0.000000</td>\n",
              "      <td>0.000000</td>\n",
              "      <td>0.000000</td>\n",
              "    </tr>\n",
              "    <tr>\n",
              "      <th>25%</th>\n",
              "      <td>996.250000</td>\n",
              "      <td>1.000000</td>\n",
              "      <td>21.000000</td>\n",
              "      <td>0.000000</td>\n",
              "      <td>0.000000</td>\n",
              "      <td>7.895800</td>\n",
              "    </tr>\n",
              "    <tr>\n",
              "      <th>50%</th>\n",
              "      <td>1100.500000</td>\n",
              "      <td>3.000000</td>\n",
              "      <td>27.000000</td>\n",
              "      <td>0.000000</td>\n",
              "      <td>0.000000</td>\n",
              "      <td>14.454200</td>\n",
              "    </tr>\n",
              "    <tr>\n",
              "      <th>75%</th>\n",
              "      <td>1204.750000</td>\n",
              "      <td>3.000000</td>\n",
              "      <td>39.000000</td>\n",
              "      <td>1.000000</td>\n",
              "      <td>0.000000</td>\n",
              "      <td>31.500000</td>\n",
              "    </tr>\n",
              "    <tr>\n",
              "      <th>max</th>\n",
              "      <td>1309.000000</td>\n",
              "      <td>3.000000</td>\n",
              "      <td>76.000000</td>\n",
              "      <td>8.000000</td>\n",
              "      <td>9.000000</td>\n",
              "      <td>512.329200</td>\n",
              "    </tr>\n",
              "  </tbody>\n",
              "</table>\n",
              "</div>"
            ],
            "text/plain": [
              "       PassengerId      Pclass         Age       SibSp       Parch        Fare\n",
              "count   418.000000  418.000000  332.000000  418.000000  418.000000  417.000000\n",
              "mean   1100.500000    2.265550   30.272590    0.447368    0.392344   35.627188\n",
              "std     120.810458    0.841838   14.181209    0.896760    0.981429   55.907576\n",
              "min     892.000000    1.000000    0.170000    0.000000    0.000000    0.000000\n",
              "25%     996.250000    1.000000   21.000000    0.000000    0.000000    7.895800\n",
              "50%    1100.500000    3.000000   27.000000    0.000000    0.000000   14.454200\n",
              "75%    1204.750000    3.000000   39.000000    1.000000    0.000000   31.500000\n",
              "max    1309.000000    3.000000   76.000000    8.000000    9.000000  512.329200"
            ]
          },
          "metadata": {
            "tags": []
          },
          "execution_count": 12
        }
      ]
    },
    {
      "cell_type": "code",
      "metadata": {
        "colab": {
          "base_uri": "https://localhost:8080/",
          "height": 166
        },
        "id": "lXIWqKaq2A7U",
        "outputId": "1ee2bfb9-dea3-4aad-826e-daf51ee1a33c"
      },
      "source": [
        "train_df.describe(include ='O')"
      ],
      "execution_count": 13,
      "outputs": [
        {
          "output_type": "execute_result",
          "data": {
            "text/html": [
              "<div>\n",
              "<style scoped>\n",
              "    .dataframe tbody tr th:only-of-type {\n",
              "        vertical-align: middle;\n",
              "    }\n",
              "\n",
              "    .dataframe tbody tr th {\n",
              "        vertical-align: top;\n",
              "    }\n",
              "\n",
              "    .dataframe thead th {\n",
              "        text-align: right;\n",
              "    }\n",
              "</style>\n",
              "<table border=\"1\" class=\"dataframe\">\n",
              "  <thead>\n",
              "    <tr style=\"text-align: right;\">\n",
              "      <th></th>\n",
              "      <th>Name</th>\n",
              "      <th>Sex</th>\n",
              "      <th>Ticket</th>\n",
              "      <th>Cabin</th>\n",
              "      <th>Embarked</th>\n",
              "    </tr>\n",
              "  </thead>\n",
              "  <tbody>\n",
              "    <tr>\n",
              "      <th>count</th>\n",
              "      <td>891</td>\n",
              "      <td>891</td>\n",
              "      <td>891</td>\n",
              "      <td>204</td>\n",
              "      <td>889</td>\n",
              "    </tr>\n",
              "    <tr>\n",
              "      <th>unique</th>\n",
              "      <td>891</td>\n",
              "      <td>2</td>\n",
              "      <td>681</td>\n",
              "      <td>147</td>\n",
              "      <td>3</td>\n",
              "    </tr>\n",
              "    <tr>\n",
              "      <th>top</th>\n",
              "      <td>Bystrom, Mrs. (Karolina)</td>\n",
              "      <td>male</td>\n",
              "      <td>1601</td>\n",
              "      <td>G6</td>\n",
              "      <td>S</td>\n",
              "    </tr>\n",
              "    <tr>\n",
              "      <th>freq</th>\n",
              "      <td>1</td>\n",
              "      <td>577</td>\n",
              "      <td>7</td>\n",
              "      <td>4</td>\n",
              "      <td>644</td>\n",
              "    </tr>\n",
              "  </tbody>\n",
              "</table>\n",
              "</div>"
            ],
            "text/plain": [
              "                            Name   Sex Ticket Cabin Embarked\n",
              "count                        891   891    891   204      889\n",
              "unique                       891     2    681   147        3\n",
              "top     Bystrom, Mrs. (Karolina)  male   1601    G6        S\n",
              "freq                           1   577      7     4      644"
            ]
          },
          "metadata": {
            "tags": []
          },
          "execution_count": 13
        }
      ]
    },
    {
      "cell_type": "code",
      "metadata": {
        "colab": {
          "base_uri": "https://localhost:8080/",
          "height": 166
        },
        "id": "Ovdo0jPq70Jf",
        "outputId": "7486bdf5-81ff-42ff-c1ae-3812270822ad"
      },
      "source": [
        "test_df.describe(include ='O')"
      ],
      "execution_count": 14,
      "outputs": [
        {
          "output_type": "execute_result",
          "data": {
            "text/html": [
              "<div>\n",
              "<style scoped>\n",
              "    .dataframe tbody tr th:only-of-type {\n",
              "        vertical-align: middle;\n",
              "    }\n",
              "\n",
              "    .dataframe tbody tr th {\n",
              "        vertical-align: top;\n",
              "    }\n",
              "\n",
              "    .dataframe thead th {\n",
              "        text-align: right;\n",
              "    }\n",
              "</style>\n",
              "<table border=\"1\" class=\"dataframe\">\n",
              "  <thead>\n",
              "    <tr style=\"text-align: right;\">\n",
              "      <th></th>\n",
              "      <th>Name</th>\n",
              "      <th>Sex</th>\n",
              "      <th>Ticket</th>\n",
              "      <th>Cabin</th>\n",
              "      <th>Embarked</th>\n",
              "    </tr>\n",
              "  </thead>\n",
              "  <tbody>\n",
              "    <tr>\n",
              "      <th>count</th>\n",
              "      <td>418</td>\n",
              "      <td>418</td>\n",
              "      <td>418</td>\n",
              "      <td>91</td>\n",
              "      <td>418</td>\n",
              "    </tr>\n",
              "    <tr>\n",
              "      <th>unique</th>\n",
              "      <td>418</td>\n",
              "      <td>2</td>\n",
              "      <td>363</td>\n",
              "      <td>76</td>\n",
              "      <td>3</td>\n",
              "    </tr>\n",
              "    <tr>\n",
              "      <th>top</th>\n",
              "      <td>Samaan, Mr. Elias</td>\n",
              "      <td>male</td>\n",
              "      <td>PC 17608</td>\n",
              "      <td>B57 B59 B63 B66</td>\n",
              "      <td>S</td>\n",
              "    </tr>\n",
              "    <tr>\n",
              "      <th>freq</th>\n",
              "      <td>1</td>\n",
              "      <td>266</td>\n",
              "      <td>5</td>\n",
              "      <td>3</td>\n",
              "      <td>270</td>\n",
              "    </tr>\n",
              "  </tbody>\n",
              "</table>\n",
              "</div>"
            ],
            "text/plain": [
              "                     Name   Sex    Ticket            Cabin Embarked\n",
              "count                 418   418       418               91      418\n",
              "unique                418     2       363               76        3\n",
              "top     Samaan, Mr. Elias  male  PC 17608  B57 B59 B63 B66        S\n",
              "freq                    1   266         5                3      270"
            ]
          },
          "metadata": {
            "tags": []
          },
          "execution_count": 14
        }
      ]
    },
    {
      "cell_type": "markdown",
      "metadata": {
        "id": "sQydgKlw8Ssd"
      },
      "source": [
        "**1. 남성 탑승객이 여성 탑승객 보다 많은 것을 알 수 있다.**\r\n",
        "\r\n",
        "**2. 다수의 승객분들이 Southampton에서 탑승한 것을 알 수 있다.**"
      ]
    },
    {
      "cell_type": "markdown",
      "metadata": {
        "id": "1WwbtLH78shB"
      },
      "source": [
        "# 시각화를 통한 데이터 탐색하기"
      ]
    },
    {
      "cell_type": "markdown",
      "metadata": {
        "id": "fZLW_Mu5Q01y"
      },
      "source": [
        "**티켓의 등급이 높을 수록 생존율이 높으며, 여성의 생존률이 남성의 생존과 비교했을때 월등 하다는 것을 알 수 있다.**"
      ]
    },
    {
      "cell_type": "code",
      "metadata": {
        "colab": {
          "base_uri": "https://localhost:8080/",
          "height": 406
        },
        "id": "hKQZ7grW7-j-",
        "outputId": "8b07f6b8-ea3b-4321-db2e-6f0f0b2f7e33"
      },
      "source": [
        "fig, axes = plt.subplots(1, 2, figsize = (12, 6))\r\n",
        "\r\n",
        "sns.barplot(x = 'Pclass', y = 'Survived', ax = axes[0], data = train_df)\r\n",
        "sns.barplot(x = 'Pclass', y = 'Survived', hue = 'Sex', ax = axes[1], data = train_df)"
      ],
      "execution_count": 15,
      "outputs": [
        {
          "output_type": "execute_result",
          "data": {
            "text/plain": [
              "<matplotlib.axes._subplots.AxesSubplot at 0x7faf16bbf080>"
            ]
          },
          "metadata": {
            "tags": []
          },
          "execution_count": 15
        },
        {
          "output_type": "display_data",
          "data": {
            "image/png": "[encoded data removed]",
            "text/plain": [
              "<Figure size 864x432 with 2 Axes>"
            ]
          },
          "metadata": {
            "tags": [],
            "needs_background": "light"
          }
        }
      ]
    },
    {
      "cell_type": "code",
      "metadata": {
        "id": "P52ZFGbTqhlB",
        "outputId": "249eb983-6e75-4f04-92f3-8b8b297212c6",
        "colab": {
          "base_uri": "https://localhost:8080/",
          "height": 138
        }
      },
      "source": [
        "pd.crosstab(train_df.Pclass, train_df.Survived, margins=True).style.background_gradient(cmap = 'summer_r')"
      ],
      "execution_count": 17,
      "outputs": [
        {
          "output_type": "execute_result",
          "data": {
            "text/html": [
              "<style  type=\"text/css\" >\n",
              "#T_1c3642e8_7381_11eb_9c4b_0242ac1c0002row0_col0,#T_1c3642e8_7381_11eb_9c4b_0242ac1c0002row1_col1,#T_1c3642e8_7381_11eb_9c4b_0242ac1c0002row1_col2{\n",
              "            background-color:  #ffff66;\n",
              "            color:  #000000;\n",
              "        }#T_1c3642e8_7381_11eb_9c4b_0242ac1c0002row0_col1{\n",
              "            background-color:  #cee666;\n",
              "            color:  #000000;\n",
              "        }#T_1c3642e8_7381_11eb_9c4b_0242ac1c0002row0_col2{\n",
              "            background-color:  #f4fa66;\n",
              "            color:  #000000;\n",
              "        }#T_1c3642e8_7381_11eb_9c4b_0242ac1c0002row1_col0{\n",
              "            background-color:  #f6fa66;\n",
              "            color:  #000000;\n",
              "        }#T_1c3642e8_7381_11eb_9c4b_0242ac1c0002row2_col0{\n",
              "            background-color:  #60b066;\n",
              "            color:  #000000;\n",
              "        }#T_1c3642e8_7381_11eb_9c4b_0242ac1c0002row2_col1{\n",
              "            background-color:  #dfef66;\n",
              "            color:  #000000;\n",
              "        }#T_1c3642e8_7381_11eb_9c4b_0242ac1c0002row2_col2{\n",
              "            background-color:  #90c866;\n",
              "            color:  #000000;\n",
              "        }#T_1c3642e8_7381_11eb_9c4b_0242ac1c0002row3_col0,#T_1c3642e8_7381_11eb_9c4b_0242ac1c0002row3_col1,#T_1c3642e8_7381_11eb_9c4b_0242ac1c0002row3_col2{\n",
              "            background-color:  #008066;\n",
              "            color:  #f1f1f1;\n",
              "        }</style><table id=\"T_1c3642e8_7381_11eb_9c4b_0242ac1c0002\" ><thead>    <tr>        <th class=\"index_name level0\" >Survived</th>        <th class=\"col_heading level0 col0\" >0</th>        <th class=\"col_heading level0 col1\" >1</th>        <th class=\"col_heading level0 col2\" >All</th>    </tr>    <tr>        <th class=\"index_name level0\" >Pclass</th>        <th class=\"blank\" ></th>        <th class=\"blank\" ></th>        <th class=\"blank\" ></th>    </tr></thead><tbody>\n",
              "                <tr>\n",
              "                        <th id=\"T_1c3642e8_7381_11eb_9c4b_0242ac1c0002level0_row0\" class=\"row_heading level0 row0\" >1</th>\n",
              "                        <td id=\"T_1c3642e8_7381_11eb_9c4b_0242ac1c0002row0_col0\" class=\"data row0 col0\" >80</td>\n",
              "                        <td id=\"T_1c3642e8_7381_11eb_9c4b_0242ac1c0002row0_col1\" class=\"data row0 col1\" >136</td>\n",
              "                        <td id=\"T_1c3642e8_7381_11eb_9c4b_0242ac1c0002row0_col2\" class=\"data row0 col2\" >216</td>\n",
              "            </tr>\n",
              "            <tr>\n",
              "                        <th id=\"T_1c3642e8_7381_11eb_9c4b_0242ac1c0002level0_row1\" class=\"row_heading level0 row1\" >2</th>\n",
              "                        <td id=\"T_1c3642e8_7381_11eb_9c4b_0242ac1c0002row1_col0\" class=\"data row1 col0\" >97</td>\n",
              "                        <td id=\"T_1c3642e8_7381_11eb_9c4b_0242ac1c0002row1_col1\" class=\"data row1 col1\" >87</td>\n",
              "                        <td id=\"T_1c3642e8_7381_11eb_9c4b_0242ac1c0002row1_col2\" class=\"data row1 col2\" >184</td>\n",
              "            </tr>\n",
              "            <tr>\n",
              "                        <th id=\"T_1c3642e8_7381_11eb_9c4b_0242ac1c0002level0_row2\" class=\"row_heading level0 row2\" >3</th>\n",
              "                        <td id=\"T_1c3642e8_7381_11eb_9c4b_0242ac1c0002row2_col0\" class=\"data row2 col0\" >372</td>\n",
              "                        <td id=\"T_1c3642e8_7381_11eb_9c4b_0242ac1c0002row2_col1\" class=\"data row2 col1\" >119</td>\n",
              "                        <td id=\"T_1c3642e8_7381_11eb_9c4b_0242ac1c0002row2_col2\" class=\"data row2 col2\" >491</td>\n",
              "            </tr>\n",
              "            <tr>\n",
              "                        <th id=\"T_1c3642e8_7381_11eb_9c4b_0242ac1c0002level0_row3\" class=\"row_heading level0 row3\" >All</th>\n",
              "                        <td id=\"T_1c3642e8_7381_11eb_9c4b_0242ac1c0002row3_col0\" class=\"data row3 col0\" >549</td>\n",
              "                        <td id=\"T_1c3642e8_7381_11eb_9c4b_0242ac1c0002row3_col1\" class=\"data row3 col1\" >342</td>\n",
              "                        <td id=\"T_1c3642e8_7381_11eb_9c4b_0242ac1c0002row3_col2\" class=\"data row3 col2\" >891</td>\n",
              "            </tr>\n",
              "    </tbody></table>"
            ],
            "text/plain": [
              "<pandas.io.formats.style.Styler at 0x7faf16b047f0>"
            ]
          },
          "metadata": {
            "tags": []
          },
          "execution_count": 17
        }
      ]
    },
    {
      "cell_type": "markdown",
      "metadata": {
        "id": "lWCpufJ1T039"
      },
      "source": [
        "**여성의 생존율이 훨씬 높다는 것을 알게 되었다.**"
      ]
    },
    {
      "cell_type": "code",
      "metadata": {
        "colab": {
          "base_uri": "https://localhost:8080/",
          "height": 106
        },
        "id": "Dm3ItnHqR5PR",
        "outputId": "cd80ff75-1c67-42a0-b9de-14b825ed01f4"
      },
      "source": [
        "train_df[['Sex', 'Survived']].groupby('Sex', as_index = False).mean()"
      ],
      "execution_count": 90,
      "outputs": [
        {
          "output_type": "execute_result",
          "data": {
            "text/html": [
              "<div>\n",
              "<style scoped>\n",
              "    .dataframe tbody tr th:only-of-type {\n",
              "        vertical-align: middle;\n",
              "    }\n",
              "\n",
              "    .dataframe tbody tr th {\n",
              "        vertical-align: top;\n",
              "    }\n",
              "\n",
              "    .dataframe thead th {\n",
              "        text-align: right;\n",
              "    }\n",
              "</style>\n",
              "<table border=\"1\" class=\"dataframe\">\n",
              "  <thead>\n",
              "    <tr style=\"text-align: right;\">\n",
              "      <th></th>\n",
              "      <th>Sex</th>\n",
              "      <th>Survived</th>\n",
              "    </tr>\n",
              "  </thead>\n",
              "  <tbody>\n",
              "    <tr>\n",
              "      <th>0</th>\n",
              "      <td>female</td>\n",
              "      <td>0.742038</td>\n",
              "    </tr>\n",
              "    <tr>\n",
              "      <th>1</th>\n",
              "      <td>male</td>\n",
              "      <td>0.188908</td>\n",
              "    </tr>\n",
              "  </tbody>\n",
              "</table>\n",
              "</div>"
            ],
            "text/plain": [
              "      Sex  Survived\n",
              "0  female  0.742038\n",
              "1    male  0.188908"
            ]
          },
          "metadata": {
            "tags": []
          },
          "execution_count": 90
        }
      ]
    },
    {
      "cell_type": "code",
      "metadata": {
        "id": "LSypOSofqI18",
        "outputId": "27e9e7a9-4ea8-4731-d6f4-ff0b4d04064f",
        "colab": {
          "base_uri": "https://localhost:8080/"
        }
      },
      "source": [
        "train_df.groupby(['Sex','Survived'])['Survived'].count()"
      ],
      "execution_count": 16,
      "outputs": [
        {
          "output_type": "execute_result",
          "data": {
            "text/plain": [
              "Sex     Survived\n",
              "female  0            81\n",
              "        1           233\n",
              "male    0           468\n",
              "        1           109\n",
              "Name: Survived, dtype: int64"
            ]
          },
          "metadata": {
            "tags": []
          },
          "execution_count": 16
        }
      ]
    },
    {
      "cell_type": "code",
      "metadata": {
        "colab": {
          "base_uri": "https://localhost:8080/",
          "height": 297
        },
        "id": "HJoTmt5g9VRn",
        "outputId": "f8ef61a9-2204-4f1c-ec89-4c531e071e32"
      },
      "source": [
        "sns.barplot(x = 'Sex', y = 'Survived', data = train_df)"
      ],
      "execution_count": 91,
      "outputs": [
        {
          "output_type": "execute_result",
          "data": {
            "text/plain": [
              "<matplotlib.axes._subplots.AxesSubplot at 0x7fad372e5ac8>"
            ]
          },
          "metadata": {
            "tags": []
          },
          "execution_count": 91
        },
        {
          "output_type": "display_data",
          "data": {
            "image/png": "[encoded data removed]",
            "text/plain": [
              "<Figure size 432x288 with 1 Axes>"
            ]
          },
          "metadata": {
            "tags": [],
            "needs_background": "light"
          }
        }
      ]
    },
    {
      "cell_type": "markdown",
      "metadata": {
        "id": "SgGC4_eIU83U"
      },
      "source": [
        "**생존이 더 높은 연령층은 10세 미만 아이들과  76세의 고령탑승객이다.**"
      ]
    },
    {
      "cell_type": "code",
      "metadata": {
        "colab": {
          "base_uri": "https://localhost:8080/",
          "height": 297
        },
        "id": "fbJhnixURzGq",
        "outputId": "d29954fa-38e2-4d27-9063-1559875bbbb8"
      },
      "source": [
        "sns.histplot(x = 'Age',hue = 'Survived', data = train_df)"
      ],
      "execution_count": 92,
      "outputs": [
        {
          "output_type": "execute_result",
          "data": {
            "text/plain": [
              "<matplotlib.axes._subplots.AxesSubplot at 0x7fad37b58358>"
            ]
          },
          "metadata": {
            "tags": []
          },
          "execution_count": 92
        },
        {
          "output_type": "display_data",
          "data": {
            "image/png": "[encoded data removed]",
            "text/plain": [
              "<Figure size 432x288 with 1 Axes>"
            ]
          },
          "metadata": {
            "tags": [],
            "needs_background": "light"
          }
        }
      ]
    },
    {
      "cell_type": "code",
      "metadata": {
        "id": "7mNYPw1V9yEY",
        "colab": {
          "base_uri": "https://localhost:8080/"
        },
        "outputId": "bd63f8f1-39d6-45b9-f8f7-2a39cf891aa8"
      },
      "source": [
        "for total_data in combine:\r\n",
        "  young_people = total_data.loc[total_data['Age'] < 10, 'Age']\r\n",
        "\r\n",
        "young_people"
      ],
      "execution_count": 93,
      "outputs": [
        {
          "output_type": "execute_result",
          "data": {
            "text/plain": [
              "21     9.00\n",
              "80     6.00\n",
              "89     2.00\n",
              "117    1.00\n",
              "161    7.00\n",
              "194    8.00\n",
              "196    6.00\n",
              "201    0.33\n",
              "203    8.00\n",
              "250    0.92\n",
              "263    1.00\n",
              "281    0.75\n",
              "283    9.00\n",
              "284    2.00\n",
              "296    1.00\n",
              "307    0.83\n",
              "354    0.17\n",
              "379    5.00\n",
              "389    6.00\n",
              "409    3.00\n",
              "Name: Age, dtype: float64"
            ]
          },
          "metadata": {
            "tags": []
          },
          "execution_count": 93
        }
      ]
    },
    {
      "cell_type": "code",
      "metadata": {
        "id": "lA6cmjPM9RNg",
        "colab": {
          "base_uri": "https://localhost:8080/"
        },
        "outputId": "a115c5db-8bad-4c29-df91-35cb58efe68c"
      },
      "source": [
        "for total_data in combine:\r\n",
        "  old_people = total_data.loc[total_data['Age']>70, 'Age']\r\n",
        "old_people"
      ],
      "execution_count": 94,
      "outputs": [
        {
          "output_type": "execute_result",
          "data": {
            "text/plain": [
              "96    76.0\n",
              "Name: Age, dtype: float64"
            ]
          },
          "metadata": {
            "tags": []
          },
          "execution_count": 94
        }
      ]
    },
    {
      "cell_type": "markdown",
      "metadata": {
        "id": "QmkdSz8Y_2LZ"
      },
      "source": [
        "**아래 두가지 데이터로는 인사이트를 얻기 힘들것 같다.**"
      ]
    },
    {
      "cell_type": "code",
      "metadata": {
        "id": "apAG8C2B-yn9",
        "colab": {
          "base_uri": "https://localhost:8080/",
          "height": 297
        },
        "outputId": "301e87c0-0f4f-4961-a192-e89a977918f9"
      },
      "source": [
        "sns.barplot(x = 'SibSp', y = 'Survived', data = train_df)"
      ],
      "execution_count": 95,
      "outputs": [
        {
          "output_type": "execute_result",
          "data": {
            "text/plain": [
              "<matplotlib.axes._subplots.AxesSubplot at 0x7fad36612588>"
            ]
          },
          "metadata": {
            "tags": []
          },
          "execution_count": 95
        },
        {
          "output_type": "display_data",
          "data": {
            "image/png": "[encoded data removed]",
            "text/plain": [
              "<Figure size 432x288 with 1 Axes>"
            ]
          },
          "metadata": {
            "tags": [],
            "needs_background": "light"
          }
        }
      ]
    },
    {
      "cell_type": "code",
      "metadata": {
        "id": "5kVwiIus_CWd",
        "colab": {
          "base_uri": "https://localhost:8080/",
          "height": 297
        },
        "outputId": "8f203427-3da3-44bc-da5d-7ab0720e914c"
      },
      "source": [
        "sns.barplot(x = 'Parch', y = 'Survived', data = train_df)"
      ],
      "execution_count": 96,
      "outputs": [
        {
          "output_type": "execute_result",
          "data": {
            "text/plain": [
              "<matplotlib.axes._subplots.AxesSubplot at 0x7fad3659a278>"
            ]
          },
          "metadata": {
            "tags": []
          },
          "execution_count": 96
        },
        {
          "output_type": "display_data",
          "data": {
            "image/png": "[encoded data removed]",
            "text/plain": [
              "<Figure size 432x288 with 1 Axes>"
            ]
          },
          "metadata": {
            "tags": [],
            "needs_background": "light"
          }
        }
      ]
    },
    {
      "cell_type": "code",
      "metadata": {
        "colab": {
          "base_uri": "https://localhost:8080/",
          "height": 297
        },
        "id": "nawHgQLbff6W",
        "outputId": "e9aaea3f-2a4c-46de-b3cb-ba2f6f10076f"
      },
      "source": [
        "sns.barplot(x = 'Embarked', y = 'Survived', data = train_df)"
      ],
      "execution_count": 97,
      "outputs": [
        {
          "output_type": "execute_result",
          "data": {
            "text/plain": [
              "<matplotlib.axes._subplots.AxesSubplot at 0x7fad3651ef28>"
            ]
          },
          "metadata": {
            "tags": []
          },
          "execution_count": 97
        },
        {
          "output_type": "display_data",
          "data": {
            "image/png": "[encoded data removed]",
            "text/plain": [
              "<Figure size 432x288 with 1 Axes>"
            ]
          },
          "metadata": {
            "tags": [],
            "needs_background": "light"
          }
        }
      ]
    },
    {
      "cell_type": "markdown",
      "metadata": {
        "id": "RDWb4h7hg-F1"
      },
      "source": [
        "탑승장소에 대한 자세한 특성을 알아봐야할 필요가 있을것 같다.\r\n"
      ]
    },
    {
      "cell_type": "markdown",
      "metadata": {
        "id": "rgxOXrGBYmw0"
      },
      "source": [
        "Fare 같은 데이터는 전처리 이후 시각화 할 예정"
      ]
    },
    {
      "cell_type": "markdown",
      "metadata": {
        "id": "p1NZ8dAFhU6o"
      },
      "source": [
        "# 데이터 전처리"
      ]
    },
    {
      "cell_type": "markdown",
      "metadata": {
        "id": "pqF4DOzP0jvZ"
      },
      "source": [
        "## Name 컬럼 전처리"
      ]
    },
    {
      "cell_type": "markdown",
      "metadata": {
        "id": "alW5OvmICqZb"
      },
      "source": [
        "Name 의 경우는 성 으로 추정되는 데이터를 바탕으로 구분을 하고자 한다."
      ]
    },
    {
      "cell_type": "code",
      "metadata": {
        "colab": {
          "base_uri": "https://localhost:8080/"
        },
        "id": "NzIZRGG805OO",
        "outputId": "71a50971-1b9a-43ed-a343-d7fbfdda0080"
      },
      "source": [
        "# train_df\r\n",
        "Name = []\r\n",
        "\r\n",
        "for i in train_df['Name']:\r\n",
        "  for h in i.split(' '):\r\n",
        "    if '.' in h:\r\n",
        "      Name.append(h[:-1])\r\n",
        "\r\n",
        "Name"
      ],
      "execution_count": 98,
      "outputs": [
        {
          "output_type": "execute_result",
          "data": {
            "text/plain": [
              "['Mr',\n",
              " 'Mrs',\n",
              " 'Miss',\n",
              " 'Mrs',\n",
              " 'Mr',\n",
              " 'Mr',\n",
              " 'Mr',\n",
              " 'Master',\n",
              " 'Mrs',\n",
              " 'Mrs',\n",
              " 'Miss',\n",
              " 'Miss',\n",
              " 'Mr',\n",
              " 'Mr',\n",
              " 'Miss',\n",
              " 'Mrs',\n",
              " 'Master',\n",
              " 'Mr',\n",
              " 'Mrs',\n",
              " 'Mrs',\n",
              " 'Mr',\n",
              " 'Mr',\n",
              " 'Miss',\n",
              " 'Mr',\n",
              " 'Miss',\n",
              " 'Mrs',\n",
              " 'Mr',\n",
              " 'Mr',\n",
              " 'Miss',\n",
              " 'Mr',\n",
              " 'Don',\n",
              " 'Mrs',\n",
              " 'Miss',\n",
              " 'Mr',\n",
              " 'Mr',\n",
              " 'Mr',\n",
              " 'Mr',\n",
              " 'Mr',\n",
              " 'Miss',\n",
              " 'Miss',\n",
              " 'Mrs',\n",
              " 'Mrs',\n",
              " 'Mr',\n",
              " 'Miss',\n",
              " 'Miss',\n",
              " 'Mr',\n",
              " 'Mr',\n",
              " 'Miss',\n",
              " 'Mr',\n",
              " 'Mrs',\n",
              " 'Master',\n",
              " 'Mr',\n",
              " 'Mrs',\n",
              " 'Mrs',\n",
              " 'Mr',\n",
              " 'Mr',\n",
              " 'Miss',\n",
              " 'Mr',\n",
              " 'Miss',\n",
              " 'Master',\n",
              " 'Mr',\n",
              " 'Miss',\n",
              " 'Mr',\n",
              " 'Master',\n",
              " 'Mr',\n",
              " 'Master',\n",
              " 'Mrs',\n",
              " 'Mr',\n",
              " 'Miss',\n",
              " 'Mr',\n",
              " 'Mr',\n",
              " 'Miss',\n",
              " 'Mr',\n",
              " 'Mr',\n",
              " 'Mr',\n",
              " 'Mr',\n",
              " 'Mr',\n",
              " 'Mr',\n",
              " 'Master',\n",
              " 'Miss',\n",
              " 'Mr',\n",
              " 'Mr',\n",
              " 'Miss',\n",
              " 'Mr',\n",
              " 'Miss',\n",
              " 'Mrs',\n",
              " 'Mr',\n",
              " 'Mr',\n",
              " 'Miss',\n",
              " 'Mr',\n",
              " 'Mr',\n",
              " 'Mr',\n",
              " 'Mr',\n",
              " 'Mr',\n",
              " 'Mr',\n",
              " 'Mr',\n",
              " 'Mr',\n",
              " 'Mr',\n",
              " 'Mrs',\n",
              " 'Mr',\n",
              " 'Miss',\n",
              " 'Mr',\n",
              " 'Mr',\n",
              " 'Mr',\n",
              " 'Mr',\n",
              " 'Mr',\n",
              " 'Miss',\n",
              " 'Mr',\n",
              " 'Mr',\n",
              " 'Miss',\n",
              " 'Mr',\n",
              " 'Miss',\n",
              " 'Mr',\n",
              " 'Miss',\n",
              " 'Miss',\n",
              " 'Mr',\n",
              " 'Mr',\n",
              " 'Mr',\n",
              " 'Mr',\n",
              " 'Miss',\n",
              " 'Mr',\n",
              " 'Mr',\n",
              " 'Mr',\n",
              " 'Miss',\n",
              " 'Mr',\n",
              " 'Master',\n",
              " 'Mr',\n",
              " 'Mr',\n",
              " 'Miss',\n",
              " 'Mr',\n",
              " 'Mr',\n",
              " 'Mr',\n",
              " 'Mrs',\n",
              " 'Mrs',\n",
              " 'Mr',\n",
              " 'Mr',\n",
              " 'Miss',\n",
              " 'Mr',\n",
              " 'Mr',\n",
              " 'Mr',\n",
              " 'Mrs',\n",
              " 'Miss',\n",
              " 'Mrs',\n",
              " 'Mr',\n",
              " 'Mr',\n",
              " 'Mr',\n",
              " 'Mr',\n",
              " 'Miss',\n",
              " 'Mr',\n",
              " 'Rev',\n",
              " 'Rev',\n",
              " 'Mrs',\n",
              " 'Mr',\n",
              " 'Mr',\n",
              " 'Mr',\n",
              " 'Mr',\n",
              " 'Miss',\n",
              " 'Mr',\n",
              " 'Mr',\n",
              " 'Master',\n",
              " 'Mr',\n",
              " 'Mrs',\n",
              " 'Mr',\n",
              " 'Mr',\n",
              " 'Master',\n",
              " 'Master',\n",
              " 'Mrs',\n",
              " 'Mrs',\n",
              " 'Mr',\n",
              " 'Mr',\n",
              " 'Mr',\n",
              " 'Master',\n",
              " 'Miss',\n",
              " 'Mr',\n",
              " 'Mr',\n",
              " 'Mr',\n",
              " 'Master',\n",
              " 'Miss',\n",
              " 'Mr',\n",
              " 'Mr',\n",
              " 'Miss',\n",
              " 'Mr',\n",
              " 'Master',\n",
              " 'Master',\n",
              " 'Miss',\n",
              " 'Mr',\n",
              " 'Mrs',\n",
              " 'Mr',\n",
              " 'Mr',\n",
              " 'Mr',\n",
              " 'Mrs',\n",
              " 'Mr',\n",
              " 'Miss',\n",
              " 'Master',\n",
              " 'Mrs',\n",
              " 'Miss',\n",
              " 'Mr',\n",
              " 'Mr',\n",
              " 'Miss',\n",
              " 'Miss',\n",
              " 'Mr',\n",
              " 'Mr',\n",
              " 'Mr',\n",
              " 'Mr',\n",
              " 'Mr',\n",
              " 'Miss',\n",
              " 'Mr',\n",
              " 'Mr',\n",
              " 'Miss',\n",
              " 'Mr',\n",
              " 'Mr',\n",
              " 'Miss',\n",
              " 'Mr',\n",
              " 'Mr',\n",
              " 'Mr',\n",
              " 'Miss',\n",
              " 'Miss',\n",
              " 'Mr',\n",
              " 'Miss',\n",
              " 'Mr',\n",
              " 'Mr',\n",
              " 'Mr',\n",
              " 'Mr',\n",
              " 'Mr',\n",
              " 'Mr',\n",
              " 'Mr',\n",
              " 'Mr',\n",
              " 'Mr',\n",
              " 'Mr',\n",
              " 'Miss',\n",
              " 'Mrs',\n",
              " 'Mr',\n",
              " 'Mr',\n",
              " 'Miss',\n",
              " 'Mr',\n",
              " 'Miss',\n",
              " 'Mr',\n",
              " 'Miss',\n",
              " 'Mr',\n",
              " 'Mr',\n",
              " 'Miss',\n",
              " 'Miss',\n",
              " 'Mr',\n",
              " 'Mr',\n",
              " 'Mr',\n",
              " 'Dr',\n",
              " 'Miss',\n",
              " 'Mrs',\n",
              " 'Mr',\n",
              " 'Rev',\n",
              " 'Mr',\n",
              " 'Mrs',\n",
              " 'Mr',\n",
              " 'Mr',\n",
              " 'Mrs',\n",
              " 'Mrs',\n",
              " 'Mrs',\n",
              " 'Miss',\n",
              " 'Miss',\n",
              " 'Mrs',\n",
              " 'Mr',\n",
              " 'Master',\n",
              " 'Mr',\n",
              " 'Mr',\n",
              " 'Miss',\n",
              " 'Mr',\n",
              " 'Mr',\n",
              " 'Mr',\n",
              " 'Mrs',\n",
              " 'Miss',\n",
              " 'Mr',\n",
              " 'Mr',\n",
              " 'Mrs',\n",
              " 'Mr',\n",
              " 'Miss',\n",
              " 'Miss',\n",
              " 'Miss',\n",
              " 'Mr',\n",
              " 'Master',\n",
              " 'Mrs',\n",
              " 'Mr',\n",
              " 'Mr',\n",
              " 'Mr',\n",
              " 'Mr',\n",
              " 'Mr',\n",
              " 'Mr',\n",
              " 'Mr',\n",
              " 'Mr',\n",
              " 'Mr',\n",
              " 'Miss',\n",
              " 'Miss',\n",
              " 'Mrs',\n",
              " 'Mr',\n",
              " 'Miss',\n",
              " 'Mr',\n",
              " 'Mr',\n",
              " 'Mr',\n",
              " 'Miss',\n",
              " 'Mr',\n",
              " 'Mrs',\n",
              " 'Miss',\n",
              " 'Mr',\n",
              " 'Mr',\n",
              " 'Miss',\n",
              " 'Mr',\n",
              " 'Master',\n",
              " 'Miss',\n",
              " 'Mrs',\n",
              " 'Mr',\n",
              " 'Miss',\n",
              " 'Miss',\n",
              " 'Miss',\n",
              " 'Mrs',\n",
              " 'Mr',\n",
              " 'Mr',\n",
              " 'Miss',\n",
              " 'Mrs',\n",
              " 'Dr',\n",
              " 'Miss',\n",
              " 'Mrs',\n",
              " 'Mr',\n",
              " 'Mr',\n",
              " 'Miss',\n",
              " 'Mrs',\n",
              " 'Mr',\n",
              " 'Miss',\n",
              " 'Mr',\n",
              " 'Mrs',\n",
              " 'Mrs',\n",
              " 'Miss',\n",
              " 'Miss',\n",
              " 'Mr',\n",
              " 'Mr',\n",
              " 'Mr',\n",
              " 'Mrs',\n",
              " 'Mr',\n",
              " 'Mr',\n",
              " 'Miss',\n",
              " 'Mr',\n",
              " 'Mr',\n",
              " 'Master',\n",
              " 'Miss',\n",
              " 'Mr',\n",
              " 'Mr',\n",
              " 'Mr',\n",
              " 'Miss',\n",
              " 'Miss',\n",
              " 'Mrs',\n",
              " 'Master',\n",
              " 'Mr',\n",
              " 'Mr',\n",
              " 'Mr',\n",
              " 'Mr',\n",
              " 'Mr',\n",
              " 'Mr',\n",
              " 'Mr',\n",
              " 'Miss',\n",
              " 'Miss',\n",
              " 'Miss',\n",
              " 'Miss',\n",
              " 'Mr',\n",
              " 'Mr',\n",
              " 'Mrs',\n",
              " 'Mr',\n",
              " 'Mr',\n",
              " 'Mr',\n",
              " 'Mrs',\n",
              " 'Mrs',\n",
              " 'Miss',\n",
              " 'Mme',\n",
              " 'Mr',\n",
              " 'Mr',\n",
              " 'Mr',\n",
              " 'Mr',\n",
              " 'Miss',\n",
              " 'Mrs',\n",
              " 'Miss',\n",
              " 'Mr',\n",
              " 'Mr',\n",
              " 'Mr',\n",
              " 'Miss',\n",
              " 'Miss',\n",
              " 'Mr',\n",
              " 'Mrs',\n",
              " 'Mr',\n",
              " 'Mr',\n",
              " 'Master',\n",
              " 'Miss',\n",
              " 'Mr',\n",
              " 'Miss',\n",
              " 'Mr',\n",
              " 'Mr',\n",
              " 'Mr',\n",
              " 'Miss',\n",
              " 'Mrs',\n",
              " 'Mr',\n",
              " 'Miss',\n",
              " 'Mr',\n",
              " 'Dr',\n",
              " 'Mrs',\n",
              " 'Mr',\n",
              " 'Mr',\n",
              " 'Miss',\n",
              " 'Mr',\n",
              " 'Miss',\n",
              " 'Mr',\n",
              " 'Mr',\n",
              " 'Master',\n",
              " 'Mr',\n",
              " 'Miss',\n",
              " 'Mr',\n",
              " 'Mr',\n",
              " 'Miss',\n",
              " 'Mr',\n",
              " 'Mr',\n",
              " 'Mrs',\n",
              " 'Mrs',\n",
              " 'Miss',\n",
              " 'Mr',\n",
              " 'Miss',\n",
              " 'Mr',\n",
              " 'Mr',\n",
              " 'Mr',\n",
              " 'Mrs',\n",
              " 'Mr',\n",
              " 'Mr',\n",
              " 'Mrs',\n",
              " 'Miss',\n",
              " 'Mr',\n",
              " 'Mr',\n",
              " 'Mr',\n",
              " 'Mrs',\n",
              " 'Mrs',\n",
              " 'Mr',\n",
              " 'Mr',\n",
              " 'Miss',\n",
              " 'Miss',\n",
              " 'Mrs',\n",
              " 'Mr',\n",
              " 'Mr',\n",
              " 'Mrs',\n",
              " 'Mr',\n",
              " 'Mr',\n",
              " 'Ms',\n",
              " 'Mr',\n",
              " 'Master',\n",
              " 'Miss',\n",
              " 'Mr',\n",
              " 'Miss',\n",
              " 'Major',\n",
              " 'Mr',\n",
              " 'Mr',\n",
              " 'Mr',\n",
              " 'Mr',\n",
              " 'Mr',\n",
              " 'Mr',\n",
              " 'Mr',\n",
              " 'Mrs',\n",
              " 'Miss',\n",
              " 'Mr',\n",
              " 'Mr',\n",
              " 'Mr',\n",
              " 'Mr',\n",
              " 'Mr',\n",
              " 'Mr',\n",
              " 'Mr',\n",
              " 'Mr',\n",
              " 'Mr',\n",
              " 'Mr',\n",
              " 'Miss',\n",
              " 'Mr',\n",
              " 'Mr',\n",
              " 'Mrs',\n",
              " 'Mrs',\n",
              " 'Miss',\n",
              " 'Mr',\n",
              " 'Mr',\n",
              " 'Mr',\n",
              " 'Mr',\n",
              " 'Miss',\n",
              " 'Master',\n",
              " 'Mr',\n",
              " 'Mr',\n",
              " 'Mrs',\n",
              " 'Mr',\n",
              " 'Miss',\n",
              " 'Mrs',\n",
              " 'Mr',\n",
              " 'Mr',\n",
              " 'Master',\n",
              " 'Mr',\n",
              " 'Mr',\n",
              " 'Mr',\n",
              " 'Mr',\n",
              " 'Mr',\n",
              " 'Mr',\n",
              " 'Miss',\n",
              " 'Mr',\n",
              " 'Mrs',\n",
              " 'Mr',\n",
              " 'Mr',\n",
              " 'Miss',\n",
              " 'Miss',\n",
              " 'Miss',\n",
              " 'Miss',\n",
              " 'Mr',\n",
              " 'Mrs',\n",
              " 'Mr',\n",
              " 'Mr',\n",
              " 'Mr',\n",
              " 'Mr',\n",
              " 'Mr',\n",
              " 'Mr',\n",
              " 'Mrs',\n",
              " 'L',\n",
              " 'Mr',\n",
              " 'Mr',\n",
              " 'Mrs',\n",
              " 'Mr',\n",
              " 'Mrs',\n",
              " 'Mr',\n",
              " 'Miss',\n",
              " 'Mr',\n",
              " 'Mr',\n",
              " 'Mrs',\n",
              " 'Mr',\n",
              " 'Mr',\n",
              " 'Miss',\n",
              " 'Mr',\n",
              " 'Mr',\n",
              " 'Mr',\n",
              " 'Miss',\n",
              " 'Mr',\n",
              " 'Mr',\n",
              " 'Mrs',\n",
              " 'Miss',\n",
              " 'Miss',\n",
              " 'Major',\n",
              " 'Miss',\n",
              " 'Mr',\n",
              " 'Miss',\n",
              " 'Miss',\n",
              " 'Miss',\n",
              " 'Miss',\n",
              " 'Mr',\n",
              " 'Mr',\n",
              " 'Mr',\n",
              " 'Mrs',\n",
              " 'Mr',\n",
              " 'Mr',\n",
              " 'Master',\n",
              " 'Mr',\n",
              " 'Mr',\n",
              " 'Mr',\n",
              " 'Mr',\n",
              " 'Miss',\n",
              " 'Mr',\n",
              " 'Lady',\n",
              " 'Mr',\n",
              " 'Mrs',\n",
              " 'Mrs',\n",
              " 'Mr',\n",
              " 'Mr',\n",
              " 'Mr',\n",
              " 'Mr',\n",
              " 'Miss',\n",
              " 'Mr',\n",
              " 'Mr',\n",
              " 'Mrs',\n",
              " 'Mr',\n",
              " 'Mr',\n",
              " 'Mr',\n",
              " 'Mrs',\n",
              " 'Mr',\n",
              " 'Miss',\n",
              " 'Mr',\n",
              " 'Mr',\n",
              " 'Miss',\n",
              " 'Mrs',\n",
              " 'Mrs',\n",
              " 'Mr',\n",
              " 'Miss',\n",
              " 'Mrs',\n",
              " 'Mr',\n",
              " 'Mr',\n",
              " 'Mr',\n",
              " 'Miss',\n",
              " 'Mr',\n",
              " 'Mr',\n",
              " 'Mr',\n",
              " 'Mr',\n",
              " 'Mr',\n",
              " 'Mrs',\n",
              " 'Mr',\n",
              " 'Miss',\n",
              " 'Mr',\n",
              " 'Mr',\n",
              " 'Miss',\n",
              " 'Mr',\n",
              " 'Mr',\n",
              " 'Sir',\n",
              " 'Mrs',\n",
              " 'Mr',\n",
              " 'Mr',\n",
              " 'Mr',\n",
              " 'Mr',\n",
              " 'Mr',\n",
              " 'Mr',\n",
              " 'Mr',\n",
              " 'Mrs',\n",
              " 'Miss',\n",
              " 'Mrs',\n",
              " 'Mr',\n",
              " 'Miss',\n",
              " 'Mr',\n",
              " 'Mr',\n",
              " 'Miss',\n",
              " 'Mr',\n",
              " 'Mrs',\n",
              " 'Miss',\n",
              " 'Mr',\n",
              " 'Mr',\n",
              " 'Mr',\n",
              " 'Mr',\n",
              " 'Mr',\n",
              " 'Mr',\n",
              " 'Mr',\n",
              " 'Rev',\n",
              " 'Miss',\n",
              " 'Mr',\n",
              " 'Mr',\n",
              " 'Mr',\n",
              " 'Mr',\n",
              " 'Dr',\n",
              " 'Mr',\n",
              " 'Miss',\n",
              " 'Miss',\n",
              " 'Mr',\n",
              " 'Mr',\n",
              " 'Mrs',\n",
              " 'Mr',\n",
              " 'Mr',\n",
              " 'Mlle',\n",
              " 'Miss',\n",
              " 'Mr',\n",
              " 'Miss',\n",
              " 'Mr',\n",
              " 'Mr',\n",
              " 'Col',\n",
              " 'Mr',\n",
              " 'Miss',\n",
              " 'Mr',\n",
              " 'Miss',\n",
              " 'Mr',\n",
              " 'Miss',\n",
              " 'Miss',\n",
              " 'Mr',\n",
              " 'Mr',\n",
              " 'Mrs',\n",
              " 'Mr',\n",
              " 'Mr',\n",
              " 'Dr',\n",
              " 'Mr',\n",
              " 'Mr',\n",
              " 'Mr',\n",
              " 'Mr',\n",
              " 'Mr',\n",
              " 'Mr',\n",
              " 'Mr',\n",
              " 'Mr',\n",
              " 'Mrs',\n",
              " 'Mrs',\n",
              " 'Mr',\n",
              " 'Mr',\n",
              " 'Mr',\n",
              " 'Mr',\n",
              " 'Mr',\n",
              " 'Mr',\n",
              " 'Miss',\n",
              " 'Mrs',\n",
              " 'Mr',\n",
              " 'Miss',\n",
              " 'Mr',\n",
              " 'Mr',\n",
              " 'Mr',\n",
              " 'Mr',\n",
              " 'Mr',\n",
              " 'Mr',\n",
              " 'Mr',\n",
              " 'Mr',\n",
              " 'Miss',\n",
              " 'Mr',\n",
              " 'Miss',\n",
              " 'Mr',\n",
              " 'Mr',\n",
              " 'Col',\n",
              " 'Mr',\n",
              " 'Mr',\n",
              " 'Miss',\n",
              " 'Mr',\n",
              " 'Mr',\n",
              " 'Mrs',\n",
              " 'Mr',\n",
              " 'Miss',\n",
              " 'Mr',\n",
              " 'Mr',\n",
              " 'Mr',\n",
              " 'Mrs',\n",
              " 'Mr',\n",
              " 'Miss',\n",
              " 'Master',\n",
              " 'Mlle',\n",
              " 'Mr',\n",
              " 'Mr',\n",
              " 'Mr',\n",
              " 'Mr',\n",
              " 'Mr',\n",
              " 'Miss',\n",
              " 'Miss',\n",
              " 'Mr',\n",
              " 'Mr',\n",
              " 'Miss',\n",
              " 'Mr',\n",
              " 'Mr',\n",
              " 'Mr',\n",
              " 'Mr',\n",
              " 'Mr',\n",
              " 'Mrs',\n",
              " 'Miss',\n",
              " 'Mr',\n",
              " 'Miss',\n",
              " 'Miss',\n",
              " 'Mr',\n",
              " 'Mr',\n",
              " 'Mr',\n",
              " 'Mr',\n",
              " 'Mr',\n",
              " 'Mrs',\n",
              " 'Mr',\n",
              " 'Mr',\n",
              " 'Mr',\n",
              " 'Mr',\n",
              " 'Mr',\n",
              " 'Miss',\n",
              " 'Mr',\n",
              " 'Mr',\n",
              " 'Capt',\n",
              " 'Mr',\n",
              " 'Miss',\n",
              " 'Mr',\n",
              " 'Mr',\n",
              " 'Miss',\n",
              " 'Master',\n",
              " 'Mr',\n",
              " 'Mr',\n",
              " 'Mrs',\n",
              " 'Master',\n",
              " 'Mr',\n",
              " 'Mr',\n",
              " 'Mr',\n",
              " 'Countess',\n",
              " 'Mr',\n",
              " 'Mr',\n",
              " 'Mr',\n",
              " 'Mrs',\n",
              " 'Mr',\n",
              " 'Mrs',\n",
              " 'Dr',\n",
              " 'Miss',\n",
              " 'Mr',\n",
              " 'Mr',\n",
              " 'Mr',\n",
              " 'Mr',\n",
              " 'Mrs',\n",
              " 'Mr',\n",
              " 'Mrs',\n",
              " 'Mr',\n",
              " 'Mr',\n",
              " 'Miss',\n",
              " 'Mr',\n",
              " 'Mrs',\n",
              " 'Miss',\n",
              " 'Mrs',\n",
              " 'Mr',\n",
              " 'Mr',\n",
              " 'Mr',\n",
              " 'Mr',\n",
              " 'Miss',\n",
              " 'Master',\n",
              " 'Master',\n",
              " 'Mr',\n",
              " 'Mr',\n",
              " 'Mr',\n",
              " 'Miss',\n",
              " 'Mr',\n",
              " 'Mr',\n",
              " 'Mr',\n",
              " 'Dr',\n",
              " 'Mrs',\n",
              " 'Mr',\n",
              " 'Mrs',\n",
              " 'Mr',\n",
              " 'Mrs',\n",
              " 'Master',\n",
              " 'Master',\n",
              " 'Mr',\n",
              " 'Mr',\n",
              " 'Mr',\n",
              " 'Miss',\n",
              " 'Mr',\n",
              " 'Mrs',\n",
              " 'Mr',\n",
              " 'Mr',\n",
              " 'Mr',\n",
              " 'Miss',\n",
              " 'Mr',\n",
              " 'Mr',\n",
              " 'Miss',\n",
              " 'Mr',\n",
              " 'Mr',\n",
              " 'Master',\n",
              " 'Mrs',\n",
              " 'Mr',\n",
              " 'Jonkheer',\n",
              " 'Mrs',\n",
              " 'Master',\n",
              " 'Mr',\n",
              " 'Mr',\n",
              " 'Master',\n",
              " 'Mr',\n",
              " 'Mrs',\n",
              " 'Mrs',\n",
              " 'Master',\n",
              " 'Mr',\n",
              " 'Mr',\n",
              " 'Mr',\n",
              " 'Miss',\n",
              " 'Mr',\n",
              " 'Mr',\n",
              " 'Mr',\n",
              " 'Mr',\n",
              " 'Mr',\n",
              " 'Mr',\n",
              " 'Miss',\n",
              " 'Mr',\n",
              " 'Mr',\n",
              " 'Mr',\n",
              " 'Mr',\n",
              " 'Mr',\n",
              " 'Rev',\n",
              " 'Mrs',\n",
              " 'Master',\n",
              " 'Mr',\n",
              " 'Miss',\n",
              " 'Miss',\n",
              " 'Mrs',\n",
              " 'Mrs',\n",
              " 'Mrs',\n",
              " 'Mr',\n",
              " 'Mrs',\n",
              " 'Mr',\n",
              " 'Mr',\n",
              " 'Mr',\n",
              " 'Mrs',\n",
              " 'Miss',\n",
              " 'Mr',\n",
              " 'Mrs',\n",
              " 'Miss',\n",
              " 'Mr',\n",
              " 'Mr',\n",
              " 'Master',\n",
              " 'Mr',\n",
              " 'Mrs',\n",
              " 'Mr',\n",
              " 'Mr',\n",
              " 'Mrs',\n",
              " 'Miss',\n",
              " 'Mr',\n",
              " 'Mr',\n",
              " 'Mr',\n",
              " 'Mrs',\n",
              " 'Mrs',\n",
              " 'Mr',\n",
              " 'Miss',\n",
              " 'Mr',\n",
              " 'Mr',\n",
              " 'Mrs',\n",
              " 'Rev',\n",
              " 'Miss',\n",
              " 'Miss',\n",
              " 'Mr',\n",
              " 'Mr']"
            ]
          },
          "metadata": {
            "tags": []
          },
          "execution_count": 98
        }
      ]
    },
    {
      "cell_type": "code",
      "metadata": {
        "colab": {
          "base_uri": "https://localhost:8080/"
        },
        "id": "D-5MkEt3FEOp",
        "outputId": "45059ea6-6b10-48ce-e92c-64b5ab2df3f5"
      },
      "source": [
        "# test_df\r\n",
        "Name2 = []\r\n",
        "\r\n",
        "for i in test_df['Name']:\r\n",
        "  for h in i.split(' '):\r\n",
        "    if '.' in h:\r\n",
        "      Name2.append(h[:-1])\r\n",
        "\r\n",
        "Name2"
      ],
      "execution_count": 99,
      "outputs": [
        {
          "output_type": "execute_result",
          "data": {
            "text/plain": [
              "['Mr',\n",
              " 'Mrs',\n",
              " 'Mr',\n",
              " 'Mr',\n",
              " 'Mrs',\n",
              " 'Mr',\n",
              " 'Miss',\n",
              " 'Mr',\n",
              " 'Mrs',\n",
              " 'Mr',\n",
              " 'Mr',\n",
              " 'Mr',\n",
              " 'Mrs',\n",
              " 'Mr',\n",
              " 'Mrs',\n",
              " 'Mrs',\n",
              " 'Mr',\n",
              " 'Mr',\n",
              " 'Miss',\n",
              " 'Mrs',\n",
              " 'Mr',\n",
              " 'Master',\n",
              " 'Mrs',\n",
              " 'Mr',\n",
              " 'Mrs',\n",
              " 'Mr',\n",
              " 'Miss',\n",
              " 'Mr',\n",
              " 'Mr',\n",
              " 'Mr',\n",
              " 'Mr',\n",
              " 'Mr',\n",
              " 'Mrs',\n",
              " 'Mrs',\n",
              " 'Mr',\n",
              " 'Mr',\n",
              " 'Miss',\n",
              " 'Miss',\n",
              " 'Mr',\n",
              " 'Mr',\n",
              " 'Mr',\n",
              " 'Mr',\n",
              " 'Mr',\n",
              " 'Mrs',\n",
              " 'Mrs',\n",
              " 'Mr',\n",
              " 'Mr',\n",
              " 'Mr',\n",
              " 'Mrs',\n",
              " 'Mrs',\n",
              " 'Mr',\n",
              " 'Mr',\n",
              " 'Miss',\n",
              " 'Miss',\n",
              " 'Mr',\n",
              " 'Master',\n",
              " 'Mr',\n",
              " 'Mr',\n",
              " 'Mr',\n",
              " 'Miss',\n",
              " 'Mr',\n",
              " 'Mr',\n",
              " 'Mr',\n",
              " 'Miss',\n",
              " 'Master',\n",
              " 'Mrs',\n",
              " 'Miss',\n",
              " 'Mr',\n",
              " 'Mr',\n",
              " 'Mrs',\n",
              " 'Miss',\n",
              " 'Mr',\n",
              " 'Miss',\n",
              " 'Mr',\n",
              " 'Miss',\n",
              " 'Mr',\n",
              " 'Mr',\n",
              " 'Mrs',\n",
              " 'Mr',\n",
              " 'Miss',\n",
              " 'Master',\n",
              " 'Mr',\n",
              " 'Mr',\n",
              " 'Mr',\n",
              " 'Mr',\n",
              " 'Mr',\n",
              " 'Miss',\n",
              " 'Miss',\n",
              " 'Ms',\n",
              " 'Master',\n",
              " 'Mrs',\n",
              " 'Mr',\n",
              " 'Mrs',\n",
              " 'Mr',\n",
              " 'Mr',\n",
              " 'Mr',\n",
              " 'Mrs',\n",
              " 'Mr',\n",
              " 'Miss',\n",
              " 'Mr',\n",
              " 'Mrs',\n",
              " 'Mr',\n",
              " 'Mr',\n",
              " 'Mr',\n",
              " 'Mrs',\n",
              " 'Mr',\n",
              " 'Mr',\n",
              " 'Mr',\n",
              " 'Mr',\n",
              " 'Mr',\n",
              " 'Mr',\n",
              " 'Miss',\n",
              " 'Miss',\n",
              " 'Miss',\n",
              " 'Mrs',\n",
              " 'Mr',\n",
              " 'Mr',\n",
              " 'Miss',\n",
              " 'Mr',\n",
              " 'Mrs',\n",
              " 'Miss',\n",
              " 'Mr',\n",
              " 'Mrs',\n",
              " 'Mr',\n",
              " 'Mr',\n",
              " 'Miss',\n",
              " 'Mr',\n",
              " 'Miss',\n",
              " 'Mr',\n",
              " 'Mr',\n",
              " 'Mr',\n",
              " 'Col',\n",
              " 'Mrs',\n",
              " 'Mr',\n",
              " 'Mr',\n",
              " 'Mr',\n",
              " 'Mr',\n",
              " 'Mr',\n",
              " 'Miss',\n",
              " 'Mr',\n",
              " 'Miss',\n",
              " 'Miss',\n",
              " 'Mr',\n",
              " 'Mr',\n",
              " 'Mr',\n",
              " 'Mr',\n",
              " 'Mr',\n",
              " 'Mr',\n",
              " 'Mr',\n",
              " 'Rev',\n",
              " 'Mrs',\n",
              " 'Mr',\n",
              " 'Mr',\n",
              " 'Mrs',\n",
              " 'Master',\n",
              " 'Mr',\n",
              " 'Miss',\n",
              " 'Miss',\n",
              " 'Mr',\n",
              " 'Mrs',\n",
              " 'Miss',\n",
              " 'Master',\n",
              " 'Miss',\n",
              " 'Mr',\n",
              " 'Rev',\n",
              " 'Mrs',\n",
              " 'Mr',\n",
              " 'Mr',\n",
              " 'Mrs',\n",
              " 'Miss',\n",
              " 'Mr',\n",
              " 'Mr',\n",
              " 'Mr',\n",
              " 'Mr',\n",
              " 'Mr',\n",
              " 'Miss',\n",
              " 'Miss',\n",
              " 'Mr',\n",
              " 'Mrs',\n",
              " 'Mrs',\n",
              " 'Mr',\n",
              " 'Mr',\n",
              " 'Mrs',\n",
              " 'Mr',\n",
              " 'Mrs',\n",
              " 'Mr',\n",
              " 'Miss',\n",
              " 'Mr',\n",
              " 'Miss',\n",
              " 'Mr',\n",
              " 'Mr',\n",
              " 'Mr',\n",
              " 'Master',\n",
              " 'Mr',\n",
              " 'Master',\n",
              " 'Mr',\n",
              " 'Master',\n",
              " 'Miss',\n",
              " 'Mr',\n",
              " 'Mrs',\n",
              " 'Miss',\n",
              " 'Master',\n",
              " 'Col',\n",
              " 'Miss',\n",
              " 'Mr',\n",
              " 'Mr',\n",
              " 'Miss',\n",
              " 'Mr',\n",
              " 'Miss',\n",
              " 'Mr',\n",
              " 'Mr',\n",
              " 'Mr',\n",
              " 'Mr',\n",
              " 'Mrs',\n",
              " 'Miss',\n",
              " 'Mr',\n",
              " 'Miss',\n",
              " 'Mr',\n",
              " 'Mrs',\n",
              " 'Mr',\n",
              " 'Miss',\n",
              " 'Mr',\n",
              " 'Mrs',\n",
              " 'Mr',\n",
              " 'Mrs',\n",
              " 'Mrs',\n",
              " 'Mr',\n",
              " 'Miss',\n",
              " 'Mr',\n",
              " 'Mr',\n",
              " 'Mr',\n",
              " 'Miss',\n",
              " 'Mr',\n",
              " 'Mr',\n",
              " 'Mr',\n",
              " 'Mr',\n",
              " 'Mr',\n",
              " 'Mr',\n",
              " 'Miss',\n",
              " 'Mrs',\n",
              " 'Mrs',\n",
              " 'Mrs',\n",
              " 'Mr',\n",
              " 'Mr',\n",
              " 'Master',\n",
              " 'Mr',\n",
              " 'Mrs',\n",
              " 'Mr',\n",
              " 'Mrs',\n",
              " 'Mrs',\n",
              " 'Miss',\n",
              " 'Mr',\n",
              " 'Mr',\n",
              " 'Mr',\n",
              " 'Mr',\n",
              " 'Mr',\n",
              " 'Mr',\n",
              " 'Mr',\n",
              " 'Miss',\n",
              " 'Mr',\n",
              " 'Mr',\n",
              " 'Mr',\n",
              " 'Mrs',\n",
              " 'Miss',\n",
              " 'Mr',\n",
              " 'Mr',\n",
              " 'Mr',\n",
              " 'Mr',\n",
              " 'Miss',\n",
              " 'Mr',\n",
              " 'Mr',\n",
              " 'Mr',\n",
              " 'Mrs',\n",
              " 'Miss',\n",
              " 'Mr',\n",
              " 'Miss',\n",
              " 'Mr',\n",
              " 'Mr',\n",
              " 'Mr',\n",
              " 'Mr',\n",
              " 'Miss',\n",
              " 'Master',\n",
              " 'Miss',\n",
              " 'Miss',\n",
              " 'Miss',\n",
              " 'Mr',\n",
              " 'Mr',\n",
              " 'Mr',\n",
              " 'Mr',\n",
              " 'Mr',\n",
              " 'Mr',\n",
              " 'Miss',\n",
              " 'Mr',\n",
              " 'Dr',\n",
              " 'Mr',\n",
              " 'Mr',\n",
              " 'Miss',\n",
              " 'Mr',\n",
              " 'Mr',\n",
              " 'Mr',\n",
              " 'Mr',\n",
              " 'Mr',\n",
              " 'Mr',\n",
              " 'Mr',\n",
              " 'Miss',\n",
              " 'Mrs',\n",
              " 'Mr',\n",
              " 'Master',\n",
              " 'Mr',\n",
              " 'Mrs',\n",
              " 'Mr',\n",
              " 'Mr',\n",
              " 'Mr',\n",
              " 'Miss',\n",
              " 'Mrs',\n",
              " 'Miss',\n",
              " 'Mr',\n",
              " 'Mr',\n",
              " 'Mr',\n",
              " 'Mr',\n",
              " 'Mr',\n",
              " 'Mr',\n",
              " 'Mr',\n",
              " 'Mr',\n",
              " 'Miss',\n",
              " 'Mr',\n",
              " 'Miss',\n",
              " 'Mr',\n",
              " 'Mr',\n",
              " 'Mr',\n",
              " 'Mrs',\n",
              " 'Mr',\n",
              " 'Mr',\n",
              " 'Mrs',\n",
              " 'Mr',\n",
              " 'Mr',\n",
              " 'Mr',\n",
              " 'Mr',\n",
              " 'Mr',\n",
              " 'Master',\n",
              " 'Mr',\n",
              " 'Mr',\n",
              " 'Mr',\n",
              " 'Mrs',\n",
              " 'Master',\n",
              " 'Miss',\n",
              " 'Mr',\n",
              " 'Mrs',\n",
              " 'Mr',\n",
              " 'Miss',\n",
              " 'Mrs',\n",
              " 'Mr',\n",
              " 'Mr',\n",
              " 'Mr',\n",
              " 'Miss',\n",
              " 'Mr',\n",
              " 'Mrs',\n",
              " 'Mr',\n",
              " 'Mr',\n",
              " 'Mrs',\n",
              " 'Master',\n",
              " 'Mrs',\n",
              " 'Mrs',\n",
              " 'Mr',\n",
              " 'Mrs',\n",
              " 'Mrs',\n",
              " 'Mr',\n",
              " 'Miss',\n",
              " 'Mrs',\n",
              " 'Mr',\n",
              " 'Mr',\n",
              " 'Miss',\n",
              " 'Mr',\n",
              " 'Mr',\n",
              " 'Mrs',\n",
              " 'Miss',\n",
              " 'Miss',\n",
              " 'Mr',\n",
              " 'Mr',\n",
              " 'Master',\n",
              " 'Mr',\n",
              " 'Mr',\n",
              " 'Mrs',\n",
              " 'Mrs',\n",
              " 'Mr',\n",
              " 'Miss',\n",
              " 'Mr',\n",
              " 'Mr',\n",
              " 'Mr',\n",
              " 'Master',\n",
              " 'Mr',\n",
              " 'Mrs',\n",
              " 'Master',\n",
              " 'Mr',\n",
              " 'Mr',\n",
              " 'Mrs',\n",
              " 'Mr',\n",
              " 'Mrs',\n",
              " 'Mr',\n",
              " 'Mr',\n",
              " 'Miss',\n",
              " 'Mr',\n",
              " 'Miss',\n",
              " 'Mr',\n",
              " 'Mr',\n",
              " 'Mr',\n",
              " 'Mr',\n",
              " 'Mr',\n",
              " 'Miss',\n",
              " 'Miss',\n",
              " 'Miss',\n",
              " 'Mrs',\n",
              " 'Miss',\n",
              " 'Mr',\n",
              " 'Dona',\n",
              " 'Mr',\n",
              " 'Mr',\n",
              " 'Master']"
            ]
          },
          "metadata": {
            "tags": []
          },
          "execution_count": 99
        }
      ]
    },
    {
      "cell_type": "code",
      "metadata": {
        "colab": {
          "base_uri": "https://localhost:8080/"
        },
        "id": "CiR4SnevJark",
        "outputId": "ece60b71-9be4-4023-f0b6-380a9f384f95"
      },
      "source": [
        "# train_df\r\n",
        "train_df['Name'] = pd.Series(Name)\r\n",
        "train_df['Name']\r\n",
        "\r\n",
        "# test_df\r\n",
        "test_df['Name'] = pd.Series(Name2)\r\n",
        "test_df['Name'] "
      ],
      "execution_count": 100,
      "outputs": [
        {
          "output_type": "execute_result",
          "data": {
            "text/plain": [
              "0          Mr\n",
              "1         Mrs\n",
              "2          Mr\n",
              "3          Mr\n",
              "4         Mrs\n",
              "        ...  \n",
              "413        Mr\n",
              "414      Dona\n",
              "415        Mr\n",
              "416        Mr\n",
              "417    Master\n",
              "Name: Name, Length: 418, dtype: object"
            ]
          },
          "metadata": {
            "tags": []
          },
          "execution_count": 100
        }
      ]
    },
    {
      "cell_type": "code",
      "metadata": {
        "colab": {
          "base_uri": "https://localhost:8080/"
        },
        "id": "UCFvxcHxKD0U",
        "outputId": "ce27fc3f-d4e8-4d11-8298-99fc337491a8"
      },
      "source": [
        "train_df['Name'].unique()"
      ],
      "execution_count": 101,
      "outputs": [
        {
          "output_type": "execute_result",
          "data": {
            "text/plain": [
              "array(['Mr', 'Mrs', 'Miss', 'Master', 'Don', 'Rev', 'Dr', 'Mme', 'Ms',\n",
              "       'Major', 'L', 'Lady', 'Sir', 'Mlle', 'Col', 'Capt', 'Countess',\n",
              "       'Jonkheer'], dtype=object)"
            ]
          },
          "metadata": {
            "tags": []
          },
          "execution_count": 101
        }
      ]
    },
    {
      "cell_type": "code",
      "metadata": {
        "colab": {
          "base_uri": "https://localhost:8080/",
          "height": 406
        },
        "id": "MiGQoC48KiWb",
        "outputId": "a88c6a28-f553-4640-876a-4b568f855cc3"
      },
      "source": [
        "plt.figure(figsize = (12, 6))\r\n",
        "sns.countplot(x = 'Name',data = train_df)"
      ],
      "execution_count": 102,
      "outputs": [
        {
          "output_type": "execute_result",
          "data": {
            "text/plain": [
              "<matplotlib.axes._subplots.AxesSubplot at 0x7fad36df1048>"
            ]
          },
          "metadata": {
            "tags": []
          },
          "execution_count": 102
        },
        {
          "output_type": "display_data",
          "data": {
            "image/png": "[encoded data removed]",
            "text/plain": [
              "<Figure size 864x432 with 1 Axes>"
            ]
          },
          "metadata": {
            "tags": [],
            "needs_background": "light"
          }
        }
      ]
    },
    {
      "cell_type": "code",
      "metadata": {
        "colab": {
          "base_uri": "https://localhost:8080/",
          "height": 406
        },
        "id": "FH_8DKhLRate",
        "outputId": "5ac32839-70c9-4d5e-dde7-156488df74cf"
      },
      "source": [
        "plt.figure(figsize = (12, 6))\r\n",
        "sns.countplot(x = 'Name',data = test_df)"
      ],
      "execution_count": 103,
      "outputs": [
        {
          "output_type": "execute_result",
          "data": {
            "text/plain": [
              "<matplotlib.axes._subplots.AxesSubplot at 0x7fad364a3e48>"
            ]
          },
          "metadata": {
            "tags": []
          },
          "execution_count": 103
        },
        {
          "output_type": "display_data",
          "data": {
            "image/png": "[encoded data removed]",
            "text/plain": [
              "<Figure size 864x432 with 1 Axes>"
            ]
          },
          "metadata": {
            "tags": [],
            "needs_background": "light"
          }
        }
      ]
    },
    {
      "cell_type": "markdown",
      "metadata": {
        "id": "wzyvHUBhMU_k"
      },
      "source": [
        "Mr, Mrs, Miss, Master 를 제외한 다른 이름들은 극히 적은 인원수 를 가지고 있으므로 Others로 통일한다."
      ]
    },
    {
      "cell_type": "code",
      "metadata": {
        "colab": {
          "base_uri": "https://localhost:8080/",
          "height": 402
        },
        "id": "3GLPZVgwMf-k",
        "outputId": "218e07a3-cf82-485b-d979-f53603b44c0f"
      },
      "source": [
        "for all_data in combine:\r\n",
        "  all_data['Name'] =all_data['Name'].replace (['Don', 'Rev', 'Dr', 'Mme', 'Ms',\r\n",
        "       'Major', 'L', 'Lady', 'Sir', 'Mlle', 'Col', 'Capt', 'Countess',\r\n",
        "       'Jonkheer','Dona'],'Others') # test셋에만 Dona라는 이름이 있으므로 주의\r\n",
        "\r\n",
        "test_df"
      ],
      "execution_count": 104,
      "outputs": [
        {
          "output_type": "execute_result",
          "data": {
            "text/html": [
              "<div>\n",
              "<style scoped>\n",
              "    .dataframe tbody tr th:only-of-type {\n",
              "        vertical-align: middle;\n",
              "    }\n",
              "\n",
              "    .dataframe tbody tr th {\n",
              "        vertical-align: top;\n",
              "    }\n",
              "\n",
              "    .dataframe thead th {\n",
              "        text-align: right;\n",
              "    }\n",
              "</style>\n",
              "<table border=\"1\" class=\"dataframe\">\n",
              "  <thead>\n",
              "    <tr style=\"text-align: right;\">\n",
              "      <th></th>\n",
              "      <th>PassengerId</th>\n",
              "      <th>Pclass</th>\n",
              "      <th>Name</th>\n",
              "      <th>Sex</th>\n",
              "      <th>Age</th>\n",
              "      <th>SibSp</th>\n",
              "      <th>Parch</th>\n",
              "      <th>Ticket</th>\n",
              "      <th>Fare</th>\n",
              "      <th>Cabin</th>\n",
              "      <th>Embarked</th>\n",
              "    </tr>\n",
              "  </thead>\n",
              "  <tbody>\n",
              "    <tr>\n",
              "      <th>0</th>\n",
              "      <td>892</td>\n",
              "      <td>3</td>\n",
              "      <td>Mr</td>\n",
              "      <td>male</td>\n",
              "      <td>34.5</td>\n",
              "      <td>0</td>\n",
              "      <td>0</td>\n",
              "      <td>330911</td>\n",
              "      <td>7.8292</td>\n",
              "      <td>NaN</td>\n",
              "      <td>Q</td>\n",
              "    </tr>\n",
              "    <tr>\n",
              "      <th>1</th>\n",
              "      <td>893</td>\n",
              "      <td>3</td>\n",
              "      <td>Mrs</td>\n",
              "      <td>female</td>\n",
              "      <td>47.0</td>\n",
              "      <td>1</td>\n",
              "      <td>0</td>\n",
              "      <td>363272</td>\n",
              "      <td>7.0000</td>\n",
              "      <td>NaN</td>\n",
              "      <td>S</td>\n",
              "    </tr>\n",
              "    <tr>\n",
              "      <th>2</th>\n",
              "      <td>894</td>\n",
              "      <td>2</td>\n",
              "      <td>Mr</td>\n",
              "      <td>male</td>\n",
              "      <td>62.0</td>\n",
              "      <td>0</td>\n",
              "      <td>0</td>\n",
              "      <td>240276</td>\n",
              "      <td>9.6875</td>\n",
              "      <td>NaN</td>\n",
              "      <td>Q</td>\n",
              "    </tr>\n",
              "    <tr>\n",
              "      <th>3</th>\n",
              "      <td>895</td>\n",
              "      <td>3</td>\n",
              "      <td>Mr</td>\n",
              "      <td>male</td>\n",
              "      <td>27.0</td>\n",
              "      <td>0</td>\n",
              "      <td>0</td>\n",
              "      <td>315154</td>\n",
              "      <td>8.6625</td>\n",
              "      <td>NaN</td>\n",
              "      <td>S</td>\n",
              "    </tr>\n",
              "    <tr>\n",
              "      <th>4</th>\n",
              "      <td>896</td>\n",
              "      <td>3</td>\n",
              "      <td>Mrs</td>\n",
              "      <td>female</td>\n",
              "      <td>22.0</td>\n",
              "      <td>1</td>\n",
              "      <td>1</td>\n",
              "      <td>3101298</td>\n",
              "      <td>12.2875</td>\n",
              "      <td>NaN</td>\n",
              "      <td>S</td>\n",
              "    </tr>\n",
              "    <tr>\n",
              "      <th>...</th>\n",
              "      <td>...</td>\n",
              "      <td>...</td>\n",
              "      <td>...</td>\n",
              "      <td>...</td>\n",
              "      <td>...</td>\n",
              "      <td>...</td>\n",
              "      <td>...</td>\n",
              "      <td>...</td>\n",
              "      <td>...</td>\n",
              "      <td>...</td>\n",
              "      <td>...</td>\n",
              "    </tr>\n",
              "    <tr>\n",
              "      <th>413</th>\n",
              "      <td>1305</td>\n",
              "      <td>3</td>\n",
              "      <td>Mr</td>\n",
              "      <td>male</td>\n",
              "      <td>NaN</td>\n",
              "      <td>0</td>\n",
              "      <td>0</td>\n",
              "      <td>A.5. 3236</td>\n",
              "      <td>8.0500</td>\n",
              "      <td>NaN</td>\n",
              "      <td>S</td>\n",
              "    </tr>\n",
              "    <tr>\n",
              "      <th>414</th>\n",
              "      <td>1306</td>\n",
              "      <td>1</td>\n",
              "      <td>Others</td>\n",
              "      <td>female</td>\n",
              "      <td>39.0</td>\n",
              "      <td>0</td>\n",
              "      <td>0</td>\n",
              "      <td>PC 17758</td>\n",
              "      <td>108.9000</td>\n",
              "      <td>C105</td>\n",
              "      <td>C</td>\n",
              "    </tr>\n",
              "    <tr>\n",
              "      <th>415</th>\n",
              "      <td>1307</td>\n",
              "      <td>3</td>\n",
              "      <td>Mr</td>\n",
              "      <td>male</td>\n",
              "      <td>38.5</td>\n",
              "      <td>0</td>\n",
              "      <td>0</td>\n",
              "      <td>SOTON/O.Q. 3101262</td>\n",
              "      <td>7.2500</td>\n",
              "      <td>NaN</td>\n",
              "      <td>S</td>\n",
              "    </tr>\n",
              "    <tr>\n",
              "      <th>416</th>\n",
              "      <td>1308</td>\n",
              "      <td>3</td>\n",
              "      <td>Mr</td>\n",
              "      <td>male</td>\n",
              "      <td>NaN</td>\n",
              "      <td>0</td>\n",
              "      <td>0</td>\n",
              "      <td>359309</td>\n",
              "      <td>8.0500</td>\n",
              "      <td>NaN</td>\n",
              "      <td>S</td>\n",
              "    </tr>\n",
              "    <tr>\n",
              "      <th>417</th>\n",
              "      <td>1309</td>\n",
              "      <td>3</td>\n",
              "      <td>Master</td>\n",
              "      <td>male</td>\n",
              "      <td>NaN</td>\n",
              "      <td>1</td>\n",
              "      <td>1</td>\n",
              "      <td>2668</td>\n",
              "      <td>22.3583</td>\n",
              "      <td>NaN</td>\n",
              "      <td>C</td>\n",
              "    </tr>\n",
              "  </tbody>\n",
              "</table>\n",
              "<p>418 rows × 11 columns</p>\n",
              "</div>"
            ],
            "text/plain": [
              "     PassengerId  Pclass    Name  ...      Fare  Cabin  Embarked\n",
              "0            892       3      Mr  ...    7.8292    NaN         Q\n",
              "1            893       3     Mrs  ...    7.0000    NaN         S\n",
              "2            894       2      Mr  ...    9.6875    NaN         Q\n",
              "3            895       3      Mr  ...    8.6625    NaN         S\n",
              "4            896       3     Mrs  ...   12.2875    NaN         S\n",
              "..           ...     ...     ...  ...       ...    ...       ...\n",
              "413         1305       3      Mr  ...    8.0500    NaN         S\n",
              "414         1306       1  Others  ...  108.9000   C105         C\n",
              "415         1307       3      Mr  ...    7.2500    NaN         S\n",
              "416         1308       3      Mr  ...    8.0500    NaN         S\n",
              "417         1309       3  Master  ...   22.3583    NaN         C\n",
              "\n",
              "[418 rows x 11 columns]"
            ]
          },
          "metadata": {
            "tags": []
          },
          "execution_count": 104
        }
      ]
    },
    {
      "cell_type": "code",
      "metadata": {
        "colab": {
          "base_uri": "https://localhost:8080/"
        },
        "id": "32l53MWI5V5F",
        "outputId": "c01e7781-4b32-4b33-cb47-7db2e94c5225"
      },
      "source": [
        "train_df['Name'].unique()"
      ],
      "execution_count": 105,
      "outputs": [
        {
          "output_type": "execute_result",
          "data": {
            "text/plain": [
              "array(['Mr', 'Mrs', 'Miss', 'Master', 'Others'], dtype=object)"
            ]
          },
          "metadata": {
            "tags": []
          },
          "execution_count": 105
        }
      ]
    },
    {
      "cell_type": "code",
      "metadata": {
        "colab": {
          "base_uri": "https://localhost:8080/"
        },
        "id": "AYb3Y1R9SRmX",
        "outputId": "84e25790-50df-4d54-8105-f2d28fbcf291"
      },
      "source": [
        "test_df['Name'].unique()"
      ],
      "execution_count": 106,
      "outputs": [
        {
          "output_type": "execute_result",
          "data": {
            "text/plain": [
              "array(['Mr', 'Mrs', 'Miss', 'Master', 'Others'], dtype=object)"
            ]
          },
          "metadata": {
            "tags": []
          },
          "execution_count": 106
        }
      ]
    },
    {
      "cell_type": "code",
      "metadata": {
        "colab": {
          "base_uri": "https://localhost:8080/",
          "height": 402
        },
        "id": "UC5Q9t626Ki6",
        "outputId": "bf7925b6-e728-4546-9ef0-0a854e0b2766"
      },
      "source": [
        "# 다수의 이름 순서대로 mapping\r\n",
        "\r\n",
        "name_mapping = {'Mr' : 0, 'Miss' : 1, 'Mrs' : 2, 'Master' : 3, 'Others' : 4}\r\n",
        "for all_data in combine:\r\n",
        "  all_data['Name'] = all_data['Name'].map(name_mapping).astype(int)\r\n",
        "\r\n",
        "# train_df\r\n",
        "test_df\r\n"
      ],
      "execution_count": 107,
      "outputs": [
        {
          "output_type": "execute_result",
          "data": {
            "text/html": [
              "<div>\n",
              "<style scoped>\n",
              "    .dataframe tbody tr th:only-of-type {\n",
              "        vertical-align: middle;\n",
              "    }\n",
              "\n",
              "    .dataframe tbody tr th {\n",
              "        vertical-align: top;\n",
              "    }\n",
              "\n",
              "    .dataframe thead th {\n",
              "        text-align: right;\n",
              "    }\n",
              "</style>\n",
              "<table border=\"1\" class=\"dataframe\">\n",
              "  <thead>\n",
              "    <tr style=\"text-align: right;\">\n",
              "      <th></th>\n",
              "      <th>PassengerId</th>\n",
              "      <th>Pclass</th>\n",
              "      <th>Name</th>\n",
              "      <th>Sex</th>\n",
              "      <th>Age</th>\n",
              "      <th>SibSp</th>\n",
              "      <th>Parch</th>\n",
              "      <th>Ticket</th>\n",
              "      <th>Fare</th>\n",
              "      <th>Cabin</th>\n",
              "      <th>Embarked</th>\n",
              "    </tr>\n",
              "  </thead>\n",
              "  <tbody>\n",
              "    <tr>\n",
              "      <th>0</th>\n",
              "      <td>892</td>\n",
              "      <td>3</td>\n",
              "      <td>0</td>\n",
              "      <td>male</td>\n",
              "      <td>34.5</td>\n",
              "      <td>0</td>\n",
              "      <td>0</td>\n",
              "      <td>330911</td>\n",
              "      <td>7.8292</td>\n",
              "      <td>NaN</td>\n",
              "      <td>Q</td>\n",
              "    </tr>\n",
              "    <tr>\n",
              "      <th>1</th>\n",
              "      <td>893</td>\n",
              "      <td>3</td>\n",
              "      <td>2</td>\n",
              "      <td>female</td>\n",
              "      <td>47.0</td>\n",
              "      <td>1</td>\n",
              "      <td>0</td>\n",
              "      <td>363272</td>\n",
              "      <td>7.0000</td>\n",
              "      <td>NaN</td>\n",
              "      <td>S</td>\n",
              "    </tr>\n",
              "    <tr>\n",
              "      <th>2</th>\n",
              "      <td>894</td>\n",
              "      <td>2</td>\n",
              "      <td>0</td>\n",
              "      <td>male</td>\n",
              "      <td>62.0</td>\n",
              "      <td>0</td>\n",
              "      <td>0</td>\n",
              "      <td>240276</td>\n",
              "      <td>9.6875</td>\n",
              "      <td>NaN</td>\n",
              "      <td>Q</td>\n",
              "    </tr>\n",
              "    <tr>\n",
              "      <th>3</th>\n",
              "      <td>895</td>\n",
              "      <td>3</td>\n",
              "      <td>0</td>\n",
              "      <td>male</td>\n",
              "      <td>27.0</td>\n",
              "      <td>0</td>\n",
              "      <td>0</td>\n",
              "      <td>315154</td>\n",
              "      <td>8.6625</td>\n",
              "      <td>NaN</td>\n",
              "      <td>S</td>\n",
              "    </tr>\n",
              "    <tr>\n",
              "      <th>4</th>\n",
              "      <td>896</td>\n",
              "      <td>3</td>\n",
              "      <td>2</td>\n",
              "      <td>female</td>\n",
              "      <td>22.0</td>\n",
              "      <td>1</td>\n",
              "      <td>1</td>\n",
              "      <td>3101298</td>\n",
              "      <td>12.2875</td>\n",
              "      <td>NaN</td>\n",
              "      <td>S</td>\n",
              "    </tr>\n",
              "    <tr>\n",
              "      <th>...</th>\n",
              "      <td>...</td>\n",
              "      <td>...</td>\n",
              "      <td>...</td>\n",
              "      <td>...</td>\n",
              "      <td>...</td>\n",
              "      <td>...</td>\n",
              "      <td>...</td>\n",
              "      <td>...</td>\n",
              "      <td>...</td>\n",
              "      <td>...</td>\n",
              "      <td>...</td>\n",
              "    </tr>\n",
              "    <tr>\n",
              "      <th>413</th>\n",
              "      <td>1305</td>\n",
              "      <td>3</td>\n",
              "      <td>0</td>\n",
              "      <td>male</td>\n",
              "      <td>NaN</td>\n",
              "      <td>0</td>\n",
              "      <td>0</td>\n",
              "      <td>A.5. 3236</td>\n",
              "      <td>8.0500</td>\n",
              "      <td>NaN</td>\n",
              "      <td>S</td>\n",
              "    </tr>\n",
              "    <tr>\n",
              "      <th>414</th>\n",
              "      <td>1306</td>\n",
              "      <td>1</td>\n",
              "      <td>4</td>\n",
              "      <td>female</td>\n",
              "      <td>39.0</td>\n",
              "      <td>0</td>\n",
              "      <td>0</td>\n",
              "      <td>PC 17758</td>\n",
              "      <td>108.9000</td>\n",
              "      <td>C105</td>\n",
              "      <td>C</td>\n",
              "    </tr>\n",
              "    <tr>\n",
              "      <th>415</th>\n",
              "      <td>1307</td>\n",
              "      <td>3</td>\n",
              "      <td>0</td>\n",
              "      <td>male</td>\n",
              "      <td>38.5</td>\n",
              "      <td>0</td>\n",
              "      <td>0</td>\n",
              "      <td>SOTON/O.Q. 3101262</td>\n",
              "      <td>7.2500</td>\n",
              "      <td>NaN</td>\n",
              "      <td>S</td>\n",
              "    </tr>\n",
              "    <tr>\n",
              "      <th>416</th>\n",
              "      <td>1308</td>\n",
              "      <td>3</td>\n",
              "      <td>0</td>\n",
              "      <td>male</td>\n",
              "      <td>NaN</td>\n",
              "      <td>0</td>\n",
              "      <td>0</td>\n",
              "      <td>359309</td>\n",
              "      <td>8.0500</td>\n",
              "      <td>NaN</td>\n",
              "      <td>S</td>\n",
              "    </tr>\n",
              "    <tr>\n",
              "      <th>417</th>\n",
              "      <td>1309</td>\n",
              "      <td>3</td>\n",
              "      <td>3</td>\n",
              "      <td>male</td>\n",
              "      <td>NaN</td>\n",
              "      <td>1</td>\n",
              "      <td>1</td>\n",
              "      <td>2668</td>\n",
              "      <td>22.3583</td>\n",
              "      <td>NaN</td>\n",
              "      <td>C</td>\n",
              "    </tr>\n",
              "  </tbody>\n",
              "</table>\n",
              "<p>418 rows × 11 columns</p>\n",
              "</div>"
            ],
            "text/plain": [
              "     PassengerId  Pclass  Name  ...      Fare  Cabin  Embarked\n",
              "0            892       3     0  ...    7.8292    NaN         Q\n",
              "1            893       3     2  ...    7.0000    NaN         S\n",
              "2            894       2     0  ...    9.6875    NaN         Q\n",
              "3            895       3     0  ...    8.6625    NaN         S\n",
              "4            896       3     2  ...   12.2875    NaN         S\n",
              "..           ...     ...   ...  ...       ...    ...       ...\n",
              "413         1305       3     0  ...    8.0500    NaN         S\n",
              "414         1306       1     4  ...  108.9000   C105         C\n",
              "415         1307       3     0  ...    7.2500    NaN         S\n",
              "416         1308       3     0  ...    8.0500    NaN         S\n",
              "417         1309       3     3  ...   22.3583    NaN         C\n",
              "\n",
              "[418 rows x 11 columns]"
            ]
          },
          "metadata": {
            "tags": []
          },
          "execution_count": 107
        }
      ]
    },
    {
      "cell_type": "markdown",
      "metadata": {
        "id": "0cGdVgdZ5dLH"
      },
      "source": [
        "## Sex 컬럽 전처리"
      ]
    },
    {
      "cell_type": "markdown",
      "metadata": {
        "id": "RLPIOd6DEvUF"
      },
      "source": [
        "남성은 0으로 여성은 1로 변환한다."
      ]
    },
    {
      "cell_type": "code",
      "metadata": {
        "colab": {
          "base_uri": "https://localhost:8080/",
          "height": 402
        },
        "id": "v5tYKN025fd1",
        "outputId": "4df389a9-af70-49ca-a857-ec4ef1f08adb"
      },
      "source": [
        "sex_mapping = {'male' : 0, 'female' : 1}\r\n",
        "for all_data in combine:\r\n",
        "  all_data['Sex'] = all_data['Sex'].map(sex_mapping).astype(int)\r\n",
        "  \r\n",
        "#train_df  \r\n",
        "test_df\r\n",
        "\r\n"
      ],
      "execution_count": 108,
      "outputs": [
        {
          "output_type": "execute_result",
          "data": {
            "text/html": [
              "<div>\n",
              "<style scoped>\n",
              "    .dataframe tbody tr th:only-of-type {\n",
              "        vertical-align: middle;\n",
              "    }\n",
              "\n",
              "    .dataframe tbody tr th {\n",
              "        vertical-align: top;\n",
              "    }\n",
              "\n",
              "    .dataframe thead th {\n",
              "        text-align: right;\n",
              "    }\n",
              "</style>\n",
              "<table border=\"1\" class=\"dataframe\">\n",
              "  <thead>\n",
              "    <tr style=\"text-align: right;\">\n",
              "      <th></th>\n",
              "      <th>PassengerId</th>\n",
              "      <th>Pclass</th>\n",
              "      <th>Name</th>\n",
              "      <th>Sex</th>\n",
              "      <th>Age</th>\n",
              "      <th>SibSp</th>\n",
              "      <th>Parch</th>\n",
              "      <th>Ticket</th>\n",
              "      <th>Fare</th>\n",
              "      <th>Cabin</th>\n",
              "      <th>Embarked</th>\n",
              "    </tr>\n",
              "  </thead>\n",
              "  <tbody>\n",
              "    <tr>\n",
              "      <th>0</th>\n",
              "      <td>892</td>\n",
              "      <td>3</td>\n",
              "      <td>0</td>\n",
              "      <td>0</td>\n",
              "      <td>34.5</td>\n",
              "      <td>0</td>\n",
              "      <td>0</td>\n",
              "      <td>330911</td>\n",
              "      <td>7.8292</td>\n",
              "      <td>NaN</td>\n",
              "      <td>Q</td>\n",
              "    </tr>\n",
              "    <tr>\n",
              "      <th>1</th>\n",
              "      <td>893</td>\n",
              "      <td>3</td>\n",
              "      <td>2</td>\n",
              "      <td>1</td>\n",
              "      <td>47.0</td>\n",
              "      <td>1</td>\n",
              "      <td>0</td>\n",
              "      <td>363272</td>\n",
              "      <td>7.0000</td>\n",
              "      <td>NaN</td>\n",
              "      <td>S</td>\n",
              "    </tr>\n",
              "    <tr>\n",
              "      <th>2</th>\n",
              "      <td>894</td>\n",
              "      <td>2</td>\n",
              "      <td>0</td>\n",
              "      <td>0</td>\n",
              "      <td>62.0</td>\n",
              "      <td>0</td>\n",
              "      <td>0</td>\n",
              "      <td>240276</td>\n",
              "      <td>9.6875</td>\n",
              "      <td>NaN</td>\n",
              "      <td>Q</td>\n",
              "    </tr>\n",
              "    <tr>\n",
              "      <th>3</th>\n",
              "      <td>895</td>\n",
              "      <td>3</td>\n",
              "      <td>0</td>\n",
              "      <td>0</td>\n",
              "      <td>27.0</td>\n",
              "      <td>0</td>\n",
              "      <td>0</td>\n",
              "      <td>315154</td>\n",
              "      <td>8.6625</td>\n",
              "      <td>NaN</td>\n",
              "      <td>S</td>\n",
              "    </tr>\n",
              "    <tr>\n",
              "      <th>4</th>\n",
              "      <td>896</td>\n",
              "      <td>3</td>\n",
              "      <td>2</td>\n",
              "      <td>1</td>\n",
              "      <td>22.0</td>\n",
              "      <td>1</td>\n",
              "      <td>1</td>\n",
              "      <td>3101298</td>\n",
              "      <td>12.2875</td>\n",
              "      <td>NaN</td>\n",
              "      <td>S</td>\n",
              "    </tr>\n",
              "    <tr>\n",
              "      <th>...</th>\n",
              "      <td>...</td>\n",
              "      <td>...</td>\n",
              "      <td>...</td>\n",
              "      <td>...</td>\n",
              "      <td>...</td>\n",
              "      <td>...</td>\n",
              "      <td>...</td>\n",
              "      <td>...</td>\n",
              "      <td>...</td>\n",
              "      <td>...</td>\n",
              "      <td>...</td>\n",
              "    </tr>\n",
              "    <tr>\n",
              "      <th>413</th>\n",
              "      <td>1305</td>\n",
              "      <td>3</td>\n",
              "      <td>0</td>\n",
              "      <td>0</td>\n",
              "      <td>NaN</td>\n",
              "      <td>0</td>\n",
              "      <td>0</td>\n",
              "      <td>A.5. 3236</td>\n",
              "      <td>8.0500</td>\n",
              "      <td>NaN</td>\n",
              "      <td>S</td>\n",
              "    </tr>\n",
              "    <tr>\n",
              "      <th>414</th>\n",
              "      <td>1306</td>\n",
              "      <td>1</td>\n",
              "      <td>4</td>\n",
              "      <td>1</td>\n",
              "      <td>39.0</td>\n",
              "      <td>0</td>\n",
              "      <td>0</td>\n",
              "      <td>PC 17758</td>\n",
              "      <td>108.9000</td>\n",
              "      <td>C105</td>\n",
              "      <td>C</td>\n",
              "    </tr>\n",
              "    <tr>\n",
              "      <th>415</th>\n",
              "      <td>1307</td>\n",
              "      <td>3</td>\n",
              "      <td>0</td>\n",
              "      <td>0</td>\n",
              "      <td>38.5</td>\n",
              "      <td>0</td>\n",
              "      <td>0</td>\n",
              "      <td>SOTON/O.Q. 3101262</td>\n",
              "      <td>7.2500</td>\n",
              "      <td>NaN</td>\n",
              "      <td>S</td>\n",
              "    </tr>\n",
              "    <tr>\n",
              "      <th>416</th>\n",
              "      <td>1308</td>\n",
              "      <td>3</td>\n",
              "      <td>0</td>\n",
              "      <td>0</td>\n",
              "      <td>NaN</td>\n",
              "      <td>0</td>\n",
              "      <td>0</td>\n",
              "      <td>359309</td>\n",
              "      <td>8.0500</td>\n",
              "      <td>NaN</td>\n",
              "      <td>S</td>\n",
              "    </tr>\n",
              "    <tr>\n",
              "      <th>417</th>\n",
              "      <td>1309</td>\n",
              "      <td>3</td>\n",
              "      <td>3</td>\n",
              "      <td>0</td>\n",
              "      <td>NaN</td>\n",
              "      <td>1</td>\n",
              "      <td>1</td>\n",
              "      <td>2668</td>\n",
              "      <td>22.3583</td>\n",
              "      <td>NaN</td>\n",
              "      <td>C</td>\n",
              "    </tr>\n",
              "  </tbody>\n",
              "</table>\n",
              "<p>418 rows × 11 columns</p>\n",
              "</div>"
            ],
            "text/plain": [
              "     PassengerId  Pclass  Name  ...      Fare  Cabin  Embarked\n",
              "0            892       3     0  ...    7.8292    NaN         Q\n",
              "1            893       3     2  ...    7.0000    NaN         S\n",
              "2            894       2     0  ...    9.6875    NaN         Q\n",
              "3            895       3     0  ...    8.6625    NaN         S\n",
              "4            896       3     2  ...   12.2875    NaN         S\n",
              "..           ...     ...   ...  ...       ...    ...       ...\n",
              "413         1305       3     0  ...    8.0500    NaN         S\n",
              "414         1306       1     4  ...  108.9000   C105         C\n",
              "415         1307       3     0  ...    7.2500    NaN         S\n",
              "416         1308       3     0  ...    8.0500    NaN         S\n",
              "417         1309       3     3  ...   22.3583    NaN         C\n",
              "\n",
              "[418 rows x 11 columns]"
            ]
          },
          "metadata": {
            "tags": []
          },
          "execution_count": 108
        }
      ]
    },
    {
      "cell_type": "code",
      "metadata": {
        "colab": {
          "base_uri": "https://localhost:8080/"
        },
        "id": "qr1W2Jf1PvKq",
        "outputId": "c7782086-b1c7-42f5-9208-95249c41a87e"
      },
      "source": [
        "train_df.info()"
      ],
      "execution_count": 109,
      "outputs": [
        {
          "output_type": "stream",
          "text": [
            "<class 'pandas.core.frame.DataFrame'>\n",
            "RangeIndex: 891 entries, 0 to 890\n",
            "Data columns (total 12 columns):\n",
            " #   Column       Non-Null Count  Dtype  \n",
            "---  ------       --------------  -----  \n",
            " 0   PassengerId  891 non-null    int64  \n",
            " 1   Survived     891 non-null    int64  \n",
            " 2   Pclass       891 non-null    int64  \n",
            " 3   Name         891 non-null    int64  \n",
            " 4   Sex          891 non-null    int64  \n",
            " 5   Age          714 non-null    float64\n",
            " 6   SibSp        891 non-null    int64  \n",
            " 7   Parch        891 non-null    int64  \n",
            " 8   Ticket       891 non-null    object \n",
            " 9   Fare         891 non-null    float64\n",
            " 10  Cabin        204 non-null    object \n",
            " 11  Embarked     889 non-null    object \n",
            "dtypes: float64(2), int64(7), object(3)\n",
            "memory usage: 83.7+ KB\n"
          ],
          "name": "stdout"
        }
      ]
    },
    {
      "cell_type": "code",
      "metadata": {
        "colab": {
          "base_uri": "https://localhost:8080/"
        },
        "id": "LkfeImmXPxMa",
        "outputId": "aa9c6784-359e-4aec-a3d0-afc715a4f411"
      },
      "source": [
        "test_df.info()"
      ],
      "execution_count": 110,
      "outputs": [
        {
          "output_type": "stream",
          "text": [
            "<class 'pandas.core.frame.DataFrame'>\n",
            "RangeIndex: 418 entries, 0 to 417\n",
            "Data columns (total 11 columns):\n",
            " #   Column       Non-Null Count  Dtype  \n",
            "---  ------       --------------  -----  \n",
            " 0   PassengerId  418 non-null    int64  \n",
            " 1   Pclass       418 non-null    int64  \n",
            " 2   Name         418 non-null    int64  \n",
            " 3   Sex          418 non-null    int64  \n",
            " 4   Age          332 non-null    float64\n",
            " 5   SibSp        418 non-null    int64  \n",
            " 6   Parch        418 non-null    int64  \n",
            " 7   Ticket       418 non-null    object \n",
            " 8   Fare         417 non-null    float64\n",
            " 9   Cabin        91 non-null     object \n",
            " 10  Embarked     418 non-null    object \n",
            "dtypes: float64(2), int64(6), object(3)\n",
            "memory usage: 36.0+ KB\n"
          ],
          "name": "stdout"
        }
      ]
    },
    {
      "cell_type": "markdown",
      "metadata": {
        "id": "DfyBEvwBheW5"
      },
      "source": [
        "## Age 컬럼 전처리"
      ]
    },
    {
      "cell_type": "markdown",
      "metadata": {
        "id": "Yh4e-58ihvVE"
      },
      "source": [
        "**현재 까지 알고있는 전처리 방법론은  첫 번째로, 해당 행을 지우는 방법과 두 번째로, 평균 값 혹은 0 으로 바꾸는 방법, 세 번째로 다른 컬럼들과의 관계를 이용하여 예측하는 방법 이렇게 세가지이다.**\r\n",
        "\r\n",
        "**그 중 Age는 생존율 예측에 있어서 중요한 데이터 이므로 약 900개중 200개 가량의 데이터를 지우는 것은 좋지 않으며, 평균 혹은 0으로 바꾸어 주는것 또한 데이터의 상태를 변형시키기 때문에 세 번째 방법인 다른 컬럼들과의 관계를 통해 그 관계의 평균 값으로 Age를 예측하는 방법을 사용할 것이다.**"
      ]
    },
    {
      "cell_type": "code",
      "metadata": {
        "colab": {
          "base_uri": "https://localhost:8080/"
        },
        "id": "JOqGIjI0rMY3",
        "outputId": "f8e9b45c-f04a-4ba4-83df-a3319ec06522"
      },
      "source": [
        "guess_ages = np.zeros((2,3))\r\n",
        "guess_ages"
      ],
      "execution_count": 111,
      "outputs": [
        {
          "output_type": "execute_result",
          "data": {
            "text/plain": [
              "array([[0., 0., 0.],\n",
              "       [0., 0., 0.]])"
            ]
          },
          "metadata": {
            "tags": []
          },
          "execution_count": 111
        }
      ]
    },
    {
      "cell_type": "markdown",
      "metadata": {
        "id": "em7tEdncE3M-"
      },
      "source": [
        "Sex와 Pclass의 관계를 통하여 Age를 유추한다."
      ]
    },
    {
      "cell_type": "code",
      "metadata": {
        "colab": {
          "base_uri": "https://localhost:8080/",
          "height": 618
        },
        "id": "GKDy7snXhOC-",
        "outputId": "817dd0b5-d87e-46d4-a483-94dea72cb09d"
      },
      "source": [
        "for all_df in combine:\r\n",
        "    for i in range(0, 2):\r\n",
        "        for j in range(0, 3):\r\n",
        "            guess_df = all_df[(all_df['Sex'] == i) & \\\r\n",
        "                                  (all_df['Pclass'] == j+1)]['Age'].dropna()\r\n",
        "          \r\n",
        "            age_guess = guess_df.median()\r\n",
        "            \r\n",
        "            # Convert random age float to nearest .5 age\r\n",
        "            guess_ages[i,j] = int(age_guess/0.5 + 0.5 ) * 0.5\r\n",
        "            print(guess_ages)\r\n",
        "            \r\n",
        "    for i in range(0, 2):\r\n",
        "        for j in range(0, 3):\r\n",
        "            all_df.loc[ (all_df.Age.isnull()) & (all_df.Sex == i) & (all_df.Pclass == j+1),\\\r\n",
        "                    'Age'] = guess_ages[i,j]\r\n",
        "\r\n",
        "    all_df['Age'] = all_df['Age'].astype(int)\r\n",
        "\r\n",
        "train_df.head()"
      ],
      "execution_count": 112,
      "outputs": [
        {
          "output_type": "stream",
          "text": [
            "[[40.  0.  0.]\n",
            " [ 0.  0.  0.]]\n",
            "[[40. 30.  0.]\n",
            " [ 0.  0.  0.]]\n",
            "[[40. 30. 25.]\n",
            " [ 0.  0.  0.]]\n",
            "[[40. 30. 25.]\n",
            " [35.  0.  0.]]\n",
            "[[40. 30. 25.]\n",
            " [35. 28.  0.]]\n",
            "[[40.  30.  25. ]\n",
            " [35.  28.  21.5]]\n",
            "[[42.  30.  25. ]\n",
            " [35.  28.  21.5]]\n",
            "[[42.  28.  25. ]\n",
            " [35.  28.  21.5]]\n",
            "[[42.  28.  24. ]\n",
            " [35.  28.  21.5]]\n",
            "[[42.  28.  24. ]\n",
            " [41.  28.  21.5]]\n",
            "[[42.  28.  24. ]\n",
            " [41.  24.  21.5]]\n",
            "[[42. 28. 24.]\n",
            " [41. 24. 22.]]\n"
          ],
          "name": "stdout"
        },
        {
          "output_type": "execute_result",
          "data": {
            "text/html": [
              "<div>\n",
              "<style scoped>\n",
              "    .dataframe tbody tr th:only-of-type {\n",
              "        vertical-align: middle;\n",
              "    }\n",
              "\n",
              "    .dataframe tbody tr th {\n",
              "        vertical-align: top;\n",
              "    }\n",
              "\n",
              "    .dataframe thead th {\n",
              "        text-align: right;\n",
              "    }\n",
              "</style>\n",
              "<table border=\"1\" class=\"dataframe\">\n",
              "  <thead>\n",
              "    <tr style=\"text-align: right;\">\n",
              "      <th></th>\n",
              "      <th>PassengerId</th>\n",
              "      <th>Survived</th>\n",
              "      <th>Pclass</th>\n",
              "      <th>Name</th>\n",
              "      <th>Sex</th>\n",
              "      <th>Age</th>\n",
              "      <th>SibSp</th>\n",
              "      <th>Parch</th>\n",
              "      <th>Ticket</th>\n",
              "      <th>Fare</th>\n",
              "      <th>Cabin</th>\n",
              "      <th>Embarked</th>\n",
              "    </tr>\n",
              "  </thead>\n",
              "  <tbody>\n",
              "    <tr>\n",
              "      <th>0</th>\n",
              "      <td>1</td>\n",
              "      <td>0</td>\n",
              "      <td>3</td>\n",
              "      <td>0</td>\n",
              "      <td>0</td>\n",
              "      <td>22</td>\n",
              "      <td>1</td>\n",
              "      <td>0</td>\n",
              "      <td>A/5 21171</td>\n",
              "      <td>7.2500</td>\n",
              "      <td>NaN</td>\n",
              "      <td>S</td>\n",
              "    </tr>\n",
              "    <tr>\n",
              "      <th>1</th>\n",
              "      <td>2</td>\n",
              "      <td>1</td>\n",
              "      <td>1</td>\n",
              "      <td>2</td>\n",
              "      <td>1</td>\n",
              "      <td>38</td>\n",
              "      <td>1</td>\n",
              "      <td>0</td>\n",
              "      <td>PC 17599</td>\n",
              "      <td>71.2833</td>\n",
              "      <td>C85</td>\n",
              "      <td>C</td>\n",
              "    </tr>\n",
              "    <tr>\n",
              "      <th>2</th>\n",
              "      <td>3</td>\n",
              "      <td>1</td>\n",
              "      <td>3</td>\n",
              "      <td>1</td>\n",
              "      <td>1</td>\n",
              "      <td>26</td>\n",
              "      <td>0</td>\n",
              "      <td>0</td>\n",
              "      <td>STON/O2. 3101282</td>\n",
              "      <td>7.9250</td>\n",
              "      <td>NaN</td>\n",
              "      <td>S</td>\n",
              "    </tr>\n",
              "    <tr>\n",
              "      <th>3</th>\n",
              "      <td>4</td>\n",
              "      <td>1</td>\n",
              "      <td>1</td>\n",
              "      <td>2</td>\n",
              "      <td>1</td>\n",
              "      <td>35</td>\n",
              "      <td>1</td>\n",
              "      <td>0</td>\n",
              "      <td>113803</td>\n",
              "      <td>53.1000</td>\n",
              "      <td>C123</td>\n",
              "      <td>S</td>\n",
              "    </tr>\n",
              "    <tr>\n",
              "      <th>4</th>\n",
              "      <td>5</td>\n",
              "      <td>0</td>\n",
              "      <td>3</td>\n",
              "      <td>0</td>\n",
              "      <td>0</td>\n",
              "      <td>35</td>\n",
              "      <td>0</td>\n",
              "      <td>0</td>\n",
              "      <td>373450</td>\n",
              "      <td>8.0500</td>\n",
              "      <td>NaN</td>\n",
              "      <td>S</td>\n",
              "    </tr>\n",
              "  </tbody>\n",
              "</table>\n",
              "</div>"
            ],
            "text/plain": [
              "   PassengerId  Survived  Pclass  ...     Fare  Cabin  Embarked\n",
              "0            1         0       3  ...   7.2500    NaN         S\n",
              "1            2         1       1  ...  71.2833    C85         C\n",
              "2            3         1       3  ...   7.9250    NaN         S\n",
              "3            4         1       1  ...  53.1000   C123         S\n",
              "4            5         0       3  ...   8.0500    NaN         S\n",
              "\n",
              "[5 rows x 12 columns]"
            ]
          },
          "metadata": {
            "tags": []
          },
          "execution_count": 112
        }
      ]
    },
    {
      "cell_type": "code",
      "metadata": {
        "colab": {
          "base_uri": "https://localhost:8080/"
        },
        "id": "Wz5fcNV37pkf",
        "outputId": "b9efc0ee-f9e6-4cfe-a4db-140e3da0c83d"
      },
      "source": [
        "train_df.info()"
      ],
      "execution_count": 113,
      "outputs": [
        {
          "output_type": "stream",
          "text": [
            "<class 'pandas.core.frame.DataFrame'>\n",
            "RangeIndex: 891 entries, 0 to 890\n",
            "Data columns (total 12 columns):\n",
            " #   Column       Non-Null Count  Dtype  \n",
            "---  ------       --------------  -----  \n",
            " 0   PassengerId  891 non-null    int64  \n",
            " 1   Survived     891 non-null    int64  \n",
            " 2   Pclass       891 non-null    int64  \n",
            " 3   Name         891 non-null    int64  \n",
            " 4   Sex          891 non-null    int64  \n",
            " 5   Age          891 non-null    int64  \n",
            " 6   SibSp        891 non-null    int64  \n",
            " 7   Parch        891 non-null    int64  \n",
            " 8   Ticket       891 non-null    object \n",
            " 9   Fare         891 non-null    float64\n",
            " 10  Cabin        204 non-null    object \n",
            " 11  Embarked     889 non-null    object \n",
            "dtypes: float64(1), int64(8), object(3)\n",
            "memory usage: 83.7+ KB\n"
          ],
          "name": "stdout"
        }
      ]
    },
    {
      "cell_type": "code",
      "metadata": {
        "colab": {
          "base_uri": "https://localhost:8080/"
        },
        "id": "LMrSvEaKTxib",
        "outputId": "3039dfa6-e942-4fbb-9f54-27091684b159"
      },
      "source": [
        "test_df.info()"
      ],
      "execution_count": 114,
      "outputs": [
        {
          "output_type": "stream",
          "text": [
            "<class 'pandas.core.frame.DataFrame'>\n",
            "RangeIndex: 418 entries, 0 to 417\n",
            "Data columns (total 11 columns):\n",
            " #   Column       Non-Null Count  Dtype  \n",
            "---  ------       --------------  -----  \n",
            " 0   PassengerId  418 non-null    int64  \n",
            " 1   Pclass       418 non-null    int64  \n",
            " 2   Name         418 non-null    int64  \n",
            " 3   Sex          418 non-null    int64  \n",
            " 4   Age          418 non-null    int64  \n",
            " 5   SibSp        418 non-null    int64  \n",
            " 6   Parch        418 non-null    int64  \n",
            " 7   Ticket       418 non-null    object \n",
            " 8   Fare         417 non-null    float64\n",
            " 9   Cabin        91 non-null     object \n",
            " 10  Embarked     418 non-null    object \n",
            "dtypes: float64(1), int64(7), object(3)\n",
            "memory usage: 36.0+ KB\n"
          ],
          "name": "stdout"
        }
      ]
    },
    {
      "cell_type": "code",
      "metadata": {
        "colab": {
          "base_uri": "https://localhost:8080/"
        },
        "id": "e7zxquDciekn",
        "outputId": "c1792bf5-6081-4c9c-8522-201020493a3c"
      },
      "source": [
        "train_df['Age'].tail(50)"
      ],
      "execution_count": 115,
      "outputs": [
        {
          "output_type": "execute_result",
          "data": {
            "text/plain": [
              "841    16\n",
              "842    30\n",
              "843    34\n",
              "844    17\n",
              "845    42\n",
              "846    25\n",
              "847    35\n",
              "848    28\n",
              "849    35\n",
              "850     4\n",
              "851    74\n",
              "852     9\n",
              "853    16\n",
              "854    44\n",
              "855    18\n",
              "856    45\n",
              "857    51\n",
              "858    24\n",
              "859    25\n",
              "860    41\n",
              "861    21\n",
              "862    48\n",
              "863    21\n",
              "864    24\n",
              "865    42\n",
              "866    27\n",
              "867    31\n",
              "868    25\n",
              "869     4\n",
              "870    26\n",
              "871    47\n",
              "872    33\n",
              "873    47\n",
              "874    28\n",
              "875    15\n",
              "876    20\n",
              "877    19\n",
              "878    25\n",
              "879    56\n",
              "880    25\n",
              "881    33\n",
              "882    22\n",
              "883    28\n",
              "884    25\n",
              "885    39\n",
              "886    27\n",
              "887    19\n",
              "888    21\n",
              "889    26\n",
              "890    32\n",
              "Name: Age, dtype: int64"
            ]
          },
          "metadata": {
            "tags": []
          },
          "execution_count": 115
        }
      ]
    },
    {
      "cell_type": "markdown",
      "metadata": {
        "id": "VEF5aHARE9NS"
      },
      "source": [
        "Age를 다섯개의 카테고리로 나누어 인코딩 준비를 한다."
      ]
    },
    {
      "cell_type": "code",
      "metadata": {
        "colab": {
          "base_uri": "https://localhost:8080/"
        },
        "id": "85rDCyV_gbYG",
        "outputId": "528e1198-4d84-44b0-f47c-95047a7a5dce"
      },
      "source": [
        "for total_df in combine:\r\n",
        "  total_df['Age'] = pd.cut(total_df['Age'], 5)\r\n",
        "\r\n",
        "train_df['Age']"
      ],
      "execution_count": 116,
      "outputs": [
        {
          "output_type": "execute_result",
          "data": {
            "text/plain": [
              "0      (16.0, 32.0]\n",
              "1      (32.0, 48.0]\n",
              "2      (16.0, 32.0]\n",
              "3      (32.0, 48.0]\n",
              "4      (32.0, 48.0]\n",
              "           ...     \n",
              "886    (16.0, 32.0]\n",
              "887    (16.0, 32.0]\n",
              "888    (16.0, 32.0]\n",
              "889    (16.0, 32.0]\n",
              "890    (16.0, 32.0]\n",
              "Name: Age, Length: 891, dtype: category\n",
              "Categories (5, interval[float64]): [(-0.08, 16.0] < (16.0, 32.0] < (32.0, 48.0] < (48.0, 64.0] <\n",
              "                                    (64.0, 80.0]]"
            ]
          },
          "metadata": {
            "tags": []
          },
          "execution_count": 116
        }
      ]
    },
    {
      "cell_type": "markdown",
      "metadata": {
        "id": "SrRYz9w4jGky"
      },
      "source": [
        "인코딩 방법소개"
      ]
    },
    {
      "cell_type": "markdown",
      "metadata": {
        "id": "EbUNg-zNFIq7"
      },
      "source": [
        "\r\n"
      ]
    },
    {
      "cell_type": "code",
      "metadata": {
        "colab": {
          "base_uri": "https://localhost:8080/"
        },
        "id": "Tyt5FctOg3Dt",
        "outputId": "8242b8dd-7546-40e5-f57b-ee8bae0bcccc"
      },
      "source": [
        "from sklearn.preprocessing import LabelEncoder\r\n",
        "le = LabelEncoder()\r\n",
        "\r\n",
        "for total_df in combine:\r\n",
        "  le.fit(total_df['Age'])\r\n",
        "  total_df['Age'] = le.transform(total_df['Age'])\r\n",
        "\r\n",
        "train_df['Age'].tail(50)\r\n"
      ],
      "execution_count": 117,
      "outputs": [
        {
          "output_type": "execute_result",
          "data": {
            "text/plain": [
              "841    0\n",
              "842    1\n",
              "843    2\n",
              "844    1\n",
              "845    2\n",
              "846    1\n",
              "847    2\n",
              "848    1\n",
              "849    2\n",
              "850    0\n",
              "851    4\n",
              "852    0\n",
              "853    0\n",
              "854    2\n",
              "855    1\n",
              "856    2\n",
              "857    3\n",
              "858    1\n",
              "859    1\n",
              "860    2\n",
              "861    1\n",
              "862    2\n",
              "863    1\n",
              "864    1\n",
              "865    2\n",
              "866    1\n",
              "867    1\n",
              "868    1\n",
              "869    0\n",
              "870    1\n",
              "871    2\n",
              "872    2\n",
              "873    2\n",
              "874    1\n",
              "875    0\n",
              "876    1\n",
              "877    1\n",
              "878    1\n",
              "879    3\n",
              "880    1\n",
              "881    2\n",
              "882    1\n",
              "883    1\n",
              "884    1\n",
              "885    2\n",
              "886    1\n",
              "887    1\n",
              "888    1\n",
              "889    1\n",
              "890    1\n",
              "Name: Age, dtype: int64"
            ]
          },
          "metadata": {
            "tags": []
          },
          "execution_count": 117
        }
      ]
    },
    {
      "cell_type": "markdown",
      "metadata": {
        "id": "PualZckDipV8"
      },
      "source": [
        "**(-0.08, 16.0) = 0**\r\n",
        "\r\n",
        "**(16.0, 32.0) = 1**\r\n",
        "\r\n",
        "**(32.0, 48.0) = 2**\r\n",
        "\r\n",
        "**(48.0, 64.0) = 3**\r\n",
        "\r\n",
        "**(64.0, 80.0) = 4**         "
      ]
    },
    {
      "cell_type": "markdown",
      "metadata": {
        "id": "wOSIgigoU1NY"
      },
      "source": [
        "## Ticket  컬럼전처리"
      ]
    },
    {
      "cell_type": "markdown",
      "metadata": {
        "id": "VaiSeI6aFMto"
      },
      "source": [
        "티켓과 의 연관성을 찾지못하여 지워주었다."
      ]
    },
    {
      "cell_type": "code",
      "metadata": {
        "colab": {
          "base_uri": "https://localhost:8080/",
          "height": 402
        },
        "id": "W3npCodGUwmk",
        "outputId": "1c69cb12-30c7-4ebe-9722-1991b531f99c"
      },
      "source": [
        "for all_data in combine:\r\n",
        "  all_data = all_data.drop('Ticket', axis = 1, inplace = True)\r\n",
        "\r\n",
        "# train_df\r\n",
        "test_df"
      ],
      "execution_count": 118,
      "outputs": [
        {
          "output_type": "execute_result",
          "data": {
            "text/html": [
              "<div>\n",
              "<style scoped>\n",
              "    .dataframe tbody tr th:only-of-type {\n",
              "        vertical-align: middle;\n",
              "    }\n",
              "\n",
              "    .dataframe tbody tr th {\n",
              "        vertical-align: top;\n",
              "    }\n",
              "\n",
              "    .dataframe thead th {\n",
              "        text-align: right;\n",
              "    }\n",
              "</style>\n",
              "<table border=\"1\" class=\"dataframe\">\n",
              "  <thead>\n",
              "    <tr style=\"text-align: right;\">\n",
              "      <th></th>\n",
              "      <th>PassengerId</th>\n",
              "      <th>Pclass</th>\n",
              "      <th>Name</th>\n",
              "      <th>Sex</th>\n",
              "      <th>Age</th>\n",
              "      <th>SibSp</th>\n",
              "      <th>Parch</th>\n",
              "      <th>Fare</th>\n",
              "      <th>Cabin</th>\n",
              "      <th>Embarked</th>\n",
              "    </tr>\n",
              "  </thead>\n",
              "  <tbody>\n",
              "    <tr>\n",
              "      <th>0</th>\n",
              "      <td>892</td>\n",
              "      <td>3</td>\n",
              "      <td>0</td>\n",
              "      <td>0</td>\n",
              "      <td>2</td>\n",
              "      <td>0</td>\n",
              "      <td>0</td>\n",
              "      <td>7.8292</td>\n",
              "      <td>NaN</td>\n",
              "      <td>Q</td>\n",
              "    </tr>\n",
              "    <tr>\n",
              "      <th>1</th>\n",
              "      <td>893</td>\n",
              "      <td>3</td>\n",
              "      <td>2</td>\n",
              "      <td>1</td>\n",
              "      <td>3</td>\n",
              "      <td>1</td>\n",
              "      <td>0</td>\n",
              "      <td>7.0000</td>\n",
              "      <td>NaN</td>\n",
              "      <td>S</td>\n",
              "    </tr>\n",
              "    <tr>\n",
              "      <th>2</th>\n",
              "      <td>894</td>\n",
              "      <td>2</td>\n",
              "      <td>0</td>\n",
              "      <td>0</td>\n",
              "      <td>4</td>\n",
              "      <td>0</td>\n",
              "      <td>0</td>\n",
              "      <td>9.6875</td>\n",
              "      <td>NaN</td>\n",
              "      <td>Q</td>\n",
              "    </tr>\n",
              "    <tr>\n",
              "      <th>3</th>\n",
              "      <td>895</td>\n",
              "      <td>3</td>\n",
              "      <td>0</td>\n",
              "      <td>0</td>\n",
              "      <td>1</td>\n",
              "      <td>0</td>\n",
              "      <td>0</td>\n",
              "      <td>8.6625</td>\n",
              "      <td>NaN</td>\n",
              "      <td>S</td>\n",
              "    </tr>\n",
              "    <tr>\n",
              "      <th>4</th>\n",
              "      <td>896</td>\n",
              "      <td>3</td>\n",
              "      <td>2</td>\n",
              "      <td>1</td>\n",
              "      <td>1</td>\n",
              "      <td>1</td>\n",
              "      <td>1</td>\n",
              "      <td>12.2875</td>\n",
              "      <td>NaN</td>\n",
              "      <td>S</td>\n",
              "    </tr>\n",
              "    <tr>\n",
              "      <th>...</th>\n",
              "      <td>...</td>\n",
              "      <td>...</td>\n",
              "      <td>...</td>\n",
              "      <td>...</td>\n",
              "      <td>...</td>\n",
              "      <td>...</td>\n",
              "      <td>...</td>\n",
              "      <td>...</td>\n",
              "      <td>...</td>\n",
              "      <td>...</td>\n",
              "    </tr>\n",
              "    <tr>\n",
              "      <th>413</th>\n",
              "      <td>1305</td>\n",
              "      <td>3</td>\n",
              "      <td>0</td>\n",
              "      <td>0</td>\n",
              "      <td>1</td>\n",
              "      <td>0</td>\n",
              "      <td>0</td>\n",
              "      <td>8.0500</td>\n",
              "      <td>NaN</td>\n",
              "      <td>S</td>\n",
              "    </tr>\n",
              "    <tr>\n",
              "      <th>414</th>\n",
              "      <td>1306</td>\n",
              "      <td>1</td>\n",
              "      <td>4</td>\n",
              "      <td>1</td>\n",
              "      <td>2</td>\n",
              "      <td>0</td>\n",
              "      <td>0</td>\n",
              "      <td>108.9000</td>\n",
              "      <td>C105</td>\n",
              "      <td>C</td>\n",
              "    </tr>\n",
              "    <tr>\n",
              "      <th>415</th>\n",
              "      <td>1307</td>\n",
              "      <td>3</td>\n",
              "      <td>0</td>\n",
              "      <td>0</td>\n",
              "      <td>2</td>\n",
              "      <td>0</td>\n",
              "      <td>0</td>\n",
              "      <td>7.2500</td>\n",
              "      <td>NaN</td>\n",
              "      <td>S</td>\n",
              "    </tr>\n",
              "    <tr>\n",
              "      <th>416</th>\n",
              "      <td>1308</td>\n",
              "      <td>3</td>\n",
              "      <td>0</td>\n",
              "      <td>0</td>\n",
              "      <td>1</td>\n",
              "      <td>0</td>\n",
              "      <td>0</td>\n",
              "      <td>8.0500</td>\n",
              "      <td>NaN</td>\n",
              "      <td>S</td>\n",
              "    </tr>\n",
              "    <tr>\n",
              "      <th>417</th>\n",
              "      <td>1309</td>\n",
              "      <td>3</td>\n",
              "      <td>3</td>\n",
              "      <td>0</td>\n",
              "      <td>1</td>\n",
              "      <td>1</td>\n",
              "      <td>1</td>\n",
              "      <td>22.3583</td>\n",
              "      <td>NaN</td>\n",
              "      <td>C</td>\n",
              "    </tr>\n",
              "  </tbody>\n",
              "</table>\n",
              "<p>418 rows × 10 columns</p>\n",
              "</div>"
            ],
            "text/plain": [
              "     PassengerId  Pclass  Name  Sex  Age  SibSp  Parch      Fare Cabin Embarked\n",
              "0            892       3     0    0    2      0      0    7.8292   NaN        Q\n",
              "1            893       3     2    1    3      1      0    7.0000   NaN        S\n",
              "2            894       2     0    0    4      0      0    9.6875   NaN        Q\n",
              "3            895       3     0    0    1      0      0    8.6625   NaN        S\n",
              "4            896       3     2    1    1      1      1   12.2875   NaN        S\n",
              "..           ...     ...   ...  ...  ...    ...    ...       ...   ...      ...\n",
              "413         1305       3     0    0    1      0      0    8.0500   NaN        S\n",
              "414         1306       1     4    1    2      0      0  108.9000  C105        C\n",
              "415         1307       3     0    0    2      0      0    7.2500   NaN        S\n",
              "416         1308       3     0    0    1      0      0    8.0500   NaN        S\n",
              "417         1309       3     3    0    1      1      1   22.3583   NaN        C\n",
              "\n",
              "[418 rows x 10 columns]"
            ]
          },
          "metadata": {
            "tags": []
          },
          "execution_count": 118
        }
      ]
    },
    {
      "cell_type": "markdown",
      "metadata": {
        "id": "d-2I8mJ8Vyj3"
      },
      "source": [
        "## SibSp 와 Parch 컬럼 결합"
      ]
    },
    {
      "cell_type": "markdown",
      "metadata": {
        "id": "2_x6ZALzFRhb"
      },
      "source": [
        "동승자가 있다 ,없다 라는 기준으로 새로운 컬럼을 만든후 기존 컬럼을 제거했다."
      ]
    },
    {
      "cell_type": "code",
      "metadata": {
        "colab": {
          "base_uri": "https://localhost:8080/",
          "height": 402
        },
        "id": "6dhBIfxDViu2",
        "outputId": "cb19aa59-efc4-4288-fee4-c963140a14eb"
      },
      "source": [
        "for all_data in combine:\r\n",
        "  all_data['Alone'] = all_data['SibSp'] + all_data['Parch']\r\n",
        "  all_data = all_data.drop(['SibSp', 'Parch'], axis = 1,inplace=True)\r\n",
        "   \r\n",
        "train_df"
      ],
      "execution_count": 119,
      "outputs": [
        {
          "output_type": "execute_result",
          "data": {
            "text/html": [
              "<div>\n",
              "<style scoped>\n",
              "    .dataframe tbody tr th:only-of-type {\n",
              "        vertical-align: middle;\n",
              "    }\n",
              "\n",
              "    .dataframe tbody tr th {\n",
              "        vertical-align: top;\n",
              "    }\n",
              "\n",
              "    .dataframe thead th {\n",
              "        text-align: right;\n",
              "    }\n",
              "</style>\n",
              "<table border=\"1\" class=\"dataframe\">\n",
              "  <thead>\n",
              "    <tr style=\"text-align: right;\">\n",
              "      <th></th>\n",
              "      <th>PassengerId</th>\n",
              "      <th>Survived</th>\n",
              "      <th>Pclass</th>\n",
              "      <th>Name</th>\n",
              "      <th>Sex</th>\n",
              "      <th>Age</th>\n",
              "      <th>Fare</th>\n",
              "      <th>Cabin</th>\n",
              "      <th>Embarked</th>\n",
              "      <th>Alone</th>\n",
              "    </tr>\n",
              "  </thead>\n",
              "  <tbody>\n",
              "    <tr>\n",
              "      <th>0</th>\n",
              "      <td>1</td>\n",
              "      <td>0</td>\n",
              "      <td>3</td>\n",
              "      <td>0</td>\n",
              "      <td>0</td>\n",
              "      <td>1</td>\n",
              "      <td>7.2500</td>\n",
              "      <td>NaN</td>\n",
              "      <td>S</td>\n",
              "      <td>1</td>\n",
              "    </tr>\n",
              "    <tr>\n",
              "      <th>1</th>\n",
              "      <td>2</td>\n",
              "      <td>1</td>\n",
              "      <td>1</td>\n",
              "      <td>2</td>\n",
              "      <td>1</td>\n",
              "      <td>2</td>\n",
              "      <td>71.2833</td>\n",
              "      <td>C85</td>\n",
              "      <td>C</td>\n",
              "      <td>1</td>\n",
              "    </tr>\n",
              "    <tr>\n",
              "      <th>2</th>\n",
              "      <td>3</td>\n",
              "      <td>1</td>\n",
              "      <td>3</td>\n",
              "      <td>1</td>\n",
              "      <td>1</td>\n",
              "      <td>1</td>\n",
              "      <td>7.9250</td>\n",
              "      <td>NaN</td>\n",
              "      <td>S</td>\n",
              "      <td>0</td>\n",
              "    </tr>\n",
              "    <tr>\n",
              "      <th>3</th>\n",
              "      <td>4</td>\n",
              "      <td>1</td>\n",
              "      <td>1</td>\n",
              "      <td>2</td>\n",
              "      <td>1</td>\n",
              "      <td>2</td>\n",
              "      <td>53.1000</td>\n",
              "      <td>C123</td>\n",
              "      <td>S</td>\n",
              "      <td>1</td>\n",
              "    </tr>\n",
              "    <tr>\n",
              "      <th>4</th>\n",
              "      <td>5</td>\n",
              "      <td>0</td>\n",
              "      <td>3</td>\n",
              "      <td>0</td>\n",
              "      <td>0</td>\n",
              "      <td>2</td>\n",
              "      <td>8.0500</td>\n",
              "      <td>NaN</td>\n",
              "      <td>S</td>\n",
              "      <td>0</td>\n",
              "    </tr>\n",
              "    <tr>\n",
              "      <th>...</th>\n",
              "      <td>...</td>\n",
              "      <td>...</td>\n",
              "      <td>...</td>\n",
              "      <td>...</td>\n",
              "      <td>...</td>\n",
              "      <td>...</td>\n",
              "      <td>...</td>\n",
              "      <td>...</td>\n",
              "      <td>...</td>\n",
              "      <td>...</td>\n",
              "    </tr>\n",
              "    <tr>\n",
              "      <th>886</th>\n",
              "      <td>887</td>\n",
              "      <td>0</td>\n",
              "      <td>2</td>\n",
              "      <td>2</td>\n",
              "      <td>0</td>\n",
              "      <td>1</td>\n",
              "      <td>13.0000</td>\n",
              "      <td>NaN</td>\n",
              "      <td>S</td>\n",
              "      <td>0</td>\n",
              "    </tr>\n",
              "    <tr>\n",
              "      <th>887</th>\n",
              "      <td>888</td>\n",
              "      <td>1</td>\n",
              "      <td>1</td>\n",
              "      <td>4</td>\n",
              "      <td>1</td>\n",
              "      <td>1</td>\n",
              "      <td>30.0000</td>\n",
              "      <td>B42</td>\n",
              "      <td>S</td>\n",
              "      <td>0</td>\n",
              "    </tr>\n",
              "    <tr>\n",
              "      <th>888</th>\n",
              "      <td>889</td>\n",
              "      <td>0</td>\n",
              "      <td>3</td>\n",
              "      <td>1</td>\n",
              "      <td>1</td>\n",
              "      <td>1</td>\n",
              "      <td>23.4500</td>\n",
              "      <td>NaN</td>\n",
              "      <td>S</td>\n",
              "      <td>3</td>\n",
              "    </tr>\n",
              "    <tr>\n",
              "      <th>889</th>\n",
              "      <td>890</td>\n",
              "      <td>1</td>\n",
              "      <td>1</td>\n",
              "      <td>1</td>\n",
              "      <td>0</td>\n",
              "      <td>1</td>\n",
              "      <td>30.0000</td>\n",
              "      <td>C148</td>\n",
              "      <td>C</td>\n",
              "      <td>0</td>\n",
              "    </tr>\n",
              "    <tr>\n",
              "      <th>890</th>\n",
              "      <td>891</td>\n",
              "      <td>0</td>\n",
              "      <td>3</td>\n",
              "      <td>0</td>\n",
              "      <td>0</td>\n",
              "      <td>1</td>\n",
              "      <td>7.7500</td>\n",
              "      <td>NaN</td>\n",
              "      <td>Q</td>\n",
              "      <td>0</td>\n",
              "    </tr>\n",
              "  </tbody>\n",
              "</table>\n",
              "<p>891 rows × 10 columns</p>\n",
              "</div>"
            ],
            "text/plain": [
              "     PassengerId  Survived  Pclass  Name  ...     Fare  Cabin  Embarked Alone\n",
              "0              1         0       3     0  ...   7.2500    NaN         S     1\n",
              "1              2         1       1     2  ...  71.2833    C85         C     1\n",
              "2              3         1       3     1  ...   7.9250    NaN         S     0\n",
              "3              4         1       1     2  ...  53.1000   C123         S     1\n",
              "4              5         0       3     0  ...   8.0500    NaN         S     0\n",
              "..           ...       ...     ...   ...  ...      ...    ...       ...   ...\n",
              "886          887         0       2     2  ...  13.0000    NaN         S     0\n",
              "887          888         1       1     4  ...  30.0000    B42         S     0\n",
              "888          889         0       3     1  ...  23.4500    NaN         S     3\n",
              "889          890         1       1     1  ...  30.0000   C148         C     0\n",
              "890          891         0       3     0  ...   7.7500    NaN         Q     0\n",
              "\n",
              "[891 rows x 10 columns]"
            ]
          },
          "metadata": {
            "tags": []
          },
          "execution_count": 119
        }
      ]
    },
    {
      "cell_type": "code",
      "metadata": {
        "id": "1GMLYn8ClQoh",
        "colab": {
          "base_uri": "https://localhost:8080/",
          "height": 402
        },
        "outputId": "56ce983d-eb5f-45db-ba0e-509c8735de9b"
      },
      "source": [
        "for all_data in combine:\r\n",
        "  all_data.loc[all_data['Alone']==0,'Alone'] = 0\r\n",
        "  all_data.loc[all_data['Alone']!=0,'Alone'] = 1\r\n",
        "\r\n",
        "train_df\r\n",
        "\r\n"
      ],
      "execution_count": 120,
      "outputs": [
        {
          "output_type": "execute_result",
          "data": {
            "text/html": [
              "<div>\n",
              "<style scoped>\n",
              "    .dataframe tbody tr th:only-of-type {\n",
              "        vertical-align: middle;\n",
              "    }\n",
              "\n",
              "    .dataframe tbody tr th {\n",
              "        vertical-align: top;\n",
              "    }\n",
              "\n",
              "    .dataframe thead th {\n",
              "        text-align: right;\n",
              "    }\n",
              "</style>\n",
              "<table border=\"1\" class=\"dataframe\">\n",
              "  <thead>\n",
              "    <tr style=\"text-align: right;\">\n",
              "      <th></th>\n",
              "      <th>PassengerId</th>\n",
              "      <th>Survived</th>\n",
              "      <th>Pclass</th>\n",
              "      <th>Name</th>\n",
              "      <th>Sex</th>\n",
              "      <th>Age</th>\n",
              "      <th>Fare</th>\n",
              "      <th>Cabin</th>\n",
              "      <th>Embarked</th>\n",
              "      <th>Alone</th>\n",
              "    </tr>\n",
              "  </thead>\n",
              "  <tbody>\n",
              "    <tr>\n",
              "      <th>0</th>\n",
              "      <td>1</td>\n",
              "      <td>0</td>\n",
              "      <td>3</td>\n",
              "      <td>0</td>\n",
              "      <td>0</td>\n",
              "      <td>1</td>\n",
              "      <td>7.2500</td>\n",
              "      <td>NaN</td>\n",
              "      <td>S</td>\n",
              "      <td>1</td>\n",
              "    </tr>\n",
              "    <tr>\n",
              "      <th>1</th>\n",
              "      <td>2</td>\n",
              "      <td>1</td>\n",
              "      <td>1</td>\n",
              "      <td>2</td>\n",
              "      <td>1</td>\n",
              "      <td>2</td>\n",
              "      <td>71.2833</td>\n",
              "      <td>C85</td>\n",
              "      <td>C</td>\n",
              "      <td>1</td>\n",
              "    </tr>\n",
              "    <tr>\n",
              "      <th>2</th>\n",
              "      <td>3</td>\n",
              "      <td>1</td>\n",
              "      <td>3</td>\n",
              "      <td>1</td>\n",
              "      <td>1</td>\n",
              "      <td>1</td>\n",
              "      <td>7.9250</td>\n",
              "      <td>NaN</td>\n",
              "      <td>S</td>\n",
              "      <td>0</td>\n",
              "    </tr>\n",
              "    <tr>\n",
              "      <th>3</th>\n",
              "      <td>4</td>\n",
              "      <td>1</td>\n",
              "      <td>1</td>\n",
              "      <td>2</td>\n",
              "      <td>1</td>\n",
              "      <td>2</td>\n",
              "      <td>53.1000</td>\n",
              "      <td>C123</td>\n",
              "      <td>S</td>\n",
              "      <td>1</td>\n",
              "    </tr>\n",
              "    <tr>\n",
              "      <th>4</th>\n",
              "      <td>5</td>\n",
              "      <td>0</td>\n",
              "      <td>3</td>\n",
              "      <td>0</td>\n",
              "      <td>0</td>\n",
              "      <td>2</td>\n",
              "      <td>8.0500</td>\n",
              "      <td>NaN</td>\n",
              "      <td>S</td>\n",
              "      <td>0</td>\n",
              "    </tr>\n",
              "    <tr>\n",
              "      <th>...</th>\n",
              "      <td>...</td>\n",
              "      <td>...</td>\n",
              "      <td>...</td>\n",
              "      <td>...</td>\n",
              "      <td>...</td>\n",
              "      <td>...</td>\n",
              "      <td>...</td>\n",
              "      <td>...</td>\n",
              "      <td>...</td>\n",
              "      <td>...</td>\n",
              "    </tr>\n",
              "    <tr>\n",
              "      <th>886</th>\n",
              "      <td>887</td>\n",
              "      <td>0</td>\n",
              "      <td>2</td>\n",
              "      <td>2</td>\n",
              "      <td>0</td>\n",
              "      <td>1</td>\n",
              "      <td>13.0000</td>\n",
              "      <td>NaN</td>\n",
              "      <td>S</td>\n",
              "      <td>0</td>\n",
              "    </tr>\n",
              "    <tr>\n",
              "      <th>887</th>\n",
              "      <td>888</td>\n",
              "      <td>1</td>\n",
              "      <td>1</td>\n",
              "      <td>4</td>\n",
              "      <td>1</td>\n",
              "      <td>1</td>\n",
              "      <td>30.0000</td>\n",
              "      <td>B42</td>\n",
              "      <td>S</td>\n",
              "      <td>0</td>\n",
              "    </tr>\n",
              "    <tr>\n",
              "      <th>888</th>\n",
              "      <td>889</td>\n",
              "      <td>0</td>\n",
              "      <td>3</td>\n",
              "      <td>1</td>\n",
              "      <td>1</td>\n",
              "      <td>1</td>\n",
              "      <td>23.4500</td>\n",
              "      <td>NaN</td>\n",
              "      <td>S</td>\n",
              "      <td>1</td>\n",
              "    </tr>\n",
              "    <tr>\n",
              "      <th>889</th>\n",
              "      <td>890</td>\n",
              "      <td>1</td>\n",
              "      <td>1</td>\n",
              "      <td>1</td>\n",
              "      <td>0</td>\n",
              "      <td>1</td>\n",
              "      <td>30.0000</td>\n",
              "      <td>C148</td>\n",
              "      <td>C</td>\n",
              "      <td>0</td>\n",
              "    </tr>\n",
              "    <tr>\n",
              "      <th>890</th>\n",
              "      <td>891</td>\n",
              "      <td>0</td>\n",
              "      <td>3</td>\n",
              "      <td>0</td>\n",
              "      <td>0</td>\n",
              "      <td>1</td>\n",
              "      <td>7.7500</td>\n",
              "      <td>NaN</td>\n",
              "      <td>Q</td>\n",
              "      <td>0</td>\n",
              "    </tr>\n",
              "  </tbody>\n",
              "</table>\n",
              "<p>891 rows × 10 columns</p>\n",
              "</div>"
            ],
            "text/plain": [
              "     PassengerId  Survived  Pclass  Name  ...     Fare  Cabin  Embarked Alone\n",
              "0              1         0       3     0  ...   7.2500    NaN         S     1\n",
              "1              2         1       1     2  ...  71.2833    C85         C     1\n",
              "2              3         1       3     1  ...   7.9250    NaN         S     0\n",
              "3              4         1       1     2  ...  53.1000   C123         S     1\n",
              "4              5         0       3     0  ...   8.0500    NaN         S     0\n",
              "..           ...       ...     ...   ...  ...      ...    ...       ...   ...\n",
              "886          887         0       2     2  ...  13.0000    NaN         S     0\n",
              "887          888         1       1     4  ...  30.0000    B42         S     0\n",
              "888          889         0       3     1  ...  23.4500    NaN         S     1\n",
              "889          890         1       1     1  ...  30.0000   C148         C     0\n",
              "890          891         0       3     0  ...   7.7500    NaN         Q     0\n",
              "\n",
              "[891 rows x 10 columns]"
            ]
          },
          "metadata": {
            "tags": []
          },
          "execution_count": 120
        }
      ]
    },
    {
      "cell_type": "code",
      "metadata": {
        "colab": {
          "base_uri": "https://localhost:8080/"
        },
        "id": "Uh0gd3TYXgrQ",
        "outputId": "dae0485b-da14-4b1b-c880-f7fdbf5a912a"
      },
      "source": [
        "train_df.info()"
      ],
      "execution_count": 121,
      "outputs": [
        {
          "output_type": "stream",
          "text": [
            "<class 'pandas.core.frame.DataFrame'>\n",
            "RangeIndex: 891 entries, 0 to 890\n",
            "Data columns (total 10 columns):\n",
            " #   Column       Non-Null Count  Dtype  \n",
            "---  ------       --------------  -----  \n",
            " 0   PassengerId  891 non-null    int64  \n",
            " 1   Survived     891 non-null    int64  \n",
            " 2   Pclass       891 non-null    int64  \n",
            " 3   Name         891 non-null    int64  \n",
            " 4   Sex          891 non-null    int64  \n",
            " 5   Age          891 non-null    int64  \n",
            " 6   Fare         891 non-null    float64\n",
            " 7   Cabin        204 non-null    object \n",
            " 8   Embarked     889 non-null    object \n",
            " 9   Alone        891 non-null    int64  \n",
            "dtypes: float64(1), int64(7), object(2)\n",
            "memory usage: 69.7+ KB\n"
          ],
          "name": "stdout"
        }
      ]
    },
    {
      "cell_type": "code",
      "metadata": {
        "colab": {
          "base_uri": "https://localhost:8080/"
        },
        "id": "dksVfIojXoWI",
        "outputId": "af04b614-cff9-4c19-8bf9-3491245086fd"
      },
      "source": [
        "test_df.info()"
      ],
      "execution_count": 122,
      "outputs": [
        {
          "output_type": "stream",
          "text": [
            "<class 'pandas.core.frame.DataFrame'>\n",
            "RangeIndex: 418 entries, 0 to 417\n",
            "Data columns (total 9 columns):\n",
            " #   Column       Non-Null Count  Dtype  \n",
            "---  ------       --------------  -----  \n",
            " 0   PassengerId  418 non-null    int64  \n",
            " 1   Pclass       418 non-null    int64  \n",
            " 2   Name         418 non-null    int64  \n",
            " 3   Sex          418 non-null    int64  \n",
            " 4   Age          418 non-null    int64  \n",
            " 5   Fare         417 non-null    float64\n",
            " 6   Cabin        91 non-null     object \n",
            " 7   Embarked     418 non-null    object \n",
            " 8   Alone        418 non-null    int64  \n",
            "dtypes: float64(1), int64(6), object(2)\n",
            "memory usage: 29.5+ KB\n"
          ],
          "name": "stdout"
        }
      ]
    },
    {
      "cell_type": "markdown",
      "metadata": {
        "id": "lhiLK7_fYteh"
      },
      "source": [
        "## Fare 컬럼 전처리"
      ]
    },
    {
      "cell_type": "code",
      "metadata": {
        "colab": {
          "base_uri": "https://localhost:8080/"
        },
        "id": "u9OfZ1L1YtEy",
        "outputId": "884753ad-2445-4e5e-e1d0-94793d326072"
      },
      "source": [
        "train_df['Fare'].head(15)"
      ],
      "execution_count": 123,
      "outputs": [
        {
          "output_type": "execute_result",
          "data": {
            "text/plain": [
              "0      7.2500\n",
              "1     71.2833\n",
              "2      7.9250\n",
              "3     53.1000\n",
              "4      8.0500\n",
              "5      8.4583\n",
              "6     51.8625\n",
              "7     21.0750\n",
              "8     11.1333\n",
              "9     30.0708\n",
              "10    16.7000\n",
              "11    26.5500\n",
              "12     8.0500\n",
              "13    31.2750\n",
              "14     7.8542\n",
              "Name: Fare, dtype: float64"
            ]
          },
          "metadata": {
            "tags": []
          },
          "execution_count": 123
        }
      ]
    },
    {
      "cell_type": "markdown",
      "metadata": {
        "id": "cBubSviaFbbi"
      },
      "source": [
        "Fare의 경우에는 1개의 결측값이 있어 중간값으로 채워주었다."
      ]
    },
    {
      "cell_type": "code",
      "metadata": {
        "id": "w96Yvw3TXom4",
        "colab": {
          "base_uri": "https://localhost:8080/"
        },
        "outputId": "da2ddbca-b6fa-412c-ec8c-46f14f76cc56"
      },
      "source": [
        "for total_df in combine:\r\n",
        "  total_df['Fare'] = total_df['Fare'].fillna(total_df['Fare'].median()).round()\r\n",
        "\r\n",
        "test_df['Fare']"
      ],
      "execution_count": 124,
      "outputs": [
        {
          "output_type": "execute_result",
          "data": {
            "text/plain": [
              "0        8.0\n",
              "1        7.0\n",
              "2       10.0\n",
              "3        9.0\n",
              "4       12.0\n",
              "       ...  \n",
              "413      8.0\n",
              "414    109.0\n",
              "415      7.0\n",
              "416      8.0\n",
              "417     22.0\n",
              "Name: Fare, Length: 418, dtype: float64"
            ]
          },
          "metadata": {
            "tags": []
          },
          "execution_count": 124
        }
      ]
    },
    {
      "cell_type": "code",
      "metadata": {
        "colab": {
          "base_uri": "https://localhost:8080/",
          "height": 639
        },
        "id": "FeCKSt9K588b",
        "outputId": "02dcd925-1d43-465c-e85c-776d69160453"
      },
      "source": [
        "# train_df[['Fare','Survived']].groupby('Fare',as_index = False).mean().tail(20)\r\n",
        "# train_df[['Fare','Survived']].groupby('Fare',as_index = False).count().tail(20)\r\n",
        "train_df[['Fare','Survived']].groupby('Fare',as_index = False).mean().tail(20)"
      ],
      "execution_count": 125,
      "outputs": [
        {
          "output_type": "execute_result",
          "data": {
            "text/html": [
              "<div>\n",
              "<style scoped>\n",
              "    .dataframe tbody tr th:only-of-type {\n",
              "        vertical-align: middle;\n",
              "    }\n",
              "\n",
              "    .dataframe tbody tr th {\n",
              "        vertical-align: top;\n",
              "    }\n",
              "\n",
              "    .dataframe thead th {\n",
              "        text-align: right;\n",
              "    }\n",
              "</style>\n",
              "<table border=\"1\" class=\"dataframe\">\n",
              "  <thead>\n",
              "    <tr style=\"text-align: right;\">\n",
              "      <th></th>\n",
              "      <th>Fare</th>\n",
              "      <th>Survived</th>\n",
              "    </tr>\n",
              "  </thead>\n",
              "  <tbody>\n",
              "    <tr>\n",
              "      <th>70</th>\n",
              "      <td>94.0</td>\n",
              "      <td>1.000000</td>\n",
              "    </tr>\n",
              "    <tr>\n",
              "      <th>71</th>\n",
              "      <td>106.0</td>\n",
              "      <td>0.500000</td>\n",
              "    </tr>\n",
              "    <tr>\n",
              "      <th>72</th>\n",
              "      <td>109.0</td>\n",
              "      <td>0.500000</td>\n",
              "    </tr>\n",
              "    <tr>\n",
              "      <th>73</th>\n",
              "      <td>111.0</td>\n",
              "      <td>0.750000</td>\n",
              "    </tr>\n",
              "    <tr>\n",
              "      <th>74</th>\n",
              "      <td>113.0</td>\n",
              "      <td>0.666667</td>\n",
              "    </tr>\n",
              "    <tr>\n",
              "      <th>75</th>\n",
              "      <td>120.0</td>\n",
              "      <td>1.000000</td>\n",
              "    </tr>\n",
              "    <tr>\n",
              "      <th>76</th>\n",
              "      <td>134.0</td>\n",
              "      <td>1.000000</td>\n",
              "    </tr>\n",
              "    <tr>\n",
              "      <th>77</th>\n",
              "      <td>136.0</td>\n",
              "      <td>0.666667</td>\n",
              "    </tr>\n",
              "    <tr>\n",
              "      <th>78</th>\n",
              "      <td>147.0</td>\n",
              "      <td>1.000000</td>\n",
              "    </tr>\n",
              "    <tr>\n",
              "      <th>79</th>\n",
              "      <td>152.0</td>\n",
              "      <td>0.500000</td>\n",
              "    </tr>\n",
              "    <tr>\n",
              "      <th>80</th>\n",
              "      <td>153.0</td>\n",
              "      <td>0.666667</td>\n",
              "    </tr>\n",
              "    <tr>\n",
              "      <th>81</th>\n",
              "      <td>165.0</td>\n",
              "      <td>1.000000</td>\n",
              "    </tr>\n",
              "    <tr>\n",
              "      <th>82</th>\n",
              "      <td>211.0</td>\n",
              "      <td>1.000000</td>\n",
              "    </tr>\n",
              "    <tr>\n",
              "      <th>83</th>\n",
              "      <td>212.0</td>\n",
              "      <td>0.000000</td>\n",
              "    </tr>\n",
              "    <tr>\n",
              "      <th>84</th>\n",
              "      <td>222.0</td>\n",
              "      <td>0.000000</td>\n",
              "    </tr>\n",
              "    <tr>\n",
              "      <th>85</th>\n",
              "      <td>228.0</td>\n",
              "      <td>0.750000</td>\n",
              "    </tr>\n",
              "    <tr>\n",
              "      <th>86</th>\n",
              "      <td>248.0</td>\n",
              "      <td>0.500000</td>\n",
              "    </tr>\n",
              "    <tr>\n",
              "      <th>87</th>\n",
              "      <td>262.0</td>\n",
              "      <td>1.000000</td>\n",
              "    </tr>\n",
              "    <tr>\n",
              "      <th>88</th>\n",
              "      <td>263.0</td>\n",
              "      <td>0.500000</td>\n",
              "    </tr>\n",
              "    <tr>\n",
              "      <th>89</th>\n",
              "      <td>512.0</td>\n",
              "      <td>1.000000</td>\n",
              "    </tr>\n",
              "  </tbody>\n",
              "</table>\n",
              "</div>"
            ],
            "text/plain": [
              "     Fare  Survived\n",
              "70   94.0  1.000000\n",
              "71  106.0  0.500000\n",
              "72  109.0  0.500000\n",
              "73  111.0  0.750000\n",
              "74  113.0  0.666667\n",
              "75  120.0  1.000000\n",
              "76  134.0  1.000000\n",
              "77  136.0  0.666667\n",
              "78  147.0  1.000000\n",
              "79  152.0  0.500000\n",
              "80  153.0  0.666667\n",
              "81  165.0  1.000000\n",
              "82  211.0  1.000000\n",
              "83  212.0  0.000000\n",
              "84  222.0  0.000000\n",
              "85  228.0  0.750000\n",
              "86  248.0  0.500000\n",
              "87  262.0  1.000000\n",
              "88  263.0  0.500000\n",
              "89  512.0  1.000000"
            ]
          },
          "metadata": {
            "tags": []
          },
          "execution_count": 125
        }
      ]
    },
    {
      "cell_type": "code",
      "metadata": {
        "colab": {
          "base_uri": "https://localhost:8080/"
        },
        "id": "rjsPHAaFCa7i",
        "outputId": "da4329f1-baad-4ff8-ee17-7b8c16fff596"
      },
      "source": [
        "train_df.info()"
      ],
      "execution_count": 126,
      "outputs": [
        {
          "output_type": "stream",
          "text": [
            "<class 'pandas.core.frame.DataFrame'>\n",
            "RangeIndex: 891 entries, 0 to 890\n",
            "Data columns (total 10 columns):\n",
            " #   Column       Non-Null Count  Dtype  \n",
            "---  ------       --------------  -----  \n",
            " 0   PassengerId  891 non-null    int64  \n",
            " 1   Survived     891 non-null    int64  \n",
            " 2   Pclass       891 non-null    int64  \n",
            " 3   Name         891 non-null    int64  \n",
            " 4   Sex          891 non-null    int64  \n",
            " 5   Age          891 non-null    int64  \n",
            " 6   Fare         891 non-null    float64\n",
            " 7   Cabin        204 non-null    object \n",
            " 8   Embarked     889 non-null    object \n",
            " 9   Alone        891 non-null    int64  \n",
            "dtypes: float64(1), int64(7), object(2)\n",
            "memory usage: 69.7+ KB\n"
          ],
          "name": "stdout"
        }
      ]
    },
    {
      "cell_type": "code",
      "metadata": {
        "id": "pEGWbSwI2nDD"
      },
      "source": [
        "#for total_df in combine:\r\n",
        "#  total_df['Fare'] = pd.qcut(total_df['Fare'],4).astype\r\n",
        "  \r\n",
        "\r\n",
        "#train_df  \r\n",
        "#test_df"
      ],
      "execution_count": 127,
      "outputs": []
    },
    {
      "cell_type": "code",
      "metadata": {
        "id": "3qqnQxcr9BXh"
      },
      "source": [
        "#train_df['Fare'].unique()"
      ],
      "execution_count": 128,
      "outputs": []
    },
    {
      "cell_type": "code",
      "metadata": {
        "id": "5VojPC-j-Zxn"
      },
      "source": [
        "#test_df['Fare'].unique()"
      ],
      "execution_count": 129,
      "outputs": []
    },
    {
      "cell_type": "markdown",
      "metadata": {
        "id": "xwwhtNXJ-e1j"
      },
      "source": [
        "높은 Fare의 분포가 현저히 작으므로 pd.cut을 통한 일정한 간격보다는 pd.qcut을 통해 같은 인원수로 묶어주었다. "
      ]
    },
    {
      "cell_type": "code",
      "metadata": {
        "colab": {
          "base_uri": "https://localhost:8080/"
        },
        "id": "fXK8xD6NKxWP",
        "outputId": "595043c4-a2e7-4a2c-c98b-b1abf28afbcf"
      },
      "source": [
        "train_df.info()"
      ],
      "execution_count": 130,
      "outputs": [
        {
          "output_type": "stream",
          "text": [
            "<class 'pandas.core.frame.DataFrame'>\n",
            "RangeIndex: 891 entries, 0 to 890\n",
            "Data columns (total 10 columns):\n",
            " #   Column       Non-Null Count  Dtype  \n",
            "---  ------       --------------  -----  \n",
            " 0   PassengerId  891 non-null    int64  \n",
            " 1   Survived     891 non-null    int64  \n",
            " 2   Pclass       891 non-null    int64  \n",
            " 3   Name         891 non-null    int64  \n",
            " 4   Sex          891 non-null    int64  \n",
            " 5   Age          891 non-null    int64  \n",
            " 6   Fare         891 non-null    float64\n",
            " 7   Cabin        204 non-null    object \n",
            " 8   Embarked     889 non-null    object \n",
            " 9   Alone        891 non-null    int64  \n",
            "dtypes: float64(1), int64(7), object(2)\n",
            "memory usage: 69.7+ KB\n"
          ],
          "name": "stdout"
        }
      ]
    },
    {
      "cell_type": "code",
      "metadata": {
        "colab": {
          "base_uri": "https://localhost:8080/"
        },
        "id": "UBz_izZsK1py",
        "outputId": "39698160-4776-4d33-d661-9d62d13bb89f"
      },
      "source": [
        "test_df.info()"
      ],
      "execution_count": 131,
      "outputs": [
        {
          "output_type": "stream",
          "text": [
            "<class 'pandas.core.frame.DataFrame'>\n",
            "RangeIndex: 418 entries, 0 to 417\n",
            "Data columns (total 9 columns):\n",
            " #   Column       Non-Null Count  Dtype  \n",
            "---  ------       --------------  -----  \n",
            " 0   PassengerId  418 non-null    int64  \n",
            " 1   Pclass       418 non-null    int64  \n",
            " 2   Name         418 non-null    int64  \n",
            " 3   Sex          418 non-null    int64  \n",
            " 4   Age          418 non-null    int64  \n",
            " 5   Fare         418 non-null    float64\n",
            " 6   Cabin        91 non-null     object \n",
            " 7   Embarked     418 non-null    object \n",
            " 8   Alone        418 non-null    int64  \n",
            "dtypes: float64(1), int64(6), object(2)\n",
            "memory usage: 29.5+ KB\n"
          ],
          "name": "stdout"
        }
      ]
    },
    {
      "cell_type": "markdown",
      "metadata": {
        "id": "XMxAyLPALTh-"
      },
      "source": [
        "categorical데이터는 연산이 안되어 다음과 같은 방법으로 바꾸어 주었다."
      ]
    },
    {
      "cell_type": "code",
      "metadata": {
        "colab": {
          "base_uri": "https://localhost:8080/",
          "height": 195
        },
        "id": "bijAG50U-bRX",
        "outputId": "123f3170-5f0f-4ed0-ffc8-b23ef93be12f"
      },
      "source": [
        "for total_df in combine:\r\n",
        "  total_df.loc[total_df['Fare'] <= 8.0 ,'Fare'] = 0\r\n",
        "  total_df.loc[(total_df['Fare'] > 8.0) & (total_df['Fare'] <= 14.0) ,'Fare'] = 1\r\n",
        "  total_df.loc[(total_df['Fare'] > 14.0) & (total_df['Fare'] <= 31.75),'Fare'] = 2\r\n",
        "  total_df.loc[(total_df['Fare'] > 31.75) & (total_df['Fare'] <= 512.0),'Fare'] = 3\r\n",
        "\r\n",
        "  total_df['Fare'] = total_df['Fare'].astype(int)\r\n",
        "  \r\n",
        "train_df.head()"
      ],
      "execution_count": 132,
      "outputs": [
        {
          "output_type": "execute_result",
          "data": {
            "text/html": [
              "<div>\n",
              "<style scoped>\n",
              "    .dataframe tbody tr th:only-of-type {\n",
              "        vertical-align: middle;\n",
              "    }\n",
              "\n",
              "    .dataframe tbody tr th {\n",
              "        vertical-align: top;\n",
              "    }\n",
              "\n",
              "    .dataframe thead th {\n",
              "        text-align: right;\n",
              "    }\n",
              "</style>\n",
              "<table border=\"1\" class=\"dataframe\">\n",
              "  <thead>\n",
              "    <tr style=\"text-align: right;\">\n",
              "      <th></th>\n",
              "      <th>PassengerId</th>\n",
              "      <th>Survived</th>\n",
              "      <th>Pclass</th>\n",
              "      <th>Name</th>\n",
              "      <th>Sex</th>\n",
              "      <th>Age</th>\n",
              "      <th>Fare</th>\n",
              "      <th>Cabin</th>\n",
              "      <th>Embarked</th>\n",
              "      <th>Alone</th>\n",
              "    </tr>\n",
              "  </thead>\n",
              "  <tbody>\n",
              "    <tr>\n",
              "      <th>0</th>\n",
              "      <td>1</td>\n",
              "      <td>0</td>\n",
              "      <td>3</td>\n",
              "      <td>0</td>\n",
              "      <td>0</td>\n",
              "      <td>1</td>\n",
              "      <td>0</td>\n",
              "      <td>NaN</td>\n",
              "      <td>S</td>\n",
              "      <td>1</td>\n",
              "    </tr>\n",
              "    <tr>\n",
              "      <th>1</th>\n",
              "      <td>2</td>\n",
              "      <td>1</td>\n",
              "      <td>1</td>\n",
              "      <td>2</td>\n",
              "      <td>1</td>\n",
              "      <td>2</td>\n",
              "      <td>3</td>\n",
              "      <td>C85</td>\n",
              "      <td>C</td>\n",
              "      <td>1</td>\n",
              "    </tr>\n",
              "    <tr>\n",
              "      <th>2</th>\n",
              "      <td>3</td>\n",
              "      <td>1</td>\n",
              "      <td>3</td>\n",
              "      <td>1</td>\n",
              "      <td>1</td>\n",
              "      <td>1</td>\n",
              "      <td>0</td>\n",
              "      <td>NaN</td>\n",
              "      <td>S</td>\n",
              "      <td>0</td>\n",
              "    </tr>\n",
              "    <tr>\n",
              "      <th>3</th>\n",
              "      <td>4</td>\n",
              "      <td>1</td>\n",
              "      <td>1</td>\n",
              "      <td>2</td>\n",
              "      <td>1</td>\n",
              "      <td>2</td>\n",
              "      <td>3</td>\n",
              "      <td>C123</td>\n",
              "      <td>S</td>\n",
              "      <td>1</td>\n",
              "    </tr>\n",
              "    <tr>\n",
              "      <th>4</th>\n",
              "      <td>5</td>\n",
              "      <td>0</td>\n",
              "      <td>3</td>\n",
              "      <td>0</td>\n",
              "      <td>0</td>\n",
              "      <td>2</td>\n",
              "      <td>0</td>\n",
              "      <td>NaN</td>\n",
              "      <td>S</td>\n",
              "      <td>0</td>\n",
              "    </tr>\n",
              "  </tbody>\n",
              "</table>\n",
              "</div>"
            ],
            "text/plain": [
              "   PassengerId  Survived  Pclass  Name  Sex  Age  Fare Cabin Embarked  Alone\n",
              "0            1         0       3     0    0    1     0   NaN        S      1\n",
              "1            2         1       1     2    1    2     3   C85        C      1\n",
              "2            3         1       3     1    1    1     0   NaN        S      0\n",
              "3            4         1       1     2    1    2     3  C123        S      1\n",
              "4            5         0       3     0    0    2     0   NaN        S      0"
            ]
          },
          "metadata": {
            "tags": []
          },
          "execution_count": 132
        }
      ]
    },
    {
      "cell_type": "code",
      "metadata": {
        "colab": {
          "base_uri": "https://localhost:8080/",
          "height": 195
        },
        "id": "2FMtdjsI_sm_",
        "outputId": "0e72803e-c731-47a8-8b96-b2b0fa9c8da9"
      },
      "source": [
        "train_df.head()"
      ],
      "execution_count": 133,
      "outputs": [
        {
          "output_type": "execute_result",
          "data": {
            "text/html": [
              "<div>\n",
              "<style scoped>\n",
              "    .dataframe tbody tr th:only-of-type {\n",
              "        vertical-align: middle;\n",
              "    }\n",
              "\n",
              "    .dataframe tbody tr th {\n",
              "        vertical-align: top;\n",
              "    }\n",
              "\n",
              "    .dataframe thead th {\n",
              "        text-align: right;\n",
              "    }\n",
              "</style>\n",
              "<table border=\"1\" class=\"dataframe\">\n",
              "  <thead>\n",
              "    <tr style=\"text-align: right;\">\n",
              "      <th></th>\n",
              "      <th>PassengerId</th>\n",
              "      <th>Survived</th>\n",
              "      <th>Pclass</th>\n",
              "      <th>Name</th>\n",
              "      <th>Sex</th>\n",
              "      <th>Age</th>\n",
              "      <th>Fare</th>\n",
              "      <th>Cabin</th>\n",
              "      <th>Embarked</th>\n",
              "      <th>Alone</th>\n",
              "    </tr>\n",
              "  </thead>\n",
              "  <tbody>\n",
              "    <tr>\n",
              "      <th>0</th>\n",
              "      <td>1</td>\n",
              "      <td>0</td>\n",
              "      <td>3</td>\n",
              "      <td>0</td>\n",
              "      <td>0</td>\n",
              "      <td>1</td>\n",
              "      <td>0</td>\n",
              "      <td>NaN</td>\n",
              "      <td>S</td>\n",
              "      <td>1</td>\n",
              "    </tr>\n",
              "    <tr>\n",
              "      <th>1</th>\n",
              "      <td>2</td>\n",
              "      <td>1</td>\n",
              "      <td>1</td>\n",
              "      <td>2</td>\n",
              "      <td>1</td>\n",
              "      <td>2</td>\n",
              "      <td>3</td>\n",
              "      <td>C85</td>\n",
              "      <td>C</td>\n",
              "      <td>1</td>\n",
              "    </tr>\n",
              "    <tr>\n",
              "      <th>2</th>\n",
              "      <td>3</td>\n",
              "      <td>1</td>\n",
              "      <td>3</td>\n",
              "      <td>1</td>\n",
              "      <td>1</td>\n",
              "      <td>1</td>\n",
              "      <td>0</td>\n",
              "      <td>NaN</td>\n",
              "      <td>S</td>\n",
              "      <td>0</td>\n",
              "    </tr>\n",
              "    <tr>\n",
              "      <th>3</th>\n",
              "      <td>4</td>\n",
              "      <td>1</td>\n",
              "      <td>1</td>\n",
              "      <td>2</td>\n",
              "      <td>1</td>\n",
              "      <td>2</td>\n",
              "      <td>3</td>\n",
              "      <td>C123</td>\n",
              "      <td>S</td>\n",
              "      <td>1</td>\n",
              "    </tr>\n",
              "    <tr>\n",
              "      <th>4</th>\n",
              "      <td>5</td>\n",
              "      <td>0</td>\n",
              "      <td>3</td>\n",
              "      <td>0</td>\n",
              "      <td>0</td>\n",
              "      <td>2</td>\n",
              "      <td>0</td>\n",
              "      <td>NaN</td>\n",
              "      <td>S</td>\n",
              "      <td>0</td>\n",
              "    </tr>\n",
              "  </tbody>\n",
              "</table>\n",
              "</div>"
            ],
            "text/plain": [
              "   PassengerId  Survived  Pclass  Name  Sex  Age  Fare Cabin Embarked  Alone\n",
              "0            1         0       3     0    0    1     0   NaN        S      1\n",
              "1            2         1       1     2    1    2     3   C85        C      1\n",
              "2            3         1       3     1    1    1     0   NaN        S      0\n",
              "3            4         1       1     2    1    2     3  C123        S      1\n",
              "4            5         0       3     0    0    2     0   NaN        S      0"
            ]
          },
          "metadata": {
            "tags": []
          },
          "execution_count": 133
        }
      ]
    },
    {
      "cell_type": "code",
      "metadata": {
        "colab": {
          "base_uri": "https://localhost:8080/",
          "height": 195
        },
        "id": "lzpbuVAKCFTI",
        "outputId": "07d389bc-46bf-4273-c6fa-cad9c79220b0"
      },
      "source": [
        "test_df.head()"
      ],
      "execution_count": 134,
      "outputs": [
        {
          "output_type": "execute_result",
          "data": {
            "text/html": [
              "<div>\n",
              "<style scoped>\n",
              "    .dataframe tbody tr th:only-of-type {\n",
              "        vertical-align: middle;\n",
              "    }\n",
              "\n",
              "    .dataframe tbody tr th {\n",
              "        vertical-align: top;\n",
              "    }\n",
              "\n",
              "    .dataframe thead th {\n",
              "        text-align: right;\n",
              "    }\n",
              "</style>\n",
              "<table border=\"1\" class=\"dataframe\">\n",
              "  <thead>\n",
              "    <tr style=\"text-align: right;\">\n",
              "      <th></th>\n",
              "      <th>PassengerId</th>\n",
              "      <th>Pclass</th>\n",
              "      <th>Name</th>\n",
              "      <th>Sex</th>\n",
              "      <th>Age</th>\n",
              "      <th>Fare</th>\n",
              "      <th>Cabin</th>\n",
              "      <th>Embarked</th>\n",
              "      <th>Alone</th>\n",
              "    </tr>\n",
              "  </thead>\n",
              "  <tbody>\n",
              "    <tr>\n",
              "      <th>0</th>\n",
              "      <td>892</td>\n",
              "      <td>3</td>\n",
              "      <td>0</td>\n",
              "      <td>0</td>\n",
              "      <td>2</td>\n",
              "      <td>0</td>\n",
              "      <td>NaN</td>\n",
              "      <td>Q</td>\n",
              "      <td>0</td>\n",
              "    </tr>\n",
              "    <tr>\n",
              "      <th>1</th>\n",
              "      <td>893</td>\n",
              "      <td>3</td>\n",
              "      <td>2</td>\n",
              "      <td>1</td>\n",
              "      <td>3</td>\n",
              "      <td>0</td>\n",
              "      <td>NaN</td>\n",
              "      <td>S</td>\n",
              "      <td>1</td>\n",
              "    </tr>\n",
              "    <tr>\n",
              "      <th>2</th>\n",
              "      <td>894</td>\n",
              "      <td>2</td>\n",
              "      <td>0</td>\n",
              "      <td>0</td>\n",
              "      <td>4</td>\n",
              "      <td>1</td>\n",
              "      <td>NaN</td>\n",
              "      <td>Q</td>\n",
              "      <td>0</td>\n",
              "    </tr>\n",
              "    <tr>\n",
              "      <th>3</th>\n",
              "      <td>895</td>\n",
              "      <td>3</td>\n",
              "      <td>0</td>\n",
              "      <td>0</td>\n",
              "      <td>1</td>\n",
              "      <td>1</td>\n",
              "      <td>NaN</td>\n",
              "      <td>S</td>\n",
              "      <td>0</td>\n",
              "    </tr>\n",
              "    <tr>\n",
              "      <th>4</th>\n",
              "      <td>896</td>\n",
              "      <td>3</td>\n",
              "      <td>2</td>\n",
              "      <td>1</td>\n",
              "      <td>1</td>\n",
              "      <td>1</td>\n",
              "      <td>NaN</td>\n",
              "      <td>S</td>\n",
              "      <td>1</td>\n",
              "    </tr>\n",
              "  </tbody>\n",
              "</table>\n",
              "</div>"
            ],
            "text/plain": [
              "   PassengerId  Pclass  Name  Sex  Age  Fare Cabin Embarked  Alone\n",
              "0          892       3     0    0    2     0   NaN        Q      0\n",
              "1          893       3     2    1    3     0   NaN        S      1\n",
              "2          894       2     0    0    4     1   NaN        Q      0\n",
              "3          895       3     0    0    1     1   NaN        S      0\n",
              "4          896       3     2    1    1     1   NaN        S      1"
            ]
          },
          "metadata": {
            "tags": []
          },
          "execution_count": 134
        }
      ]
    },
    {
      "cell_type": "code",
      "metadata": {
        "colab": {
          "base_uri": "https://localhost:8080/"
        },
        "id": "FmbyAlLOCHoX",
        "outputId": "3b9ddeaa-f910-453b-c292-5eeff8541bc7"
      },
      "source": [
        "train_df.info()"
      ],
      "execution_count": 135,
      "outputs": [
        {
          "output_type": "stream",
          "text": [
            "<class 'pandas.core.frame.DataFrame'>\n",
            "RangeIndex: 891 entries, 0 to 890\n",
            "Data columns (total 10 columns):\n",
            " #   Column       Non-Null Count  Dtype \n",
            "---  ------       --------------  ----- \n",
            " 0   PassengerId  891 non-null    int64 \n",
            " 1   Survived     891 non-null    int64 \n",
            " 2   Pclass       891 non-null    int64 \n",
            " 3   Name         891 non-null    int64 \n",
            " 4   Sex          891 non-null    int64 \n",
            " 5   Age          891 non-null    int64 \n",
            " 6   Fare         891 non-null    int64 \n",
            " 7   Cabin        204 non-null    object\n",
            " 8   Embarked     889 non-null    object\n",
            " 9   Alone        891 non-null    int64 \n",
            "dtypes: int64(8), object(2)\n",
            "memory usage: 69.7+ KB\n"
          ],
          "name": "stdout"
        }
      ]
    },
    {
      "cell_type": "code",
      "metadata": {
        "colab": {
          "base_uri": "https://localhost:8080/"
        },
        "id": "niLb4vbWCKmQ",
        "outputId": "0feffc97-fbe3-401e-d493-bdf6cb3f8106"
      },
      "source": [
        "test_df.info()"
      ],
      "execution_count": 136,
      "outputs": [
        {
          "output_type": "stream",
          "text": [
            "<class 'pandas.core.frame.DataFrame'>\n",
            "RangeIndex: 418 entries, 0 to 417\n",
            "Data columns (total 9 columns):\n",
            " #   Column       Non-Null Count  Dtype \n",
            "---  ------       --------------  ----- \n",
            " 0   PassengerId  418 non-null    int64 \n",
            " 1   Pclass       418 non-null    int64 \n",
            " 2   Name         418 non-null    int64 \n",
            " 3   Sex          418 non-null    int64 \n",
            " 4   Age          418 non-null    int64 \n",
            " 5   Fare         418 non-null    int64 \n",
            " 6   Cabin        91 non-null     object\n",
            " 7   Embarked     418 non-null    object\n",
            " 8   Alone        418 non-null    int64 \n",
            "dtypes: int64(7), object(2)\n",
            "memory usage: 29.5+ KB\n"
          ],
          "name": "stdout"
        }
      ]
    },
    {
      "cell_type": "markdown",
      "metadata": {
        "id": "gHy5Bw4ZEXXV"
      },
      "source": [
        "## Cabin 컬럼 전처리"
      ]
    },
    {
      "cell_type": "code",
      "metadata": {
        "colab": {
          "base_uri": "https://localhost:8080/",
          "height": 402
        },
        "id": "IP0ioqF4Iamx",
        "outputId": "252e88cf-8598-4a8f-caa6-77b075f8f9b8"
      },
      "source": [
        "for total_df in combine:\r\n",
        "  total_df = total_df.drop('Cabin', axis = 1, inplace = True)\r\n",
        "\r\n",
        "test_df"
      ],
      "execution_count": 137,
      "outputs": [
        {
          "output_type": "execute_result",
          "data": {
            "text/html": [
              "<div>\n",
              "<style scoped>\n",
              "    .dataframe tbody tr th:only-of-type {\n",
              "        vertical-align: middle;\n",
              "    }\n",
              "\n",
              "    .dataframe tbody tr th {\n",
              "        vertical-align: top;\n",
              "    }\n",
              "\n",
              "    .dataframe thead th {\n",
              "        text-align: right;\n",
              "    }\n",
              "</style>\n",
              "<table border=\"1\" class=\"dataframe\">\n",
              "  <thead>\n",
              "    <tr style=\"text-align: right;\">\n",
              "      <th></th>\n",
              "      <th>PassengerId</th>\n",
              "      <th>Pclass</th>\n",
              "      <th>Name</th>\n",
              "      <th>Sex</th>\n",
              "      <th>Age</th>\n",
              "      <th>Fare</th>\n",
              "      <th>Embarked</th>\n",
              "      <th>Alone</th>\n",
              "    </tr>\n",
              "  </thead>\n",
              "  <tbody>\n",
              "    <tr>\n",
              "      <th>0</th>\n",
              "      <td>892</td>\n",
              "      <td>3</td>\n",
              "      <td>0</td>\n",
              "      <td>0</td>\n",
              "      <td>2</td>\n",
              "      <td>0</td>\n",
              "      <td>Q</td>\n",
              "      <td>0</td>\n",
              "    </tr>\n",
              "    <tr>\n",
              "      <th>1</th>\n",
              "      <td>893</td>\n",
              "      <td>3</td>\n",
              "      <td>2</td>\n",
              "      <td>1</td>\n",
              "      <td>3</td>\n",
              "      <td>0</td>\n",
              "      <td>S</td>\n",
              "      <td>1</td>\n",
              "    </tr>\n",
              "    <tr>\n",
              "      <th>2</th>\n",
              "      <td>894</td>\n",
              "      <td>2</td>\n",
              "      <td>0</td>\n",
              "      <td>0</td>\n",
              "      <td>4</td>\n",
              "      <td>1</td>\n",
              "      <td>Q</td>\n",
              "      <td>0</td>\n",
              "    </tr>\n",
              "    <tr>\n",
              "      <th>3</th>\n",
              "      <td>895</td>\n",
              "      <td>3</td>\n",
              "      <td>0</td>\n",
              "      <td>0</td>\n",
              "      <td>1</td>\n",
              "      <td>1</td>\n",
              "      <td>S</td>\n",
              "      <td>0</td>\n",
              "    </tr>\n",
              "    <tr>\n",
              "      <th>4</th>\n",
              "      <td>896</td>\n",
              "      <td>3</td>\n",
              "      <td>2</td>\n",
              "      <td>1</td>\n",
              "      <td>1</td>\n",
              "      <td>1</td>\n",
              "      <td>S</td>\n",
              "      <td>1</td>\n",
              "    </tr>\n",
              "    <tr>\n",
              "      <th>...</th>\n",
              "      <td>...</td>\n",
              "      <td>...</td>\n",
              "      <td>...</td>\n",
              "      <td>...</td>\n",
              "      <td>...</td>\n",
              "      <td>...</td>\n",
              "      <td>...</td>\n",
              "      <td>...</td>\n",
              "    </tr>\n",
              "    <tr>\n",
              "      <th>413</th>\n",
              "      <td>1305</td>\n",
              "      <td>3</td>\n",
              "      <td>0</td>\n",
              "      <td>0</td>\n",
              "      <td>1</td>\n",
              "      <td>0</td>\n",
              "      <td>S</td>\n",
              "      <td>0</td>\n",
              "    </tr>\n",
              "    <tr>\n",
              "      <th>414</th>\n",
              "      <td>1306</td>\n",
              "      <td>1</td>\n",
              "      <td>4</td>\n",
              "      <td>1</td>\n",
              "      <td>2</td>\n",
              "      <td>3</td>\n",
              "      <td>C</td>\n",
              "      <td>0</td>\n",
              "    </tr>\n",
              "    <tr>\n",
              "      <th>415</th>\n",
              "      <td>1307</td>\n",
              "      <td>3</td>\n",
              "      <td>0</td>\n",
              "      <td>0</td>\n",
              "      <td>2</td>\n",
              "      <td>0</td>\n",
              "      <td>S</td>\n",
              "      <td>0</td>\n",
              "    </tr>\n",
              "    <tr>\n",
              "      <th>416</th>\n",
              "      <td>1308</td>\n",
              "      <td>3</td>\n",
              "      <td>0</td>\n",
              "      <td>0</td>\n",
              "      <td>1</td>\n",
              "      <td>0</td>\n",
              "      <td>S</td>\n",
              "      <td>0</td>\n",
              "    </tr>\n",
              "    <tr>\n",
              "      <th>417</th>\n",
              "      <td>1309</td>\n",
              "      <td>3</td>\n",
              "      <td>3</td>\n",
              "      <td>0</td>\n",
              "      <td>1</td>\n",
              "      <td>2</td>\n",
              "      <td>C</td>\n",
              "      <td>1</td>\n",
              "    </tr>\n",
              "  </tbody>\n",
              "</table>\n",
              "<p>418 rows × 8 columns</p>\n",
              "</div>"
            ],
            "text/plain": [
              "     PassengerId  Pclass  Name  Sex  Age  Fare Embarked  Alone\n",
              "0            892       3     0    0    2     0        Q      0\n",
              "1            893       3     2    1    3     0        S      1\n",
              "2            894       2     0    0    4     1        Q      0\n",
              "3            895       3     0    0    1     1        S      0\n",
              "4            896       3     2    1    1     1        S      1\n",
              "..           ...     ...   ...  ...  ...   ...      ...    ...\n",
              "413         1305       3     0    0    1     0        S      0\n",
              "414         1306       1     4    1    2     3        C      0\n",
              "415         1307       3     0    0    2     0        S      0\n",
              "416         1308       3     0    0    1     0        S      0\n",
              "417         1309       3     3    0    1     2        C      1\n",
              "\n",
              "[418 rows x 8 columns]"
            ]
          },
          "metadata": {
            "tags": []
          },
          "execution_count": 137
        }
      ]
    },
    {
      "cell_type": "code",
      "metadata": {
        "colab": {
          "base_uri": "https://localhost:8080/"
        },
        "id": "qpeNv7c4JKon",
        "outputId": "e4c8ed02-fa12-4aec-ad7d-e36bfc8ed4cb"
      },
      "source": [
        "train_df.info()"
      ],
      "execution_count": 138,
      "outputs": [
        {
          "output_type": "stream",
          "text": [
            "<class 'pandas.core.frame.DataFrame'>\n",
            "RangeIndex: 891 entries, 0 to 890\n",
            "Data columns (total 9 columns):\n",
            " #   Column       Non-Null Count  Dtype \n",
            "---  ------       --------------  ----- \n",
            " 0   PassengerId  891 non-null    int64 \n",
            " 1   Survived     891 non-null    int64 \n",
            " 2   Pclass       891 non-null    int64 \n",
            " 3   Name         891 non-null    int64 \n",
            " 4   Sex          891 non-null    int64 \n",
            " 5   Age          891 non-null    int64 \n",
            " 6   Fare         891 non-null    int64 \n",
            " 7   Embarked     889 non-null    object\n",
            " 8   Alone        891 non-null    int64 \n",
            "dtypes: int64(8), object(1)\n",
            "memory usage: 62.8+ KB\n"
          ],
          "name": "stdout"
        }
      ]
    },
    {
      "cell_type": "code",
      "metadata": {
        "colab": {
          "base_uri": "https://localhost:8080/"
        },
        "id": "Gn-P7D3bdHFM",
        "outputId": "ce02dce4-0b95-4895-bcfb-62b5abd4fc63"
      },
      "source": [
        "test_df.info()"
      ],
      "execution_count": 139,
      "outputs": [
        {
          "output_type": "stream",
          "text": [
            "<class 'pandas.core.frame.DataFrame'>\n",
            "RangeIndex: 418 entries, 0 to 417\n",
            "Data columns (total 8 columns):\n",
            " #   Column       Non-Null Count  Dtype \n",
            "---  ------       --------------  ----- \n",
            " 0   PassengerId  418 non-null    int64 \n",
            " 1   Pclass       418 non-null    int64 \n",
            " 2   Name         418 non-null    int64 \n",
            " 3   Sex          418 non-null    int64 \n",
            " 4   Age          418 non-null    int64 \n",
            " 5   Fare         418 non-null    int64 \n",
            " 6   Embarked     418 non-null    object\n",
            " 7   Alone        418 non-null    int64 \n",
            "dtypes: int64(7), object(1)\n",
            "memory usage: 26.2+ KB\n"
          ],
          "name": "stdout"
        }
      ]
    },
    {
      "cell_type": "markdown",
      "metadata": {
        "id": "QiFx7G45JNx_"
      },
      "source": [
        "## Embarked 컬럼 전처리"
      ]
    },
    {
      "cell_type": "code",
      "metadata": {
        "colab": {
          "base_uri": "https://localhost:8080/"
        },
        "id": "Fap9L1F6JMyW",
        "outputId": "dd47084d-3a37-4283-85ec-00355ce7b1fe"
      },
      "source": [
        "train_df['Embarked'].mode()"
      ],
      "execution_count": 140,
      "outputs": [
        {
          "output_type": "execute_result",
          "data": {
            "text/plain": [
              "0    S\n",
              "dtype: object"
            ]
          },
          "metadata": {
            "tags": []
          },
          "execution_count": 140
        }
      ]
    },
    {
      "cell_type": "code",
      "metadata": {
        "colab": {
          "base_uri": "https://localhost:8080/"
        },
        "id": "GPR86fXxdalG",
        "outputId": "83124ae3-8ab2-466f-e88f-5a10672b763e"
      },
      "source": [
        "train_df['Embarked'] = train_df['Embarked'].fillna('S')\r\n",
        "train_df.info()"
      ],
      "execution_count": 141,
      "outputs": [
        {
          "output_type": "stream",
          "text": [
            "<class 'pandas.core.frame.DataFrame'>\n",
            "RangeIndex: 891 entries, 0 to 890\n",
            "Data columns (total 9 columns):\n",
            " #   Column       Non-Null Count  Dtype \n",
            "---  ------       --------------  ----- \n",
            " 0   PassengerId  891 non-null    int64 \n",
            " 1   Survived     891 non-null    int64 \n",
            " 2   Pclass       891 non-null    int64 \n",
            " 3   Name         891 non-null    int64 \n",
            " 4   Sex          891 non-null    int64 \n",
            " 5   Age          891 non-null    int64 \n",
            " 6   Fare         891 non-null    int64 \n",
            " 7   Embarked     891 non-null    object\n",
            " 8   Alone        891 non-null    int64 \n",
            "dtypes: int64(8), object(1)\n",
            "memory usage: 62.8+ KB\n"
          ],
          "name": "stdout"
        }
      ]
    },
    {
      "cell_type": "code",
      "metadata": {
        "colab": {
          "base_uri": "https://localhost:8080/",
          "height": 195
        },
        "id": "YZRA7h1dduYG",
        "outputId": "2e4f8e9b-f172-48e7-8015-3ebec99ebd80"
      },
      "source": [
        "embarked_mapping = {'S' : 0, 'C' : 1, 'Q' : 2}\r\n",
        "\r\n",
        "for total_df in combine:\r\n",
        "  total_df['Embarked'] = total_df['Embarked'].map(embarked_mapping).astype(int)\r\n",
        "\r\n",
        "train_df.head()"
      ],
      "execution_count": 142,
      "outputs": [
        {
          "output_type": "execute_result",
          "data": {
            "text/html": [
              "<div>\n",
              "<style scoped>\n",
              "    .dataframe tbody tr th:only-of-type {\n",
              "        vertical-align: middle;\n",
              "    }\n",
              "\n",
              "    .dataframe tbody tr th {\n",
              "        vertical-align: top;\n",
              "    }\n",
              "\n",
              "    .dataframe thead th {\n",
              "        text-align: right;\n",
              "    }\n",
              "</style>\n",
              "<table border=\"1\" class=\"dataframe\">\n",
              "  <thead>\n",
              "    <tr style=\"text-align: right;\">\n",
              "      <th></th>\n",
              "      <th>PassengerId</th>\n",
              "      <th>Survived</th>\n",
              "      <th>Pclass</th>\n",
              "      <th>Name</th>\n",
              "      <th>Sex</th>\n",
              "      <th>Age</th>\n",
              "      <th>Fare</th>\n",
              "      <th>Embarked</th>\n",
              "      <th>Alone</th>\n",
              "    </tr>\n",
              "  </thead>\n",
              "  <tbody>\n",
              "    <tr>\n",
              "      <th>0</th>\n",
              "      <td>1</td>\n",
              "      <td>0</td>\n",
              "      <td>3</td>\n",
              "      <td>0</td>\n",
              "      <td>0</td>\n",
              "      <td>1</td>\n",
              "      <td>0</td>\n",
              "      <td>0</td>\n",
              "      <td>1</td>\n",
              "    </tr>\n",
              "    <tr>\n",
              "      <th>1</th>\n",
              "      <td>2</td>\n",
              "      <td>1</td>\n",
              "      <td>1</td>\n",
              "      <td>2</td>\n",
              "      <td>1</td>\n",
              "      <td>2</td>\n",
              "      <td>3</td>\n",
              "      <td>1</td>\n",
              "      <td>1</td>\n",
              "    </tr>\n",
              "    <tr>\n",
              "      <th>2</th>\n",
              "      <td>3</td>\n",
              "      <td>1</td>\n",
              "      <td>3</td>\n",
              "      <td>1</td>\n",
              "      <td>1</td>\n",
              "      <td>1</td>\n",
              "      <td>0</td>\n",
              "      <td>0</td>\n",
              "      <td>0</td>\n",
              "    </tr>\n",
              "    <tr>\n",
              "      <th>3</th>\n",
              "      <td>4</td>\n",
              "      <td>1</td>\n",
              "      <td>1</td>\n",
              "      <td>2</td>\n",
              "      <td>1</td>\n",
              "      <td>2</td>\n",
              "      <td>3</td>\n",
              "      <td>0</td>\n",
              "      <td>1</td>\n",
              "    </tr>\n",
              "    <tr>\n",
              "      <th>4</th>\n",
              "      <td>5</td>\n",
              "      <td>0</td>\n",
              "      <td>3</td>\n",
              "      <td>0</td>\n",
              "      <td>0</td>\n",
              "      <td>2</td>\n",
              "      <td>0</td>\n",
              "      <td>0</td>\n",
              "      <td>0</td>\n",
              "    </tr>\n",
              "  </tbody>\n",
              "</table>\n",
              "</div>"
            ],
            "text/plain": [
              "   PassengerId  Survived  Pclass  Name  Sex  Age  Fare  Embarked  Alone\n",
              "0            1         0       3     0    0    1     0         0      1\n",
              "1            2         1       1     2    1    2     3         1      1\n",
              "2            3         1       3     1    1    1     0         0      0\n",
              "3            4         1       1     2    1    2     3         0      1\n",
              "4            5         0       3     0    0    2     0         0      0"
            ]
          },
          "metadata": {
            "tags": []
          },
          "execution_count": 142
        }
      ]
    },
    {
      "cell_type": "code",
      "metadata": {
        "colab": {
          "base_uri": "https://localhost:8080/"
        },
        "id": "eWAByT8Se1en",
        "outputId": "5c5e1ada-0b0e-47b8-f444-5eede8960851"
      },
      "source": [
        "train_df.info()"
      ],
      "execution_count": 143,
      "outputs": [
        {
          "output_type": "stream",
          "text": [
            "<class 'pandas.core.frame.DataFrame'>\n",
            "RangeIndex: 891 entries, 0 to 890\n",
            "Data columns (total 9 columns):\n",
            " #   Column       Non-Null Count  Dtype\n",
            "---  ------       --------------  -----\n",
            " 0   PassengerId  891 non-null    int64\n",
            " 1   Survived     891 non-null    int64\n",
            " 2   Pclass       891 non-null    int64\n",
            " 3   Name         891 non-null    int64\n",
            " 4   Sex          891 non-null    int64\n",
            " 5   Age          891 non-null    int64\n",
            " 6   Fare         891 non-null    int64\n",
            " 7   Embarked     891 non-null    int64\n",
            " 8   Alone        891 non-null    int64\n",
            "dtypes: int64(9)\n",
            "memory usage: 62.8 KB\n"
          ],
          "name": "stdout"
        }
      ]
    },
    {
      "cell_type": "code",
      "metadata": {
        "colab": {
          "base_uri": "https://localhost:8080/"
        },
        "id": "fjLQgH8ifJ2G",
        "outputId": "c0c979d8-6940-4ad4-e374-87164144df6a"
      },
      "source": [
        "test_df.info()"
      ],
      "execution_count": 144,
      "outputs": [
        {
          "output_type": "stream",
          "text": [
            "<class 'pandas.core.frame.DataFrame'>\n",
            "RangeIndex: 418 entries, 0 to 417\n",
            "Data columns (total 8 columns):\n",
            " #   Column       Non-Null Count  Dtype\n",
            "---  ------       --------------  -----\n",
            " 0   PassengerId  418 non-null    int64\n",
            " 1   Pclass       418 non-null    int64\n",
            " 2   Name         418 non-null    int64\n",
            " 3   Sex          418 non-null    int64\n",
            " 4   Age          418 non-null    int64\n",
            " 5   Fare         418 non-null    int64\n",
            " 6   Embarked     418 non-null    int64\n",
            " 7   Alone        418 non-null    int64\n",
            "dtypes: int64(8)\n",
            "memory usage: 26.2 KB\n"
          ],
          "name": "stdout"
        }
      ]
    },
    {
      "cell_type": "markdown",
      "metadata": {
        "id": "Cm7wkPf8f2zu"
      },
      "source": [
        "전처리 이후 Fare의 시각화"
      ]
    },
    {
      "cell_type": "code",
      "metadata": {
        "colab": {
          "base_uri": "https://localhost:8080/",
          "height": 297
        },
        "id": "3a73cRV9fieq",
        "outputId": "01b9a056-f866-4df1-f940-d05f4658b89f"
      },
      "source": [
        "sns.histplot(x = 'Fare', hue = 'Survived', data = train_df)\r\n",
        "# 더 정돈되게 시각화 하는 방법 찾기"
      ],
      "execution_count": 145,
      "outputs": [
        {
          "output_type": "execute_result",
          "data": {
            "text/plain": [
              "<matplotlib.axes._subplots.AxesSubplot at 0x7fad36393fd0>"
            ]
          },
          "metadata": {
            "tags": []
          },
          "execution_count": 145
        },
        {
          "output_type": "display_data",
          "data": {
            "image/png": "[encoded data removed]",
            "text/plain": [
              "<Figure size 432x288 with 1 Axes>"
            ]
          },
          "metadata": {
            "tags": [],
            "needs_background": "light"
          }
        }
      ]
    },
    {
      "cell_type": "code",
      "metadata": {
        "id": "rvpdPZuqA7AV",
        "colab": {
          "base_uri": "https://localhost:8080/",
          "height": 297
        },
        "outputId": "df747888-8d98-4849-e503-99365e105fbb"
      },
      "source": [
        "sns.barplot(x = 'Alone', y = 'Survived', data = train_df)"
      ],
      "execution_count": 146,
      "outputs": [
        {
          "output_type": "execute_result",
          "data": {
            "text/plain": [
              "<matplotlib.axes._subplots.AxesSubplot at 0x7fad34dab7b8>"
            ]
          },
          "metadata": {
            "tags": []
          },
          "execution_count": 146
        },
        {
          "output_type": "display_data",
          "data": {
            "image/png": "[encoded data removed]",
            "text/plain": [
              "<Figure size 432x288 with 1 Axes>"
            ]
          },
          "metadata": {
            "tags": [],
            "needs_background": "light"
          }
        }
      ]
    },
    {
      "cell_type": "code",
      "metadata": {
        "colab": {
          "base_uri": "https://localhost:8080/"
        },
        "id": "Ly-9BXX3fi27",
        "outputId": "afbcf290-2db2-4825-e998-a2b5daeac126"
      },
      "source": [
        "train_df.info()"
      ],
      "execution_count": null,
      "outputs": [
        {
          "output_type": "stream",
          "text": [
            "<class 'pandas.core.frame.DataFrame'>\n",
            "RangeIndex: 891 entries, 0 to 890\n",
            "Data columns (total 9 columns):\n",
            " #   Column       Non-Null Count  Dtype\n",
            "---  ------       --------------  -----\n",
            " 0   PassengerId  891 non-null    int64\n",
            " 1   Survived     891 non-null    int64\n",
            " 2   Pclass       891 non-null    int64\n",
            " 3   Name         891 non-null    int64\n",
            " 4   Sex          891 non-null    int64\n",
            " 5   Age          891 non-null    int64\n",
            " 6   Fare         891 non-null    int64\n",
            " 7   Embarked     891 non-null    int64\n",
            " 8   Alone        891 non-null    int64\n",
            "dtypes: int64(9)\n",
            "memory usage: 62.8 KB\n"
          ],
          "name": "stdout"
        }
      ]
    },
    {
      "cell_type": "code",
      "metadata": {
        "colab": {
          "base_uri": "https://localhost:8080/",
          "height": 343
        },
        "id": "MHZ3fGR4fLyW",
        "outputId": "31e5096f-a414-4f96-f2e5-2ed1fb2df806"
      },
      "source": [
        "train_df.sample(10)"
      ],
      "execution_count": null,
      "outputs": [
        {
          "output_type": "execute_result",
          "data": {
            "text/html": [
              "<div>\n",
              "<style scoped>\n",
              "    .dataframe tbody tr th:only-of-type {\n",
              "        vertical-align: middle;\n",
              "    }\n",
              "\n",
              "    .dataframe tbody tr th {\n",
              "        vertical-align: top;\n",
              "    }\n",
              "\n",
              "    .dataframe thead th {\n",
              "        text-align: right;\n",
              "    }\n",
              "</style>\n",
              "<table border=\"1\" class=\"dataframe\">\n",
              "  <thead>\n",
              "    <tr style=\"text-align: right;\">\n",
              "      <th></th>\n",
              "      <th>PassengerId</th>\n",
              "      <th>Survived</th>\n",
              "      <th>Pclass</th>\n",
              "      <th>Name</th>\n",
              "      <th>Sex</th>\n",
              "      <th>Age</th>\n",
              "      <th>Fare</th>\n",
              "      <th>Embarked</th>\n",
              "      <th>Alone</th>\n",
              "    </tr>\n",
              "  </thead>\n",
              "  <tbody>\n",
              "    <tr>\n",
              "      <th>61</th>\n",
              "      <td>62</td>\n",
              "      <td>1</td>\n",
              "      <td>1</td>\n",
              "      <td>1</td>\n",
              "      <td>1</td>\n",
              "      <td>2</td>\n",
              "      <td>3</td>\n",
              "      <td>0</td>\n",
              "      <td>0</td>\n",
              "    </tr>\n",
              "    <tr>\n",
              "      <th>652</th>\n",
              "      <td>653</td>\n",
              "      <td>0</td>\n",
              "      <td>3</td>\n",
              "      <td>1</td>\n",
              "      <td>0</td>\n",
              "      <td>1</td>\n",
              "      <td>0</td>\n",
              "      <td>0</td>\n",
              "      <td>0</td>\n",
              "    </tr>\n",
              "    <tr>\n",
              "      <th>31</th>\n",
              "      <td>32</td>\n",
              "      <td>1</td>\n",
              "      <td>1</td>\n",
              "      <td>2</td>\n",
              "      <td>1</td>\n",
              "      <td>2</td>\n",
              "      <td>3</td>\n",
              "      <td>1</td>\n",
              "      <td>1</td>\n",
              "    </tr>\n",
              "    <tr>\n",
              "      <th>106</th>\n",
              "      <td>107</td>\n",
              "      <td>1</td>\n",
              "      <td>3</td>\n",
              "      <td>1</td>\n",
              "      <td>1</td>\n",
              "      <td>1</td>\n",
              "      <td>0</td>\n",
              "      <td>0</td>\n",
              "      <td>0</td>\n",
              "    </tr>\n",
              "    <tr>\n",
              "      <th>551</th>\n",
              "      <td>552</td>\n",
              "      <td>0</td>\n",
              "      <td>2</td>\n",
              "      <td>0</td>\n",
              "      <td>0</td>\n",
              "      <td>1</td>\n",
              "      <td>2</td>\n",
              "      <td>0</td>\n",
              "      <td>0</td>\n",
              "    </tr>\n",
              "    <tr>\n",
              "      <th>866</th>\n",
              "      <td>867</td>\n",
              "      <td>1</td>\n",
              "      <td>2</td>\n",
              "      <td>2</td>\n",
              "      <td>1</td>\n",
              "      <td>1</td>\n",
              "      <td>1</td>\n",
              "      <td>1</td>\n",
              "      <td>1</td>\n",
              "    </tr>\n",
              "    <tr>\n",
              "      <th>813</th>\n",
              "      <td>814</td>\n",
              "      <td>0</td>\n",
              "      <td>3</td>\n",
              "      <td>0</td>\n",
              "      <td>1</td>\n",
              "      <td>0</td>\n",
              "      <td>2</td>\n",
              "      <td>0</td>\n",
              "      <td>1</td>\n",
              "    </tr>\n",
              "    <tr>\n",
              "      <th>436</th>\n",
              "      <td>437</td>\n",
              "      <td>0</td>\n",
              "      <td>3</td>\n",
              "      <td>1</td>\n",
              "      <td>1</td>\n",
              "      <td>1</td>\n",
              "      <td>3</td>\n",
              "      <td>0</td>\n",
              "      <td>1</td>\n",
              "    </tr>\n",
              "    <tr>\n",
              "      <th>315</th>\n",
              "      <td>316</td>\n",
              "      <td>1</td>\n",
              "      <td>3</td>\n",
              "      <td>1</td>\n",
              "      <td>1</td>\n",
              "      <td>1</td>\n",
              "      <td>0</td>\n",
              "      <td>0</td>\n",
              "      <td>0</td>\n",
              "    </tr>\n",
              "    <tr>\n",
              "      <th>642</th>\n",
              "      <td>643</td>\n",
              "      <td>0</td>\n",
              "      <td>3</td>\n",
              "      <td>4</td>\n",
              "      <td>1</td>\n",
              "      <td>0</td>\n",
              "      <td>2</td>\n",
              "      <td>0</td>\n",
              "      <td>1</td>\n",
              "    </tr>\n",
              "  </tbody>\n",
              "</table>\n",
              "</div>"
            ],
            "text/plain": [
              "     PassengerId  Survived  Pclass  Name  Sex  Age  Fare  Embarked  Alone\n",
              "61            62         1       1     1    1    2     3         0      0\n",
              "652          653         0       3     1    0    1     0         0      0\n",
              "31            32         1       1     2    1    2     3         1      1\n",
              "106          107         1       3     1    1    1     0         0      0\n",
              "551          552         0       2     0    0    1     2         0      0\n",
              "866          867         1       2     2    1    1     1         1      1\n",
              "813          814         0       3     0    1    0     2         0      1\n",
              "436          437         0       3     1    1    1     3         0      1\n",
              "315          316         1       3     1    1    1     0         0      0\n",
              "642          643         0       3     4    1    0     2         0      1"
            ]
          },
          "metadata": {
            "tags": []
          },
          "execution_count": 830
        }
      ]
    },
    {
      "cell_type": "code",
      "metadata": {
        "colab": {
          "base_uri": "https://localhost:8080/",
          "height": 343
        },
        "id": "TLKWY8HijX69",
        "outputId": "a3cc9cfe-801d-4220-ffce-16da7afdc1b9"
      },
      "source": [
        "test_df.sample(10)"
      ],
      "execution_count": null,
      "outputs": [
        {
          "output_type": "execute_result",
          "data": {
            "text/html": [
              "<div>\n",
              "<style scoped>\n",
              "    .dataframe tbody tr th:only-of-type {\n",
              "        vertical-align: middle;\n",
              "    }\n",
              "\n",
              "    .dataframe tbody tr th {\n",
              "        vertical-align: top;\n",
              "    }\n",
              "\n",
              "    .dataframe thead th {\n",
              "        text-align: right;\n",
              "    }\n",
              "</style>\n",
              "<table border=\"1\" class=\"dataframe\">\n",
              "  <thead>\n",
              "    <tr style=\"text-align: right;\">\n",
              "      <th></th>\n",
              "      <th>PassengerId</th>\n",
              "      <th>Pclass</th>\n",
              "      <th>Name</th>\n",
              "      <th>Sex</th>\n",
              "      <th>Age</th>\n",
              "      <th>Fare</th>\n",
              "      <th>Embarked</th>\n",
              "      <th>Alone</th>\n",
              "    </tr>\n",
              "  </thead>\n",
              "  <tbody>\n",
              "    <tr>\n",
              "      <th>208</th>\n",
              "      <td>1100</td>\n",
              "      <td>1</td>\n",
              "      <td>1</td>\n",
              "      <td>1</td>\n",
              "      <td>2</td>\n",
              "      <td>2</td>\n",
              "      <td>1</td>\n",
              "      <td>0</td>\n",
              "    </tr>\n",
              "    <tr>\n",
              "      <th>197</th>\n",
              "      <td>1089</td>\n",
              "      <td>3</td>\n",
              "      <td>1</td>\n",
              "      <td>1</td>\n",
              "      <td>1</td>\n",
              "      <td>0</td>\n",
              "      <td>0</td>\n",
              "      <td>0</td>\n",
              "    </tr>\n",
              "    <tr>\n",
              "      <th>279</th>\n",
              "      <td>1171</td>\n",
              "      <td>2</td>\n",
              "      <td>0</td>\n",
              "      <td>0</td>\n",
              "      <td>1</td>\n",
              "      <td>1</td>\n",
              "      <td>0</td>\n",
              "      <td>0</td>\n",
              "    </tr>\n",
              "    <tr>\n",
              "      <th>4</th>\n",
              "      <td>896</td>\n",
              "      <td>3</td>\n",
              "      <td>2</td>\n",
              "      <td>1</td>\n",
              "      <td>1</td>\n",
              "      <td>1</td>\n",
              "      <td>0</td>\n",
              "      <td>1</td>\n",
              "    </tr>\n",
              "    <tr>\n",
              "      <th>337</th>\n",
              "      <td>1229</td>\n",
              "      <td>3</td>\n",
              "      <td>0</td>\n",
              "      <td>0</td>\n",
              "      <td>2</td>\n",
              "      <td>0</td>\n",
              "      <td>1</td>\n",
              "      <td>1</td>\n",
              "    </tr>\n",
              "    <tr>\n",
              "      <th>312</th>\n",
              "      <td>1204</td>\n",
              "      <td>3</td>\n",
              "      <td>0</td>\n",
              "      <td>0</td>\n",
              "      <td>1</td>\n",
              "      <td>0</td>\n",
              "      <td>0</td>\n",
              "      <td>0</td>\n",
              "    </tr>\n",
              "    <tr>\n",
              "      <th>92</th>\n",
              "      <td>984</td>\n",
              "      <td>1</td>\n",
              "      <td>2</td>\n",
              "      <td>1</td>\n",
              "      <td>1</td>\n",
              "      <td>3</td>\n",
              "      <td>0</td>\n",
              "      <td>1</td>\n",
              "    </tr>\n",
              "    <tr>\n",
              "      <th>298</th>\n",
              "      <td>1190</td>\n",
              "      <td>1</td>\n",
              "      <td>0</td>\n",
              "      <td>0</td>\n",
              "      <td>1</td>\n",
              "      <td>3</td>\n",
              "      <td>0</td>\n",
              "      <td>0</td>\n",
              "    </tr>\n",
              "    <tr>\n",
              "      <th>130</th>\n",
              "      <td>1022</td>\n",
              "      <td>3</td>\n",
              "      <td>0</td>\n",
              "      <td>0</td>\n",
              "      <td>2</td>\n",
              "      <td>0</td>\n",
              "      <td>0</td>\n",
              "      <td>0</td>\n",
              "    </tr>\n",
              "    <tr>\n",
              "      <th>102</th>\n",
              "      <td>994</td>\n",
              "      <td>3</td>\n",
              "      <td>0</td>\n",
              "      <td>0</td>\n",
              "      <td>1</td>\n",
              "      <td>0</td>\n",
              "      <td>2</td>\n",
              "      <td>0</td>\n",
              "    </tr>\n",
              "  </tbody>\n",
              "</table>\n",
              "</div>"
            ],
            "text/plain": [
              "     PassengerId  Pclass  Name  Sex  Age  Fare  Embarked  Alone\n",
              "208         1100       1     1    1    2     2         1      0\n",
              "197         1089       3     1    1    1     0         0      0\n",
              "279         1171       2     0    0    1     1         0      0\n",
              "4            896       3     2    1    1     1         0      1\n",
              "337         1229       3     0    0    2     0         1      1\n",
              "312         1204       3     0    0    1     0         0      0\n",
              "92           984       1     2    1    1     3         0      1\n",
              "298         1190       1     0    0    1     3         0      0\n",
              "130         1022       3     0    0    2     0         0      0\n",
              "102          994       3     0    0    1     0         2      0"
            ]
          },
          "metadata": {
            "tags": []
          },
          "execution_count": 831
        }
      ]
    },
    {
      "cell_type": "markdown",
      "metadata": {
        "id": "DYvTrrlAWoDa"
      },
      "source": [
        "# (02/14 수정)"
      ]
    },
    {
      "cell_type": "code",
      "metadata": {
        "colab": {
          "base_uri": "https://localhost:8080/",
          "height": 402
        },
        "id": "GXhKutjNTuej",
        "outputId": "b931359b-8c42-42ad-c22c-46a36c3c7b2f"
      },
      "source": [
        "# 요금과 탑승 장소는 상관관계가 없다고 판단\r\n",
        "# for total_data in combine:\r\n",
        "#   total_data = total_data.drop(['Fare', 'Embarked'], axis = 1,inplace = True)\r\n",
        "\r\n",
        "# train_df\r\n",
        "\r\n",
        "\r\n",
        "# 탑승장소만 상관이 없을 때\r\n",
        "# for total_data in combine:\r\n",
        "#   total_data = total_data.drop( 'Embarked', axis = 1,inplace = True)\r\n",
        "\r\n",
        "# train_df"
      ],
      "execution_count": null,
      "outputs": [
        {
          "output_type": "execute_result",
          "data": {
            "text/html": [
              "<div>\n",
              "<style scoped>\n",
              "    .dataframe tbody tr th:only-of-type {\n",
              "        vertical-align: middle;\n",
              "    }\n",
              "\n",
              "    .dataframe tbody tr th {\n",
              "        vertical-align: top;\n",
              "    }\n",
              "\n",
              "    .dataframe thead th {\n",
              "        text-align: right;\n",
              "    }\n",
              "</style>\n",
              "<table border=\"1\" class=\"dataframe\">\n",
              "  <thead>\n",
              "    <tr style=\"text-align: right;\">\n",
              "      <th></th>\n",
              "      <th>PassengerId</th>\n",
              "      <th>Survived</th>\n",
              "      <th>Pclass</th>\n",
              "      <th>Name</th>\n",
              "      <th>Sex</th>\n",
              "      <th>Age</th>\n",
              "      <th>Fare</th>\n",
              "      <th>Alone</th>\n",
              "    </tr>\n",
              "  </thead>\n",
              "  <tbody>\n",
              "    <tr>\n",
              "      <th>0</th>\n",
              "      <td>1</td>\n",
              "      <td>0</td>\n",
              "      <td>3</td>\n",
              "      <td>0</td>\n",
              "      <td>0</td>\n",
              "      <td>1</td>\n",
              "      <td>0</td>\n",
              "      <td>1</td>\n",
              "    </tr>\n",
              "    <tr>\n",
              "      <th>1</th>\n",
              "      <td>2</td>\n",
              "      <td>1</td>\n",
              "      <td>1</td>\n",
              "      <td>2</td>\n",
              "      <td>1</td>\n",
              "      <td>2</td>\n",
              "      <td>3</td>\n",
              "      <td>1</td>\n",
              "    </tr>\n",
              "    <tr>\n",
              "      <th>2</th>\n",
              "      <td>3</td>\n",
              "      <td>1</td>\n",
              "      <td>3</td>\n",
              "      <td>1</td>\n",
              "      <td>1</td>\n",
              "      <td>1</td>\n",
              "      <td>0</td>\n",
              "      <td>0</td>\n",
              "    </tr>\n",
              "    <tr>\n",
              "      <th>3</th>\n",
              "      <td>4</td>\n",
              "      <td>1</td>\n",
              "      <td>1</td>\n",
              "      <td>2</td>\n",
              "      <td>1</td>\n",
              "      <td>2</td>\n",
              "      <td>3</td>\n",
              "      <td>1</td>\n",
              "    </tr>\n",
              "    <tr>\n",
              "      <th>4</th>\n",
              "      <td>5</td>\n",
              "      <td>0</td>\n",
              "      <td>3</td>\n",
              "      <td>0</td>\n",
              "      <td>0</td>\n",
              "      <td>2</td>\n",
              "      <td>0</td>\n",
              "      <td>0</td>\n",
              "    </tr>\n",
              "    <tr>\n",
              "      <th>...</th>\n",
              "      <td>...</td>\n",
              "      <td>...</td>\n",
              "      <td>...</td>\n",
              "      <td>...</td>\n",
              "      <td>...</td>\n",
              "      <td>...</td>\n",
              "      <td>...</td>\n",
              "      <td>...</td>\n",
              "    </tr>\n",
              "    <tr>\n",
              "      <th>886</th>\n",
              "      <td>887</td>\n",
              "      <td>0</td>\n",
              "      <td>2</td>\n",
              "      <td>2</td>\n",
              "      <td>0</td>\n",
              "      <td>1</td>\n",
              "      <td>1</td>\n",
              "      <td>0</td>\n",
              "    </tr>\n",
              "    <tr>\n",
              "      <th>887</th>\n",
              "      <td>888</td>\n",
              "      <td>1</td>\n",
              "      <td>1</td>\n",
              "      <td>4</td>\n",
              "      <td>1</td>\n",
              "      <td>1</td>\n",
              "      <td>2</td>\n",
              "      <td>0</td>\n",
              "    </tr>\n",
              "    <tr>\n",
              "      <th>888</th>\n",
              "      <td>889</td>\n",
              "      <td>0</td>\n",
              "      <td>3</td>\n",
              "      <td>1</td>\n",
              "      <td>1</td>\n",
              "      <td>1</td>\n",
              "      <td>2</td>\n",
              "      <td>1</td>\n",
              "    </tr>\n",
              "    <tr>\n",
              "      <th>889</th>\n",
              "      <td>890</td>\n",
              "      <td>1</td>\n",
              "      <td>1</td>\n",
              "      <td>1</td>\n",
              "      <td>0</td>\n",
              "      <td>1</td>\n",
              "      <td>2</td>\n",
              "      <td>0</td>\n",
              "    </tr>\n",
              "    <tr>\n",
              "      <th>890</th>\n",
              "      <td>891</td>\n",
              "      <td>0</td>\n",
              "      <td>3</td>\n",
              "      <td>0</td>\n",
              "      <td>0</td>\n",
              "      <td>1</td>\n",
              "      <td>0</td>\n",
              "      <td>0</td>\n",
              "    </tr>\n",
              "  </tbody>\n",
              "</table>\n",
              "<p>891 rows × 8 columns</p>\n",
              "</div>"
            ],
            "text/plain": [
              "     PassengerId  Survived  Pclass  Name  Sex  Age  Fare  Alone\n",
              "0              1         0       3     0    0    1     0      1\n",
              "1              2         1       1     2    1    2     3      1\n",
              "2              3         1       3     1    1    1     0      0\n",
              "3              4         1       1     2    1    2     3      1\n",
              "4              5         0       3     0    0    2     0      0\n",
              "..           ...       ...     ...   ...  ...  ...   ...    ...\n",
              "886          887         0       2     2    0    1     1      0\n",
              "887          888         1       1     4    1    1     2      0\n",
              "888          889         0       3     1    1    1     2      1\n",
              "889          890         1       1     1    0    1     2      0\n",
              "890          891         0       3     0    0    1     0      0\n",
              "\n",
              "[891 rows x 8 columns]"
            ]
          },
          "metadata": {
            "tags": []
          },
          "execution_count": 753
        }
      ]
    },
    {
      "cell_type": "markdown",
      "metadata": {
        "id": "eUeCxsp2xQMn"
      },
      "source": [
        "# 머신러닝을 통한 학습"
      ]
    },
    {
      "cell_type": "markdown",
      "metadata": {
        "id": "H1x1UDxYxWq9"
      },
      "source": [
        "## 간단한 설명\r\n",
        "머신러닝은 정말 많은 기법들이 있다. 그 중에서 이번 타이타닉 셋으로 이용할 수 있는 것으로 줄여보면 Classification(분류) 과 Regression(회귀) 그리고 Supervised(지도학습) 세가지의 교집합에 들어가는 기법들 중 가장 유리한 기법을 사용해야한다."
      ]
    },
    {
      "cell_type": "markdown",
      "metadata": {
        "id": "lS1n-hCExyRF"
      },
      "source": [
        "1. Logistic Regression\r\n",
        "2. KNN or K-Nearest Neighbors\r\n",
        "3. Support Vector Machines\r\n",
        "4. Decision Tree\r\n",
        "5. Random Forrest\r\n"
      ]
    },
    {
      "cell_type": "markdown",
      "metadata": {
        "id": "eU2cQvpO9eLh"
      },
      "source": [
        "## 1. Logistic Regression"
      ]
    },
    {
      "cell_type": "code",
      "metadata": {
        "id": "M6WkBUMUxWFo"
      },
      "source": [
        "from sklearn.linear_model import LogisticRegression\r\n",
        "from sklearn.svm import SVC, LinearSVC\r\n",
        "from sklearn.ensemble import RandomForestClassifier\r\n",
        "from sklearn.neighbors import KNeighborsClassifier\r\n",
        "from sklearn.naive_bayes import GaussianNB\r\n",
        "from sklearn.linear_model import Perceptron\r\n",
        "from sklearn.linear_model import SGDClassifier\r\n",
        "from sklearn.tree import DecisionTreeClassifier"
      ],
      "execution_count": null,
      "outputs": []
    },
    {
      "cell_type": "code",
      "metadata": {
        "id": "3lmB2EXY-P--",
        "colab": {
          "base_uri": "https://localhost:8080/"
        },
        "outputId": "58c32c38-9396-482e-a87c-7d5ae1015f5d"
      },
      "source": [
        "x_train = train_df.drop(['Survived','PassengerId'], axis = 1).copy()\r\n",
        "y_train = train_df['Survived']\r\n",
        "x_test = test_df.drop('PassengerId', axis = 1).copy()\r\n",
        "\r\n",
        "\r\n",
        "x_train.shape, y_train.shape, x_test.shape"
      ],
      "execution_count": null,
      "outputs": [
        {
          "output_type": "execute_result",
          "data": {
            "text/plain": [
              "((891, 6), (891,), (418, 6))"
            ]
          },
          "metadata": {
            "tags": []
          },
          "execution_count": 755
        }
      ]
    },
    {
      "cell_type": "code",
      "metadata": {
        "id": "II-v0x0t-3p0",
        "colab": {
          "base_uri": "https://localhost:8080/",
          "height": 402
        },
        "outputId": "c0f0d63e-c52f-49f0-e4ce-e8834d5c3da2"
      },
      "source": [
        "x_train"
      ],
      "execution_count": null,
      "outputs": [
        {
          "output_type": "execute_result",
          "data": {
            "text/html": [
              "<div>\n",
              "<style scoped>\n",
              "    .dataframe tbody tr th:only-of-type {\n",
              "        vertical-align: middle;\n",
              "    }\n",
              "\n",
              "    .dataframe tbody tr th {\n",
              "        vertical-align: top;\n",
              "    }\n",
              "\n",
              "    .dataframe thead th {\n",
              "        text-align: right;\n",
              "    }\n",
              "</style>\n",
              "<table border=\"1\" class=\"dataframe\">\n",
              "  <thead>\n",
              "    <tr style=\"text-align: right;\">\n",
              "      <th></th>\n",
              "      <th>Pclass</th>\n",
              "      <th>Name</th>\n",
              "      <th>Sex</th>\n",
              "      <th>Age</th>\n",
              "      <th>Fare</th>\n",
              "      <th>Embarked</th>\n",
              "      <th>Alone</th>\n",
              "    </tr>\n",
              "  </thead>\n",
              "  <tbody>\n",
              "    <tr>\n",
              "      <th>0</th>\n",
              "      <td>3</td>\n",
              "      <td>0</td>\n",
              "      <td>0</td>\n",
              "      <td>1</td>\n",
              "      <td>0</td>\n",
              "      <td>0</td>\n",
              "      <td>1</td>\n",
              "    </tr>\n",
              "    <tr>\n",
              "      <th>1</th>\n",
              "      <td>1</td>\n",
              "      <td>2</td>\n",
              "      <td>1</td>\n",
              "      <td>2</td>\n",
              "      <td>3</td>\n",
              "      <td>1</td>\n",
              "      <td>1</td>\n",
              "    </tr>\n",
              "    <tr>\n",
              "      <th>2</th>\n",
              "      <td>3</td>\n",
              "      <td>1</td>\n",
              "      <td>1</td>\n",
              "      <td>1</td>\n",
              "      <td>0</td>\n",
              "      <td>0</td>\n",
              "      <td>0</td>\n",
              "    </tr>\n",
              "    <tr>\n",
              "      <th>3</th>\n",
              "      <td>1</td>\n",
              "      <td>2</td>\n",
              "      <td>1</td>\n",
              "      <td>2</td>\n",
              "      <td>3</td>\n",
              "      <td>0</td>\n",
              "      <td>1</td>\n",
              "    </tr>\n",
              "    <tr>\n",
              "      <th>4</th>\n",
              "      <td>3</td>\n",
              "      <td>0</td>\n",
              "      <td>0</td>\n",
              "      <td>2</td>\n",
              "      <td>0</td>\n",
              "      <td>0</td>\n",
              "      <td>0</td>\n",
              "    </tr>\n",
              "    <tr>\n",
              "      <th>...</th>\n",
              "      <td>...</td>\n",
              "      <td>...</td>\n",
              "      <td>...</td>\n",
              "      <td>...</td>\n",
              "      <td>...</td>\n",
              "      <td>...</td>\n",
              "      <td>...</td>\n",
              "    </tr>\n",
              "    <tr>\n",
              "      <th>886</th>\n",
              "      <td>2</td>\n",
              "      <td>2</td>\n",
              "      <td>0</td>\n",
              "      <td>1</td>\n",
              "      <td>1</td>\n",
              "      <td>0</td>\n",
              "      <td>0</td>\n",
              "    </tr>\n",
              "    <tr>\n",
              "      <th>887</th>\n",
              "      <td>1</td>\n",
              "      <td>4</td>\n",
              "      <td>1</td>\n",
              "      <td>1</td>\n",
              "      <td>2</td>\n",
              "      <td>0</td>\n",
              "      <td>0</td>\n",
              "    </tr>\n",
              "    <tr>\n",
              "      <th>888</th>\n",
              "      <td>3</td>\n",
              "      <td>1</td>\n",
              "      <td>1</td>\n",
              "      <td>1</td>\n",
              "      <td>2</td>\n",
              "      <td>0</td>\n",
              "      <td>1</td>\n",
              "    </tr>\n",
              "    <tr>\n",
              "      <th>889</th>\n",
              "      <td>1</td>\n",
              "      <td>1</td>\n",
              "      <td>0</td>\n",
              "      <td>1</td>\n",
              "      <td>2</td>\n",
              "      <td>1</td>\n",
              "      <td>0</td>\n",
              "    </tr>\n",
              "    <tr>\n",
              "      <th>890</th>\n",
              "      <td>3</td>\n",
              "      <td>0</td>\n",
              "      <td>0</td>\n",
              "      <td>1</td>\n",
              "      <td>0</td>\n",
              "      <td>2</td>\n",
              "      <td>0</td>\n",
              "    </tr>\n",
              "  </tbody>\n",
              "</table>\n",
              "<p>891 rows × 7 columns</p>\n",
              "</div>"
            ],
            "text/plain": [
              "     Pclass  Name  Sex  Age  Fare  Embarked  Alone\n",
              "0         3     0    0    1     0         0      1\n",
              "1         1     2    1    2     3         1      1\n",
              "2         3     1    1    1     0         0      0\n",
              "3         1     2    1    2     3         0      1\n",
              "4         3     0    0    2     0         0      0\n",
              "..      ...   ...  ...  ...   ...       ...    ...\n",
              "886       2     2    0    1     1         0      0\n",
              "887       1     4    1    1     2         0      0\n",
              "888       3     1    1    1     2         0      1\n",
              "889       1     1    0    1     2         1      0\n",
              "890       3     0    0    1     0         2      0\n",
              "\n",
              "[891 rows x 7 columns]"
            ]
          },
          "metadata": {
            "tags": []
          },
          "execution_count": 598
        }
      ]
    },
    {
      "cell_type": "code",
      "metadata": {
        "id": "qqE99YgO-78Y",
        "colab": {
          "base_uri": "https://localhost:8080/",
          "height": 402
        },
        "outputId": "d635c279-6734-4c98-fb29-d7154bd80b16"
      },
      "source": [
        "x_test"
      ],
      "execution_count": null,
      "outputs": [
        {
          "output_type": "execute_result",
          "data": {
            "text/html": [
              "<div>\n",
              "<style scoped>\n",
              "    .dataframe tbody tr th:only-of-type {\n",
              "        vertical-align: middle;\n",
              "    }\n",
              "\n",
              "    .dataframe tbody tr th {\n",
              "        vertical-align: top;\n",
              "    }\n",
              "\n",
              "    .dataframe thead th {\n",
              "        text-align: right;\n",
              "    }\n",
              "</style>\n",
              "<table border=\"1\" class=\"dataframe\">\n",
              "  <thead>\n",
              "    <tr style=\"text-align: right;\">\n",
              "      <th></th>\n",
              "      <th>Pclass</th>\n",
              "      <th>Name</th>\n",
              "      <th>Sex</th>\n",
              "      <th>Age</th>\n",
              "      <th>Fare</th>\n",
              "      <th>Alone</th>\n",
              "    </tr>\n",
              "  </thead>\n",
              "  <tbody>\n",
              "    <tr>\n",
              "      <th>0</th>\n",
              "      <td>3</td>\n",
              "      <td>0</td>\n",
              "      <td>0</td>\n",
              "      <td>2</td>\n",
              "      <td>0</td>\n",
              "      <td>0</td>\n",
              "    </tr>\n",
              "    <tr>\n",
              "      <th>1</th>\n",
              "      <td>3</td>\n",
              "      <td>2</td>\n",
              "      <td>1</td>\n",
              "      <td>3</td>\n",
              "      <td>0</td>\n",
              "      <td>1</td>\n",
              "    </tr>\n",
              "    <tr>\n",
              "      <th>2</th>\n",
              "      <td>2</td>\n",
              "      <td>0</td>\n",
              "      <td>0</td>\n",
              "      <td>4</td>\n",
              "      <td>1</td>\n",
              "      <td>0</td>\n",
              "    </tr>\n",
              "    <tr>\n",
              "      <th>3</th>\n",
              "      <td>3</td>\n",
              "      <td>0</td>\n",
              "      <td>0</td>\n",
              "      <td>1</td>\n",
              "      <td>1</td>\n",
              "      <td>0</td>\n",
              "    </tr>\n",
              "    <tr>\n",
              "      <th>4</th>\n",
              "      <td>3</td>\n",
              "      <td>2</td>\n",
              "      <td>1</td>\n",
              "      <td>1</td>\n",
              "      <td>1</td>\n",
              "      <td>1</td>\n",
              "    </tr>\n",
              "    <tr>\n",
              "      <th>...</th>\n",
              "      <td>...</td>\n",
              "      <td>...</td>\n",
              "      <td>...</td>\n",
              "      <td>...</td>\n",
              "      <td>...</td>\n",
              "      <td>...</td>\n",
              "    </tr>\n",
              "    <tr>\n",
              "      <th>413</th>\n",
              "      <td>3</td>\n",
              "      <td>0</td>\n",
              "      <td>0</td>\n",
              "      <td>1</td>\n",
              "      <td>0</td>\n",
              "      <td>0</td>\n",
              "    </tr>\n",
              "    <tr>\n",
              "      <th>414</th>\n",
              "      <td>1</td>\n",
              "      <td>4</td>\n",
              "      <td>1</td>\n",
              "      <td>2</td>\n",
              "      <td>3</td>\n",
              "      <td>0</td>\n",
              "    </tr>\n",
              "    <tr>\n",
              "      <th>415</th>\n",
              "      <td>3</td>\n",
              "      <td>0</td>\n",
              "      <td>0</td>\n",
              "      <td>2</td>\n",
              "      <td>0</td>\n",
              "      <td>0</td>\n",
              "    </tr>\n",
              "    <tr>\n",
              "      <th>416</th>\n",
              "      <td>3</td>\n",
              "      <td>0</td>\n",
              "      <td>0</td>\n",
              "      <td>1</td>\n",
              "      <td>0</td>\n",
              "      <td>0</td>\n",
              "    </tr>\n",
              "    <tr>\n",
              "      <th>417</th>\n",
              "      <td>3</td>\n",
              "      <td>3</td>\n",
              "      <td>0</td>\n",
              "      <td>1</td>\n",
              "      <td>2</td>\n",
              "      <td>1</td>\n",
              "    </tr>\n",
              "  </tbody>\n",
              "</table>\n",
              "<p>418 rows × 6 columns</p>\n",
              "</div>"
            ],
            "text/plain": [
              "     Pclass  Name  Sex  Age  Fare  Alone\n",
              "0         3     0    0    2     0      0\n",
              "1         3     2    1    3     0      1\n",
              "2         2     0    0    4     1      0\n",
              "3         3     0    0    1     1      0\n",
              "4         3     2    1    1     1      1\n",
              "..      ...   ...  ...  ...   ...    ...\n",
              "413       3     0    0    1     0      0\n",
              "414       1     4    1    2     3      0\n",
              "415       3     0    0    2     0      0\n",
              "416       3     0    0    1     0      0\n",
              "417       3     3    0    1     2      1\n",
              "\n",
              "[418 rows x 6 columns]"
            ]
          },
          "metadata": {
            "tags": []
          },
          "execution_count": 513
        }
      ]
    },
    {
      "cell_type": "code",
      "metadata": {
        "id": "Z6d2MNuMk3WO",
        "colab": {
          "base_uri": "https://localhost:8080/"
        },
        "outputId": "26e372c5-a9d8-4190-d0a8-6884a2b70e1c"
      },
      "source": [
        "lr = LogisticRegression() # 모델 선언\r\n",
        "lr.fit(x_train, y_train) # 모델 학습\r\n",
        "# 출력은 세팅값 (여러가지를 세부 세팅할 수 있음)"
      ],
      "execution_count": null,
      "outputs": [
        {
          "output_type": "execute_result",
          "data": {
            "text/plain": [
              "LogisticRegression(C=1.0, class_weight=None, dual=False, fit_intercept=True,\n",
              "                   intercept_scaling=1, l1_ratio=None, max_iter=100,\n",
              "                   multi_class='auto', n_jobs=None, penalty='l2',\n",
              "                   random_state=None, solver='lbfgs', tol=0.0001, verbose=0,\n",
              "                   warm_start=False)"
            ]
          },
          "metadata": {
            "tags": []
          },
          "execution_count": 514
        }
      ]
    },
    {
      "cell_type": "code",
      "metadata": {
        "id": "rAak2Yd9BhfB",
        "colab": {
          "base_uri": "https://localhost:8080/"
        },
        "outputId": "26884ea8-bff3-44ed-c960-428debc6c41b"
      },
      "source": [
        "lr_pred = lr.predict(x_test)\r\n",
        "accuracy = round(lr.score(x_train, y_train)*100, 2)\r\n",
        "accuracy\r\n"
      ],
      "execution_count": null,
      "outputs": [
        {
          "output_type": "execute_result",
          "data": {
            "text/plain": [
              "79.69"
            ]
          },
          "metadata": {
            "tags": []
          },
          "execution_count": 515
        }
      ]
    },
    {
      "cell_type": "code",
      "metadata": {
        "id": "qITN_IGpFC24"
      },
      "source": [
        "#79.57('Fare','Embarked'포함)\r\n",
        "#79.57('Fare','Embarked'미포함)\r\n",
        "#79.69('Embarked'미포함)"
      ],
      "execution_count": null,
      "outputs": []
    },
    {
      "cell_type": "markdown",
      "metadata": {
        "id": "1_mfTmIFVbH0"
      },
      "source": [
        "## 2. 랜덤포레스트"
      ]
    },
    {
      "cell_type": "code",
      "metadata": {
        "colab": {
          "base_uri": "https://localhost:8080/"
        },
        "id": "3XS4M9V9VBoJ",
        "outputId": "2f36c8a4-91b3-41e8-ed26-1c1ecedc7e93"
      },
      "source": [
        "random_forest = RandomForestClassifier(n_estimators=100)\r\n",
        "random_forest.fit(x_train, y_train)\r\n",
        "y_pred = random_forest.predict(x_test)\r\n",
        "random_forest.score(x_train, y_train)\r\n",
        "acc_random_forest = round(random_forest.score(x_train, y_train) * 100, 2)\r\n",
        "acc_random_forest"
      ],
      "execution_count": null,
      "outputs": [
        {
          "output_type": "execute_result",
          "data": {
            "text/plain": [
              "86.42"
            ]
          },
          "metadata": {
            "tags": []
          },
          "execution_count": 756
        }
      ]
    },
    {
      "cell_type": "code",
      "metadata": {
        "id": "Pnb7YEtbVd5O"
      },
      "source": [
        "#88.66('Fare','Embarked'포함)\r\n",
        "#83.28('Fare','Embarked'미포함)\r\n",
        "#86.42('Embarked'미포함)"
      ],
      "execution_count": null,
      "outputs": []
    },
    {
      "cell_type": "markdown",
      "metadata": {
        "id": "OIEWH0npVdL2"
      },
      "source": [
        "# 현재 상태\r\n",
        "\r\n",
        "통계 학습 안되어있음\r\n",
        "\r\n",
        "어떻게 결측지처리해야하는가?\r\n",
        "\r\n",
        "어떤 그래프를 어떻게 사용해야하는가?\r\n",
        "\r\n",
        "어떤 모델을 사용해야하는가 타이타닉은 classification이니까 거기에 맞는 모델이 무엇이 있고 어떤것이 가장유리한가"
      ]
    },
    {
      "cell_type": "code",
      "metadata": {
        "id": "fhautKmTzkRg"
      },
      "source": [
        ""
      ],
      "execution_count": null,
      "outputs": []
    }
  ]
}