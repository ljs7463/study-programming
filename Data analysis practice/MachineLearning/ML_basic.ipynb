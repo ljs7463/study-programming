{
  "nbformat": 4,
  "nbformat_minor": 0,
  "metadata": {
    "colab": {
      "name": "ML_basic.ipynb",
      "provenance": []
    },
    "kernelspec": {
      "name": "python3",
      "display_name": "Python 3"
    }
  },
  "cells": [
    {
      "cell_type": "code",
      "metadata": {
        "id": "fFkcCmPI2EHn"
      },
      "source": [
        "from sklearn.impute import SimpleImputer"
      ],
      "execution_count": null,
      "outputs": []
    },
    {
      "cell_type": "markdown",
      "metadata": {
        "id": "2y8x24aFOY4w"
      },
      "source": [
        "# 머신러닝 모델 기본  실습"
      ]
    },
    {
      "cell_type": "code",
      "metadata": {
        "id": "3SwaYRBML598"
      },
      "source": [
        "import numpy as np\r\n",
        "from sklearn.linear_model import LinearRegression"
      ],
      "execution_count": 3,
      "outputs": []
    },
    {
      "cell_type": "code",
      "metadata": {
        "id": "97GaOfo5Mb5c",
        "colab": {
          "base_uri": "https://localhost:8080/",
          "height": 208
        },
        "outputId": "9ee56a59-8faf-46b6-ddad-3cc3e6325e3b"
      },
      "source": [
        "model = LinearRegression() # 모델선언\r\n",
        "model.fit(x, y) # 학습(fit)\r\n",
        "prediction = model.predict(x2)"
      ],
      "execution_count": null,
      "outputs": [
        {
          "output_type": "error",
          "ename": "NameError",
          "evalue": "ignored",
          "traceback": [
            "\u001b[0;31m---------------------------------------------------------------------------\u001b[0m",
            "\u001b[0;31mNameError\u001b[0m                                 Traceback (most recent call last)",
            "\u001b[0;32m<ipython-input-3-3d0dfff2b523>\u001b[0m in \u001b[0;36m<module>\u001b[0;34m()\u001b[0m\n\u001b[1;32m      1\u001b[0m \u001b[0mmodel\u001b[0m \u001b[0;34m=\u001b[0m \u001b[0mLinearRegression\u001b[0m\u001b[0;34m(\u001b[0m\u001b[0;34m)\u001b[0m \u001b[0;31m# 모델선언\u001b[0m\u001b[0;34m\u001b[0m\u001b[0;34m\u001b[0m\u001b[0m\n\u001b[0;32m----> 2\u001b[0;31m \u001b[0mmodel\u001b[0m\u001b[0;34m.\u001b[0m\u001b[0mfit\u001b[0m\u001b[0;34m(\u001b[0m\u001b[0mx\u001b[0m\u001b[0;34m,\u001b[0m \u001b[0my\u001b[0m\u001b[0;34m)\u001b[0m \u001b[0;31m# 학습(fit)\u001b[0m\u001b[0;34m\u001b[0m\u001b[0;34m\u001b[0m\u001b[0m\n\u001b[0m\u001b[1;32m      3\u001b[0m \u001b[0mprediction\u001b[0m \u001b[0;34m=\u001b[0m \u001b[0mmodel\u001b[0m\u001b[0;34m.\u001b[0m\u001b[0mpredict\u001b[0m\u001b[0;34m(\u001b[0m\u001b[0mx2\u001b[0m\u001b[0;34m)\u001b[0m\u001b[0;34m\u001b[0m\u001b[0;34m\u001b[0m\u001b[0m\n",
            "\u001b[0;31mNameError\u001b[0m: name 'x' is not defined"
          ]
        }
      ]
    },
    {
      "cell_type": "code",
      "metadata": {
        "id": "U8WoidWONWWh"
      },
      "source": [
        "x = np.arange(10).reshape(-1, 1)\r\n",
        "y = (2*x +1).reshape(-1, 1)"
      ],
      "execution_count": null,
      "outputs": []
    },
    {
      "cell_type": "code",
      "metadata": {
        "id": "zIgs6r29Nv9J"
      },
      "source": [
        "# 모델선언\r\n",
        "model = LinearRegression()"
      ],
      "execution_count": null,
      "outputs": []
    },
    {
      "cell_type": "code",
      "metadata": {
        "id": "ssQh1NNFNv6c"
      },
      "source": [
        "# 학습\r\n",
        "model.fit(x, y)"
      ],
      "execution_count": null,
      "outputs": []
    },
    {
      "cell_type": "code",
      "metadata": {
        "id": "BuudXK2jNv4K"
      },
      "source": [
        "# 예측\r\n",
        "prediction = model.predict([[10.0]])"
      ],
      "execution_count": null,
      "outputs": []
    },
    {
      "cell_type": "code",
      "metadata": {
        "id": "FJx-jNrFNv1Y"
      },
      "source": [
        "prediction"
      ],
      "execution_count": null,
      "outputs": []
    },
    {
      "cell_type": "markdown",
      "metadata": {
        "id": "qvqI7_wzOch6"
      },
      "source": [
        "# 학습 데이터, 예측 데이터"
      ]
    },
    {
      "cell_type": "code",
      "metadata": {
        "id": "UUYuIqFFNvym"
      },
      "source": [
        "X: \r\n",
        " - feature 라고 부른다\r\n",
        " - x_train, x_test\r\n",
        " - 학습을 위한 데이터 세트"
      ],
      "execution_count": null,
      "outputs": []
    },
    {
      "cell_type": "code",
      "metadata": {
        "id": "nzuFTnQdNvtr"
      },
      "source": [
        "Y:\r\n",
        " - labels라고 불리웁니다.\r\n",
        " - y_train, y_test\r\n",
        " - 예측해야할 값"
      ],
      "execution_count": null,
      "outputs": []
    },
    {
      "cell_type": "code",
      "metadata": {
        "id": "GzFHUlo3PkQH"
      },
      "source": [
        "학습을 위한 데이터 = Training set, 예측을 위한 데이터 = Test set\r\n",
        "\r\n",
        "두개의 데이터의 차이는 학습용 데이터 셋 에는 label이 존재하고 예측을 위한 데이터는\r\n",
        "feature 만 존재한다."
      ],
      "execution_count": null,
      "outputs": []
    },
    {
      "cell_type": "code",
      "metadata": {
        "id": "DKwLXALgRKzS"
      },
      "source": [
        "from sklearn.linear_model import LinearRegression\r\n",
        "\r\n",
        "model = LinearRegression()\r\n",
        "model.fit(x_train, y_train)\r\n",
        "prediction = model.predict(x_test)"
      ],
      "execution_count": null,
      "outputs": []
    },
    {
      "cell_type": "markdown",
      "metadata": {
        "id": "RvocKmlKdUt3"
      },
      "source": [
        "# 전처리"
      ]
    },
    {
      "cell_type": "markdown",
      "metadata": {
        "id": "S9L4mnaEdWhS"
      },
      "source": [
        "데이터 분석에 적합하게 데이터를 가공, 변형, 처리, 클리닝 하는 작업"
      ]
    },
    {
      "cell_type": "markdown",
      "metadata": {
        "id": "puL_p_Dyd4ER"
      },
      "source": [
        "1. 결측지\r\n",
        "2. 이상치\r\n",
        "3. 정규화(Normalization)\r\n",
        "4. 표준화(Standardization)\r\n",
        "5. 샘플링(over/under sampling)\r\n",
        "6. 피처공학(Feature Engineering)\r\n",
        " -  feature 생성/ 연산\r\n",
        " * 구간 생성, 스케일 변형"
      ]
    },
    {
      "cell_type": "markdown",
      "metadata": {
        "id": "cwPZuS92fdMb"
      },
      "source": [
        "## train_test_split "
      ]
    },
    {
      "cell_type": "code",
      "metadata": {
        "id": "jApQvshYVWM9"
      },
      "source": [
        "import numpy as np\r\n",
        "import pandas as pd\r\n"
      ],
      "execution_count": null,
      "outputs": []
    },
    {
      "cell_type": "code",
      "metadata": {
        "id": "Utg2GlNnWQ7E"
      },
      "source": [
        "train = pd.read_csv('https://bit.ly/fc-ml-titanic')"
      ],
      "execution_count": null,
      "outputs": []
    },
    {
      "cell_type": "markdown",
      "metadata": {
        "id": "KWyJXTLkgHjY"
      },
      "source": [
        "## train과 validation 세트 나누기\r\n",
        "\r\n",
        "1. feature와 label을 정의하기\r\n",
        "2. 적절한 비율로 train과 validation set을 나눈다."
      ]
    },
    {
      "cell_type": "code",
      "metadata": {
        "id": "UwEH4kiCfwzp"
      },
      "source": [
        "feature = [\r\n",
        "           'Pclass', 'Sex', 'Age', 'Fare'\r\n",
        "           ]"
      ],
      "execution_count": null,
      "outputs": []
    },
    {
      "cell_type": "code",
      "metadata": {
        "id": "3TLPh6F2gVW1"
      },
      "source": [
        "label = ['Survived']"
      ],
      "execution_count": null,
      "outputs": []
    },
    {
      "cell_type": "code",
      "metadata": {
        "id": "RxZLbWhUgiLX"
      },
      "source": [
        "train[feature].head()"
      ],
      "execution_count": null,
      "outputs": []
    },
    {
      "cell_type": "code",
      "metadata": {
        "id": "5C0L-nxmgirX"
      },
      "source": [
        "train[label].head()"
      ],
      "execution_count": null,
      "outputs": []
    },
    {
      "cell_type": "code",
      "metadata": {
        "id": "MGrbE8D1gsc5"
      },
      "source": [
        "from sklearn.model_selection import train_test_split"
      ],
      "execution_count": null,
      "outputs": []
    },
    {
      "cell_type": "markdown",
      "metadata": {
        "id": "7dOLHxrCgyWd"
      },
      "source": [
        "return 받는 데이터의 순서 중요"
      ]
    },
    {
      "cell_type": "markdown",
      "metadata": {
        "id": "WkE7SG5shV4c"
      },
      "source": [
        "* test_size : validation set에 할당할 비율(20% = 0.2)\r\n",
        "\r\n",
        "* shuffle : 셔플 옵션(기본 True)\r\n",
        "\r\n",
        "* random_state : 랜덤 시드값"
      ]
    },
    {
      "cell_type": "code",
      "metadata": {
        "id": "JP0H65Pagsan"
      },
      "source": [
        "x_train, x_valid, y_train, y_valid = \\\r\n",
        "train_test_split(train[feature], train[label], test_size = 0.2, shuffle =True, random_state = 30)"
      ],
      "execution_count": null,
      "outputs": []
    },
    {
      "cell_type": "code",
      "metadata": {
        "id": "3WOBzmLggsXt"
      },
      "source": [
        "x_train.shape, y_train.shape"
      ],
      "execution_count": null,
      "outputs": []
    },
    {
      "cell_type": "code",
      "metadata": {
        "id": "88sk8sR5gibM"
      },
      "source": [
        "x_valid.shape, y_valid.shape"
      ],
      "execution_count": null,
      "outputs": []
    },
    {
      "cell_type": "markdown",
      "metadata": {
        "id": "qP7HtNyJYJaO"
      },
      "source": [
        "## 결측지"
      ]
    },
    {
      "cell_type": "markdown",
      "metadata": {
        "id": "SHcSCuwfYSoV"
      },
      "source": [
        "결측지 확인 : isnull() "
      ]
    },
    {
      "cell_type": "code",
      "metadata": {
        "id": "BxrVOEyfhsME"
      },
      "source": [
        "train.isnull().sum()"
      ],
      "execution_count": null,
      "outputs": []
    },
    {
      "cell_type": "markdown",
      "metadata": {
        "id": "wuIe2BBrvaLP"
      },
      "source": [
        "## numerical  데이터에 대한 결측지 처리"
      ]
    },
    {
      "cell_type": "code",
      "metadata": {
        "id": "RfbA96FOYXq-"
      },
      "source": [
        "train['Age'].fillna(0).describe()"
      ],
      "execution_count": null,
      "outputs": []
    },
    {
      "cell_type": "markdown",
      "metadata": {
        "id": "FV8Y5EJ3wlKz"
      },
      "source": [
        "imputer : 2개 이상의 column을 한번에 처리할 때"
      ]
    },
    {
      "cell_type": "code",
      "metadata": {
        "id": "O8ecARB4vkCV"
      },
      "source": [
        "from sklearn.impute import SimpleImputer"
      ],
      "execution_count": null,
      "outputs": []
    },
    {
      "cell_type": "code",
      "metadata": {
        "id": "cfOv20q9wxr-"
      },
      "source": [
        "imputer = SimpleImputer(strategy= 'mean')\r\n",
        "# strategy = 'mean' 평균값으로 채워주겠다"
      ],
      "execution_count": null,
      "outputs": []
    },
    {
      "cell_type": "code",
      "metadata": {
        "id": "xB2QaksTw9Sg"
      },
      "source": [
        "# fit()을 통해 결측지에 대한 학습을 진행한다.\r\n",
        "imputer.fit(train[['Age', 'Pclass']])"
      ],
      "execution_count": null,
      "outputs": []
    },
    {
      "cell_type": "code",
      "metadata": {
        "id": "6a9Yxddgx4RX"
      },
      "source": [
        "# transform()은 실제 결측치에 대한 처리를 해주는 함수(fit에서는 처리가 되지는 않고 학습만 진행)\r\n",
        "result = imputer.transform(train[['Age','Pclass']])"
      ],
      "execution_count": null,
      "outputs": []
    },
    {
      "cell_type": "code",
      "metadata": {
        "id": "k5-JNkUOyGBX"
      },
      "source": [
        "train[['Age', 'Pclass']] = result"
      ],
      "execution_count": null,
      "outputs": []
    },
    {
      "cell_type": "code",
      "metadata": {
        "id": "zUALLetqyKrJ"
      },
      "source": [
        "train[['Age', 'Pclass']].isnull().sum()"
      ],
      "execution_count": null,
      "outputs": []
    },
    {
      "cell_type": "code",
      "metadata": {
        "id": "P0PRvOWvyPSp"
      },
      "source": [
        "result\r\n",
        "# array로 생성"
      ],
      "execution_count": null,
      "outputs": []
    },
    {
      "cell_type": "markdown",
      "metadata": {
        "id": "noDLR7ef09yu"
      },
      "source": [
        "fit()과 transform()동시 사용가능"
      ]
    },
    {
      "cell_type": "code",
      "metadata": {
        "id": "F50vg6GKyjrQ"
      },
      "source": [
        "# # 이렇게 하면 동시에 fit 과 transform을 같이 할 수 있음\r\n",
        "# result = imputer.fit_transform(train[['Age', 'Pclass']])"
      ],
      "execution_count": null,
      "outputs": []
    },
    {
      "cell_type": "markdown",
      "metadata": {
        "id": "JCViOQ4u1d3q"
      },
      "source": [
        "## categorical 데이터에 대한 결측지 처리"
      ]
    },
    {
      "cell_type": "code",
      "metadata": {
        "id": "1KwpthGM2BeA"
      },
      "source": [
        "import numpy as np\r\n",
        "import pandas as pd\r\n"
      ],
      "execution_count": null,
      "outputs": []
    },
    {
      "cell_type": "code",
      "metadata": {
        "id": "H9ZP3tn62F9P"
      },
      "source": [
        "from sklearn.impute import SimpleImputer"
      ],
      "execution_count": null,
      "outputs": []
    },
    {
      "cell_type": "code",
      "metadata": {
        "id": "tQE7KKpD2BeA"
      },
      "source": [
        "train = pd.read_csv('https://bit.ly/fc-ml-titanic')"
      ],
      "execution_count": null,
      "outputs": []
    },
    {
      "cell_type": "code",
      "metadata": {
        "id": "GLQmaek71hgH"
      },
      "source": [
        "train['Embarked'].fillna('S')"
      ],
      "execution_count": null,
      "outputs": []
    },
    {
      "cell_type": "markdown",
      "metadata": {
        "id": "Kxmv5rXa1snv"
      },
      "source": [
        "imputer 사용하는경우 : 2개 이상의 column을 처리할때"
      ]
    },
    {
      "cell_type": "code",
      "metadata": {
        "id": "vY2d8i4o1wdN"
      },
      "source": [
        "imputer = SimpleImputer(strategy = 'most_frequent')\r\n",
        "# most_frequent 가장 빈도수가 높은 것으로 채운다"
      ],
      "execution_count": null,
      "outputs": []
    },
    {
      "cell_type": "code",
      "metadata": {
        "id": "q8e14quh18aq"
      },
      "source": [
        "result =imputer.fit_transform(train[['Embarked', 'Cabin']])"
      ],
      "execution_count": null,
      "outputs": []
    },
    {
      "cell_type": "code",
      "metadata": {
        "id": "OqEC6JAR2N2E"
      },
      "source": [
        "train[['Embarked', 'Cabin']] = result"
      ],
      "execution_count": null,
      "outputs": []
    },
    {
      "cell_type": "code",
      "metadata": {
        "id": "oaMmpvPF2Wh2"
      },
      "source": [
        "train[['Embarked', 'Cabin']].isnull().sum()"
      ],
      "execution_count": null,
      "outputs": []
    },
    {
      "cell_type": "markdown",
      "metadata": {
        "id": "QdM3HtMwapMK"
      },
      "source": [
        "## Label Encoding : 문자(categorical)를 수치(numerical)로 변환"
      ]
    },
    {
      "cell_type": "markdown",
      "metadata": {
        "id": "MW_D68sUazF_"
      },
      "source": [
        "학습을 위해 문자로 된 데이터를 수치로 변환한다."
      ]
    },
    {
      "cell_type": "code",
      "metadata": {
        "id": "CppC4IaX2Yuu"
      },
      "source": [
        "# 함수식으로 변환\r\n",
        "def convert(data):\r\n",
        "  if data == 'male':\r\n",
        "    return 1\r\n",
        "  elif data == 'female':\r\n",
        "    return 0"
      ],
      "execution_count": null,
      "outputs": []
    },
    {
      "cell_type": "code",
      "metadata": {
        "id": "8SH5xmZlbGGn",
        "colab": {
          "base_uri": "https://localhost:8080/"
        },
        "outputId": "0d2fa642-de2b-4b36-a1c5-03816019248c"
      },
      "source": [
        "train['Sex'].apply(convert)"
      ],
      "execution_count": null,
      "outputs": [
        {
          "output_type": "execute_result",
          "data": {
            "text/plain": [
              "0      1\n",
              "1      0\n",
              "2      0\n",
              "3      0\n",
              "4      1\n",
              "      ..\n",
              "886    1\n",
              "887    0\n",
              "888    0\n",
              "889    1\n",
              "890    1\n",
              "Name: Sex, Length: 891, dtype: int64"
            ]
          },
          "metadata": {
            "tags": []
          },
          "execution_count": 13
        }
      ]
    },
    {
      "cell_type": "code",
      "metadata": {
        "id": "hl6fZ4B3blQF"
      },
      "source": [
        "from sklearn.preprocessing import LabelEncoder"
      ],
      "execution_count": null,
      "outputs": []
    },
    {
      "cell_type": "code",
      "metadata": {
        "id": "Bk4HmkCUbqcF"
      },
      "source": [
        "le = LabelEncoder()\r\n",
        "train['Sex'] = le.fit_transform(train['Sex'])"
      ],
      "execution_count": null,
      "outputs": []
    },
    {
      "cell_type": "code",
      "metadata": {
        "id": "yfintTkfbwYd",
        "colab": {
          "base_uri": "https://localhost:8080/"
        },
        "outputId": "f95048a6-2a52-4440-f112-a804dab1bb51"
      },
      "source": [
        "train['Sex'].value_counts()"
      ],
      "execution_count": null,
      "outputs": [
        {
          "output_type": "execute_result",
          "data": {
            "text/plain": [
              "1    577\n",
              "0    314\n",
              "Name: Sex, dtype: int64"
            ]
          },
          "metadata": {
            "tags": []
          },
          "execution_count": 17
        }
      ]
    },
    {
      "cell_type": "code",
      "metadata": {
        "id": "xwECd3jPb5X8",
        "colab": {
          "base_uri": "https://localhost:8080/"
        },
        "outputId": "bc61015a-0133-4a2a-8707-9adc03710b4e"
      },
      "source": [
        "le.classes_"
      ],
      "execution_count": null,
      "outputs": [
        {
          "output_type": "execute_result",
          "data": {
            "text/plain": [
              "array(['female', 'male'], dtype=object)"
            ]
          },
          "metadata": {
            "tags": []
          },
          "execution_count": 18
        }
      ]
    },
    {
      "cell_type": "code",
      "metadata": {
        "id": "hERnOeJYb-1N",
        "colab": {
          "base_uri": "https://localhost:8080/"
        },
        "outputId": "608cb3c2-b5e4-4482-e492-1eb7c17c4e0d"
      },
      "source": [
        "# 다시원래대로 \r\n",
        "le.inverse_transform([0,1,1,0,0,1,1])"
      ],
      "execution_count": null,
      "outputs": [
        {
          "output_type": "execute_result",
          "data": {
            "text/plain": [
              "array(['female', 'male', 'male', 'female', 'female', 'male', 'male'],\n",
              "      dtype=object)"
            ]
          },
          "metadata": {
            "tags": []
          },
          "execution_count": 19
        }
      ]
    },
    {
      "cell_type": "markdown",
      "metadata": {
        "id": "z9Q3cyVZcEnF"
      },
      "source": [
        "NaN값이 포함되어 있다면, LabelEncoder가 적상적으로 동작하지 않는다."
      ]
    },
    {
      "cell_type": "markdown",
      "metadata": {
        "id": "aR6Ah1CEilEq"
      },
      "source": [
        "## One-Hot Encoding"
      ]
    },
    {
      "cell_type": "code",
      "metadata": {
        "id": "odIbrR_zcCCt"
      },
      "source": [
        "train = pd.read_csv('https://bit.ly/fc-ml-titanic')"
      ],
      "execution_count": null,
      "outputs": []
    },
    {
      "cell_type": "code",
      "metadata": {
        "id": "KGkmpy9wi04g",
        "colab": {
          "base_uri": "https://localhost:8080/"
        },
        "outputId": "ec116022-f44e-4d4b-d690-ae67818d4b8d"
      },
      "source": [
        "train['Embarked'].value_counts()"
      ],
      "execution_count": null,
      "outputs": [
        {
          "output_type": "execute_result",
          "data": {
            "text/plain": [
              "S    644\n",
              "C    168\n",
              "Q     77\n",
              "Name: Embarked, dtype: int64"
            ]
          },
          "metadata": {
            "tags": []
          },
          "execution_count": 22
        }
      ]
    },
    {
      "cell_type": "code",
      "metadata": {
        "id": "HQPlzcEji_dy"
      },
      "source": [
        "# NaN값 제거\r\n",
        "train['Embarked'] = train['Embarked'].fillna('S')"
      ],
      "execution_count": null,
      "outputs": []
    },
    {
      "cell_type": "code",
      "metadata": {
        "id": "KzSN8YSIjHm4",
        "colab": {
          "base_uri": "https://localhost:8080/"
        },
        "outputId": "6a258911-2c64-4f3d-99d4-e7699ccaeeab"
      },
      "source": [
        "train['Embarked'].value_counts()"
      ],
      "execution_count": null,
      "outputs": [
        {
          "output_type": "execute_result",
          "data": {
            "text/plain": [
              "S    646\n",
              "C    168\n",
              "Q     77\n",
              "Name: Embarked, dtype: int64"
            ]
          },
          "metadata": {
            "tags": []
          },
          "execution_count": 24
        }
      ]
    },
    {
      "cell_type": "markdown",
      "metadata": {
        "id": "m15SFiGmjX88"
      },
      "source": [
        "여기서 만약 LabelEncoding을 하게 되면 0, 1, 2이렇게 변환이 된다.\r\n",
        "Embarked는 항구 이름에 대한것인데 S = 2 이고 Q =1 일때  Q + Q = S가 된다. 즉 규칙성이 갑자기 생겨버리게 된다. 따라서 이런 독립적인 데이터는 별도로 분리하는 방법이 원핫인코딩이다."
      ]
    },
    {
      "cell_type": "code",
      "metadata": {
        "id": "Tn9VjFqvjIPS",
        "colab": {
          "base_uri": "https://localhost:8080/"
        },
        "outputId": "5ba2d0d8-0f0f-4c5c-e30f-a5d656ea6070"
      },
      "source": [
        "train['Embarked'][:6]"
      ],
      "execution_count": null,
      "outputs": [
        {
          "output_type": "execute_result",
          "data": {
            "text/plain": [
              "0    S\n",
              "1    C\n",
              "2    S\n",
              "3    S\n",
              "4    S\n",
              "5    Q\n",
              "Name: Embarked, dtype: object"
            ]
          },
          "metadata": {
            "tags": []
          },
          "execution_count": 25
        }
      ]
    },
    {
      "cell_type": "code",
      "metadata": {
        "id": "hWO5rWIhj5vs",
        "colab": {
          "base_uri": "https://localhost:8080/",
          "height": 235
        },
        "outputId": "0fb769dd-57e5-4969-a675-13aa6d935558"
      },
      "source": [
        "# 원핫 인코딩 사용 (pd.get_dummies())\r\n",
        "pd.get_dummies(train['Embarked'][:6])"
      ],
      "execution_count": null,
      "outputs": [
        {
          "output_type": "execute_result",
          "data": {
            "text/html": [
              "<div>\n",
              "<style scoped>\n",
              "    .dataframe tbody tr th:only-of-type {\n",
              "        vertical-align: middle;\n",
              "    }\n",
              "\n",
              "    .dataframe tbody tr th {\n",
              "        vertical-align: top;\n",
              "    }\n",
              "\n",
              "    .dataframe thead th {\n",
              "        text-align: right;\n",
              "    }\n",
              "</style>\n",
              "<table border=\"1\" class=\"dataframe\">\n",
              "  <thead>\n",
              "    <tr style=\"text-align: right;\">\n",
              "      <th></th>\n",
              "      <th>C</th>\n",
              "      <th>Q</th>\n",
              "      <th>S</th>\n",
              "    </tr>\n",
              "  </thead>\n",
              "  <tbody>\n",
              "    <tr>\n",
              "      <th>0</th>\n",
              "      <td>0</td>\n",
              "      <td>0</td>\n",
              "      <td>1</td>\n",
              "    </tr>\n",
              "    <tr>\n",
              "      <th>1</th>\n",
              "      <td>1</td>\n",
              "      <td>0</td>\n",
              "      <td>0</td>\n",
              "    </tr>\n",
              "    <tr>\n",
              "      <th>2</th>\n",
              "      <td>0</td>\n",
              "      <td>0</td>\n",
              "      <td>1</td>\n",
              "    </tr>\n",
              "    <tr>\n",
              "      <th>3</th>\n",
              "      <td>0</td>\n",
              "      <td>0</td>\n",
              "      <td>1</td>\n",
              "    </tr>\n",
              "    <tr>\n",
              "      <th>4</th>\n",
              "      <td>0</td>\n",
              "      <td>0</td>\n",
              "      <td>1</td>\n",
              "    </tr>\n",
              "    <tr>\n",
              "      <th>5</th>\n",
              "      <td>0</td>\n",
              "      <td>1</td>\n",
              "      <td>0</td>\n",
              "    </tr>\n",
              "  </tbody>\n",
              "</table>\n",
              "</div>"
            ],
            "text/plain": [
              "   C  Q  S\n",
              "0  0  0  1\n",
              "1  1  0  0\n",
              "2  0  0  1\n",
              "3  0  0  1\n",
              "4  0  0  1\n",
              "5  0  1  0"
            ]
          },
          "metadata": {
            "tags": []
          },
          "execution_count": 26
        }
      ]
    },
    {
      "cell_type": "markdown",
      "metadata": {
        "id": "NEBIOn-9k0a_"
      },
      "source": [
        "이렇게 원핫인코딩은 카테고리 의 특성을 가지는 column에 대해서 적용 한다."
      ]
    },
    {
      "cell_type": "markdown",
      "metadata": {
        "id": "6jnjhNNHlb8w"
      },
      "source": [
        "norminal 데이터 : 원핫인코딩, map\r\n",
        "ordinal 데이터 : LabelEncoding"
      ]
    },
    {
      "cell_type": "markdown",
      "metadata": {
        "id": "MtTVOK32zucd"
      },
      "source": [
        "## Normalize (정규화)"
      ]
    },
    {
      "cell_type": "markdown",
      "metadata": {
        "id": "kbN7_Or4z1qV"
      },
      "source": [
        "column 간에 다른 min, max값을 가지는 경우, 정규화를 통해 최소치/ 최대값의 척도를 맞추어 주는것\r\n",
        "\r\n",
        "- 네이버 영화평점 (0점~ 10점) : [2, 4, 6, 8, 10]\r\n",
        "- 넷플릭스 영화평점 (0점 ~ 5점) : [1, 2, 3, 4, 5]"
      ]
    },
    {
      "cell_type": "code",
      "metadata": {
        "id": "lHtase68kIe6"
      },
      "source": [
        "movie = {'naver' : [2, 4, 6, 8, 10],\r\n",
        "         'netflix' : [1, 2, 3, 4, 5]\r\n",
        "         }"
      ],
      "execution_count": 2,
      "outputs": []
    },
    {
      "cell_type": "code",
      "metadata": {
        "id": "bcLwvOCB0ivy",
        "outputId": "011f3512-36a9-434f-d8b7-dfd79e6f482e",
        "colab": {
          "base_uri": "https://localhost:8080/",
          "height": 198
        }
      },
      "source": [
        "import pandas as pd\r\n",
        "movie = pd.DataFrame(data = movie)\r\n",
        "movie"
      ],
      "execution_count": 4,
      "outputs": [
        {
          "output_type": "execute_result",
          "data": {
            "text/html": [
              "<div>\n",
              "<style scoped>\n",
              "    .dataframe tbody tr th:only-of-type {\n",
              "        vertical-align: middle;\n",
              "    }\n",
              "\n",
              "    .dataframe tbody tr th {\n",
              "        vertical-align: top;\n",
              "    }\n",
              "\n",
              "    .dataframe thead th {\n",
              "        text-align: right;\n",
              "    }\n",
              "</style>\n",
              "<table border=\"1\" class=\"dataframe\">\n",
              "  <thead>\n",
              "    <tr style=\"text-align: right;\">\n",
              "      <th></th>\n",
              "      <th>naver</th>\n",
              "      <th>netflix</th>\n",
              "    </tr>\n",
              "  </thead>\n",
              "  <tbody>\n",
              "    <tr>\n",
              "      <th>0</th>\n",
              "      <td>2</td>\n",
              "      <td>1</td>\n",
              "    </tr>\n",
              "    <tr>\n",
              "      <th>1</th>\n",
              "      <td>4</td>\n",
              "      <td>2</td>\n",
              "    </tr>\n",
              "    <tr>\n",
              "      <th>2</th>\n",
              "      <td>6</td>\n",
              "      <td>3</td>\n",
              "    </tr>\n",
              "    <tr>\n",
              "      <th>3</th>\n",
              "      <td>8</td>\n",
              "      <td>4</td>\n",
              "    </tr>\n",
              "    <tr>\n",
              "      <th>4</th>\n",
              "      <td>10</td>\n",
              "      <td>5</td>\n",
              "    </tr>\n",
              "  </tbody>\n",
              "</table>\n",
              "</div>"
            ],
            "text/plain": [
              "   naver  netflix\n",
              "0      2        1\n",
              "1      4        2\n",
              "2      6        3\n",
              "3      8        4\n",
              "4     10        5"
            ]
          },
          "metadata": {
            "tags": []
          },
          "execution_count": 4
        }
      ]
    },
    {
      "cell_type": "code",
      "metadata": {
        "id": "MmEg48wO0r8a"
      },
      "source": [
        "from sklearn.preprocessing import MinMaxScaler"
      ],
      "execution_count": 5,
      "outputs": []
    },
    {
      "cell_type": "code",
      "metadata": {
        "id": "xJa0e1iO0xtS"
      },
      "source": [
        "min_max_scaler = MinMaxScaler()"
      ],
      "execution_count": 6,
      "outputs": []
    },
    {
      "cell_type": "code",
      "metadata": {
        "id": "21LKxv3u02oK"
      },
      "source": [
        "min_max_movie = min_max_scaler.fit_transform(movie)"
      ],
      "execution_count": 7,
      "outputs": []
    },
    {
      "cell_type": "code",
      "metadata": {
        "id": "D2hG5wvc0-gK",
        "outputId": "0d22b3df-d5bf-49b8-ccdf-55b590a6e0fb",
        "colab": {
          "base_uri": "https://localhost:8080/",
          "height": 198
        }
      },
      "source": [
        "pd.DataFrame(min_max_movie, columns=['naver', 'netflix'])"
      ],
      "execution_count": 8,
      "outputs": [
        {
          "output_type": "execute_result",
          "data": {
            "text/html": [
              "<div>\n",
              "<style scoped>\n",
              "    .dataframe tbody tr th:only-of-type {\n",
              "        vertical-align: middle;\n",
              "    }\n",
              "\n",
              "    .dataframe tbody tr th {\n",
              "        vertical-align: top;\n",
              "    }\n",
              "\n",
              "    .dataframe thead th {\n",
              "        text-align: right;\n",
              "    }\n",
              "</style>\n",
              "<table border=\"1\" class=\"dataframe\">\n",
              "  <thead>\n",
              "    <tr style=\"text-align: right;\">\n",
              "      <th></th>\n",
              "      <th>naver</th>\n",
              "      <th>netflix</th>\n",
              "    </tr>\n",
              "  </thead>\n",
              "  <tbody>\n",
              "    <tr>\n",
              "      <th>0</th>\n",
              "      <td>0.00</td>\n",
              "      <td>0.00</td>\n",
              "    </tr>\n",
              "    <tr>\n",
              "      <th>1</th>\n",
              "      <td>0.25</td>\n",
              "      <td>0.25</td>\n",
              "    </tr>\n",
              "    <tr>\n",
              "      <th>2</th>\n",
              "      <td>0.50</td>\n",
              "      <td>0.50</td>\n",
              "    </tr>\n",
              "    <tr>\n",
              "      <th>3</th>\n",
              "      <td>0.75</td>\n",
              "      <td>0.75</td>\n",
              "    </tr>\n",
              "    <tr>\n",
              "      <th>4</th>\n",
              "      <td>1.00</td>\n",
              "      <td>1.00</td>\n",
              "    </tr>\n",
              "  </tbody>\n",
              "</table>\n",
              "</div>"
            ],
            "text/plain": [
              "   naver  netflix\n",
              "0   0.00     0.00\n",
              "1   0.25     0.25\n",
              "2   0.50     0.50\n",
              "3   0.75     0.75\n",
              "4   1.00     1.00"
            ]
          },
          "metadata": {
            "tags": []
          },
          "execution_count": 8
        }
      ]
    },
    {
      "cell_type": "markdown",
      "metadata": {
        "id": "cBxDLhvG1VmD"
      },
      "source": [
        "## 표준화 (Standard Scaling)\r\n"
      ]
    },
    {
      "cell_type": "markdown",
      "metadata": {
        "id": "-S1IW-921Z1s"
      },
      "source": [
        "평균이 0과 표준편차가 1이 되도록 변환"
      ]
    },
    {
      "cell_type": "code",
      "metadata": {
        "id": "h8VF1Qhv1FfW"
      },
      "source": [
        "from sklearn.preprocessing import StandardScaler\r\n",
        "standard_scaler = StandardScaler()"
      ],
      "execution_count": 9,
      "outputs": []
    },
    {
      "cell_type": "markdown",
      "metadata": {
        "id": "2p2Qatf01l9d"
      },
      "source": [
        "샘플데이터를 생성합니다"
      ]
    },
    {
      "cell_type": "code",
      "metadata": {
        "id": "sLkcyoxw1lQZ"
      },
      "source": [
        "x = np.arange(10)\r\n",
        "# outlier 추가\r\n",
        "x[9] = 1000"
      ],
      "execution_count": 10,
      "outputs": []
    },
    {
      "cell_type": "code",
      "metadata": {
        "id": "2Wxf0Ucp10qo",
        "outputId": "a3c95c80-34ca-40cc-e457-b9d3a27f958f",
        "colab": {
          "base_uri": "https://localhost:8080/"
        }
      },
      "source": [
        "x.mean(), x.std()"
      ],
      "execution_count": 11,
      "outputs": [
        {
          "output_type": "execute_result",
          "data": {
            "text/plain": [
              "(103.6, 298.8100399919654)"
            ]
          },
          "metadata": {
            "tags": []
          },
          "execution_count": 11
        }
      ]
    },
    {
      "cell_type": "code",
      "metadata": {
        "id": "IX5mVvja14bd"
      },
      "source": [
        "scaled = standard_scaler.fit_transform(x.reshape(-1,1))"
      ],
      "execution_count": 12,
      "outputs": []
    },
    {
      "cell_type": "code",
      "metadata": {
        "id": "_yur-Qmu2ABI",
        "outputId": "6766a896-7b6c-42d4-a2dc-d38d9c5b38c8",
        "colab": {
          "base_uri": "https://localhost:8080/"
        }
      },
      "source": [
        "x.mean(), x.std()"
      ],
      "execution_count": 13,
      "outputs": [
        {
          "output_type": "execute_result",
          "data": {
            "text/plain": [
              "(103.6, 298.8100399919654)"
            ]
          },
          "metadata": {
            "tags": []
          },
          "execution_count": 13
        }
      ]
    },
    {
      "cell_type": "code",
      "metadata": {
        "id": "7eEm7bvw2EOD",
        "outputId": "5128fdca-df98-4abc-9d41-87bbf2b71842",
        "colab": {
          "base_uri": "https://localhost:8080/"
        }
      },
      "source": [
        "scaled.mean(), scaled.std()"
      ],
      "execution_count": 14,
      "outputs": [
        {
          "output_type": "execute_result",
          "data": {
            "text/plain": [
              "(4.4408920985006264e-17, 1.0)"
            ]
          },
          "metadata": {
            "tags": []
          },
          "execution_count": 14
        }
      ]
    },
    {
      "cell_type": "code",
      "metadata": {
        "id": "SbBOoHFl2HTd",
        "outputId": "58ef3255-1499-427c-bca6-a5f204fdbda8",
        "colab": {
          "base_uri": "https://localhost:8080/"
        }
      },
      "source": [
        "round(scaled.mean(), 2), scaled.std()"
      ],
      "execution_count": 15,
      "outputs": [
        {
          "output_type": "execute_result",
          "data": {
            "text/plain": [
              "(0.0, 1.0)"
            ]
          },
          "metadata": {
            "tags": []
          },
          "execution_count": 15
        }
      ]
    },
    {
      "cell_type": "code",
      "metadata": {
        "id": "tNiwXcbW2NxP"
      },
      "source": [
        ""
      ],
      "execution_count": null,
      "outputs": []
    }
  ]
}