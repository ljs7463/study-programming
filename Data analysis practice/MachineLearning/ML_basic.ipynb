{
  "nbformat": 4,
  "nbformat_minor": 0,
  "metadata": {
    "colab": {
      "name": "ML_basic.ipynb",
      "provenance": []
    },
    "kernelspec": {
      "name": "python3",
      "display_name": "Python 3"
    }
  },
  "cells": [
    {
      "cell_type": "code",
      "metadata": {
        "id": "fFkcCmPI2EHn"
      },
      "source": [
        "from sklearn.impute import SimpleImputer"
      ],
      "execution_count": null,
      "outputs": []
    },
    {
      "cell_type": "markdown",
      "metadata": {
        "id": "2y8x24aFOY4w"
      },
      "source": [
        "# 머신러닝 모델 기본  실습"
      ]
    },
    {
      "cell_type": "code",
      "metadata": {
        "id": "3SwaYRBML598"
      },
      "source": [
        "import numpy as np\r\n",
        "from sklearn.linear_model import LinearRegression"
      ],
      "execution_count": 1,
      "outputs": []
    },
    {
      "cell_type": "code",
      "metadata": {
        "id": "97GaOfo5Mb5c",
        "outputId": "1bfdd8e2-c796-4f14-ab7b-f4e0414ecab7",
        "colab": {
          "base_uri": "https://localhost:8080/",
          "height": 209
        }
      },
      "source": [
        "model = LinearRegression() # 모델선언\r\n",
        "model.fit(x, y) # 학습(fit)\r\n",
        "prediction = model.predict(x2)"
      ],
      "execution_count": 2,
      "outputs": [
        {
          "output_type": "error",
          "ename": "NameError",
          "evalue": "ignored",
          "traceback": [
            "\u001b[0;31m---------------------------------------------------------------------------\u001b[0m",
            "\u001b[0;31mNameError\u001b[0m                                 Traceback (most recent call last)",
            "\u001b[0;32m<ipython-input-2-3d0dfff2b523>\u001b[0m in \u001b[0;36m<module>\u001b[0;34m()\u001b[0m\n\u001b[1;32m      1\u001b[0m \u001b[0mmodel\u001b[0m \u001b[0;34m=\u001b[0m \u001b[0mLinearRegression\u001b[0m\u001b[0;34m(\u001b[0m\u001b[0;34m)\u001b[0m \u001b[0;31m# 모델선언\u001b[0m\u001b[0;34m\u001b[0m\u001b[0;34m\u001b[0m\u001b[0m\n\u001b[0;32m----> 2\u001b[0;31m \u001b[0mmodel\u001b[0m\u001b[0;34m.\u001b[0m\u001b[0mfit\u001b[0m\u001b[0;34m(\u001b[0m\u001b[0mx\u001b[0m\u001b[0;34m,\u001b[0m \u001b[0my\u001b[0m\u001b[0;34m)\u001b[0m \u001b[0;31m# 학습(fit)\u001b[0m\u001b[0;34m\u001b[0m\u001b[0;34m\u001b[0m\u001b[0m\n\u001b[0m\u001b[1;32m      3\u001b[0m \u001b[0mprediction\u001b[0m \u001b[0;34m=\u001b[0m \u001b[0mmodel\u001b[0m\u001b[0;34m.\u001b[0m\u001b[0mpredict\u001b[0m\u001b[0;34m(\u001b[0m\u001b[0mx2\u001b[0m\u001b[0;34m)\u001b[0m\u001b[0;34m\u001b[0m\u001b[0;34m\u001b[0m\u001b[0m\n",
            "\u001b[0;31mNameError\u001b[0m: name 'x' is not defined"
          ]
        }
      ]
    },
    {
      "cell_type": "code",
      "metadata": {
        "id": "U8WoidWONWWh"
      },
      "source": [
        "x = np.arange(10).reshape(-1, 1)\r\n",
        "y = (2*x +1).reshape(-1, 1)"
      ],
      "execution_count": null,
      "outputs": []
    },
    {
      "cell_type": "code",
      "metadata": {
        "id": "zIgs6r29Nv9J"
      },
      "source": [
        "# 모델선언\r\n",
        "model = LinearRegression()"
      ],
      "execution_count": null,
      "outputs": []
    },
    {
      "cell_type": "code",
      "metadata": {
        "id": "ssQh1NNFNv6c"
      },
      "source": [
        "# 학습\r\n",
        "model.fit(x, y)"
      ],
      "execution_count": null,
      "outputs": []
    },
    {
      "cell_type": "code",
      "metadata": {
        "id": "BuudXK2jNv4K"
      },
      "source": [
        "# 예측\r\n",
        "prediction = model.predict([[10.0]])"
      ],
      "execution_count": null,
      "outputs": []
    },
    {
      "cell_type": "code",
      "metadata": {
        "id": "FJx-jNrFNv1Y"
      },
      "source": [
        "prediction"
      ],
      "execution_count": null,
      "outputs": []
    },
    {
      "cell_type": "markdown",
      "metadata": {
        "id": "qvqI7_wzOch6"
      },
      "source": [
        "# 학습 데이터, 예측 데이터"
      ]
    },
    {
      "cell_type": "code",
      "metadata": {
        "id": "UUYuIqFFNvym"
      },
      "source": [
        "X: \r\n",
        " - feature 라고 부른다\r\n",
        " - x_train, x_test\r\n",
        " - 학습을 위한 데이터 세트"
      ],
      "execution_count": null,
      "outputs": []
    },
    {
      "cell_type": "code",
      "metadata": {
        "id": "nzuFTnQdNvtr"
      },
      "source": [
        "Y:\r\n",
        " - labels라고 불리웁니다.\r\n",
        " - y_train, y_test\r\n",
        " - 예측해야할 값"
      ],
      "execution_count": null,
      "outputs": []
    },
    {
      "cell_type": "code",
      "metadata": {
        "id": "GzFHUlo3PkQH"
      },
      "source": [
        "학습을 위한 데이터 = Training set, 예측을 위한 데이터 = Test set\r\n",
        "\r\n",
        "두개의 데이터의 차이는 학습용 데이터 셋 에는 label이 존재하고 예측을 위한 데이터는\r\n",
        "feature 만 존재한다."
      ],
      "execution_count": null,
      "outputs": []
    },
    {
      "cell_type": "code",
      "metadata": {
        "id": "DKwLXALgRKzS"
      },
      "source": [
        "from sklearn.linear_model import LinearRegression\r\n",
        "\r\n",
        "model = LinearRegression()\r\n",
        "model.fit(x_train, y_train)\r\n",
        "prediction = model.predict(x_test)"
      ],
      "execution_count": null,
      "outputs": []
    },
    {
      "cell_type": "markdown",
      "metadata": {
        "id": "RvocKmlKdUt3"
      },
      "source": [
        "# 전처리"
      ]
    },
    {
      "cell_type": "markdown",
      "metadata": {
        "id": "S9L4mnaEdWhS"
      },
      "source": [
        "데이터 분석에 적합하게 데이터를 가공, 변형, 처리, 클리닝 하는 작업"
      ]
    },
    {
      "cell_type": "markdown",
      "metadata": {
        "id": "puL_p_Dyd4ER"
      },
      "source": [
        "1. 결측지\r\n",
        "2. 이상치\r\n",
        "3. 정규화(Normalization)\r\n",
        "4. 표준화(Standardization)\r\n",
        "5. 샘플링(over/under sampling)\r\n",
        "6. 피처공학(Feature Engineering)\r\n",
        " -  feature 생성/ 연산\r\n",
        " * 구간 생성, 스케일 변형"
      ]
    },
    {
      "cell_type": "markdown",
      "metadata": {
        "id": "cwPZuS92fdMb"
      },
      "source": [
        "## train_test_split "
      ]
    },
    {
      "cell_type": "code",
      "metadata": {
        "id": "jApQvshYVWM9"
      },
      "source": [
        "import numpy as np\r\n",
        "import pandas as pd\r\n"
      ],
      "execution_count": 2,
      "outputs": []
    },
    {
      "cell_type": "code",
      "metadata": {
        "id": "Utg2GlNnWQ7E"
      },
      "source": [
        "train = pd.read_csv('https://bit.ly/fc-ml-titanic')"
      ],
      "execution_count": 3,
      "outputs": []
    },
    {
      "cell_type": "markdown",
      "metadata": {
        "id": "KWyJXTLkgHjY"
      },
      "source": [
        "## train과 validation 세트 나누기\r\n",
        "\r\n",
        "1. feature와 label을 정의하기\r\n",
        "2. 적절한 비율로 train과 validation set을 나눈다."
      ]
    },
    {
      "cell_type": "code",
      "metadata": {
        "id": "UwEH4kiCfwzp"
      },
      "source": [
        "feature = [\r\n",
        "           'Pclass', 'Sex', 'Age', 'Fare'\r\n",
        "           ]"
      ],
      "execution_count": null,
      "outputs": []
    },
    {
      "cell_type": "code",
      "metadata": {
        "id": "3TLPh6F2gVW1"
      },
      "source": [
        "label = ['Survived']"
      ],
      "execution_count": null,
      "outputs": []
    },
    {
      "cell_type": "code",
      "metadata": {
        "id": "RxZLbWhUgiLX"
      },
      "source": [
        "train[feature].head()"
      ],
      "execution_count": null,
      "outputs": []
    },
    {
      "cell_type": "code",
      "metadata": {
        "id": "5C0L-nxmgirX"
      },
      "source": [
        "train[label].head()"
      ],
      "execution_count": null,
      "outputs": []
    },
    {
      "cell_type": "code",
      "metadata": {
        "id": "MGrbE8D1gsc5"
      },
      "source": [
        "from sklearn.model_selection import train_test_split"
      ],
      "execution_count": null,
      "outputs": []
    },
    {
      "cell_type": "markdown",
      "metadata": {
        "id": "7dOLHxrCgyWd"
      },
      "source": [
        "return 받는 데이터의 순서 중요"
      ]
    },
    {
      "cell_type": "markdown",
      "metadata": {
        "id": "WkE7SG5shV4c"
      },
      "source": [
        "* test_size : validation set에 할당할 비율(20% = 0.2)\r\n",
        "\r\n",
        "* shuffle : 셔플 옵션(기본 True)\r\n",
        "\r\n",
        "* random_state : 랜덤 시드값"
      ]
    },
    {
      "cell_type": "code",
      "metadata": {
        "id": "JP0H65Pagsan"
      },
      "source": [
        "x_train, x_valid, y_train, y_valid = \\\r\n",
        "train_test_split(train[feature], train[label], test_size = 0.2, shuffle =True, random_state = 30)"
      ],
      "execution_count": null,
      "outputs": []
    },
    {
      "cell_type": "code",
      "metadata": {
        "id": "3WOBzmLggsXt"
      },
      "source": [
        "x_train.shape, y_train.shape"
      ],
      "execution_count": null,
      "outputs": []
    },
    {
      "cell_type": "code",
      "metadata": {
        "id": "88sk8sR5gibM"
      },
      "source": [
        "x_valid.shape, y_valid.shape"
      ],
      "execution_count": null,
      "outputs": []
    },
    {
      "cell_type": "markdown",
      "metadata": {
        "id": "qP7HtNyJYJaO"
      },
      "source": [
        "## 결측지"
      ]
    },
    {
      "cell_type": "markdown",
      "metadata": {
        "id": "SHcSCuwfYSoV"
      },
      "source": [
        "결측지 확인 : isnull() "
      ]
    },
    {
      "cell_type": "code",
      "metadata": {
        "id": "BxrVOEyfhsME",
        "outputId": "085e1269-4800-4953-ea8d-9a7c095ccbae",
        "colab": {
          "base_uri": "https://localhost:8080/"
        }
      },
      "source": [
        "train.isnull().sum()"
      ],
      "execution_count": 6,
      "outputs": [
        {
          "output_type": "execute_result",
          "data": {
            "text/plain": [
              "PassengerId      0\n",
              "Survived         0\n",
              "Pclass           0\n",
              "Name             0\n",
              "Sex              0\n",
              "Age            177\n",
              "SibSp            0\n",
              "Parch            0\n",
              "Ticket           0\n",
              "Fare             0\n",
              "Cabin          687\n",
              "Embarked         2\n",
              "dtype: int64"
            ]
          },
          "metadata": {
            "tags": []
          },
          "execution_count": 6
        }
      ]
    },
    {
      "cell_type": "markdown",
      "metadata": {
        "id": "wuIe2BBrvaLP"
      },
      "source": [
        "## numerical  데이터에 대한 결측지 처리"
      ]
    },
    {
      "cell_type": "code",
      "metadata": {
        "id": "RfbA96FOYXq-",
        "outputId": "a3494cdc-3789-47ee-9c19-654fd4ed2e3c",
        "colab": {
          "base_uri": "https://localhost:8080/"
        }
      },
      "source": [
        "train['Age'].fillna(0).describe()"
      ],
      "execution_count": 7,
      "outputs": [
        {
          "output_type": "execute_result",
          "data": {
            "text/plain": [
              "count    891.000000\n",
              "mean      23.799293\n",
              "std       17.596074\n",
              "min        0.000000\n",
              "25%        6.000000\n",
              "50%       24.000000\n",
              "75%       35.000000\n",
              "max       80.000000\n",
              "Name: Age, dtype: float64"
            ]
          },
          "metadata": {
            "tags": []
          },
          "execution_count": 7
        }
      ]
    },
    {
      "cell_type": "markdown",
      "metadata": {
        "id": "FV8Y5EJ3wlKz"
      },
      "source": [
        "imputer : 2개 이상의 column을 한번에 처리할 때"
      ]
    },
    {
      "cell_type": "code",
      "metadata": {
        "id": "O8ecARB4vkCV"
      },
      "source": [
        "from sklearn.impute import SimpleImputer"
      ],
      "execution_count": 6,
      "outputs": []
    },
    {
      "cell_type": "code",
      "metadata": {
        "id": "cfOv20q9wxr-"
      },
      "source": [
        "imputer = SimpleImputer(strategy= 'mean')\r\n",
        "# strategy = 'mean' 평균값으로 채워주겠다"
      ],
      "execution_count": 9,
      "outputs": []
    },
    {
      "cell_type": "code",
      "metadata": {
        "id": "xB2QaksTw9Sg",
        "outputId": "24e64cb4-6897-43dc-8872-c88ac8a68baa",
        "colab": {
          "base_uri": "https://localhost:8080/"
        }
      },
      "source": [
        "# fit()을 통해 결측지에 대한 학습을 진행한다.\r\n",
        "imputer.fit(train[['Age', 'Pclass']])"
      ],
      "execution_count": 10,
      "outputs": [
        {
          "output_type": "execute_result",
          "data": {
            "text/plain": [
              "SimpleImputer(add_indicator=False, copy=True, fill_value=None,\n",
              "              missing_values=nan, strategy='mean', verbose=0)"
            ]
          },
          "metadata": {
            "tags": []
          },
          "execution_count": 10
        }
      ]
    },
    {
      "cell_type": "code",
      "metadata": {
        "id": "6a9Yxddgx4RX"
      },
      "source": [
        "# transform()은 실제 결측치에 대한 처리를 해주는 함수(fit에서는 처리가 되지는 않고 학습만 진행)\r\n",
        "result = imputer.transform(train[['Age','Pclass']])"
      ],
      "execution_count": 11,
      "outputs": []
    },
    {
      "cell_type": "code",
      "metadata": {
        "id": "k5-JNkUOyGBX"
      },
      "source": [
        "train[['Age', 'Pclass']] = result"
      ],
      "execution_count": 12,
      "outputs": []
    },
    {
      "cell_type": "code",
      "metadata": {
        "id": "zUALLetqyKrJ",
        "outputId": "679963af-a67f-45d0-9d51-bc93b88eae33",
        "colab": {
          "base_uri": "https://localhost:8080/"
        }
      },
      "source": [
        "train[['Age', 'Pclass']].isnull().sum()"
      ],
      "execution_count": 13,
      "outputs": [
        {
          "output_type": "execute_result",
          "data": {
            "text/plain": [
              "Age       0\n",
              "Pclass    0\n",
              "dtype: int64"
            ]
          },
          "metadata": {
            "tags": []
          },
          "execution_count": 13
        }
      ]
    },
    {
      "cell_type": "code",
      "metadata": {
        "id": "P0PRvOWvyPSp",
        "outputId": "ae13430c-1c43-4bbb-9870-7ae2def7b082",
        "colab": {
          "base_uri": "https://localhost:8080/"
        }
      },
      "source": [
        "result\r\n",
        "# array로 생성"
      ],
      "execution_count": 14,
      "outputs": [
        {
          "output_type": "execute_result",
          "data": {
            "text/plain": [
              "array([[22.        ,  3.        ],\n",
              "       [38.        ,  1.        ],\n",
              "       [26.        ,  3.        ],\n",
              "       ...,\n",
              "       [29.69911765,  3.        ],\n",
              "       [26.        ,  1.        ],\n",
              "       [32.        ,  3.        ]])"
            ]
          },
          "metadata": {
            "tags": []
          },
          "execution_count": 14
        }
      ]
    },
    {
      "cell_type": "markdown",
      "metadata": {
        "id": "noDLR7ef09yu"
      },
      "source": [
        "fit()과 transform()동시 사용가능"
      ]
    },
    {
      "cell_type": "code",
      "metadata": {
        "id": "F50vg6GKyjrQ"
      },
      "source": [
        "# # 이렇게 하면 동시에 fit 과 transform을 같이 할 수 있음\r\n",
        "# result = imputer.fit_transform(train[['Age', 'Pclass']])"
      ],
      "execution_count": null,
      "outputs": []
    },
    {
      "cell_type": "markdown",
      "metadata": {
        "id": "JCViOQ4u1d3q"
      },
      "source": [
        "## categorical 데이터에 대한 결측지 처리"
      ]
    },
    {
      "cell_type": "code",
      "metadata": {
        "id": "1KwpthGM2BeA"
      },
      "source": [
        "import numpy as np\r\n",
        "import pandas as pd\r\n"
      ],
      "execution_count": null,
      "outputs": []
    },
    {
      "cell_type": "code",
      "metadata": {
        "id": "H9ZP3tn62F9P"
      },
      "source": [
        "from sklearn.impute import SimpleImputer"
      ],
      "execution_count": null,
      "outputs": []
    },
    {
      "cell_type": "code",
      "metadata": {
        "id": "tQE7KKpD2BeA"
      },
      "source": [
        "train = pd.read_csv('https://bit.ly/fc-ml-titanic')"
      ],
      "execution_count": null,
      "outputs": []
    },
    {
      "cell_type": "code",
      "metadata": {
        "id": "GLQmaek71hgH",
        "outputId": "9def51a2-e032-41f0-c059-ea5d5c2cd089",
        "colab": {
          "base_uri": "https://localhost:8080/"
        }
      },
      "source": [
        "train['Embarked'].fillna('S')"
      ],
      "execution_count": 4,
      "outputs": [
        {
          "output_type": "execute_result",
          "data": {
            "text/plain": [
              "0      S\n",
              "1      C\n",
              "2      S\n",
              "3      S\n",
              "4      S\n",
              "      ..\n",
              "886    S\n",
              "887    S\n",
              "888    S\n",
              "889    C\n",
              "890    Q\n",
              "Name: Embarked, Length: 891, dtype: object"
            ]
          },
          "metadata": {
            "tags": []
          },
          "execution_count": 4
        }
      ]
    },
    {
      "cell_type": "markdown",
      "metadata": {
        "id": "Kxmv5rXa1snv"
      },
      "source": [
        "imputer 사용하는경우 : 2개 이상의 column을 처리할때"
      ]
    },
    {
      "cell_type": "code",
      "metadata": {
        "id": "vY2d8i4o1wdN"
      },
      "source": [
        "imputer = SimpleImputer(strategy = 'most_frequent')\r\n",
        "# most_frequent 가장 빈도수가 높은 것으로 채운다"
      ],
      "execution_count": 8,
      "outputs": []
    },
    {
      "cell_type": "code",
      "metadata": {
        "id": "q8e14quh18aq"
      },
      "source": [
        "result =imputer.fit_transform(train[['Embarked', 'Cabin']])"
      ],
      "execution_count": 10,
      "outputs": []
    },
    {
      "cell_type": "code",
      "metadata": {
        "id": "OqEC6JAR2N2E"
      },
      "source": [
        "train[['Embarked', 'Cabin']] = result"
      ],
      "execution_count": 11,
      "outputs": []
    },
    {
      "cell_type": "code",
      "metadata": {
        "id": "oaMmpvPF2Wh2",
        "outputId": "297925ef-93ab-45a0-daaa-6c07b2defd5a",
        "colab": {
          "base_uri": "https://localhost:8080/"
        }
      },
      "source": [
        "train[['Embarked', 'Cabin']].isnull().sum()"
      ],
      "execution_count": 12,
      "outputs": [
        {
          "output_type": "execute_result",
          "data": {
            "text/plain": [
              "Embarked    0\n",
              "Cabin       0\n",
              "dtype: int64"
            ]
          },
          "metadata": {
            "tags": []
          },
          "execution_count": 12
        }
      ]
    },
    {
      "cell_type": "code",
      "metadata": {
        "id": "CppC4IaX2Yuu"
      },
      "source": [
        ""
      ],
      "execution_count": null,
      "outputs": []
    }
  ]
}