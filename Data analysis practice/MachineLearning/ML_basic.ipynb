{
  "nbformat": 4,
  "nbformat_minor": 0,
  "metadata": {
    "colab": {
      "name": "ML_basic.ipynb",
      "provenance": []
    },
    "kernelspec": {
      "name": "python3",
      "display_name": "Python 3"
    }
  },
  "cells": [
    {
      "cell_type": "markdown",
      "metadata": {
        "id": "2y8x24aFOY4w"
      },
      "source": [
        "# 머신러닝 모델 기본  실습"
      ]
    },
    {
      "cell_type": "code",
      "metadata": {
        "id": "3SwaYRBML598"
      },
      "source": [
        "import numpy as np\r\n",
        "from sklearn.linear_model import LinearRegression"
      ],
      "execution_count": null,
      "outputs": []
    },
    {
      "cell_type": "code",
      "metadata": {
        "id": "97GaOfo5Mb5c"
      },
      "source": [
        "model = LinearRegression() # 모델선언\r\n",
        "model.fit(x, y) # 학습(fit)\r\n",
        "prediction = model.predict(x2)"
      ],
      "execution_count": null,
      "outputs": []
    },
    {
      "cell_type": "code",
      "metadata": {
        "id": "U8WoidWONWWh"
      },
      "source": [
        "x = np.arange(10).reshape(-1, 1)\r\n",
        "y = (2*x +1).reshape(-1, 1)"
      ],
      "execution_count": null,
      "outputs": []
    },
    {
      "cell_type": "code",
      "metadata": {
        "id": "zIgs6r29Nv9J"
      },
      "source": [
        "# 모델선언\r\n",
        "model = LinearRegression()"
      ],
      "execution_count": null,
      "outputs": []
    },
    {
      "cell_type": "code",
      "metadata": {
        "colab": {
          "base_uri": "https://localhost:8080/"
        },
        "id": "ssQh1NNFNv6c",
        "outputId": "c58f0223-e275-43cd-ca4c-7972bc9acdd1"
      },
      "source": [
        "# 학습\r\n",
        "model.fit(x, y)"
      ],
      "execution_count": null,
      "outputs": [
        {
          "output_type": "execute_result",
          "data": {
            "text/plain": [
              "LinearRegression(copy_X=True, fit_intercept=True, n_jobs=None, normalize=False)"
            ]
          },
          "metadata": {
            "tags": []
          },
          "execution_count": 4
        }
      ]
    },
    {
      "cell_type": "code",
      "metadata": {
        "id": "BuudXK2jNv4K"
      },
      "source": [
        "# 예측\r\n",
        "prediction = model.predict([[10.0]])"
      ],
      "execution_count": null,
      "outputs": []
    },
    {
      "cell_type": "code",
      "metadata": {
        "colab": {
          "base_uri": "https://localhost:8080/"
        },
        "id": "FJx-jNrFNv1Y",
        "outputId": "ca5becbc-85e6-4000-a70d-983ff45d5a47"
      },
      "source": [
        "prediction"
      ],
      "execution_count": null,
      "outputs": [
        {
          "output_type": "execute_result",
          "data": {
            "text/plain": [
              "array([[21.]])"
            ]
          },
          "metadata": {
            "tags": []
          },
          "execution_count": 7
        }
      ]
    },
    {
      "cell_type": "markdown",
      "metadata": {
        "id": "qvqI7_wzOch6"
      },
      "source": [
        "# 학습 데이터, 예측 데이터"
      ]
    },
    {
      "cell_type": "code",
      "metadata": {
        "id": "UUYuIqFFNvym"
      },
      "source": [
        "X: \r\n",
        " - feature 라고 부른다\r\n",
        " - x_train, x_test\r\n",
        " - 학습을 위한 데이터 세트"
      ],
      "execution_count": null,
      "outputs": []
    },
    {
      "cell_type": "code",
      "metadata": {
        "id": "nzuFTnQdNvtr"
      },
      "source": [
        "Y:\r\n",
        " - labels라고 불리웁니다.\r\n",
        " - y_train, y_test\r\n",
        " - 예측해야할 값"
      ],
      "execution_count": null,
      "outputs": []
    },
    {
      "cell_type": "code",
      "metadata": {
        "id": "GzFHUlo3PkQH"
      },
      "source": [
        "학습을 위한 데이터 = Training set, 예측을 위한 데이터 = Test set\r\n",
        "\r\n",
        "두개의 데이터의 차이는 학습용 데이터 셋 에는 label이 존재하고 예측을 위한 데이터는\r\n",
        "feature 만 존재한다."
      ],
      "execution_count": null,
      "outputs": []
    },
    {
      "cell_type": "code",
      "metadata": {
        "id": "DKwLXALgRKzS"
      },
      "source": [
        "from sklearn.linear_model import LinearRegression\r\n",
        "\r\n",
        "model = LinearRegression()\r\n",
        "model.fit(x_train, y_train)\r\n",
        "prediction = model.predict(x_test)"
      ],
      "execution_count": null,
      "outputs": []
    },
    {
      "cell_type": "markdown",
      "metadata": {
        "id": "RvocKmlKdUt3"
      },
      "source": [
        "# 전처리"
      ]
    },
    {
      "cell_type": "markdown",
      "metadata": {
        "id": "S9L4mnaEdWhS"
      },
      "source": [
        "데이터 분석에 적합하게 데이터를 가공, 변형, 처리, 클리닝 하는 작업"
      ]
    },
    {
      "cell_type": "markdown",
      "metadata": {
        "id": "puL_p_Dyd4ER"
      },
      "source": [
        "1. 결측지\r\n",
        "2. 이상치\r\n",
        "3. 정규화(Normalization)\r\n",
        "4. 표준화(Standardization)\r\n",
        "5. 샘플링(over/under sampling)\r\n",
        "6. 피처공학(Feature Engineering)\r\n",
        " -  feature 생성/ 연산\r\n",
        " * 구간 생성, 스케일 변형"
      ]
    },
    {
      "cell_type": "markdown",
      "metadata": {
        "id": "cwPZuS92fdMb"
      },
      "source": [
        "# train_test_split "
      ]
    },
    {
      "cell_type": "code",
      "metadata": {
        "id": "jApQvshYVWM9"
      },
      "source": [
        "import numpy as np\r\n",
        "import pandas as pd\r\n"
      ],
      "execution_count": 2,
      "outputs": []
    },
    {
      "cell_type": "code",
      "metadata": {
        "id": "Utg2GlNnWQ7E"
      },
      "source": [
        "train = pd.read_csv('https://bit.ly/fc-ml-titanic')"
      ],
      "execution_count": 3,
      "outputs": []
    },
    {
      "cell_type": "markdown",
      "metadata": {
        "id": "KWyJXTLkgHjY"
      },
      "source": [
        "## train과 validation 세트 나누기\r\n",
        "\r\n",
        "1. feature와 label을 정의하기\r\n",
        "2. 적절한 비율로 train과 validation set을 나눈다."
      ]
    },
    {
      "cell_type": "code",
      "metadata": {
        "id": "UwEH4kiCfwzp"
      },
      "source": [
        "feature = [\r\n",
        "           'Pclass', 'Sex', 'Age', 'Fare'\r\n",
        "           ]"
      ],
      "execution_count": 4,
      "outputs": []
    },
    {
      "cell_type": "code",
      "metadata": {
        "id": "3TLPh6F2gVW1"
      },
      "source": [
        "label = ['Survived']"
      ],
      "execution_count": 5,
      "outputs": []
    },
    {
      "cell_type": "code",
      "metadata": {
        "colab": {
          "base_uri": "https://localhost:8080/",
          "height": 195
        },
        "id": "RxZLbWhUgiLX",
        "outputId": "b8e9492b-feee-44af-8af4-53cdecb4dc24"
      },
      "source": [
        "train[feature].head()"
      ],
      "execution_count": 6,
      "outputs": [
        {
          "output_type": "execute_result",
          "data": {
            "text/html": [
              "<div>\n",
              "<style scoped>\n",
              "    .dataframe tbody tr th:only-of-type {\n",
              "        vertical-align: middle;\n",
              "    }\n",
              "\n",
              "    .dataframe tbody tr th {\n",
              "        vertical-align: top;\n",
              "    }\n",
              "\n",
              "    .dataframe thead th {\n",
              "        text-align: right;\n",
              "    }\n",
              "</style>\n",
              "<table border=\"1\" class=\"dataframe\">\n",
              "  <thead>\n",
              "    <tr style=\"text-align: right;\">\n",
              "      <th></th>\n",
              "      <th>Pclass</th>\n",
              "      <th>Sex</th>\n",
              "      <th>Age</th>\n",
              "      <th>Fare</th>\n",
              "    </tr>\n",
              "  </thead>\n",
              "  <tbody>\n",
              "    <tr>\n",
              "      <th>0</th>\n",
              "      <td>3</td>\n",
              "      <td>male</td>\n",
              "      <td>22.0</td>\n",
              "      <td>7.2500</td>\n",
              "    </tr>\n",
              "    <tr>\n",
              "      <th>1</th>\n",
              "      <td>1</td>\n",
              "      <td>female</td>\n",
              "      <td>38.0</td>\n",
              "      <td>71.2833</td>\n",
              "    </tr>\n",
              "    <tr>\n",
              "      <th>2</th>\n",
              "      <td>3</td>\n",
              "      <td>female</td>\n",
              "      <td>26.0</td>\n",
              "      <td>7.9250</td>\n",
              "    </tr>\n",
              "    <tr>\n",
              "      <th>3</th>\n",
              "      <td>1</td>\n",
              "      <td>female</td>\n",
              "      <td>35.0</td>\n",
              "      <td>53.1000</td>\n",
              "    </tr>\n",
              "    <tr>\n",
              "      <th>4</th>\n",
              "      <td>3</td>\n",
              "      <td>male</td>\n",
              "      <td>35.0</td>\n",
              "      <td>8.0500</td>\n",
              "    </tr>\n",
              "  </tbody>\n",
              "</table>\n",
              "</div>"
            ],
            "text/plain": [
              "   Pclass     Sex   Age     Fare\n",
              "0       3    male  22.0   7.2500\n",
              "1       1  female  38.0  71.2833\n",
              "2       3  female  26.0   7.9250\n",
              "3       1  female  35.0  53.1000\n",
              "4       3    male  35.0   8.0500"
            ]
          },
          "metadata": {
            "tags": []
          },
          "execution_count": 6
        }
      ]
    },
    {
      "cell_type": "code",
      "metadata": {
        "colab": {
          "base_uri": "https://localhost:8080/",
          "height": 195
        },
        "id": "5C0L-nxmgirX",
        "outputId": "532ce008-6f27-4a83-bb99-c122e41620c5"
      },
      "source": [
        "train[label].head()"
      ],
      "execution_count": 7,
      "outputs": [
        {
          "output_type": "execute_result",
          "data": {
            "text/html": [
              "<div>\n",
              "<style scoped>\n",
              "    .dataframe tbody tr th:only-of-type {\n",
              "        vertical-align: middle;\n",
              "    }\n",
              "\n",
              "    .dataframe tbody tr th {\n",
              "        vertical-align: top;\n",
              "    }\n",
              "\n",
              "    .dataframe thead th {\n",
              "        text-align: right;\n",
              "    }\n",
              "</style>\n",
              "<table border=\"1\" class=\"dataframe\">\n",
              "  <thead>\n",
              "    <tr style=\"text-align: right;\">\n",
              "      <th></th>\n",
              "      <th>Survived</th>\n",
              "    </tr>\n",
              "  </thead>\n",
              "  <tbody>\n",
              "    <tr>\n",
              "      <th>0</th>\n",
              "      <td>0</td>\n",
              "    </tr>\n",
              "    <tr>\n",
              "      <th>1</th>\n",
              "      <td>1</td>\n",
              "    </tr>\n",
              "    <tr>\n",
              "      <th>2</th>\n",
              "      <td>1</td>\n",
              "    </tr>\n",
              "    <tr>\n",
              "      <th>3</th>\n",
              "      <td>1</td>\n",
              "    </tr>\n",
              "    <tr>\n",
              "      <th>4</th>\n",
              "      <td>0</td>\n",
              "    </tr>\n",
              "  </tbody>\n",
              "</table>\n",
              "</div>"
            ],
            "text/plain": [
              "   Survived\n",
              "0         0\n",
              "1         1\n",
              "2         1\n",
              "3         1\n",
              "4         0"
            ]
          },
          "metadata": {
            "tags": []
          },
          "execution_count": 7
        }
      ]
    },
    {
      "cell_type": "code",
      "metadata": {
        "id": "MGrbE8D1gsc5"
      },
      "source": [
        "from sklearn.model_selection import train_test_split"
      ],
      "execution_count": 8,
      "outputs": []
    },
    {
      "cell_type": "markdown",
      "metadata": {
        "id": "7dOLHxrCgyWd"
      },
      "source": [
        "return 받는 데이터의 순서 중요"
      ]
    },
    {
      "cell_type": "markdown",
      "metadata": {
        "id": "WkE7SG5shV4c"
      },
      "source": [
        "* test_size : validation set에 할당할 비율(20% = 0.2)\r\n",
        "\r\n",
        "* shuffle : 셔플 옵션(기본 True)\r\n",
        "\r\n",
        "* random_state : 랜덤 시드값"
      ]
    },
    {
      "cell_type": "code",
      "metadata": {
        "id": "JP0H65Pagsan"
      },
      "source": [
        "x_train, x_valid, y_train, y_valid = \\\r\n",
        "train_test_split(train[feature], train[label], test_size = 0.2, shuffle =True, random_state = 30)"
      ],
      "execution_count": 10,
      "outputs": []
    },
    {
      "cell_type": "code",
      "metadata": {
        "colab": {
          "base_uri": "https://localhost:8080/"
        },
        "id": "3WOBzmLggsXt",
        "outputId": "8f9f10bb-3921-481d-a0ff-979fb8deefd3"
      },
      "source": [
        "x_train.shape, y_train.shape"
      ],
      "execution_count": 11,
      "outputs": [
        {
          "output_type": "execute_result",
          "data": {
            "text/plain": [
              "((712, 4), (712, 1))"
            ]
          },
          "metadata": {
            "tags": []
          },
          "execution_count": 11
        }
      ]
    },
    {
      "cell_type": "code",
      "metadata": {
        "colab": {
          "base_uri": "https://localhost:8080/"
        },
        "id": "88sk8sR5gibM",
        "outputId": "994d448b-0d24-4f28-e14d-91e1de0ed8fc"
      },
      "source": [
        "x_valid.shape, y_valid.shape"
      ],
      "execution_count": 12,
      "outputs": [
        {
          "output_type": "execute_result",
          "data": {
            "text/plain": [
              "((179, 4), (179, 1))"
            ]
          },
          "metadata": {
            "tags": []
          },
          "execution_count": 12
        }
      ]
    },
    {
      "cell_type": "code",
      "metadata": {
        "id": "BxrVOEyfhsME"
      },
      "source": [
        ""
      ],
      "execution_count": null,
      "outputs": []
    }
  ]
}