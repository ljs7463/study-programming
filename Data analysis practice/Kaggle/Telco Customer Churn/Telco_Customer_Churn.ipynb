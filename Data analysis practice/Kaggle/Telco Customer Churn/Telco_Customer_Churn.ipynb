{
  "nbformat": 4,
  "nbformat_minor": 0,
  "metadata": {
    "colab": {
      "name": "Telco Customer Churn.ipynb",
      "provenance": [],
      "toc_visible": true,
      "include_colab_link": true
    },
    "kernelspec": {
      "name": "python3",
      "display_name": "Python 3"
    }
  },
  "cells": [
    {
      "cell_type": "markdown",
      "metadata": {
        "id": "view-in-github",
        "colab_type": "text"
      },
      "source": [
        "<a href=\"https://colab.research.google.com/github/ljs7463/study-repository/blob/master/Data%20analysis%20practice/Kaggle/Telco%20Customer%20Churn/Telco_Customer_Churn.ipynb\" target=\"_parent\"><img src=\"https://colab.research.google.com/assets/colab-badge.svg\" alt=\"Open In Colab\"/></a>"
      ]
    },
    {
      "cell_type": "code",
      "metadata": {
        "id": "d1ZAbvEZRqiq",
        "outputId": "933ab6e0-62c7-438b-e5c9-9025fdb84e06",
        "colab": {
          "base_uri": "https://localhost:8080/",
          "height": 173
        }
      },
      "source": [
        "!pip install matplotlib -U\n",
        "import matplotlib as mpl\n",
        "mpl.__version__"
      ],
      "execution_count": 1,
      "outputs": [
        {
          "output_type": "stream",
          "text": [
            "Requirement already up-to-date: matplotlib in /usr/local/lib/python3.7/dist-packages (3.4.2)\n",
            "Requirement already satisfied, skipping upgrade: pyparsing>=2.2.1 in /usr/local/lib/python3.7/dist-packages (from matplotlib) (2.4.7)\n",
            "Requirement already satisfied, skipping upgrade: numpy>=1.16 in /usr/local/lib/python3.7/dist-packages (from matplotlib) (1.19.5)\n",
            "Requirement already satisfied, skipping upgrade: python-dateutil>=2.7 in /usr/local/lib/python3.7/dist-packages (from matplotlib) (2.8.1)\n",
            "Requirement already satisfied, skipping upgrade: cycler>=0.10 in /usr/local/lib/python3.7/dist-packages (from matplotlib) (0.10.0)\n",
            "Requirement already satisfied, skipping upgrade: kiwisolver>=1.0.1 in /usr/local/lib/python3.7/dist-packages (from matplotlib) (1.3.1)\n",
            "Requirement already satisfied, skipping upgrade: pillow>=6.2.0 in /usr/local/lib/python3.7/dist-packages (from matplotlib) (7.1.2)\n",
            "Requirement already satisfied, skipping upgrade: six>=1.5 in /usr/local/lib/python3.7/dist-packages (from python-dateutil>=2.7->matplotlib) (1.15.0)\n"
          ],
          "name": "stdout"
        },
        {
          "output_type": "execute_result",
          "data": {
            "application/vnd.google.colaboratory.intrinsic+json": {
              "type": "string"
            },
            "text/plain": [
              "'3.4.2'"
            ]
          },
          "metadata": {
            "tags": []
          },
          "execution_count": 1
        }
      ]
    },
    {
      "cell_type": "markdown",
      "metadata": {
        "id": "3AIiOHZU_LIP"
      },
      "source": [
        "# 프로젝트 : Telco Customer Churn 고객 유지를 위한 행동 예측(이탈 방지)"
      ]
    },
    {
      "cell_type": "markdown",
      "metadata": {
        "id": "cLI4R68a4P7W"
      },
      "source": [
        "시각화 자료의 파스텔 색상은 어떤걸로??: 분야에서 통용되는 범위 내에서 상사가 좋아하는 색상, 분야에 통용되는 색은 무엇일까??"
      ]
    },
    {
      "cell_type": "markdown",
      "metadata": {
        "id": "oEzb_UxX8p4c"
      },
      "source": [
        "customerID : 고객 id\n",
        "\n",
        "gender : 성별\n",
        "\n",
        "SeniorCitizen : 고령자(yes:1, no:0)\n",
        "\n",
        "Partner : 파트너\n",
        "\n",
        "Dependents : 부양 가족\n",
        "\n",
        "tenure : 보유 개월 수(고객이 머물렀던 개월 수)\n",
        "\n",
        "PhoneService : 휴대폰 서비스\n",
        "\n",
        "MultipleLines : 여러회선 여부( 예, 아니오, 전화 서비스 없음)\n",
        "\n",
        "InternetService : 인터넷 서비스(인터넷 서비스 제공없체: DSL, 광섬유, 아니요)\n",
        "\n",
        "OnlineSecurity : 온라인 보안 여부(예, 아니오, 전화서비스 없음)\n",
        "\n",
        "OnlineBackup : 온라인 백업 여부(예, 아니오, 전화서비스 없음)\n",
        "\n",
        "DeviceProtection : 장치보호 여부(예, 아니요, 인터넷 서비스 없음)\n",
        "\n",
        "TechSupport : 기술지원 여부(예, 아니요, 인터넷 서비스 없음)\n",
        "\n",
        "StreamingTV : StreamingTV보유 여부(예, 아니요, 인터넷 서비스 없음)\n",
        "\n",
        "StreamingMovies : 스트리밍 영화 보유 여부(예, 아니요, 인터넷 서비스 없음)\n",
        "\n",
        "Contract : 계약(계약기간 월간, 1년, 2년)\n",
        "\n",
        "PaperlessBilling : 종이없는 결제(예, 아니요)\n",
        "\n",
        "PaymentMethod : 고객의 결제 수단 (전자 수표, 우편 수표, 은행 송금 (자동), 신용 카드 (자동))\n",
        "\n",
        "MonthlyCharges : 월간 요금\n",
        "\n",
        "TotalCharges : 총 요금\n",
        "\n",
        "Churn : 지난달 퇴사한 고객"
      ]
    },
    {
      "cell_type": "code",
      "metadata": {
        "colab": {
          "base_uri": "https://localhost:8080/"
        },
        "id": "uK-Fo-RKbdWC",
        "outputId": "d188f39b-8f0a-4ac1-b99b-e3cbc5850be0"
      },
      "source": [
        "from google.colab import drive\n",
        "drive.mount('/content/Mydrive')"
      ],
      "execution_count": 2,
      "outputs": [
        {
          "output_type": "stream",
          "text": [
            "Drive already mounted at /content/Mydrive; to attempt to forcibly remount, call drive.mount(\"/content/Mydrive\", force_remount=True).\n"
          ],
          "name": "stdout"
        }
      ]
    },
    {
      "cell_type": "code",
      "metadata": {
        "id": "6uevY6V2bgI6"
      },
      "source": [
        "import pandas as pd\n",
        "import matplotlib.pyplot as plt\n",
        "import seaborn as sns\n",
        "import numpy as np"
      ],
      "execution_count": 3,
      "outputs": []
    },
    {
      "cell_type": "code",
      "metadata": {
        "id": "E3lfNNOrbuxl"
      },
      "source": [
        "data = pd.read_csv('/content/Mydrive/MyDrive/datascience/WA_Fn-UseC_-Telco-Customer-Churn.csv')"
      ],
      "execution_count": 4,
      "outputs": []
    },
    {
      "cell_type": "code",
      "metadata": {
        "id": "b4Y76g3-MJog"
      },
      "source": [
        "# pd.DataFrame(abs(data.corr()['Churn']).sort_values(ascending = False))"
      ],
      "execution_count": 5,
      "outputs": []
    },
    {
      "cell_type": "markdown",
      "metadata": {
        "id": "2fCbPaOmG7Ln"
      },
      "source": [
        "# 데이터 확인하기"
      ]
    },
    {
      "cell_type": "code",
      "metadata": {
        "colab": {
          "base_uri": "https://localhost:8080/",
          "height": 565
        },
        "id": "cd4vIC3Gb2-Z",
        "outputId": "88e7edfe-1364-48e4-e435-a61065439b16"
      },
      "source": [
        "data"
      ],
      "execution_count": 6,
      "outputs": [
        {
          "output_type": "execute_result",
          "data": {
            "text/html": [
              "<div>\n",
              "<style scoped>\n",
              "    .dataframe tbody tr th:only-of-type {\n",
              "        vertical-align: middle;\n",
              "    }\n",
              "\n",
              "    .dataframe tbody tr th {\n",
              "        vertical-align: top;\n",
              "    }\n",
              "\n",
              "    .dataframe thead th {\n",
              "        text-align: right;\n",
              "    }\n",
              "</style>\n",
              "<table border=\"1\" class=\"dataframe\">\n",
              "  <thead>\n",
              "    <tr style=\"text-align: right;\">\n",
              "      <th></th>\n",
              "      <th>customerID</th>\n",
              "      <th>gender</th>\n",
              "      <th>SeniorCitizen</th>\n",
              "      <th>Partner</th>\n",
              "      <th>Dependents</th>\n",
              "      <th>tenure</th>\n",
              "      <th>PhoneService</th>\n",
              "      <th>MultipleLines</th>\n",
              "      <th>InternetService</th>\n",
              "      <th>OnlineSecurity</th>\n",
              "      <th>OnlineBackup</th>\n",
              "      <th>DeviceProtection</th>\n",
              "      <th>TechSupport</th>\n",
              "      <th>StreamingTV</th>\n",
              "      <th>StreamingMovies</th>\n",
              "      <th>Contract</th>\n",
              "      <th>PaperlessBilling</th>\n",
              "      <th>PaymentMethod</th>\n",
              "      <th>MonthlyCharges</th>\n",
              "      <th>TotalCharges</th>\n",
              "      <th>Churn</th>\n",
              "    </tr>\n",
              "  </thead>\n",
              "  <tbody>\n",
              "    <tr>\n",
              "      <th>0</th>\n",
              "      <td>7590-VHVEG</td>\n",
              "      <td>Female</td>\n",
              "      <td>0</td>\n",
              "      <td>Yes</td>\n",
              "      <td>No</td>\n",
              "      <td>1</td>\n",
              "      <td>No</td>\n",
              "      <td>No phone service</td>\n",
              "      <td>DSL</td>\n",
              "      <td>No</td>\n",
              "      <td>Yes</td>\n",
              "      <td>No</td>\n",
              "      <td>No</td>\n",
              "      <td>No</td>\n",
              "      <td>No</td>\n",
              "      <td>Month-to-month</td>\n",
              "      <td>Yes</td>\n",
              "      <td>Electronic check</td>\n",
              "      <td>29.85</td>\n",
              "      <td>29.85</td>\n",
              "      <td>No</td>\n",
              "    </tr>\n",
              "    <tr>\n",
              "      <th>1</th>\n",
              "      <td>5575-GNVDE</td>\n",
              "      <td>Male</td>\n",
              "      <td>0</td>\n",
              "      <td>No</td>\n",
              "      <td>No</td>\n",
              "      <td>34</td>\n",
              "      <td>Yes</td>\n",
              "      <td>No</td>\n",
              "      <td>DSL</td>\n",
              "      <td>Yes</td>\n",
              "      <td>No</td>\n",
              "      <td>Yes</td>\n",
              "      <td>No</td>\n",
              "      <td>No</td>\n",
              "      <td>No</td>\n",
              "      <td>One year</td>\n",
              "      <td>No</td>\n",
              "      <td>Mailed check</td>\n",
              "      <td>56.95</td>\n",
              "      <td>1889.5</td>\n",
              "      <td>No</td>\n",
              "    </tr>\n",
              "    <tr>\n",
              "      <th>2</th>\n",
              "      <td>3668-QPYBK</td>\n",
              "      <td>Male</td>\n",
              "      <td>0</td>\n",
              "      <td>No</td>\n",
              "      <td>No</td>\n",
              "      <td>2</td>\n",
              "      <td>Yes</td>\n",
              "      <td>No</td>\n",
              "      <td>DSL</td>\n",
              "      <td>Yes</td>\n",
              "      <td>Yes</td>\n",
              "      <td>No</td>\n",
              "      <td>No</td>\n",
              "      <td>No</td>\n",
              "      <td>No</td>\n",
              "      <td>Month-to-month</td>\n",
              "      <td>Yes</td>\n",
              "      <td>Mailed check</td>\n",
              "      <td>53.85</td>\n",
              "      <td>108.15</td>\n",
              "      <td>Yes</td>\n",
              "    </tr>\n",
              "    <tr>\n",
              "      <th>3</th>\n",
              "      <td>7795-CFOCW</td>\n",
              "      <td>Male</td>\n",
              "      <td>0</td>\n",
              "      <td>No</td>\n",
              "      <td>No</td>\n",
              "      <td>45</td>\n",
              "      <td>No</td>\n",
              "      <td>No phone service</td>\n",
              "      <td>DSL</td>\n",
              "      <td>Yes</td>\n",
              "      <td>No</td>\n",
              "      <td>Yes</td>\n",
              "      <td>Yes</td>\n",
              "      <td>No</td>\n",
              "      <td>No</td>\n",
              "      <td>One year</td>\n",
              "      <td>No</td>\n",
              "      <td>Bank transfer (automatic)</td>\n",
              "      <td>42.30</td>\n",
              "      <td>1840.75</td>\n",
              "      <td>No</td>\n",
              "    </tr>\n",
              "    <tr>\n",
              "      <th>4</th>\n",
              "      <td>9237-HQITU</td>\n",
              "      <td>Female</td>\n",
              "      <td>0</td>\n",
              "      <td>No</td>\n",
              "      <td>No</td>\n",
              "      <td>2</td>\n",
              "      <td>Yes</td>\n",
              "      <td>No</td>\n",
              "      <td>Fiber optic</td>\n",
              "      <td>No</td>\n",
              "      <td>No</td>\n",
              "      <td>No</td>\n",
              "      <td>No</td>\n",
              "      <td>No</td>\n",
              "      <td>No</td>\n",
              "      <td>Month-to-month</td>\n",
              "      <td>Yes</td>\n",
              "      <td>Electronic check</td>\n",
              "      <td>70.70</td>\n",
              "      <td>151.65</td>\n",
              "      <td>Yes</td>\n",
              "    </tr>\n",
              "    <tr>\n",
              "      <th>...</th>\n",
              "      <td>...</td>\n",
              "      <td>...</td>\n",
              "      <td>...</td>\n",
              "      <td>...</td>\n",
              "      <td>...</td>\n",
              "      <td>...</td>\n",
              "      <td>...</td>\n",
              "      <td>...</td>\n",
              "      <td>...</td>\n",
              "      <td>...</td>\n",
              "      <td>...</td>\n",
              "      <td>...</td>\n",
              "      <td>...</td>\n",
              "      <td>...</td>\n",
              "      <td>...</td>\n",
              "      <td>...</td>\n",
              "      <td>...</td>\n",
              "      <td>...</td>\n",
              "      <td>...</td>\n",
              "      <td>...</td>\n",
              "      <td>...</td>\n",
              "    </tr>\n",
              "    <tr>\n",
              "      <th>7038</th>\n",
              "      <td>6840-RESVB</td>\n",
              "      <td>Male</td>\n",
              "      <td>0</td>\n",
              "      <td>Yes</td>\n",
              "      <td>Yes</td>\n",
              "      <td>24</td>\n",
              "      <td>Yes</td>\n",
              "      <td>Yes</td>\n",
              "      <td>DSL</td>\n",
              "      <td>Yes</td>\n",
              "      <td>No</td>\n",
              "      <td>Yes</td>\n",
              "      <td>Yes</td>\n",
              "      <td>Yes</td>\n",
              "      <td>Yes</td>\n",
              "      <td>One year</td>\n",
              "      <td>Yes</td>\n",
              "      <td>Mailed check</td>\n",
              "      <td>84.80</td>\n",
              "      <td>1990.5</td>\n",
              "      <td>No</td>\n",
              "    </tr>\n",
              "    <tr>\n",
              "      <th>7039</th>\n",
              "      <td>2234-XADUH</td>\n",
              "      <td>Female</td>\n",
              "      <td>0</td>\n",
              "      <td>Yes</td>\n",
              "      <td>Yes</td>\n",
              "      <td>72</td>\n",
              "      <td>Yes</td>\n",
              "      <td>Yes</td>\n",
              "      <td>Fiber optic</td>\n",
              "      <td>No</td>\n",
              "      <td>Yes</td>\n",
              "      <td>Yes</td>\n",
              "      <td>No</td>\n",
              "      <td>Yes</td>\n",
              "      <td>Yes</td>\n",
              "      <td>One year</td>\n",
              "      <td>Yes</td>\n",
              "      <td>Credit card (automatic)</td>\n",
              "      <td>103.20</td>\n",
              "      <td>7362.9</td>\n",
              "      <td>No</td>\n",
              "    </tr>\n",
              "    <tr>\n",
              "      <th>7040</th>\n",
              "      <td>4801-JZAZL</td>\n",
              "      <td>Female</td>\n",
              "      <td>0</td>\n",
              "      <td>Yes</td>\n",
              "      <td>Yes</td>\n",
              "      <td>11</td>\n",
              "      <td>No</td>\n",
              "      <td>No phone service</td>\n",
              "      <td>DSL</td>\n",
              "      <td>Yes</td>\n",
              "      <td>No</td>\n",
              "      <td>No</td>\n",
              "      <td>No</td>\n",
              "      <td>No</td>\n",
              "      <td>No</td>\n",
              "      <td>Month-to-month</td>\n",
              "      <td>Yes</td>\n",
              "      <td>Electronic check</td>\n",
              "      <td>29.60</td>\n",
              "      <td>346.45</td>\n",
              "      <td>No</td>\n",
              "    </tr>\n",
              "    <tr>\n",
              "      <th>7041</th>\n",
              "      <td>8361-LTMKD</td>\n",
              "      <td>Male</td>\n",
              "      <td>1</td>\n",
              "      <td>Yes</td>\n",
              "      <td>No</td>\n",
              "      <td>4</td>\n",
              "      <td>Yes</td>\n",
              "      <td>Yes</td>\n",
              "      <td>Fiber optic</td>\n",
              "      <td>No</td>\n",
              "      <td>No</td>\n",
              "      <td>No</td>\n",
              "      <td>No</td>\n",
              "      <td>No</td>\n",
              "      <td>No</td>\n",
              "      <td>Month-to-month</td>\n",
              "      <td>Yes</td>\n",
              "      <td>Mailed check</td>\n",
              "      <td>74.40</td>\n",
              "      <td>306.6</td>\n",
              "      <td>Yes</td>\n",
              "    </tr>\n",
              "    <tr>\n",
              "      <th>7042</th>\n",
              "      <td>3186-AJIEK</td>\n",
              "      <td>Male</td>\n",
              "      <td>0</td>\n",
              "      <td>No</td>\n",
              "      <td>No</td>\n",
              "      <td>66</td>\n",
              "      <td>Yes</td>\n",
              "      <td>No</td>\n",
              "      <td>Fiber optic</td>\n",
              "      <td>Yes</td>\n",
              "      <td>No</td>\n",
              "      <td>Yes</td>\n",
              "      <td>Yes</td>\n",
              "      <td>Yes</td>\n",
              "      <td>Yes</td>\n",
              "      <td>Two year</td>\n",
              "      <td>Yes</td>\n",
              "      <td>Bank transfer (automatic)</td>\n",
              "      <td>105.65</td>\n",
              "      <td>6844.5</td>\n",
              "      <td>No</td>\n",
              "    </tr>\n",
              "  </tbody>\n",
              "</table>\n",
              "<p>7043 rows × 21 columns</p>\n",
              "</div>"
            ],
            "text/plain": [
              "      customerID  gender  SeniorCitizen  ... MonthlyCharges TotalCharges  Churn\n",
              "0     7590-VHVEG  Female              0  ...          29.85        29.85     No\n",
              "1     5575-GNVDE    Male              0  ...          56.95       1889.5     No\n",
              "2     3668-QPYBK    Male              0  ...          53.85       108.15    Yes\n",
              "3     7795-CFOCW    Male              0  ...          42.30      1840.75     No\n",
              "4     9237-HQITU  Female              0  ...          70.70       151.65    Yes\n",
              "...          ...     ...            ...  ...            ...          ...    ...\n",
              "7038  6840-RESVB    Male              0  ...          84.80       1990.5     No\n",
              "7039  2234-XADUH  Female              0  ...         103.20       7362.9     No\n",
              "7040  4801-JZAZL  Female              0  ...          29.60       346.45     No\n",
              "7041  8361-LTMKD    Male              1  ...          74.40        306.6    Yes\n",
              "7042  3186-AJIEK    Male              0  ...         105.65       6844.5     No\n",
              "\n",
              "[7043 rows x 21 columns]"
            ]
          },
          "metadata": {
            "tags": []
          },
          "execution_count": 6
        }
      ]
    },
    {
      "cell_type": "code",
      "metadata": {
        "colab": {
          "base_uri": "https://localhost:8080/"
        },
        "id": "1l4o0kCRHGWz",
        "outputId": "da988e04-aa42-42e1-a64b-7673eb41de0c"
      },
      "source": [
        "data.info()"
      ],
      "execution_count": 7,
      "outputs": [
        {
          "output_type": "stream",
          "text": [
            "<class 'pandas.core.frame.DataFrame'>\n",
            "RangeIndex: 7043 entries, 0 to 7042\n",
            "Data columns (total 21 columns):\n",
            " #   Column            Non-Null Count  Dtype  \n",
            "---  ------            --------------  -----  \n",
            " 0   customerID        7043 non-null   object \n",
            " 1   gender            7043 non-null   object \n",
            " 2   SeniorCitizen     7043 non-null   int64  \n",
            " 3   Partner           7043 non-null   object \n",
            " 4   Dependents        7043 non-null   object \n",
            " 5   tenure            7043 non-null   int64  \n",
            " 6   PhoneService      7043 non-null   object \n",
            " 7   MultipleLines     7043 non-null   object \n",
            " 8   InternetService   7043 non-null   object \n",
            " 9   OnlineSecurity    7043 non-null   object \n",
            " 10  OnlineBackup      7043 non-null   object \n",
            " 11  DeviceProtection  7043 non-null   object \n",
            " 12  TechSupport       7043 non-null   object \n",
            " 13  StreamingTV       7043 non-null   object \n",
            " 14  StreamingMovies   7043 non-null   object \n",
            " 15  Contract          7043 non-null   object \n",
            " 16  PaperlessBilling  7043 non-null   object \n",
            " 17  PaymentMethod     7043 non-null   object \n",
            " 18  MonthlyCharges    7043 non-null   float64\n",
            " 19  TotalCharges      7043 non-null   object \n",
            " 20  Churn             7043 non-null   object \n",
            "dtypes: float64(1), int64(2), object(18)\n",
            "memory usage: 1.1+ MB\n"
          ],
          "name": "stdout"
        }
      ]
    },
    {
      "cell_type": "code",
      "metadata": {
        "colab": {
          "base_uri": "https://localhost:8080/"
        },
        "id": "3C4RTfIQG_PD",
        "outputId": "4d932c62-64c1-479e-b40a-bbace6e8e078"
      },
      "source": [
        "data.isnull().sum()"
      ],
      "execution_count": 8,
      "outputs": [
        {
          "output_type": "execute_result",
          "data": {
            "text/plain": [
              "customerID          0\n",
              "gender              0\n",
              "SeniorCitizen       0\n",
              "Partner             0\n",
              "Dependents          0\n",
              "tenure              0\n",
              "PhoneService        0\n",
              "MultipleLines       0\n",
              "InternetService     0\n",
              "OnlineSecurity      0\n",
              "OnlineBackup        0\n",
              "DeviceProtection    0\n",
              "TechSupport         0\n",
              "StreamingTV         0\n",
              "StreamingMovies     0\n",
              "Contract            0\n",
              "PaperlessBilling    0\n",
              "PaymentMethod       0\n",
              "MonthlyCharges      0\n",
              "TotalCharges        0\n",
              "Churn               0\n",
              "dtype: int64"
            ]
          },
          "metadata": {
            "tags": []
          },
          "execution_count": 8
        }
      ]
    },
    {
      "cell_type": "markdown",
      "metadata": {
        "id": "b0amGITja1nA"
      },
      "source": [
        "빈 값이 없다, 7043개의 데이터가 존재한다."
      ]
    },
    {
      "cell_type": "code",
      "metadata": {
        "colab": {
          "base_uri": "https://localhost:8080/",
          "height": 288
        },
        "id": "SwbQ43odHI77",
        "outputId": "572eeff0-401d-4032-d65d-1c8af5976684"
      },
      "source": [
        "data.describe()"
      ],
      "execution_count": 9,
      "outputs": [
        {
          "output_type": "execute_result",
          "data": {
            "text/html": [
              "<div>\n",
              "<style scoped>\n",
              "    .dataframe tbody tr th:only-of-type {\n",
              "        vertical-align: middle;\n",
              "    }\n",
              "\n",
              "    .dataframe tbody tr th {\n",
              "        vertical-align: top;\n",
              "    }\n",
              "\n",
              "    .dataframe thead th {\n",
              "        text-align: right;\n",
              "    }\n",
              "</style>\n",
              "<table border=\"1\" class=\"dataframe\">\n",
              "  <thead>\n",
              "    <tr style=\"text-align: right;\">\n",
              "      <th></th>\n",
              "      <th>SeniorCitizen</th>\n",
              "      <th>tenure</th>\n",
              "      <th>MonthlyCharges</th>\n",
              "    </tr>\n",
              "  </thead>\n",
              "  <tbody>\n",
              "    <tr>\n",
              "      <th>count</th>\n",
              "      <td>7043.000000</td>\n",
              "      <td>7043.000000</td>\n",
              "      <td>7043.000000</td>\n",
              "    </tr>\n",
              "    <tr>\n",
              "      <th>mean</th>\n",
              "      <td>0.162147</td>\n",
              "      <td>32.371149</td>\n",
              "      <td>64.761692</td>\n",
              "    </tr>\n",
              "    <tr>\n",
              "      <th>std</th>\n",
              "      <td>0.368612</td>\n",
              "      <td>24.559481</td>\n",
              "      <td>30.090047</td>\n",
              "    </tr>\n",
              "    <tr>\n",
              "      <th>min</th>\n",
              "      <td>0.000000</td>\n",
              "      <td>0.000000</td>\n",
              "      <td>18.250000</td>\n",
              "    </tr>\n",
              "    <tr>\n",
              "      <th>25%</th>\n",
              "      <td>0.000000</td>\n",
              "      <td>9.000000</td>\n",
              "      <td>35.500000</td>\n",
              "    </tr>\n",
              "    <tr>\n",
              "      <th>50%</th>\n",
              "      <td>0.000000</td>\n",
              "      <td>29.000000</td>\n",
              "      <td>70.350000</td>\n",
              "    </tr>\n",
              "    <tr>\n",
              "      <th>75%</th>\n",
              "      <td>0.000000</td>\n",
              "      <td>55.000000</td>\n",
              "      <td>89.850000</td>\n",
              "    </tr>\n",
              "    <tr>\n",
              "      <th>max</th>\n",
              "      <td>1.000000</td>\n",
              "      <td>72.000000</td>\n",
              "      <td>118.750000</td>\n",
              "    </tr>\n",
              "  </tbody>\n",
              "</table>\n",
              "</div>"
            ],
            "text/plain": [
              "       SeniorCitizen       tenure  MonthlyCharges\n",
              "count    7043.000000  7043.000000     7043.000000\n",
              "mean        0.162147    32.371149       64.761692\n",
              "std         0.368612    24.559481       30.090047\n",
              "min         0.000000     0.000000       18.250000\n",
              "25%         0.000000     9.000000       35.500000\n",
              "50%         0.000000    29.000000       70.350000\n",
              "75%         0.000000    55.000000       89.850000\n",
              "max         1.000000    72.000000      118.750000"
            ]
          },
          "metadata": {
            "tags": []
          },
          "execution_count": 9
        }
      ]
    },
    {
      "cell_type": "markdown",
      "metadata": {
        "id": "FQoxDRrhbbUl"
      },
      "source": [
        "고객아이디는 불필요한 정보이다."
      ]
    },
    {
      "cell_type": "code",
      "metadata": {
        "id": "T5XxODQrZyDk",
        "colab": {
          "base_uri": "https://localhost:8080/",
          "height": 565
        },
        "outputId": "61820e2c-be3f-4681-8b15-ef48c0cf9436"
      },
      "source": [
        "data = data.iloc[:,1:]\n",
        "data"
      ],
      "execution_count": 10,
      "outputs": [
        {
          "output_type": "execute_result",
          "data": {
            "text/html": [
              "<div>\n",
              "<style scoped>\n",
              "    .dataframe tbody tr th:only-of-type {\n",
              "        vertical-align: middle;\n",
              "    }\n",
              "\n",
              "    .dataframe tbody tr th {\n",
              "        vertical-align: top;\n",
              "    }\n",
              "\n",
              "    .dataframe thead th {\n",
              "        text-align: right;\n",
              "    }\n",
              "</style>\n",
              "<table border=\"1\" class=\"dataframe\">\n",
              "  <thead>\n",
              "    <tr style=\"text-align: right;\">\n",
              "      <th></th>\n",
              "      <th>gender</th>\n",
              "      <th>SeniorCitizen</th>\n",
              "      <th>Partner</th>\n",
              "      <th>Dependents</th>\n",
              "      <th>tenure</th>\n",
              "      <th>PhoneService</th>\n",
              "      <th>MultipleLines</th>\n",
              "      <th>InternetService</th>\n",
              "      <th>OnlineSecurity</th>\n",
              "      <th>OnlineBackup</th>\n",
              "      <th>DeviceProtection</th>\n",
              "      <th>TechSupport</th>\n",
              "      <th>StreamingTV</th>\n",
              "      <th>StreamingMovies</th>\n",
              "      <th>Contract</th>\n",
              "      <th>PaperlessBilling</th>\n",
              "      <th>PaymentMethod</th>\n",
              "      <th>MonthlyCharges</th>\n",
              "      <th>TotalCharges</th>\n",
              "      <th>Churn</th>\n",
              "    </tr>\n",
              "  </thead>\n",
              "  <tbody>\n",
              "    <tr>\n",
              "      <th>0</th>\n",
              "      <td>Female</td>\n",
              "      <td>0</td>\n",
              "      <td>Yes</td>\n",
              "      <td>No</td>\n",
              "      <td>1</td>\n",
              "      <td>No</td>\n",
              "      <td>No phone service</td>\n",
              "      <td>DSL</td>\n",
              "      <td>No</td>\n",
              "      <td>Yes</td>\n",
              "      <td>No</td>\n",
              "      <td>No</td>\n",
              "      <td>No</td>\n",
              "      <td>No</td>\n",
              "      <td>Month-to-month</td>\n",
              "      <td>Yes</td>\n",
              "      <td>Electronic check</td>\n",
              "      <td>29.85</td>\n",
              "      <td>29.85</td>\n",
              "      <td>No</td>\n",
              "    </tr>\n",
              "    <tr>\n",
              "      <th>1</th>\n",
              "      <td>Male</td>\n",
              "      <td>0</td>\n",
              "      <td>No</td>\n",
              "      <td>No</td>\n",
              "      <td>34</td>\n",
              "      <td>Yes</td>\n",
              "      <td>No</td>\n",
              "      <td>DSL</td>\n",
              "      <td>Yes</td>\n",
              "      <td>No</td>\n",
              "      <td>Yes</td>\n",
              "      <td>No</td>\n",
              "      <td>No</td>\n",
              "      <td>No</td>\n",
              "      <td>One year</td>\n",
              "      <td>No</td>\n",
              "      <td>Mailed check</td>\n",
              "      <td>56.95</td>\n",
              "      <td>1889.5</td>\n",
              "      <td>No</td>\n",
              "    </tr>\n",
              "    <tr>\n",
              "      <th>2</th>\n",
              "      <td>Male</td>\n",
              "      <td>0</td>\n",
              "      <td>No</td>\n",
              "      <td>No</td>\n",
              "      <td>2</td>\n",
              "      <td>Yes</td>\n",
              "      <td>No</td>\n",
              "      <td>DSL</td>\n",
              "      <td>Yes</td>\n",
              "      <td>Yes</td>\n",
              "      <td>No</td>\n",
              "      <td>No</td>\n",
              "      <td>No</td>\n",
              "      <td>No</td>\n",
              "      <td>Month-to-month</td>\n",
              "      <td>Yes</td>\n",
              "      <td>Mailed check</td>\n",
              "      <td>53.85</td>\n",
              "      <td>108.15</td>\n",
              "      <td>Yes</td>\n",
              "    </tr>\n",
              "    <tr>\n",
              "      <th>3</th>\n",
              "      <td>Male</td>\n",
              "      <td>0</td>\n",
              "      <td>No</td>\n",
              "      <td>No</td>\n",
              "      <td>45</td>\n",
              "      <td>No</td>\n",
              "      <td>No phone service</td>\n",
              "      <td>DSL</td>\n",
              "      <td>Yes</td>\n",
              "      <td>No</td>\n",
              "      <td>Yes</td>\n",
              "      <td>Yes</td>\n",
              "      <td>No</td>\n",
              "      <td>No</td>\n",
              "      <td>One year</td>\n",
              "      <td>No</td>\n",
              "      <td>Bank transfer (automatic)</td>\n",
              "      <td>42.30</td>\n",
              "      <td>1840.75</td>\n",
              "      <td>No</td>\n",
              "    </tr>\n",
              "    <tr>\n",
              "      <th>4</th>\n",
              "      <td>Female</td>\n",
              "      <td>0</td>\n",
              "      <td>No</td>\n",
              "      <td>No</td>\n",
              "      <td>2</td>\n",
              "      <td>Yes</td>\n",
              "      <td>No</td>\n",
              "      <td>Fiber optic</td>\n",
              "      <td>No</td>\n",
              "      <td>No</td>\n",
              "      <td>No</td>\n",
              "      <td>No</td>\n",
              "      <td>No</td>\n",
              "      <td>No</td>\n",
              "      <td>Month-to-month</td>\n",
              "      <td>Yes</td>\n",
              "      <td>Electronic check</td>\n",
              "      <td>70.70</td>\n",
              "      <td>151.65</td>\n",
              "      <td>Yes</td>\n",
              "    </tr>\n",
              "    <tr>\n",
              "      <th>...</th>\n",
              "      <td>...</td>\n",
              "      <td>...</td>\n",
              "      <td>...</td>\n",
              "      <td>...</td>\n",
              "      <td>...</td>\n",
              "      <td>...</td>\n",
              "      <td>...</td>\n",
              "      <td>...</td>\n",
              "      <td>...</td>\n",
              "      <td>...</td>\n",
              "      <td>...</td>\n",
              "      <td>...</td>\n",
              "      <td>...</td>\n",
              "      <td>...</td>\n",
              "      <td>...</td>\n",
              "      <td>...</td>\n",
              "      <td>...</td>\n",
              "      <td>...</td>\n",
              "      <td>...</td>\n",
              "      <td>...</td>\n",
              "    </tr>\n",
              "    <tr>\n",
              "      <th>7038</th>\n",
              "      <td>Male</td>\n",
              "      <td>0</td>\n",
              "      <td>Yes</td>\n",
              "      <td>Yes</td>\n",
              "      <td>24</td>\n",
              "      <td>Yes</td>\n",
              "      <td>Yes</td>\n",
              "      <td>DSL</td>\n",
              "      <td>Yes</td>\n",
              "      <td>No</td>\n",
              "      <td>Yes</td>\n",
              "      <td>Yes</td>\n",
              "      <td>Yes</td>\n",
              "      <td>Yes</td>\n",
              "      <td>One year</td>\n",
              "      <td>Yes</td>\n",
              "      <td>Mailed check</td>\n",
              "      <td>84.80</td>\n",
              "      <td>1990.5</td>\n",
              "      <td>No</td>\n",
              "    </tr>\n",
              "    <tr>\n",
              "      <th>7039</th>\n",
              "      <td>Female</td>\n",
              "      <td>0</td>\n",
              "      <td>Yes</td>\n",
              "      <td>Yes</td>\n",
              "      <td>72</td>\n",
              "      <td>Yes</td>\n",
              "      <td>Yes</td>\n",
              "      <td>Fiber optic</td>\n",
              "      <td>No</td>\n",
              "      <td>Yes</td>\n",
              "      <td>Yes</td>\n",
              "      <td>No</td>\n",
              "      <td>Yes</td>\n",
              "      <td>Yes</td>\n",
              "      <td>One year</td>\n",
              "      <td>Yes</td>\n",
              "      <td>Credit card (automatic)</td>\n",
              "      <td>103.20</td>\n",
              "      <td>7362.9</td>\n",
              "      <td>No</td>\n",
              "    </tr>\n",
              "    <tr>\n",
              "      <th>7040</th>\n",
              "      <td>Female</td>\n",
              "      <td>0</td>\n",
              "      <td>Yes</td>\n",
              "      <td>Yes</td>\n",
              "      <td>11</td>\n",
              "      <td>No</td>\n",
              "      <td>No phone service</td>\n",
              "      <td>DSL</td>\n",
              "      <td>Yes</td>\n",
              "      <td>No</td>\n",
              "      <td>No</td>\n",
              "      <td>No</td>\n",
              "      <td>No</td>\n",
              "      <td>No</td>\n",
              "      <td>Month-to-month</td>\n",
              "      <td>Yes</td>\n",
              "      <td>Electronic check</td>\n",
              "      <td>29.60</td>\n",
              "      <td>346.45</td>\n",
              "      <td>No</td>\n",
              "    </tr>\n",
              "    <tr>\n",
              "      <th>7041</th>\n",
              "      <td>Male</td>\n",
              "      <td>1</td>\n",
              "      <td>Yes</td>\n",
              "      <td>No</td>\n",
              "      <td>4</td>\n",
              "      <td>Yes</td>\n",
              "      <td>Yes</td>\n",
              "      <td>Fiber optic</td>\n",
              "      <td>No</td>\n",
              "      <td>No</td>\n",
              "      <td>No</td>\n",
              "      <td>No</td>\n",
              "      <td>No</td>\n",
              "      <td>No</td>\n",
              "      <td>Month-to-month</td>\n",
              "      <td>Yes</td>\n",
              "      <td>Mailed check</td>\n",
              "      <td>74.40</td>\n",
              "      <td>306.6</td>\n",
              "      <td>Yes</td>\n",
              "    </tr>\n",
              "    <tr>\n",
              "      <th>7042</th>\n",
              "      <td>Male</td>\n",
              "      <td>0</td>\n",
              "      <td>No</td>\n",
              "      <td>No</td>\n",
              "      <td>66</td>\n",
              "      <td>Yes</td>\n",
              "      <td>No</td>\n",
              "      <td>Fiber optic</td>\n",
              "      <td>Yes</td>\n",
              "      <td>No</td>\n",
              "      <td>Yes</td>\n",
              "      <td>Yes</td>\n",
              "      <td>Yes</td>\n",
              "      <td>Yes</td>\n",
              "      <td>Two year</td>\n",
              "      <td>Yes</td>\n",
              "      <td>Bank transfer (automatic)</td>\n",
              "      <td>105.65</td>\n",
              "      <td>6844.5</td>\n",
              "      <td>No</td>\n",
              "    </tr>\n",
              "  </tbody>\n",
              "</table>\n",
              "<p>7043 rows × 20 columns</p>\n",
              "</div>"
            ],
            "text/plain": [
              "      gender  SeniorCitizen Partner  ... MonthlyCharges  TotalCharges Churn\n",
              "0     Female              0     Yes  ...          29.85         29.85    No\n",
              "1       Male              0      No  ...          56.95        1889.5    No\n",
              "2       Male              0      No  ...          53.85        108.15   Yes\n",
              "3       Male              0      No  ...          42.30       1840.75    No\n",
              "4     Female              0      No  ...          70.70        151.65   Yes\n",
              "...      ...            ...     ...  ...            ...           ...   ...\n",
              "7038    Male              0     Yes  ...          84.80        1990.5    No\n",
              "7039  Female              0     Yes  ...         103.20        7362.9    No\n",
              "7040  Female              0     Yes  ...          29.60        346.45    No\n",
              "7041    Male              1     Yes  ...          74.40         306.6   Yes\n",
              "7042    Male              0      No  ...         105.65        6844.5    No\n",
              "\n",
              "[7043 rows x 20 columns]"
            ]
          },
          "metadata": {
            "tags": []
          },
          "execution_count": 10
        }
      ]
    },
    {
      "cell_type": "markdown",
      "metadata": {
        "id": "-q3wLxRvEv32"
      },
      "source": [
        "## **가설1)** 단기계약일수록 이탈할 가능성이 높지 않을까?"
      ]
    },
    {
      "cell_type": "code",
      "metadata": {
        "colab": {
          "base_uri": "https://localhost:8080/",
          "height": 168
        },
        "id": "D1URqhr9DARE",
        "outputId": "0313226d-cd55-481e-b339-e4b73db99726"
      },
      "source": [
        "pd.crosstab(data['Contract'], data['Churn'])"
      ],
      "execution_count": 11,
      "outputs": [
        {
          "output_type": "execute_result",
          "data": {
            "text/html": [
              "<div>\n",
              "<style scoped>\n",
              "    .dataframe tbody tr th:only-of-type {\n",
              "        vertical-align: middle;\n",
              "    }\n",
              "\n",
              "    .dataframe tbody tr th {\n",
              "        vertical-align: top;\n",
              "    }\n",
              "\n",
              "    .dataframe thead th {\n",
              "        text-align: right;\n",
              "    }\n",
              "</style>\n",
              "<table border=\"1\" class=\"dataframe\">\n",
              "  <thead>\n",
              "    <tr style=\"text-align: right;\">\n",
              "      <th>Churn</th>\n",
              "      <th>No</th>\n",
              "      <th>Yes</th>\n",
              "    </tr>\n",
              "    <tr>\n",
              "      <th>Contract</th>\n",
              "      <th></th>\n",
              "      <th></th>\n",
              "    </tr>\n",
              "  </thead>\n",
              "  <tbody>\n",
              "    <tr>\n",
              "      <th>Month-to-month</th>\n",
              "      <td>2220</td>\n",
              "      <td>1655</td>\n",
              "    </tr>\n",
              "    <tr>\n",
              "      <th>One year</th>\n",
              "      <td>1307</td>\n",
              "      <td>166</td>\n",
              "    </tr>\n",
              "    <tr>\n",
              "      <th>Two year</th>\n",
              "      <td>1647</td>\n",
              "      <td>48</td>\n",
              "    </tr>\n",
              "  </tbody>\n",
              "</table>\n",
              "</div>"
            ],
            "text/plain": [
              "Churn             No   Yes\n",
              "Contract                  \n",
              "Month-to-month  2220  1655\n",
              "One year        1307   166\n",
              "Two year        1647    48"
            ]
          },
          "metadata": {
            "tags": []
          },
          "execution_count": 11
        }
      ]
    },
    {
      "cell_type": "code",
      "metadata": {
        "id": "MRn-e3j5UDDJ",
        "colab": {
          "base_uri": "https://localhost:8080/",
          "height": 423
        },
        "outputId": "8159140d-9a66-408b-bb1c-9385c1c37274"
      },
      "source": [
        "plt.figure(figsize= (12, 5))\n",
        "plt.style.use('seaborn-whitegrid') # setting \"테마\"(matplot으로)\n",
        "#sns.set_style('darkgrid') seaborn 으로 setting\n",
        "sns.set_context('talk')\n",
        "sns.set_palette(\"Pastel1\")\n",
        "\n",
        "sns.countplot(data['Contract'], hue = data['Churn'])"
      ],
      "execution_count": 12,
      "outputs": [
        {
          "output_type": "stream",
          "text": [
            "/usr/local/lib/python3.7/dist-packages/seaborn/_decorators.py:43: FutureWarning: Pass the following variable as a keyword arg: x. From version 0.12, the only valid positional argument will be `data`, and passing other arguments without an explicit keyword will result in an error or misinterpretation.\n",
            "  FutureWarning\n"
          ],
          "name": "stderr"
        },
        {
          "output_type": "execute_result",
          "data": {
            "text/plain": [
              "<AxesSubplot:xlabel='Contract', ylabel='count'>"
            ]
          },
          "metadata": {
            "tags": []
          },
          "execution_count": 12
        },
        {
          "output_type": "display_data",
          "data": {
            "image/png": "[encoded data removed]",
            "text/plain": [
              "<Figure size 864x360 with 1 Axes>"
            ]
          },
          "metadata": {
            "tags": [],
            "needs_background": "light"
          }
        }
      ]
    },
    {
      "cell_type": "code",
      "metadata": {
        "id": "0ZZfVh4B1jWq",
        "colab": {
          "base_uri": "https://localhost:8080/"
        },
        "outputId": "e52dc192-1a34-4d33-8996-f303ed11eee5"
      },
      "source": [
        "Contract_map = {'Month-to-month' : 0, 'One year' : 1, 'Two year' : 2}\n",
        "data['Contract'] = data['Contract'].map(Contract_map)\n",
        "data['Contract'].unique()"
      ],
      "execution_count": 13,
      "outputs": [
        {
          "output_type": "execute_result",
          "data": {
            "text/plain": [
              "array([0, 1, 2])"
            ]
          },
          "metadata": {
            "tags": []
          },
          "execution_count": 13
        }
      ]
    },
    {
      "cell_type": "code",
      "metadata": {
        "colab": {
          "base_uri": "https://localhost:8080/",
          "height": 423
        },
        "id": "E2LuqDR3mP8H",
        "outputId": "fddf804e-dd8d-4eff-d706-8b6f7e15613e"
      },
      "source": [
        "# 인코딩\n",
        "\n",
        "plt.figure(figsize= (12, 5))\n",
        "plt.style.use('seaborn-whitegrid') \n",
        "#sns.set_style('darkgrid') \n",
        "sns.set_context('talk')\n",
        "sns.set_palette('Pastel1')\n",
        "sns.countplot(data['Contract'], hue = data['Churn'])"
      ],
      "execution_count": 14,
      "outputs": [
        {
          "output_type": "stream",
          "text": [
            "/usr/local/lib/python3.7/dist-packages/seaborn/_decorators.py:43: FutureWarning: Pass the following variable as a keyword arg: x. From version 0.12, the only valid positional argument will be `data`, and passing other arguments without an explicit keyword will result in an error or misinterpretation.\n",
            "  FutureWarning\n"
          ],
          "name": "stderr"
        },
        {
          "output_type": "execute_result",
          "data": {
            "text/plain": [
              "<AxesSubplot:xlabel='Contract', ylabel='count'>"
            ]
          },
          "metadata": {
            "tags": []
          },
          "execution_count": 14
        },
        {
          "output_type": "display_data",
          "data": {
            "image/png": "[encoded data removed]",
            "text/plain": [
              "<Figure size 864x360 with 1 Axes>"
            ]
          },
          "metadata": {
            "tags": []
          }
        }
      ]
    },
    {
      "cell_type": "markdown",
      "metadata": {
        "id": "gYX0bqHTGhif"
      },
      "source": [
        "월별 계약일수록 이탈가능성이 높으며 장기계약인 2년계약시 가장 이탈율이 낮다\n",
        "\n",
        "- 인사이트 :  **장기 계약 고객으로 만들수록 이탈율을 줄일 수 있다.**"
      ]
    },
    {
      "cell_type": "markdown",
      "metadata": {
        "id": "fJJ4KPIdQpxD"
      },
      "source": [
        "## 가설2) 오래 유지한 고객일 수록 이탈이 적지 않을까?"
      ]
    },
    {
      "cell_type": "code",
      "metadata": {
        "id": "9eTbccF1Qfmw",
        "colab": {
          "base_uri": "https://localhost:8080/"
        },
        "outputId": "7de3dc62-00f8-4374-c3dc-c6e7c8eafbc5"
      },
      "source": [
        "print(\" 가장 짧은 기간 :\", data['tenure'].min())\n",
        "print(\" 가장 오랜 기간 :\", data['tenure'].max())"
      ],
      "execution_count": 15,
      "outputs": [
        {
          "output_type": "stream",
          "text": [
            " 가장 짧은 기간 : 0\n",
            " 가장 오랜 기간 : 72\n"
          ],
          "name": "stdout"
        }
      ]
    },
    {
      "cell_type": "code",
      "metadata": {
        "colab": {
          "base_uri": "https://localhost:8080/",
          "height": 478
        },
        "id": "fZO5yFsOrAAE",
        "outputId": "9d223919-f461-4cce-d72f-60bf5b640ee6"
      },
      "source": [
        "plt.figure(figsize = (12,6))\n",
        "sns.set_context('talk')\n",
        "sns.set_palette('Pastel1')\n",
        "sns.countplot(data['tenure'], hue = data['Churn'])"
      ],
      "execution_count": 16,
      "outputs": [
        {
          "output_type": "stream",
          "text": [
            "/usr/local/lib/python3.7/dist-packages/seaborn/_decorators.py:43: FutureWarning: Pass the following variable as a keyword arg: x. From version 0.12, the only valid positional argument will be `data`, and passing other arguments without an explicit keyword will result in an error or misinterpretation.\n",
            "  FutureWarning\n"
          ],
          "name": "stderr"
        },
        {
          "output_type": "execute_result",
          "data": {
            "text/plain": [
              "<AxesSubplot:xlabel='tenure', ylabel='count'>"
            ]
          },
          "metadata": {
            "tags": []
          },
          "execution_count": 16
        },
        {
          "output_type": "display_data",
          "data": {
            "image/png": "[encoded data removed]",
            "text/plain": [
              "<Figure size 864x432 with 1 Axes>"
            ]
          },
          "metadata": {
            "tags": []
          }
        }
      ]
    },
    {
      "cell_type": "markdown",
      "metadata": {
        "id": "_jN-mlJnKFiM"
      },
      "source": [
        "5개월 이하의 고객들의 이탈율이 높은것으로 보인다. 비율을 확인해 보자"
      ]
    },
    {
      "cell_type": "code",
      "metadata": {
        "id": "a138GfhhFycy",
        "colab": {
          "base_uri": "https://localhost:8080/"
        },
        "outputId": "65abf41f-a2e8-42ec-8c7e-c8c2cbef243d"
      },
      "source": [
        "print(\"5개월 보다 적게 머문 고객들의 수: \",\\\n",
        "      data.loc[(data['tenure']<=5) & \\\n",
        "               (data['Churn']=='Yes')]['tenure'].value_counts().sum(),\"명\")\n",
        "\n",
        "print(\"5개월 보다 오래 머문 고객들의 수: \",\\\n",
        "      data.loc[(data['tenure']>5) & \\\n",
        "               (data['Churn']=='Yes')]['tenure'].value_counts().sum(),\"명\")"
      ],
      "execution_count": 17,
      "outputs": [
        {
          "output_type": "stream",
          "text": [
            "5개월 보다 적게 머문 고객들의 수:  744 명\n",
            "5개월 보다 오래 머문 고객들의 수:  1125 명\n"
          ],
          "name": "stdout"
        }
      ]
    },
    {
      "cell_type": "code",
      "metadata": {
        "id": "B8FDBIf5F2aS",
        "colab": {
          "base_uri": "https://localhost:8080/",
          "height": 303
        },
        "outputId": "48a43151-0681-495c-b4b2-b261845fb606"
      },
      "source": [
        "# pie차트 시각화\n",
        "\n",
        "# 기본옵션 설정\n",
        "plt.figure(figsize= (12,5))\n",
        "sns.set_style('whitegrid')\n",
        "sns.set_context('talk')\n",
        "sns.set_palette('Pastel1')\n",
        "\n",
        "# 파이차트 데이터 사이즈 \n",
        "size1 = data.loc[(data['tenure']<=5) & (data['Churn']=='Yes')]['tenure'].value_counts().sum()\n",
        "size2 = data.loc[(data['tenure']>5) & (data['Churn']=='Yes')]['tenure'].value_counts().sum()\n",
        "sizes = [size1, size2]\n",
        "\n",
        "# 라벨 설정\n",
        "labels = [\"5 or less\",\"More than 5\"]\n",
        "\n",
        "# 차트 그리기\n",
        "patches, texts, autotexts = plt.pie(sizes,\n",
        "                                   labels = labels,\n",
        "                                   autopct = \"%1.1f%%\",\n",
        "                                   shadow = True,\n",
        "                                   explode = (0,0.1),\n",
        "                                   startangle = 310)\n",
        "\n",
        "# text옵션 설정\n",
        "for t in texts:\n",
        "    t.set_fontsize(11)\n",
        "    t.set_color(\"black\")\n",
        "    \n",
        "# autotexts옵션 설정\n",
        "for at in autotexts:\n",
        "    at.set_fontsize(15)\n",
        "    at.set_color('white')\n",
        "    \n",
        "plt.show()"
      ],
      "execution_count": 18,
      "outputs": [
        {
          "output_type": "display_data",
          "data": {
            "image/png": "[encoded data removed]",
            "text/plain": [
              "<Figure size 864x360 with 1 Axes>"
            ]
          },
          "metadata": {
            "tags": []
          }
        }
      ]
    },
    {
      "cell_type": "code",
      "metadata": {
        "colab": {
          "base_uri": "https://localhost:8080/"
        },
        "id": "cMnhuOWWtV90",
        "outputId": "dd5452ba-e2e5-46ce-9a19-12c9c10a8eb6"
      },
      "source": [
        "data.info()"
      ],
      "execution_count": 19,
      "outputs": [
        {
          "output_type": "stream",
          "text": [
            "<class 'pandas.core.frame.DataFrame'>\n",
            "RangeIndex: 7043 entries, 0 to 7042\n",
            "Data columns (total 20 columns):\n",
            " #   Column            Non-Null Count  Dtype  \n",
            "---  ------            --------------  -----  \n",
            " 0   gender            7043 non-null   object \n",
            " 1   SeniorCitizen     7043 non-null   int64  \n",
            " 2   Partner           7043 non-null   object \n",
            " 3   Dependents        7043 non-null   object \n",
            " 4   tenure            7043 non-null   int64  \n",
            " 5   PhoneService      7043 non-null   object \n",
            " 6   MultipleLines     7043 non-null   object \n",
            " 7   InternetService   7043 non-null   object \n",
            " 8   OnlineSecurity    7043 non-null   object \n",
            " 9   OnlineBackup      7043 non-null   object \n",
            " 10  DeviceProtection  7043 non-null   object \n",
            " 11  TechSupport       7043 non-null   object \n",
            " 12  StreamingTV       7043 non-null   object \n",
            " 13  StreamingMovies   7043 non-null   object \n",
            " 14  Contract          7043 non-null   int64  \n",
            " 15  PaperlessBilling  7043 non-null   object \n",
            " 16  PaymentMethod     7043 non-null   object \n",
            " 17  MonthlyCharges    7043 non-null   float64\n",
            " 18  TotalCharges      7043 non-null   object \n",
            " 19  Churn             7043 non-null   object \n",
            "dtypes: float64(1), int64(3), object(16)\n",
            "memory usage: 1.1+ MB\n"
          ],
          "name": "stdout"
        }
      ]
    },
    {
      "cell_type": "markdown",
      "metadata": {
        "id": "i0ZW5hWDxE8n"
      },
      "source": [
        "고객 이탈여부를 나타내는 Churn컬럼 역시 미리 변환시켜준다."
      ]
    },
    {
      "cell_type": "code",
      "metadata": {
        "id": "sUCgsAx5tkIp"
      },
      "source": [
        "Churn_mapping = {'No' : 0, 'Yes' : 1}\n",
        "data['Churn'] = data['Churn'].map(Churn_mapping)"
      ],
      "execution_count": 20,
      "outputs": []
    },
    {
      "cell_type": "markdown",
      "metadata": {
        "id": "-RguZTElxJcW"
      },
      "source": [
        "너무 많은 데이터를 가지고 있어서 우서 5개의 카테고리로 묶어준다."
      ]
    },
    {
      "cell_type": "code",
      "metadata": {
        "id": "Qe_c4PmzQfdH",
        "colab": {
          "base_uri": "https://localhost:8080/"
        },
        "outputId": "9af4c67a-9e4f-4326-8cca-5e085fcaa394"
      },
      "source": [
        "data['tenure'] = pd.cut(data['tenure'],5)\n",
        "data['tenure'].unique()"
      ],
      "execution_count": 21,
      "outputs": [
        {
          "output_type": "execute_result",
          "data": {
            "text/plain": [
              "[(-0.072, 14.4], (28.8, 43.2], (43.2, 57.6], (14.4, 28.8], (57.6, 72.0]]\n",
              "Categories (5, interval[float64]): [(-0.072, 14.4] < (14.4, 28.8] < (28.8, 43.2] < (43.2, 57.6] <\n",
              "                                    (57.6, 72.0]]"
            ]
          },
          "metadata": {
            "tags": []
          },
          "execution_count": 21
        }
      ]
    },
    {
      "cell_type": "code",
      "metadata": {
        "id": "1-bWLqcWGe1D"
      },
      "source": [
        "from sklearn.preprocessing import LabelEncoder\n",
        "le = LabelEncoder()\n",
        "data['tenure'] = le.fit_transform(data['tenure'])"
      ],
      "execution_count": 22,
      "outputs": []
    },
    {
      "cell_type": "code",
      "metadata": {
        "id": "WlAFhnt2yz_A"
      },
      "source": [
        "## 5개월까지 한개의 카테고리로 묶고(데이터의 크기가 큰 범위), 나머지를 4개의 범위로 묶어주는방법 (이 방법과 위의 5개로 그냥 나누어준것중에 어떤것이 더 높을까?? 개인적인 생각으로는 전자다)\n",
        "#data.loc[data['tenure']<=5,'tenure'] = 0\n",
        "#data.loc[(data['tenure']>5) &  (data['tenure']<=22),'tenure'] = 1\n",
        "#data.loc[(data['tenure']>22) &  (data['tenure']<=39),'tenure'] = 2\n",
        "#data.loc[(data['tenure']>39) &  (data['tenure']<=56),'tenure'] = 3\n",
        "#data.loc[(data['tenure']>56) &  (data['tenure']<=72),'tenure'] = 4\n",
        "#data['tenure']"
      ],
      "execution_count": 23,
      "outputs": []
    },
    {
      "cell_type": "code",
      "metadata": {
        "id": "OamhEgSaSxy9",
        "colab": {
          "base_uri": "https://localhost:8080/",
          "height": 258
        },
        "outputId": "c0340195-e7c7-4de8-cc4d-d967e2097ad0"
      },
      "source": [
        "pd.crosstab(data.tenure, data.Churn,margins=True)"
      ],
      "execution_count": 24,
      "outputs": [
        {
          "output_type": "execute_result",
          "data": {
            "text/html": [
              "<div>\n",
              "<style scoped>\n",
              "    .dataframe tbody tr th:only-of-type {\n",
              "        vertical-align: middle;\n",
              "    }\n",
              "\n",
              "    .dataframe tbody tr th {\n",
              "        vertical-align: top;\n",
              "    }\n",
              "\n",
              "    .dataframe thead th {\n",
              "        text-align: right;\n",
              "    }\n",
              "</style>\n",
              "<table border=\"1\" class=\"dataframe\">\n",
              "  <thead>\n",
              "    <tr style=\"text-align: right;\">\n",
              "      <th>Churn</th>\n",
              "      <th>0</th>\n",
              "      <th>1</th>\n",
              "      <th>All</th>\n",
              "    </tr>\n",
              "    <tr>\n",
              "      <th>tenure</th>\n",
              "      <th></th>\n",
              "      <th></th>\n",
              "      <th></th>\n",
              "    </tr>\n",
              "  </thead>\n",
              "  <tbody>\n",
              "    <tr>\n",
              "      <th>0</th>\n",
              "      <td>1272</td>\n",
              "      <td>1099</td>\n",
              "      <td>2371</td>\n",
              "    </tr>\n",
              "    <tr>\n",
              "      <th>1</th>\n",
              "      <td>831</td>\n",
              "      <td>295</td>\n",
              "      <td>1126</td>\n",
              "    </tr>\n",
              "    <tr>\n",
              "      <th>2</th>\n",
              "      <td>774</td>\n",
              "      <td>215</td>\n",
              "      <td>989</td>\n",
              "    </tr>\n",
              "    <tr>\n",
              "      <th>3</th>\n",
              "      <td>805</td>\n",
              "      <td>142</td>\n",
              "      <td>947</td>\n",
              "    </tr>\n",
              "    <tr>\n",
              "      <th>4</th>\n",
              "      <td>1492</td>\n",
              "      <td>118</td>\n",
              "      <td>1610</td>\n",
              "    </tr>\n",
              "    <tr>\n",
              "      <th>All</th>\n",
              "      <td>5174</td>\n",
              "      <td>1869</td>\n",
              "      <td>7043</td>\n",
              "    </tr>\n",
              "  </tbody>\n",
              "</table>\n",
              "</div>"
            ],
            "text/plain": [
              "Churn      0     1   All\n",
              "tenure                  \n",
              "0       1272  1099  2371\n",
              "1        831   295  1126\n",
              "2        774   215   989\n",
              "3        805   142   947\n",
              "4       1492   118  1610\n",
              "All     5174  1869  7043"
            ]
          },
          "metadata": {
            "tags": []
          },
          "execution_count": 24
        }
      ]
    },
    {
      "cell_type": "code",
      "metadata": {
        "id": "14B2ju2z4gr1",
        "colab": {
          "base_uri": "https://localhost:8080/",
          "height": 228
        },
        "outputId": "9750e835-4b43-44bf-9f5a-81042f6dc4a1"
      },
      "source": [
        "pd.crosstab(data.tenure, data.Churn,normalize=True)"
      ],
      "execution_count": 25,
      "outputs": [
        {
          "output_type": "execute_result",
          "data": {
            "text/html": [
              "<div>\n",
              "<style scoped>\n",
              "    .dataframe tbody tr th:only-of-type {\n",
              "        vertical-align: middle;\n",
              "    }\n",
              "\n",
              "    .dataframe tbody tr th {\n",
              "        vertical-align: top;\n",
              "    }\n",
              "\n",
              "    .dataframe thead th {\n",
              "        text-align: right;\n",
              "    }\n",
              "</style>\n",
              "<table border=\"1\" class=\"dataframe\">\n",
              "  <thead>\n",
              "    <tr style=\"text-align: right;\">\n",
              "      <th>Churn</th>\n",
              "      <th>0</th>\n",
              "      <th>1</th>\n",
              "    </tr>\n",
              "    <tr>\n",
              "      <th>tenure</th>\n",
              "      <th></th>\n",
              "      <th></th>\n",
              "    </tr>\n",
              "  </thead>\n",
              "  <tbody>\n",
              "    <tr>\n",
              "      <th>0</th>\n",
              "      <td>0.180605</td>\n",
              "      <td>0.156041</td>\n",
              "    </tr>\n",
              "    <tr>\n",
              "      <th>1</th>\n",
              "      <td>0.117989</td>\n",
              "      <td>0.041886</td>\n",
              "    </tr>\n",
              "    <tr>\n",
              "      <th>2</th>\n",
              "      <td>0.109896</td>\n",
              "      <td>0.030527</td>\n",
              "    </tr>\n",
              "    <tr>\n",
              "      <th>3</th>\n",
              "      <td>0.114298</td>\n",
              "      <td>0.020162</td>\n",
              "    </tr>\n",
              "    <tr>\n",
              "      <th>4</th>\n",
              "      <td>0.211842</td>\n",
              "      <td>0.016754</td>\n",
              "    </tr>\n",
              "  </tbody>\n",
              "</table>\n",
              "</div>"
            ],
            "text/plain": [
              "Churn          0         1\n",
              "tenure                    \n",
              "0       0.180605  0.156041\n",
              "1       0.117989  0.041886\n",
              "2       0.109896  0.030527\n",
              "3       0.114298  0.020162\n",
              "4       0.211842  0.016754"
            ]
          },
          "metadata": {
            "tags": []
          },
          "execution_count": 25
        }
      ]
    },
    {
      "cell_type": "code",
      "metadata": {
        "id": "8ro6pRmkT8ee",
        "colab": {
          "base_uri": "https://localhost:8080/",
          "height": 426
        },
        "outputId": "172add0d-f3fc-4fbb-e7da-7d4249825e23"
      },
      "source": [
        "plt.figure(figsize = (12,5))\n",
        "sns.set_context('talk')\n",
        "sns.set_palette('Pastel1')\n",
        "sns.countplot(data['tenure'], hue = data['Churn'])"
      ],
      "execution_count": 26,
      "outputs": [
        {
          "output_type": "stream",
          "text": [
            "/usr/local/lib/python3.7/dist-packages/seaborn/_decorators.py:43: FutureWarning: Pass the following variable as a keyword arg: x. From version 0.12, the only valid positional argument will be `data`, and passing other arguments without an explicit keyword will result in an error or misinterpretation.\n",
            "  FutureWarning\n"
          ],
          "name": "stderr"
        },
        {
          "output_type": "execute_result",
          "data": {
            "text/plain": [
              "<AxesSubplot:xlabel='tenure', ylabel='count'>"
            ]
          },
          "metadata": {
            "tags": []
          },
          "execution_count": 26
        },
        {
          "output_type": "display_data",
          "data": {
            "image/png": "[encoded data removed]",
            "text/plain": [
              "<Figure size 864x360 with 1 Axes>"
            ]
          },
          "metadata": {
            "tags": []
          }
        }
      ]
    },
    {
      "cell_type": "markdown",
      "metadata": {
        "id": "2-6bUkEcUPwE"
      },
      "source": [
        "장기간 이용할 수록 이탈하는 고객들이 줄어든다\n",
        "- 인사이트 : **대략 5개월을 초과한 기간 만큼 고객을 유지시킨다면 이탈률을 크게 낮출 수 있으므로 초반 가입 고객들에게 오래유지할 수 있는 서비스를 기획하거나 5개월 넘게 이용한 고객의 특징을 살펴본후 대입해 본다.**\n",
        "\n",
        "- 현재 최 장기간 이용 고객들이 상당히 많은 수치를 가지고 있는것으로 보아 현재 서비스가 잘 이루어 지고 있다는것을 알 수 있다. 하지만 좀 더 좋은 초반 서비스를 통해 초기 보유 고객의 니즈를 충족시켜 주어야할것 같다."
      ]
    },
    {
      "cell_type": "markdown",
      "metadata": {
        "id": "iEqnXRw-ZZ4s"
      },
      "source": [
        "## 성별에 따른 이탈차이도 있을까?\n"
      ]
    },
    {
      "cell_type": "code",
      "metadata": {
        "colab": {
          "base_uri": "https://localhost:8080/"
        },
        "id": "yJzNWtzOj4gM",
        "outputId": "addc27e5-375e-4269-ea3e-c6f7a57845fc"
      },
      "source": [
        "print(data.loc[data['gender']=='Male']['gender'].count())\n",
        "print(data.loc[data['gender']=='Female']['gender'].count())"
      ],
      "execution_count": 27,
      "outputs": [
        {
          "output_type": "stream",
          "text": [
            "3555\n",
            "3488\n"
          ],
          "name": "stdout"
        }
      ]
    },
    {
      "cell_type": "code",
      "metadata": {
        "colab": {
          "base_uri": "https://localhost:8080/",
          "height": 0
        },
        "id": "kWh5tpoqfzPb",
        "outputId": "f039947f-dba2-4ad2-f728-6b53f41db32a"
      },
      "source": [
        "plt.figure(figsize = (12, 5))\n",
        "sns.set_palette('Pastel1')\n",
        "patches, texts, autotexts = plt.pie([3555,3488],\n",
        "                                    labels = ['Female', 'Male'],\n",
        "                                    autopct='%1.1f%%',\n",
        "                                    shadow = True,\n",
        "                                    startangle = 60\n",
        "                                    )\n",
        "for t in texts:\n",
        "  t.set_fontsize(12)\n",
        "  t.set_color('black')\n",
        "\n",
        "for a in autotexts:\n",
        "  a.set_fontsize(18)\n",
        "  a.set_color('white')\n",
        "\n",
        "plt.show()"
      ],
      "execution_count": 28,
      "outputs": [
        {
          "output_type": "display_data",
          "data": {
            "image/png": "[encoded data removed]",
            "text/plain": [
              "<Figure size 864x360 with 1 Axes>"
            ]
          },
          "metadata": {
            "tags": []
          }
        }
      ]
    },
    {
      "cell_type": "code",
      "metadata": {
        "id": "4f_tXljDT2LK",
        "colab": {
          "base_uri": "https://localhost:8080/",
          "height": 0
        },
        "outputId": "8fe0f0d3-abf6-4346-d6bc-cb4e295325ab"
      },
      "source": [
        "plt.figure(figsize = (12, 5))\n",
        "sns.set_palette('Pastel1')\n",
        "sns.countplot(data['gender'], hue = data.Churn)"
      ],
      "execution_count": 29,
      "outputs": [
        {
          "output_type": "stream",
          "text": [
            "/usr/local/lib/python3.7/dist-packages/seaborn/_decorators.py:43: FutureWarning: Pass the following variable as a keyword arg: x. From version 0.12, the only valid positional argument will be `data`, and passing other arguments without an explicit keyword will result in an error or misinterpretation.\n",
            "  FutureWarning\n"
          ],
          "name": "stderr"
        },
        {
          "output_type": "execute_result",
          "data": {
            "text/plain": [
              "<AxesSubplot:xlabel='gender', ylabel='count'>"
            ]
          },
          "metadata": {
            "tags": []
          },
          "execution_count": 29
        },
        {
          "output_type": "display_data",
          "data": {
            "image/png": "[encoded data removed]",
            "text/plain": [
              "<Figure size 864x360 with 1 Axes>"
            ]
          },
          "metadata": {
            "tags": []
          }
        }
      ]
    },
    {
      "cell_type": "markdown",
      "metadata": {
        "id": "n-2MU3I0Z6xN"
      },
      "source": [
        "성별에 따른 인사이트는 얻기 힘들어 보인다."
      ]
    },
    {
      "cell_type": "code",
      "metadata": {
        "colab": {
          "base_uri": "https://localhost:8080/",
          "height": 0
        },
        "id": "y0HF1qS-vfkT",
        "outputId": "9798d8a5-4cbc-4dbf-f0cd-180815fbdd8f"
      },
      "source": [
        "sex_mapping = {'Female' : 0, 'Male' : 1}\n",
        "data['gender'] = data['gender'].map(sex_mapping)\n",
        "data"
      ],
      "execution_count": 30,
      "outputs": [
        {
          "output_type": "execute_result",
          "data": {
            "text/html": [
              "<div>\n",
              "<style scoped>\n",
              "    .dataframe tbody tr th:only-of-type {\n",
              "        vertical-align: middle;\n",
              "    }\n",
              "\n",
              "    .dataframe tbody tr th {\n",
              "        vertical-align: top;\n",
              "    }\n",
              "\n",
              "    .dataframe thead th {\n",
              "        text-align: right;\n",
              "    }\n",
              "</style>\n",
              "<table border=\"1\" class=\"dataframe\">\n",
              "  <thead>\n",
              "    <tr style=\"text-align: right;\">\n",
              "      <th></th>\n",
              "      <th>gender</th>\n",
              "      <th>SeniorCitizen</th>\n",
              "      <th>Partner</th>\n",
              "      <th>Dependents</th>\n",
              "      <th>tenure</th>\n",
              "      <th>PhoneService</th>\n",
              "      <th>MultipleLines</th>\n",
              "      <th>InternetService</th>\n",
              "      <th>OnlineSecurity</th>\n",
              "      <th>OnlineBackup</th>\n",
              "      <th>DeviceProtection</th>\n",
              "      <th>TechSupport</th>\n",
              "      <th>StreamingTV</th>\n",
              "      <th>StreamingMovies</th>\n",
              "      <th>Contract</th>\n",
              "      <th>PaperlessBilling</th>\n",
              "      <th>PaymentMethod</th>\n",
              "      <th>MonthlyCharges</th>\n",
              "      <th>TotalCharges</th>\n",
              "      <th>Churn</th>\n",
              "    </tr>\n",
              "  </thead>\n",
              "  <tbody>\n",
              "    <tr>\n",
              "      <th>0</th>\n",
              "      <td>0</td>\n",
              "      <td>0</td>\n",
              "      <td>Yes</td>\n",
              "      <td>No</td>\n",
              "      <td>0</td>\n",
              "      <td>No</td>\n",
              "      <td>No phone service</td>\n",
              "      <td>DSL</td>\n",
              "      <td>No</td>\n",
              "      <td>Yes</td>\n",
              "      <td>No</td>\n",
              "      <td>No</td>\n",
              "      <td>No</td>\n",
              "      <td>No</td>\n",
              "      <td>0</td>\n",
              "      <td>Yes</td>\n",
              "      <td>Electronic check</td>\n",
              "      <td>29.85</td>\n",
              "      <td>29.85</td>\n",
              "      <td>0</td>\n",
              "    </tr>\n",
              "    <tr>\n",
              "      <th>1</th>\n",
              "      <td>1</td>\n",
              "      <td>0</td>\n",
              "      <td>No</td>\n",
              "      <td>No</td>\n",
              "      <td>2</td>\n",
              "      <td>Yes</td>\n",
              "      <td>No</td>\n",
              "      <td>DSL</td>\n",
              "      <td>Yes</td>\n",
              "      <td>No</td>\n",
              "      <td>Yes</td>\n",
              "      <td>No</td>\n",
              "      <td>No</td>\n",
              "      <td>No</td>\n",
              "      <td>1</td>\n",
              "      <td>No</td>\n",
              "      <td>Mailed check</td>\n",
              "      <td>56.95</td>\n",
              "      <td>1889.5</td>\n",
              "      <td>0</td>\n",
              "    </tr>\n",
              "    <tr>\n",
              "      <th>2</th>\n",
              "      <td>1</td>\n",
              "      <td>0</td>\n",
              "      <td>No</td>\n",
              "      <td>No</td>\n",
              "      <td>0</td>\n",
              "      <td>Yes</td>\n",
              "      <td>No</td>\n",
              "      <td>DSL</td>\n",
              "      <td>Yes</td>\n",
              "      <td>Yes</td>\n",
              "      <td>No</td>\n",
              "      <td>No</td>\n",
              "      <td>No</td>\n",
              "      <td>No</td>\n",
              "      <td>0</td>\n",
              "      <td>Yes</td>\n",
              "      <td>Mailed check</td>\n",
              "      <td>53.85</td>\n",
              "      <td>108.15</td>\n",
              "      <td>1</td>\n",
              "    </tr>\n",
              "    <tr>\n",
              "      <th>3</th>\n",
              "      <td>1</td>\n",
              "      <td>0</td>\n",
              "      <td>No</td>\n",
              "      <td>No</td>\n",
              "      <td>3</td>\n",
              "      <td>No</td>\n",
              "      <td>No phone service</td>\n",
              "      <td>DSL</td>\n",
              "      <td>Yes</td>\n",
              "      <td>No</td>\n",
              "      <td>Yes</td>\n",
              "      <td>Yes</td>\n",
              "      <td>No</td>\n",
              "      <td>No</td>\n",
              "      <td>1</td>\n",
              "      <td>No</td>\n",
              "      <td>Bank transfer (automatic)</td>\n",
              "      <td>42.30</td>\n",
              "      <td>1840.75</td>\n",
              "      <td>0</td>\n",
              "    </tr>\n",
              "    <tr>\n",
              "      <th>4</th>\n",
              "      <td>0</td>\n",
              "      <td>0</td>\n",
              "      <td>No</td>\n",
              "      <td>No</td>\n",
              "      <td>0</td>\n",
              "      <td>Yes</td>\n",
              "      <td>No</td>\n",
              "      <td>Fiber optic</td>\n",
              "      <td>No</td>\n",
              "      <td>No</td>\n",
              "      <td>No</td>\n",
              "      <td>No</td>\n",
              "      <td>No</td>\n",
              "      <td>No</td>\n",
              "      <td>0</td>\n",
              "      <td>Yes</td>\n",
              "      <td>Electronic check</td>\n",
              "      <td>70.70</td>\n",
              "      <td>151.65</td>\n",
              "      <td>1</td>\n",
              "    </tr>\n",
              "    <tr>\n",
              "      <th>...</th>\n",
              "      <td>...</td>\n",
              "      <td>...</td>\n",
              "      <td>...</td>\n",
              "      <td>...</td>\n",
              "      <td>...</td>\n",
              "      <td>...</td>\n",
              "      <td>...</td>\n",
              "      <td>...</td>\n",
              "      <td>...</td>\n",
              "      <td>...</td>\n",
              "      <td>...</td>\n",
              "      <td>...</td>\n",
              "      <td>...</td>\n",
              "      <td>...</td>\n",
              "      <td>...</td>\n",
              "      <td>...</td>\n",
              "      <td>...</td>\n",
              "      <td>...</td>\n",
              "      <td>...</td>\n",
              "      <td>...</td>\n",
              "    </tr>\n",
              "    <tr>\n",
              "      <th>7038</th>\n",
              "      <td>1</td>\n",
              "      <td>0</td>\n",
              "      <td>Yes</td>\n",
              "      <td>Yes</td>\n",
              "      <td>1</td>\n",
              "      <td>Yes</td>\n",
              "      <td>Yes</td>\n",
              "      <td>DSL</td>\n",
              "      <td>Yes</td>\n",
              "      <td>No</td>\n",
              "      <td>Yes</td>\n",
              "      <td>Yes</td>\n",
              "      <td>Yes</td>\n",
              "      <td>Yes</td>\n",
              "      <td>1</td>\n",
              "      <td>Yes</td>\n",
              "      <td>Mailed check</td>\n",
              "      <td>84.80</td>\n",
              "      <td>1990.5</td>\n",
              "      <td>0</td>\n",
              "    </tr>\n",
              "    <tr>\n",
              "      <th>7039</th>\n",
              "      <td>0</td>\n",
              "      <td>0</td>\n",
              "      <td>Yes</td>\n",
              "      <td>Yes</td>\n",
              "      <td>4</td>\n",
              "      <td>Yes</td>\n",
              "      <td>Yes</td>\n",
              "      <td>Fiber optic</td>\n",
              "      <td>No</td>\n",
              "      <td>Yes</td>\n",
              "      <td>Yes</td>\n",
              "      <td>No</td>\n",
              "      <td>Yes</td>\n",
              "      <td>Yes</td>\n",
              "      <td>1</td>\n",
              "      <td>Yes</td>\n",
              "      <td>Credit card (automatic)</td>\n",
              "      <td>103.20</td>\n",
              "      <td>7362.9</td>\n",
              "      <td>0</td>\n",
              "    </tr>\n",
              "    <tr>\n",
              "      <th>7040</th>\n",
              "      <td>0</td>\n",
              "      <td>0</td>\n",
              "      <td>Yes</td>\n",
              "      <td>Yes</td>\n",
              "      <td>0</td>\n",
              "      <td>No</td>\n",
              "      <td>No phone service</td>\n",
              "      <td>DSL</td>\n",
              "      <td>Yes</td>\n",
              "      <td>No</td>\n",
              "      <td>No</td>\n",
              "      <td>No</td>\n",
              "      <td>No</td>\n",
              "      <td>No</td>\n",
              "      <td>0</td>\n",
              "      <td>Yes</td>\n",
              "      <td>Electronic check</td>\n",
              "      <td>29.60</td>\n",
              "      <td>346.45</td>\n",
              "      <td>0</td>\n",
              "    </tr>\n",
              "    <tr>\n",
              "      <th>7041</th>\n",
              "      <td>1</td>\n",
              "      <td>1</td>\n",
              "      <td>Yes</td>\n",
              "      <td>No</td>\n",
              "      <td>0</td>\n",
              "      <td>Yes</td>\n",
              "      <td>Yes</td>\n",
              "      <td>Fiber optic</td>\n",
              "      <td>No</td>\n",
              "      <td>No</td>\n",
              "      <td>No</td>\n",
              "      <td>No</td>\n",
              "      <td>No</td>\n",
              "      <td>No</td>\n",
              "      <td>0</td>\n",
              "      <td>Yes</td>\n",
              "      <td>Mailed check</td>\n",
              "      <td>74.40</td>\n",
              "      <td>306.6</td>\n",
              "      <td>1</td>\n",
              "    </tr>\n",
              "    <tr>\n",
              "      <th>7042</th>\n",
              "      <td>1</td>\n",
              "      <td>0</td>\n",
              "      <td>No</td>\n",
              "      <td>No</td>\n",
              "      <td>4</td>\n",
              "      <td>Yes</td>\n",
              "      <td>No</td>\n",
              "      <td>Fiber optic</td>\n",
              "      <td>Yes</td>\n",
              "      <td>No</td>\n",
              "      <td>Yes</td>\n",
              "      <td>Yes</td>\n",
              "      <td>Yes</td>\n",
              "      <td>Yes</td>\n",
              "      <td>2</td>\n",
              "      <td>Yes</td>\n",
              "      <td>Bank transfer (automatic)</td>\n",
              "      <td>105.65</td>\n",
              "      <td>6844.5</td>\n",
              "      <td>0</td>\n",
              "    </tr>\n",
              "  </tbody>\n",
              "</table>\n",
              "<p>7043 rows × 20 columns</p>\n",
              "</div>"
            ],
            "text/plain": [
              "      gender  SeniorCitizen Partner  ... MonthlyCharges  TotalCharges Churn\n",
              "0          0              0     Yes  ...          29.85         29.85     0\n",
              "1          1              0      No  ...          56.95        1889.5     0\n",
              "2          1              0      No  ...          53.85        108.15     1\n",
              "3          1              0      No  ...          42.30       1840.75     0\n",
              "4          0              0      No  ...          70.70        151.65     1\n",
              "...      ...            ...     ...  ...            ...           ...   ...\n",
              "7038       1              0     Yes  ...          84.80        1990.5     0\n",
              "7039       0              0     Yes  ...         103.20        7362.9     0\n",
              "7040       0              0     Yes  ...          29.60        346.45     0\n",
              "7041       1              1     Yes  ...          74.40         306.6     1\n",
              "7042       1              0      No  ...         105.65        6844.5     0\n",
              "\n",
              "[7043 rows x 20 columns]"
            ]
          },
          "metadata": {
            "tags": []
          },
          "execution_count": 30
        }
      ]
    },
    {
      "cell_type": "markdown",
      "metadata": {
        "id": "sXAMZA8waCdo"
      },
      "source": [
        "## 고령자와 이탈에는 어떤 관계가 있을까?"
      ]
    },
    {
      "cell_type": "code",
      "metadata": {
        "id": "Z1XxqQ31Z_EA",
        "colab": {
          "base_uri": "https://localhost:8080/",
          "height": 0
        },
        "outputId": "854d4e2f-482d-4b8b-fde7-3236f0224605"
      },
      "source": [
        "plt.figure(figsize = (12, 5))\n",
        "sns.set_palette('Pastel1')\n",
        "sns.countplot(data[\"SeniorCitizen\"], hue = data[\"Churn\"])\n",
        "# 비고령자 = 0 , 고령자 = 1"
      ],
      "execution_count": 31,
      "outputs": [
        {
          "output_type": "stream",
          "text": [
            "/usr/local/lib/python3.7/dist-packages/seaborn/_decorators.py:43: FutureWarning: Pass the following variable as a keyword arg: x. From version 0.12, the only valid positional argument will be `data`, and passing other arguments without an explicit keyword will result in an error or misinterpretation.\n",
            "  FutureWarning\n"
          ],
          "name": "stderr"
        },
        {
          "output_type": "execute_result",
          "data": {
            "text/plain": [
              "<AxesSubplot:xlabel='SeniorCitizen', ylabel='count'>"
            ]
          },
          "metadata": {
            "tags": []
          },
          "execution_count": 31
        },
        {
          "output_type": "display_data",
          "data": {
            "image/png": "[encoded data removed]",
            "text/plain": [
              "<Figure size 864x360 with 1 Axes>"
            ]
          },
          "metadata": {
            "tags": []
          }
        }
      ]
    },
    {
      "cell_type": "code",
      "metadata": {
        "id": "YPY51EqnOuO8",
        "colab": {
          "base_uri": "https://localhost:8080/",
          "height": 0
        },
        "outputId": "a34023fb-10ab-4085-a0e9-528bc6493d48"
      },
      "source": [
        "# 기본 세팅\n",
        "fig, ax = plt.subplots(1,2,figsize = (10,4))\n",
        "sns.set_context('talk')\n",
        "sns.set_palette('Pastel1')\n",
        "\n",
        "# 젊은 고객\n",
        "labels = [\"No Churn\", \"Yes Churn\"]\n",
        "\n",
        "no_sizes = data.loc[(data['SeniorCitizen']==0) & (data['Churn']==0),'SeniorCitizen'].value_counts().sum()\n",
        "yes_sizes = data.loc[(data['SeniorCitizen']==0) & (data['Churn']==1),'SeniorCitizen'].value_counts().sum()\n",
        "sizes = [no_sizes, yes_sizes]\n",
        "\n",
        "\n",
        "patches, texts, autotexts = ax[0].pie(sizes,\n",
        "                                   labels = labels,\n",
        "                                   autopct = \"%1.1f%%\",\n",
        "                                   shadow = True,\n",
        "                                   explode = (0, 0.1))\n",
        "\n",
        "ax[0].set_title(\"No SeniorCitizen\")\n",
        "\n",
        "for t in autotexts:\n",
        "    t.set_fontsize(18)\n",
        "    t.set_color('white')\n",
        "    \n",
        "    \n",
        "# 고령 고객\n",
        "Senior_labels = [\"No Chrn\", \"Yes Chrn\"]\n",
        "\n",
        "Senior_y_sizes = data.loc[(data['SeniorCitizen']==1) & (data['Churn']==0),'SeniorCitizen'].\\\n",
        "value_counts().sum()\n",
        "\n",
        "Senior_n_sizes = data.loc[(data['SeniorCitizen']==1) & (data['Churn']==1),'SeniorCitizen'].\\\n",
        "value_counts().sum()\n",
        "\n",
        "Senior_sizes = [Senior_y_sizes, Senior_n_sizes]\n",
        "\n",
        "patches, texts, autotexts = ax[1].pie(Senior_sizes,\n",
        "                                     labels = Senior_labels,\n",
        "                                     autopct = \"%1.1f%%\",\n",
        "                                     shadow = True,\n",
        "                                     explode = (0, 0.1),\n",
        "                                     startangle = 80)\n",
        "\n",
        "\n",
        "ax[1].set_title(\"Yes SeniorCitizens\")\n",
        "    \n",
        "for t in autotexts:\n",
        "    t.set_fontsize(18)\n",
        "    t.set_color('white')\n",
        "\n",
        "\n",
        "\n",
        "plt.show()"
      ],
      "execution_count": 32,
      "outputs": [
        {
          "output_type": "display_data",
          "data": {
            "image/png": "[encoded data removed]",
            "text/plain": [
              "<Figure size 720x288 with 2 Axes>"
            ]
          },
          "metadata": {
            "tags": []
          }
        }
      ]
    },
    {
      "cell_type": "markdown",
      "metadata": {
        "id": "sJUKOZPWbAnH"
      },
      "source": [
        "- 인사이트 : **바로 고령자 분들을 위한 서비스를 만드는 것이다. 상대적으로 적은 인원수 이기에 우선순위는 아니지만 향 후 젊은 계층의 사람들이 시간이 흘렀을때 고령자가 되어 이탈을 방지 하기 위함이다.(세계적으로 점점 출산율이 줄어들기 때문에 향후에는 이것이 최 우선순위가 될 수 도 있을것 같다)**\n",
        "\n",
        "\n"
      ]
    },
    {
      "cell_type": "markdown",
      "metadata": {
        "id": "QgtXQADZbqj3"
      },
      "source": [
        "## 파트너 혹은 부양가족에 따른 이탈률을 알아보자\n"
      ]
    },
    {
      "cell_type": "code",
      "metadata": {
        "id": "UO2nagnAZyas",
        "colab": {
          "base_uri": "https://localhost:8080/",
          "height": 446
        },
        "outputId": "896f5729-986c-4bf9-ed3c-0c700dee8ece"
      },
      "source": [
        "fig, ax = plt.subplots(1, 2, figsize = (14,5))\n",
        "sns.set_style('whitegrid')\n",
        "sns.set_context('talk')\n",
        "sns.set_palette('Pastel1')\n",
        "\n",
        "sns.countplot(data['Partner'], hue = data['Churn'], ax = ax[0])\n",
        "ax[0].set_title('Partner and Churn correlation')\n",
        "\n",
        "sns.countplot(data['Dependents'], hue =data['Churn'], ax = ax[1])\n",
        "ax[1].set_title('Dependents and Churn correlation')"
      ],
      "execution_count": 33,
      "outputs": [
        {
          "output_type": "stream",
          "text": [
            "/usr/local/lib/python3.7/dist-packages/seaborn/_decorators.py:43: FutureWarning: Pass the following variable as a keyword arg: x. From version 0.12, the only valid positional argument will be `data`, and passing other arguments without an explicit keyword will result in an error or misinterpretation.\n",
            "  FutureWarning\n",
            "/usr/local/lib/python3.7/dist-packages/seaborn/_decorators.py:43: FutureWarning: Pass the following variable as a keyword arg: x. From version 0.12, the only valid positional argument will be `data`, and passing other arguments without an explicit keyword will result in an error or misinterpretation.\n",
            "  FutureWarning\n"
          ],
          "name": "stderr"
        },
        {
          "output_type": "execute_result",
          "data": {
            "text/plain": [
              "Text(0.5, 1.0, 'Dependents and Churn correlation')"
            ]
          },
          "metadata": {
            "tags": []
          },
          "execution_count": 33
        },
        {
          "output_type": "display_data",
          "data": {
            "image/png": "[encoded data removed]",
            "text/plain": [
              "<Figure size 1008x360 with 2 Axes>"
            ]
          },
          "metadata": {
            "tags": []
          }
        }
      ]
    },
    {
      "cell_type": "code",
      "metadata": {
        "id": "eNU6wl8g6j5U"
      },
      "source": [
        "answer_mapping = {'No' : 0, \"Yes\" : 1}\n",
        "data['Partner'] = data['Partner'].map(answer_mapping)\n",
        "data['Dependents'] = data['Dependents'].map(answer_mapping)"
      ],
      "execution_count": 34,
      "outputs": []
    },
    {
      "cell_type": "markdown",
      "metadata": {
        "id": "tdBcdMB0eW2d"
      },
      "source": [
        "왜 파트너 혹은 부양가족이 없으면 더 많은 이탈이 일어날까?"
      ]
    },
    {
      "cell_type": "markdown",
      "metadata": {
        "id": "1VDimcm5vAr8"
      },
      "source": [
        "## 가설3) 파트너 혹은 부양가족이 있으면 이탈율이 적은데 \n",
        "\n",
        "서비스측면에서 부가적인 혜택이 있는가?"
      ]
    },
    {
      "cell_type": "markdown",
      "metadata": {
        "id": "7OKLqjHrW4jI"
      },
      "source": [
        "이를 알아보기 위해 먼저 요금을 확인해 보자"
      ]
    },
    {
      "cell_type": "code",
      "metadata": {
        "id": "XGaaqn16W0P4",
        "colab": {
          "base_uri": "https://localhost:8080/"
        },
        "outputId": "fdd58fba-2c94-4220-dd3c-8e05e594b741"
      },
      "source": [
        "print(\" 갯수 :\", data['MonthlyCharges'].nunique())\n",
        "print(\" 최저값 :\",data['MonthlyCharges'].min())\n",
        "print(\" 최대값 :\", data['MonthlyCharges'].max())"
      ],
      "execution_count": 35,
      "outputs": [
        {
          "output_type": "stream",
          "text": [
            " 갯수 : 1585\n",
            " 최저값 : 18.25\n",
            " 최대값 : 118.75\n"
          ],
          "name": "stdout"
        }
      ]
    },
    {
      "cell_type": "code",
      "metadata": {
        "id": "fJNd4DklW0ID",
        "colab": {
          "base_uri": "https://localhost:8080/"
        },
        "outputId": "a5107870-0532-4bdd-cc95-22a76f0907d2"
      },
      "source": [
        "data['MonthlyCharges'] = pd.cut(data['MonthlyCharges'], 6)\n",
        "data['MonthlyCharges'].unique()"
      ],
      "execution_count": 36,
      "outputs": [
        {
          "output_type": "execute_result",
          "data": {
            "text/plain": [
              "[(18.15, 35.0], (51.75, 68.5], (35.0, 51.75], (68.5, 85.25], (85.25, 102.0], (102.0, 118.75]]\n",
              "Categories (6, interval[float64]): [(18.15, 35.0] < (35.0, 51.75] < (51.75, 68.5] < (68.5, 85.25] <\n",
              "                                    (85.25, 102.0] < (102.0, 118.75]]"
            ]
          },
          "metadata": {
            "tags": []
          },
          "execution_count": 36
        }
      ]
    },
    {
      "cell_type": "markdown",
      "metadata": {
        "id": "0aj2_U-TaQ4R"
      },
      "source": [
        "어떻게 해야 파트너 혹은 부양가족이 있는 유저들이 그렇지 않은 유저와 요금을 통해 비교해 볼 수 있을까?"
      ]
    },
    {
      "cell_type": "code",
      "metadata": {
        "id": "S6iMlZBqW0GB",
        "colab": {
          "base_uri": "https://localhost:8080/",
          "height": 138
        },
        "outputId": "0d8f3120-f8f1-4bb5-9d2a-8bf83fc9d301"
      },
      "source": [
        "#a = data.loc[(data['Partner'] == 'Yes') & (data['Dependents'] == 'Yes'),'MonthlyCharges']\n",
        "#b = data.loc[data['Partner'] == 'Yes','MonthlyCharges']\n",
        "#c = data.loc[data['Dependents'] == 'Yes', :]\n",
        "d = data.loc[data['Partner'] == 1,'Partner']\n",
        "e = data.loc[data['Partner'] == 0,'Partner']\n",
        "#pd.crosstab(d, data.MonthlyCharges,margins=True)\n",
        "pd.crosstab(e, data.MonthlyCharges,margins=True)\n"
      ],
      "execution_count": 37,
      "outputs": [
        {
          "output_type": "execute_result",
          "data": {
            "text/html": [
              "<div>\n",
              "<style scoped>\n",
              "    .dataframe tbody tr th:only-of-type {\n",
              "        vertical-align: middle;\n",
              "    }\n",
              "\n",
              "    .dataframe tbody tr th {\n",
              "        vertical-align: top;\n",
              "    }\n",
              "\n",
              "    .dataframe thead th {\n",
              "        text-align: right;\n",
              "    }\n",
              "</style>\n",
              "<table border=\"1\" class=\"dataframe\">\n",
              "  <thead>\n",
              "    <tr style=\"text-align: right;\">\n",
              "      <th>MonthlyCharges</th>\n",
              "      <th>(18.15, 35.0]</th>\n",
              "      <th>(35.0, 51.75]</th>\n",
              "      <th>(51.75, 68.5]</th>\n",
              "      <th>(68.5, 85.25]</th>\n",
              "      <th>(85.25, 102.0]</th>\n",
              "      <th>(102.0, 118.75]</th>\n",
              "      <th>All</th>\n",
              "    </tr>\n",
              "    <tr>\n",
              "      <th>Partner</th>\n",
              "      <th></th>\n",
              "      <th></th>\n",
              "      <th></th>\n",
              "      <th></th>\n",
              "      <th></th>\n",
              "      <th></th>\n",
              "      <th></th>\n",
              "    </tr>\n",
              "  </thead>\n",
              "  <tbody>\n",
              "    <tr>\n",
              "      <th>0</th>\n",
              "      <td>925</td>\n",
              "      <td>468</td>\n",
              "      <td>425</td>\n",
              "      <td>900</td>\n",
              "      <td>666</td>\n",
              "      <td>257</td>\n",
              "      <td>3641</td>\n",
              "    </tr>\n",
              "    <tr>\n",
              "      <th>All</th>\n",
              "      <td>925</td>\n",
              "      <td>468</td>\n",
              "      <td>425</td>\n",
              "      <td>900</td>\n",
              "      <td>666</td>\n",
              "      <td>257</td>\n",
              "      <td>3641</td>\n",
              "    </tr>\n",
              "  </tbody>\n",
              "</table>\n",
              "</div>"
            ],
            "text/plain": [
              "MonthlyCharges  (18.15, 35.0]  (35.0, 51.75]  ...  (102.0, 118.75]   All\n",
              "Partner                                       ...                       \n",
              "0                         925            468  ...              257  3641\n",
              "All                       925            468  ...              257  3641\n",
              "\n",
              "[2 rows x 7 columns]"
            ]
          },
          "metadata": {
            "tags": []
          },
          "execution_count": 37
        }
      ]
    },
    {
      "cell_type": "code",
      "metadata": {
        "id": "O7ZVqD5xW0C4",
        "colab": {
          "base_uri": "https://localhost:8080/",
          "height": 155
        },
        "outputId": "cf2a2b48-022b-401b-cedc-58c86ee34017"
      },
      "source": [
        "pd.crosstab(d, data.MonthlyCharges,margins=True)"
      ],
      "execution_count": 38,
      "outputs": [
        {
          "output_type": "execute_result",
          "data": {
            "text/html": [
              "<div>\n",
              "<style scoped>\n",
              "    .dataframe tbody tr th:only-of-type {\n",
              "        vertical-align: middle;\n",
              "    }\n",
              "\n",
              "    .dataframe tbody tr th {\n",
              "        vertical-align: top;\n",
              "    }\n",
              "\n",
              "    .dataframe thead th {\n",
              "        text-align: right;\n",
              "    }\n",
              "</style>\n",
              "<table border=\"1\" class=\"dataframe\">\n",
              "  <thead>\n",
              "    <tr style=\"text-align: right;\">\n",
              "      <th>MonthlyCharges</th>\n",
              "      <th>(18.15, 35.0]</th>\n",
              "      <th>(35.0, 51.75]</th>\n",
              "      <th>(51.75, 68.5]</th>\n",
              "      <th>(68.5, 85.25]</th>\n",
              "      <th>(85.25, 102.0]</th>\n",
              "      <th>(102.0, 118.75]</th>\n",
              "      <th>All</th>\n",
              "    </tr>\n",
              "    <tr>\n",
              "      <th>Partner</th>\n",
              "      <th></th>\n",
              "      <th></th>\n",
              "      <th></th>\n",
              "      <th></th>\n",
              "      <th></th>\n",
              "      <th></th>\n",
              "      <th></th>\n",
              "    </tr>\n",
              "  </thead>\n",
              "  <tbody>\n",
              "    <tr>\n",
              "      <th>1</th>\n",
              "      <td>810</td>\n",
              "      <td>248</td>\n",
              "      <td>400</td>\n",
              "      <td>714</td>\n",
              "      <td>762</td>\n",
              "      <td>468</td>\n",
              "      <td>3402</td>\n",
              "    </tr>\n",
              "    <tr>\n",
              "      <th>All</th>\n",
              "      <td>810</td>\n",
              "      <td>248</td>\n",
              "      <td>400</td>\n",
              "      <td>714</td>\n",
              "      <td>762</td>\n",
              "      <td>468</td>\n",
              "      <td>3402</td>\n",
              "    </tr>\n",
              "  </tbody>\n",
              "</table>\n",
              "</div>"
            ],
            "text/plain": [
              "MonthlyCharges  (18.15, 35.0]  (35.0, 51.75]  ...  (102.0, 118.75]   All\n",
              "Partner                                       ...                       \n",
              "1                         810            248  ...              468  3402\n",
              "All                       810            248  ...              468  3402\n",
              "\n",
              "[2 rows x 7 columns]"
            ]
          },
          "metadata": {
            "tags": []
          },
          "execution_count": 38
        }
      ]
    },
    {
      "cell_type": "markdown",
      "metadata": {
        "id": "9-98pFawpdyB"
      },
      "source": [
        "주어진 정보만으로 알기 힘들것 같다."
      ]
    },
    {
      "cell_type": "markdown",
      "metadata": {
        "id": "7l9bFRKk4lsy"
      },
      "source": [
        "인터넷서비스\n",
        "- 온라인 보안 여부, 온라인 백업 여부, 장치보호 여부, 기술지원 여부, StreamingTV, StreamingMovies 의 수치를 확인하면 No internet service 에서 똑같은 수치를 확인할 수 있다 \n",
        "- 인사이트 : 인터넷 서비스에 (온라인 보안 여부, 온라인 백업 여부, 장치보호 여부, 기술지원 여부, StreamingTV, StreamingMovies) 이 포함된다\n"
      ]
    },
    {
      "cell_type": "code",
      "metadata": {
        "id": "auiys57mZyWo",
        "colab": {
          "base_uri": "https://localhost:8080/",
          "height": 138
        },
        "outputId": "d5a2d911-18be-4bd0-e852-0403f299000a"
      },
      "source": [
        "pd.crosstab(data.Partner, data.StreamingTV, normalize= True)"
      ],
      "execution_count": 39,
      "outputs": [
        {
          "output_type": "execute_result",
          "data": {
            "text/html": [
              "<div>\n",
              "<style scoped>\n",
              "    .dataframe tbody tr th:only-of-type {\n",
              "        vertical-align: middle;\n",
              "    }\n",
              "\n",
              "    .dataframe tbody tr th {\n",
              "        vertical-align: top;\n",
              "    }\n",
              "\n",
              "    .dataframe thead th {\n",
              "        text-align: right;\n",
              "    }\n",
              "</style>\n",
              "<table border=\"1\" class=\"dataframe\">\n",
              "  <thead>\n",
              "    <tr style=\"text-align: right;\">\n",
              "      <th>StreamingTV</th>\n",
              "      <th>No</th>\n",
              "      <th>No internet service</th>\n",
              "      <th>Yes</th>\n",
              "    </tr>\n",
              "    <tr>\n",
              "      <th>Partner</th>\n",
              "      <th></th>\n",
              "      <th></th>\n",
              "      <th></th>\n",
              "    </tr>\n",
              "  </thead>\n",
              "  <tbody>\n",
              "    <tr>\n",
              "      <th>0</th>\n",
              "      <td>0.236689</td>\n",
              "      <td>0.111884</td>\n",
              "      <td>0.168394</td>\n",
              "    </tr>\n",
              "    <tr>\n",
              "      <th>1</th>\n",
              "      <td>0.162289</td>\n",
              "      <td>0.104785</td>\n",
              "      <td>0.215959</td>\n",
              "    </tr>\n",
              "  </tbody>\n",
              "</table>\n",
              "</div>"
            ],
            "text/plain": [
              "StreamingTV        No  No internet service       Yes\n",
              "Partner                                             \n",
              "0            0.236689             0.111884  0.168394\n",
              "1            0.162289             0.104785  0.215959"
            ]
          },
          "metadata": {
            "tags": []
          },
          "execution_count": 39
        }
      ]
    },
    {
      "cell_type": "code",
      "metadata": {
        "id": "06Ae8RGpT2Ip",
        "colab": {
          "base_uri": "https://localhost:8080/",
          "height": 138
        },
        "outputId": "26b6bbdc-76a0-4863-cf45-491e960d7c44"
      },
      "source": [
        "pd.crosstab(data.Partner, data.StreamingMovies, normalize= True)"
      ],
      "execution_count": 40,
      "outputs": [
        {
          "output_type": "execute_result",
          "data": {
            "text/html": [
              "<div>\n",
              "<style scoped>\n",
              "    .dataframe tbody tr th:only-of-type {\n",
              "        vertical-align: middle;\n",
              "    }\n",
              "\n",
              "    .dataframe tbody tr th {\n",
              "        vertical-align: top;\n",
              "    }\n",
              "\n",
              "    .dataframe thead th {\n",
              "        text-align: right;\n",
              "    }\n",
              "</style>\n",
              "<table border=\"1\" class=\"dataframe\">\n",
              "  <thead>\n",
              "    <tr style=\"text-align: right;\">\n",
              "      <th>StreamingMovies</th>\n",
              "      <th>No</th>\n",
              "      <th>No internet service</th>\n",
              "      <th>Yes</th>\n",
              "    </tr>\n",
              "    <tr>\n",
              "      <th>Partner</th>\n",
              "      <th></th>\n",
              "      <th></th>\n",
              "      <th></th>\n",
              "    </tr>\n",
              "  </thead>\n",
              "  <tbody>\n",
              "    <tr>\n",
              "      <th>0</th>\n",
              "      <td>0.233139</td>\n",
              "      <td>0.111884</td>\n",
              "      <td>0.171944</td>\n",
              "    </tr>\n",
              "    <tr>\n",
              "      <th>1</th>\n",
              "      <td>0.162289</td>\n",
              "      <td>0.104785</td>\n",
              "      <td>0.215959</td>\n",
              "    </tr>\n",
              "  </tbody>\n",
              "</table>\n",
              "</div>"
            ],
            "text/plain": [
              "StreamingMovies        No  No internet service       Yes\n",
              "Partner                                                 \n",
              "0                0.233139             0.111884  0.171944\n",
              "1                0.162289             0.104785  0.215959"
            ]
          },
          "metadata": {
            "tags": []
          },
          "execution_count": 40
        }
      ]
    },
    {
      "cell_type": "code",
      "metadata": {
        "id": "R3rbq5QJzByh",
        "colab": {
          "base_uri": "https://localhost:8080/",
          "height": 138
        },
        "outputId": "b1516a9c-c2ca-420f-a15f-f2190a89d803"
      },
      "source": [
        "pd.crosstab(data.Partner, data.OnlineBackup , normalize= True)"
      ],
      "execution_count": 41,
      "outputs": [
        {
          "output_type": "execute_result",
          "data": {
            "text/html": [
              "<div>\n",
              "<style scoped>\n",
              "    .dataframe tbody tr th:only-of-type {\n",
              "        vertical-align: middle;\n",
              "    }\n",
              "\n",
              "    .dataframe tbody tr th {\n",
              "        vertical-align: top;\n",
              "    }\n",
              "\n",
              "    .dataframe thead th {\n",
              "        text-align: right;\n",
              "    }\n",
              "</style>\n",
              "<table border=\"1\" class=\"dataframe\">\n",
              "  <thead>\n",
              "    <tr style=\"text-align: right;\">\n",
              "      <th>OnlineBackup</th>\n",
              "      <th>No</th>\n",
              "      <th>No internet service</th>\n",
              "      <th>Yes</th>\n",
              "    </tr>\n",
              "    <tr>\n",
              "      <th>Partner</th>\n",
              "      <th></th>\n",
              "      <th></th>\n",
              "      <th></th>\n",
              "    </tr>\n",
              "  </thead>\n",
              "  <tbody>\n",
              "    <tr>\n",
              "      <th>0</th>\n",
              "      <td>0.260400</td>\n",
              "      <td>0.111884</td>\n",
              "      <td>0.144683</td>\n",
              "    </tr>\n",
              "    <tr>\n",
              "      <th>1</th>\n",
              "      <td>0.178049</td>\n",
              "      <td>0.104785</td>\n",
              "      <td>0.200199</td>\n",
              "    </tr>\n",
              "  </tbody>\n",
              "</table>\n",
              "</div>"
            ],
            "text/plain": [
              "OnlineBackup        No  No internet service       Yes\n",
              "Partner                                              \n",
              "0             0.260400             0.111884  0.144683\n",
              "1             0.178049             0.104785  0.200199"
            ]
          },
          "metadata": {
            "tags": []
          },
          "execution_count": 41
        }
      ]
    },
    {
      "cell_type": "code",
      "metadata": {
        "id": "glgey5pnz4oN",
        "colab": {
          "base_uri": "https://localhost:8080/",
          "height": 138
        },
        "outputId": "3b687e8d-4cdd-4e5e-96d9-349f61da1b3a"
      },
      "source": [
        "pd.crosstab(data.Partner, data.OnlineSecurity  , normalize= True)"
      ],
      "execution_count": 42,
      "outputs": [
        {
          "output_type": "execute_result",
          "data": {
            "text/html": [
              "<div>\n",
              "<style scoped>\n",
              "    .dataframe tbody tr th:only-of-type {\n",
              "        vertical-align: middle;\n",
              "    }\n",
              "\n",
              "    .dataframe tbody tr th {\n",
              "        vertical-align: top;\n",
              "    }\n",
              "\n",
              "    .dataframe thead th {\n",
              "        text-align: right;\n",
              "    }\n",
              "</style>\n",
              "<table border=\"1\" class=\"dataframe\">\n",
              "  <thead>\n",
              "    <tr style=\"text-align: right;\">\n",
              "      <th>OnlineSecurity</th>\n",
              "      <th>No</th>\n",
              "      <th>No internet service</th>\n",
              "      <th>Yes</th>\n",
              "    </tr>\n",
              "    <tr>\n",
              "      <th>Partner</th>\n",
              "      <th></th>\n",
              "      <th></th>\n",
              "      <th></th>\n",
              "    </tr>\n",
              "  </thead>\n",
              "  <tbody>\n",
              "    <tr>\n",
              "      <th>0</th>\n",
              "      <td>0.289223</td>\n",
              "      <td>0.111884</td>\n",
              "      <td>0.115860</td>\n",
              "    </tr>\n",
              "    <tr>\n",
              "      <th>1</th>\n",
              "      <td>0.207440</td>\n",
              "      <td>0.104785</td>\n",
              "      <td>0.170808</td>\n",
              "    </tr>\n",
              "  </tbody>\n",
              "</table>\n",
              "</div>"
            ],
            "text/plain": [
              "OnlineSecurity        No  No internet service       Yes\n",
              "Partner                                                \n",
              "0               0.289223             0.111884  0.115860\n",
              "1               0.207440             0.104785  0.170808"
            ]
          },
          "metadata": {
            "tags": []
          },
          "execution_count": 42
        }
      ]
    },
    {
      "cell_type": "code",
      "metadata": {
        "id": "NIKWkvuKzrxD",
        "colab": {
          "base_uri": "https://localhost:8080/",
          "height": 138
        },
        "outputId": "6e3e5917-2f1c-4a1b-a388-ae49ec77393a"
      },
      "source": [
        "pd.crosstab(data.Partner, data.TechSupport  , normalize= True)"
      ],
      "execution_count": 43,
      "outputs": [
        {
          "output_type": "execute_result",
          "data": {
            "text/html": [
              "<div>\n",
              "<style scoped>\n",
              "    .dataframe tbody tr th:only-of-type {\n",
              "        vertical-align: middle;\n",
              "    }\n",
              "\n",
              "    .dataframe tbody tr th {\n",
              "        vertical-align: top;\n",
              "    }\n",
              "\n",
              "    .dataframe thead th {\n",
              "        text-align: right;\n",
              "    }\n",
              "</style>\n",
              "<table border=\"1\" class=\"dataframe\">\n",
              "  <thead>\n",
              "    <tr style=\"text-align: right;\">\n",
              "      <th>TechSupport</th>\n",
              "      <th>No</th>\n",
              "      <th>No internet service</th>\n",
              "      <th>Yes</th>\n",
              "    </tr>\n",
              "    <tr>\n",
              "      <th>Partner</th>\n",
              "      <th></th>\n",
              "      <th></th>\n",
              "      <th></th>\n",
              "    </tr>\n",
              "  </thead>\n",
              "  <tbody>\n",
              "    <tr>\n",
              "      <th>0</th>\n",
              "      <td>0.282266</td>\n",
              "      <td>0.111884</td>\n",
              "      <td>0.122817</td>\n",
              "    </tr>\n",
              "    <tr>\n",
              "      <th>1</th>\n",
              "      <td>0.210848</td>\n",
              "      <td>0.104785</td>\n",
              "      <td>0.167400</td>\n",
              "    </tr>\n",
              "  </tbody>\n",
              "</table>\n",
              "</div>"
            ],
            "text/plain": [
              "TechSupport        No  No internet service       Yes\n",
              "Partner                                             \n",
              "0            0.282266             0.111884  0.122817\n",
              "1            0.210848             0.104785  0.167400"
            ]
          },
          "metadata": {
            "tags": []
          },
          "execution_count": 43
        }
      ]
    },
    {
      "cell_type": "code",
      "metadata": {
        "id": "ymj58aGmzrup",
        "colab": {
          "base_uri": "https://localhost:8080/",
          "height": 138
        },
        "outputId": "8939cfd6-b806-488a-bc4d-01f3eea63ba4"
      },
      "source": [
        "pd.crosstab(data.Partner, data.DeviceProtection  , normalize= True)"
      ],
      "execution_count": 44,
      "outputs": [
        {
          "output_type": "execute_result",
          "data": {
            "text/html": [
              "<div>\n",
              "<style scoped>\n",
              "    .dataframe tbody tr th:only-of-type {\n",
              "        vertical-align: middle;\n",
              "    }\n",
              "\n",
              "    .dataframe tbody tr th {\n",
              "        vertical-align: top;\n",
              "    }\n",
              "\n",
              "    .dataframe thead th {\n",
              "        text-align: right;\n",
              "    }\n",
              "</style>\n",
              "<table border=\"1\" class=\"dataframe\">\n",
              "  <thead>\n",
              "    <tr style=\"text-align: right;\">\n",
              "      <th>DeviceProtection</th>\n",
              "      <th>No</th>\n",
              "      <th>No internet service</th>\n",
              "      <th>Yes</th>\n",
              "    </tr>\n",
              "    <tr>\n",
              "      <th>Partner</th>\n",
              "      <th></th>\n",
              "      <th></th>\n",
              "      <th></th>\n",
              "    </tr>\n",
              "  </thead>\n",
              "  <tbody>\n",
              "    <tr>\n",
              "      <th>0</th>\n",
              "      <td>0.263808</td>\n",
              "      <td>0.111884</td>\n",
              "      <td>0.141275</td>\n",
              "    </tr>\n",
              "    <tr>\n",
              "      <th>1</th>\n",
              "      <td>0.175635</td>\n",
              "      <td>0.104785</td>\n",
              "      <td>0.202613</td>\n",
              "    </tr>\n",
              "  </tbody>\n",
              "</table>\n",
              "</div>"
            ],
            "text/plain": [
              "DeviceProtection        No  No internet service       Yes\n",
              "Partner                                                  \n",
              "0                 0.263808             0.111884  0.141275\n",
              "1                 0.175635             0.104785  0.202613"
            ]
          },
          "metadata": {
            "tags": []
          },
          "execution_count": 44
        }
      ]
    },
    {
      "cell_type": "code",
      "metadata": {
        "id": "l7RtNWyBz4lh",
        "colab": {
          "base_uri": "https://localhost:8080/",
          "height": 138
        },
        "outputId": "ce12a840-b42d-431f-9ef0-465352194553"
      },
      "source": [
        "pd.crosstab(data.Partner, data.InternetService  , normalize= True)"
      ],
      "execution_count": 45,
      "outputs": [
        {
          "output_type": "execute_result",
          "data": {
            "text/html": [
              "<div>\n",
              "<style scoped>\n",
              "    .dataframe tbody tr th:only-of-type {\n",
              "        vertical-align: middle;\n",
              "    }\n",
              "\n",
              "    .dataframe tbody tr th {\n",
              "        vertical-align: top;\n",
              "    }\n",
              "\n",
              "    .dataframe thead th {\n",
              "        text-align: right;\n",
              "    }\n",
              "</style>\n",
              "<table border=\"1\" class=\"dataframe\">\n",
              "  <thead>\n",
              "    <tr style=\"text-align: right;\">\n",
              "      <th>InternetService</th>\n",
              "      <th>DSL</th>\n",
              "      <th>Fiber optic</th>\n",
              "      <th>No</th>\n",
              "    </tr>\n",
              "    <tr>\n",
              "      <th>Partner</th>\n",
              "      <th></th>\n",
              "      <th></th>\n",
              "      <th></th>\n",
              "    </tr>\n",
              "  </thead>\n",
              "  <tbody>\n",
              "    <tr>\n",
              "      <th>0</th>\n",
              "      <td>0.177907</td>\n",
              "      <td>0.227176</td>\n",
              "      <td>0.111884</td>\n",
              "    </tr>\n",
              "    <tr>\n",
              "      <th>1</th>\n",
              "      <td>0.165838</td>\n",
              "      <td>0.212409</td>\n",
              "      <td>0.104785</td>\n",
              "    </tr>\n",
              "  </tbody>\n",
              "</table>\n",
              "</div>"
            ],
            "text/plain": [
              "InternetService       DSL  Fiber optic        No\n",
              "Partner                                         \n",
              "0                0.177907     0.227176  0.111884\n",
              "1                0.165838     0.212409  0.104785"
            ]
          },
          "metadata": {
            "tags": []
          },
          "execution_count": 45
        }
      ]
    },
    {
      "cell_type": "markdown",
      "metadata": {
        "id": "XtI1T40X4jvD"
      },
      "source": [
        "폰 서비스\n",
        "- 폰서비스에 MultipleLines 이 포함된다. "
      ]
    },
    {
      "cell_type": "code",
      "metadata": {
        "id": "4uIY5qGE4T07",
        "colab": {
          "base_uri": "https://localhost:8080/",
          "height": 138
        },
        "outputId": "40caecb8-c2c4-47a5-af2f-278f3f6177d6"
      },
      "source": [
        "pd.crosstab(data.Partner, data.PhoneService    , normalize= True)"
      ],
      "execution_count": 46,
      "outputs": [
        {
          "output_type": "execute_result",
          "data": {
            "text/html": [
              "<div>\n",
              "<style scoped>\n",
              "    .dataframe tbody tr th:only-of-type {\n",
              "        vertical-align: middle;\n",
              "    }\n",
              "\n",
              "    .dataframe tbody tr th {\n",
              "        vertical-align: top;\n",
              "    }\n",
              "\n",
              "    .dataframe thead th {\n",
              "        text-align: right;\n",
              "    }\n",
              "</style>\n",
              "<table border=\"1\" class=\"dataframe\">\n",
              "  <thead>\n",
              "    <tr style=\"text-align: right;\">\n",
              "      <th>PhoneService</th>\n",
              "      <th>No</th>\n",
              "      <th>Yes</th>\n",
              "    </tr>\n",
              "    <tr>\n",
              "      <th>Partner</th>\n",
              "      <th></th>\n",
              "      <th></th>\n",
              "    </tr>\n",
              "  </thead>\n",
              "  <tbody>\n",
              "    <tr>\n",
              "      <th>0</th>\n",
              "      <td>0.052676</td>\n",
              "      <td>0.464291</td>\n",
              "    </tr>\n",
              "    <tr>\n",
              "      <th>1</th>\n",
              "      <td>0.044157</td>\n",
              "      <td>0.438875</td>\n",
              "    </tr>\n",
              "  </tbody>\n",
              "</table>\n",
              "</div>"
            ],
            "text/plain": [
              "PhoneService        No       Yes\n",
              "Partner                         \n",
              "0             0.052676  0.464291\n",
              "1             0.044157  0.438875"
            ]
          },
          "metadata": {
            "tags": []
          },
          "execution_count": 46
        }
      ]
    },
    {
      "cell_type": "code",
      "metadata": {
        "id": "1jzz09JLz4ir",
        "colab": {
          "base_uri": "https://localhost:8080/",
          "height": 138
        },
        "outputId": "9476ac1c-2c9a-4ff5-fc62-84bd32bd6a36"
      },
      "source": [
        "pd.crosstab(data.Partner, data.MultipleLines    , normalize= True)\n"
      ],
      "execution_count": 47,
      "outputs": [
        {
          "output_type": "execute_result",
          "data": {
            "text/html": [
              "<div>\n",
              "<style scoped>\n",
              "    .dataframe tbody tr th:only-of-type {\n",
              "        vertical-align: middle;\n",
              "    }\n",
              "\n",
              "    .dataframe tbody tr th {\n",
              "        vertical-align: top;\n",
              "    }\n",
              "\n",
              "    .dataframe thead th {\n",
              "        text-align: right;\n",
              "    }\n",
              "</style>\n",
              "<table border=\"1\" class=\"dataframe\">\n",
              "  <thead>\n",
              "    <tr style=\"text-align: right;\">\n",
              "      <th>MultipleLines</th>\n",
              "      <th>No</th>\n",
              "      <th>No phone service</th>\n",
              "      <th>Yes</th>\n",
              "    </tr>\n",
              "    <tr>\n",
              "      <th>Partner</th>\n",
              "      <th></th>\n",
              "      <th></th>\n",
              "      <th></th>\n",
              "    </tr>\n",
              "  </thead>\n",
              "  <tbody>\n",
              "    <tr>\n",
              "      <th>0</th>\n",
              "      <td>0.281272</td>\n",
              "      <td>0.052676</td>\n",
              "      <td>0.183019</td>\n",
              "    </tr>\n",
              "    <tr>\n",
              "      <th>1</th>\n",
              "      <td>0.200057</td>\n",
              "      <td>0.044157</td>\n",
              "      <td>0.238819</td>\n",
              "    </tr>\n",
              "  </tbody>\n",
              "</table>\n",
              "</div>"
            ],
            "text/plain": [
              "MultipleLines        No  No phone service       Yes\n",
              "Partner                                            \n",
              "0              0.281272          0.052676  0.183019\n",
              "1              0.200057          0.044157  0.238819"
            ]
          },
          "metadata": {
            "tags": []
          },
          "execution_count": 47
        }
      ]
    },
    {
      "cell_type": "markdown",
      "metadata": {
        "id": "pKo0kA7j0sWS"
      },
      "source": [
        "인사이트 \n",
        "- 인터넷 서비스를 사용하지않으면 다음 서비스( 온라인 보안 여부, 온라인 백업 여부, 장치보호 여부, 기술지원 여부, StreamingTV, StreamingMovies)를 같이 이용하지 않음을 보아 인터넷 서비스에 포함되는 내용인것으로 추측해 볼 수 있다. \n",
        "- MultipleLines 즉, 여러회선 여부는 폰서비스에 해당한다."
      ]
    },
    {
      "cell_type": "markdown",
      "metadata": {
        "id": "Z7dvwsI-q1BG"
      },
      "source": [
        "# 중간 인사이트 정리\n"
      ]
    },
    {
      "cell_type": "markdown",
      "metadata": {
        "id": "bQeFpSWTq4K4"
      },
      "source": [
        "- 장기계약을 한 고객일 수록 이탈률을 줄일 수 있다. \n",
        "- 5개월 이상 연속으로 사용하게 되면 이탈률을 줄일 수 있다.\n",
        "- 고령자 고객분들의 이탈률이 높으므로 고령자 분들을 위한 서비스를 기획해야할 필요가 있다, 향후 젊은 고객층이 고령자가 되었을시 이탈 방지를 위함\n",
        "- 파트너 혹은 부양가족이 없는 고객들의 이탈률이 더 높은 이유는 무엇일까?"
      ]
    },
    {
      "cell_type": "markdown",
      "metadata": {
        "id": "5S9KRz4ir2Bz"
      },
      "source": [
        "# 데이터 전처리"
      ]
    },
    {
      "cell_type": "markdown",
      "metadata": {
        "id": "U9Bm8vOF_XgW"
      },
      "source": [
        "## 배우자, 부양가족, 각종서비스"
      ]
    },
    {
      "cell_type": "markdown",
      "metadata": {
        "id": "T__pDYPH_RDq"
      },
      "source": [
        "중복되는 내용에 대해서 한번에 map함수를 사용하여 전처리 해준다."
      ]
    },
    {
      "cell_type": "markdown",
      "metadata": {
        "id": "RK2qDWNRSix5"
      },
      "source": [
        " - No  = 0\n",
        " - Yes = 1\n",
        " - No phone service = 2\n",
        " - No internet service = 3"
      ]
    },
    {
      "cell_type": "code",
      "metadata": {
        "id": "H4iKNDQRJYvt"
      },
      "source": [
        "#더 간단한 코드 없을까?\n",
        "mapping = {'No': 0, \n",
        "           'Yes': 1,\n",
        "           'No phone service': 2,\n",
        "           'No internet service' : 3}\n",
        "\n",
        "\n",
        "\n",
        "data['PhoneService'] = data['PhoneService'].map(mapping)\n",
        "data['MultipleLines'] = data['MultipleLines'].map(mapping)\n",
        "data['OnlineSecurity'] = data['OnlineSecurity'].map(mapping)\n",
        "data['OnlineBackup'] = data['OnlineBackup'].map(mapping)\n",
        "data['DeviceProtection'] = data['DeviceProtection'].map(mapping)\n",
        "data['TechSupport'] = data['TechSupport'].map(mapping)\n",
        "data['StreamingTV'] = data['StreamingTV'].map(mapping)\n",
        "data['StreamingMovies'] = data['StreamingMovies'].map(mapping)\n",
        "data['PaperlessBilling'] = data['PaperlessBilling'].map(mapping)\n"
      ],
      "execution_count": 48,
      "outputs": []
    },
    {
      "cell_type": "code",
      "metadata": {
        "colab": {
          "base_uri": "https://localhost:8080/",
          "height": 479
        },
        "id": "OsFVT_sFV83w",
        "outputId": "27ad1eff-9611-4a8f-a300-711e3b6bf450"
      },
      "source": [
        "data"
      ],
      "execution_count": 49,
      "outputs": [
        {
          "output_type": "execute_result",
          "data": {
            "text/html": [
              "<div>\n",
              "<style scoped>\n",
              "    .dataframe tbody tr th:only-of-type {\n",
              "        vertical-align: middle;\n",
              "    }\n",
              "\n",
              "    .dataframe tbody tr th {\n",
              "        vertical-align: top;\n",
              "    }\n",
              "\n",
              "    .dataframe thead th {\n",
              "        text-align: right;\n",
              "    }\n",
              "</style>\n",
              "<table border=\"1\" class=\"dataframe\">\n",
              "  <thead>\n",
              "    <tr style=\"text-align: right;\">\n",
              "      <th></th>\n",
              "      <th>gender</th>\n",
              "      <th>SeniorCitizen</th>\n",
              "      <th>Partner</th>\n",
              "      <th>Dependents</th>\n",
              "      <th>tenure</th>\n",
              "      <th>PhoneService</th>\n",
              "      <th>MultipleLines</th>\n",
              "      <th>InternetService</th>\n",
              "      <th>OnlineSecurity</th>\n",
              "      <th>OnlineBackup</th>\n",
              "      <th>DeviceProtection</th>\n",
              "      <th>TechSupport</th>\n",
              "      <th>StreamingTV</th>\n",
              "      <th>StreamingMovies</th>\n",
              "      <th>Contract</th>\n",
              "      <th>PaperlessBilling</th>\n",
              "      <th>PaymentMethod</th>\n",
              "      <th>MonthlyCharges</th>\n",
              "      <th>TotalCharges</th>\n",
              "      <th>Churn</th>\n",
              "    </tr>\n",
              "  </thead>\n",
              "  <tbody>\n",
              "    <tr>\n",
              "      <th>0</th>\n",
              "      <td>0</td>\n",
              "      <td>0</td>\n",
              "      <td>1</td>\n",
              "      <td>0</td>\n",
              "      <td>0</td>\n",
              "      <td>0</td>\n",
              "      <td>2</td>\n",
              "      <td>DSL</td>\n",
              "      <td>0</td>\n",
              "      <td>1</td>\n",
              "      <td>0</td>\n",
              "      <td>0</td>\n",
              "      <td>0</td>\n",
              "      <td>0</td>\n",
              "      <td>0</td>\n",
              "      <td>1</td>\n",
              "      <td>Electronic check</td>\n",
              "      <td>(18.15, 35.0]</td>\n",
              "      <td>29.85</td>\n",
              "      <td>0</td>\n",
              "    </tr>\n",
              "    <tr>\n",
              "      <th>1</th>\n",
              "      <td>1</td>\n",
              "      <td>0</td>\n",
              "      <td>0</td>\n",
              "      <td>0</td>\n",
              "      <td>2</td>\n",
              "      <td>1</td>\n",
              "      <td>0</td>\n",
              "      <td>DSL</td>\n",
              "      <td>1</td>\n",
              "      <td>0</td>\n",
              "      <td>1</td>\n",
              "      <td>0</td>\n",
              "      <td>0</td>\n",
              "      <td>0</td>\n",
              "      <td>1</td>\n",
              "      <td>0</td>\n",
              "      <td>Mailed check</td>\n",
              "      <td>(51.75, 68.5]</td>\n",
              "      <td>1889.5</td>\n",
              "      <td>0</td>\n",
              "    </tr>\n",
              "    <tr>\n",
              "      <th>2</th>\n",
              "      <td>1</td>\n",
              "      <td>0</td>\n",
              "      <td>0</td>\n",
              "      <td>0</td>\n",
              "      <td>0</td>\n",
              "      <td>1</td>\n",
              "      <td>0</td>\n",
              "      <td>DSL</td>\n",
              "      <td>1</td>\n",
              "      <td>1</td>\n",
              "      <td>0</td>\n",
              "      <td>0</td>\n",
              "      <td>0</td>\n",
              "      <td>0</td>\n",
              "      <td>0</td>\n",
              "      <td>1</td>\n",
              "      <td>Mailed check</td>\n",
              "      <td>(51.75, 68.5]</td>\n",
              "      <td>108.15</td>\n",
              "      <td>1</td>\n",
              "    </tr>\n",
              "    <tr>\n",
              "      <th>3</th>\n",
              "      <td>1</td>\n",
              "      <td>0</td>\n",
              "      <td>0</td>\n",
              "      <td>0</td>\n",
              "      <td>3</td>\n",
              "      <td>0</td>\n",
              "      <td>2</td>\n",
              "      <td>DSL</td>\n",
              "      <td>1</td>\n",
              "      <td>0</td>\n",
              "      <td>1</td>\n",
              "      <td>1</td>\n",
              "      <td>0</td>\n",
              "      <td>0</td>\n",
              "      <td>1</td>\n",
              "      <td>0</td>\n",
              "      <td>Bank transfer (automatic)</td>\n",
              "      <td>(35.0, 51.75]</td>\n",
              "      <td>1840.75</td>\n",
              "      <td>0</td>\n",
              "    </tr>\n",
              "    <tr>\n",
              "      <th>4</th>\n",
              "      <td>0</td>\n",
              "      <td>0</td>\n",
              "      <td>0</td>\n",
              "      <td>0</td>\n",
              "      <td>0</td>\n",
              "      <td>1</td>\n",
              "      <td>0</td>\n",
              "      <td>Fiber optic</td>\n",
              "      <td>0</td>\n",
              "      <td>0</td>\n",
              "      <td>0</td>\n",
              "      <td>0</td>\n",
              "      <td>0</td>\n",
              "      <td>0</td>\n",
              "      <td>0</td>\n",
              "      <td>1</td>\n",
              "      <td>Electronic check</td>\n",
              "      <td>(68.5, 85.25]</td>\n",
              "      <td>151.65</td>\n",
              "      <td>1</td>\n",
              "    </tr>\n",
              "    <tr>\n",
              "      <th>...</th>\n",
              "      <td>...</td>\n",
              "      <td>...</td>\n",
              "      <td>...</td>\n",
              "      <td>...</td>\n",
              "      <td>...</td>\n",
              "      <td>...</td>\n",
              "      <td>...</td>\n",
              "      <td>...</td>\n",
              "      <td>...</td>\n",
              "      <td>...</td>\n",
              "      <td>...</td>\n",
              "      <td>...</td>\n",
              "      <td>...</td>\n",
              "      <td>...</td>\n",
              "      <td>...</td>\n",
              "      <td>...</td>\n",
              "      <td>...</td>\n",
              "      <td>...</td>\n",
              "      <td>...</td>\n",
              "      <td>...</td>\n",
              "    </tr>\n",
              "    <tr>\n",
              "      <th>7038</th>\n",
              "      <td>1</td>\n",
              "      <td>0</td>\n",
              "      <td>1</td>\n",
              "      <td>1</td>\n",
              "      <td>1</td>\n",
              "      <td>1</td>\n",
              "      <td>1</td>\n",
              "      <td>DSL</td>\n",
              "      <td>1</td>\n",
              "      <td>0</td>\n",
              "      <td>1</td>\n",
              "      <td>1</td>\n",
              "      <td>1</td>\n",
              "      <td>1</td>\n",
              "      <td>1</td>\n",
              "      <td>1</td>\n",
              "      <td>Mailed check</td>\n",
              "      <td>(68.5, 85.25]</td>\n",
              "      <td>1990.5</td>\n",
              "      <td>0</td>\n",
              "    </tr>\n",
              "    <tr>\n",
              "      <th>7039</th>\n",
              "      <td>0</td>\n",
              "      <td>0</td>\n",
              "      <td>1</td>\n",
              "      <td>1</td>\n",
              "      <td>4</td>\n",
              "      <td>1</td>\n",
              "      <td>1</td>\n",
              "      <td>Fiber optic</td>\n",
              "      <td>0</td>\n",
              "      <td>1</td>\n",
              "      <td>1</td>\n",
              "      <td>0</td>\n",
              "      <td>1</td>\n",
              "      <td>1</td>\n",
              "      <td>1</td>\n",
              "      <td>1</td>\n",
              "      <td>Credit card (automatic)</td>\n",
              "      <td>(102.0, 118.75]</td>\n",
              "      <td>7362.9</td>\n",
              "      <td>0</td>\n",
              "    </tr>\n",
              "    <tr>\n",
              "      <th>7040</th>\n",
              "      <td>0</td>\n",
              "      <td>0</td>\n",
              "      <td>1</td>\n",
              "      <td>1</td>\n",
              "      <td>0</td>\n",
              "      <td>0</td>\n",
              "      <td>2</td>\n",
              "      <td>DSL</td>\n",
              "      <td>1</td>\n",
              "      <td>0</td>\n",
              "      <td>0</td>\n",
              "      <td>0</td>\n",
              "      <td>0</td>\n",
              "      <td>0</td>\n",
              "      <td>0</td>\n",
              "      <td>1</td>\n",
              "      <td>Electronic check</td>\n",
              "      <td>(18.15, 35.0]</td>\n",
              "      <td>346.45</td>\n",
              "      <td>0</td>\n",
              "    </tr>\n",
              "    <tr>\n",
              "      <th>7041</th>\n",
              "      <td>1</td>\n",
              "      <td>1</td>\n",
              "      <td>1</td>\n",
              "      <td>0</td>\n",
              "      <td>0</td>\n",
              "      <td>1</td>\n",
              "      <td>1</td>\n",
              "      <td>Fiber optic</td>\n",
              "      <td>0</td>\n",
              "      <td>0</td>\n",
              "      <td>0</td>\n",
              "      <td>0</td>\n",
              "      <td>0</td>\n",
              "      <td>0</td>\n",
              "      <td>0</td>\n",
              "      <td>1</td>\n",
              "      <td>Mailed check</td>\n",
              "      <td>(68.5, 85.25]</td>\n",
              "      <td>306.6</td>\n",
              "      <td>1</td>\n",
              "    </tr>\n",
              "    <tr>\n",
              "      <th>7042</th>\n",
              "      <td>1</td>\n",
              "      <td>0</td>\n",
              "      <td>0</td>\n",
              "      <td>0</td>\n",
              "      <td>4</td>\n",
              "      <td>1</td>\n",
              "      <td>0</td>\n",
              "      <td>Fiber optic</td>\n",
              "      <td>1</td>\n",
              "      <td>0</td>\n",
              "      <td>1</td>\n",
              "      <td>1</td>\n",
              "      <td>1</td>\n",
              "      <td>1</td>\n",
              "      <td>2</td>\n",
              "      <td>1</td>\n",
              "      <td>Bank transfer (automatic)</td>\n",
              "      <td>(102.0, 118.75]</td>\n",
              "      <td>6844.5</td>\n",
              "      <td>0</td>\n",
              "    </tr>\n",
              "  </tbody>\n",
              "</table>\n",
              "<p>7043 rows × 20 columns</p>\n",
              "</div>"
            ],
            "text/plain": [
              "      gender  SeniorCitizen  Partner  ...   MonthlyCharges  TotalCharges  Churn\n",
              "0          0              0        1  ...    (18.15, 35.0]         29.85      0\n",
              "1          1              0        0  ...    (51.75, 68.5]        1889.5      0\n",
              "2          1              0        0  ...    (51.75, 68.5]        108.15      1\n",
              "3          1              0        0  ...    (35.0, 51.75]       1840.75      0\n",
              "4          0              0        0  ...    (68.5, 85.25]        151.65      1\n",
              "...      ...            ...      ...  ...              ...           ...    ...\n",
              "7038       1              0        1  ...    (68.5, 85.25]        1990.5      0\n",
              "7039       0              0        1  ...  (102.0, 118.75]        7362.9      0\n",
              "7040       0              0        1  ...    (18.15, 35.0]        346.45      0\n",
              "7041       1              1        1  ...    (68.5, 85.25]         306.6      1\n",
              "7042       1              0        0  ...  (102.0, 118.75]        6844.5      0\n",
              "\n",
              "[7043 rows x 20 columns]"
            ]
          },
          "metadata": {
            "tags": []
          },
          "execution_count": 49
        }
      ]
    },
    {
      "cell_type": "code",
      "metadata": {
        "id": "ERXg6tHHQ4Cw",
        "colab": {
          "base_uri": "https://localhost:8080/"
        },
        "outputId": "d703a53c-83b8-415d-f692-64d613e386c1"
      },
      "source": [
        "data.info()"
      ],
      "execution_count": 50,
      "outputs": [
        {
          "output_type": "stream",
          "text": [
            "<class 'pandas.core.frame.DataFrame'>\n",
            "RangeIndex: 7043 entries, 0 to 7042\n",
            "Data columns (total 20 columns):\n",
            " #   Column            Non-Null Count  Dtype   \n",
            "---  ------            --------------  -----   \n",
            " 0   gender            7043 non-null   int64   \n",
            " 1   SeniorCitizen     7043 non-null   int64   \n",
            " 2   Partner           7043 non-null   int64   \n",
            " 3   Dependents        7043 non-null   int64   \n",
            " 4   tenure            7043 non-null   int64   \n",
            " 5   PhoneService      7043 non-null   int64   \n",
            " 6   MultipleLines     7043 non-null   int64   \n",
            " 7   InternetService   7043 non-null   object  \n",
            " 8   OnlineSecurity    7043 non-null   int64   \n",
            " 9   OnlineBackup      7043 non-null   int64   \n",
            " 10  DeviceProtection  7043 non-null   int64   \n",
            " 11  TechSupport       7043 non-null   int64   \n",
            " 12  StreamingTV       7043 non-null   int64   \n",
            " 13  StreamingMovies   7043 non-null   int64   \n",
            " 14  Contract          7043 non-null   int64   \n",
            " 15  PaperlessBilling  7043 non-null   int64   \n",
            " 16  PaymentMethod     7043 non-null   object  \n",
            " 17  MonthlyCharges    7043 non-null   category\n",
            " 18  TotalCharges      7043 non-null   object  \n",
            " 19  Churn             7043 non-null   int64   \n",
            "dtypes: category(1), int64(16), object(3)\n",
            "memory usage: 1.0+ MB\n"
          ],
          "name": "stdout"
        }
      ]
    },
    {
      "cell_type": "markdown",
      "metadata": {
        "id": "y0QJgc_oALfl"
      },
      "source": [
        "## Tenure"
      ]
    },
    {
      "cell_type": "code",
      "metadata": {
        "id": "i2S-rSiYAKDV",
        "colab": {
          "base_uri": "https://localhost:8080/"
        },
        "outputId": "9b20bdf4-9c99-4fb3-eb26-21305d937a01"
      },
      "source": [
        "data['tenure']"
      ],
      "execution_count": 51,
      "outputs": [
        {
          "output_type": "execute_result",
          "data": {
            "text/plain": [
              "0       0\n",
              "1       2\n",
              "2       0\n",
              "3       3\n",
              "4       0\n",
              "       ..\n",
              "7038    1\n",
              "7039    4\n",
              "7040    0\n",
              "7041    0\n",
              "7042    4\n",
              "Name: tenure, Length: 7043, dtype: int64"
            ]
          },
          "metadata": {
            "tags": []
          },
          "execution_count": 51
        }
      ]
    },
    {
      "cell_type": "code",
      "metadata": {
        "id": "Nh1DVsJUASkc",
        "colab": {
          "base_uri": "https://localhost:8080/"
        },
        "outputId": "eab11442-96cd-424c-ae86-32a1b30569b8"
      },
      "source": [
        "from sklearn.preprocessing import LabelEncoder\n",
        "le = LabelEncoder()\n",
        "le.fit(data['tenure'])\n",
        "data['tenure'] = le.transform(data['tenure'])\n",
        "data['tenure']"
      ],
      "execution_count": 52,
      "outputs": [
        {
          "output_type": "execute_result",
          "data": {
            "text/plain": [
              "0       0\n",
              "1       2\n",
              "2       0\n",
              "3       3\n",
              "4       0\n",
              "       ..\n",
              "7038    1\n",
              "7039    4\n",
              "7040    0\n",
              "7041    0\n",
              "7042    4\n",
              "Name: tenure, Length: 7043, dtype: int64"
            ]
          },
          "metadata": {
            "tags": []
          },
          "execution_count": 52
        }
      ]
    },
    {
      "cell_type": "markdown",
      "metadata": {
        "id": "DGKK_z5zBBeB"
      },
      "source": [
        "## InternetService "
      ]
    },
    {
      "cell_type": "markdown",
      "metadata": {
        "id": "a7m2LLe4CKOk"
      },
      "source": [
        "InternetService : 인터넷 서비스(인터넷 서비스 제공없체: DSL, 광섬유, 아니요)"
      ]
    },
    {
      "cell_type": "code",
      "metadata": {
        "id": "9rPiOHa2CL-g",
        "colab": {
          "base_uri": "https://localhost:8080/"
        },
        "outputId": "6c9835fb-6125-4a41-9d88-4427f374de10"
      },
      "source": [
        "IS_mapping = {'DSL' : 0,'Fiber optic' : 1, 'No' : 2 }\n",
        "data['InternetService']= data['InternetService'].map(IS_mapping)\n",
        "data['InternetService'].tail(50)"
      ],
      "execution_count": 53,
      "outputs": [
        {
          "output_type": "execute_result",
          "data": {
            "text/plain": [
              "6993    1\n",
              "6994    2\n",
              "6995    0\n",
              "6996    0\n",
              "6997    1\n",
              "6998    1\n",
              "6999    0\n",
              "7000    2\n",
              "7001    0\n",
              "7002    1\n",
              "7003    0\n",
              "7004    1\n",
              "7005    2\n",
              "7006    1\n",
              "7007    0\n",
              "7008    1\n",
              "7009    1\n",
              "7010    1\n",
              "7011    0\n",
              "7012    0\n",
              "7013    1\n",
              "7014    1\n",
              "7015    1\n",
              "7016    0\n",
              "7017    2\n",
              "7018    1\n",
              "7019    2\n",
              "7020    2\n",
              "7021    0\n",
              "7022    1\n",
              "7023    1\n",
              "7024    1\n",
              "7025    1\n",
              "7026    0\n",
              "7027    0\n",
              "7028    0\n",
              "7029    0\n",
              "7030    2\n",
              "7031    0\n",
              "7032    1\n",
              "7033    1\n",
              "7034    1\n",
              "7035    1\n",
              "7036    0\n",
              "7037    2\n",
              "7038    0\n",
              "7039    1\n",
              "7040    0\n",
              "7041    1\n",
              "7042    1\n",
              "Name: InternetService, dtype: int64"
            ]
          },
          "metadata": {
            "tags": []
          },
          "execution_count": 53
        }
      ]
    },
    {
      "cell_type": "code",
      "metadata": {
        "id": "h3Juc4pJCjwP",
        "colab": {
          "base_uri": "https://localhost:8080/"
        },
        "outputId": "6f47715f-1b08-45d0-c241-e08e3d966c0a"
      },
      "source": [
        "data.info()"
      ],
      "execution_count": 54,
      "outputs": [
        {
          "output_type": "stream",
          "text": [
            "<class 'pandas.core.frame.DataFrame'>\n",
            "RangeIndex: 7043 entries, 0 to 7042\n",
            "Data columns (total 20 columns):\n",
            " #   Column            Non-Null Count  Dtype   \n",
            "---  ------            --------------  -----   \n",
            " 0   gender            7043 non-null   int64   \n",
            " 1   SeniorCitizen     7043 non-null   int64   \n",
            " 2   Partner           7043 non-null   int64   \n",
            " 3   Dependents        7043 non-null   int64   \n",
            " 4   tenure            7043 non-null   int64   \n",
            " 5   PhoneService      7043 non-null   int64   \n",
            " 6   MultipleLines     7043 non-null   int64   \n",
            " 7   InternetService   7043 non-null   int64   \n",
            " 8   OnlineSecurity    7043 non-null   int64   \n",
            " 9   OnlineBackup      7043 non-null   int64   \n",
            " 10  DeviceProtection  7043 non-null   int64   \n",
            " 11  TechSupport       7043 non-null   int64   \n",
            " 12  StreamingTV       7043 non-null   int64   \n",
            " 13  StreamingMovies   7043 non-null   int64   \n",
            " 14  Contract          7043 non-null   int64   \n",
            " 15  PaperlessBilling  7043 non-null   int64   \n",
            " 16  PaymentMethod     7043 non-null   object  \n",
            " 17  MonthlyCharges    7043 non-null   category\n",
            " 18  TotalCharges      7043 non-null   object  \n",
            " 19  Churn             7043 non-null   int64   \n",
            "dtypes: category(1), int64(17), object(2)\n",
            "memory usage: 1.0+ MB\n"
          ],
          "name": "stdout"
        }
      ]
    },
    {
      "cell_type": "markdown",
      "metadata": {
        "id": "HzKT9p7-3RLx"
      },
      "source": [
        "## PaymentMethod"
      ]
    },
    {
      "cell_type": "code",
      "metadata": {
        "id": "NtkztqeBDd-9",
        "colab": {
          "base_uri": "https://localhost:8080/"
        },
        "outputId": "6129bdc6-2c1b-442f-ae72-a376fe997d51"
      },
      "source": [
        "data['PaymentMethod'].unique()"
      ],
      "execution_count": 55,
      "outputs": [
        {
          "output_type": "execute_result",
          "data": {
            "text/plain": [
              "array(['Electronic check', 'Mailed check', 'Bank transfer (automatic)',\n",
              "       'Credit card (automatic)'], dtype=object)"
            ]
          },
          "metadata": {
            "tags": []
          },
          "execution_count": 55
        }
      ]
    },
    {
      "cell_type": "code",
      "metadata": {
        "id": "j5Uz5KmoDq4V",
        "colab": {
          "base_uri": "https://localhost:8080/"
        },
        "outputId": "6f1dc72f-3f43-4880-a1c5-f5e124ecccc5"
      },
      "source": [
        "P_mapping = {'Electronic check' : 0, 'Mailed check' : 1,  'Bank transfer (automatic)' : 2,  'Credit card (automatic)' : 3}\n",
        "data['PaymentMethod'] =data['PaymentMethod'].map(P_mapping).astype(int)\n",
        "data['PaymentMethod']"
      ],
      "execution_count": 56,
      "outputs": [
        {
          "output_type": "execute_result",
          "data": {
            "text/plain": [
              "0       0\n",
              "1       1\n",
              "2       1\n",
              "3       2\n",
              "4       0\n",
              "       ..\n",
              "7038    1\n",
              "7039    3\n",
              "7040    0\n",
              "7041    1\n",
              "7042    2\n",
              "Name: PaymentMethod, Length: 7043, dtype: int64"
            ]
          },
          "metadata": {
            "tags": []
          },
          "execution_count": 56
        }
      ]
    },
    {
      "cell_type": "markdown",
      "metadata": {
        "id": "_1N-94w1EKJE"
      },
      "source": [
        "## MonthlyCharges"
      ]
    },
    {
      "cell_type": "code",
      "metadata": {
        "id": "ALR3QjiSEIeM",
        "colab": {
          "base_uri": "https://localhost:8080/"
        },
        "outputId": "ad56abd9-e587-43eb-aff4-85fbddf03ec9"
      },
      "source": [
        "data['MonthlyCharges'].unique()"
      ],
      "execution_count": 57,
      "outputs": [
        {
          "output_type": "execute_result",
          "data": {
            "text/plain": [
              "[(18.15, 35.0], (51.75, 68.5], (35.0, 51.75], (68.5, 85.25], (85.25, 102.0], (102.0, 118.75]]\n",
              "Categories (6, interval[float64]): [(18.15, 35.0] < (35.0, 51.75] < (51.75, 68.5] < (68.5, 85.25] <\n",
              "                                    (85.25, 102.0] < (102.0, 118.75]]"
            ]
          },
          "metadata": {
            "tags": []
          },
          "execution_count": 57
        }
      ]
    },
    {
      "cell_type": "code",
      "metadata": {
        "id": "1I9_9wdOEdQn",
        "colab": {
          "base_uri": "https://localhost:8080/"
        },
        "outputId": "522b0228-5802-41b5-d3ab-03951cc9a89a"
      },
      "source": [
        "from sklearn.preprocessing import LabelEncoder\n",
        "le = LabelEncoder()\n",
        "data['MonthlyCharges'] = le.fit_transform(data['MonthlyCharges'])\n",
        "data['MonthlyCharges']"
      ],
      "execution_count": 58,
      "outputs": [
        {
          "output_type": "execute_result",
          "data": {
            "text/plain": [
              "0       0\n",
              "1       2\n",
              "2       2\n",
              "3       1\n",
              "4       3\n",
              "       ..\n",
              "7038    3\n",
              "7039    5\n",
              "7040    0\n",
              "7041    3\n",
              "7042    5\n",
              "Name: MonthlyCharges, Length: 7043, dtype: int64"
            ]
          },
          "metadata": {
            "tags": []
          },
          "execution_count": 58
        }
      ]
    },
    {
      "cell_type": "code",
      "metadata": {
        "id": "j67xWpcixi5k",
        "colab": {
          "base_uri": "https://localhost:8080/"
        },
        "outputId": "48e94138-4164-46dd-ac0c-09ea243b4ecd"
      },
      "source": [
        "data['MonthlyCharges'].unique()"
      ],
      "execution_count": 59,
      "outputs": [
        {
          "output_type": "execute_result",
          "data": {
            "text/plain": [
              "array([0, 2, 1, 3, 4, 5])"
            ]
          },
          "metadata": {
            "tags": []
          },
          "execution_count": 59
        }
      ]
    },
    {
      "cell_type": "markdown",
      "metadata": {
        "id": "NeTN6JorxnLp"
      },
      "source": [
        ""
      ]
    },
    {
      "cell_type": "code",
      "metadata": {
        "id": "I98ucsN3xmzW",
        "colab": {
          "base_uri": "https://localhost:8080/"
        },
        "outputId": "d6fce924-49d3-4ca5-d599-f27b84706110"
      },
      "source": [
        "data.info()"
      ],
      "execution_count": 60,
      "outputs": [
        {
          "output_type": "stream",
          "text": [
            "<class 'pandas.core.frame.DataFrame'>\n",
            "RangeIndex: 7043 entries, 0 to 7042\n",
            "Data columns (total 20 columns):\n",
            " #   Column            Non-Null Count  Dtype \n",
            "---  ------            --------------  ----- \n",
            " 0   gender            7043 non-null   int64 \n",
            " 1   SeniorCitizen     7043 non-null   int64 \n",
            " 2   Partner           7043 non-null   int64 \n",
            " 3   Dependents        7043 non-null   int64 \n",
            " 4   tenure            7043 non-null   int64 \n",
            " 5   PhoneService      7043 non-null   int64 \n",
            " 6   MultipleLines     7043 non-null   int64 \n",
            " 7   InternetService   7043 non-null   int64 \n",
            " 8   OnlineSecurity    7043 non-null   int64 \n",
            " 9   OnlineBackup      7043 non-null   int64 \n",
            " 10  DeviceProtection  7043 non-null   int64 \n",
            " 11  TechSupport       7043 non-null   int64 \n",
            " 12  StreamingTV       7043 non-null   int64 \n",
            " 13  StreamingMovies   7043 non-null   int64 \n",
            " 14  Contract          7043 non-null   int64 \n",
            " 15  PaperlessBilling  7043 non-null   int64 \n",
            " 16  PaymentMethod     7043 non-null   int64 \n",
            " 17  MonthlyCharges    7043 non-null   int64 \n",
            " 18  TotalCharges      7043 non-null   object\n",
            " 19  Churn             7043 non-null   int64 \n",
            "dtypes: int64(19), object(1)\n",
            "memory usage: 1.1+ MB\n"
          ],
          "name": "stdout"
        }
      ]
    },
    {
      "cell_type": "markdown",
      "metadata": {
        "id": "DVceeFE5yEok"
      },
      "source": [
        "## TotalCharges"
      ]
    },
    {
      "cell_type": "code",
      "metadata": {
        "id": "2xDbtDA5yHl4",
        "colab": {
          "base_uri": "https://localhost:8080/"
        },
        "outputId": "fe48e248-8b3e-41d1-8312-14e77d5873cd"
      },
      "source": [
        "data['TotalCharges']"
      ],
      "execution_count": 61,
      "outputs": [
        {
          "output_type": "execute_result",
          "data": {
            "text/plain": [
              "0         29.85\n",
              "1        1889.5\n",
              "2        108.15\n",
              "3       1840.75\n",
              "4        151.65\n",
              "         ...   \n",
              "7038     1990.5\n",
              "7039     7362.9\n",
              "7040     346.45\n",
              "7041      306.6\n",
              "7042     6844.5\n",
              "Name: TotalCharges, Length: 7043, dtype: object"
            ]
          },
          "metadata": {
            "tags": []
          },
          "execution_count": 61
        }
      ]
    },
    {
      "cell_type": "code",
      "metadata": {
        "id": "QKrgEN4D0_w2",
        "colab": {
          "base_uri": "https://localhost:8080/"
        },
        "outputId": "cd20511f-a7dc-4a1a-c316-e8c88b8b2b40"
      },
      "source": [
        "data.loc[data['TotalCharges']==' ','TotalCharges']"
      ],
      "execution_count": 62,
      "outputs": [
        {
          "output_type": "execute_result",
          "data": {
            "text/plain": [
              "488      \n",
              "753      \n",
              "936      \n",
              "1082     \n",
              "1340     \n",
              "3331     \n",
              "3826     \n",
              "4380     \n",
              "5218     \n",
              "6670     \n",
              "6754     \n",
              "Name: TotalCharges, dtype: object"
            ]
          },
          "metadata": {
            "tags": []
          },
          "execution_count": 62
        }
      ]
    },
    {
      "cell_type": "code",
      "metadata": {
        "id": "3Hdm4BMv8FvV",
        "colab": {
          "base_uri": "https://localhost:8080/"
        },
        "outputId": "592f0549-c6b7-4441-e704-bfc59e31db4e"
      },
      "source": [
        "data['TotalCharges'] = pd.to_numeric(data['TotalCharges'].replace(' ',''))\n",
        "data['TotalCharges']"
      ],
      "execution_count": 63,
      "outputs": [
        {
          "output_type": "execute_result",
          "data": {
            "text/plain": [
              "0         29.85\n",
              "1       1889.50\n",
              "2        108.15\n",
              "3       1840.75\n",
              "4        151.65\n",
              "         ...   \n",
              "7038    1990.50\n",
              "7039    7362.90\n",
              "7040     346.45\n",
              "7041     306.60\n",
              "7042    6844.50\n",
              "Name: TotalCharges, Length: 7043, dtype: float64"
            ]
          },
          "metadata": {
            "tags": []
          },
          "execution_count": 63
        }
      ]
    },
    {
      "cell_type": "code",
      "metadata": {
        "id": "r318tWDc6eOF",
        "colab": {
          "base_uri": "https://localhost:8080/",
          "height": 318
        },
        "outputId": "7655fbb5-3cfb-4b9d-ee44-1ee9cc5cefcb"
      },
      "source": [
        "# 이상치 여부 확인\n",
        "sns.boxplot(x = data['TotalCharges']) "
      ],
      "execution_count": 64,
      "outputs": [
        {
          "output_type": "execute_result",
          "data": {
            "text/plain": [
              "<AxesSubplot:xlabel='TotalCharges'>"
            ]
          },
          "metadata": {
            "tags": []
          },
          "execution_count": 64
        },
        {
          "output_type": "display_data",
          "data": {
            "image/png": "[encoded data removed]",
            "text/plain": [
              "<Figure size 432x288 with 1 Axes>"
            ]
          },
          "metadata": {
            "tags": []
          }
        }
      ]
    },
    {
      "cell_type": "code",
      "metadata": {
        "id": "ZtyLMOl2z3B8",
        "colab": {
          "base_uri": "https://localhost:8080/"
        },
        "outputId": "f52215b5-9969-4161-cc36-9bdf46939967"
      },
      "source": [
        "data.info()"
      ],
      "execution_count": 65,
      "outputs": [
        {
          "output_type": "stream",
          "text": [
            "<class 'pandas.core.frame.DataFrame'>\n",
            "RangeIndex: 7043 entries, 0 to 7042\n",
            "Data columns (total 20 columns):\n",
            " #   Column            Non-Null Count  Dtype  \n",
            "---  ------            --------------  -----  \n",
            " 0   gender            7043 non-null   int64  \n",
            " 1   SeniorCitizen     7043 non-null   int64  \n",
            " 2   Partner           7043 non-null   int64  \n",
            " 3   Dependents        7043 non-null   int64  \n",
            " 4   tenure            7043 non-null   int64  \n",
            " 5   PhoneService      7043 non-null   int64  \n",
            " 6   MultipleLines     7043 non-null   int64  \n",
            " 7   InternetService   7043 non-null   int64  \n",
            " 8   OnlineSecurity    7043 non-null   int64  \n",
            " 9   OnlineBackup      7043 non-null   int64  \n",
            " 10  DeviceProtection  7043 non-null   int64  \n",
            " 11  TechSupport       7043 non-null   int64  \n",
            " 12  StreamingTV       7043 non-null   int64  \n",
            " 13  StreamingMovies   7043 non-null   int64  \n",
            " 14  Contract          7043 non-null   int64  \n",
            " 15  PaperlessBilling  7043 non-null   int64  \n",
            " 16  PaymentMethod     7043 non-null   int64  \n",
            " 17  MonthlyCharges    7043 non-null   int64  \n",
            " 18  TotalCharges      7032 non-null   float64\n",
            " 19  Churn             7043 non-null   int64  \n",
            "dtypes: float64(1), int64(19)\n",
            "memory usage: 1.1 MB\n"
          ],
          "name": "stdout"
        }
      ]
    },
    {
      "cell_type": "code",
      "metadata": {
        "id": "s2_nNrnH1SPZ"
      },
      "source": [
        "# ' '를 ''로 바꾸면서 nan값이 생겨서 채워주어야한다.\n",
        "data['TotalCharges'].fillna(data['TotalCharges'].mean(),inplace = True)"
      ],
      "execution_count": 66,
      "outputs": []
    },
    {
      "cell_type": "code",
      "metadata": {
        "id": "S_Z_27qEwpBt",
        "colab": {
          "base_uri": "https://localhost:8080/"
        },
        "outputId": "dd04e7f5-f16f-4c8f-ce7f-7d8e039314f2"
      },
      "source": [
        "# qcut으로 위의 박스플롯의 사분면에 따른 분배 \n",
        "data['TotalCharges'] = pd.qcut(data['TotalCharges'], 4)\n",
        "data['TotalCharges'].unique()"
      ],
      "execution_count": 67,
      "outputs": [
        {
          "output_type": "execute_result",
          "data": {
            "text/plain": [
              "[(18.799, 402.225], (1400.55, 3786.6], (402.225, 1400.55], (3786.6, 8684.8]]\n",
              "Categories (4, interval[float64]): [(18.799, 402.225] < (402.225, 1400.55] < (1400.55, 3786.6] <\n",
              "                                    (3786.6, 8684.8]]"
            ]
          },
          "metadata": {
            "tags": []
          },
          "execution_count": 67
        }
      ]
    },
    {
      "cell_type": "code",
      "metadata": {
        "id": "e2cGGiwGxd7H",
        "colab": {
          "base_uri": "https://localhost:8080/"
        },
        "outputId": "835eadf6-227d-4ec3-84d8-d216153a4253"
      },
      "source": [
        "from sklearn.preprocessing import LabelEncoder\n",
        "le = LabelEncoder()\n",
        "data['TotalCharges'] = le.fit_transform(data['TotalCharges'])\n",
        "data['TotalCharges']"
      ],
      "execution_count": 68,
      "outputs": [
        {
          "output_type": "execute_result",
          "data": {
            "text/plain": [
              "0       0\n",
              "1       2\n",
              "2       0\n",
              "3       2\n",
              "4       0\n",
              "       ..\n",
              "7038    2\n",
              "7039    3\n",
              "7040    0\n",
              "7041    0\n",
              "7042    3\n",
              "Name: TotalCharges, Length: 7043, dtype: int64"
            ]
          },
          "metadata": {
            "tags": []
          },
          "execution_count": 68
        }
      ]
    },
    {
      "cell_type": "code",
      "metadata": {
        "id": "15a63X_o4cWO",
        "colab": {
          "base_uri": "https://localhost:8080/"
        },
        "outputId": "0f0afa16-c034-44e9-c133-c1e807c8ef57"
      },
      "source": [
        "data.info()"
      ],
      "execution_count": 69,
      "outputs": [
        {
          "output_type": "stream",
          "text": [
            "<class 'pandas.core.frame.DataFrame'>\n",
            "RangeIndex: 7043 entries, 0 to 7042\n",
            "Data columns (total 20 columns):\n",
            " #   Column            Non-Null Count  Dtype\n",
            "---  ------            --------------  -----\n",
            " 0   gender            7043 non-null   int64\n",
            " 1   SeniorCitizen     7043 non-null   int64\n",
            " 2   Partner           7043 non-null   int64\n",
            " 3   Dependents        7043 non-null   int64\n",
            " 4   tenure            7043 non-null   int64\n",
            " 5   PhoneService      7043 non-null   int64\n",
            " 6   MultipleLines     7043 non-null   int64\n",
            " 7   InternetService   7043 non-null   int64\n",
            " 8   OnlineSecurity    7043 non-null   int64\n",
            " 9   OnlineBackup      7043 non-null   int64\n",
            " 10  DeviceProtection  7043 non-null   int64\n",
            " 11  TechSupport       7043 non-null   int64\n",
            " 12  StreamingTV       7043 non-null   int64\n",
            " 13  StreamingMovies   7043 non-null   int64\n",
            " 14  Contract          7043 non-null   int64\n",
            " 15  PaperlessBilling  7043 non-null   int64\n",
            " 16  PaymentMethod     7043 non-null   int64\n",
            " 17  MonthlyCharges    7043 non-null   int64\n",
            " 18  TotalCharges      7043 non-null   int64\n",
            " 19  Churn             7043 non-null   int64\n",
            "dtypes: int64(20)\n",
            "memory usage: 1.1 MB\n"
          ],
          "name": "stdout"
        }
      ]
    },
    {
      "cell_type": "code",
      "metadata": {
        "id": "_HwLyB1i494J",
        "colab": {
          "base_uri": "https://localhost:8080/",
          "height": 648
        },
        "outputId": "4bcabfb4-927e-4092-8db8-6ac26ea3e821"
      },
      "source": [
        "# 상관관계 정도가 강한 인자 순서 나열\n",
        "pd.DataFrame(abs(data.corr()['Churn']).sort_values(ascending = False))"
      ],
      "execution_count": 70,
      "outputs": [
        {
          "output_type": "execute_result",
          "data": {
            "text/html": [
              "<div>\n",
              "<style scoped>\n",
              "    .dataframe tbody tr th:only-of-type {\n",
              "        vertical-align: middle;\n",
              "    }\n",
              "\n",
              "    .dataframe tbody tr th {\n",
              "        vertical-align: top;\n",
              "    }\n",
              "\n",
              "    .dataframe thead th {\n",
              "        text-align: right;\n",
              "    }\n",
              "</style>\n",
              "<table border=\"1\" class=\"dataframe\">\n",
              "  <thead>\n",
              "    <tr style=\"text-align: right;\">\n",
              "      <th></th>\n",
              "      <th>Churn</th>\n",
              "    </tr>\n",
              "  </thead>\n",
              "  <tbody>\n",
              "    <tr>\n",
              "      <th>Churn</th>\n",
              "      <td>1.000000</td>\n",
              "    </tr>\n",
              "    <tr>\n",
              "      <th>Contract</th>\n",
              "      <td>0.396713</td>\n",
              "    </tr>\n",
              "    <tr>\n",
              "      <th>tenure</th>\n",
              "      <td>0.338552</td>\n",
              "    </tr>\n",
              "    <tr>\n",
              "      <th>OnlineSecurity</th>\n",
              "      <td>0.307989</td>\n",
              "    </tr>\n",
              "    <tr>\n",
              "      <th>TechSupport</th>\n",
              "      <td>0.306032</td>\n",
              "    </tr>\n",
              "    <tr>\n",
              "      <th>OnlineBackup</th>\n",
              "      <td>0.280770</td>\n",
              "    </tr>\n",
              "    <tr>\n",
              "      <th>DeviceProtection</th>\n",
              "      <td>0.273951</td>\n",
              "    </tr>\n",
              "    <tr>\n",
              "      <th>PaymentMethod</th>\n",
              "      <td>0.262818</td>\n",
              "    </tr>\n",
              "    <tr>\n",
              "      <th>TotalCharges</th>\n",
              "      <td>0.225591</td>\n",
              "    </tr>\n",
              "    <tr>\n",
              "      <th>StreamingMovies</th>\n",
              "      <td>0.224214</td>\n",
              "    </tr>\n",
              "    <tr>\n",
              "      <th>StreamingTV</th>\n",
              "      <td>0.223123</td>\n",
              "    </tr>\n",
              "    <tr>\n",
              "      <th>PaperlessBilling</th>\n",
              "      <td>0.191825</td>\n",
              "    </tr>\n",
              "    <tr>\n",
              "      <th>MonthlyCharges</th>\n",
              "      <td>0.187707</td>\n",
              "    </tr>\n",
              "    <tr>\n",
              "      <th>Dependents</th>\n",
              "      <td>0.164221</td>\n",
              "    </tr>\n",
              "    <tr>\n",
              "      <th>SeniorCitizen</th>\n",
              "      <td>0.150889</td>\n",
              "    </tr>\n",
              "    <tr>\n",
              "      <th>Partner</th>\n",
              "      <td>0.150448</td>\n",
              "    </tr>\n",
              "    <tr>\n",
              "      <th>InternetService</th>\n",
              "      <td>0.047291</td>\n",
              "    </tr>\n",
              "    <tr>\n",
              "      <th>MultipleLines</th>\n",
              "      <td>0.019423</td>\n",
              "    </tr>\n",
              "    <tr>\n",
              "      <th>PhoneService</th>\n",
              "      <td>0.011942</td>\n",
              "    </tr>\n",
              "    <tr>\n",
              "      <th>gender</th>\n",
              "      <td>0.008612</td>\n",
              "    </tr>\n",
              "  </tbody>\n",
              "</table>\n",
              "</div>"
            ],
            "text/plain": [
              "                     Churn\n",
              "Churn             1.000000\n",
              "Contract          0.396713\n",
              "tenure            0.338552\n",
              "OnlineSecurity    0.307989\n",
              "TechSupport       0.306032\n",
              "OnlineBackup      0.280770\n",
              "DeviceProtection  0.273951\n",
              "PaymentMethod     0.262818\n",
              "TotalCharges      0.225591\n",
              "StreamingMovies   0.224214\n",
              "StreamingTV       0.223123\n",
              "PaperlessBilling  0.191825\n",
              "MonthlyCharges    0.187707\n",
              "Dependents        0.164221\n",
              "SeniorCitizen     0.150889\n",
              "Partner           0.150448\n",
              "InternetService   0.047291\n",
              "MultipleLines     0.019423\n",
              "PhoneService      0.011942\n",
              "gender            0.008612"
            ]
          },
          "metadata": {
            "tags": []
          },
          "execution_count": 70
        }
      ]
    },
    {
      "cell_type": "code",
      "metadata": {
        "id": "wZwJSRxVQOki",
        "colab": {
          "base_uri": "https://localhost:8080/",
          "height": 648
        },
        "outputId": "a456a452-541d-4254-fc41-bf8c6a24e8e1"
      },
      "source": [
        "# 양의 상관관계, 음의 상관관계 구별\n",
        "pd.DataFrame(data.corr()['Churn'].sort_values(ascending = False))"
      ],
      "execution_count": 71,
      "outputs": [
        {
          "output_type": "execute_result",
          "data": {
            "text/html": [
              "<div>\n",
              "<style scoped>\n",
              "    .dataframe tbody tr th:only-of-type {\n",
              "        vertical-align: middle;\n",
              "    }\n",
              "\n",
              "    .dataframe tbody tr th {\n",
              "        vertical-align: top;\n",
              "    }\n",
              "\n",
              "    .dataframe thead th {\n",
              "        text-align: right;\n",
              "    }\n",
              "</style>\n",
              "<table border=\"1\" class=\"dataframe\">\n",
              "  <thead>\n",
              "    <tr style=\"text-align: right;\">\n",
              "      <th></th>\n",
              "      <th>Churn</th>\n",
              "    </tr>\n",
              "  </thead>\n",
              "  <tbody>\n",
              "    <tr>\n",
              "      <th>Churn</th>\n",
              "      <td>1.000000</td>\n",
              "    </tr>\n",
              "    <tr>\n",
              "      <th>PaperlessBilling</th>\n",
              "      <td>0.191825</td>\n",
              "    </tr>\n",
              "    <tr>\n",
              "      <th>MonthlyCharges</th>\n",
              "      <td>0.187707</td>\n",
              "    </tr>\n",
              "    <tr>\n",
              "      <th>SeniorCitizen</th>\n",
              "      <td>0.150889</td>\n",
              "    </tr>\n",
              "    <tr>\n",
              "      <th>MultipleLines</th>\n",
              "      <td>0.019423</td>\n",
              "    </tr>\n",
              "    <tr>\n",
              "      <th>PhoneService</th>\n",
              "      <td>0.011942</td>\n",
              "    </tr>\n",
              "    <tr>\n",
              "      <th>gender</th>\n",
              "      <td>-0.008612</td>\n",
              "    </tr>\n",
              "    <tr>\n",
              "      <th>InternetService</th>\n",
              "      <td>-0.047291</td>\n",
              "    </tr>\n",
              "    <tr>\n",
              "      <th>Partner</th>\n",
              "      <td>-0.150448</td>\n",
              "    </tr>\n",
              "    <tr>\n",
              "      <th>Dependents</th>\n",
              "      <td>-0.164221</td>\n",
              "    </tr>\n",
              "    <tr>\n",
              "      <th>StreamingTV</th>\n",
              "      <td>-0.223123</td>\n",
              "    </tr>\n",
              "    <tr>\n",
              "      <th>StreamingMovies</th>\n",
              "      <td>-0.224214</td>\n",
              "    </tr>\n",
              "    <tr>\n",
              "      <th>TotalCharges</th>\n",
              "      <td>-0.225591</td>\n",
              "    </tr>\n",
              "    <tr>\n",
              "      <th>PaymentMethod</th>\n",
              "      <td>-0.262818</td>\n",
              "    </tr>\n",
              "    <tr>\n",
              "      <th>DeviceProtection</th>\n",
              "      <td>-0.273951</td>\n",
              "    </tr>\n",
              "    <tr>\n",
              "      <th>OnlineBackup</th>\n",
              "      <td>-0.280770</td>\n",
              "    </tr>\n",
              "    <tr>\n",
              "      <th>TechSupport</th>\n",
              "      <td>-0.306032</td>\n",
              "    </tr>\n",
              "    <tr>\n",
              "      <th>OnlineSecurity</th>\n",
              "      <td>-0.307989</td>\n",
              "    </tr>\n",
              "    <tr>\n",
              "      <th>tenure</th>\n",
              "      <td>-0.338552</td>\n",
              "    </tr>\n",
              "    <tr>\n",
              "      <th>Contract</th>\n",
              "      <td>-0.396713</td>\n",
              "    </tr>\n",
              "  </tbody>\n",
              "</table>\n",
              "</div>"
            ],
            "text/plain": [
              "                     Churn\n",
              "Churn             1.000000\n",
              "PaperlessBilling  0.191825\n",
              "MonthlyCharges    0.187707\n",
              "SeniorCitizen     0.150889\n",
              "MultipleLines     0.019423\n",
              "PhoneService      0.011942\n",
              "gender           -0.008612\n",
              "InternetService  -0.047291\n",
              "Partner          -0.150448\n",
              "Dependents       -0.164221\n",
              "StreamingTV      -0.223123\n",
              "StreamingMovies  -0.224214\n",
              "TotalCharges     -0.225591\n",
              "PaymentMethod    -0.262818\n",
              "DeviceProtection -0.273951\n",
              "OnlineBackup     -0.280770\n",
              "TechSupport      -0.306032\n",
              "OnlineSecurity   -0.307989\n",
              "tenure           -0.338552\n",
              "Contract         -0.396713"
            ]
          },
          "metadata": {
            "tags": []
          },
          "execution_count": 71
        }
      ]
    },
    {
      "cell_type": "code",
      "metadata": {
        "id": "aUjndLYIl9Il",
        "outputId": "ecdb08fd-4861-4a78-b1ee-fcb5c2652517",
        "colab": {
          "base_uri": "https://localhost:8080/",
          "height": 349
        }
      },
      "source": [
        "# 상관관계 시각화\n",
        "pd.DataFrame(data.corr()['Churn'].sort_values(ascending = False)).plot(kind=\"bar\")"
      ],
      "execution_count": 144,
      "outputs": [
        {
          "output_type": "execute_result",
          "data": {
            "text/plain": [
              "<AxesSubplot:>"
            ]
          },
          "metadata": {
            "tags": []
          },
          "execution_count": 144
        },
        {
          "output_type": "display_data",
          "data": {
            "image/png": "[encoded data removed]",
            "text/plain": [
              "<Figure size 432x288 with 1 Axes>"
            ]
          },
          "metadata": {
            "tags": []
          }
        }
      ]
    },
    {
      "cell_type": "markdown",
      "metadata": {
        "id": "bkLbVwx-HNnP"
      },
      "source": [
        "# 전처리 이후 데이터 탐색하기"
      ]
    },
    {
      "cell_type": "code",
      "metadata": {
        "id": "UuBu7fAOHElX",
        "colab": {
          "base_uri": "https://localhost:8080/",
          "height": 373
        },
        "outputId": "2a7c906f-53fa-4d55-c5bc-b35c01fd431f"
      },
      "source": [
        "sns.countplot(data['OnlineSecurity'], hue = data['Churn']) # 온라인 보안을 이용하지 않는 사람들의 경우 이탈율이 높다. 그 이유는??"
      ],
      "execution_count": 72,
      "outputs": [
        {
          "output_type": "stream",
          "text": [
            "/usr/local/lib/python3.7/dist-packages/seaborn/_decorators.py:43: FutureWarning: Pass the following variable as a keyword arg: x. From version 0.12, the only valid positional argument will be `data`, and passing other arguments without an explicit keyword will result in an error or misinterpretation.\n",
            "  FutureWarning\n"
          ],
          "name": "stderr"
        },
        {
          "output_type": "execute_result",
          "data": {
            "text/plain": [
              "<AxesSubplot:xlabel='OnlineSecurity', ylabel='count'>"
            ]
          },
          "metadata": {
            "tags": []
          },
          "execution_count": 72
        },
        {
          "output_type": "display_data",
          "data": {
            "image/png": "[encoded data removed]",
            "text/plain": [
              "<Figure size 432x288 with 1 Axes>"
            ]
          },
          "metadata": {
            "tags": []
          }
        }
      ]
    },
    {
      "cell_type": "code",
      "metadata": {
        "id": "EYg3BTUGH_c9",
        "colab": {
          "base_uri": "https://localhost:8080/",
          "height": 427
        },
        "outputId": "dbe197d3-d64a-4064-be14-0910e04a2b57"
      },
      "source": [
        "data.loc[data['OnlineSecurity']==0] # 온라인 보안을 이용하지 않는 사람들이 다른 feature에서의 공통점이 있을까??"
      ],
      "execution_count": 73,
      "outputs": [
        {
          "output_type": "execute_result",
          "data": {
            "text/html": [
              "<div>\n",
              "<style scoped>\n",
              "    .dataframe tbody tr th:only-of-type {\n",
              "        vertical-align: middle;\n",
              "    }\n",
              "\n",
              "    .dataframe tbody tr th {\n",
              "        vertical-align: top;\n",
              "    }\n",
              "\n",
              "    .dataframe thead th {\n",
              "        text-align: right;\n",
              "    }\n",
              "</style>\n",
              "<table border=\"1\" class=\"dataframe\">\n",
              "  <thead>\n",
              "    <tr style=\"text-align: right;\">\n",
              "      <th></th>\n",
              "      <th>gender</th>\n",
              "      <th>SeniorCitizen</th>\n",
              "      <th>Partner</th>\n",
              "      <th>Dependents</th>\n",
              "      <th>tenure</th>\n",
              "      <th>PhoneService</th>\n",
              "      <th>MultipleLines</th>\n",
              "      <th>InternetService</th>\n",
              "      <th>OnlineSecurity</th>\n",
              "      <th>OnlineBackup</th>\n",
              "      <th>DeviceProtection</th>\n",
              "      <th>TechSupport</th>\n",
              "      <th>StreamingTV</th>\n",
              "      <th>StreamingMovies</th>\n",
              "      <th>Contract</th>\n",
              "      <th>PaperlessBilling</th>\n",
              "      <th>PaymentMethod</th>\n",
              "      <th>MonthlyCharges</th>\n",
              "      <th>TotalCharges</th>\n",
              "      <th>Churn</th>\n",
              "    </tr>\n",
              "  </thead>\n",
              "  <tbody>\n",
              "    <tr>\n",
              "      <th>0</th>\n",
              "      <td>0</td>\n",
              "      <td>0</td>\n",
              "      <td>1</td>\n",
              "      <td>0</td>\n",
              "      <td>0</td>\n",
              "      <td>0</td>\n",
              "      <td>2</td>\n",
              "      <td>0</td>\n",
              "      <td>0</td>\n",
              "      <td>1</td>\n",
              "      <td>0</td>\n",
              "      <td>0</td>\n",
              "      <td>0</td>\n",
              "      <td>0</td>\n",
              "      <td>0</td>\n",
              "      <td>1</td>\n",
              "      <td>0</td>\n",
              "      <td>0</td>\n",
              "      <td>0</td>\n",
              "      <td>0</td>\n",
              "    </tr>\n",
              "    <tr>\n",
              "      <th>4</th>\n",
              "      <td>0</td>\n",
              "      <td>0</td>\n",
              "      <td>0</td>\n",
              "      <td>0</td>\n",
              "      <td>0</td>\n",
              "      <td>1</td>\n",
              "      <td>0</td>\n",
              "      <td>1</td>\n",
              "      <td>0</td>\n",
              "      <td>0</td>\n",
              "      <td>0</td>\n",
              "      <td>0</td>\n",
              "      <td>0</td>\n",
              "      <td>0</td>\n",
              "      <td>0</td>\n",
              "      <td>1</td>\n",
              "      <td>0</td>\n",
              "      <td>3</td>\n",
              "      <td>0</td>\n",
              "      <td>1</td>\n",
              "    </tr>\n",
              "    <tr>\n",
              "      <th>5</th>\n",
              "      <td>0</td>\n",
              "      <td>0</td>\n",
              "      <td>0</td>\n",
              "      <td>0</td>\n",
              "      <td>0</td>\n",
              "      <td>1</td>\n",
              "      <td>1</td>\n",
              "      <td>1</td>\n",
              "      <td>0</td>\n",
              "      <td>0</td>\n",
              "      <td>1</td>\n",
              "      <td>0</td>\n",
              "      <td>1</td>\n",
              "      <td>1</td>\n",
              "      <td>0</td>\n",
              "      <td>1</td>\n",
              "      <td>0</td>\n",
              "      <td>4</td>\n",
              "      <td>1</td>\n",
              "      <td>1</td>\n",
              "    </tr>\n",
              "    <tr>\n",
              "      <th>6</th>\n",
              "      <td>1</td>\n",
              "      <td>0</td>\n",
              "      <td>0</td>\n",
              "      <td>1</td>\n",
              "      <td>1</td>\n",
              "      <td>1</td>\n",
              "      <td>1</td>\n",
              "      <td>1</td>\n",
              "      <td>0</td>\n",
              "      <td>1</td>\n",
              "      <td>0</td>\n",
              "      <td>0</td>\n",
              "      <td>1</td>\n",
              "      <td>0</td>\n",
              "      <td>0</td>\n",
              "      <td>1</td>\n",
              "      <td>3</td>\n",
              "      <td>4</td>\n",
              "      <td>2</td>\n",
              "      <td>0</td>\n",
              "    </tr>\n",
              "    <tr>\n",
              "      <th>8</th>\n",
              "      <td>0</td>\n",
              "      <td>0</td>\n",
              "      <td>1</td>\n",
              "      <td>0</td>\n",
              "      <td>1</td>\n",
              "      <td>1</td>\n",
              "      <td>1</td>\n",
              "      <td>1</td>\n",
              "      <td>0</td>\n",
              "      <td>0</td>\n",
              "      <td>1</td>\n",
              "      <td>1</td>\n",
              "      <td>1</td>\n",
              "      <td>1</td>\n",
              "      <td>0</td>\n",
              "      <td>1</td>\n",
              "      <td>0</td>\n",
              "      <td>5</td>\n",
              "      <td>2</td>\n",
              "      <td>1</td>\n",
              "    </tr>\n",
              "    <tr>\n",
              "      <th>...</th>\n",
              "      <td>...</td>\n",
              "      <td>...</td>\n",
              "      <td>...</td>\n",
              "      <td>...</td>\n",
              "      <td>...</td>\n",
              "      <td>...</td>\n",
              "      <td>...</td>\n",
              "      <td>...</td>\n",
              "      <td>...</td>\n",
              "      <td>...</td>\n",
              "      <td>...</td>\n",
              "      <td>...</td>\n",
              "      <td>...</td>\n",
              "      <td>...</td>\n",
              "      <td>...</td>\n",
              "      <td>...</td>\n",
              "      <td>...</td>\n",
              "      <td>...</td>\n",
              "      <td>...</td>\n",
              "      <td>...</td>\n",
              "    </tr>\n",
              "    <tr>\n",
              "      <th>7033</th>\n",
              "      <td>1</td>\n",
              "      <td>0</td>\n",
              "      <td>0</td>\n",
              "      <td>0</td>\n",
              "      <td>2</td>\n",
              "      <td>1</td>\n",
              "      <td>0</td>\n",
              "      <td>1</td>\n",
              "      <td>0</td>\n",
              "      <td>0</td>\n",
              "      <td>0</td>\n",
              "      <td>0</td>\n",
              "      <td>0</td>\n",
              "      <td>0</td>\n",
              "      <td>0</td>\n",
              "      <td>1</td>\n",
              "      <td>3</td>\n",
              "      <td>3</td>\n",
              "      <td>2</td>\n",
              "      <td>0</td>\n",
              "    </tr>\n",
              "    <tr>\n",
              "      <th>7035</th>\n",
              "      <td>1</td>\n",
              "      <td>0</td>\n",
              "      <td>0</td>\n",
              "      <td>0</td>\n",
              "      <td>1</td>\n",
              "      <td>1</td>\n",
              "      <td>0</td>\n",
              "      <td>1</td>\n",
              "      <td>0</td>\n",
              "      <td>0</td>\n",
              "      <td>0</td>\n",
              "      <td>0</td>\n",
              "      <td>1</td>\n",
              "      <td>0</td>\n",
              "      <td>0</td>\n",
              "      <td>1</td>\n",
              "      <td>2</td>\n",
              "      <td>3</td>\n",
              "      <td>2</td>\n",
              "      <td>0</td>\n",
              "    </tr>\n",
              "    <tr>\n",
              "      <th>7036</th>\n",
              "      <td>0</td>\n",
              "      <td>0</td>\n",
              "      <td>0</td>\n",
              "      <td>0</td>\n",
              "      <td>0</td>\n",
              "      <td>0</td>\n",
              "      <td>2</td>\n",
              "      <td>0</td>\n",
              "      <td>0</td>\n",
              "      <td>1</td>\n",
              "      <td>1</td>\n",
              "      <td>1</td>\n",
              "      <td>1</td>\n",
              "      <td>1</td>\n",
              "      <td>1</td>\n",
              "      <td>0</td>\n",
              "      <td>0</td>\n",
              "      <td>2</td>\n",
              "      <td>1</td>\n",
              "      <td>0</td>\n",
              "    </tr>\n",
              "    <tr>\n",
              "      <th>7039</th>\n",
              "      <td>0</td>\n",
              "      <td>0</td>\n",
              "      <td>1</td>\n",
              "      <td>1</td>\n",
              "      <td>4</td>\n",
              "      <td>1</td>\n",
              "      <td>1</td>\n",
              "      <td>1</td>\n",
              "      <td>0</td>\n",
              "      <td>1</td>\n",
              "      <td>1</td>\n",
              "      <td>0</td>\n",
              "      <td>1</td>\n",
              "      <td>1</td>\n",
              "      <td>1</td>\n",
              "      <td>1</td>\n",
              "      <td>3</td>\n",
              "      <td>5</td>\n",
              "      <td>3</td>\n",
              "      <td>0</td>\n",
              "    </tr>\n",
              "    <tr>\n",
              "      <th>7041</th>\n",
              "      <td>1</td>\n",
              "      <td>1</td>\n",
              "      <td>1</td>\n",
              "      <td>0</td>\n",
              "      <td>0</td>\n",
              "      <td>1</td>\n",
              "      <td>1</td>\n",
              "      <td>1</td>\n",
              "      <td>0</td>\n",
              "      <td>0</td>\n",
              "      <td>0</td>\n",
              "      <td>0</td>\n",
              "      <td>0</td>\n",
              "      <td>0</td>\n",
              "      <td>0</td>\n",
              "      <td>1</td>\n",
              "      <td>1</td>\n",
              "      <td>3</td>\n",
              "      <td>0</td>\n",
              "      <td>1</td>\n",
              "    </tr>\n",
              "  </tbody>\n",
              "</table>\n",
              "<p>3498 rows × 20 columns</p>\n",
              "</div>"
            ],
            "text/plain": [
              "      gender  SeniorCitizen  Partner  ...  MonthlyCharges  TotalCharges  Churn\n",
              "0          0              0        1  ...               0             0      0\n",
              "4          0              0        0  ...               3             0      1\n",
              "5          0              0        0  ...               4             1      1\n",
              "6          1              0        0  ...               4             2      0\n",
              "8          0              0        1  ...               5             2      1\n",
              "...      ...            ...      ...  ...             ...           ...    ...\n",
              "7033       1              0        0  ...               3             2      0\n",
              "7035       1              0        0  ...               3             2      0\n",
              "7036       0              0        0  ...               2             1      0\n",
              "7039       0              0        1  ...               5             3      0\n",
              "7041       1              1        1  ...               3             0      1\n",
              "\n",
              "[3498 rows x 20 columns]"
            ]
          },
          "metadata": {
            "tags": []
          },
          "execution_count": 73
        }
      ]
    },
    {
      "cell_type": "code",
      "metadata": {
        "id": "stRrTDWGJILf",
        "colab": {
          "base_uri": "https://localhost:8080/",
          "height": 297
        },
        "outputId": "85a08347-2d8c-4945-ffa0-f5c07d8282f4"
      },
      "source": [
        "sns.countplot(x = data['OnlineSecurity'],hue= data['Contract']) # 매달 계약 하는 고객들은 온라인 보안을 신청하지 않는 경우가 많다."
      ],
      "execution_count": 108,
      "outputs": [
        {
          "output_type": "execute_result",
          "data": {
            "text/plain": [
              "<AxesSubplot:xlabel='OnlineSecurity', ylabel='count'>"
            ]
          },
          "metadata": {
            "tags": []
          },
          "execution_count": 108
        },
        {
          "output_type": "display_data",
          "data": {
            "image/png": "[encoded data removed]",
            "text/plain": [
              "<Figure size 432x288 with 1 Axes>"
            ]
          },
          "metadata": {
            "tags": []
          }
        }
      ]
    },
    {
      "cell_type": "code",
      "metadata": {
        "id": "yn96cMbBKjTv",
        "colab": {
          "base_uri": "https://localhost:8080/",
          "height": 297
        },
        "outputId": "ca5ddcdb-5df2-4965-a7a9-1d2a4e5beb5c"
      },
      "source": [
        "sns.countplot(x = data['Partner'],hue= data['Contract']) # 파트너가 없는 고객은 계약기간이 짧다"
      ],
      "execution_count": 109,
      "outputs": [
        {
          "output_type": "execute_result",
          "data": {
            "text/plain": [
              "<AxesSubplot:xlabel='Partner', ylabel='count'>"
            ]
          },
          "metadata": {
            "tags": []
          },
          "execution_count": 109
        },
        {
          "output_type": "display_data",
          "data": {
            "image/png": "[encoded data removed]",
            "text/plain": [
              "<Figure size 432x288 with 1 Axes>"
            ]
          },
          "metadata": {
            "tags": []
          }
        }
      ]
    },
    {
      "cell_type": "code",
      "metadata": {
        "id": "K4-MXu38KnZf",
        "colab": {
          "base_uri": "https://localhost:8080/",
          "height": 297
        },
        "outputId": "2fa6d8ff-00ef-455d-eda9-b5b4b659dfe4"
      },
      "source": [
        "sns.countplot(x = data['Dependents'],hue= data['Contract']) # 혼자사는 사람들은 계약기간이 짧다"
      ],
      "execution_count": 110,
      "outputs": [
        {
          "output_type": "execute_result",
          "data": {
            "text/plain": [
              "<AxesSubplot:xlabel='Dependents', ylabel='count'>"
            ]
          },
          "metadata": {
            "tags": []
          },
          "execution_count": 110
        },
        {
          "output_type": "display_data",
          "data": {
            "image/png": "[encoded data removed]",
            "text/plain": [
              "<Figure size 432x288 with 1 Axes>"
            ]
          },
          "metadata": {
            "tags": []
          }
        }
      ]
    },
    {
      "cell_type": "markdown",
      "metadata": {
        "id": "ydmB66uvLK4T"
      },
      "source": [
        "1인이 생활하는 경우 대부분 계약기간이 짧은데 혼자 이용할땐 서비스가 없는건가..??\n",
        "\n",
        "이렇게 되면 가설3(파트너 부양가족에 따른 서비스의 차이)에서 밝혀내지 못했던 것에 대해 다시 합리적 의심을 가질 필요가 있다.\n",
        "\n",
        "서비스들을 모아서 한꺼번에 비교해보자"
      ]
    },
    {
      "cell_type": "code",
      "metadata": {
        "id": "IA-7ZlJbTK5C",
        "outputId": "b609648e-f25e-491f-ded6-3f29509e8691",
        "colab": {
          "base_uri": "https://localhost:8080/",
          "height": 441
        }
      },
      "source": [
        "sns.set_context('paper')\n",
        "plt.figure(figsize = (14, 7))\n",
        "\n",
        "plt.figure(1)\n",
        "\n",
        "# 한 figure에 여러개의 plot을 넣을경우 violinplot과 같이 그림으로 표현되는\n",
        "# 그래프가 더 시각적으로 효과가 좋다고 생각\n",
        "\n",
        "plt.subplot(4,4,1)\n",
        "sns.violinplot(x = data['Partner'],y= data['Contract'])\n",
        "plt.axhline(y = 0, c = 'b', ls = \"-.\")\n",
        "plt.subplot(4,4,5)\n",
        "sns.violinplot(x = data['Partner'],y= data['OnlineBackup'])\n",
        "plt.subplot(4,4,9)\n",
        "sns.violinplot(x = data['Partner'],y= data['DeviceProtection'])\n",
        "plt.subplot(4,4,13)\n",
        "sns.violinplot(x = data['Partner'],y= data['TechSupport'])\n",
        "plt.subplot(4,4,2)\n",
        "sns.violinplot(x = data['Partner'],y= data['StreamingTV'])\n",
        "plt.subplot(4,4,6)\n",
        "sns.violinplot(x = data['Partner'],y= data['StreamingMovies'])\n",
        "plt.subplot(4,4,3)\n",
        "sns.violinplot(x = data['Dependents'],y= data['Contract'])\n",
        "plt.axhline(y = 0, c = 'b', ls = \"-.\")\n",
        "plt.subplot(4,4,7)\n",
        "sns.violinplot(x = data['Dependents'],y= data['OnlineBackup'])\n",
        "plt.subplot(4,4,11)\n",
        "sns.violinplot(x = data['Dependents'],y= data['DeviceProtection'])\n",
        "plt.subplot(4,4,15)\n",
        "sns.violinplot(x = data['Dependents'],y= data['TechSupport'])\n",
        "plt.subplot(4,4,4)\n",
        "sns.violinplot(x = data['Dependents'],y= data['StreamingTV'])\n",
        "plt.subplot(4,4,8)\n",
        "sns.violinplot(x = data['Dependents'],y= data['StreamingMovies'])\n",
        "\n",
        "# Partner, Dependents : 0 = 없다, 1 = 있다.\n",
        "# Contract : 0 = 월간계약, 1 = 1년 단위 계약, 2 = 2년 단위 계약\n",
        "# Other services : 0 = No/  1 = Yes/  2 = No phone service/ 4 = No internet service\n",
        "\n",
        "\n",
        "# feature종류 : ['Contract', 'OnlineBackup', 'DeviceProtection', 'TechSupport', 'StreamingTV', 'StreamingMovies']"
      ],
      "execution_count": 129,
      "outputs": [
        {
          "output_type": "execute_result",
          "data": {
            "text/plain": [
              "<AxesSubplot:xlabel='Dependents', ylabel='StreamingMovies'>"
            ]
          },
          "metadata": {
            "tags": []
          },
          "execution_count": 129
        },
        {
          "output_type": "display_data",
          "data": {
            "image/png": "[encoded data removed]",
            "text/plain": [
              "<Figure size 1008x504 with 12 Axes>"
            ]
          },
          "metadata": {
            "tags": []
          }
        }
      ]
    },
    {
      "cell_type": "markdown",
      "metadata": {
        "id": "IdwNoH2xOVkd"
      },
      "source": [
        "정도의 차이는 있지만 모든 인터넷 관련 서비스에서 파트너가 없거나 부양가족이 없으면 서비스 이용을 안하는 사람들이 다수이다. 이것은 1인에 대한 서비스 품질이 좋지않다고 생각해 볼 수 있다.\n"
      ]
    },
    {
      "cell_type": "markdown",
      "metadata": {
        "id": "GgrgaGHLovw9"
      },
      "source": [
        "# EDA결과"
      ]
    },
    {
      "cell_type": "markdown",
      "metadata": {
        "id": "h6gwlhfRoyJ4"
      },
      "source": [
        "장기계약을 한 고객일 수록 이탈률을 줄일 수 있다.  \n",
        "\n",
        "5개월 이상 연속으로 사용하게 되면 이탈률을 줄일 수 있다.\n",
        "\n",
        "고령자 고객분들의 이탈률이 높으므로 고령자 분들을 위한 서비스를 기획해야할 필요가 있다, 향후 젊은 고객층이 고령자가 되었을시 이탈 방지를 위함\n",
        "\n",
        "파트너 혹은 부양가족이 없는 고객들의 이탈률이 더 높은 이유는 무엇일까? : 각종서비스와의 연관관계를 확인해 보았는데 파트너가 없거나 부양가족이없으면 이용하지 않는경우가 많다 이는 1인을 위한 서비스의 부재라고 생각해도 충분하다고 생각한다. -> 혼자 생활하는 고객들을 위한 서비스가 필요하다.\n"
      ]
    },
    {
      "cell_type": "markdown",
      "metadata": {
        "id": "vjqm2dTIuXWE"
      },
      "source": [
        "# 고객유지 프로그램 모델 생성\n",
        "(https://www.kaggle.com/bandiatindra/telecom-churn-prediction )\n",
        "(향 후 머신러닝 공부 후 진행)\n"
      ]
    }
  ]
}