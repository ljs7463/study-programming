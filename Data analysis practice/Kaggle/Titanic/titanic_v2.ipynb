{
  "nbformat": 4,
  "nbformat_minor": 0,
  "metadata": {
    "colab": {
      "name": "titanic_v2.ipynb",
      "provenance": []
    },
    "kernelspec": {
      "name": "python3",
      "display_name": "Python 3"
    }
  },
  "cells": [
    {
      "cell_type": "markdown",
      "metadata": {
        "id": "LvDU5aFtpuGr"
      },
      "source": [
        "데이터 분석의 목표 : 어떤 사람들이 생존에 유리했을지 파악하기"
      ]
    },
    {
      "cell_type": "markdown",
      "metadata": {
        "id": "HAm8SUK4rVZ9"
      },
      "source": [
        "참고(in Kaggle)\n",
        "1.  EDA To Prediction(DieTanic) \n",
        "2.  Titanic Data Science Solutions"
      ]
    },
    {
      "cell_type": "markdown",
      "metadata": {
        "id": "4hgld1kh1mfI"
      },
      "source": [
        "# 데이터 불러오기"
      ]
    },
    {
      "cell_type": "code",
      "metadata": {
        "colab": {
          "base_uri": "https://localhost:8080/"
        },
        "id": "T9AvvvGoupYo",
        "outputId": "5c605986-b558-4393-fc36-e00ff599287d"
      },
      "source": [
        "from google.colab import drive\n",
        "drive.mount('/content/Mydrive')"
      ],
      "execution_count": 3,
      "outputs": [
        {
          "output_type": "stream",
          "text": [
            "Drive already mounted at /content/Mydrive; to attempt to forcibly remount, call drive.mount(\"/content/Mydrive\", force_remount=True).\n"
          ],
          "name": "stdout"
        }
      ]
    },
    {
      "cell_type": "code",
      "metadata": {
        "id": "yZXDe0LiurWS"
      },
      "source": [
        "import pandas as pd\n",
        "import numpy as np\n",
        "import matplotlib.pyplot as plt\n",
        "import seaborn as sns\n",
        "\n",
        "\n",
        "train_df = pd.read_csv('/content/Mydrive/MyDrive/datascience/train.csv')\n",
        "test_df = pd.read_csv('/content/Mydrive/MyDrive/datascience/test.csv')\n",
        "combine = [train_df, test_df] # train셋과 test셋을 동시에 전처리 하기 위함 "
      ],
      "execution_count": 4,
      "outputs": []
    },
    {
      "cell_type": "markdown",
      "metadata": {
        "id": "GRFPZEQ11obU"
      },
      "source": [
        "# 데이터 확인하기"
      ]
    },
    {
      "cell_type": "markdown",
      "metadata": {
        "id": "nK57yGyqp6bS"
      },
      "source": [
        "**★각 컬럼에 대한 설명입니다★**\n",
        "\n",
        "PassengerId : 각 승객의 고유 번호\n",
        "\n",
        "Survived : 생존 여부(생존x : 0, 생존O : 1)\n",
        "\n",
        "Pclass :  티켓의 등급 (1 = 1등급, 2 = 2등급, 3 = 3등급)\n",
        "\n",
        "Name : 탑승객의 이름\n",
        "\n",
        "Sex : 탑승객의 성별 (male or female)\n",
        "\n",
        "Age : 탑승객의 나이\n",
        "\n",
        "SibSp : 함께 탑승한 형제 또는 배우자 수 \n",
        "\n",
        "Parch : 함께 탑승한 부모 또는 자녀 수 \n",
        "\n",
        "Ticket : 티켓 번호\n",
        "\n",
        "Fare : 요금\n",
        "\n",
        "Cabin : 선실 번호\n",
        "\n",
        "Embarked : 탑승장소(S = Southhampton, C = Cherbourg, Q = Queenstown)\n"
      ]
    },
    {
      "cell_type": "markdown",
      "metadata": {
        "id": "iFLILhSRowge"
      },
      "source": [
        "데이터 유형 살피기\n",
        "- categorical : sex, embarked\n",
        "- ordinal : Pclass\n",
        "- continous : Age"
      ]
    },
    {
      "cell_type": "code",
      "metadata": {
        "colab": {
          "base_uri": "https://localhost:8080/"
        },
        "id": "7h1HVZZ21Z7R",
        "outputId": "157e08d0-1cdc-496b-b666-f9e37908b437"
      },
      "source": [
        "train_df.info()"
      ],
      "execution_count": 5,
      "outputs": [
        {
          "output_type": "stream",
          "text": [
            "<class 'pandas.core.frame.DataFrame'>\n",
            "RangeIndex: 891 entries, 0 to 890\n",
            "Data columns (total 12 columns):\n",
            " #   Column       Non-Null Count  Dtype  \n",
            "---  ------       --------------  -----  \n",
            " 0   PassengerId  891 non-null    int64  \n",
            " 1   Survived     891 non-null    int64  \n",
            " 2   Pclass       891 non-null    int64  \n",
            " 3   Name         891 non-null    object \n",
            " 4   Sex          891 non-null    object \n",
            " 5   Age          714 non-null    float64\n",
            " 6   SibSp        891 non-null    int64  \n",
            " 7   Parch        891 non-null    int64  \n",
            " 8   Ticket       891 non-null    object \n",
            " 9   Fare         891 non-null    float64\n",
            " 10  Cabin        204 non-null    object \n",
            " 11  Embarked     889 non-null    object \n",
            "dtypes: float64(2), int64(5), object(5)\n",
            "memory usage: 83.7+ KB\n"
          ],
          "name": "stdout"
        }
      ]
    },
    {
      "cell_type": "code",
      "metadata": {
        "colab": {
          "base_uri": "https://localhost:8080/"
        },
        "id": "O6U5PDfKyFpy",
        "outputId": "8ab9ed86-a6d0-474a-e339-97c2fe0f19e8"
      },
      "source": [
        "test_df.info()"
      ],
      "execution_count": 6,
      "outputs": [
        {
          "output_type": "stream",
          "text": [
            "<class 'pandas.core.frame.DataFrame'>\n",
            "RangeIndex: 418 entries, 0 to 417\n",
            "Data columns (total 11 columns):\n",
            " #   Column       Non-Null Count  Dtype  \n",
            "---  ------       --------------  -----  \n",
            " 0   PassengerId  418 non-null    int64  \n",
            " 1   Pclass       418 non-null    int64  \n",
            " 2   Name         418 non-null    object \n",
            " 3   Sex          418 non-null    object \n",
            " 4   Age          332 non-null    float64\n",
            " 5   SibSp        418 non-null    int64  \n",
            " 6   Parch        418 non-null    int64  \n",
            " 7   Ticket       418 non-null    object \n",
            " 8   Fare         417 non-null    float64\n",
            " 9   Cabin        91 non-null     object \n",
            " 10  Embarked     418 non-null    object \n",
            "dtypes: float64(2), int64(4), object(5)\n",
            "memory usage: 36.0+ KB\n"
          ],
          "name": "stdout"
        }
      ]
    },
    {
      "cell_type": "markdown",
      "metadata": {
        "id": "8jzYpoLV2EVs"
      },
      "source": [
        "**1. 공통적으로 Age, Cabin, Embarked 에 NaN값이 존재, test셋에는 Fare에 1개의 NaN값이 존재**\n",
        "\n",
        "**2.  Name, Sex, Age, Fare, Embarked 는 인코딩 작업이 필요 해 보인다.** "
      ]
    },
    {
      "cell_type": "code",
      "metadata": {
        "colab": {
          "base_uri": "https://localhost:8080/",
          "height": 388
        },
        "id": "yLGW7RBs25-k",
        "outputId": "a8fe1c9a-bba7-4e3d-b368-7100db30bf79"
      },
      "source": [
        "train_df.head()"
      ],
      "execution_count": 7,
      "outputs": [
        {
          "output_type": "execute_result",
          "data": {
            "text/html": [
              "<div>\n",
              "<style scoped>\n",
              "    .dataframe tbody tr th:only-of-type {\n",
              "        vertical-align: middle;\n",
              "    }\n",
              "\n",
              "    .dataframe tbody tr th {\n",
              "        vertical-align: top;\n",
              "    }\n",
              "\n",
              "    .dataframe thead th {\n",
              "        text-align: right;\n",
              "    }\n",
              "</style>\n",
              "<table border=\"1\" class=\"dataframe\">\n",
              "  <thead>\n",
              "    <tr style=\"text-align: right;\">\n",
              "      <th></th>\n",
              "      <th>PassengerId</th>\n",
              "      <th>Survived</th>\n",
              "      <th>Pclass</th>\n",
              "      <th>Name</th>\n",
              "      <th>Sex</th>\n",
              "      <th>Age</th>\n",
              "      <th>SibSp</th>\n",
              "      <th>Parch</th>\n",
              "      <th>Ticket</th>\n",
              "      <th>Fare</th>\n",
              "      <th>Cabin</th>\n",
              "      <th>Embarked</th>\n",
              "    </tr>\n",
              "  </thead>\n",
              "  <tbody>\n",
              "    <tr>\n",
              "      <th>0</th>\n",
              "      <td>1</td>\n",
              "      <td>0</td>\n",
              "      <td>3</td>\n",
              "      <td>Braund, Mr. Owen Harris</td>\n",
              "      <td>male</td>\n",
              "      <td>22.0</td>\n",
              "      <td>1</td>\n",
              "      <td>0</td>\n",
              "      <td>A/5 21171</td>\n",
              "      <td>7.2500</td>\n",
              "      <td>NaN</td>\n",
              "      <td>S</td>\n",
              "    </tr>\n",
              "    <tr>\n",
              "      <th>1</th>\n",
              "      <td>2</td>\n",
              "      <td>1</td>\n",
              "      <td>1</td>\n",
              "      <td>Cumings, Mrs. John Bradley (Florence Briggs Th...</td>\n",
              "      <td>female</td>\n",
              "      <td>38.0</td>\n",
              "      <td>1</td>\n",
              "      <td>0</td>\n",
              "      <td>PC 17599</td>\n",
              "      <td>71.2833</td>\n",
              "      <td>C85</td>\n",
              "      <td>C</td>\n",
              "    </tr>\n",
              "    <tr>\n",
              "      <th>2</th>\n",
              "      <td>3</td>\n",
              "      <td>1</td>\n",
              "      <td>3</td>\n",
              "      <td>Heikkinen, Miss. Laina</td>\n",
              "      <td>female</td>\n",
              "      <td>26.0</td>\n",
              "      <td>0</td>\n",
              "      <td>0</td>\n",
              "      <td>STON/O2. 3101282</td>\n",
              "      <td>7.9250</td>\n",
              "      <td>NaN</td>\n",
              "      <td>S</td>\n",
              "    </tr>\n",
              "    <tr>\n",
              "      <th>3</th>\n",
              "      <td>4</td>\n",
              "      <td>1</td>\n",
              "      <td>1</td>\n",
              "      <td>Futrelle, Mrs. Jacques Heath (Lily May Peel)</td>\n",
              "      <td>female</td>\n",
              "      <td>35.0</td>\n",
              "      <td>1</td>\n",
              "      <td>0</td>\n",
              "      <td>113803</td>\n",
              "      <td>53.1000</td>\n",
              "      <td>C123</td>\n",
              "      <td>S</td>\n",
              "    </tr>\n",
              "    <tr>\n",
              "      <th>4</th>\n",
              "      <td>5</td>\n",
              "      <td>0</td>\n",
              "      <td>3</td>\n",
              "      <td>Allen, Mr. William Henry</td>\n",
              "      <td>male</td>\n",
              "      <td>35.0</td>\n",
              "      <td>0</td>\n",
              "      <td>0</td>\n",
              "      <td>373450</td>\n",
              "      <td>8.0500</td>\n",
              "      <td>NaN</td>\n",
              "      <td>S</td>\n",
              "    </tr>\n",
              "  </tbody>\n",
              "</table>\n",
              "</div>"
            ],
            "text/plain": [
              "   PassengerId  Survived  Pclass  ...     Fare Cabin  Embarked\n",
              "0            1         0       3  ...   7.2500   NaN         S\n",
              "1            2         1       1  ...  71.2833   C85         C\n",
              "2            3         1       3  ...   7.9250   NaN         S\n",
              "3            4         1       1  ...  53.1000  C123         S\n",
              "4            5         0       3  ...   8.0500   NaN         S\n",
              "\n",
              "[5 rows x 12 columns]"
            ]
          },
          "metadata": {
            "tags": []
          },
          "execution_count": 7
        }
      ]
    },
    {
      "cell_type": "code",
      "metadata": {
        "colab": {
          "base_uri": "https://localhost:8080/",
          "height": 498
        },
        "id": "PUe5GFUVyShX",
        "outputId": "5ab1f133-0c7a-4813-9430-33910c334468"
      },
      "source": [
        "train_df[['SibSp', 'Parch']].head(15)"
      ],
      "execution_count": 8,
      "outputs": [
        {
          "output_type": "execute_result",
          "data": {
            "text/html": [
              "<div>\n",
              "<style scoped>\n",
              "    .dataframe tbody tr th:only-of-type {\n",
              "        vertical-align: middle;\n",
              "    }\n",
              "\n",
              "    .dataframe tbody tr th {\n",
              "        vertical-align: top;\n",
              "    }\n",
              "\n",
              "    .dataframe thead th {\n",
              "        text-align: right;\n",
              "    }\n",
              "</style>\n",
              "<table border=\"1\" class=\"dataframe\">\n",
              "  <thead>\n",
              "    <tr style=\"text-align: right;\">\n",
              "      <th></th>\n",
              "      <th>SibSp</th>\n",
              "      <th>Parch</th>\n",
              "    </tr>\n",
              "  </thead>\n",
              "  <tbody>\n",
              "    <tr>\n",
              "      <th>0</th>\n",
              "      <td>1</td>\n",
              "      <td>0</td>\n",
              "    </tr>\n",
              "    <tr>\n",
              "      <th>1</th>\n",
              "      <td>1</td>\n",
              "      <td>0</td>\n",
              "    </tr>\n",
              "    <tr>\n",
              "      <th>2</th>\n",
              "      <td>0</td>\n",
              "      <td>0</td>\n",
              "    </tr>\n",
              "    <tr>\n",
              "      <th>3</th>\n",
              "      <td>1</td>\n",
              "      <td>0</td>\n",
              "    </tr>\n",
              "    <tr>\n",
              "      <th>4</th>\n",
              "      <td>0</td>\n",
              "      <td>0</td>\n",
              "    </tr>\n",
              "    <tr>\n",
              "      <th>5</th>\n",
              "      <td>0</td>\n",
              "      <td>0</td>\n",
              "    </tr>\n",
              "    <tr>\n",
              "      <th>6</th>\n",
              "      <td>0</td>\n",
              "      <td>0</td>\n",
              "    </tr>\n",
              "    <tr>\n",
              "      <th>7</th>\n",
              "      <td>3</td>\n",
              "      <td>1</td>\n",
              "    </tr>\n",
              "    <tr>\n",
              "      <th>8</th>\n",
              "      <td>0</td>\n",
              "      <td>2</td>\n",
              "    </tr>\n",
              "    <tr>\n",
              "      <th>9</th>\n",
              "      <td>1</td>\n",
              "      <td>0</td>\n",
              "    </tr>\n",
              "    <tr>\n",
              "      <th>10</th>\n",
              "      <td>1</td>\n",
              "      <td>1</td>\n",
              "    </tr>\n",
              "    <tr>\n",
              "      <th>11</th>\n",
              "      <td>0</td>\n",
              "      <td>0</td>\n",
              "    </tr>\n",
              "    <tr>\n",
              "      <th>12</th>\n",
              "      <td>0</td>\n",
              "      <td>0</td>\n",
              "    </tr>\n",
              "    <tr>\n",
              "      <th>13</th>\n",
              "      <td>1</td>\n",
              "      <td>5</td>\n",
              "    </tr>\n",
              "    <tr>\n",
              "      <th>14</th>\n",
              "      <td>0</td>\n",
              "      <td>0</td>\n",
              "    </tr>\n",
              "  </tbody>\n",
              "</table>\n",
              "</div>"
            ],
            "text/plain": [
              "    SibSp  Parch\n",
              "0       1      0\n",
              "1       1      0\n",
              "2       0      0\n",
              "3       1      0\n",
              "4       0      0\n",
              "5       0      0\n",
              "6       0      0\n",
              "7       3      1\n",
              "8       0      2\n",
              "9       1      0\n",
              "10      1      1\n",
              "11      0      0\n",
              "12      0      0\n",
              "13      1      5\n",
              "14      0      0"
            ]
          },
          "metadata": {
            "tags": []
          },
          "execution_count": 8
        }
      ]
    },
    {
      "cell_type": "markdown",
      "metadata": {
        "id": "E1QBeLsR3DkT"
      },
      "source": [
        "**1. Sibsp 와 Parch는 한개의 컬럼으로 줄일 수 있을것 같다.**\n",
        "\n",
        "**2. Embarked는 위의 자료만으로 확실하게 필요한 데이터 라는 여부를 판단하기 힘들다.**"
      ]
    },
    {
      "cell_type": "code",
      "metadata": {
        "id": "jCxsCx1A3kx6",
        "colab": {
          "base_uri": "https://localhost:8080/",
          "height": 288
        },
        "outputId": "73e5393f-85d5-41f2-e25d-08c3cb5a5c01"
      },
      "source": [
        "train_df.describe()"
      ],
      "execution_count": 9,
      "outputs": [
        {
          "output_type": "execute_result",
          "data": {
            "text/html": [
              "<div>\n",
              "<style scoped>\n",
              "    .dataframe tbody tr th:only-of-type {\n",
              "        vertical-align: middle;\n",
              "    }\n",
              "\n",
              "    .dataframe tbody tr th {\n",
              "        vertical-align: top;\n",
              "    }\n",
              "\n",
              "    .dataframe thead th {\n",
              "        text-align: right;\n",
              "    }\n",
              "</style>\n",
              "<table border=\"1\" class=\"dataframe\">\n",
              "  <thead>\n",
              "    <tr style=\"text-align: right;\">\n",
              "      <th></th>\n",
              "      <th>PassengerId</th>\n",
              "      <th>Survived</th>\n",
              "      <th>Pclass</th>\n",
              "      <th>Age</th>\n",
              "      <th>SibSp</th>\n",
              "      <th>Parch</th>\n",
              "      <th>Fare</th>\n",
              "    </tr>\n",
              "  </thead>\n",
              "  <tbody>\n",
              "    <tr>\n",
              "      <th>count</th>\n",
              "      <td>891.000000</td>\n",
              "      <td>891.000000</td>\n",
              "      <td>891.000000</td>\n",
              "      <td>714.000000</td>\n",
              "      <td>891.000000</td>\n",
              "      <td>891.000000</td>\n",
              "      <td>891.000000</td>\n",
              "    </tr>\n",
              "    <tr>\n",
              "      <th>mean</th>\n",
              "      <td>446.000000</td>\n",
              "      <td>0.383838</td>\n",
              "      <td>2.308642</td>\n",
              "      <td>29.699118</td>\n",
              "      <td>0.523008</td>\n",
              "      <td>0.381594</td>\n",
              "      <td>32.204208</td>\n",
              "    </tr>\n",
              "    <tr>\n",
              "      <th>std</th>\n",
              "      <td>257.353842</td>\n",
              "      <td>0.486592</td>\n",
              "      <td>0.836071</td>\n",
              "      <td>14.526497</td>\n",
              "      <td>1.102743</td>\n",
              "      <td>0.806057</td>\n",
              "      <td>49.693429</td>\n",
              "    </tr>\n",
              "    <tr>\n",
              "      <th>min</th>\n",
              "      <td>1.000000</td>\n",
              "      <td>0.000000</td>\n",
              "      <td>1.000000</td>\n",
              "      <td>0.420000</td>\n",
              "      <td>0.000000</td>\n",
              "      <td>0.000000</td>\n",
              "      <td>0.000000</td>\n",
              "    </tr>\n",
              "    <tr>\n",
              "      <th>25%</th>\n",
              "      <td>223.500000</td>\n",
              "      <td>0.000000</td>\n",
              "      <td>2.000000</td>\n",
              "      <td>20.125000</td>\n",
              "      <td>0.000000</td>\n",
              "      <td>0.000000</td>\n",
              "      <td>7.910400</td>\n",
              "    </tr>\n",
              "    <tr>\n",
              "      <th>50%</th>\n",
              "      <td>446.000000</td>\n",
              "      <td>0.000000</td>\n",
              "      <td>3.000000</td>\n",
              "      <td>28.000000</td>\n",
              "      <td>0.000000</td>\n",
              "      <td>0.000000</td>\n",
              "      <td>14.454200</td>\n",
              "    </tr>\n",
              "    <tr>\n",
              "      <th>75%</th>\n",
              "      <td>668.500000</td>\n",
              "      <td>1.000000</td>\n",
              "      <td>3.000000</td>\n",
              "      <td>38.000000</td>\n",
              "      <td>1.000000</td>\n",
              "      <td>0.000000</td>\n",
              "      <td>31.000000</td>\n",
              "    </tr>\n",
              "    <tr>\n",
              "      <th>max</th>\n",
              "      <td>891.000000</td>\n",
              "      <td>1.000000</td>\n",
              "      <td>3.000000</td>\n",
              "      <td>80.000000</td>\n",
              "      <td>8.000000</td>\n",
              "      <td>6.000000</td>\n",
              "      <td>512.329200</td>\n",
              "    </tr>\n",
              "  </tbody>\n",
              "</table>\n",
              "</div>"
            ],
            "text/plain": [
              "       PassengerId    Survived      Pclass  ...       SibSp       Parch        Fare\n",
              "count   891.000000  891.000000  891.000000  ...  891.000000  891.000000  891.000000\n",
              "mean    446.000000    0.383838    2.308642  ...    0.523008    0.381594   32.204208\n",
              "std     257.353842    0.486592    0.836071  ...    1.102743    0.806057   49.693429\n",
              "min       1.000000    0.000000    1.000000  ...    0.000000    0.000000    0.000000\n",
              "25%     223.500000    0.000000    2.000000  ...    0.000000    0.000000    7.910400\n",
              "50%     446.000000    0.000000    3.000000  ...    0.000000    0.000000   14.454200\n",
              "75%     668.500000    1.000000    3.000000  ...    1.000000    0.000000   31.000000\n",
              "max     891.000000    1.000000    3.000000  ...    8.000000    6.000000  512.329200\n",
              "\n",
              "[8 rows x 7 columns]"
            ]
          },
          "metadata": {
            "tags": []
          },
          "execution_count": 9
        }
      ]
    },
    {
      "cell_type": "code",
      "metadata": {
        "colab": {
          "base_uri": "https://localhost:8080/",
          "height": 288
        },
        "id": "PBQEuVDD18ET",
        "outputId": "29d455c0-7440-4305-e329-3a3910021db9"
      },
      "source": [
        "test_df.describe()"
      ],
      "execution_count": 10,
      "outputs": [
        {
          "output_type": "execute_result",
          "data": {
            "text/html": [
              "<div>\n",
              "<style scoped>\n",
              "    .dataframe tbody tr th:only-of-type {\n",
              "        vertical-align: middle;\n",
              "    }\n",
              "\n",
              "    .dataframe tbody tr th {\n",
              "        vertical-align: top;\n",
              "    }\n",
              "\n",
              "    .dataframe thead th {\n",
              "        text-align: right;\n",
              "    }\n",
              "</style>\n",
              "<table border=\"1\" class=\"dataframe\">\n",
              "  <thead>\n",
              "    <tr style=\"text-align: right;\">\n",
              "      <th></th>\n",
              "      <th>PassengerId</th>\n",
              "      <th>Pclass</th>\n",
              "      <th>Age</th>\n",
              "      <th>SibSp</th>\n",
              "      <th>Parch</th>\n",
              "      <th>Fare</th>\n",
              "    </tr>\n",
              "  </thead>\n",
              "  <tbody>\n",
              "    <tr>\n",
              "      <th>count</th>\n",
              "      <td>418.000000</td>\n",
              "      <td>418.000000</td>\n",
              "      <td>332.000000</td>\n",
              "      <td>418.000000</td>\n",
              "      <td>418.000000</td>\n",
              "      <td>417.000000</td>\n",
              "    </tr>\n",
              "    <tr>\n",
              "      <th>mean</th>\n",
              "      <td>1100.500000</td>\n",
              "      <td>2.265550</td>\n",
              "      <td>30.272590</td>\n",
              "      <td>0.447368</td>\n",
              "      <td>0.392344</td>\n",
              "      <td>35.627188</td>\n",
              "    </tr>\n",
              "    <tr>\n",
              "      <th>std</th>\n",
              "      <td>120.810458</td>\n",
              "      <td>0.841838</td>\n",
              "      <td>14.181209</td>\n",
              "      <td>0.896760</td>\n",
              "      <td>0.981429</td>\n",
              "      <td>55.907576</td>\n",
              "    </tr>\n",
              "    <tr>\n",
              "      <th>min</th>\n",
              "      <td>892.000000</td>\n",
              "      <td>1.000000</td>\n",
              "      <td>0.170000</td>\n",
              "      <td>0.000000</td>\n",
              "      <td>0.000000</td>\n",
              "      <td>0.000000</td>\n",
              "    </tr>\n",
              "    <tr>\n",
              "      <th>25%</th>\n",
              "      <td>996.250000</td>\n",
              "      <td>1.000000</td>\n",
              "      <td>21.000000</td>\n",
              "      <td>0.000000</td>\n",
              "      <td>0.000000</td>\n",
              "      <td>7.895800</td>\n",
              "    </tr>\n",
              "    <tr>\n",
              "      <th>50%</th>\n",
              "      <td>1100.500000</td>\n",
              "      <td>3.000000</td>\n",
              "      <td>27.000000</td>\n",
              "      <td>0.000000</td>\n",
              "      <td>0.000000</td>\n",
              "      <td>14.454200</td>\n",
              "    </tr>\n",
              "    <tr>\n",
              "      <th>75%</th>\n",
              "      <td>1204.750000</td>\n",
              "      <td>3.000000</td>\n",
              "      <td>39.000000</td>\n",
              "      <td>1.000000</td>\n",
              "      <td>0.000000</td>\n",
              "      <td>31.500000</td>\n",
              "    </tr>\n",
              "    <tr>\n",
              "      <th>max</th>\n",
              "      <td>1309.000000</td>\n",
              "      <td>3.000000</td>\n",
              "      <td>76.000000</td>\n",
              "      <td>8.000000</td>\n",
              "      <td>9.000000</td>\n",
              "      <td>512.329200</td>\n",
              "    </tr>\n",
              "  </tbody>\n",
              "</table>\n",
              "</div>"
            ],
            "text/plain": [
              "       PassengerId      Pclass         Age       SibSp       Parch        Fare\n",
              "count   418.000000  418.000000  332.000000  418.000000  418.000000  417.000000\n",
              "mean   1100.500000    2.265550   30.272590    0.447368    0.392344   35.627188\n",
              "std     120.810458    0.841838   14.181209    0.896760    0.981429   55.907576\n",
              "min     892.000000    1.000000    0.170000    0.000000    0.000000    0.000000\n",
              "25%     996.250000    1.000000   21.000000    0.000000    0.000000    7.895800\n",
              "50%    1100.500000    3.000000   27.000000    0.000000    0.000000   14.454200\n",
              "75%    1204.750000    3.000000   39.000000    1.000000    0.000000   31.500000\n",
              "max    1309.000000    3.000000   76.000000    8.000000    9.000000  512.329200"
            ]
          },
          "metadata": {
            "tags": []
          },
          "execution_count": 10
        }
      ]
    },
    {
      "cell_type": "code",
      "metadata": {
        "colab": {
          "base_uri": "https://localhost:8080/",
          "height": 168
        },
        "id": "lXIWqKaq2A7U",
        "outputId": "9b2927a5-0f8d-44d5-b058-d5e2ed864edf"
      },
      "source": [
        "train_df.describe(include ='O')"
      ],
      "execution_count": 11,
      "outputs": [
        {
          "output_type": "execute_result",
          "data": {
            "text/html": [
              "<div>\n",
              "<style scoped>\n",
              "    .dataframe tbody tr th:only-of-type {\n",
              "        vertical-align: middle;\n",
              "    }\n",
              "\n",
              "    .dataframe tbody tr th {\n",
              "        vertical-align: top;\n",
              "    }\n",
              "\n",
              "    .dataframe thead th {\n",
              "        text-align: right;\n",
              "    }\n",
              "</style>\n",
              "<table border=\"1\" class=\"dataframe\">\n",
              "  <thead>\n",
              "    <tr style=\"text-align: right;\">\n",
              "      <th></th>\n",
              "      <th>Name</th>\n",
              "      <th>Sex</th>\n",
              "      <th>Ticket</th>\n",
              "      <th>Cabin</th>\n",
              "      <th>Embarked</th>\n",
              "    </tr>\n",
              "  </thead>\n",
              "  <tbody>\n",
              "    <tr>\n",
              "      <th>count</th>\n",
              "      <td>891</td>\n",
              "      <td>891</td>\n",
              "      <td>891</td>\n",
              "      <td>204</td>\n",
              "      <td>889</td>\n",
              "    </tr>\n",
              "    <tr>\n",
              "      <th>unique</th>\n",
              "      <td>891</td>\n",
              "      <td>2</td>\n",
              "      <td>681</td>\n",
              "      <td>147</td>\n",
              "      <td>3</td>\n",
              "    </tr>\n",
              "    <tr>\n",
              "      <th>top</th>\n",
              "      <td>Lahoud, Mr. Sarkis</td>\n",
              "      <td>male</td>\n",
              "      <td>1601</td>\n",
              "      <td>G6</td>\n",
              "      <td>S</td>\n",
              "    </tr>\n",
              "    <tr>\n",
              "      <th>freq</th>\n",
              "      <td>1</td>\n",
              "      <td>577</td>\n",
              "      <td>7</td>\n",
              "      <td>4</td>\n",
              "      <td>644</td>\n",
              "    </tr>\n",
              "  </tbody>\n",
              "</table>\n",
              "</div>"
            ],
            "text/plain": [
              "                      Name   Sex Ticket Cabin Embarked\n",
              "count                  891   891    891   204      889\n",
              "unique                 891     2    681   147        3\n",
              "top     Lahoud, Mr. Sarkis  male   1601    G6        S\n",
              "freq                     1   577      7     4      644"
            ]
          },
          "metadata": {
            "tags": []
          },
          "execution_count": 11
        }
      ]
    },
    {
      "cell_type": "code",
      "metadata": {
        "colab": {
          "base_uri": "https://localhost:8080/",
          "height": 168
        },
        "id": "Ovdo0jPq70Jf",
        "outputId": "da86e9e2-5177-460e-ccfd-073dcc459c60"
      },
      "source": [
        "test_df.describe(include ='O')"
      ],
      "execution_count": 12,
      "outputs": [
        {
          "output_type": "execute_result",
          "data": {
            "text/html": [
              "<div>\n",
              "<style scoped>\n",
              "    .dataframe tbody tr th:only-of-type {\n",
              "        vertical-align: middle;\n",
              "    }\n",
              "\n",
              "    .dataframe tbody tr th {\n",
              "        vertical-align: top;\n",
              "    }\n",
              "\n",
              "    .dataframe thead th {\n",
              "        text-align: right;\n",
              "    }\n",
              "</style>\n",
              "<table border=\"1\" class=\"dataframe\">\n",
              "  <thead>\n",
              "    <tr style=\"text-align: right;\">\n",
              "      <th></th>\n",
              "      <th>Name</th>\n",
              "      <th>Sex</th>\n",
              "      <th>Ticket</th>\n",
              "      <th>Cabin</th>\n",
              "      <th>Embarked</th>\n",
              "    </tr>\n",
              "  </thead>\n",
              "  <tbody>\n",
              "    <tr>\n",
              "      <th>count</th>\n",
              "      <td>418</td>\n",
              "      <td>418</td>\n",
              "      <td>418</td>\n",
              "      <td>91</td>\n",
              "      <td>418</td>\n",
              "    </tr>\n",
              "    <tr>\n",
              "      <th>unique</th>\n",
              "      <td>418</td>\n",
              "      <td>2</td>\n",
              "      <td>363</td>\n",
              "      <td>76</td>\n",
              "      <td>3</td>\n",
              "    </tr>\n",
              "    <tr>\n",
              "      <th>top</th>\n",
              "      <td>Midtsjo, Mr. Karl Albert</td>\n",
              "      <td>male</td>\n",
              "      <td>PC 17608</td>\n",
              "      <td>B57 B59 B63 B66</td>\n",
              "      <td>S</td>\n",
              "    </tr>\n",
              "    <tr>\n",
              "      <th>freq</th>\n",
              "      <td>1</td>\n",
              "      <td>266</td>\n",
              "      <td>5</td>\n",
              "      <td>3</td>\n",
              "      <td>270</td>\n",
              "    </tr>\n",
              "  </tbody>\n",
              "</table>\n",
              "</div>"
            ],
            "text/plain": [
              "                            Name   Sex    Ticket            Cabin Embarked\n",
              "count                        418   418       418               91      418\n",
              "unique                       418     2       363               76        3\n",
              "top     Midtsjo, Mr. Karl Albert  male  PC 17608  B57 B59 B63 B66        S\n",
              "freq                           1   266         5                3      270"
            ]
          },
          "metadata": {
            "tags": []
          },
          "execution_count": 12
        }
      ]
    },
    {
      "cell_type": "markdown",
      "metadata": {
        "id": "sQydgKlw8Ssd"
      },
      "source": [
        "**1. 남성 탑승객이 여성 탑승객 보다 많은 것을 알 수 있다.**\n",
        "\n",
        "**2. 다수의 승객분들이 Southampton에서 탑승한 것을 알 수 있다.**"
      ]
    },
    {
      "cell_type": "markdown",
      "metadata": {
        "id": "1WwbtLH78shB"
      },
      "source": [
        "# 시각화를 통한 데이터 탐색하기"
      ]
    },
    {
      "cell_type": "markdown",
      "metadata": {
        "id": "8U2VS9_Tlpt4"
      },
      "source": [
        "얼마나 많은 사람들이 살아남았는가?"
      ]
    },
    {
      "cell_type": "code",
      "metadata": {
        "id": "FBpS04RPlo3b",
        "colab": {
          "base_uri": "https://localhost:8080/",
          "height": 404
        },
        "outputId": "494ad6a8-d531-4c4d-d185-bdb1dbfdd96e"
      },
      "source": [
        "fig, ax = plt.subplots(1,2, figsize = (12,6))\n",
        "train_df['Survived'].value_counts().plot.pie(labels = ['Unsaved','Saved'], explode=[0,0.1],autopct='%1.1f%%',ax= ax[0],shadow=True)\n",
        "ax[0].set_title('Survived')\n",
        "ax[0].set_ylabel('') \n",
        "sns.countplot(x ='Survived', data = train_df,ax = ax[1] )\n",
        "ax[1].set_title('Survived')\n",
        "plt.show()"
      ],
      "execution_count": 13,
      "outputs": [
        {
          "output_type": "display_data",
          "data": {
            "image/png": "[encoded data removed]",
            "text/plain": [
              "<Figure size 864x432 with 2 Axes>"
            ]
          },
          "metadata": {
            "tags": [],
            "needs_background": "light"
          }
        }
      ]
    },
    {
      "cell_type": "markdown",
      "metadata": {
        "id": "nC8iYPX-jeU5"
      },
      "source": [
        "### 티켓 등급과 생존의 관계 ( Relationship between Pclass and Survived)"
      ]
    },
    {
      "cell_type": "code",
      "metadata": {
        "id": "P52ZFGbTqhlB",
        "colab": {
          "base_uri": "https://localhost:8080/",
          "height": 0
        },
        "outputId": "f059bcf5-dba1-400a-82e9-e9d4a9b079d7"
      },
      "source": [
        "pd.crosstab(train_df.Pclass, train_df.Survived, margins=True).style.background_gradient(cmap = 'summer_r')"
      ],
      "execution_count": 14,
      "outputs": [
        {
          "output_type": "execute_result",
          "data": {
            "text/html": [
              "<style  type=\"text/css\" >\n",
              "#T_1c5a88f6_92f3_11eb_a86e_0242ac1c0002row0_col0,#T_1c5a88f6_92f3_11eb_a86e_0242ac1c0002row1_col1,#T_1c5a88f6_92f3_11eb_a86e_0242ac1c0002row1_col2{\n",
              "            background-color:  #ffff66;\n",
              "            color:  #000000;\n",
              "        }#T_1c5a88f6_92f3_11eb_a86e_0242ac1c0002row0_col1{\n",
              "            background-color:  #cee666;\n",
              "            color:  #000000;\n",
              "        }#T_1c5a88f6_92f3_11eb_a86e_0242ac1c0002row0_col2{\n",
              "            background-color:  #f4fa66;\n",
              "            color:  #000000;\n",
              "        }#T_1c5a88f6_92f3_11eb_a86e_0242ac1c0002row1_col0{\n",
              "            background-color:  #f6fa66;\n",
              "            color:  #000000;\n",
              "        }#T_1c5a88f6_92f3_11eb_a86e_0242ac1c0002row2_col0{\n",
              "            background-color:  #60b066;\n",
              "            color:  #000000;\n",
              "        }#T_1c5a88f6_92f3_11eb_a86e_0242ac1c0002row2_col1{\n",
              "            background-color:  #dfef66;\n",
              "            color:  #000000;\n",
              "        }#T_1c5a88f6_92f3_11eb_a86e_0242ac1c0002row2_col2{\n",
              "            background-color:  #90c866;\n",
              "            color:  #000000;\n",
              "        }#T_1c5a88f6_92f3_11eb_a86e_0242ac1c0002row3_col0,#T_1c5a88f6_92f3_11eb_a86e_0242ac1c0002row3_col1,#T_1c5a88f6_92f3_11eb_a86e_0242ac1c0002row3_col2{\n",
              "            background-color:  #008066;\n",
              "            color:  #f1f1f1;\n",
              "        }</style><table id=\"T_1c5a88f6_92f3_11eb_a86e_0242ac1c0002\" ><thead>    <tr>        <th class=\"index_name level0\" >Survived</th>        <th class=\"col_heading level0 col0\" >0</th>        <th class=\"col_heading level0 col1\" >1</th>        <th class=\"col_heading level0 col2\" >All</th>    </tr>    <tr>        <th class=\"index_name level0\" >Pclass</th>        <th class=\"blank\" ></th>        <th class=\"blank\" ></th>        <th class=\"blank\" ></th>    </tr></thead><tbody>\n",
              "                <tr>\n",
              "                        <th id=\"T_1c5a88f6_92f3_11eb_a86e_0242ac1c0002level0_row0\" class=\"row_heading level0 row0\" >1</th>\n",
              "                        <td id=\"T_1c5a88f6_92f3_11eb_a86e_0242ac1c0002row0_col0\" class=\"data row0 col0\" >80</td>\n",
              "                        <td id=\"T_1c5a88f6_92f3_11eb_a86e_0242ac1c0002row0_col1\" class=\"data row0 col1\" >136</td>\n",
              "                        <td id=\"T_1c5a88f6_92f3_11eb_a86e_0242ac1c0002row0_col2\" class=\"data row0 col2\" >216</td>\n",
              "            </tr>\n",
              "            <tr>\n",
              "                        <th id=\"T_1c5a88f6_92f3_11eb_a86e_0242ac1c0002level0_row1\" class=\"row_heading level0 row1\" >2</th>\n",
              "                        <td id=\"T_1c5a88f6_92f3_11eb_a86e_0242ac1c0002row1_col0\" class=\"data row1 col0\" >97</td>\n",
              "                        <td id=\"T_1c5a88f6_92f3_11eb_a86e_0242ac1c0002row1_col1\" class=\"data row1 col1\" >87</td>\n",
              "                        <td id=\"T_1c5a88f6_92f3_11eb_a86e_0242ac1c0002row1_col2\" class=\"data row1 col2\" >184</td>\n",
              "            </tr>\n",
              "            <tr>\n",
              "                        <th id=\"T_1c5a88f6_92f3_11eb_a86e_0242ac1c0002level0_row2\" class=\"row_heading level0 row2\" >3</th>\n",
              "                        <td id=\"T_1c5a88f6_92f3_11eb_a86e_0242ac1c0002row2_col0\" class=\"data row2 col0\" >372</td>\n",
              "                        <td id=\"T_1c5a88f6_92f3_11eb_a86e_0242ac1c0002row2_col1\" class=\"data row2 col1\" >119</td>\n",
              "                        <td id=\"T_1c5a88f6_92f3_11eb_a86e_0242ac1c0002row2_col2\" class=\"data row2 col2\" >491</td>\n",
              "            </tr>\n",
              "            <tr>\n",
              "                        <th id=\"T_1c5a88f6_92f3_11eb_a86e_0242ac1c0002level0_row3\" class=\"row_heading level0 row3\" >All</th>\n",
              "                        <td id=\"T_1c5a88f6_92f3_11eb_a86e_0242ac1c0002row3_col0\" class=\"data row3 col0\" >549</td>\n",
              "                        <td id=\"T_1c5a88f6_92f3_11eb_a86e_0242ac1c0002row3_col1\" class=\"data row3 col1\" >342</td>\n",
              "                        <td id=\"T_1c5a88f6_92f3_11eb_a86e_0242ac1c0002row3_col2\" class=\"data row3 col2\" >891</td>\n",
              "            </tr>\n",
              "    </tbody></table>"
            ],
            "text/plain": [
              "<pandas.io.formats.style.Styler at 0x7fd57f8fb0d0>"
            ]
          },
          "metadata": {
            "tags": []
          },
          "execution_count": 14
        }
      ]
    },
    {
      "cell_type": "markdown",
      "metadata": {
        "id": "PDcxyszjvSmj"
      },
      "source": [
        "crosstab\n",
        "\n",
        "pd.crosstab(index, columns,margins= , normalize = )\n",
        "\n",
        "pd.crosstab([id1,id2],[col1,col2],margins= , normalize = )\n",
        "\n",
        "- margins : 행 합, 열 합\n",
        "- normalize : 비율(퍼센트 표기)\n",
        "- rownames=[' '] , colnames = [' ']\n",
        " \n"
      ]
    },
    {
      "cell_type": "code",
      "metadata": {
        "id": "0q69rguOitMZ",
        "colab": {
          "base_uri": "https://localhost:8080/",
          "height": 0
        },
        "outputId": "ef7060f3-f48c-4d3d-9e21-e5a6900f7250"
      },
      "source": [
        "sns.countplot(x = 'Pclass', hue = 'Survived', data = train_df)"
      ],
      "execution_count": 15,
      "outputs": [
        {
          "output_type": "execute_result",
          "data": {
            "text/plain": [
              "<matplotlib.axes._subplots.AxesSubplot at 0x7fd57e036490>"
            ]
          },
          "metadata": {
            "tags": []
          },
          "execution_count": 15
        },
        {
          "output_type": "display_data",
          "data": {
            "image/png": "[encoded data removed]",
            "text/plain": [
              "<Figure size 432x288 with 1 Axes>"
            ]
          },
          "metadata": {
            "tags": [],
            "needs_background": "light"
          }
        }
      ]
    },
    {
      "cell_type": "markdown",
      "metadata": {
        "id": "fZLW_Mu5Q01y"
      },
      "source": [
        "**티켓의 등급이 높을 수록 생존율이 높다.**"
      ]
    },
    {
      "cell_type": "markdown",
      "metadata": {
        "id": "ACFAIIggjyNQ"
      },
      "source": [
        "### 성별과 생존과의 관계 (Relationship between Sex and Survived)\n"
      ]
    },
    {
      "cell_type": "code",
      "metadata": {
        "colab": {
          "base_uri": "https://localhost:8080/",
          "height": 0
        },
        "id": "Dm3ItnHqR5PR",
        "outputId": "3bdb17b7-8d7e-4328-b602-4c3f40b15987"
      },
      "source": [
        "train_df[['Sex', 'Survived']].groupby('Sex', as_index = False).mean()"
      ],
      "execution_count": 16,
      "outputs": [
        {
          "output_type": "execute_result",
          "data": {
            "text/html": [
              "<div>\n",
              "<style scoped>\n",
              "    .dataframe tbody tr th:only-of-type {\n",
              "        vertical-align: middle;\n",
              "    }\n",
              "\n",
              "    .dataframe tbody tr th {\n",
              "        vertical-align: top;\n",
              "    }\n",
              "\n",
              "    .dataframe thead th {\n",
              "        text-align: right;\n",
              "    }\n",
              "</style>\n",
              "<table border=\"1\" class=\"dataframe\">\n",
              "  <thead>\n",
              "    <tr style=\"text-align: right;\">\n",
              "      <th></th>\n",
              "      <th>Sex</th>\n",
              "      <th>Survived</th>\n",
              "    </tr>\n",
              "  </thead>\n",
              "  <tbody>\n",
              "    <tr>\n",
              "      <th>0</th>\n",
              "      <td>female</td>\n",
              "      <td>0.742038</td>\n",
              "    </tr>\n",
              "    <tr>\n",
              "      <th>1</th>\n",
              "      <td>male</td>\n",
              "      <td>0.188908</td>\n",
              "    </tr>\n",
              "  </tbody>\n",
              "</table>\n",
              "</div>"
            ],
            "text/plain": [
              "      Sex  Survived\n",
              "0  female  0.742038\n",
              "1    male  0.188908"
            ]
          },
          "metadata": {
            "tags": []
          },
          "execution_count": 16
        }
      ]
    },
    {
      "cell_type": "code",
      "metadata": {
        "id": "LSypOSofqI18",
        "colab": {
          "base_uri": "https://localhost:8080/"
        },
        "outputId": "9c37b1cc-47af-4b08-f489-c087f88f9143"
      },
      "source": [
        "train_df.groupby(['Sex','Survived'])['Survived'].count()"
      ],
      "execution_count": 17,
      "outputs": [
        {
          "output_type": "execute_result",
          "data": {
            "text/plain": [
              "Sex     Survived\n",
              "female  0            81\n",
              "        1           233\n",
              "male    0           468\n",
              "        1           109\n",
              "Name: Survived, dtype: int64"
            ]
          },
          "metadata": {
            "tags": []
          },
          "execution_count": 17
        }
      ]
    },
    {
      "cell_type": "code",
      "metadata": {
        "id": "LeErJErEutFh",
        "colab": {
          "base_uri": "https://localhost:8080/",
          "height": 0
        },
        "outputId": "08d9bc87-7b9e-415a-efef-20311c30ee9d"
      },
      "source": [
        "pd.crosstab(train_df.Sex, train_df.Survived, margins=True)"
      ],
      "execution_count": 18,
      "outputs": [
        {
          "output_type": "execute_result",
          "data": {
            "text/html": [
              "<div>\n",
              "<style scoped>\n",
              "    .dataframe tbody tr th:only-of-type {\n",
              "        vertical-align: middle;\n",
              "    }\n",
              "\n",
              "    .dataframe tbody tr th {\n",
              "        vertical-align: top;\n",
              "    }\n",
              "\n",
              "    .dataframe thead th {\n",
              "        text-align: right;\n",
              "    }\n",
              "</style>\n",
              "<table border=\"1\" class=\"dataframe\">\n",
              "  <thead>\n",
              "    <tr style=\"text-align: right;\">\n",
              "      <th>Survived</th>\n",
              "      <th>0</th>\n",
              "      <th>1</th>\n",
              "      <th>All</th>\n",
              "    </tr>\n",
              "    <tr>\n",
              "      <th>Sex</th>\n",
              "      <th></th>\n",
              "      <th></th>\n",
              "      <th></th>\n",
              "    </tr>\n",
              "  </thead>\n",
              "  <tbody>\n",
              "    <tr>\n",
              "      <th>female</th>\n",
              "      <td>81</td>\n",
              "      <td>233</td>\n",
              "      <td>314</td>\n",
              "    </tr>\n",
              "    <tr>\n",
              "      <th>male</th>\n",
              "      <td>468</td>\n",
              "      <td>109</td>\n",
              "      <td>577</td>\n",
              "    </tr>\n",
              "    <tr>\n",
              "      <th>All</th>\n",
              "      <td>549</td>\n",
              "      <td>342</td>\n",
              "      <td>891</td>\n",
              "    </tr>\n",
              "  </tbody>\n",
              "</table>\n",
              "</div>"
            ],
            "text/plain": [
              "Survived    0    1  All\n",
              "Sex                    \n",
              "female     81  233  314\n",
              "male      468  109  577\n",
              "All       549  342  891"
            ]
          },
          "metadata": {
            "tags": []
          },
          "execution_count": 18
        }
      ]
    },
    {
      "cell_type": "code",
      "metadata": {
        "colab": {
          "base_uri": "https://localhost:8080/",
          "height": 0
        },
        "id": "HJoTmt5g9VRn",
        "outputId": "ee9c0cc2-2b5a-4a13-81e7-6301b7fe7e25"
      },
      "source": [
        "fig,ax=plt.subplots(1,2,figsize=(18,8))\n",
        "train_df[['Sex','Survived']].groupby(['Sex']).mean().plot.bar(ax=ax[0])\n",
        "ax[0].set_title('Survived vs Sex')\n",
        "sns.countplot('Sex',hue='Survived',data=train_df,ax=ax[1])\n",
        "ax[1].set_title('Sex:Survived vs Dead')\n",
        "plt.show()\n",
        "\n",
        "# train_df[['Sex','Survived']].groupby(['Sex']).mean().plot.bar(ax=axes[0]) \n",
        "# 'Sex'와 'Survived'를 가져와서 'Sex'별로 survived의 평균값을 barplot으로 (pandas로 플랏접근)"
      ],
      "execution_count": 19,
      "outputs": [
        {
          "output_type": "stream",
          "text": [
            "/usr/local/lib/python3.7/dist-packages/seaborn/_decorators.py:43: FutureWarning: Pass the following variable as a keyword arg: x. From version 0.12, the only valid positional argument will be `data`, and passing other arguments without an explicit keyword will result in an error or misinterpretation.\n",
            "  FutureWarning\n"
          ],
          "name": "stderr"
        },
        {
          "output_type": "display_data",
          "data": {
            "image/png": "[encoded data removed]",
            "text/plain": [
              "<Figure size 1296x576 with 2 Axes>"
            ]
          },
          "metadata": {
            "tags": [],
            "needs_background": "light"
          }
        }
      ]
    },
    {
      "cell_type": "markdown",
      "metadata": {
        "id": "lWCpufJ1T039"
      },
      "source": [
        "**여성의 생존율이 훨씬 높다는 것을 알게 되었다.**"
      ]
    },
    {
      "cell_type": "markdown",
      "metadata": {
        "id": "cq1_7uLDs3ov"
      },
      "source": [
        "### 성별, 생존, 티켓등급 상관관계 ( Sex, survival, ticket grade correlation)\n"
      ]
    },
    {
      "cell_type": "code",
      "metadata": {
        "id": "TfJ-Wfw7s-eR",
        "colab": {
          "base_uri": "https://localhost:8080/",
          "height": 0
        },
        "outputId": "682434bb-8db7-4499-c358-8e8ac0469949"
      },
      "source": [
        "pd.crosstab([train_df.Sex,train_df.Survived],train_df.Pclass,margins=True).style.background_gradient(cmap='summer_r')\n",
        "# 다시한번 등급이 높을수록 생존 비율이 높으며 여성의 생존이 더 높다는것을 \n",
        "# 알 수 있다."
      ],
      "execution_count": 20,
      "outputs": [
        {
          "output_type": "execute_result",
          "data": {
            "text/html": [
              "<style  type=\"text/css\" >\n",
              "#T_1cd9b6bc_92f3_11eb_a86e_0242ac1c0002row0_col0,#T_1cd9b6bc_92f3_11eb_a86e_0242ac1c0002row0_col1,#T_1cd9b6bc_92f3_11eb_a86e_0242ac1c0002row0_col3,#T_1cd9b6bc_92f3_11eb_a86e_0242ac1c0002row3_col2{\n",
              "            background-color:  #ffff66;\n",
              "            color:  #000000;\n",
              "        }#T_1cd9b6bc_92f3_11eb_a86e_0242ac1c0002row0_col2,#T_1cd9b6bc_92f3_11eb_a86e_0242ac1c0002row1_col2{\n",
              "            background-color:  #f1f866;\n",
              "            color:  #000000;\n",
              "        }#T_1cd9b6bc_92f3_11eb_a86e_0242ac1c0002row1_col0{\n",
              "            background-color:  #96cb66;\n",
              "            color:  #000000;\n",
              "        }#T_1cd9b6bc_92f3_11eb_a86e_0242ac1c0002row1_col1{\n",
              "            background-color:  #a3d166;\n",
              "            color:  #000000;\n",
              "        }#T_1cd9b6bc_92f3_11eb_a86e_0242ac1c0002row1_col3{\n",
              "            background-color:  #cfe766;\n",
              "            color:  #000000;\n",
              "        }#T_1cd9b6bc_92f3_11eb_a86e_0242ac1c0002row2_col0{\n",
              "            background-color:  #a7d366;\n",
              "            color:  #000000;\n",
              "        }#T_1cd9b6bc_92f3_11eb_a86e_0242ac1c0002row2_col1,#T_1cd9b6bc_92f3_11eb_a86e_0242ac1c0002row2_col3{\n",
              "            background-color:  #85c266;\n",
              "            color:  #000000;\n",
              "        }#T_1cd9b6bc_92f3_11eb_a86e_0242ac1c0002row2_col2{\n",
              "            background-color:  #6eb666;\n",
              "            color:  #000000;\n",
              "        }#T_1cd9b6bc_92f3_11eb_a86e_0242ac1c0002row3_col0{\n",
              "            background-color:  #cde666;\n",
              "            color:  #000000;\n",
              "        }#T_1cd9b6bc_92f3_11eb_a86e_0242ac1c0002row3_col1{\n",
              "            background-color:  #f0f866;\n",
              "            color:  #000000;\n",
              "        }#T_1cd9b6bc_92f3_11eb_a86e_0242ac1c0002row3_col3{\n",
              "            background-color:  #f7fb66;\n",
              "            color:  #000000;\n",
              "        }#T_1cd9b6bc_92f3_11eb_a86e_0242ac1c0002row4_col0,#T_1cd9b6bc_92f3_11eb_a86e_0242ac1c0002row4_col1,#T_1cd9b6bc_92f3_11eb_a86e_0242ac1c0002row4_col2,#T_1cd9b6bc_92f3_11eb_a86e_0242ac1c0002row4_col3{\n",
              "            background-color:  #008066;\n",
              "            color:  #f1f1f1;\n",
              "        }</style><table id=\"T_1cd9b6bc_92f3_11eb_a86e_0242ac1c0002\" ><thead>    <tr>        <th class=\"blank\" ></th>        <th class=\"index_name level0\" >Pclass</th>        <th class=\"col_heading level0 col0\" >1</th>        <th class=\"col_heading level0 col1\" >2</th>        <th class=\"col_heading level0 col2\" >3</th>        <th class=\"col_heading level0 col3\" >All</th>    </tr>    <tr>        <th class=\"index_name level0\" >Sex</th>        <th class=\"index_name level1\" >Survived</th>        <th class=\"blank\" ></th>        <th class=\"blank\" ></th>        <th class=\"blank\" ></th>        <th class=\"blank\" ></th>    </tr></thead><tbody>\n",
              "                <tr>\n",
              "                        <th id=\"T_1cd9b6bc_92f3_11eb_a86e_0242ac1c0002level0_row0\" class=\"row_heading level0 row0\" rowspan=2>female</th>\n",
              "                        <th id=\"T_1cd9b6bc_92f3_11eb_a86e_0242ac1c0002level1_row0\" class=\"row_heading level1 row0\" >0</th>\n",
              "                        <td id=\"T_1cd9b6bc_92f3_11eb_a86e_0242ac1c0002row0_col0\" class=\"data row0 col0\" >3</td>\n",
              "                        <td id=\"T_1cd9b6bc_92f3_11eb_a86e_0242ac1c0002row0_col1\" class=\"data row0 col1\" >6</td>\n",
              "                        <td id=\"T_1cd9b6bc_92f3_11eb_a86e_0242ac1c0002row0_col2\" class=\"data row0 col2\" >72</td>\n",
              "                        <td id=\"T_1cd9b6bc_92f3_11eb_a86e_0242ac1c0002row0_col3\" class=\"data row0 col3\" >81</td>\n",
              "            </tr>\n",
              "            <tr>\n",
              "                                <th id=\"T_1cd9b6bc_92f3_11eb_a86e_0242ac1c0002level1_row1\" class=\"row_heading level1 row1\" >1</th>\n",
              "                        <td id=\"T_1cd9b6bc_92f3_11eb_a86e_0242ac1c0002row1_col0\" class=\"data row1 col0\" >91</td>\n",
              "                        <td id=\"T_1cd9b6bc_92f3_11eb_a86e_0242ac1c0002row1_col1\" class=\"data row1 col1\" >70</td>\n",
              "                        <td id=\"T_1cd9b6bc_92f3_11eb_a86e_0242ac1c0002row1_col2\" class=\"data row1 col2\" >72</td>\n",
              "                        <td id=\"T_1cd9b6bc_92f3_11eb_a86e_0242ac1c0002row1_col3\" class=\"data row1 col3\" >233</td>\n",
              "            </tr>\n",
              "            <tr>\n",
              "                        <th id=\"T_1cd9b6bc_92f3_11eb_a86e_0242ac1c0002level0_row2\" class=\"row_heading level0 row2\" rowspan=2>male</th>\n",
              "                        <th id=\"T_1cd9b6bc_92f3_11eb_a86e_0242ac1c0002level1_row2\" class=\"row_heading level1 row2\" >0</th>\n",
              "                        <td id=\"T_1cd9b6bc_92f3_11eb_a86e_0242ac1c0002row2_col0\" class=\"data row2 col0\" >77</td>\n",
              "                        <td id=\"T_1cd9b6bc_92f3_11eb_a86e_0242ac1c0002row2_col1\" class=\"data row2 col1\" >91</td>\n",
              "                        <td id=\"T_1cd9b6bc_92f3_11eb_a86e_0242ac1c0002row2_col2\" class=\"data row2 col2\" >300</td>\n",
              "                        <td id=\"T_1cd9b6bc_92f3_11eb_a86e_0242ac1c0002row2_col3\" class=\"data row2 col3\" >468</td>\n",
              "            </tr>\n",
              "            <tr>\n",
              "                                <th id=\"T_1cd9b6bc_92f3_11eb_a86e_0242ac1c0002level1_row3\" class=\"row_heading level1 row3\" >1</th>\n",
              "                        <td id=\"T_1cd9b6bc_92f3_11eb_a86e_0242ac1c0002row3_col0\" class=\"data row3 col0\" >45</td>\n",
              "                        <td id=\"T_1cd9b6bc_92f3_11eb_a86e_0242ac1c0002row3_col1\" class=\"data row3 col1\" >17</td>\n",
              "                        <td id=\"T_1cd9b6bc_92f3_11eb_a86e_0242ac1c0002row3_col2\" class=\"data row3 col2\" >47</td>\n",
              "                        <td id=\"T_1cd9b6bc_92f3_11eb_a86e_0242ac1c0002row3_col3\" class=\"data row3 col3\" >109</td>\n",
              "            </tr>\n",
              "            <tr>\n",
              "                        <th id=\"T_1cd9b6bc_92f3_11eb_a86e_0242ac1c0002level0_row4\" class=\"row_heading level0 row4\" >All</th>\n",
              "                        <th id=\"T_1cd9b6bc_92f3_11eb_a86e_0242ac1c0002level1_row4\" class=\"row_heading level1 row4\" ></th>\n",
              "                        <td id=\"T_1cd9b6bc_92f3_11eb_a86e_0242ac1c0002row4_col0\" class=\"data row4 col0\" >216</td>\n",
              "                        <td id=\"T_1cd9b6bc_92f3_11eb_a86e_0242ac1c0002row4_col1\" class=\"data row4 col1\" >184</td>\n",
              "                        <td id=\"T_1cd9b6bc_92f3_11eb_a86e_0242ac1c0002row4_col2\" class=\"data row4 col2\" >491</td>\n",
              "                        <td id=\"T_1cd9b6bc_92f3_11eb_a86e_0242ac1c0002row4_col3\" class=\"data row4 col3\" >891</td>\n",
              "            </tr>\n",
              "    </tbody></table>"
            ],
            "text/plain": [
              "<pandas.io.formats.style.Styler at 0x7fd57e7c33d0>"
            ]
          },
          "metadata": {
            "tags": []
          },
          "execution_count": 20
        }
      ]
    },
    {
      "cell_type": "markdown",
      "metadata": {
        "id": "pBuIytDgtZDu"
      },
      "source": [
        "### 나이와 생존과의 관계 (Relationship between Age and Survived)"
      ]
    },
    {
      "cell_type": "code",
      "metadata": {
        "colab": {
          "base_uri": "https://localhost:8080/",
          "height": 0
        },
        "id": "fbJhnixURzGq",
        "outputId": "c0ed43fd-6bf7-44de-86e7-0d580b844521"
      },
      "source": [
        "sns.histplot(x = 'Age',hue = 'Survived', data = train_df)"
      ],
      "execution_count": 21,
      "outputs": [
        {
          "output_type": "execute_result",
          "data": {
            "text/plain": [
              "<matplotlib.axes._subplots.AxesSubplot at 0x7fd57fc04690>"
            ]
          },
          "metadata": {
            "tags": []
          },
          "execution_count": 21
        },
        {
          "output_type": "display_data",
          "data": {
            "image/png": "[encoded data removed]",
            "text/plain": [
              "<Figure size 432x288 with 1 Axes>"
            ]
          },
          "metadata": {
            "tags": [],
            "needs_background": "light"
          }
        }
      ]
    },
    {
      "cell_type": "code",
      "metadata": {
        "id": "7mNYPw1V9yEY",
        "colab": {
          "base_uri": "https://localhost:8080/"
        },
        "outputId": "147d4cf9-9099-42f0-a853-a01de145d1f0"
      },
      "source": [
        "for total_data in combine:\n",
        "  young_people = total_data.loc[total_data['Age'] < 10, 'Age']\n",
        "\n",
        "young_people"
      ],
      "execution_count": 22,
      "outputs": [
        {
          "output_type": "execute_result",
          "data": {
            "text/plain": [
              "21     9.00\n",
              "80     6.00\n",
              "89     2.00\n",
              "117    1.00\n",
              "161    7.00\n",
              "194    8.00\n",
              "196    6.00\n",
              "201    0.33\n",
              "203    8.00\n",
              "250    0.92\n",
              "263    1.00\n",
              "281    0.75\n",
              "283    9.00\n",
              "284    2.00\n",
              "296    1.00\n",
              "307    0.83\n",
              "354    0.17\n",
              "379    5.00\n",
              "389    6.00\n",
              "409    3.00\n",
              "Name: Age, dtype: float64"
            ]
          },
          "metadata": {
            "tags": []
          },
          "execution_count": 22
        }
      ]
    },
    {
      "cell_type": "code",
      "metadata": {
        "id": "lA6cmjPM9RNg",
        "colab": {
          "base_uri": "https://localhost:8080/"
        },
        "outputId": "3cf90b32-991c-4937-e5e1-50a3e9f7069b"
      },
      "source": [
        "for total_data in combine:\n",
        "  old_people = total_data.loc[total_data['Age']>70, 'Age']\n",
        "old_people"
      ],
      "execution_count": 23,
      "outputs": [
        {
          "output_type": "execute_result",
          "data": {
            "text/plain": [
              "96    76.0\n",
              "Name: Age, dtype: float64"
            ]
          },
          "metadata": {
            "tags": []
          },
          "execution_count": 23
        }
      ]
    },
    {
      "cell_type": "markdown",
      "metadata": {
        "id": "SgGC4_eIU83U"
      },
      "source": [
        "**생존이 더 높은 연령층은 10세 미만 아이들과  76세의 고령탑승객이다.**"
      ]
    },
    {
      "cell_type": "markdown",
      "metadata": {
        "id": "pjLDmSlIuQos"
      },
      "source": [
        "### 형제, 배우자 수 와 부모, 자녀 수 의 생존과의 관계 (Relationship between Sibsp and Survived/ Relationship between Parch and Survived)"
      ]
    },
    {
      "cell_type": "code",
      "metadata": {
        "id": "apAG8C2B-yn9",
        "colab": {
          "base_uri": "https://localhost:8080/",
          "height": 0
        },
        "outputId": "04974a65-17b4-4ef4-8763-0f5e50477c56"
      },
      "source": [
        "sns.barplot(x = 'SibSp', y = 'Survived', data = train_df)"
      ],
      "execution_count": 24,
      "outputs": [
        {
          "output_type": "execute_result",
          "data": {
            "text/plain": [
              "<matplotlib.axes._subplots.AxesSubplot at 0x7fd57dbe0c10>"
            ]
          },
          "metadata": {
            "tags": []
          },
          "execution_count": 24
        },
        {
          "output_type": "display_data",
          "data": {
            "image/png": "[encoded data removed]",
            "text/plain": [
              "<Figure size 432x288 with 1 Axes>"
            ]
          },
          "metadata": {
            "tags": [],
            "needs_background": "light"
          }
        }
      ]
    },
    {
      "cell_type": "code",
      "metadata": {
        "id": "5kVwiIus_CWd",
        "colab": {
          "base_uri": "https://localhost:8080/",
          "height": 0
        },
        "outputId": "65b73b5b-e486-40f5-9da5-7466dd8978eb"
      },
      "source": [
        "sns.barplot(x = 'Parch', y = 'Survived', data = train_df)"
      ],
      "execution_count": 25,
      "outputs": [
        {
          "output_type": "execute_result",
          "data": {
            "text/plain": [
              "<matplotlib.axes._subplots.AxesSubplot at 0x7fd57e8d2890>"
            ]
          },
          "metadata": {
            "tags": []
          },
          "execution_count": 25
        },
        {
          "output_type": "display_data",
          "data": {
            "image/png": "[encoded data removed]",
            "text/plain": [
              "<Figure size 432x288 with 1 Axes>"
            ]
          },
          "metadata": {
            "tags": [],
            "needs_background": "light"
          }
        }
      ]
    },
    {
      "cell_type": "markdown",
      "metadata": {
        "id": "Ye83qNzuuZH6"
      },
      "source": [
        "### 탑승장소와 생존과의 관계 (Relationship between Embarked and Survived)"
      ]
    },
    {
      "cell_type": "code",
      "metadata": {
        "colab": {
          "base_uri": "https://localhost:8080/",
          "height": 0
        },
        "id": "nawHgQLbff6W",
        "outputId": "228dac7a-e8bc-4aa5-c8d8-7cd3be7f9d46"
      },
      "source": [
        "sns.barplot(x = 'Embarked', y = 'Survived', data = train_df)"
      ],
      "execution_count": 26,
      "outputs": [
        {
          "output_type": "execute_result",
          "data": {
            "text/plain": [
              "<matplotlib.axes._subplots.AxesSubplot at 0x7fd57dad2e90>"
            ]
          },
          "metadata": {
            "tags": []
          },
          "execution_count": 26
        },
        {
          "output_type": "display_data",
          "data": {
            "image/png": "[encoded data removed]",
            "text/plain": [
              "<Figure size 432x288 with 1 Axes>"
            ]
          },
          "metadata": {
            "tags": [],
            "needs_background": "light"
          }
        }
      ]
    },
    {
      "cell_type": "markdown",
      "metadata": {
        "id": "bInRKvRBuvep"
      },
      "source": [
        "### 탑승장소와 등급에 따른 성별과 생존의 관계 (Embarked, Pclass, Sex and Survived correlation)"
      ]
    },
    {
      "cell_type": "code",
      "metadata": {
        "id": "GLnJCbkqu2vV",
        "colab": {
          "base_uri": "https://localhost:8080/",
          "height": 0
        },
        "outputId": "dce0bc75-5fc0-4ca5-a530-afae87719144"
      },
      "source": [
        "pd.crosstab([train_df.Embarked,train_df.Pclass],[train_df.Sex,train_df.Survived],margins=True).style.background_gradient(cmap='summer_r')"
      ],
      "execution_count": 27,
      "outputs": [
        {
          "output_type": "execute_result",
          "data": {
            "text/html": [
              "<style  type=\"text/css\" >\n",
              "#T_1dddefe2_92f3_11eb_a86e_0242ac1c0002row0_col0,#T_1dddefe2_92f3_11eb_a86e_0242ac1c0002row1_col2{\n",
              "            background-color:  #fcfe66;\n",
              "            color:  #000000;\n",
              "        }#T_1dddefe2_92f3_11eb_a86e_0242ac1c0002row0_col1{\n",
              "            background-color:  #d2e866;\n",
              "            color:  #000000;\n",
              "        }#T_1dddefe2_92f3_11eb_a86e_0242ac1c0002row0_col2{\n",
              "            background-color:  #f2f866;\n",
              "            color:  #000000;\n",
              "        }#T_1dddefe2_92f3_11eb_a86e_0242ac1c0002row0_col3{\n",
              "            background-color:  #d8ec66;\n",
              "            color:  #000000;\n",
              "        }#T_1dddefe2_92f3_11eb_a86e_0242ac1c0002row0_col4,#T_1dddefe2_92f3_11eb_a86e_0242ac1c0002row2_col3{\n",
              "            background-color:  #e8f466;\n",
              "            color:  #000000;\n",
              "        }#T_1dddefe2_92f3_11eb_a86e_0242ac1c0002row1_col0,#T_1dddefe2_92f3_11eb_a86e_0242ac1c0002row3_col0,#T_1dddefe2_92f3_11eb_a86e_0242ac1c0002row3_col1,#T_1dddefe2_92f3_11eb_a86e_0242ac1c0002row3_col2,#T_1dddefe2_92f3_11eb_a86e_0242ac1c0002row3_col3,#T_1dddefe2_92f3_11eb_a86e_0242ac1c0002row3_col4,#T_1dddefe2_92f3_11eb_a86e_0242ac1c0002row4_col0,#T_1dddefe2_92f3_11eb_a86e_0242ac1c0002row4_col2,#T_1dddefe2_92f3_11eb_a86e_0242ac1c0002row4_col3,#T_1dddefe2_92f3_11eb_a86e_0242ac1c0002row4_col4{\n",
              "            background-color:  #ffff66;\n",
              "            color:  #000000;\n",
              "        }#T_1dddefe2_92f3_11eb_a86e_0242ac1c0002row1_col1,#T_1dddefe2_92f3_11eb_a86e_0242ac1c0002row6_col0{\n",
              "            background-color:  #f9fc66;\n",
              "            color:  #000000;\n",
              "        }#T_1dddefe2_92f3_11eb_a86e_0242ac1c0002row1_col3,#T_1dddefe2_92f3_11eb_a86e_0242ac1c0002row1_col4{\n",
              "            background-color:  #fbfd66;\n",
              "            color:  #000000;\n",
              "        }#T_1dddefe2_92f3_11eb_a86e_0242ac1c0002row2_col0,#T_1dddefe2_92f3_11eb_a86e_0242ac1c0002row5_col1{\n",
              "            background-color:  #e6f266;\n",
              "            color:  #000000;\n",
              "        }#T_1dddefe2_92f3_11eb_a86e_0242ac1c0002row2_col1{\n",
              "            background-color:  #f0f866;\n",
              "            color:  #000000;\n",
              "        }#T_1dddefe2_92f3_11eb_a86e_0242ac1c0002row2_col2{\n",
              "            background-color:  #eef666;\n",
              "            color:  #000000;\n",
              "        }#T_1dddefe2_92f3_11eb_a86e_0242ac1c0002row2_col4,#T_1dddefe2_92f3_11eb_a86e_0242ac1c0002row7_col0{\n",
              "            background-color:  #edf666;\n",
              "            color:  #000000;\n",
              "        }#T_1dddefe2_92f3_11eb_a86e_0242ac1c0002row4_col1{\n",
              "            background-color:  #fefe66;\n",
              "            color:  #000000;\n",
              "        }#T_1dddefe2_92f3_11eb_a86e_0242ac1c0002row5_col0{\n",
              "            background-color:  #e3f166;\n",
              "            color:  #000000;\n",
              "        }#T_1dddefe2_92f3_11eb_a86e_0242ac1c0002row5_col2{\n",
              "            background-color:  #ecf666;\n",
              "            color:  #000000;\n",
              "        }#T_1dddefe2_92f3_11eb_a86e_0242ac1c0002row5_col3{\n",
              "            background-color:  #f8fc66;\n",
              "            color:  #000000;\n",
              "        }#T_1dddefe2_92f3_11eb_a86e_0242ac1c0002row5_col4{\n",
              "            background-color:  #ebf566;\n",
              "            color:  #000000;\n",
              "        }#T_1dddefe2_92f3_11eb_a86e_0242ac1c0002row6_col1{\n",
              "            background-color:  #cde666;\n",
              "            color:  #000000;\n",
              "        }#T_1dddefe2_92f3_11eb_a86e_0242ac1c0002row6_col2{\n",
              "            background-color:  #e4f266;\n",
              "            color:  #000000;\n",
              "        }#T_1dddefe2_92f3_11eb_a86e_0242ac1c0002row6_col3{\n",
              "            background-color:  #bede66;\n",
              "            color:  #000000;\n",
              "        }#T_1dddefe2_92f3_11eb_a86e_0242ac1c0002row6_col4{\n",
              "            background-color:  #dbed66;\n",
              "            color:  #000000;\n",
              "        }#T_1dddefe2_92f3_11eb_a86e_0242ac1c0002row7_col1{\n",
              "            background-color:  #bdde66;\n",
              "            color:  #000000;\n",
              "        }#T_1dddefe2_92f3_11eb_a86e_0242ac1c0002row7_col2{\n",
              "            background-color:  #d3e966;\n",
              "            color:  #000000;\n",
              "        }#T_1dddefe2_92f3_11eb_a86e_0242ac1c0002row7_col3,#T_1dddefe2_92f3_11eb_a86e_0242ac1c0002row8_col1{\n",
              "            background-color:  #dcee66;\n",
              "            color:  #000000;\n",
              "        }#T_1dddefe2_92f3_11eb_a86e_0242ac1c0002row7_col4{\n",
              "            background-color:  #d1e866;\n",
              "            color:  #000000;\n",
              "        }#T_1dddefe2_92f3_11eb_a86e_0242ac1c0002row8_col0{\n",
              "            background-color:  #52a866;\n",
              "            color:  #000000;\n",
              "        }#T_1dddefe2_92f3_11eb_a86e_0242ac1c0002row8_col2{\n",
              "            background-color:  #81c066;\n",
              "            color:  #000000;\n",
              "        }#T_1dddefe2_92f3_11eb_a86e_0242ac1c0002row8_col3{\n",
              "            background-color:  #b0d866;\n",
              "            color:  #000000;\n",
              "        }#T_1dddefe2_92f3_11eb_a86e_0242ac1c0002row8_col4{\n",
              "            background-color:  #9acc66;\n",
              "            color:  #000000;\n",
              "        }#T_1dddefe2_92f3_11eb_a86e_0242ac1c0002row9_col0,#T_1dddefe2_92f3_11eb_a86e_0242ac1c0002row9_col1,#T_1dddefe2_92f3_11eb_a86e_0242ac1c0002row9_col2,#T_1dddefe2_92f3_11eb_a86e_0242ac1c0002row9_col3,#T_1dddefe2_92f3_11eb_a86e_0242ac1c0002row9_col4{\n",
              "            background-color:  #008066;\n",
              "            color:  #f1f1f1;\n",
              "        }</style><table id=\"T_1dddefe2_92f3_11eb_a86e_0242ac1c0002\" ><thead>    <tr>        <th class=\"blank\" ></th>        <th class=\"index_name level0\" >Sex</th>        <th class=\"col_heading level0 col0\" colspan=2>female</th>        <th class=\"col_heading level0 col2\" colspan=2>male</th>        <th class=\"col_heading level0 col4\" >All</th>    </tr>    <tr>        <th class=\"blank\" ></th>        <th class=\"index_name level1\" >Survived</th>        <th class=\"col_heading level1 col0\" >0</th>        <th class=\"col_heading level1 col1\" >1</th>        <th class=\"col_heading level1 col2\" >0</th>        <th class=\"col_heading level1 col3\" >1</th>        <th class=\"col_heading level1 col4\" ></th>    </tr>    <tr>        <th class=\"index_name level0\" >Embarked</th>        <th class=\"index_name level1\" >Pclass</th>        <th class=\"blank\" ></th>        <th class=\"blank\" ></th>        <th class=\"blank\" ></th>        <th class=\"blank\" ></th>        <th class=\"blank\" ></th>    </tr></thead><tbody>\n",
              "                <tr>\n",
              "                        <th id=\"T_1dddefe2_92f3_11eb_a86e_0242ac1c0002level0_row0\" class=\"row_heading level0 row0\" rowspan=3>C</th>\n",
              "                        <th id=\"T_1dddefe2_92f3_11eb_a86e_0242ac1c0002level1_row0\" class=\"row_heading level1 row0\" >1</th>\n",
              "                        <td id=\"T_1dddefe2_92f3_11eb_a86e_0242ac1c0002row0_col0\" class=\"data row0 col0\" >1</td>\n",
              "                        <td id=\"T_1dddefe2_92f3_11eb_a86e_0242ac1c0002row0_col1\" class=\"data row0 col1\" >42</td>\n",
              "                        <td id=\"T_1dddefe2_92f3_11eb_a86e_0242ac1c0002row0_col2\" class=\"data row0 col2\" >25</td>\n",
              "                        <td id=\"T_1dddefe2_92f3_11eb_a86e_0242ac1c0002row0_col3\" class=\"data row0 col3\" >17</td>\n",
              "                        <td id=\"T_1dddefe2_92f3_11eb_a86e_0242ac1c0002row0_col4\" class=\"data row0 col4\" >85</td>\n",
              "            </tr>\n",
              "            <tr>\n",
              "                                <th id=\"T_1dddefe2_92f3_11eb_a86e_0242ac1c0002level1_row1\" class=\"row_heading level1 row1\" >2</th>\n",
              "                        <td id=\"T_1dddefe2_92f3_11eb_a86e_0242ac1c0002row1_col0\" class=\"data row1 col0\" >0</td>\n",
              "                        <td id=\"T_1dddefe2_92f3_11eb_a86e_0242ac1c0002row1_col1\" class=\"data row1 col1\" >7</td>\n",
              "                        <td id=\"T_1dddefe2_92f3_11eb_a86e_0242ac1c0002row1_col2\" class=\"data row1 col2\" >8</td>\n",
              "                        <td id=\"T_1dddefe2_92f3_11eb_a86e_0242ac1c0002row1_col3\" class=\"data row1 col3\" >2</td>\n",
              "                        <td id=\"T_1dddefe2_92f3_11eb_a86e_0242ac1c0002row1_col4\" class=\"data row1 col4\" >17</td>\n",
              "            </tr>\n",
              "            <tr>\n",
              "                                <th id=\"T_1dddefe2_92f3_11eb_a86e_0242ac1c0002level1_row2\" class=\"row_heading level1 row2\" >3</th>\n",
              "                        <td id=\"T_1dddefe2_92f3_11eb_a86e_0242ac1c0002row2_col0\" class=\"data row2 col0\" >8</td>\n",
              "                        <td id=\"T_1dddefe2_92f3_11eb_a86e_0242ac1c0002row2_col1\" class=\"data row2 col1\" >15</td>\n",
              "                        <td id=\"T_1dddefe2_92f3_11eb_a86e_0242ac1c0002row2_col2\" class=\"data row2 col2\" >33</td>\n",
              "                        <td id=\"T_1dddefe2_92f3_11eb_a86e_0242ac1c0002row2_col3\" class=\"data row2 col3\" >10</td>\n",
              "                        <td id=\"T_1dddefe2_92f3_11eb_a86e_0242ac1c0002row2_col4\" class=\"data row2 col4\" >66</td>\n",
              "            </tr>\n",
              "            <tr>\n",
              "                        <th id=\"T_1dddefe2_92f3_11eb_a86e_0242ac1c0002level0_row3\" class=\"row_heading level0 row3\" rowspan=3>Q</th>\n",
              "                        <th id=\"T_1dddefe2_92f3_11eb_a86e_0242ac1c0002level1_row3\" class=\"row_heading level1 row3\" >1</th>\n",
              "                        <td id=\"T_1dddefe2_92f3_11eb_a86e_0242ac1c0002row3_col0\" class=\"data row3 col0\" >0</td>\n",
              "                        <td id=\"T_1dddefe2_92f3_11eb_a86e_0242ac1c0002row3_col1\" class=\"data row3 col1\" >1</td>\n",
              "                        <td id=\"T_1dddefe2_92f3_11eb_a86e_0242ac1c0002row3_col2\" class=\"data row3 col2\" >1</td>\n",
              "                        <td id=\"T_1dddefe2_92f3_11eb_a86e_0242ac1c0002row3_col3\" class=\"data row3 col3\" >0</td>\n",
              "                        <td id=\"T_1dddefe2_92f3_11eb_a86e_0242ac1c0002row3_col4\" class=\"data row3 col4\" >2</td>\n",
              "            </tr>\n",
              "            <tr>\n",
              "                                <th id=\"T_1dddefe2_92f3_11eb_a86e_0242ac1c0002level1_row4\" class=\"row_heading level1 row4\" >2</th>\n",
              "                        <td id=\"T_1dddefe2_92f3_11eb_a86e_0242ac1c0002row4_col0\" class=\"data row4 col0\" >0</td>\n",
              "                        <td id=\"T_1dddefe2_92f3_11eb_a86e_0242ac1c0002row4_col1\" class=\"data row4 col1\" >2</td>\n",
              "                        <td id=\"T_1dddefe2_92f3_11eb_a86e_0242ac1c0002row4_col2\" class=\"data row4 col2\" >1</td>\n",
              "                        <td id=\"T_1dddefe2_92f3_11eb_a86e_0242ac1c0002row4_col3\" class=\"data row4 col3\" >0</td>\n",
              "                        <td id=\"T_1dddefe2_92f3_11eb_a86e_0242ac1c0002row4_col4\" class=\"data row4 col4\" >3</td>\n",
              "            </tr>\n",
              "            <tr>\n",
              "                                <th id=\"T_1dddefe2_92f3_11eb_a86e_0242ac1c0002level1_row5\" class=\"row_heading level1 row5\" >3</th>\n",
              "                        <td id=\"T_1dddefe2_92f3_11eb_a86e_0242ac1c0002row5_col0\" class=\"data row5 col0\" >9</td>\n",
              "                        <td id=\"T_1dddefe2_92f3_11eb_a86e_0242ac1c0002row5_col1\" class=\"data row5 col1\" >24</td>\n",
              "                        <td id=\"T_1dddefe2_92f3_11eb_a86e_0242ac1c0002row5_col2\" class=\"data row5 col2\" >36</td>\n",
              "                        <td id=\"T_1dddefe2_92f3_11eb_a86e_0242ac1c0002row5_col3\" class=\"data row5 col3\" >3</td>\n",
              "                        <td id=\"T_1dddefe2_92f3_11eb_a86e_0242ac1c0002row5_col4\" class=\"data row5 col4\" >72</td>\n",
              "            </tr>\n",
              "            <tr>\n",
              "                        <th id=\"T_1dddefe2_92f3_11eb_a86e_0242ac1c0002level0_row6\" class=\"row_heading level0 row6\" rowspan=3>S</th>\n",
              "                        <th id=\"T_1dddefe2_92f3_11eb_a86e_0242ac1c0002level1_row6\" class=\"row_heading level1 row6\" >1</th>\n",
              "                        <td id=\"T_1dddefe2_92f3_11eb_a86e_0242ac1c0002row6_col0\" class=\"data row6 col0\" >2</td>\n",
              "                        <td id=\"T_1dddefe2_92f3_11eb_a86e_0242ac1c0002row6_col1\" class=\"data row6 col1\" >46</td>\n",
              "                        <td id=\"T_1dddefe2_92f3_11eb_a86e_0242ac1c0002row6_col2\" class=\"data row6 col2\" >51</td>\n",
              "                        <td id=\"T_1dddefe2_92f3_11eb_a86e_0242ac1c0002row6_col3\" class=\"data row6 col3\" >28</td>\n",
              "                        <td id=\"T_1dddefe2_92f3_11eb_a86e_0242ac1c0002row6_col4\" class=\"data row6 col4\" >127</td>\n",
              "            </tr>\n",
              "            <tr>\n",
              "                                <th id=\"T_1dddefe2_92f3_11eb_a86e_0242ac1c0002level1_row7\" class=\"row_heading level1 row7\" >2</th>\n",
              "                        <td id=\"T_1dddefe2_92f3_11eb_a86e_0242ac1c0002row7_col0\" class=\"data row7 col0\" >6</td>\n",
              "                        <td id=\"T_1dddefe2_92f3_11eb_a86e_0242ac1c0002row7_col1\" class=\"data row7 col1\" >61</td>\n",
              "                        <td id=\"T_1dddefe2_92f3_11eb_a86e_0242ac1c0002row7_col2\" class=\"data row7 col2\" >82</td>\n",
              "                        <td id=\"T_1dddefe2_92f3_11eb_a86e_0242ac1c0002row7_col3\" class=\"data row7 col3\" >15</td>\n",
              "                        <td id=\"T_1dddefe2_92f3_11eb_a86e_0242ac1c0002row7_col4\" class=\"data row7 col4\" >164</td>\n",
              "            </tr>\n",
              "            <tr>\n",
              "                                <th id=\"T_1dddefe2_92f3_11eb_a86e_0242ac1c0002level1_row8\" class=\"row_heading level1 row8\" >3</th>\n",
              "                        <td id=\"T_1dddefe2_92f3_11eb_a86e_0242ac1c0002row8_col0\" class=\"data row8 col0\" >55</td>\n",
              "                        <td id=\"T_1dddefe2_92f3_11eb_a86e_0242ac1c0002row8_col1\" class=\"data row8 col1\" >33</td>\n",
              "                        <td id=\"T_1dddefe2_92f3_11eb_a86e_0242ac1c0002row8_col2\" class=\"data row8 col2\" >231</td>\n",
              "                        <td id=\"T_1dddefe2_92f3_11eb_a86e_0242ac1c0002row8_col3\" class=\"data row8 col3\" >34</td>\n",
              "                        <td id=\"T_1dddefe2_92f3_11eb_a86e_0242ac1c0002row8_col4\" class=\"data row8 col4\" >353</td>\n",
              "            </tr>\n",
              "            <tr>\n",
              "                        <th id=\"T_1dddefe2_92f3_11eb_a86e_0242ac1c0002level0_row9\" class=\"row_heading level0 row9\" >All</th>\n",
              "                        <th id=\"T_1dddefe2_92f3_11eb_a86e_0242ac1c0002level1_row9\" class=\"row_heading level1 row9\" ></th>\n",
              "                        <td id=\"T_1dddefe2_92f3_11eb_a86e_0242ac1c0002row9_col0\" class=\"data row9 col0\" >81</td>\n",
              "                        <td id=\"T_1dddefe2_92f3_11eb_a86e_0242ac1c0002row9_col1\" class=\"data row9 col1\" >231</td>\n",
              "                        <td id=\"T_1dddefe2_92f3_11eb_a86e_0242ac1c0002row9_col2\" class=\"data row9 col2\" >468</td>\n",
              "                        <td id=\"T_1dddefe2_92f3_11eb_a86e_0242ac1c0002row9_col3\" class=\"data row9 col3\" >109</td>\n",
              "                        <td id=\"T_1dddefe2_92f3_11eb_a86e_0242ac1c0002row9_col4\" class=\"data row9 col4\" >889</td>\n",
              "            </tr>\n",
              "    </tbody></table>"
            ],
            "text/plain": [
              "<pandas.io.formats.style.Styler at 0x7fd57e866090>"
            ]
          },
          "metadata": {
            "tags": []
          },
          "execution_count": 27
        }
      ]
    },
    {
      "cell_type": "markdown",
      "metadata": {
        "id": "RDWb4h7hg-F1"
      },
      "source": [
        "탑승장소에 대한 자세한 특성을 알아봐야할 필요가 있을것 같다.\n"
      ]
    },
    {
      "cell_type": "markdown",
      "metadata": {
        "id": "exVntOlavrF0"
      },
      "source": [
        "### 각 변수들 간의 상관관계 (Correlation of each variable)\n",
        "\n"
      ]
    },
    {
      "cell_type": "code",
      "metadata": {
        "id": "vCmCMN1Kvjk1",
        "colab": {
          "base_uri": "https://localhost:8080/",
          "height": 0
        },
        "outputId": "cab1915c-c5e9-4998-fe01-413225b640a2"
      },
      "source": [
        "# heatmap을 사용하면 각 변수들 간의 correlation을 확인 할 수 있으며,\n",
        "# 전처리 시 도움이 된다. \n",
        "sns.heatmap(train_df.corr(),vmin = -1, vmax = 1, annot=True,cmap='PuRd') #data.corr()-->correlation matrix\n",
        "fig=plt.gcf()\n",
        "fig.set_size_inches(10,8)\n",
        "plt.show()\n",
        "\n"
      ],
      "execution_count": 28,
      "outputs": [
        {
          "output_type": "display_data",
          "data": {
            "image/png": "[encoded data removed]",
            "text/plain": [
              "<Figure size 720x576 with 2 Axes>"
            ]
          },
          "metadata": {
            "tags": [],
            "needs_background": "light"
          }
        }
      ]
    },
    {
      "cell_type": "markdown",
      "metadata": {
        "id": "T6CoPqmJ9Pxd"
      },
      "source": [
        "- 이전에 Parch와 Sibsp는 한개의 컬럼으로 묶어도 괜찮을것 같다라고 말했는데 위의 히트맵의 관계 또한 높은것을 확인할 수 있다.\n",
        "\n",
        "- Survived와 가장 관련이 있는것은 Fare인 것을 확인할 수 있다. 반면에 Pclass는 연관이 작아 보인다."
      ]
    },
    {
      "cell_type": "markdown",
      "metadata": {
        "id": "PDj8wyg-3UgA"
      },
      "source": [
        "히트맵 코드 설명 (fig = plt.gcf())\n",
        "plt.~~~ 코드로 그림을 그리는 방식을 상태기반(state-based)이라고 한다. 반면 그림의 구성요소를 지정해서 제어하는 것을 객체지향(object-oriented)방식이라고 한다. plt.로 그림을 그리다 보면 그림제어에 한계가 느껴져 객체지향으로 변환해야 하는데 그러때 쓰는것이 fig = plt.gcf()명령이다. 지금 그림(plt)의 전체영역(Figure)에 접근하겠다(gcf: get current figure)는 의미입니다. \n",
        "\n",
        "fig = plt.gcf()로 Figure객체를 fig라는 변수에 담은 후, figuresize 를 변경하는 명령이다.\n",
        "\n",
        "하지만 matplot이 손에 익을 때 까지는 객체지향을 연습하며 사용하는것을 추천한다. ( 이재현 님 설명 인용)"
      ]
    },
    {
      "cell_type": "code",
      "metadata": {
        "id": "ECVi65k3Uz0I",
        "colab": {
          "base_uri": "https://localhost:8080/",
          "height": 0
        },
        "outputId": "a679846c-0ee1-43c9-f550-67c8090eb3fe"
      },
      "source": [
        "train_df.corr()"
      ],
      "execution_count": 29,
      "outputs": [
        {
          "output_type": "execute_result",
          "data": {
            "text/html": [
              "<div>\n",
              "<style scoped>\n",
              "    .dataframe tbody tr th:only-of-type {\n",
              "        vertical-align: middle;\n",
              "    }\n",
              "\n",
              "    .dataframe tbody tr th {\n",
              "        vertical-align: top;\n",
              "    }\n",
              "\n",
              "    .dataframe thead th {\n",
              "        text-align: right;\n",
              "    }\n",
              "</style>\n",
              "<table border=\"1\" class=\"dataframe\">\n",
              "  <thead>\n",
              "    <tr style=\"text-align: right;\">\n",
              "      <th></th>\n",
              "      <th>PassengerId</th>\n",
              "      <th>Survived</th>\n",
              "      <th>Pclass</th>\n",
              "      <th>Age</th>\n",
              "      <th>SibSp</th>\n",
              "      <th>Parch</th>\n",
              "      <th>Fare</th>\n",
              "    </tr>\n",
              "  </thead>\n",
              "  <tbody>\n",
              "    <tr>\n",
              "      <th>PassengerId</th>\n",
              "      <td>1.000000</td>\n",
              "      <td>-0.005007</td>\n",
              "      <td>-0.035144</td>\n",
              "      <td>0.036847</td>\n",
              "      <td>-0.057527</td>\n",
              "      <td>-0.001652</td>\n",
              "      <td>0.012658</td>\n",
              "    </tr>\n",
              "    <tr>\n",
              "      <th>Survived</th>\n",
              "      <td>-0.005007</td>\n",
              "      <td>1.000000</td>\n",
              "      <td>-0.338481</td>\n",
              "      <td>-0.077221</td>\n",
              "      <td>-0.035322</td>\n",
              "      <td>0.081629</td>\n",
              "      <td>0.257307</td>\n",
              "    </tr>\n",
              "    <tr>\n",
              "      <th>Pclass</th>\n",
              "      <td>-0.035144</td>\n",
              "      <td>-0.338481</td>\n",
              "      <td>1.000000</td>\n",
              "      <td>-0.369226</td>\n",
              "      <td>0.083081</td>\n",
              "      <td>0.018443</td>\n",
              "      <td>-0.549500</td>\n",
              "    </tr>\n",
              "    <tr>\n",
              "      <th>Age</th>\n",
              "      <td>0.036847</td>\n",
              "      <td>-0.077221</td>\n",
              "      <td>-0.369226</td>\n",
              "      <td>1.000000</td>\n",
              "      <td>-0.308247</td>\n",
              "      <td>-0.189119</td>\n",
              "      <td>0.096067</td>\n",
              "    </tr>\n",
              "    <tr>\n",
              "      <th>SibSp</th>\n",
              "      <td>-0.057527</td>\n",
              "      <td>-0.035322</td>\n",
              "      <td>0.083081</td>\n",
              "      <td>-0.308247</td>\n",
              "      <td>1.000000</td>\n",
              "      <td>0.414838</td>\n",
              "      <td>0.159651</td>\n",
              "    </tr>\n",
              "    <tr>\n",
              "      <th>Parch</th>\n",
              "      <td>-0.001652</td>\n",
              "      <td>0.081629</td>\n",
              "      <td>0.018443</td>\n",
              "      <td>-0.189119</td>\n",
              "      <td>0.414838</td>\n",
              "      <td>1.000000</td>\n",
              "      <td>0.216225</td>\n",
              "    </tr>\n",
              "    <tr>\n",
              "      <th>Fare</th>\n",
              "      <td>0.012658</td>\n",
              "      <td>0.257307</td>\n",
              "      <td>-0.549500</td>\n",
              "      <td>0.096067</td>\n",
              "      <td>0.159651</td>\n",
              "      <td>0.216225</td>\n",
              "      <td>1.000000</td>\n",
              "    </tr>\n",
              "  </tbody>\n",
              "</table>\n",
              "</div>"
            ],
            "text/plain": [
              "             PassengerId  Survived    Pclass  ...     SibSp     Parch      Fare\n",
              "PassengerId     1.000000 -0.005007 -0.035144  ... -0.057527 -0.001652  0.012658\n",
              "Survived       -0.005007  1.000000 -0.338481  ... -0.035322  0.081629  0.257307\n",
              "Pclass         -0.035144 -0.338481  1.000000  ...  0.083081  0.018443 -0.549500\n",
              "Age             0.036847 -0.077221 -0.369226  ... -0.308247 -0.189119  0.096067\n",
              "SibSp          -0.057527 -0.035322  0.083081  ...  1.000000  0.414838  0.159651\n",
              "Parch          -0.001652  0.081629  0.018443  ...  0.414838  1.000000  0.216225\n",
              "Fare            0.012658  0.257307 -0.549500  ...  0.159651  0.216225  1.000000\n",
              "\n",
              "[7 rows x 7 columns]"
            ]
          },
          "metadata": {
            "tags": []
          },
          "execution_count": 29
        }
      ]
    },
    {
      "cell_type": "markdown",
      "metadata": {
        "id": "Aq9YybTvytB-"
      },
      "source": [
        "heatmap 파라미터\n",
        "\n",
        "- vmin : 최솟값\n",
        "- vmax : 최댓값\n",
        "- cbar : colorbar의 유무(True가 디폴트)\n",
        "- center : 중앙값 선정\n",
        "- linewidths : cell사이에 선을 그림\n",
        "- annot : 각 셀 값 표기 유무\n",
        "- fmt : 그 값의 데이터 타입 설정\n",
        "- cmap : 히트맵 색상"
      ]
    },
    {
      "cell_type": "markdown",
      "metadata": {
        "id": "p1NZ8dAFhU6o"
      },
      "source": [
        "# 데이터 전처리"
      ]
    },
    {
      "cell_type": "markdown",
      "metadata": {
        "id": "pqF4DOzP0jvZ"
      },
      "source": [
        "## Name 컬럼 전처리"
      ]
    },
    {
      "cell_type": "markdown",
      "metadata": {
        "id": "alW5OvmICqZb"
      },
      "source": [
        "Name 의 경우는 성 으로 추정되는 데이터를 바탕으로 구분을 하고자 한다."
      ]
    },
    {
      "cell_type": "code",
      "metadata": {
        "id": "VH6rNzVbwgDa",
        "outputId": "d2f13747-a309-4b7c-8611-5506a250dc75",
        "colab": {
          "base_uri": "https://localhost:8080/"
        }
      },
      "source": [
        "train_df['Name']"
      ],
      "execution_count": 30,
      "outputs": [
        {
          "output_type": "execute_result",
          "data": {
            "text/plain": [
              "0                                Braund, Mr. Owen Harris\n",
              "1      Cumings, Mrs. John Bradley (Florence Briggs Th...\n",
              "2                                 Heikkinen, Miss. Laina\n",
              "3           Futrelle, Mrs. Jacques Heath (Lily May Peel)\n",
              "4                               Allen, Mr. William Henry\n",
              "                             ...                        \n",
              "886                                Montvila, Rev. Juozas\n",
              "887                         Graham, Miss. Margaret Edith\n",
              "888             Johnston, Miss. Catherine Helen \"Carrie\"\n",
              "889                                Behr, Mr. Karl Howell\n",
              "890                                  Dooley, Mr. Patrick\n",
              "Name: Name, Length: 891, dtype: object"
            ]
          },
          "metadata": {
            "tags": []
          },
          "execution_count": 30
        }
      ]
    },
    {
      "cell_type": "code",
      "metadata": {
        "colab": {
          "base_uri": "https://localhost:8080/"
        },
        "id": "NzIZRGG805OO",
        "outputId": "b425897e-93d1-42e2-d037-36c29f95e4b6"
      },
      "source": [
        "# train_df\n",
        "Name = []\n",
        "\n",
        "for i in train_df['Name']:\n",
        "  for h in i.split(' '):\n",
        "    if '.' in h:\n",
        "      Name.append(h[:-1])\n",
        "\n",
        "Name"
      ],
      "execution_count": null,
      "outputs": [
        {
          "output_type": "execute_result",
          "data": {
            "text/plain": [
              "['Mr',\n",
              " 'Mrs',\n",
              " 'Miss',\n",
              " 'Mrs',\n",
              " 'Mr',\n",
              " 'Mr',\n",
              " 'Mr',\n",
              " 'Master',\n",
              " 'Mrs',\n",
              " 'Mrs',\n",
              " 'Miss',\n",
              " 'Miss',\n",
              " 'Mr',\n",
              " 'Mr',\n",
              " 'Miss',\n",
              " 'Mrs',\n",
              " 'Master',\n",
              " 'Mr',\n",
              " 'Mrs',\n",
              " 'Mrs',\n",
              " 'Mr',\n",
              " 'Mr',\n",
              " 'Miss',\n",
              " 'Mr',\n",
              " 'Miss',\n",
              " 'Mrs',\n",
              " 'Mr',\n",
              " 'Mr',\n",
              " 'Miss',\n",
              " 'Mr',\n",
              " 'Don',\n",
              " 'Mrs',\n",
              " 'Miss',\n",
              " 'Mr',\n",
              " 'Mr',\n",
              " 'Mr',\n",
              " 'Mr',\n",
              " 'Mr',\n",
              " 'Miss',\n",
              " 'Miss',\n",
              " 'Mrs',\n",
              " 'Mrs',\n",
              " 'Mr',\n",
              " 'Miss',\n",
              " 'Miss',\n",
              " 'Mr',\n",
              " 'Mr',\n",
              " 'Miss',\n",
              " 'Mr',\n",
              " 'Mrs',\n",
              " 'Master',\n",
              " 'Mr',\n",
              " 'Mrs',\n",
              " 'Mrs',\n",
              " 'Mr',\n",
              " 'Mr',\n",
              " 'Miss',\n",
              " 'Mr',\n",
              " 'Miss',\n",
              " 'Master',\n",
              " 'Mr',\n",
              " 'Miss',\n",
              " 'Mr',\n",
              " 'Master',\n",
              " 'Mr',\n",
              " 'Master',\n",
              " 'Mrs',\n",
              " 'Mr',\n",
              " 'Miss',\n",
              " 'Mr',\n",
              " 'Mr',\n",
              " 'Miss',\n",
              " 'Mr',\n",
              " 'Mr',\n",
              " 'Mr',\n",
              " 'Mr',\n",
              " 'Mr',\n",
              " 'Mr',\n",
              " 'Master',\n",
              " 'Miss',\n",
              " 'Mr',\n",
              " 'Mr',\n",
              " 'Miss',\n",
              " 'Mr',\n",
              " 'Miss',\n",
              " 'Mrs',\n",
              " 'Mr',\n",
              " 'Mr',\n",
              " 'Miss',\n",
              " 'Mr',\n",
              " 'Mr',\n",
              " 'Mr',\n",
              " 'Mr',\n",
              " 'Mr',\n",
              " 'Mr',\n",
              " 'Mr',\n",
              " 'Mr',\n",
              " 'Mr',\n",
              " 'Mrs',\n",
              " 'Mr',\n",
              " 'Miss',\n",
              " 'Mr',\n",
              " 'Mr',\n",
              " 'Mr',\n",
              " 'Mr',\n",
              " 'Mr',\n",
              " 'Miss',\n",
              " 'Mr',\n",
              " 'Mr',\n",
              " 'Miss',\n",
              " 'Mr',\n",
              " 'Miss',\n",
              " 'Mr',\n",
              " 'Miss',\n",
              " 'Miss',\n",
              " 'Mr',\n",
              " 'Mr',\n",
              " 'Mr',\n",
              " 'Mr',\n",
              " 'Miss',\n",
              " 'Mr',\n",
              " 'Mr',\n",
              " 'Mr',\n",
              " 'Miss',\n",
              " 'Mr',\n",
              " 'Master',\n",
              " 'Mr',\n",
              " 'Mr',\n",
              " 'Miss',\n",
              " 'Mr',\n",
              " 'Mr',\n",
              " 'Mr',\n",
              " 'Mrs',\n",
              " 'Mrs',\n",
              " 'Mr',\n",
              " 'Mr',\n",
              " 'Miss',\n",
              " 'Mr',\n",
              " 'Mr',\n",
              " 'Mr',\n",
              " 'Mrs',\n",
              " 'Miss',\n",
              " 'Mrs',\n",
              " 'Mr',\n",
              " 'Mr',\n",
              " 'Mr',\n",
              " 'Mr',\n",
              " 'Miss',\n",
              " 'Mr',\n",
              " 'Rev',\n",
              " 'Rev',\n",
              " 'Mrs',\n",
              " 'Mr',\n",
              " 'Mr',\n",
              " 'Mr',\n",
              " 'Mr',\n",
              " 'Miss',\n",
              " 'Mr',\n",
              " 'Mr',\n",
              " 'Master',\n",
              " 'Mr',\n",
              " 'Mrs',\n",
              " 'Mr',\n",
              " 'Mr',\n",
              " 'Master',\n",
              " 'Master',\n",
              " 'Mrs',\n",
              " 'Mrs',\n",
              " 'Mr',\n",
              " 'Mr',\n",
              " 'Mr',\n",
              " 'Master',\n",
              " 'Miss',\n",
              " 'Mr',\n",
              " 'Mr',\n",
              " 'Mr',\n",
              " 'Master',\n",
              " 'Miss',\n",
              " 'Mr',\n",
              " 'Mr',\n",
              " 'Miss',\n",
              " 'Mr',\n",
              " 'Master',\n",
              " 'Master',\n",
              " 'Miss',\n",
              " 'Mr',\n",
              " 'Mrs',\n",
              " 'Mr',\n",
              " 'Mr',\n",
              " 'Mr',\n",
              " 'Mrs',\n",
              " 'Mr',\n",
              " 'Miss',\n",
              " 'Master',\n",
              " 'Mrs',\n",
              " 'Miss',\n",
              " 'Mr',\n",
              " 'Mr',\n",
              " 'Miss',\n",
              " 'Miss',\n",
              " 'Mr',\n",
              " 'Mr',\n",
              " 'Mr',\n",
              " 'Mr',\n",
              " 'Mr',\n",
              " 'Miss',\n",
              " 'Mr',\n",
              " 'Mr',\n",
              " 'Miss',\n",
              " 'Mr',\n",
              " 'Mr',\n",
              " 'Miss',\n",
              " 'Mr',\n",
              " 'Mr',\n",
              " 'Mr',\n",
              " 'Miss',\n",
              " 'Miss',\n",
              " 'Mr',\n",
              " 'Miss',\n",
              " 'Mr',\n",
              " 'Mr',\n",
              " 'Mr',\n",
              " 'Mr',\n",
              " 'Mr',\n",
              " 'Mr',\n",
              " 'Mr',\n",
              " 'Mr',\n",
              " 'Mr',\n",
              " 'Mr',\n",
              " 'Miss',\n",
              " 'Mrs',\n",
              " 'Mr',\n",
              " 'Mr',\n",
              " 'Miss',\n",
              " 'Mr',\n",
              " 'Miss',\n",
              " 'Mr',\n",
              " 'Miss',\n",
              " 'Mr',\n",
              " 'Mr',\n",
              " 'Miss',\n",
              " 'Miss',\n",
              " 'Mr',\n",
              " 'Mr',\n",
              " 'Mr',\n",
              " 'Dr',\n",
              " 'Miss',\n",
              " 'Mrs',\n",
              " 'Mr',\n",
              " 'Rev',\n",
              " 'Mr',\n",
              " 'Mrs',\n",
              " 'Mr',\n",
              " 'Mr',\n",
              " 'Mrs',\n",
              " 'Mrs',\n",
              " 'Mrs',\n",
              " 'Miss',\n",
              " 'Miss',\n",
              " 'Mrs',\n",
              " 'Mr',\n",
              " 'Master',\n",
              " 'Mr',\n",
              " 'Mr',\n",
              " 'Miss',\n",
              " 'Mr',\n",
              " 'Mr',\n",
              " 'Mr',\n",
              " 'Mrs',\n",
              " 'Miss',\n",
              " 'Mr',\n",
              " 'Mr',\n",
              " 'Mrs',\n",
              " 'Mr',\n",
              " 'Miss',\n",
              " 'Miss',\n",
              " 'Miss',\n",
              " 'Mr',\n",
              " 'Master',\n",
              " 'Mrs',\n",
              " 'Mr',\n",
              " 'Mr',\n",
              " 'Mr',\n",
              " 'Mr',\n",
              " 'Mr',\n",
              " 'Mr',\n",
              " 'Mr',\n",
              " 'Mr',\n",
              " 'Mr',\n",
              " 'Miss',\n",
              " 'Miss',\n",
              " 'Mrs',\n",
              " 'Mr',\n",
              " 'Miss',\n",
              " 'Mr',\n",
              " 'Mr',\n",
              " 'Mr',\n",
              " 'Miss',\n",
              " 'Mr',\n",
              " 'Mrs',\n",
              " 'Miss',\n",
              " 'Mr',\n",
              " 'Mr',\n",
              " 'Miss',\n",
              " 'Mr',\n",
              " 'Master',\n",
              " 'Miss',\n",
              " 'Mrs',\n",
              " 'Mr',\n",
              " 'Miss',\n",
              " 'Miss',\n",
              " 'Miss',\n",
              " 'Mrs',\n",
              " 'Mr',\n",
              " 'Mr',\n",
              " 'Miss',\n",
              " 'Mrs',\n",
              " 'Dr',\n",
              " 'Miss',\n",
              " 'Mrs',\n",
              " 'Mr',\n",
              " 'Mr',\n",
              " 'Miss',\n",
              " 'Mrs',\n",
              " 'Mr',\n",
              " 'Miss',\n",
              " 'Mr',\n",
              " 'Mrs',\n",
              " 'Mrs',\n",
              " 'Miss',\n",
              " 'Miss',\n",
              " 'Mr',\n",
              " 'Mr',\n",
              " 'Mr',\n",
              " 'Mrs',\n",
              " 'Mr',\n",
              " 'Mr',\n",
              " 'Miss',\n",
              " 'Mr',\n",
              " 'Mr',\n",
              " 'Master',\n",
              " 'Miss',\n",
              " 'Mr',\n",
              " 'Mr',\n",
              " 'Mr',\n",
              " 'Miss',\n",
              " 'Miss',\n",
              " 'Mrs',\n",
              " 'Master',\n",
              " 'Mr',\n",
              " 'Mr',\n",
              " 'Mr',\n",
              " 'Mr',\n",
              " 'Mr',\n",
              " 'Mr',\n",
              " 'Mr',\n",
              " 'Miss',\n",
              " 'Miss',\n",
              " 'Miss',\n",
              " 'Miss',\n",
              " 'Mr',\n",
              " 'Mr',\n",
              " 'Mrs',\n",
              " 'Mr',\n",
              " 'Mr',\n",
              " 'Mr',\n",
              " 'Mrs',\n",
              " 'Mrs',\n",
              " 'Miss',\n",
              " 'Mme',\n",
              " 'Mr',\n",
              " 'Mr',\n",
              " 'Mr',\n",
              " 'Mr',\n",
              " 'Miss',\n",
              " 'Mrs',\n",
              " 'Miss',\n",
              " 'Mr',\n",
              " 'Mr',\n",
              " 'Mr',\n",
              " 'Miss',\n",
              " 'Miss',\n",
              " 'Mr',\n",
              " 'Mrs',\n",
              " 'Mr',\n",
              " 'Mr',\n",
              " 'Master',\n",
              " 'Miss',\n",
              " 'Mr',\n",
              " 'Miss',\n",
              " 'Mr',\n",
              " 'Mr',\n",
              " 'Mr',\n",
              " 'Miss',\n",
              " 'Mrs',\n",
              " 'Mr',\n",
              " 'Miss',\n",
              " 'Mr',\n",
              " 'Dr',\n",
              " 'Mrs',\n",
              " 'Mr',\n",
              " 'Mr',\n",
              " 'Miss',\n",
              " 'Mr',\n",
              " 'Miss',\n",
              " 'Mr',\n",
              " 'Mr',\n",
              " 'Master',\n",
              " 'Mr',\n",
              " 'Miss',\n",
              " 'Mr',\n",
              " 'Mr',\n",
              " 'Miss',\n",
              " 'Mr',\n",
              " 'Mr',\n",
              " 'Mrs',\n",
              " 'Mrs',\n",
              " 'Miss',\n",
              " 'Mr',\n",
              " 'Miss',\n",
              " 'Mr',\n",
              " 'Mr',\n",
              " 'Mr',\n",
              " 'Mrs',\n",
              " 'Mr',\n",
              " 'Mr',\n",
              " 'Mrs',\n",
              " 'Miss',\n",
              " 'Mr',\n",
              " 'Mr',\n",
              " 'Mr',\n",
              " 'Mrs',\n",
              " 'Mrs',\n",
              " 'Mr',\n",
              " 'Mr',\n",
              " 'Miss',\n",
              " 'Miss',\n",
              " 'Mrs',\n",
              " 'Mr',\n",
              " 'Mr',\n",
              " 'Mrs',\n",
              " 'Mr',\n",
              " 'Mr',\n",
              " 'Ms',\n",
              " 'Mr',\n",
              " 'Master',\n",
              " 'Miss',\n",
              " 'Mr',\n",
              " 'Miss',\n",
              " 'Major',\n",
              " 'Mr',\n",
              " 'Mr',\n",
              " 'Mr',\n",
              " 'Mr',\n",
              " 'Mr',\n",
              " 'Mr',\n",
              " 'Mr',\n",
              " 'Mrs',\n",
              " 'Miss',\n",
              " 'Mr',\n",
              " 'Mr',\n",
              " 'Mr',\n",
              " 'Mr',\n",
              " 'Mr',\n",
              " 'Mr',\n",
              " 'Mr',\n",
              " 'Mr',\n",
              " 'Mr',\n",
              " 'Mr',\n",
              " 'Miss',\n",
              " 'Mr',\n",
              " 'Mr',\n",
              " 'Mrs',\n",
              " 'Mrs',\n",
              " 'Miss',\n",
              " 'Mr',\n",
              " 'Mr',\n",
              " 'Mr',\n",
              " 'Mr',\n",
              " 'Miss',\n",
              " 'Master',\n",
              " 'Mr',\n",
              " 'Mr',\n",
              " 'Mrs',\n",
              " 'Mr',\n",
              " 'Miss',\n",
              " 'Mrs',\n",
              " 'Mr',\n",
              " 'Mr',\n",
              " 'Master',\n",
              " 'Mr',\n",
              " 'Mr',\n",
              " 'Mr',\n",
              " 'Mr',\n",
              " 'Mr',\n",
              " 'Mr',\n",
              " 'Miss',\n",
              " 'Mr',\n",
              " 'Mrs',\n",
              " 'Mr',\n",
              " 'Mr',\n",
              " 'Miss',\n",
              " 'Miss',\n",
              " 'Miss',\n",
              " 'Miss',\n",
              " 'Mr',\n",
              " 'Mrs',\n",
              " 'Mr',\n",
              " 'Mr',\n",
              " 'Mr',\n",
              " 'Mr',\n",
              " 'Mr',\n",
              " 'Mr',\n",
              " 'Mrs',\n",
              " 'L',\n",
              " 'Mr',\n",
              " 'Mr',\n",
              " 'Mrs',\n",
              " 'Mr',\n",
              " 'Mrs',\n",
              " 'Mr',\n",
              " 'Miss',\n",
              " 'Mr',\n",
              " 'Mr',\n",
              " 'Mrs',\n",
              " 'Mr',\n",
              " 'Mr',\n",
              " 'Miss',\n",
              " 'Mr',\n",
              " 'Mr',\n",
              " 'Mr',\n",
              " 'Miss',\n",
              " 'Mr',\n",
              " 'Mr',\n",
              " 'Mrs',\n",
              " 'Miss',\n",
              " 'Miss',\n",
              " 'Major',\n",
              " 'Miss',\n",
              " 'Mr',\n",
              " 'Miss',\n",
              " 'Miss',\n",
              " 'Miss',\n",
              " 'Miss',\n",
              " 'Mr',\n",
              " 'Mr',\n",
              " 'Mr',\n",
              " 'Mrs',\n",
              " 'Mr',\n",
              " 'Mr',\n",
              " 'Master',\n",
              " 'Mr',\n",
              " 'Mr',\n",
              " 'Mr',\n",
              " 'Mr',\n",
              " 'Miss',\n",
              " 'Mr',\n",
              " 'Lady',\n",
              " 'Mr',\n",
              " 'Mrs',\n",
              " 'Mrs',\n",
              " 'Mr',\n",
              " 'Mr',\n",
              " 'Mr',\n",
              " 'Mr',\n",
              " 'Miss',\n",
              " 'Mr',\n",
              " 'Mr',\n",
              " 'Mrs',\n",
              " 'Mr',\n",
              " 'Mr',\n",
              " 'Mr',\n",
              " 'Mrs',\n",
              " 'Mr',\n",
              " 'Miss',\n",
              " 'Mr',\n",
              " 'Mr',\n",
              " 'Miss',\n",
              " 'Mrs',\n",
              " 'Mrs',\n",
              " 'Mr',\n",
              " 'Miss',\n",
              " 'Mrs',\n",
              " 'Mr',\n",
              " 'Mr',\n",
              " 'Mr',\n",
              " 'Miss',\n",
              " 'Mr',\n",
              " 'Mr',\n",
              " 'Mr',\n",
              " 'Mr',\n",
              " 'Mr',\n",
              " 'Mrs',\n",
              " 'Mr',\n",
              " 'Miss',\n",
              " 'Mr',\n",
              " 'Mr',\n",
              " 'Miss',\n",
              " 'Mr',\n",
              " 'Mr',\n",
              " 'Sir',\n",
              " 'Mrs',\n",
              " 'Mr',\n",
              " 'Mr',\n",
              " 'Mr',\n",
              " 'Mr',\n",
              " 'Mr',\n",
              " 'Mr',\n",
              " 'Mr',\n",
              " 'Mrs',\n",
              " 'Miss',\n",
              " 'Mrs',\n",
              " 'Mr',\n",
              " 'Miss',\n",
              " 'Mr',\n",
              " 'Mr',\n",
              " 'Miss',\n",
              " 'Mr',\n",
              " 'Mrs',\n",
              " 'Miss',\n",
              " 'Mr',\n",
              " 'Mr',\n",
              " 'Mr',\n",
              " 'Mr',\n",
              " 'Mr',\n",
              " 'Mr',\n",
              " 'Mr',\n",
              " 'Rev',\n",
              " 'Miss',\n",
              " 'Mr',\n",
              " 'Mr',\n",
              " 'Mr',\n",
              " 'Mr',\n",
              " 'Dr',\n",
              " 'Mr',\n",
              " 'Miss',\n",
              " 'Miss',\n",
              " 'Mr',\n",
              " 'Mr',\n",
              " 'Mrs',\n",
              " 'Mr',\n",
              " 'Mr',\n",
              " 'Mlle',\n",
              " 'Miss',\n",
              " 'Mr',\n",
              " 'Miss',\n",
              " 'Mr',\n",
              " 'Mr',\n",
              " 'Col',\n",
              " 'Mr',\n",
              " 'Miss',\n",
              " 'Mr',\n",
              " 'Miss',\n",
              " 'Mr',\n",
              " 'Miss',\n",
              " 'Miss',\n",
              " 'Mr',\n",
              " 'Mr',\n",
              " 'Mrs',\n",
              " 'Mr',\n",
              " 'Mr',\n",
              " 'Dr',\n",
              " 'Mr',\n",
              " 'Mr',\n",
              " 'Mr',\n",
              " 'Mr',\n",
              " 'Mr',\n",
              " 'Mr',\n",
              " 'Mr',\n",
              " 'Mr',\n",
              " 'Mrs',\n",
              " 'Mrs',\n",
              " 'Mr',\n",
              " 'Mr',\n",
              " 'Mr',\n",
              " 'Mr',\n",
              " 'Mr',\n",
              " 'Mr',\n",
              " 'Miss',\n",
              " 'Mrs',\n",
              " 'Mr',\n",
              " 'Miss',\n",
              " 'Mr',\n",
              " 'Mr',\n",
              " 'Mr',\n",
              " 'Mr',\n",
              " 'Mr',\n",
              " 'Mr',\n",
              " 'Mr',\n",
              " 'Mr',\n",
              " 'Miss',\n",
              " 'Mr',\n",
              " 'Miss',\n",
              " 'Mr',\n",
              " 'Mr',\n",
              " 'Col',\n",
              " 'Mr',\n",
              " 'Mr',\n",
              " 'Miss',\n",
              " 'Mr',\n",
              " 'Mr',\n",
              " 'Mrs',\n",
              " 'Mr',\n",
              " 'Miss',\n",
              " 'Mr',\n",
              " 'Mr',\n",
              " 'Mr',\n",
              " 'Mrs',\n",
              " 'Mr',\n",
              " 'Miss',\n",
              " 'Master',\n",
              " 'Mlle',\n",
              " 'Mr',\n",
              " 'Mr',\n",
              " 'Mr',\n",
              " 'Mr',\n",
              " 'Mr',\n",
              " 'Miss',\n",
              " 'Miss',\n",
              " 'Mr',\n",
              " 'Mr',\n",
              " 'Miss',\n",
              " 'Mr',\n",
              " 'Mr',\n",
              " 'Mr',\n",
              " 'Mr',\n",
              " 'Mr',\n",
              " 'Mrs',\n",
              " 'Miss',\n",
              " 'Mr',\n",
              " 'Miss',\n",
              " 'Miss',\n",
              " 'Mr',\n",
              " 'Mr',\n",
              " 'Mr',\n",
              " 'Mr',\n",
              " 'Mr',\n",
              " 'Mrs',\n",
              " 'Mr',\n",
              " 'Mr',\n",
              " 'Mr',\n",
              " 'Mr',\n",
              " 'Mr',\n",
              " 'Miss',\n",
              " 'Mr',\n",
              " 'Mr',\n",
              " 'Capt',\n",
              " 'Mr',\n",
              " 'Miss',\n",
              " 'Mr',\n",
              " 'Mr',\n",
              " 'Miss',\n",
              " 'Master',\n",
              " 'Mr',\n",
              " 'Mr',\n",
              " 'Mrs',\n",
              " 'Master',\n",
              " 'Mr',\n",
              " 'Mr',\n",
              " 'Mr',\n",
              " 'Countess',\n",
              " 'Mr',\n",
              " 'Mr',\n",
              " 'Mr',\n",
              " 'Mrs',\n",
              " 'Mr',\n",
              " 'Mrs',\n",
              " 'Dr',\n",
              " 'Miss',\n",
              " 'Mr',\n",
              " 'Mr',\n",
              " 'Mr',\n",
              " 'Mr',\n",
              " 'Mrs',\n",
              " 'Mr',\n",
              " 'Mrs',\n",
              " 'Mr',\n",
              " 'Mr',\n",
              " 'Miss',\n",
              " 'Mr',\n",
              " 'Mrs',\n",
              " 'Miss',\n",
              " 'Mrs',\n",
              " 'Mr',\n",
              " 'Mr',\n",
              " 'Mr',\n",
              " 'Mr',\n",
              " 'Miss',\n",
              " 'Master',\n",
              " 'Master',\n",
              " 'Mr',\n",
              " 'Mr',\n",
              " 'Mr',\n",
              " 'Miss',\n",
              " 'Mr',\n",
              " 'Mr',\n",
              " 'Mr',\n",
              " 'Dr',\n",
              " 'Mrs',\n",
              " 'Mr',\n",
              " 'Mrs',\n",
              " 'Mr',\n",
              " 'Mrs',\n",
              " 'Master',\n",
              " 'Master',\n",
              " 'Mr',\n",
              " 'Mr',\n",
              " 'Mr',\n",
              " 'Miss',\n",
              " 'Mr',\n",
              " 'Mrs',\n",
              " 'Mr',\n",
              " 'Mr',\n",
              " 'Mr',\n",
              " 'Miss',\n",
              " 'Mr',\n",
              " 'Mr',\n",
              " 'Miss',\n",
              " 'Mr',\n",
              " 'Mr',\n",
              " 'Master',\n",
              " 'Mrs',\n",
              " 'Mr',\n",
              " 'Jonkheer',\n",
              " 'Mrs',\n",
              " 'Master',\n",
              " 'Mr',\n",
              " 'Mr',\n",
              " 'Master',\n",
              " 'Mr',\n",
              " 'Mrs',\n",
              " 'Mrs',\n",
              " 'Master',\n",
              " 'Mr',\n",
              " 'Mr',\n",
              " 'Mr',\n",
              " 'Miss',\n",
              " 'Mr',\n",
              " 'Mr',\n",
              " 'Mr',\n",
              " 'Mr',\n",
              " 'Mr',\n",
              " 'Mr',\n",
              " 'Miss',\n",
              " 'Mr',\n",
              " 'Mr',\n",
              " 'Mr',\n",
              " 'Mr',\n",
              " 'Mr',\n",
              " 'Rev',\n",
              " 'Mrs',\n",
              " 'Master',\n",
              " 'Mr',\n",
              " 'Miss',\n",
              " 'Miss',\n",
              " 'Mrs',\n",
              " 'Mrs',\n",
              " 'Mrs',\n",
              " 'Mr',\n",
              " 'Mrs',\n",
              " 'Mr',\n",
              " 'Mr',\n",
              " 'Mr',\n",
              " 'Mrs',\n",
              " 'Miss',\n",
              " 'Mr',\n",
              " 'Mrs',\n",
              " 'Miss',\n",
              " 'Mr',\n",
              " 'Mr',\n",
              " 'Master',\n",
              " 'Mr',\n",
              " 'Mrs',\n",
              " 'Mr',\n",
              " 'Mr',\n",
              " 'Mrs',\n",
              " 'Miss',\n",
              " 'Mr',\n",
              " 'Mr',\n",
              " 'Mr',\n",
              " 'Mrs',\n",
              " 'Mrs',\n",
              " 'Mr',\n",
              " 'Miss',\n",
              " 'Mr',\n",
              " 'Mr',\n",
              " 'Mrs',\n",
              " 'Rev',\n",
              " 'Miss',\n",
              " 'Miss',\n",
              " 'Mr',\n",
              " 'Mr']"
            ]
          },
          "metadata": {
            "tags": []
          },
          "execution_count": 28
        }
      ]
    },
    {
      "cell_type": "code",
      "metadata": {
        "colab": {
          "base_uri": "https://localhost:8080/"
        },
        "id": "D-5MkEt3FEOp",
        "outputId": "548ad7f6-2287-407a-cdf4-0e3921af476a"
      },
      "source": [
        "# test_df\n",
        "Name2 = []\n",
        "\n",
        "for i in test_df['Name']:\n",
        "  for h in i.split(' '):\n",
        "    if '.' in h:\n",
        "      Name2.append(h[:-1])\n",
        "\n",
        "Name2"
      ],
      "execution_count": null,
      "outputs": [
        {
          "output_type": "execute_result",
          "data": {
            "text/plain": [
              "['Mr',\n",
              " 'Mrs',\n",
              " 'Mr',\n",
              " 'Mr',\n",
              " 'Mrs',\n",
              " 'Mr',\n",
              " 'Miss',\n",
              " 'Mr',\n",
              " 'Mrs',\n",
              " 'Mr',\n",
              " 'Mr',\n",
              " 'Mr',\n",
              " 'Mrs',\n",
              " 'Mr',\n",
              " 'Mrs',\n",
              " 'Mrs',\n",
              " 'Mr',\n",
              " 'Mr',\n",
              " 'Miss',\n",
              " 'Mrs',\n",
              " 'Mr',\n",
              " 'Master',\n",
              " 'Mrs',\n",
              " 'Mr',\n",
              " 'Mrs',\n",
              " 'Mr',\n",
              " 'Miss',\n",
              " 'Mr',\n",
              " 'Mr',\n",
              " 'Mr',\n",
              " 'Mr',\n",
              " 'Mr',\n",
              " 'Mrs',\n",
              " 'Mrs',\n",
              " 'Mr',\n",
              " 'Mr',\n",
              " 'Miss',\n",
              " 'Miss',\n",
              " 'Mr',\n",
              " 'Mr',\n",
              " 'Mr',\n",
              " 'Mr',\n",
              " 'Mr',\n",
              " 'Mrs',\n",
              " 'Mrs',\n",
              " 'Mr',\n",
              " 'Mr',\n",
              " 'Mr',\n",
              " 'Mrs',\n",
              " 'Mrs',\n",
              " 'Mr',\n",
              " 'Mr',\n",
              " 'Miss',\n",
              " 'Miss',\n",
              " 'Mr',\n",
              " 'Master',\n",
              " 'Mr',\n",
              " 'Mr',\n",
              " 'Mr',\n",
              " 'Miss',\n",
              " 'Mr',\n",
              " 'Mr',\n",
              " 'Mr',\n",
              " 'Miss',\n",
              " 'Master',\n",
              " 'Mrs',\n",
              " 'Miss',\n",
              " 'Mr',\n",
              " 'Mr',\n",
              " 'Mrs',\n",
              " 'Miss',\n",
              " 'Mr',\n",
              " 'Miss',\n",
              " 'Mr',\n",
              " 'Miss',\n",
              " 'Mr',\n",
              " 'Mr',\n",
              " 'Mrs',\n",
              " 'Mr',\n",
              " 'Miss',\n",
              " 'Master',\n",
              " 'Mr',\n",
              " 'Mr',\n",
              " 'Mr',\n",
              " 'Mr',\n",
              " 'Mr',\n",
              " 'Miss',\n",
              " 'Miss',\n",
              " 'Ms',\n",
              " 'Master',\n",
              " 'Mrs',\n",
              " 'Mr',\n",
              " 'Mrs',\n",
              " 'Mr',\n",
              " 'Mr',\n",
              " 'Mr',\n",
              " 'Mrs',\n",
              " 'Mr',\n",
              " 'Miss',\n",
              " 'Mr',\n",
              " 'Mrs',\n",
              " 'Mr',\n",
              " 'Mr',\n",
              " 'Mr',\n",
              " 'Mrs',\n",
              " 'Mr',\n",
              " 'Mr',\n",
              " 'Mr',\n",
              " 'Mr',\n",
              " 'Mr',\n",
              " 'Mr',\n",
              " 'Miss',\n",
              " 'Miss',\n",
              " 'Miss',\n",
              " 'Mrs',\n",
              " 'Mr',\n",
              " 'Mr',\n",
              " 'Miss',\n",
              " 'Mr',\n",
              " 'Mrs',\n",
              " 'Miss',\n",
              " 'Mr',\n",
              " 'Mrs',\n",
              " 'Mr',\n",
              " 'Mr',\n",
              " 'Miss',\n",
              " 'Mr',\n",
              " 'Miss',\n",
              " 'Mr',\n",
              " 'Mr',\n",
              " 'Mr',\n",
              " 'Col',\n",
              " 'Mrs',\n",
              " 'Mr',\n",
              " 'Mr',\n",
              " 'Mr',\n",
              " 'Mr',\n",
              " 'Mr',\n",
              " 'Miss',\n",
              " 'Mr',\n",
              " 'Miss',\n",
              " 'Miss',\n",
              " 'Mr',\n",
              " 'Mr',\n",
              " 'Mr',\n",
              " 'Mr',\n",
              " 'Mr',\n",
              " 'Mr',\n",
              " 'Mr',\n",
              " 'Rev',\n",
              " 'Mrs',\n",
              " 'Mr',\n",
              " 'Mr',\n",
              " 'Mrs',\n",
              " 'Master',\n",
              " 'Mr',\n",
              " 'Miss',\n",
              " 'Miss',\n",
              " 'Mr',\n",
              " 'Mrs',\n",
              " 'Miss',\n",
              " 'Master',\n",
              " 'Miss',\n",
              " 'Mr',\n",
              " 'Rev',\n",
              " 'Mrs',\n",
              " 'Mr',\n",
              " 'Mr',\n",
              " 'Mrs',\n",
              " 'Miss',\n",
              " 'Mr',\n",
              " 'Mr',\n",
              " 'Mr',\n",
              " 'Mr',\n",
              " 'Mr',\n",
              " 'Miss',\n",
              " 'Miss',\n",
              " 'Mr',\n",
              " 'Mrs',\n",
              " 'Mrs',\n",
              " 'Mr',\n",
              " 'Mr',\n",
              " 'Mrs',\n",
              " 'Mr',\n",
              " 'Mrs',\n",
              " 'Mr',\n",
              " 'Miss',\n",
              " 'Mr',\n",
              " 'Miss',\n",
              " 'Mr',\n",
              " 'Mr',\n",
              " 'Mr',\n",
              " 'Master',\n",
              " 'Mr',\n",
              " 'Master',\n",
              " 'Mr',\n",
              " 'Master',\n",
              " 'Miss',\n",
              " 'Mr',\n",
              " 'Mrs',\n",
              " 'Miss',\n",
              " 'Master',\n",
              " 'Col',\n",
              " 'Miss',\n",
              " 'Mr',\n",
              " 'Mr',\n",
              " 'Miss',\n",
              " 'Mr',\n",
              " 'Miss',\n",
              " 'Mr',\n",
              " 'Mr',\n",
              " 'Mr',\n",
              " 'Mr',\n",
              " 'Mrs',\n",
              " 'Miss',\n",
              " 'Mr',\n",
              " 'Miss',\n",
              " 'Mr',\n",
              " 'Mrs',\n",
              " 'Mr',\n",
              " 'Miss',\n",
              " 'Mr',\n",
              " 'Mrs',\n",
              " 'Mr',\n",
              " 'Mrs',\n",
              " 'Mrs',\n",
              " 'Mr',\n",
              " 'Miss',\n",
              " 'Mr',\n",
              " 'Mr',\n",
              " 'Mr',\n",
              " 'Miss',\n",
              " 'Mr',\n",
              " 'Mr',\n",
              " 'Mr',\n",
              " 'Mr',\n",
              " 'Mr',\n",
              " 'Mr',\n",
              " 'Miss',\n",
              " 'Mrs',\n",
              " 'Mrs',\n",
              " 'Mrs',\n",
              " 'Mr',\n",
              " 'Mr',\n",
              " 'Master',\n",
              " 'Mr',\n",
              " 'Mrs',\n",
              " 'Mr',\n",
              " 'Mrs',\n",
              " 'Mrs',\n",
              " 'Miss',\n",
              " 'Mr',\n",
              " 'Mr',\n",
              " 'Mr',\n",
              " 'Mr',\n",
              " 'Mr',\n",
              " 'Mr',\n",
              " 'Mr',\n",
              " 'Miss',\n",
              " 'Mr',\n",
              " 'Mr',\n",
              " 'Mr',\n",
              " 'Mrs',\n",
              " 'Miss',\n",
              " 'Mr',\n",
              " 'Mr',\n",
              " 'Mr',\n",
              " 'Mr',\n",
              " 'Miss',\n",
              " 'Mr',\n",
              " 'Mr',\n",
              " 'Mr',\n",
              " 'Mrs',\n",
              " 'Miss',\n",
              " 'Mr',\n",
              " 'Miss',\n",
              " 'Mr',\n",
              " 'Mr',\n",
              " 'Mr',\n",
              " 'Mr',\n",
              " 'Miss',\n",
              " 'Master',\n",
              " 'Miss',\n",
              " 'Miss',\n",
              " 'Miss',\n",
              " 'Mr',\n",
              " 'Mr',\n",
              " 'Mr',\n",
              " 'Mr',\n",
              " 'Mr',\n",
              " 'Mr',\n",
              " 'Miss',\n",
              " 'Mr',\n",
              " 'Dr',\n",
              " 'Mr',\n",
              " 'Mr',\n",
              " 'Miss',\n",
              " 'Mr',\n",
              " 'Mr',\n",
              " 'Mr',\n",
              " 'Mr',\n",
              " 'Mr',\n",
              " 'Mr',\n",
              " 'Mr',\n",
              " 'Miss',\n",
              " 'Mrs',\n",
              " 'Mr',\n",
              " 'Master',\n",
              " 'Mr',\n",
              " 'Mrs',\n",
              " 'Mr',\n",
              " 'Mr',\n",
              " 'Mr',\n",
              " 'Miss',\n",
              " 'Mrs',\n",
              " 'Miss',\n",
              " 'Mr',\n",
              " 'Mr',\n",
              " 'Mr',\n",
              " 'Mr',\n",
              " 'Mr',\n",
              " 'Mr',\n",
              " 'Mr',\n",
              " 'Mr',\n",
              " 'Miss',\n",
              " 'Mr',\n",
              " 'Miss',\n",
              " 'Mr',\n",
              " 'Mr',\n",
              " 'Mr',\n",
              " 'Mrs',\n",
              " 'Mr',\n",
              " 'Mr',\n",
              " 'Mrs',\n",
              " 'Mr',\n",
              " 'Mr',\n",
              " 'Mr',\n",
              " 'Mr',\n",
              " 'Mr',\n",
              " 'Master',\n",
              " 'Mr',\n",
              " 'Mr',\n",
              " 'Mr',\n",
              " 'Mrs',\n",
              " 'Master',\n",
              " 'Miss',\n",
              " 'Mr',\n",
              " 'Mrs',\n",
              " 'Mr',\n",
              " 'Miss',\n",
              " 'Mrs',\n",
              " 'Mr',\n",
              " 'Mr',\n",
              " 'Mr',\n",
              " 'Miss',\n",
              " 'Mr',\n",
              " 'Mrs',\n",
              " 'Mr',\n",
              " 'Mr',\n",
              " 'Mrs',\n",
              " 'Master',\n",
              " 'Mrs',\n",
              " 'Mrs',\n",
              " 'Mr',\n",
              " 'Mrs',\n",
              " 'Mrs',\n",
              " 'Mr',\n",
              " 'Miss',\n",
              " 'Mrs',\n",
              " 'Mr',\n",
              " 'Mr',\n",
              " 'Miss',\n",
              " 'Mr',\n",
              " 'Mr',\n",
              " 'Mrs',\n",
              " 'Miss',\n",
              " 'Miss',\n",
              " 'Mr',\n",
              " 'Mr',\n",
              " 'Master',\n",
              " 'Mr',\n",
              " 'Mr',\n",
              " 'Mrs',\n",
              " 'Mrs',\n",
              " 'Mr',\n",
              " 'Miss',\n",
              " 'Mr',\n",
              " 'Mr',\n",
              " 'Mr',\n",
              " 'Master',\n",
              " 'Mr',\n",
              " 'Mrs',\n",
              " 'Master',\n",
              " 'Mr',\n",
              " 'Mr',\n",
              " 'Mrs',\n",
              " 'Mr',\n",
              " 'Mrs',\n",
              " 'Mr',\n",
              " 'Mr',\n",
              " 'Miss',\n",
              " 'Mr',\n",
              " 'Miss',\n",
              " 'Mr',\n",
              " 'Mr',\n",
              " 'Mr',\n",
              " 'Mr',\n",
              " 'Mr',\n",
              " 'Miss',\n",
              " 'Miss',\n",
              " 'Miss',\n",
              " 'Mrs',\n",
              " 'Miss',\n",
              " 'Mr',\n",
              " 'Dona',\n",
              " 'Mr',\n",
              " 'Mr',\n",
              " 'Master']"
            ]
          },
          "metadata": {
            "tags": []
          },
          "execution_count": 29
        }
      ]
    },
    {
      "cell_type": "code",
      "metadata": {
        "colab": {
          "base_uri": "https://localhost:8080/"
        },
        "id": "CiR4SnevJark",
        "outputId": "6ae705c1-3cad-4f8e-99f6-c34e02435268"
      },
      "source": [
        "# train_df\n",
        "train_df['Name'] = pd.Series(Name)\n",
        "train_df['Name']\n",
        "\n",
        "# test_df\n",
        "test_df['Name'] = pd.Series(Name2)\n",
        "test_df['Name'] "
      ],
      "execution_count": null,
      "outputs": [
        {
          "output_type": "execute_result",
          "data": {
            "text/plain": [
              "0          Mr\n",
              "1         Mrs\n",
              "2          Mr\n",
              "3          Mr\n",
              "4         Mrs\n",
              "        ...  \n",
              "413        Mr\n",
              "414      Dona\n",
              "415        Mr\n",
              "416        Mr\n",
              "417    Master\n",
              "Name: Name, Length: 418, dtype: object"
            ]
          },
          "metadata": {
            "tags": []
          },
          "execution_count": 30
        }
      ]
    },
    {
      "cell_type": "code",
      "metadata": {
        "colab": {
          "base_uri": "https://localhost:8080/"
        },
        "id": "UCFvxcHxKD0U",
        "outputId": "a56df638-3105-4acb-b4c1-134def850ff2"
      },
      "source": [
        "train_df['Name'].unique()"
      ],
      "execution_count": null,
      "outputs": [
        {
          "output_type": "execute_result",
          "data": {
            "text/plain": [
              "array(['Mr', 'Mrs', 'Miss', 'Master', 'Don', 'Rev', 'Dr', 'Mme', 'Ms',\n",
              "       'Major', 'L', 'Lady', 'Sir', 'Mlle', 'Col', 'Capt', 'Countess',\n",
              "       'Jonkheer'], dtype=object)"
            ]
          },
          "metadata": {
            "tags": []
          },
          "execution_count": 31
        }
      ]
    },
    {
      "cell_type": "code",
      "metadata": {
        "colab": {
          "base_uri": "https://localhost:8080/"
        },
        "id": "MiGQoC48KiWb",
        "outputId": "757558a6-e548-4fa7-f408-e76b6b3adb41"
      },
      "source": [
        "plt.figure(figsize = (12, 6))\n",
        "sns.countplot(x = 'Name',data = train_df)"
      ],
      "execution_count": null,
      "outputs": [
        {
          "output_type": "execute_result",
          "data": {
            "text/plain": [
              "<matplotlib.axes._subplots.AxesSubplot at 0x7fab9c545910>"
            ]
          },
          "metadata": {
            "tags": []
          },
          "execution_count": 32
        },
        {
          "output_type": "display_data",
          "data": {
            "image/png": "[encoded data removed]",
            "text/plain": [
              "<Figure size 864x432 with 1 Axes>"
            ]
          },
          "metadata": {
            "tags": [],
            "needs_background": "light"
          }
        }
      ]
    },
    {
      "cell_type": "code",
      "metadata": {
        "colab": {
          "base_uri": "https://localhost:8080/"
        },
        "id": "FH_8DKhLRate",
        "outputId": "d76bd0c3-0176-41d2-99c2-7a7c5981ce9a"
      },
      "source": [
        "plt.figure(figsize = (12, 6))\n",
        "sns.countplot(x = 'Name',data = test_df)"
      ],
      "execution_count": null,
      "outputs": [
        {
          "output_type": "execute_result",
          "data": {
            "text/plain": [
              "<matplotlib.axes._subplots.AxesSubplot at 0x7fab826ad610>"
            ]
          },
          "metadata": {
            "tags": []
          },
          "execution_count": 33
        },
        {
          "output_type": "display_data",
          "data": {
            "image/png": "[encoded data removed]",
            "text/plain": [
              "<Figure size 864x432 with 1 Axes>"
            ]
          },
          "metadata": {
            "tags": [],
            "needs_background": "light"
          }
        }
      ]
    },
    {
      "cell_type": "markdown",
      "metadata": {
        "id": "wzyvHUBhMU_k"
      },
      "source": [
        "Mr, Mrs, Miss, Master 를 제외한 다른 이름들은 극히 적은 인원수 를 가지고 있으므로 Others로 통일한다."
      ]
    },
    {
      "cell_type": "code",
      "metadata": {
        "colab": {
          "base_uri": "https://localhost:8080/"
        },
        "id": "3GLPZVgwMf-k",
        "outputId": "3b793bbe-174a-45bd-9b79-3f91efedfb17"
      },
      "source": [
        "for all_data in combine:\n",
        "  all_data['Name'] =all_data['Name'].replace (['Don', 'Rev', 'Dr', 'Mme', 'Ms',\n",
        "       'Major', 'L', 'Lady', 'Sir', 'Mlle', 'Col', 'Capt', 'Countess',\n",
        "       'Jonkheer','Dona'],'Others') # test셋에만 Dona라는 이름이 있으므로 주의\n",
        "\n",
        "test_df"
      ],
      "execution_count": null,
      "outputs": [
        {
          "output_type": "execute_result",
          "data": {
            "text/html": [
              "<div>\n",
              "<style scoped>\n",
              "    .dataframe tbody tr th:only-of-type {\n",
              "        vertical-align: middle;\n",
              "    }\n",
              "\n",
              "    .dataframe tbody tr th {\n",
              "        vertical-align: top;\n",
              "    }\n",
              "\n",
              "    .dataframe thead th {\n",
              "        text-align: right;\n",
              "    }\n",
              "</style>\n",
              "<table border=\"1\" class=\"dataframe\">\n",
              "  <thead>\n",
              "    <tr style=\"text-align: right;\">\n",
              "      <th></th>\n",
              "      <th>PassengerId</th>\n",
              "      <th>Pclass</th>\n",
              "      <th>Name</th>\n",
              "      <th>Sex</th>\n",
              "      <th>Age</th>\n",
              "      <th>SibSp</th>\n",
              "      <th>Parch</th>\n",
              "      <th>Ticket</th>\n",
              "      <th>Fare</th>\n",
              "      <th>Cabin</th>\n",
              "      <th>Embarked</th>\n",
              "    </tr>\n",
              "  </thead>\n",
              "  <tbody>\n",
              "    <tr>\n",
              "      <th>0</th>\n",
              "      <td>892</td>\n",
              "      <td>3</td>\n",
              "      <td>Mr</td>\n",
              "      <td>male</td>\n",
              "      <td>34.5</td>\n",
              "      <td>0</td>\n",
              "      <td>0</td>\n",
              "      <td>330911</td>\n",
              "      <td>7.8292</td>\n",
              "      <td>NaN</td>\n",
              "      <td>Q</td>\n",
              "    </tr>\n",
              "    <tr>\n",
              "      <th>1</th>\n",
              "      <td>893</td>\n",
              "      <td>3</td>\n",
              "      <td>Mrs</td>\n",
              "      <td>female</td>\n",
              "      <td>47.0</td>\n",
              "      <td>1</td>\n",
              "      <td>0</td>\n",
              "      <td>363272</td>\n",
              "      <td>7.0000</td>\n",
              "      <td>NaN</td>\n",
              "      <td>S</td>\n",
              "    </tr>\n",
              "    <tr>\n",
              "      <th>2</th>\n",
              "      <td>894</td>\n",
              "      <td>2</td>\n",
              "      <td>Mr</td>\n",
              "      <td>male</td>\n",
              "      <td>62.0</td>\n",
              "      <td>0</td>\n",
              "      <td>0</td>\n",
              "      <td>240276</td>\n",
              "      <td>9.6875</td>\n",
              "      <td>NaN</td>\n",
              "      <td>Q</td>\n",
              "    </tr>\n",
              "    <tr>\n",
              "      <th>3</th>\n",
              "      <td>895</td>\n",
              "      <td>3</td>\n",
              "      <td>Mr</td>\n",
              "      <td>male</td>\n",
              "      <td>27.0</td>\n",
              "      <td>0</td>\n",
              "      <td>0</td>\n",
              "      <td>315154</td>\n",
              "      <td>8.6625</td>\n",
              "      <td>NaN</td>\n",
              "      <td>S</td>\n",
              "    </tr>\n",
              "    <tr>\n",
              "      <th>4</th>\n",
              "      <td>896</td>\n",
              "      <td>3</td>\n",
              "      <td>Mrs</td>\n",
              "      <td>female</td>\n",
              "      <td>22.0</td>\n",
              "      <td>1</td>\n",
              "      <td>1</td>\n",
              "      <td>3101298</td>\n",
              "      <td>12.2875</td>\n",
              "      <td>NaN</td>\n",
              "      <td>S</td>\n",
              "    </tr>\n",
              "    <tr>\n",
              "      <th>...</th>\n",
              "      <td>...</td>\n",
              "      <td>...</td>\n",
              "      <td>...</td>\n",
              "      <td>...</td>\n",
              "      <td>...</td>\n",
              "      <td>...</td>\n",
              "      <td>...</td>\n",
              "      <td>...</td>\n",
              "      <td>...</td>\n",
              "      <td>...</td>\n",
              "      <td>...</td>\n",
              "    </tr>\n",
              "    <tr>\n",
              "      <th>413</th>\n",
              "      <td>1305</td>\n",
              "      <td>3</td>\n",
              "      <td>Mr</td>\n",
              "      <td>male</td>\n",
              "      <td>NaN</td>\n",
              "      <td>0</td>\n",
              "      <td>0</td>\n",
              "      <td>A.5. 3236</td>\n",
              "      <td>8.0500</td>\n",
              "      <td>NaN</td>\n",
              "      <td>S</td>\n",
              "    </tr>\n",
              "    <tr>\n",
              "      <th>414</th>\n",
              "      <td>1306</td>\n",
              "      <td>1</td>\n",
              "      <td>Others</td>\n",
              "      <td>female</td>\n",
              "      <td>39.0</td>\n",
              "      <td>0</td>\n",
              "      <td>0</td>\n",
              "      <td>PC 17758</td>\n",
              "      <td>108.9000</td>\n",
              "      <td>C105</td>\n",
              "      <td>C</td>\n",
              "    </tr>\n",
              "    <tr>\n",
              "      <th>415</th>\n",
              "      <td>1307</td>\n",
              "      <td>3</td>\n",
              "      <td>Mr</td>\n",
              "      <td>male</td>\n",
              "      <td>38.5</td>\n",
              "      <td>0</td>\n",
              "      <td>0</td>\n",
              "      <td>SOTON/O.Q. 3101262</td>\n",
              "      <td>7.2500</td>\n",
              "      <td>NaN</td>\n",
              "      <td>S</td>\n",
              "    </tr>\n",
              "    <tr>\n",
              "      <th>416</th>\n",
              "      <td>1308</td>\n",
              "      <td>3</td>\n",
              "      <td>Mr</td>\n",
              "      <td>male</td>\n",
              "      <td>NaN</td>\n",
              "      <td>0</td>\n",
              "      <td>0</td>\n",
              "      <td>359309</td>\n",
              "      <td>8.0500</td>\n",
              "      <td>NaN</td>\n",
              "      <td>S</td>\n",
              "    </tr>\n",
              "    <tr>\n",
              "      <th>417</th>\n",
              "      <td>1309</td>\n",
              "      <td>3</td>\n",
              "      <td>Master</td>\n",
              "      <td>male</td>\n",
              "      <td>NaN</td>\n",
              "      <td>1</td>\n",
              "      <td>1</td>\n",
              "      <td>2668</td>\n",
              "      <td>22.3583</td>\n",
              "      <td>NaN</td>\n",
              "      <td>C</td>\n",
              "    </tr>\n",
              "  </tbody>\n",
              "</table>\n",
              "<p>418 rows × 11 columns</p>\n",
              "</div>"
            ],
            "text/plain": [
              "     PassengerId  Pclass    Name  ...      Fare  Cabin  Embarked\n",
              "0            892       3      Mr  ...    7.8292    NaN         Q\n",
              "1            893       3     Mrs  ...    7.0000    NaN         S\n",
              "2            894       2      Mr  ...    9.6875    NaN         Q\n",
              "3            895       3      Mr  ...    8.6625    NaN         S\n",
              "4            896       3     Mrs  ...   12.2875    NaN         S\n",
              "..           ...     ...     ...  ...       ...    ...       ...\n",
              "413         1305       3      Mr  ...    8.0500    NaN         S\n",
              "414         1306       1  Others  ...  108.9000   C105         C\n",
              "415         1307       3      Mr  ...    7.2500    NaN         S\n",
              "416         1308       3      Mr  ...    8.0500    NaN         S\n",
              "417         1309       3  Master  ...   22.3583    NaN         C\n",
              "\n",
              "[418 rows x 11 columns]"
            ]
          },
          "metadata": {
            "tags": []
          },
          "execution_count": 34
        }
      ]
    },
    {
      "cell_type": "code",
      "metadata": {
        "colab": {
          "base_uri": "https://localhost:8080/"
        },
        "id": "32l53MWI5V5F",
        "outputId": "96104d6c-e442-451a-a86c-8f25428425b4"
      },
      "source": [
        "train_df['Name'].unique()"
      ],
      "execution_count": null,
      "outputs": [
        {
          "output_type": "execute_result",
          "data": {
            "text/plain": [
              "array(['Mr', 'Mrs', 'Miss', 'Master', 'Others'], dtype=object)"
            ]
          },
          "metadata": {
            "tags": []
          },
          "execution_count": 35
        }
      ]
    },
    {
      "cell_type": "code",
      "metadata": {
        "colab": {
          "base_uri": "https://localhost:8080/"
        },
        "id": "AYb3Y1R9SRmX",
        "outputId": "a1cdc22c-e54d-4070-eb17-317ebf424c03"
      },
      "source": [
        "test_df['Name'].unique()"
      ],
      "execution_count": null,
      "outputs": [
        {
          "output_type": "execute_result",
          "data": {
            "text/plain": [
              "array(['Mr', 'Mrs', 'Miss', 'Master', 'Others'], dtype=object)"
            ]
          },
          "metadata": {
            "tags": []
          },
          "execution_count": 36
        }
      ]
    },
    {
      "cell_type": "code",
      "metadata": {
        "colab": {
          "base_uri": "https://localhost:8080/"
        },
        "id": "UC5Q9t626Ki6",
        "outputId": "72e18f21-dc9e-46b6-951a-085a04a9fa0e"
      },
      "source": [
        "# 다수의 이름 순서대로 mapping\n",
        "\n",
        "name_mapping = {'Mr' : 0, 'Miss' : 1, 'Mrs' : 2, 'Master' : 3, 'Others' : 4}\n",
        "for all_data in combine:\n",
        "  all_data['Name'] = all_data['Name'].map(name_mapping).astype(int)\n",
        "\n",
        "# train_df\n",
        "test_df\n"
      ],
      "execution_count": null,
      "outputs": [
        {
          "output_type": "execute_result",
          "data": {
            "text/html": [
              "<div>\n",
              "<style scoped>\n",
              "    .dataframe tbody tr th:only-of-type {\n",
              "        vertical-align: middle;\n",
              "    }\n",
              "\n",
              "    .dataframe tbody tr th {\n",
              "        vertical-align: top;\n",
              "    }\n",
              "\n",
              "    .dataframe thead th {\n",
              "        text-align: right;\n",
              "    }\n",
              "</style>\n",
              "<table border=\"1\" class=\"dataframe\">\n",
              "  <thead>\n",
              "    <tr style=\"text-align: right;\">\n",
              "      <th></th>\n",
              "      <th>PassengerId</th>\n",
              "      <th>Pclass</th>\n",
              "      <th>Name</th>\n",
              "      <th>Sex</th>\n",
              "      <th>Age</th>\n",
              "      <th>SibSp</th>\n",
              "      <th>Parch</th>\n",
              "      <th>Ticket</th>\n",
              "      <th>Fare</th>\n",
              "      <th>Cabin</th>\n",
              "      <th>Embarked</th>\n",
              "    </tr>\n",
              "  </thead>\n",
              "  <tbody>\n",
              "    <tr>\n",
              "      <th>0</th>\n",
              "      <td>892</td>\n",
              "      <td>3</td>\n",
              "      <td>0</td>\n",
              "      <td>male</td>\n",
              "      <td>34.5</td>\n",
              "      <td>0</td>\n",
              "      <td>0</td>\n",
              "      <td>330911</td>\n",
              "      <td>7.8292</td>\n",
              "      <td>NaN</td>\n",
              "      <td>Q</td>\n",
              "    </tr>\n",
              "    <tr>\n",
              "      <th>1</th>\n",
              "      <td>893</td>\n",
              "      <td>3</td>\n",
              "      <td>2</td>\n",
              "      <td>female</td>\n",
              "      <td>47.0</td>\n",
              "      <td>1</td>\n",
              "      <td>0</td>\n",
              "      <td>363272</td>\n",
              "      <td>7.0000</td>\n",
              "      <td>NaN</td>\n",
              "      <td>S</td>\n",
              "    </tr>\n",
              "    <tr>\n",
              "      <th>2</th>\n",
              "      <td>894</td>\n",
              "      <td>2</td>\n",
              "      <td>0</td>\n",
              "      <td>male</td>\n",
              "      <td>62.0</td>\n",
              "      <td>0</td>\n",
              "      <td>0</td>\n",
              "      <td>240276</td>\n",
              "      <td>9.6875</td>\n",
              "      <td>NaN</td>\n",
              "      <td>Q</td>\n",
              "    </tr>\n",
              "    <tr>\n",
              "      <th>3</th>\n",
              "      <td>895</td>\n",
              "      <td>3</td>\n",
              "      <td>0</td>\n",
              "      <td>male</td>\n",
              "      <td>27.0</td>\n",
              "      <td>0</td>\n",
              "      <td>0</td>\n",
              "      <td>315154</td>\n",
              "      <td>8.6625</td>\n",
              "      <td>NaN</td>\n",
              "      <td>S</td>\n",
              "    </tr>\n",
              "    <tr>\n",
              "      <th>4</th>\n",
              "      <td>896</td>\n",
              "      <td>3</td>\n",
              "      <td>2</td>\n",
              "      <td>female</td>\n",
              "      <td>22.0</td>\n",
              "      <td>1</td>\n",
              "      <td>1</td>\n",
              "      <td>3101298</td>\n",
              "      <td>12.2875</td>\n",
              "      <td>NaN</td>\n",
              "      <td>S</td>\n",
              "    </tr>\n",
              "    <tr>\n",
              "      <th>...</th>\n",
              "      <td>...</td>\n",
              "      <td>...</td>\n",
              "      <td>...</td>\n",
              "      <td>...</td>\n",
              "      <td>...</td>\n",
              "      <td>...</td>\n",
              "      <td>...</td>\n",
              "      <td>...</td>\n",
              "      <td>...</td>\n",
              "      <td>...</td>\n",
              "      <td>...</td>\n",
              "    </tr>\n",
              "    <tr>\n",
              "      <th>413</th>\n",
              "      <td>1305</td>\n",
              "      <td>3</td>\n",
              "      <td>0</td>\n",
              "      <td>male</td>\n",
              "      <td>NaN</td>\n",
              "      <td>0</td>\n",
              "      <td>0</td>\n",
              "      <td>A.5. 3236</td>\n",
              "      <td>8.0500</td>\n",
              "      <td>NaN</td>\n",
              "      <td>S</td>\n",
              "    </tr>\n",
              "    <tr>\n",
              "      <th>414</th>\n",
              "      <td>1306</td>\n",
              "      <td>1</td>\n",
              "      <td>4</td>\n",
              "      <td>female</td>\n",
              "      <td>39.0</td>\n",
              "      <td>0</td>\n",
              "      <td>0</td>\n",
              "      <td>PC 17758</td>\n",
              "      <td>108.9000</td>\n",
              "      <td>C105</td>\n",
              "      <td>C</td>\n",
              "    </tr>\n",
              "    <tr>\n",
              "      <th>415</th>\n",
              "      <td>1307</td>\n",
              "      <td>3</td>\n",
              "      <td>0</td>\n",
              "      <td>male</td>\n",
              "      <td>38.5</td>\n",
              "      <td>0</td>\n",
              "      <td>0</td>\n",
              "      <td>SOTON/O.Q. 3101262</td>\n",
              "      <td>7.2500</td>\n",
              "      <td>NaN</td>\n",
              "      <td>S</td>\n",
              "    </tr>\n",
              "    <tr>\n",
              "      <th>416</th>\n",
              "      <td>1308</td>\n",
              "      <td>3</td>\n",
              "      <td>0</td>\n",
              "      <td>male</td>\n",
              "      <td>NaN</td>\n",
              "      <td>0</td>\n",
              "      <td>0</td>\n",
              "      <td>359309</td>\n",
              "      <td>8.0500</td>\n",
              "      <td>NaN</td>\n",
              "      <td>S</td>\n",
              "    </tr>\n",
              "    <tr>\n",
              "      <th>417</th>\n",
              "      <td>1309</td>\n",
              "      <td>3</td>\n",
              "      <td>3</td>\n",
              "      <td>male</td>\n",
              "      <td>NaN</td>\n",
              "      <td>1</td>\n",
              "      <td>1</td>\n",
              "      <td>2668</td>\n",
              "      <td>22.3583</td>\n",
              "      <td>NaN</td>\n",
              "      <td>C</td>\n",
              "    </tr>\n",
              "  </tbody>\n",
              "</table>\n",
              "<p>418 rows × 11 columns</p>\n",
              "</div>"
            ],
            "text/plain": [
              "     PassengerId  Pclass  Name  ...      Fare  Cabin  Embarked\n",
              "0            892       3     0  ...    7.8292    NaN         Q\n",
              "1            893       3     2  ...    7.0000    NaN         S\n",
              "2            894       2     0  ...    9.6875    NaN         Q\n",
              "3            895       3     0  ...    8.6625    NaN         S\n",
              "4            896       3     2  ...   12.2875    NaN         S\n",
              "..           ...     ...   ...  ...       ...    ...       ...\n",
              "413         1305       3     0  ...    8.0500    NaN         S\n",
              "414         1306       1     4  ...  108.9000   C105         C\n",
              "415         1307       3     0  ...    7.2500    NaN         S\n",
              "416         1308       3     0  ...    8.0500    NaN         S\n",
              "417         1309       3     3  ...   22.3583    NaN         C\n",
              "\n",
              "[418 rows x 11 columns]"
            ]
          },
          "metadata": {
            "tags": []
          },
          "execution_count": 37
        }
      ]
    },
    {
      "cell_type": "markdown",
      "metadata": {
        "id": "0cGdVgdZ5dLH"
      },
      "source": [
        "## Sex 컬럽 전처리"
      ]
    },
    {
      "cell_type": "markdown",
      "metadata": {
        "id": "RLPIOd6DEvUF"
      },
      "source": [
        "남성은 0으로 여성은 1로 변환한다."
      ]
    },
    {
      "cell_type": "code",
      "metadata": {
        "colab": {
          "base_uri": "https://localhost:8080/"
        },
        "id": "v5tYKN025fd1",
        "outputId": "1d152bae-4272-4f2c-d9aa-8c104936a167"
      },
      "source": [
        "sex_mapping = {'male' : 0, 'female' : 1}\n",
        "for all_data in combine:\n",
        "  all_data['Sex'] = all_data['Sex'].map(sex_mapping).astype(int)\n",
        "  \n",
        "#train_df  \n",
        "test_df\n",
        "\n"
      ],
      "execution_count": null,
      "outputs": [
        {
          "output_type": "execute_result",
          "data": {
            "text/html": [
              "<div>\n",
              "<style scoped>\n",
              "    .dataframe tbody tr th:only-of-type {\n",
              "        vertical-align: middle;\n",
              "    }\n",
              "\n",
              "    .dataframe tbody tr th {\n",
              "        vertical-align: top;\n",
              "    }\n",
              "\n",
              "    .dataframe thead th {\n",
              "        text-align: right;\n",
              "    }\n",
              "</style>\n",
              "<table border=\"1\" class=\"dataframe\">\n",
              "  <thead>\n",
              "    <tr style=\"text-align: right;\">\n",
              "      <th></th>\n",
              "      <th>PassengerId</th>\n",
              "      <th>Pclass</th>\n",
              "      <th>Name</th>\n",
              "      <th>Sex</th>\n",
              "      <th>Age</th>\n",
              "      <th>SibSp</th>\n",
              "      <th>Parch</th>\n",
              "      <th>Ticket</th>\n",
              "      <th>Fare</th>\n",
              "      <th>Cabin</th>\n",
              "      <th>Embarked</th>\n",
              "    </tr>\n",
              "  </thead>\n",
              "  <tbody>\n",
              "    <tr>\n",
              "      <th>0</th>\n",
              "      <td>892</td>\n",
              "      <td>3</td>\n",
              "      <td>0</td>\n",
              "      <td>0</td>\n",
              "      <td>34.5</td>\n",
              "      <td>0</td>\n",
              "      <td>0</td>\n",
              "      <td>330911</td>\n",
              "      <td>7.8292</td>\n",
              "      <td>NaN</td>\n",
              "      <td>Q</td>\n",
              "    </tr>\n",
              "    <tr>\n",
              "      <th>1</th>\n",
              "      <td>893</td>\n",
              "      <td>3</td>\n",
              "      <td>2</td>\n",
              "      <td>1</td>\n",
              "      <td>47.0</td>\n",
              "      <td>1</td>\n",
              "      <td>0</td>\n",
              "      <td>363272</td>\n",
              "      <td>7.0000</td>\n",
              "      <td>NaN</td>\n",
              "      <td>S</td>\n",
              "    </tr>\n",
              "    <tr>\n",
              "      <th>2</th>\n",
              "      <td>894</td>\n",
              "      <td>2</td>\n",
              "      <td>0</td>\n",
              "      <td>0</td>\n",
              "      <td>62.0</td>\n",
              "      <td>0</td>\n",
              "      <td>0</td>\n",
              "      <td>240276</td>\n",
              "      <td>9.6875</td>\n",
              "      <td>NaN</td>\n",
              "      <td>Q</td>\n",
              "    </tr>\n",
              "    <tr>\n",
              "      <th>3</th>\n",
              "      <td>895</td>\n",
              "      <td>3</td>\n",
              "      <td>0</td>\n",
              "      <td>0</td>\n",
              "      <td>27.0</td>\n",
              "      <td>0</td>\n",
              "      <td>0</td>\n",
              "      <td>315154</td>\n",
              "      <td>8.6625</td>\n",
              "      <td>NaN</td>\n",
              "      <td>S</td>\n",
              "    </tr>\n",
              "    <tr>\n",
              "      <th>4</th>\n",
              "      <td>896</td>\n",
              "      <td>3</td>\n",
              "      <td>2</td>\n",
              "      <td>1</td>\n",
              "      <td>22.0</td>\n",
              "      <td>1</td>\n",
              "      <td>1</td>\n",
              "      <td>3101298</td>\n",
              "      <td>12.2875</td>\n",
              "      <td>NaN</td>\n",
              "      <td>S</td>\n",
              "    </tr>\n",
              "    <tr>\n",
              "      <th>...</th>\n",
              "      <td>...</td>\n",
              "      <td>...</td>\n",
              "      <td>...</td>\n",
              "      <td>...</td>\n",
              "      <td>...</td>\n",
              "      <td>...</td>\n",
              "      <td>...</td>\n",
              "      <td>...</td>\n",
              "      <td>...</td>\n",
              "      <td>...</td>\n",
              "      <td>...</td>\n",
              "    </tr>\n",
              "    <tr>\n",
              "      <th>413</th>\n",
              "      <td>1305</td>\n",
              "      <td>3</td>\n",
              "      <td>0</td>\n",
              "      <td>0</td>\n",
              "      <td>NaN</td>\n",
              "      <td>0</td>\n",
              "      <td>0</td>\n",
              "      <td>A.5. 3236</td>\n",
              "      <td>8.0500</td>\n",
              "      <td>NaN</td>\n",
              "      <td>S</td>\n",
              "    </tr>\n",
              "    <tr>\n",
              "      <th>414</th>\n",
              "      <td>1306</td>\n",
              "      <td>1</td>\n",
              "      <td>4</td>\n",
              "      <td>1</td>\n",
              "      <td>39.0</td>\n",
              "      <td>0</td>\n",
              "      <td>0</td>\n",
              "      <td>PC 17758</td>\n",
              "      <td>108.9000</td>\n",
              "      <td>C105</td>\n",
              "      <td>C</td>\n",
              "    </tr>\n",
              "    <tr>\n",
              "      <th>415</th>\n",
              "      <td>1307</td>\n",
              "      <td>3</td>\n",
              "      <td>0</td>\n",
              "      <td>0</td>\n",
              "      <td>38.5</td>\n",
              "      <td>0</td>\n",
              "      <td>0</td>\n",
              "      <td>SOTON/O.Q. 3101262</td>\n",
              "      <td>7.2500</td>\n",
              "      <td>NaN</td>\n",
              "      <td>S</td>\n",
              "    </tr>\n",
              "    <tr>\n",
              "      <th>416</th>\n",
              "      <td>1308</td>\n",
              "      <td>3</td>\n",
              "      <td>0</td>\n",
              "      <td>0</td>\n",
              "      <td>NaN</td>\n",
              "      <td>0</td>\n",
              "      <td>0</td>\n",
              "      <td>359309</td>\n",
              "      <td>8.0500</td>\n",
              "      <td>NaN</td>\n",
              "      <td>S</td>\n",
              "    </tr>\n",
              "    <tr>\n",
              "      <th>417</th>\n",
              "      <td>1309</td>\n",
              "      <td>3</td>\n",
              "      <td>3</td>\n",
              "      <td>0</td>\n",
              "      <td>NaN</td>\n",
              "      <td>1</td>\n",
              "      <td>1</td>\n",
              "      <td>2668</td>\n",
              "      <td>22.3583</td>\n",
              "      <td>NaN</td>\n",
              "      <td>C</td>\n",
              "    </tr>\n",
              "  </tbody>\n",
              "</table>\n",
              "<p>418 rows × 11 columns</p>\n",
              "</div>"
            ],
            "text/plain": [
              "     PassengerId  Pclass  Name  ...      Fare  Cabin  Embarked\n",
              "0            892       3     0  ...    7.8292    NaN         Q\n",
              "1            893       3     2  ...    7.0000    NaN         S\n",
              "2            894       2     0  ...    9.6875    NaN         Q\n",
              "3            895       3     0  ...    8.6625    NaN         S\n",
              "4            896       3     2  ...   12.2875    NaN         S\n",
              "..           ...     ...   ...  ...       ...    ...       ...\n",
              "413         1305       3     0  ...    8.0500    NaN         S\n",
              "414         1306       1     4  ...  108.9000   C105         C\n",
              "415         1307       3     0  ...    7.2500    NaN         S\n",
              "416         1308       3     0  ...    8.0500    NaN         S\n",
              "417         1309       3     3  ...   22.3583    NaN         C\n",
              "\n",
              "[418 rows x 11 columns]"
            ]
          },
          "metadata": {
            "tags": []
          },
          "execution_count": 38
        }
      ]
    },
    {
      "cell_type": "code",
      "metadata": {
        "colab": {
          "base_uri": "https://localhost:8080/"
        },
        "id": "qr1W2Jf1PvKq",
        "outputId": "32461cc4-ec52-4302-c31e-2fab33be0f61"
      },
      "source": [
        "train_df.info()"
      ],
      "execution_count": null,
      "outputs": [
        {
          "output_type": "stream",
          "text": [
            "<class 'pandas.core.frame.DataFrame'>\n",
            "RangeIndex: 891 entries, 0 to 890\n",
            "Data columns (total 12 columns):\n",
            " #   Column       Non-Null Count  Dtype  \n",
            "---  ------       --------------  -----  \n",
            " 0   PassengerId  891 non-null    int64  \n",
            " 1   Survived     891 non-null    int64  \n",
            " 2   Pclass       891 non-null    int64  \n",
            " 3   Name         891 non-null    int64  \n",
            " 4   Sex          891 non-null    int64  \n",
            " 5   Age          714 non-null    float64\n",
            " 6   SibSp        891 non-null    int64  \n",
            " 7   Parch        891 non-null    int64  \n",
            " 8   Ticket       891 non-null    object \n",
            " 9   Fare         891 non-null    float64\n",
            " 10  Cabin        204 non-null    object \n",
            " 11  Embarked     889 non-null    object \n",
            "dtypes: float64(2), int64(7), object(3)\n",
            "memory usage: 83.7+ KB\n"
          ],
          "name": "stdout"
        }
      ]
    },
    {
      "cell_type": "code",
      "metadata": {
        "colab": {
          "base_uri": "https://localhost:8080/"
        },
        "id": "LkfeImmXPxMa",
        "outputId": "8cfe809e-1c1b-435d-afcf-7d76bb14b2a5"
      },
      "source": [
        "test_df.info()"
      ],
      "execution_count": null,
      "outputs": [
        {
          "output_type": "stream",
          "text": [
            "<class 'pandas.core.frame.DataFrame'>\n",
            "RangeIndex: 418 entries, 0 to 417\n",
            "Data columns (total 11 columns):\n",
            " #   Column       Non-Null Count  Dtype  \n",
            "---  ------       --------------  -----  \n",
            " 0   PassengerId  418 non-null    int64  \n",
            " 1   Pclass       418 non-null    int64  \n",
            " 2   Name         418 non-null    int64  \n",
            " 3   Sex          418 non-null    int64  \n",
            " 4   Age          332 non-null    float64\n",
            " 5   SibSp        418 non-null    int64  \n",
            " 6   Parch        418 non-null    int64  \n",
            " 7   Ticket       418 non-null    object \n",
            " 8   Fare         417 non-null    float64\n",
            " 9   Cabin        91 non-null     object \n",
            " 10  Embarked     418 non-null    object \n",
            "dtypes: float64(2), int64(6), object(3)\n",
            "memory usage: 36.0+ KB\n"
          ],
          "name": "stdout"
        }
      ]
    },
    {
      "cell_type": "markdown",
      "metadata": {
        "id": "DfyBEvwBheW5"
      },
      "source": [
        "## Age 컬럼 전처리"
      ]
    },
    {
      "cell_type": "markdown",
      "metadata": {
        "id": "Yh4e-58ihvVE"
      },
      "source": [
        "**현재 까지 알고있는 전처리 방법론은  첫 번째로, 해당 행을 지우는 방법과 두 번째로, 평균 값 혹은 0 으로 바꾸는 방법, 세 번째로 다른 컬럼들과의 관계를 이용하여 예측하는 방법 이렇게 세가지이다.**\n",
        "\n",
        "**그 중 Age는 생존율 예측에 있어서 중요한 데이터 이므로 약 900개중 200개 가량의 데이터를 지우는 것은 좋지 않으며, 평균 혹은 0으로 바꾸어 주는것 또한 데이터의 상태를 변형시키기 때문에 세 번째 방법인 다른 컬럼들과의 관계를 통해 그 관계의 평균 값으로 Age를 예측하는 방법을 사용할 것이다.**"
      ]
    },
    {
      "cell_type": "code",
      "metadata": {
        "id": "IECDkIlQVRST",
        "colab": {
          "base_uri": "https://localhost:8080/"
        },
        "outputId": "65f801e9-f612-403f-84a7-f460270b4527"
      },
      "source": [
        "train_df[['Pclass',\n",
        "          'Sex',\n",
        "          'Age']].sample(10)"
      ],
      "execution_count": null,
      "outputs": [
        {
          "output_type": "execute_result",
          "data": {
            "text/html": [
              "<div>\n",
              "<style scoped>\n",
              "    .dataframe tbody tr th:only-of-type {\n",
              "        vertical-align: middle;\n",
              "    }\n",
              "\n",
              "    .dataframe tbody tr th {\n",
              "        vertical-align: top;\n",
              "    }\n",
              "\n",
              "    .dataframe thead th {\n",
              "        text-align: right;\n",
              "    }\n",
              "</style>\n",
              "<table border=\"1\" class=\"dataframe\">\n",
              "  <thead>\n",
              "    <tr style=\"text-align: right;\">\n",
              "      <th></th>\n",
              "      <th>Pclass</th>\n",
              "      <th>Sex</th>\n",
              "      <th>Age</th>\n",
              "    </tr>\n",
              "  </thead>\n",
              "  <tbody>\n",
              "    <tr>\n",
              "      <th>74</th>\n",
              "      <td>3</td>\n",
              "      <td>0</td>\n",
              "      <td>32.0</td>\n",
              "    </tr>\n",
              "    <tr>\n",
              "      <th>633</th>\n",
              "      <td>1</td>\n",
              "      <td>0</td>\n",
              "      <td>NaN</td>\n",
              "    </tr>\n",
              "    <tr>\n",
              "      <th>44</th>\n",
              "      <td>3</td>\n",
              "      <td>1</td>\n",
              "      <td>19.0</td>\n",
              "    </tr>\n",
              "    <tr>\n",
              "      <th>326</th>\n",
              "      <td>3</td>\n",
              "      <td>0</td>\n",
              "      <td>61.0</td>\n",
              "    </tr>\n",
              "    <tr>\n",
              "      <th>314</th>\n",
              "      <td>2</td>\n",
              "      <td>0</td>\n",
              "      <td>43.0</td>\n",
              "    </tr>\n",
              "    <tr>\n",
              "      <th>157</th>\n",
              "      <td>3</td>\n",
              "      <td>0</td>\n",
              "      <td>30.0</td>\n",
              "    </tr>\n",
              "    <tr>\n",
              "      <th>435</th>\n",
              "      <td>1</td>\n",
              "      <td>1</td>\n",
              "      <td>14.0</td>\n",
              "    </tr>\n",
              "    <tr>\n",
              "      <th>316</th>\n",
              "      <td>2</td>\n",
              "      <td>1</td>\n",
              "      <td>24.0</td>\n",
              "    </tr>\n",
              "    <tr>\n",
              "      <th>865</th>\n",
              "      <td>2</td>\n",
              "      <td>1</td>\n",
              "      <td>42.0</td>\n",
              "    </tr>\n",
              "    <tr>\n",
              "      <th>273</th>\n",
              "      <td>1</td>\n",
              "      <td>0</td>\n",
              "      <td>37.0</td>\n",
              "    </tr>\n",
              "  </tbody>\n",
              "</table>\n",
              "</div>"
            ],
            "text/plain": [
              "     Pclass  Sex   Age\n",
              "74        3    0  32.0\n",
              "633       1    0   NaN\n",
              "44        3    1  19.0\n",
              "326       3    0  61.0\n",
              "314       2    0  43.0\n",
              "157       3    0  30.0\n",
              "435       1    1  14.0\n",
              "316       2    1  24.0\n",
              "865       2    1  42.0\n",
              "273       1    0  37.0"
            ]
          },
          "metadata": {
            "tags": []
          },
          "execution_count": 41
        }
      ]
    },
    {
      "cell_type": "code",
      "metadata": {
        "colab": {
          "base_uri": "https://localhost:8080/"
        },
        "id": "JOqGIjI0rMY3",
        "outputId": "1f4e21b0-fcc0-4172-89b4-f558067d918f"
      },
      "source": [
        "guess_ages = np.zeros((2,3))\n",
        "guess_ages"
      ],
      "execution_count": null,
      "outputs": [
        {
          "output_type": "execute_result",
          "data": {
            "text/plain": [
              "array([[0., 0., 0.],\n",
              "       [0., 0., 0.]])"
            ]
          },
          "metadata": {
            "tags": []
          },
          "execution_count": 42
        }
      ]
    },
    {
      "cell_type": "markdown",
      "metadata": {
        "id": "em7tEdncE3M-"
      },
      "source": [
        "Sex와 Pclass의 관계를 통하여 Age를 유추한다.\n",
        "(접근법에 대한 좀 더 충분한 이유가 필요)"
      ]
    },
    {
      "cell_type": "code",
      "metadata": {
        "colab": {
          "base_uri": "https://localhost:8080/"
        },
        "id": "GKDy7snXhOC-",
        "outputId": "1e49a928-770d-43bf-d791-deb2cb91a089"
      },
      "source": [
        "for all_df in combine:\n",
        "    for i in range(0, 2):\n",
        "        for j in range(0, 3):\n",
        "            guess_df = all_df[(all_df['Sex'] == i) & \\\n",
        "                                  (all_df['Pclass'] == j+1)]['Age'].dropna()\n",
        "          \n",
        "            age_guess = guess_df.median() # Median of Sex and Pclass\n",
        "            \n",
        "            # Convert random age float to nearest .5 age\n",
        "            guess_ages[i,j] = int(age_guess/0.5 + 0.5 ) * 0.5\n",
        "            print(guess_ages)\n",
        "            \n",
        "    for i in range(0, 2):\n",
        "        for j in range(0, 3):\n",
        "            all_df.loc[ (all_df.Age.isnull()) & (all_df.Sex == i) & (all_df.Pclass == j+1),\\\n",
        "                    'Age'] = guess_ages[i,j]\n",
        "\n",
        "    all_df['Age'] = all_df['Age'].astype(int)\n",
        "\n",
        "train_df.head()"
      ],
      "execution_count": null,
      "outputs": [
        {
          "output_type": "stream",
          "text": [
            "[[40.  0.  0.]\n",
            " [ 0.  0.  0.]]\n",
            "[[40. 30.  0.]\n",
            " [ 0.  0.  0.]]\n",
            "[[40. 30. 25.]\n",
            " [ 0.  0.  0.]]\n",
            "[[40. 30. 25.]\n",
            " [35.  0.  0.]]\n",
            "[[40. 30. 25.]\n",
            " [35. 28.  0.]]\n",
            "[[40.  30.  25. ]\n",
            " [35.  28.  21.5]]\n",
            "[[42.  30.  25. ]\n",
            " [35.  28.  21.5]]\n",
            "[[42.  28.  25. ]\n",
            " [35.  28.  21.5]]\n",
            "[[42.  28.  24. ]\n",
            " [35.  28.  21.5]]\n",
            "[[42.  28.  24. ]\n",
            " [41.  28.  21.5]]\n",
            "[[42.  28.  24. ]\n",
            " [41.  24.  21.5]]\n",
            "[[42. 28. 24.]\n",
            " [41. 24. 22.]]\n"
          ],
          "name": "stdout"
        },
        {
          "output_type": "execute_result",
          "data": {
            "text/html": [
              "<div>\n",
              "<style scoped>\n",
              "    .dataframe tbody tr th:only-of-type {\n",
              "        vertical-align: middle;\n",
              "    }\n",
              "\n",
              "    .dataframe tbody tr th {\n",
              "        vertical-align: top;\n",
              "    }\n",
              "\n",
              "    .dataframe thead th {\n",
              "        text-align: right;\n",
              "    }\n",
              "</style>\n",
              "<table border=\"1\" class=\"dataframe\">\n",
              "  <thead>\n",
              "    <tr style=\"text-align: right;\">\n",
              "      <th></th>\n",
              "      <th>PassengerId</th>\n",
              "      <th>Survived</th>\n",
              "      <th>Pclass</th>\n",
              "      <th>Name</th>\n",
              "      <th>Sex</th>\n",
              "      <th>Age</th>\n",
              "      <th>SibSp</th>\n",
              "      <th>Parch</th>\n",
              "      <th>Ticket</th>\n",
              "      <th>Fare</th>\n",
              "      <th>Cabin</th>\n",
              "      <th>Embarked</th>\n",
              "    </tr>\n",
              "  </thead>\n",
              "  <tbody>\n",
              "    <tr>\n",
              "      <th>0</th>\n",
              "      <td>1</td>\n",
              "      <td>0</td>\n",
              "      <td>3</td>\n",
              "      <td>0</td>\n",
              "      <td>0</td>\n",
              "      <td>22</td>\n",
              "      <td>1</td>\n",
              "      <td>0</td>\n",
              "      <td>A/5 21171</td>\n",
              "      <td>7.2500</td>\n",
              "      <td>NaN</td>\n",
              "      <td>S</td>\n",
              "    </tr>\n",
              "    <tr>\n",
              "      <th>1</th>\n",
              "      <td>2</td>\n",
              "      <td>1</td>\n",
              "      <td>1</td>\n",
              "      <td>2</td>\n",
              "      <td>1</td>\n",
              "      <td>38</td>\n",
              "      <td>1</td>\n",
              "      <td>0</td>\n",
              "      <td>PC 17599</td>\n",
              "      <td>71.2833</td>\n",
              "      <td>C85</td>\n",
              "      <td>C</td>\n",
              "    </tr>\n",
              "    <tr>\n",
              "      <th>2</th>\n",
              "      <td>3</td>\n",
              "      <td>1</td>\n",
              "      <td>3</td>\n",
              "      <td>1</td>\n",
              "      <td>1</td>\n",
              "      <td>26</td>\n",
              "      <td>0</td>\n",
              "      <td>0</td>\n",
              "      <td>STON/O2. 3101282</td>\n",
              "      <td>7.9250</td>\n",
              "      <td>NaN</td>\n",
              "      <td>S</td>\n",
              "    </tr>\n",
              "    <tr>\n",
              "      <th>3</th>\n",
              "      <td>4</td>\n",
              "      <td>1</td>\n",
              "      <td>1</td>\n",
              "      <td>2</td>\n",
              "      <td>1</td>\n",
              "      <td>35</td>\n",
              "      <td>1</td>\n",
              "      <td>0</td>\n",
              "      <td>113803</td>\n",
              "      <td>53.1000</td>\n",
              "      <td>C123</td>\n",
              "      <td>S</td>\n",
              "    </tr>\n",
              "    <tr>\n",
              "      <th>4</th>\n",
              "      <td>5</td>\n",
              "      <td>0</td>\n",
              "      <td>3</td>\n",
              "      <td>0</td>\n",
              "      <td>0</td>\n",
              "      <td>35</td>\n",
              "      <td>0</td>\n",
              "      <td>0</td>\n",
              "      <td>373450</td>\n",
              "      <td>8.0500</td>\n",
              "      <td>NaN</td>\n",
              "      <td>S</td>\n",
              "    </tr>\n",
              "  </tbody>\n",
              "</table>\n",
              "</div>"
            ],
            "text/plain": [
              "   PassengerId  Survived  Pclass  ...     Fare  Cabin  Embarked\n",
              "0            1         0       3  ...   7.2500    NaN         S\n",
              "1            2         1       1  ...  71.2833    C85         C\n",
              "2            3         1       3  ...   7.9250    NaN         S\n",
              "3            4         1       1  ...  53.1000   C123         S\n",
              "4            5         0       3  ...   8.0500    NaN         S\n",
              "\n",
              "[5 rows x 12 columns]"
            ]
          },
          "metadata": {
            "tags": []
          },
          "execution_count": 43
        }
      ]
    },
    {
      "cell_type": "code",
      "metadata": {
        "colab": {
          "base_uri": "https://localhost:8080/"
        },
        "id": "Wz5fcNV37pkf",
        "outputId": "e18cc0fd-c4ec-4c8c-c362-3cb3baec41c2"
      },
      "source": [
        "train_df.info()"
      ],
      "execution_count": null,
      "outputs": [
        {
          "output_type": "stream",
          "text": [
            "<class 'pandas.core.frame.DataFrame'>\n",
            "RangeIndex: 891 entries, 0 to 890\n",
            "Data columns (total 12 columns):\n",
            " #   Column       Non-Null Count  Dtype  \n",
            "---  ------       --------------  -----  \n",
            " 0   PassengerId  891 non-null    int64  \n",
            " 1   Survived     891 non-null    int64  \n",
            " 2   Pclass       891 non-null    int64  \n",
            " 3   Name         891 non-null    int64  \n",
            " 4   Sex          891 non-null    int64  \n",
            " 5   Age          891 non-null    int64  \n",
            " 6   SibSp        891 non-null    int64  \n",
            " 7   Parch        891 non-null    int64  \n",
            " 8   Ticket       891 non-null    object \n",
            " 9   Fare         891 non-null    float64\n",
            " 10  Cabin        204 non-null    object \n",
            " 11  Embarked     889 non-null    object \n",
            "dtypes: float64(1), int64(8), object(3)\n",
            "memory usage: 83.7+ KB\n"
          ],
          "name": "stdout"
        }
      ]
    },
    {
      "cell_type": "code",
      "metadata": {
        "colab": {
          "base_uri": "https://localhost:8080/"
        },
        "id": "LMrSvEaKTxib",
        "outputId": "8487c5b2-2dc3-4f15-8527-063f90c148e1"
      },
      "source": [
        "test_df.info()"
      ],
      "execution_count": null,
      "outputs": [
        {
          "output_type": "stream",
          "text": [
            "<class 'pandas.core.frame.DataFrame'>\n",
            "RangeIndex: 418 entries, 0 to 417\n",
            "Data columns (total 11 columns):\n",
            " #   Column       Non-Null Count  Dtype  \n",
            "---  ------       --------------  -----  \n",
            " 0   PassengerId  418 non-null    int64  \n",
            " 1   Pclass       418 non-null    int64  \n",
            " 2   Name         418 non-null    int64  \n",
            " 3   Sex          418 non-null    int64  \n",
            " 4   Age          418 non-null    int64  \n",
            " 5   SibSp        418 non-null    int64  \n",
            " 6   Parch        418 non-null    int64  \n",
            " 7   Ticket       418 non-null    object \n",
            " 8   Fare         417 non-null    float64\n",
            " 9   Cabin        91 non-null     object \n",
            " 10  Embarked     418 non-null    object \n",
            "dtypes: float64(1), int64(7), object(3)\n",
            "memory usage: 36.0+ KB\n"
          ],
          "name": "stdout"
        }
      ]
    },
    {
      "cell_type": "code",
      "metadata": {
        "colab": {
          "base_uri": "https://localhost:8080/"
        },
        "id": "e7zxquDciekn",
        "outputId": "da0a2596-2d1a-4c0d-fbd8-d6294fd5e441"
      },
      "source": [
        "train_df['Age'].tail(50)"
      ],
      "execution_count": null,
      "outputs": [
        {
          "output_type": "execute_result",
          "data": {
            "text/plain": [
              "841    16\n",
              "842    30\n",
              "843    34\n",
              "844    17\n",
              "845    42\n",
              "846    25\n",
              "847    35\n",
              "848    28\n",
              "849    35\n",
              "850     4\n",
              "851    74\n",
              "852     9\n",
              "853    16\n",
              "854    44\n",
              "855    18\n",
              "856    45\n",
              "857    51\n",
              "858    24\n",
              "859    25\n",
              "860    41\n",
              "861    21\n",
              "862    48\n",
              "863    21\n",
              "864    24\n",
              "865    42\n",
              "866    27\n",
              "867    31\n",
              "868    25\n",
              "869     4\n",
              "870    26\n",
              "871    47\n",
              "872    33\n",
              "873    47\n",
              "874    28\n",
              "875    15\n",
              "876    20\n",
              "877    19\n",
              "878    25\n",
              "879    56\n",
              "880    25\n",
              "881    33\n",
              "882    22\n",
              "883    28\n",
              "884    25\n",
              "885    39\n",
              "886    27\n",
              "887    19\n",
              "888    21\n",
              "889    26\n",
              "890    32\n",
              "Name: Age, dtype: int64"
            ]
          },
          "metadata": {
            "tags": []
          },
          "execution_count": 46
        }
      ]
    },
    {
      "cell_type": "markdown",
      "metadata": {
        "id": "VEF5aHARE9NS"
      },
      "source": [
        "Age의 수가 많으므로 카테고리로 묶어서 인코딩한다."
      ]
    },
    {
      "cell_type": "code",
      "metadata": {
        "colab": {
          "base_uri": "https://localhost:8080/"
        },
        "id": "85rDCyV_gbYG",
        "outputId": "74b3f4a9-1130-4134-f313-37f6a70b17c8"
      },
      "source": [
        "for total_df in combine:\n",
        "  total_df['Age'] = pd.cut(total_df['Age'], 5)\n",
        "\n",
        "train_df['Age']"
      ],
      "execution_count": null,
      "outputs": [
        {
          "output_type": "execute_result",
          "data": {
            "text/plain": [
              "0      (16.0, 32.0]\n",
              "1      (32.0, 48.0]\n",
              "2      (16.0, 32.0]\n",
              "3      (32.0, 48.0]\n",
              "4      (32.0, 48.0]\n",
              "           ...     \n",
              "886    (16.0, 32.0]\n",
              "887    (16.0, 32.0]\n",
              "888    (16.0, 32.0]\n",
              "889    (16.0, 32.0]\n",
              "890    (16.0, 32.0]\n",
              "Name: Age, Length: 891, dtype: category\n",
              "Categories (5, interval[float64]): [(-0.08, 16.0] < (16.0, 32.0] < (32.0, 48.0] < (48.0, 64.0] <\n",
              "                                    (64.0, 80.0]]"
            ]
          },
          "metadata": {
            "tags": []
          },
          "execution_count": 47
        }
      ]
    },
    {
      "cell_type": "markdown",
      "metadata": {
        "id": "SrRYz9w4jGky"
      },
      "source": [
        "인코딩 방법소개"
      ]
    },
    {
      "cell_type": "code",
      "metadata": {
        "colab": {
          "base_uri": "https://localhost:8080/"
        },
        "id": "Tyt5FctOg3Dt",
        "outputId": "fcdcae96-d98f-4b39-a28e-9db50d83df8f"
      },
      "source": [
        "from sklearn.preprocessing import LabelEncoder\n",
        "le = LabelEncoder()\n",
        "\n",
        "for total_df in combine:\n",
        "  le.fit(total_df['Age'])\n",
        "  total_df['Age'] = le.transform(total_df['Age'])\n",
        "\n",
        "train_df['Age'].tail(50)\n"
      ],
      "execution_count": null,
      "outputs": [
        {
          "output_type": "execute_result",
          "data": {
            "text/plain": [
              "841    0\n",
              "842    1\n",
              "843    2\n",
              "844    1\n",
              "845    2\n",
              "846    1\n",
              "847    2\n",
              "848    1\n",
              "849    2\n",
              "850    0\n",
              "851    4\n",
              "852    0\n",
              "853    0\n",
              "854    2\n",
              "855    1\n",
              "856    2\n",
              "857    3\n",
              "858    1\n",
              "859    1\n",
              "860    2\n",
              "861    1\n",
              "862    2\n",
              "863    1\n",
              "864    1\n",
              "865    2\n",
              "866    1\n",
              "867    1\n",
              "868    1\n",
              "869    0\n",
              "870    1\n",
              "871    2\n",
              "872    2\n",
              "873    2\n",
              "874    1\n",
              "875    0\n",
              "876    1\n",
              "877    1\n",
              "878    1\n",
              "879    3\n",
              "880    1\n",
              "881    2\n",
              "882    1\n",
              "883    1\n",
              "884    1\n",
              "885    2\n",
              "886    1\n",
              "887    1\n",
              "888    1\n",
              "889    1\n",
              "890    1\n",
              "Name: Age, dtype: int64"
            ]
          },
          "metadata": {
            "tags": []
          },
          "execution_count": 48
        }
      ]
    },
    {
      "cell_type": "markdown",
      "metadata": {
        "id": "PualZckDipV8"
      },
      "source": [
        "**(-0.08, 16.0) = 0**\n",
        "\n",
        "**(16.0, 32.0) = 1**\n",
        "\n",
        "**(32.0, 48.0) = 2**\n",
        "\n",
        "**(48.0, 64.0) = 3**\n",
        "\n",
        "**(64.0, 80.0) = 4**         "
      ]
    },
    {
      "cell_type": "markdown",
      "metadata": {
        "id": "wOSIgigoU1NY"
      },
      "source": [
        "## Ticket  컬럼전처리"
      ]
    },
    {
      "cell_type": "markdown",
      "metadata": {
        "id": "VaiSeI6aFMto"
      },
      "source": [
        "티켓과 의 연관성을 찾지못하여 지워주었다."
      ]
    },
    {
      "cell_type": "code",
      "metadata": {
        "colab": {
          "base_uri": "https://localhost:8080/"
        },
        "id": "W3npCodGUwmk",
        "outputId": "ee20f264-643a-4d33-8c6c-902647d5154c"
      },
      "source": [
        "for all_data in combine:\n",
        "  all_data = all_data.drop('Ticket', axis = 1, inplace = True)\n",
        "\n",
        "# train_df\n",
        "test_df"
      ],
      "execution_count": null,
      "outputs": [
        {
          "output_type": "execute_result",
          "data": {
            "text/html": [
              "<div>\n",
              "<style scoped>\n",
              "    .dataframe tbody tr th:only-of-type {\n",
              "        vertical-align: middle;\n",
              "    }\n",
              "\n",
              "    .dataframe tbody tr th {\n",
              "        vertical-align: top;\n",
              "    }\n",
              "\n",
              "    .dataframe thead th {\n",
              "        text-align: right;\n",
              "    }\n",
              "</style>\n",
              "<table border=\"1\" class=\"dataframe\">\n",
              "  <thead>\n",
              "    <tr style=\"text-align: right;\">\n",
              "      <th></th>\n",
              "      <th>PassengerId</th>\n",
              "      <th>Pclass</th>\n",
              "      <th>Name</th>\n",
              "      <th>Sex</th>\n",
              "      <th>Age</th>\n",
              "      <th>SibSp</th>\n",
              "      <th>Parch</th>\n",
              "      <th>Fare</th>\n",
              "      <th>Cabin</th>\n",
              "      <th>Embarked</th>\n",
              "    </tr>\n",
              "  </thead>\n",
              "  <tbody>\n",
              "    <tr>\n",
              "      <th>0</th>\n",
              "      <td>892</td>\n",
              "      <td>3</td>\n",
              "      <td>0</td>\n",
              "      <td>0</td>\n",
              "      <td>2</td>\n",
              "      <td>0</td>\n",
              "      <td>0</td>\n",
              "      <td>7.8292</td>\n",
              "      <td>NaN</td>\n",
              "      <td>Q</td>\n",
              "    </tr>\n",
              "    <tr>\n",
              "      <th>1</th>\n",
              "      <td>893</td>\n",
              "      <td>3</td>\n",
              "      <td>2</td>\n",
              "      <td>1</td>\n",
              "      <td>3</td>\n",
              "      <td>1</td>\n",
              "      <td>0</td>\n",
              "      <td>7.0000</td>\n",
              "      <td>NaN</td>\n",
              "      <td>S</td>\n",
              "    </tr>\n",
              "    <tr>\n",
              "      <th>2</th>\n",
              "      <td>894</td>\n",
              "      <td>2</td>\n",
              "      <td>0</td>\n",
              "      <td>0</td>\n",
              "      <td>4</td>\n",
              "      <td>0</td>\n",
              "      <td>0</td>\n",
              "      <td>9.6875</td>\n",
              "      <td>NaN</td>\n",
              "      <td>Q</td>\n",
              "    </tr>\n",
              "    <tr>\n",
              "      <th>3</th>\n",
              "      <td>895</td>\n",
              "      <td>3</td>\n",
              "      <td>0</td>\n",
              "      <td>0</td>\n",
              "      <td>1</td>\n",
              "      <td>0</td>\n",
              "      <td>0</td>\n",
              "      <td>8.6625</td>\n",
              "      <td>NaN</td>\n",
              "      <td>S</td>\n",
              "    </tr>\n",
              "    <tr>\n",
              "      <th>4</th>\n",
              "      <td>896</td>\n",
              "      <td>3</td>\n",
              "      <td>2</td>\n",
              "      <td>1</td>\n",
              "      <td>1</td>\n",
              "      <td>1</td>\n",
              "      <td>1</td>\n",
              "      <td>12.2875</td>\n",
              "      <td>NaN</td>\n",
              "      <td>S</td>\n",
              "    </tr>\n",
              "    <tr>\n",
              "      <th>...</th>\n",
              "      <td>...</td>\n",
              "      <td>...</td>\n",
              "      <td>...</td>\n",
              "      <td>...</td>\n",
              "      <td>...</td>\n",
              "      <td>...</td>\n",
              "      <td>...</td>\n",
              "      <td>...</td>\n",
              "      <td>...</td>\n",
              "      <td>...</td>\n",
              "    </tr>\n",
              "    <tr>\n",
              "      <th>413</th>\n",
              "      <td>1305</td>\n",
              "      <td>3</td>\n",
              "      <td>0</td>\n",
              "      <td>0</td>\n",
              "      <td>1</td>\n",
              "      <td>0</td>\n",
              "      <td>0</td>\n",
              "      <td>8.0500</td>\n",
              "      <td>NaN</td>\n",
              "      <td>S</td>\n",
              "    </tr>\n",
              "    <tr>\n",
              "      <th>414</th>\n",
              "      <td>1306</td>\n",
              "      <td>1</td>\n",
              "      <td>4</td>\n",
              "      <td>1</td>\n",
              "      <td>2</td>\n",
              "      <td>0</td>\n",
              "      <td>0</td>\n",
              "      <td>108.9000</td>\n",
              "      <td>C105</td>\n",
              "      <td>C</td>\n",
              "    </tr>\n",
              "    <tr>\n",
              "      <th>415</th>\n",
              "      <td>1307</td>\n",
              "      <td>3</td>\n",
              "      <td>0</td>\n",
              "      <td>0</td>\n",
              "      <td>2</td>\n",
              "      <td>0</td>\n",
              "      <td>0</td>\n",
              "      <td>7.2500</td>\n",
              "      <td>NaN</td>\n",
              "      <td>S</td>\n",
              "    </tr>\n",
              "    <tr>\n",
              "      <th>416</th>\n",
              "      <td>1308</td>\n",
              "      <td>3</td>\n",
              "      <td>0</td>\n",
              "      <td>0</td>\n",
              "      <td>1</td>\n",
              "      <td>0</td>\n",
              "      <td>0</td>\n",
              "      <td>8.0500</td>\n",
              "      <td>NaN</td>\n",
              "      <td>S</td>\n",
              "    </tr>\n",
              "    <tr>\n",
              "      <th>417</th>\n",
              "      <td>1309</td>\n",
              "      <td>3</td>\n",
              "      <td>3</td>\n",
              "      <td>0</td>\n",
              "      <td>1</td>\n",
              "      <td>1</td>\n",
              "      <td>1</td>\n",
              "      <td>22.3583</td>\n",
              "      <td>NaN</td>\n",
              "      <td>C</td>\n",
              "    </tr>\n",
              "  </tbody>\n",
              "</table>\n",
              "<p>418 rows × 10 columns</p>\n",
              "</div>"
            ],
            "text/plain": [
              "     PassengerId  Pclass  Name  Sex  Age  SibSp  Parch      Fare Cabin Embarked\n",
              "0            892       3     0    0    2      0      0    7.8292   NaN        Q\n",
              "1            893       3     2    1    3      1      0    7.0000   NaN        S\n",
              "2            894       2     0    0    4      0      0    9.6875   NaN        Q\n",
              "3            895       3     0    0    1      0      0    8.6625   NaN        S\n",
              "4            896       3     2    1    1      1      1   12.2875   NaN        S\n",
              "..           ...     ...   ...  ...  ...    ...    ...       ...   ...      ...\n",
              "413         1305       3     0    0    1      0      0    8.0500   NaN        S\n",
              "414         1306       1     4    1    2      0      0  108.9000  C105        C\n",
              "415         1307       3     0    0    2      0      0    7.2500   NaN        S\n",
              "416         1308       3     0    0    1      0      0    8.0500   NaN        S\n",
              "417         1309       3     3    0    1      1      1   22.3583   NaN        C\n",
              "\n",
              "[418 rows x 10 columns]"
            ]
          },
          "metadata": {
            "tags": []
          },
          "execution_count": 49
        }
      ]
    },
    {
      "cell_type": "markdown",
      "metadata": {
        "id": "d-2I8mJ8Vyj3"
      },
      "source": [
        "## SibSp 와 Parch 컬럼 결합"
      ]
    },
    {
      "cell_type": "markdown",
      "metadata": {
        "id": "2_x6ZALzFRhb"
      },
      "source": [
        "동승자가 있다 ,없다 라는 기준으로 새로운 컬럼을 만든후 기존 컬럼을 제거했다."
      ]
    },
    {
      "cell_type": "code",
      "metadata": {
        "colab": {
          "base_uri": "https://localhost:8080/"
        },
        "id": "6dhBIfxDViu2",
        "outputId": "1619a1b6-5a3f-4663-d0ff-2bd4dcc07da9"
      },
      "source": [
        "for all_data in combine:\n",
        "  all_data['Alone'] = all_data['SibSp'] + all_data['Parch']\n",
        "  all_data = all_data.drop(['SibSp', 'Parch'], axis = 1,inplace=True)\n",
        "   \n",
        "train_df"
      ],
      "execution_count": null,
      "outputs": [
        {
          "output_type": "execute_result",
          "data": {
            "text/html": [
              "<div>\n",
              "<style scoped>\n",
              "    .dataframe tbody tr th:only-of-type {\n",
              "        vertical-align: middle;\n",
              "    }\n",
              "\n",
              "    .dataframe tbody tr th {\n",
              "        vertical-align: top;\n",
              "    }\n",
              "\n",
              "    .dataframe thead th {\n",
              "        text-align: right;\n",
              "    }\n",
              "</style>\n",
              "<table border=\"1\" class=\"dataframe\">\n",
              "  <thead>\n",
              "    <tr style=\"text-align: right;\">\n",
              "      <th></th>\n",
              "      <th>PassengerId</th>\n",
              "      <th>Survived</th>\n",
              "      <th>Pclass</th>\n",
              "      <th>Name</th>\n",
              "      <th>Sex</th>\n",
              "      <th>Age</th>\n",
              "      <th>Fare</th>\n",
              "      <th>Cabin</th>\n",
              "      <th>Embarked</th>\n",
              "      <th>Alone</th>\n",
              "    </tr>\n",
              "  </thead>\n",
              "  <tbody>\n",
              "    <tr>\n",
              "      <th>0</th>\n",
              "      <td>1</td>\n",
              "      <td>0</td>\n",
              "      <td>3</td>\n",
              "      <td>0</td>\n",
              "      <td>0</td>\n",
              "      <td>1</td>\n",
              "      <td>7.2500</td>\n",
              "      <td>NaN</td>\n",
              "      <td>S</td>\n",
              "      <td>1</td>\n",
              "    </tr>\n",
              "    <tr>\n",
              "      <th>1</th>\n",
              "      <td>2</td>\n",
              "      <td>1</td>\n",
              "      <td>1</td>\n",
              "      <td>2</td>\n",
              "      <td>1</td>\n",
              "      <td>2</td>\n",
              "      <td>71.2833</td>\n",
              "      <td>C85</td>\n",
              "      <td>C</td>\n",
              "      <td>1</td>\n",
              "    </tr>\n",
              "    <tr>\n",
              "      <th>2</th>\n",
              "      <td>3</td>\n",
              "      <td>1</td>\n",
              "      <td>3</td>\n",
              "      <td>1</td>\n",
              "      <td>1</td>\n",
              "      <td>1</td>\n",
              "      <td>7.9250</td>\n",
              "      <td>NaN</td>\n",
              "      <td>S</td>\n",
              "      <td>0</td>\n",
              "    </tr>\n",
              "    <tr>\n",
              "      <th>3</th>\n",
              "      <td>4</td>\n",
              "      <td>1</td>\n",
              "      <td>1</td>\n",
              "      <td>2</td>\n",
              "      <td>1</td>\n",
              "      <td>2</td>\n",
              "      <td>53.1000</td>\n",
              "      <td>C123</td>\n",
              "      <td>S</td>\n",
              "      <td>1</td>\n",
              "    </tr>\n",
              "    <tr>\n",
              "      <th>4</th>\n",
              "      <td>5</td>\n",
              "      <td>0</td>\n",
              "      <td>3</td>\n",
              "      <td>0</td>\n",
              "      <td>0</td>\n",
              "      <td>2</td>\n",
              "      <td>8.0500</td>\n",
              "      <td>NaN</td>\n",
              "      <td>S</td>\n",
              "      <td>0</td>\n",
              "    </tr>\n",
              "    <tr>\n",
              "      <th>...</th>\n",
              "      <td>...</td>\n",
              "      <td>...</td>\n",
              "      <td>...</td>\n",
              "      <td>...</td>\n",
              "      <td>...</td>\n",
              "      <td>...</td>\n",
              "      <td>...</td>\n",
              "      <td>...</td>\n",
              "      <td>...</td>\n",
              "      <td>...</td>\n",
              "    </tr>\n",
              "    <tr>\n",
              "      <th>886</th>\n",
              "      <td>887</td>\n",
              "      <td>0</td>\n",
              "      <td>2</td>\n",
              "      <td>2</td>\n",
              "      <td>0</td>\n",
              "      <td>1</td>\n",
              "      <td>13.0000</td>\n",
              "      <td>NaN</td>\n",
              "      <td>S</td>\n",
              "      <td>0</td>\n",
              "    </tr>\n",
              "    <tr>\n",
              "      <th>887</th>\n",
              "      <td>888</td>\n",
              "      <td>1</td>\n",
              "      <td>1</td>\n",
              "      <td>4</td>\n",
              "      <td>1</td>\n",
              "      <td>1</td>\n",
              "      <td>30.0000</td>\n",
              "      <td>B42</td>\n",
              "      <td>S</td>\n",
              "      <td>0</td>\n",
              "    </tr>\n",
              "    <tr>\n",
              "      <th>888</th>\n",
              "      <td>889</td>\n",
              "      <td>0</td>\n",
              "      <td>3</td>\n",
              "      <td>1</td>\n",
              "      <td>1</td>\n",
              "      <td>1</td>\n",
              "      <td>23.4500</td>\n",
              "      <td>NaN</td>\n",
              "      <td>S</td>\n",
              "      <td>3</td>\n",
              "    </tr>\n",
              "    <tr>\n",
              "      <th>889</th>\n",
              "      <td>890</td>\n",
              "      <td>1</td>\n",
              "      <td>1</td>\n",
              "      <td>1</td>\n",
              "      <td>0</td>\n",
              "      <td>1</td>\n",
              "      <td>30.0000</td>\n",
              "      <td>C148</td>\n",
              "      <td>C</td>\n",
              "      <td>0</td>\n",
              "    </tr>\n",
              "    <tr>\n",
              "      <th>890</th>\n",
              "      <td>891</td>\n",
              "      <td>0</td>\n",
              "      <td>3</td>\n",
              "      <td>0</td>\n",
              "      <td>0</td>\n",
              "      <td>1</td>\n",
              "      <td>7.7500</td>\n",
              "      <td>NaN</td>\n",
              "      <td>Q</td>\n",
              "      <td>0</td>\n",
              "    </tr>\n",
              "  </tbody>\n",
              "</table>\n",
              "<p>891 rows × 10 columns</p>\n",
              "</div>"
            ],
            "text/plain": [
              "     PassengerId  Survived  Pclass  Name  ...     Fare  Cabin  Embarked Alone\n",
              "0              1         0       3     0  ...   7.2500    NaN         S     1\n",
              "1              2         1       1     2  ...  71.2833    C85         C     1\n",
              "2              3         1       3     1  ...   7.9250    NaN         S     0\n",
              "3              4         1       1     2  ...  53.1000   C123         S     1\n",
              "4              5         0       3     0  ...   8.0500    NaN         S     0\n",
              "..           ...       ...     ...   ...  ...      ...    ...       ...   ...\n",
              "886          887         0       2     2  ...  13.0000    NaN         S     0\n",
              "887          888         1       1     4  ...  30.0000    B42         S     0\n",
              "888          889         0       3     1  ...  23.4500    NaN         S     3\n",
              "889          890         1       1     1  ...  30.0000   C148         C     0\n",
              "890          891         0       3     0  ...   7.7500    NaN         Q     0\n",
              "\n",
              "[891 rows x 10 columns]"
            ]
          },
          "metadata": {
            "tags": []
          },
          "execution_count": 50
        }
      ]
    },
    {
      "cell_type": "code",
      "metadata": {
        "id": "1GMLYn8ClQoh",
        "colab": {
          "base_uri": "https://localhost:8080/"
        },
        "outputId": "bd0a13c4-e7d7-4016-fc14-d3b8676a63c2"
      },
      "source": [
        "for all_data in combine:\n",
        "  all_data.loc[all_data['Alone']==0,'Alone'] = 0\n",
        "  all_data.loc[all_data['Alone']!=0,'Alone'] = 1\n",
        "\n",
        "train_df\n",
        "\n"
      ],
      "execution_count": null,
      "outputs": [
        {
          "output_type": "execute_result",
          "data": {
            "text/html": [
              "<div>\n",
              "<style scoped>\n",
              "    .dataframe tbody tr th:only-of-type {\n",
              "        vertical-align: middle;\n",
              "    }\n",
              "\n",
              "    .dataframe tbody tr th {\n",
              "        vertical-align: top;\n",
              "    }\n",
              "\n",
              "    .dataframe thead th {\n",
              "        text-align: right;\n",
              "    }\n",
              "</style>\n",
              "<table border=\"1\" class=\"dataframe\">\n",
              "  <thead>\n",
              "    <tr style=\"text-align: right;\">\n",
              "      <th></th>\n",
              "      <th>PassengerId</th>\n",
              "      <th>Survived</th>\n",
              "      <th>Pclass</th>\n",
              "      <th>Name</th>\n",
              "      <th>Sex</th>\n",
              "      <th>Age</th>\n",
              "      <th>Fare</th>\n",
              "      <th>Cabin</th>\n",
              "      <th>Embarked</th>\n",
              "      <th>Alone</th>\n",
              "    </tr>\n",
              "  </thead>\n",
              "  <tbody>\n",
              "    <tr>\n",
              "      <th>0</th>\n",
              "      <td>1</td>\n",
              "      <td>0</td>\n",
              "      <td>3</td>\n",
              "      <td>0</td>\n",
              "      <td>0</td>\n",
              "      <td>1</td>\n",
              "      <td>7.2500</td>\n",
              "      <td>NaN</td>\n",
              "      <td>S</td>\n",
              "      <td>1</td>\n",
              "    </tr>\n",
              "    <tr>\n",
              "      <th>1</th>\n",
              "      <td>2</td>\n",
              "      <td>1</td>\n",
              "      <td>1</td>\n",
              "      <td>2</td>\n",
              "      <td>1</td>\n",
              "      <td>2</td>\n",
              "      <td>71.2833</td>\n",
              "      <td>C85</td>\n",
              "      <td>C</td>\n",
              "      <td>1</td>\n",
              "    </tr>\n",
              "    <tr>\n",
              "      <th>2</th>\n",
              "      <td>3</td>\n",
              "      <td>1</td>\n",
              "      <td>3</td>\n",
              "      <td>1</td>\n",
              "      <td>1</td>\n",
              "      <td>1</td>\n",
              "      <td>7.9250</td>\n",
              "      <td>NaN</td>\n",
              "      <td>S</td>\n",
              "      <td>0</td>\n",
              "    </tr>\n",
              "    <tr>\n",
              "      <th>3</th>\n",
              "      <td>4</td>\n",
              "      <td>1</td>\n",
              "      <td>1</td>\n",
              "      <td>2</td>\n",
              "      <td>1</td>\n",
              "      <td>2</td>\n",
              "      <td>53.1000</td>\n",
              "      <td>C123</td>\n",
              "      <td>S</td>\n",
              "      <td>1</td>\n",
              "    </tr>\n",
              "    <tr>\n",
              "      <th>4</th>\n",
              "      <td>5</td>\n",
              "      <td>0</td>\n",
              "      <td>3</td>\n",
              "      <td>0</td>\n",
              "      <td>0</td>\n",
              "      <td>2</td>\n",
              "      <td>8.0500</td>\n",
              "      <td>NaN</td>\n",
              "      <td>S</td>\n",
              "      <td>0</td>\n",
              "    </tr>\n",
              "    <tr>\n",
              "      <th>...</th>\n",
              "      <td>...</td>\n",
              "      <td>...</td>\n",
              "      <td>...</td>\n",
              "      <td>...</td>\n",
              "      <td>...</td>\n",
              "      <td>...</td>\n",
              "      <td>...</td>\n",
              "      <td>...</td>\n",
              "      <td>...</td>\n",
              "      <td>...</td>\n",
              "    </tr>\n",
              "    <tr>\n",
              "      <th>886</th>\n",
              "      <td>887</td>\n",
              "      <td>0</td>\n",
              "      <td>2</td>\n",
              "      <td>2</td>\n",
              "      <td>0</td>\n",
              "      <td>1</td>\n",
              "      <td>13.0000</td>\n",
              "      <td>NaN</td>\n",
              "      <td>S</td>\n",
              "      <td>0</td>\n",
              "    </tr>\n",
              "    <tr>\n",
              "      <th>887</th>\n",
              "      <td>888</td>\n",
              "      <td>1</td>\n",
              "      <td>1</td>\n",
              "      <td>4</td>\n",
              "      <td>1</td>\n",
              "      <td>1</td>\n",
              "      <td>30.0000</td>\n",
              "      <td>B42</td>\n",
              "      <td>S</td>\n",
              "      <td>0</td>\n",
              "    </tr>\n",
              "    <tr>\n",
              "      <th>888</th>\n",
              "      <td>889</td>\n",
              "      <td>0</td>\n",
              "      <td>3</td>\n",
              "      <td>1</td>\n",
              "      <td>1</td>\n",
              "      <td>1</td>\n",
              "      <td>23.4500</td>\n",
              "      <td>NaN</td>\n",
              "      <td>S</td>\n",
              "      <td>1</td>\n",
              "    </tr>\n",
              "    <tr>\n",
              "      <th>889</th>\n",
              "      <td>890</td>\n",
              "      <td>1</td>\n",
              "      <td>1</td>\n",
              "      <td>1</td>\n",
              "      <td>0</td>\n",
              "      <td>1</td>\n",
              "      <td>30.0000</td>\n",
              "      <td>C148</td>\n",
              "      <td>C</td>\n",
              "      <td>0</td>\n",
              "    </tr>\n",
              "    <tr>\n",
              "      <th>890</th>\n",
              "      <td>891</td>\n",
              "      <td>0</td>\n",
              "      <td>3</td>\n",
              "      <td>0</td>\n",
              "      <td>0</td>\n",
              "      <td>1</td>\n",
              "      <td>7.7500</td>\n",
              "      <td>NaN</td>\n",
              "      <td>Q</td>\n",
              "      <td>0</td>\n",
              "    </tr>\n",
              "  </tbody>\n",
              "</table>\n",
              "<p>891 rows × 10 columns</p>\n",
              "</div>"
            ],
            "text/plain": [
              "     PassengerId  Survived  Pclass  Name  ...     Fare  Cabin  Embarked Alone\n",
              "0              1         0       3     0  ...   7.2500    NaN         S     1\n",
              "1              2         1       1     2  ...  71.2833    C85         C     1\n",
              "2              3         1       3     1  ...   7.9250    NaN         S     0\n",
              "3              4         1       1     2  ...  53.1000   C123         S     1\n",
              "4              5         0       3     0  ...   8.0500    NaN         S     0\n",
              "..           ...       ...     ...   ...  ...      ...    ...       ...   ...\n",
              "886          887         0       2     2  ...  13.0000    NaN         S     0\n",
              "887          888         1       1     4  ...  30.0000    B42         S     0\n",
              "888          889         0       3     1  ...  23.4500    NaN         S     1\n",
              "889          890         1       1     1  ...  30.0000   C148         C     0\n",
              "890          891         0       3     0  ...   7.7500    NaN         Q     0\n",
              "\n",
              "[891 rows x 10 columns]"
            ]
          },
          "metadata": {
            "tags": []
          },
          "execution_count": 51
        }
      ]
    },
    {
      "cell_type": "code",
      "metadata": {
        "colab": {
          "base_uri": "https://localhost:8080/"
        },
        "id": "Uh0gd3TYXgrQ",
        "outputId": "3ff7da59-b491-4790-9ad2-3d135b3d22a0"
      },
      "source": [
        "train_df.info()"
      ],
      "execution_count": null,
      "outputs": [
        {
          "output_type": "stream",
          "text": [
            "<class 'pandas.core.frame.DataFrame'>\n",
            "RangeIndex: 891 entries, 0 to 890\n",
            "Data columns (total 10 columns):\n",
            " #   Column       Non-Null Count  Dtype  \n",
            "---  ------       --------------  -----  \n",
            " 0   PassengerId  891 non-null    int64  \n",
            " 1   Survived     891 non-null    int64  \n",
            " 2   Pclass       891 non-null    int64  \n",
            " 3   Name         891 non-null    int64  \n",
            " 4   Sex          891 non-null    int64  \n",
            " 5   Age          891 non-null    int64  \n",
            " 6   Fare         891 non-null    float64\n",
            " 7   Cabin        204 non-null    object \n",
            " 8   Embarked     889 non-null    object \n",
            " 9   Alone        891 non-null    int64  \n",
            "dtypes: float64(1), int64(7), object(2)\n",
            "memory usage: 69.7+ KB\n"
          ],
          "name": "stdout"
        }
      ]
    },
    {
      "cell_type": "code",
      "metadata": {
        "colab": {
          "base_uri": "https://localhost:8080/"
        },
        "id": "dksVfIojXoWI",
        "outputId": "35fd4f1f-498b-4ce4-b115-5113e2817adf"
      },
      "source": [
        "test_df.info()"
      ],
      "execution_count": null,
      "outputs": [
        {
          "output_type": "stream",
          "text": [
            "<class 'pandas.core.frame.DataFrame'>\n",
            "RangeIndex: 418 entries, 0 to 417\n",
            "Data columns (total 9 columns):\n",
            " #   Column       Non-Null Count  Dtype  \n",
            "---  ------       --------------  -----  \n",
            " 0   PassengerId  418 non-null    int64  \n",
            " 1   Pclass       418 non-null    int64  \n",
            " 2   Name         418 non-null    int64  \n",
            " 3   Sex          418 non-null    int64  \n",
            " 4   Age          418 non-null    int64  \n",
            " 5   Fare         417 non-null    float64\n",
            " 6   Cabin        91 non-null     object \n",
            " 7   Embarked     418 non-null    object \n",
            " 8   Alone        418 non-null    int64  \n",
            "dtypes: float64(1), int64(6), object(2)\n",
            "memory usage: 29.5+ KB\n"
          ],
          "name": "stdout"
        }
      ]
    },
    {
      "cell_type": "markdown",
      "metadata": {
        "id": "lhiLK7_fYteh"
      },
      "source": [
        "## Fare 컬럼 전처리"
      ]
    },
    {
      "cell_type": "code",
      "metadata": {
        "colab": {
          "base_uri": "https://localhost:8080/"
        },
        "id": "u9OfZ1L1YtEy",
        "outputId": "961572ed-5a7e-42a0-e20a-5a5b8f2eac6f"
      },
      "source": [
        "train_df['Fare'].head(15)"
      ],
      "execution_count": null,
      "outputs": [
        {
          "output_type": "execute_result",
          "data": {
            "text/plain": [
              "0      7.2500\n",
              "1     71.2833\n",
              "2      7.9250\n",
              "3     53.1000\n",
              "4      8.0500\n",
              "5      8.4583\n",
              "6     51.8625\n",
              "7     21.0750\n",
              "8     11.1333\n",
              "9     30.0708\n",
              "10    16.7000\n",
              "11    26.5500\n",
              "12     8.0500\n",
              "13    31.2750\n",
              "14     7.8542\n",
              "Name: Fare, dtype: float64"
            ]
          },
          "metadata": {
            "tags": []
          },
          "execution_count": 54
        }
      ]
    },
    {
      "cell_type": "markdown",
      "metadata": {
        "id": "cBubSviaFbbi"
      },
      "source": [
        "Fare의 경우에는 1개의 결측값이 있어 중간값으로 채워주었다."
      ]
    },
    {
      "cell_type": "code",
      "metadata": {
        "id": "w96Yvw3TXom4",
        "colab": {
          "base_uri": "https://localhost:8080/"
        },
        "outputId": "4d0f92cb-356a-4b33-e85b-91469e1501c4"
      },
      "source": [
        "for total_df in combine:\n",
        "  total_df['Fare'] = total_df['Fare'].fillna(total_df['Fare'].median()).round()\n",
        "\n",
        "test_df['Fare']"
      ],
      "execution_count": null,
      "outputs": [
        {
          "output_type": "execute_result",
          "data": {
            "text/plain": [
              "0        8.0\n",
              "1        7.0\n",
              "2       10.0\n",
              "3        9.0\n",
              "4       12.0\n",
              "       ...  \n",
              "413      8.0\n",
              "414    109.0\n",
              "415      7.0\n",
              "416      8.0\n",
              "417     22.0\n",
              "Name: Fare, Length: 418, dtype: float64"
            ]
          },
          "metadata": {
            "tags": []
          },
          "execution_count": 55
        }
      ]
    },
    {
      "cell_type": "code",
      "metadata": {
        "colab": {
          "base_uri": "https://localhost:8080/"
        },
        "id": "FeCKSt9K588b",
        "outputId": "3c6cf73d-609a-418d-de23-4d4ea81647d9"
      },
      "source": [
        "# train_df[['Fare','Survived']].groupby('Fare',as_index = False).mean().tail(20)\n",
        "# train_df[['Fare','Survived']].groupby('Fare',as_index = False).count().tail(20)\n",
        "train_df[['Fare','Survived']].groupby('Fare',as_index = False).mean().tail(20)"
      ],
      "execution_count": null,
      "outputs": [
        {
          "output_type": "execute_result",
          "data": {
            "text/html": [
              "<div>\n",
              "<style scoped>\n",
              "    .dataframe tbody tr th:only-of-type {\n",
              "        vertical-align: middle;\n",
              "    }\n",
              "\n",
              "    .dataframe tbody tr th {\n",
              "        vertical-align: top;\n",
              "    }\n",
              "\n",
              "    .dataframe thead th {\n",
              "        text-align: right;\n",
              "    }\n",
              "</style>\n",
              "<table border=\"1\" class=\"dataframe\">\n",
              "  <thead>\n",
              "    <tr style=\"text-align: right;\">\n",
              "      <th></th>\n",
              "      <th>Fare</th>\n",
              "      <th>Survived</th>\n",
              "    </tr>\n",
              "  </thead>\n",
              "  <tbody>\n",
              "    <tr>\n",
              "      <th>70</th>\n",
              "      <td>94.0</td>\n",
              "      <td>1.000000</td>\n",
              "    </tr>\n",
              "    <tr>\n",
              "      <th>71</th>\n",
              "      <td>106.0</td>\n",
              "      <td>0.500000</td>\n",
              "    </tr>\n",
              "    <tr>\n",
              "      <th>72</th>\n",
              "      <td>109.0</td>\n",
              "      <td>0.500000</td>\n",
              "    </tr>\n",
              "    <tr>\n",
              "      <th>73</th>\n",
              "      <td>111.0</td>\n",
              "      <td>0.750000</td>\n",
              "    </tr>\n",
              "    <tr>\n",
              "      <th>74</th>\n",
              "      <td>113.0</td>\n",
              "      <td>0.666667</td>\n",
              "    </tr>\n",
              "    <tr>\n",
              "      <th>75</th>\n",
              "      <td>120.0</td>\n",
              "      <td>1.000000</td>\n",
              "    </tr>\n",
              "    <tr>\n",
              "      <th>76</th>\n",
              "      <td>134.0</td>\n",
              "      <td>1.000000</td>\n",
              "    </tr>\n",
              "    <tr>\n",
              "      <th>77</th>\n",
              "      <td>136.0</td>\n",
              "      <td>0.666667</td>\n",
              "    </tr>\n",
              "    <tr>\n",
              "      <th>78</th>\n",
              "      <td>147.0</td>\n",
              "      <td>1.000000</td>\n",
              "    </tr>\n",
              "    <tr>\n",
              "      <th>79</th>\n",
              "      <td>152.0</td>\n",
              "      <td>0.500000</td>\n",
              "    </tr>\n",
              "    <tr>\n",
              "      <th>80</th>\n",
              "      <td>153.0</td>\n",
              "      <td>0.666667</td>\n",
              "    </tr>\n",
              "    <tr>\n",
              "      <th>81</th>\n",
              "      <td>165.0</td>\n",
              "      <td>1.000000</td>\n",
              "    </tr>\n",
              "    <tr>\n",
              "      <th>82</th>\n",
              "      <td>211.0</td>\n",
              "      <td>1.000000</td>\n",
              "    </tr>\n",
              "    <tr>\n",
              "      <th>83</th>\n",
              "      <td>212.0</td>\n",
              "      <td>0.000000</td>\n",
              "    </tr>\n",
              "    <tr>\n",
              "      <th>84</th>\n",
              "      <td>222.0</td>\n",
              "      <td>0.000000</td>\n",
              "    </tr>\n",
              "    <tr>\n",
              "      <th>85</th>\n",
              "      <td>228.0</td>\n",
              "      <td>0.750000</td>\n",
              "    </tr>\n",
              "    <tr>\n",
              "      <th>86</th>\n",
              "      <td>248.0</td>\n",
              "      <td>0.500000</td>\n",
              "    </tr>\n",
              "    <tr>\n",
              "      <th>87</th>\n",
              "      <td>262.0</td>\n",
              "      <td>1.000000</td>\n",
              "    </tr>\n",
              "    <tr>\n",
              "      <th>88</th>\n",
              "      <td>263.0</td>\n",
              "      <td>0.500000</td>\n",
              "    </tr>\n",
              "    <tr>\n",
              "      <th>89</th>\n",
              "      <td>512.0</td>\n",
              "      <td>1.000000</td>\n",
              "    </tr>\n",
              "  </tbody>\n",
              "</table>\n",
              "</div>"
            ],
            "text/plain": [
              "     Fare  Survived\n",
              "70   94.0  1.000000\n",
              "71  106.0  0.500000\n",
              "72  109.0  0.500000\n",
              "73  111.0  0.750000\n",
              "74  113.0  0.666667\n",
              "75  120.0  1.000000\n",
              "76  134.0  1.000000\n",
              "77  136.0  0.666667\n",
              "78  147.0  1.000000\n",
              "79  152.0  0.500000\n",
              "80  153.0  0.666667\n",
              "81  165.0  1.000000\n",
              "82  211.0  1.000000\n",
              "83  212.0  0.000000\n",
              "84  222.0  0.000000\n",
              "85  228.0  0.750000\n",
              "86  248.0  0.500000\n",
              "87  262.0  1.000000\n",
              "88  263.0  0.500000\n",
              "89  512.0  1.000000"
            ]
          },
          "metadata": {
            "tags": []
          },
          "execution_count": 56
        }
      ]
    },
    {
      "cell_type": "code",
      "metadata": {
        "colab": {
          "base_uri": "https://localhost:8080/"
        },
        "id": "rjsPHAaFCa7i",
        "outputId": "ec5aaae3-e791-4a59-b591-7fddf1b67b48"
      },
      "source": [
        "train_df.info()"
      ],
      "execution_count": null,
      "outputs": [
        {
          "output_type": "stream",
          "text": [
            "<class 'pandas.core.frame.DataFrame'>\n",
            "RangeIndex: 891 entries, 0 to 890\n",
            "Data columns (total 10 columns):\n",
            " #   Column       Non-Null Count  Dtype  \n",
            "---  ------       --------------  -----  \n",
            " 0   PassengerId  891 non-null    int64  \n",
            " 1   Survived     891 non-null    int64  \n",
            " 2   Pclass       891 non-null    int64  \n",
            " 3   Name         891 non-null    int64  \n",
            " 4   Sex          891 non-null    int64  \n",
            " 5   Age          891 non-null    int64  \n",
            " 6   Fare         891 non-null    float64\n",
            " 7   Cabin        204 non-null    object \n",
            " 8   Embarked     889 non-null    object \n",
            " 9   Alone        891 non-null    int64  \n",
            "dtypes: float64(1), int64(7), object(2)\n",
            "memory usage: 69.7+ KB\n"
          ],
          "name": "stdout"
        }
      ]
    },
    {
      "cell_type": "code",
      "metadata": {
        "id": "pEGWbSwI2nDD"
      },
      "source": [
        "#for total_df in combine:\n",
        "#  total_df['Fare'] = pd.qcut(total_df['Fare'],4).astype\n",
        "  \n",
        "\n",
        "#train_df  \n",
        "#test_df"
      ],
      "execution_count": null,
      "outputs": []
    },
    {
      "cell_type": "code",
      "metadata": {
        "id": "3qqnQxcr9BXh"
      },
      "source": [
        "#train_df['Fare'].unique()"
      ],
      "execution_count": null,
      "outputs": []
    },
    {
      "cell_type": "code",
      "metadata": {
        "id": "5VojPC-j-Zxn"
      },
      "source": [
        "#test_df['Fare'].unique()"
      ],
      "execution_count": null,
      "outputs": []
    },
    {
      "cell_type": "markdown",
      "metadata": {
        "id": "xwwhtNXJ-e1j"
      },
      "source": [
        "높은 Fare의 분포가 현저히 작으므로 pd.cut을 통한 일정한 간격보다는 pd.qcut을 통해 같은 인원수로 묶어주었다. "
      ]
    },
    {
      "cell_type": "code",
      "metadata": {
        "colab": {
          "base_uri": "https://localhost:8080/"
        },
        "id": "fXK8xD6NKxWP",
        "outputId": "730e6f14-42c9-4208-ced0-73bb76a32e04"
      },
      "source": [
        "train_df.info()"
      ],
      "execution_count": null,
      "outputs": [
        {
          "output_type": "stream",
          "text": [
            "<class 'pandas.core.frame.DataFrame'>\n",
            "RangeIndex: 891 entries, 0 to 890\n",
            "Data columns (total 10 columns):\n",
            " #   Column       Non-Null Count  Dtype  \n",
            "---  ------       --------------  -----  \n",
            " 0   PassengerId  891 non-null    int64  \n",
            " 1   Survived     891 non-null    int64  \n",
            " 2   Pclass       891 non-null    int64  \n",
            " 3   Name         891 non-null    int64  \n",
            " 4   Sex          891 non-null    int64  \n",
            " 5   Age          891 non-null    int64  \n",
            " 6   Fare         891 non-null    float64\n",
            " 7   Cabin        204 non-null    object \n",
            " 8   Embarked     889 non-null    object \n",
            " 9   Alone        891 non-null    int64  \n",
            "dtypes: float64(1), int64(7), object(2)\n",
            "memory usage: 69.7+ KB\n"
          ],
          "name": "stdout"
        }
      ]
    },
    {
      "cell_type": "code",
      "metadata": {
        "colab": {
          "base_uri": "https://localhost:8080/"
        },
        "id": "UBz_izZsK1py",
        "outputId": "cb3943c8-4eaa-4226-897b-61356fb6367b"
      },
      "source": [
        "test_df.info()"
      ],
      "execution_count": null,
      "outputs": [
        {
          "output_type": "stream",
          "text": [
            "<class 'pandas.core.frame.DataFrame'>\n",
            "RangeIndex: 418 entries, 0 to 417\n",
            "Data columns (total 9 columns):\n",
            " #   Column       Non-Null Count  Dtype  \n",
            "---  ------       --------------  -----  \n",
            " 0   PassengerId  418 non-null    int64  \n",
            " 1   Pclass       418 non-null    int64  \n",
            " 2   Name         418 non-null    int64  \n",
            " 3   Sex          418 non-null    int64  \n",
            " 4   Age          418 non-null    int64  \n",
            " 5   Fare         418 non-null    float64\n",
            " 6   Cabin        91 non-null     object \n",
            " 7   Embarked     418 non-null    object \n",
            " 8   Alone        418 non-null    int64  \n",
            "dtypes: float64(1), int64(6), object(2)\n",
            "memory usage: 29.5+ KB\n"
          ],
          "name": "stdout"
        }
      ]
    },
    {
      "cell_type": "markdown",
      "metadata": {
        "id": "XMxAyLPALTh-"
      },
      "source": [
        "categorical데이터는 연산이 안되어 다음과 같은 방법으로 바꾸어 주었다."
      ]
    },
    {
      "cell_type": "code",
      "metadata": {
        "colab": {
          "base_uri": "https://localhost:8080/"
        },
        "id": "bijAG50U-bRX",
        "outputId": "b8358f71-d1c0-4cb1-ecb8-5fd52a413607"
      },
      "source": [
        "for total_df in combine:\n",
        "  total_df.loc[total_df['Fare'] <= 8.0 ,'Fare'] = 0\n",
        "  total_df.loc[(total_df['Fare'] > 8.0) & (total_df['Fare'] <= 14.0) ,'Fare'] = 1\n",
        "  total_df.loc[(total_df['Fare'] > 14.0) & (total_df['Fare'] <= 31.75),'Fare'] = 2\n",
        "  total_df.loc[(total_df['Fare'] > 31.75) & (total_df['Fare'] <= 512.0),'Fare'] = 3\n",
        "\n",
        "  total_df['Fare'] = total_df['Fare'].astype(int)\n",
        "  \n",
        "train_df.head()"
      ],
      "execution_count": null,
      "outputs": [
        {
          "output_type": "execute_result",
          "data": {
            "text/html": [
              "<div>\n",
              "<style scoped>\n",
              "    .dataframe tbody tr th:only-of-type {\n",
              "        vertical-align: middle;\n",
              "    }\n",
              "\n",
              "    .dataframe tbody tr th {\n",
              "        vertical-align: top;\n",
              "    }\n",
              "\n",
              "    .dataframe thead th {\n",
              "        text-align: right;\n",
              "    }\n",
              "</style>\n",
              "<table border=\"1\" class=\"dataframe\">\n",
              "  <thead>\n",
              "    <tr style=\"text-align: right;\">\n",
              "      <th></th>\n",
              "      <th>PassengerId</th>\n",
              "      <th>Survived</th>\n",
              "      <th>Pclass</th>\n",
              "      <th>Name</th>\n",
              "      <th>Sex</th>\n",
              "      <th>Age</th>\n",
              "      <th>Fare</th>\n",
              "      <th>Cabin</th>\n",
              "      <th>Embarked</th>\n",
              "      <th>Alone</th>\n",
              "    </tr>\n",
              "  </thead>\n",
              "  <tbody>\n",
              "    <tr>\n",
              "      <th>0</th>\n",
              "      <td>1</td>\n",
              "      <td>0</td>\n",
              "      <td>3</td>\n",
              "      <td>0</td>\n",
              "      <td>0</td>\n",
              "      <td>1</td>\n",
              "      <td>0</td>\n",
              "      <td>NaN</td>\n",
              "      <td>S</td>\n",
              "      <td>1</td>\n",
              "    </tr>\n",
              "    <tr>\n",
              "      <th>1</th>\n",
              "      <td>2</td>\n",
              "      <td>1</td>\n",
              "      <td>1</td>\n",
              "      <td>2</td>\n",
              "      <td>1</td>\n",
              "      <td>2</td>\n",
              "      <td>3</td>\n",
              "      <td>C85</td>\n",
              "      <td>C</td>\n",
              "      <td>1</td>\n",
              "    </tr>\n",
              "    <tr>\n",
              "      <th>2</th>\n",
              "      <td>3</td>\n",
              "      <td>1</td>\n",
              "      <td>3</td>\n",
              "      <td>1</td>\n",
              "      <td>1</td>\n",
              "      <td>1</td>\n",
              "      <td>0</td>\n",
              "      <td>NaN</td>\n",
              "      <td>S</td>\n",
              "      <td>0</td>\n",
              "    </tr>\n",
              "    <tr>\n",
              "      <th>3</th>\n",
              "      <td>4</td>\n",
              "      <td>1</td>\n",
              "      <td>1</td>\n",
              "      <td>2</td>\n",
              "      <td>1</td>\n",
              "      <td>2</td>\n",
              "      <td>3</td>\n",
              "      <td>C123</td>\n",
              "      <td>S</td>\n",
              "      <td>1</td>\n",
              "    </tr>\n",
              "    <tr>\n",
              "      <th>4</th>\n",
              "      <td>5</td>\n",
              "      <td>0</td>\n",
              "      <td>3</td>\n",
              "      <td>0</td>\n",
              "      <td>0</td>\n",
              "      <td>2</td>\n",
              "      <td>0</td>\n",
              "      <td>NaN</td>\n",
              "      <td>S</td>\n",
              "      <td>0</td>\n",
              "    </tr>\n",
              "  </tbody>\n",
              "</table>\n",
              "</div>"
            ],
            "text/plain": [
              "   PassengerId  Survived  Pclass  Name  Sex  Age  Fare Cabin Embarked  Alone\n",
              "0            1         0       3     0    0    1     0   NaN        S      1\n",
              "1            2         1       1     2    1    2     3   C85        C      1\n",
              "2            3         1       3     1    1    1     0   NaN        S      0\n",
              "3            4         1       1     2    1    2     3  C123        S      1\n",
              "4            5         0       3     0    0    2     0   NaN        S      0"
            ]
          },
          "metadata": {
            "tags": []
          },
          "execution_count": 63
        }
      ]
    },
    {
      "cell_type": "code",
      "metadata": {
        "colab": {
          "base_uri": "https://localhost:8080/"
        },
        "id": "2FMtdjsI_sm_",
        "outputId": "203cf38a-74f2-4065-fcf2-fda4bb320c94"
      },
      "source": [
        "train_df.head()"
      ],
      "execution_count": null,
      "outputs": [
        {
          "output_type": "execute_result",
          "data": {
            "text/html": [
              "<div>\n",
              "<style scoped>\n",
              "    .dataframe tbody tr th:only-of-type {\n",
              "        vertical-align: middle;\n",
              "    }\n",
              "\n",
              "    .dataframe tbody tr th {\n",
              "        vertical-align: top;\n",
              "    }\n",
              "\n",
              "    .dataframe thead th {\n",
              "        text-align: right;\n",
              "    }\n",
              "</style>\n",
              "<table border=\"1\" class=\"dataframe\">\n",
              "  <thead>\n",
              "    <tr style=\"text-align: right;\">\n",
              "      <th></th>\n",
              "      <th>PassengerId</th>\n",
              "      <th>Survived</th>\n",
              "      <th>Pclass</th>\n",
              "      <th>Name</th>\n",
              "      <th>Sex</th>\n",
              "      <th>Age</th>\n",
              "      <th>Fare</th>\n",
              "      <th>Cabin</th>\n",
              "      <th>Embarked</th>\n",
              "      <th>Alone</th>\n",
              "    </tr>\n",
              "  </thead>\n",
              "  <tbody>\n",
              "    <tr>\n",
              "      <th>0</th>\n",
              "      <td>1</td>\n",
              "      <td>0</td>\n",
              "      <td>3</td>\n",
              "      <td>0</td>\n",
              "      <td>0</td>\n",
              "      <td>1</td>\n",
              "      <td>0</td>\n",
              "      <td>NaN</td>\n",
              "      <td>S</td>\n",
              "      <td>1</td>\n",
              "    </tr>\n",
              "    <tr>\n",
              "      <th>1</th>\n",
              "      <td>2</td>\n",
              "      <td>1</td>\n",
              "      <td>1</td>\n",
              "      <td>2</td>\n",
              "      <td>1</td>\n",
              "      <td>2</td>\n",
              "      <td>3</td>\n",
              "      <td>C85</td>\n",
              "      <td>C</td>\n",
              "      <td>1</td>\n",
              "    </tr>\n",
              "    <tr>\n",
              "      <th>2</th>\n",
              "      <td>3</td>\n",
              "      <td>1</td>\n",
              "      <td>3</td>\n",
              "      <td>1</td>\n",
              "      <td>1</td>\n",
              "      <td>1</td>\n",
              "      <td>0</td>\n",
              "      <td>NaN</td>\n",
              "      <td>S</td>\n",
              "      <td>0</td>\n",
              "    </tr>\n",
              "    <tr>\n",
              "      <th>3</th>\n",
              "      <td>4</td>\n",
              "      <td>1</td>\n",
              "      <td>1</td>\n",
              "      <td>2</td>\n",
              "      <td>1</td>\n",
              "      <td>2</td>\n",
              "      <td>3</td>\n",
              "      <td>C123</td>\n",
              "      <td>S</td>\n",
              "      <td>1</td>\n",
              "    </tr>\n",
              "    <tr>\n",
              "      <th>4</th>\n",
              "      <td>5</td>\n",
              "      <td>0</td>\n",
              "      <td>3</td>\n",
              "      <td>0</td>\n",
              "      <td>0</td>\n",
              "      <td>2</td>\n",
              "      <td>0</td>\n",
              "      <td>NaN</td>\n",
              "      <td>S</td>\n",
              "      <td>0</td>\n",
              "    </tr>\n",
              "  </tbody>\n",
              "</table>\n",
              "</div>"
            ],
            "text/plain": [
              "   PassengerId  Survived  Pclass  Name  Sex  Age  Fare Cabin Embarked  Alone\n",
              "0            1         0       3     0    0    1     0   NaN        S      1\n",
              "1            2         1       1     2    1    2     3   C85        C      1\n",
              "2            3         1       3     1    1    1     0   NaN        S      0\n",
              "3            4         1       1     2    1    2     3  C123        S      1\n",
              "4            5         0       3     0    0    2     0   NaN        S      0"
            ]
          },
          "metadata": {
            "tags": []
          },
          "execution_count": 64
        }
      ]
    },
    {
      "cell_type": "code",
      "metadata": {
        "colab": {
          "base_uri": "https://localhost:8080/"
        },
        "id": "lzpbuVAKCFTI",
        "outputId": "b9997ff4-f20d-4655-d484-362ac27bc8da"
      },
      "source": [
        "test_df.head()"
      ],
      "execution_count": null,
      "outputs": [
        {
          "output_type": "execute_result",
          "data": {
            "text/html": [
              "<div>\n",
              "<style scoped>\n",
              "    .dataframe tbody tr th:only-of-type {\n",
              "        vertical-align: middle;\n",
              "    }\n",
              "\n",
              "    .dataframe tbody tr th {\n",
              "        vertical-align: top;\n",
              "    }\n",
              "\n",
              "    .dataframe thead th {\n",
              "        text-align: right;\n",
              "    }\n",
              "</style>\n",
              "<table border=\"1\" class=\"dataframe\">\n",
              "  <thead>\n",
              "    <tr style=\"text-align: right;\">\n",
              "      <th></th>\n",
              "      <th>PassengerId</th>\n",
              "      <th>Pclass</th>\n",
              "      <th>Name</th>\n",
              "      <th>Sex</th>\n",
              "      <th>Age</th>\n",
              "      <th>Fare</th>\n",
              "      <th>Cabin</th>\n",
              "      <th>Embarked</th>\n",
              "      <th>Alone</th>\n",
              "    </tr>\n",
              "  </thead>\n",
              "  <tbody>\n",
              "    <tr>\n",
              "      <th>0</th>\n",
              "      <td>892</td>\n",
              "      <td>3</td>\n",
              "      <td>0</td>\n",
              "      <td>0</td>\n",
              "      <td>2</td>\n",
              "      <td>0</td>\n",
              "      <td>NaN</td>\n",
              "      <td>Q</td>\n",
              "      <td>0</td>\n",
              "    </tr>\n",
              "    <tr>\n",
              "      <th>1</th>\n",
              "      <td>893</td>\n",
              "      <td>3</td>\n",
              "      <td>2</td>\n",
              "      <td>1</td>\n",
              "      <td>3</td>\n",
              "      <td>0</td>\n",
              "      <td>NaN</td>\n",
              "      <td>S</td>\n",
              "      <td>1</td>\n",
              "    </tr>\n",
              "    <tr>\n",
              "      <th>2</th>\n",
              "      <td>894</td>\n",
              "      <td>2</td>\n",
              "      <td>0</td>\n",
              "      <td>0</td>\n",
              "      <td>4</td>\n",
              "      <td>1</td>\n",
              "      <td>NaN</td>\n",
              "      <td>Q</td>\n",
              "      <td>0</td>\n",
              "    </tr>\n",
              "    <tr>\n",
              "      <th>3</th>\n",
              "      <td>895</td>\n",
              "      <td>3</td>\n",
              "      <td>0</td>\n",
              "      <td>0</td>\n",
              "      <td>1</td>\n",
              "      <td>1</td>\n",
              "      <td>NaN</td>\n",
              "      <td>S</td>\n",
              "      <td>0</td>\n",
              "    </tr>\n",
              "    <tr>\n",
              "      <th>4</th>\n",
              "      <td>896</td>\n",
              "      <td>3</td>\n",
              "      <td>2</td>\n",
              "      <td>1</td>\n",
              "      <td>1</td>\n",
              "      <td>1</td>\n",
              "      <td>NaN</td>\n",
              "      <td>S</td>\n",
              "      <td>1</td>\n",
              "    </tr>\n",
              "  </tbody>\n",
              "</table>\n",
              "</div>"
            ],
            "text/plain": [
              "   PassengerId  Pclass  Name  Sex  Age  Fare Cabin Embarked  Alone\n",
              "0          892       3     0    0    2     0   NaN        Q      0\n",
              "1          893       3     2    1    3     0   NaN        S      1\n",
              "2          894       2     0    0    4     1   NaN        Q      0\n",
              "3          895       3     0    0    1     1   NaN        S      0\n",
              "4          896       3     2    1    1     1   NaN        S      1"
            ]
          },
          "metadata": {
            "tags": []
          },
          "execution_count": 65
        }
      ]
    },
    {
      "cell_type": "code",
      "metadata": {
        "colab": {
          "base_uri": "https://localhost:8080/"
        },
        "id": "FmbyAlLOCHoX",
        "outputId": "04ed5368-becf-446c-d56a-e26183d72a12"
      },
      "source": [
        "train_df.info()"
      ],
      "execution_count": null,
      "outputs": [
        {
          "output_type": "stream",
          "text": [
            "<class 'pandas.core.frame.DataFrame'>\n",
            "RangeIndex: 891 entries, 0 to 890\n",
            "Data columns (total 10 columns):\n",
            " #   Column       Non-Null Count  Dtype \n",
            "---  ------       --------------  ----- \n",
            " 0   PassengerId  891 non-null    int64 \n",
            " 1   Survived     891 non-null    int64 \n",
            " 2   Pclass       891 non-null    int64 \n",
            " 3   Name         891 non-null    int64 \n",
            " 4   Sex          891 non-null    int64 \n",
            " 5   Age          891 non-null    int64 \n",
            " 6   Fare         891 non-null    int64 \n",
            " 7   Cabin        204 non-null    object\n",
            " 8   Embarked     889 non-null    object\n",
            " 9   Alone        891 non-null    int64 \n",
            "dtypes: int64(8), object(2)\n",
            "memory usage: 69.7+ KB\n"
          ],
          "name": "stdout"
        }
      ]
    },
    {
      "cell_type": "code",
      "metadata": {
        "colab": {
          "base_uri": "https://localhost:8080/"
        },
        "id": "niLb4vbWCKmQ",
        "outputId": "9fcf0d7b-915b-4ee4-f80e-4ac6119e1895"
      },
      "source": [
        "test_df.info()"
      ],
      "execution_count": null,
      "outputs": [
        {
          "output_type": "stream",
          "text": [
            "<class 'pandas.core.frame.DataFrame'>\n",
            "RangeIndex: 418 entries, 0 to 417\n",
            "Data columns (total 9 columns):\n",
            " #   Column       Non-Null Count  Dtype \n",
            "---  ------       --------------  ----- \n",
            " 0   PassengerId  418 non-null    int64 \n",
            " 1   Pclass       418 non-null    int64 \n",
            " 2   Name         418 non-null    int64 \n",
            " 3   Sex          418 non-null    int64 \n",
            " 4   Age          418 non-null    int64 \n",
            " 5   Fare         418 non-null    int64 \n",
            " 6   Cabin        91 non-null     object\n",
            " 7   Embarked     418 non-null    object\n",
            " 8   Alone        418 non-null    int64 \n",
            "dtypes: int64(7), object(2)\n",
            "memory usage: 29.5+ KB\n"
          ],
          "name": "stdout"
        }
      ]
    },
    {
      "cell_type": "markdown",
      "metadata": {
        "id": "gHy5Bw4ZEXXV"
      },
      "source": [
        "## Cabin 컬럼 전처리"
      ]
    },
    {
      "cell_type": "code",
      "metadata": {
        "colab": {
          "base_uri": "https://localhost:8080/"
        },
        "id": "IP0ioqF4Iamx",
        "outputId": "08d97ecc-8c38-40db-d292-53356b370704"
      },
      "source": [
        "for total_df in combine:\n",
        "  total_df = total_df.drop('Cabin', axis = 1, inplace = True)\n",
        "\n",
        "test_df"
      ],
      "execution_count": null,
      "outputs": [
        {
          "output_type": "execute_result",
          "data": {
            "text/html": [
              "<div>\n",
              "<style scoped>\n",
              "    .dataframe tbody tr th:only-of-type {\n",
              "        vertical-align: middle;\n",
              "    }\n",
              "\n",
              "    .dataframe tbody tr th {\n",
              "        vertical-align: top;\n",
              "    }\n",
              "\n",
              "    .dataframe thead th {\n",
              "        text-align: right;\n",
              "    }\n",
              "</style>\n",
              "<table border=\"1\" class=\"dataframe\">\n",
              "  <thead>\n",
              "    <tr style=\"text-align: right;\">\n",
              "      <th></th>\n",
              "      <th>PassengerId</th>\n",
              "      <th>Pclass</th>\n",
              "      <th>Name</th>\n",
              "      <th>Sex</th>\n",
              "      <th>Age</th>\n",
              "      <th>Fare</th>\n",
              "      <th>Embarked</th>\n",
              "      <th>Alone</th>\n",
              "    </tr>\n",
              "  </thead>\n",
              "  <tbody>\n",
              "    <tr>\n",
              "      <th>0</th>\n",
              "      <td>892</td>\n",
              "      <td>3</td>\n",
              "      <td>0</td>\n",
              "      <td>0</td>\n",
              "      <td>2</td>\n",
              "      <td>0</td>\n",
              "      <td>Q</td>\n",
              "      <td>0</td>\n",
              "    </tr>\n",
              "    <tr>\n",
              "      <th>1</th>\n",
              "      <td>893</td>\n",
              "      <td>3</td>\n",
              "      <td>2</td>\n",
              "      <td>1</td>\n",
              "      <td>3</td>\n",
              "      <td>0</td>\n",
              "      <td>S</td>\n",
              "      <td>1</td>\n",
              "    </tr>\n",
              "    <tr>\n",
              "      <th>2</th>\n",
              "      <td>894</td>\n",
              "      <td>2</td>\n",
              "      <td>0</td>\n",
              "      <td>0</td>\n",
              "      <td>4</td>\n",
              "      <td>1</td>\n",
              "      <td>Q</td>\n",
              "      <td>0</td>\n",
              "    </tr>\n",
              "    <tr>\n",
              "      <th>3</th>\n",
              "      <td>895</td>\n",
              "      <td>3</td>\n",
              "      <td>0</td>\n",
              "      <td>0</td>\n",
              "      <td>1</td>\n",
              "      <td>1</td>\n",
              "      <td>S</td>\n",
              "      <td>0</td>\n",
              "    </tr>\n",
              "    <tr>\n",
              "      <th>4</th>\n",
              "      <td>896</td>\n",
              "      <td>3</td>\n",
              "      <td>2</td>\n",
              "      <td>1</td>\n",
              "      <td>1</td>\n",
              "      <td>1</td>\n",
              "      <td>S</td>\n",
              "      <td>1</td>\n",
              "    </tr>\n",
              "    <tr>\n",
              "      <th>...</th>\n",
              "      <td>...</td>\n",
              "      <td>...</td>\n",
              "      <td>...</td>\n",
              "      <td>...</td>\n",
              "      <td>...</td>\n",
              "      <td>...</td>\n",
              "      <td>...</td>\n",
              "      <td>...</td>\n",
              "    </tr>\n",
              "    <tr>\n",
              "      <th>413</th>\n",
              "      <td>1305</td>\n",
              "      <td>3</td>\n",
              "      <td>0</td>\n",
              "      <td>0</td>\n",
              "      <td>1</td>\n",
              "      <td>0</td>\n",
              "      <td>S</td>\n",
              "      <td>0</td>\n",
              "    </tr>\n",
              "    <tr>\n",
              "      <th>414</th>\n",
              "      <td>1306</td>\n",
              "      <td>1</td>\n",
              "      <td>4</td>\n",
              "      <td>1</td>\n",
              "      <td>2</td>\n",
              "      <td>3</td>\n",
              "      <td>C</td>\n",
              "      <td>0</td>\n",
              "    </tr>\n",
              "    <tr>\n",
              "      <th>415</th>\n",
              "      <td>1307</td>\n",
              "      <td>3</td>\n",
              "      <td>0</td>\n",
              "      <td>0</td>\n",
              "      <td>2</td>\n",
              "      <td>0</td>\n",
              "      <td>S</td>\n",
              "      <td>0</td>\n",
              "    </tr>\n",
              "    <tr>\n",
              "      <th>416</th>\n",
              "      <td>1308</td>\n",
              "      <td>3</td>\n",
              "      <td>0</td>\n",
              "      <td>0</td>\n",
              "      <td>1</td>\n",
              "      <td>0</td>\n",
              "      <td>S</td>\n",
              "      <td>0</td>\n",
              "    </tr>\n",
              "    <tr>\n",
              "      <th>417</th>\n",
              "      <td>1309</td>\n",
              "      <td>3</td>\n",
              "      <td>3</td>\n",
              "      <td>0</td>\n",
              "      <td>1</td>\n",
              "      <td>2</td>\n",
              "      <td>C</td>\n",
              "      <td>1</td>\n",
              "    </tr>\n",
              "  </tbody>\n",
              "</table>\n",
              "<p>418 rows × 8 columns</p>\n",
              "</div>"
            ],
            "text/plain": [
              "     PassengerId  Pclass  Name  Sex  Age  Fare Embarked  Alone\n",
              "0            892       3     0    0    2     0        Q      0\n",
              "1            893       3     2    1    3     0        S      1\n",
              "2            894       2     0    0    4     1        Q      0\n",
              "3            895       3     0    0    1     1        S      0\n",
              "4            896       3     2    1    1     1        S      1\n",
              "..           ...     ...   ...  ...  ...   ...      ...    ...\n",
              "413         1305       3     0    0    1     0        S      0\n",
              "414         1306       1     4    1    2     3        C      0\n",
              "415         1307       3     0    0    2     0        S      0\n",
              "416         1308       3     0    0    1     0        S      0\n",
              "417         1309       3     3    0    1     2        C      1\n",
              "\n",
              "[418 rows x 8 columns]"
            ]
          },
          "metadata": {
            "tags": []
          },
          "execution_count": 68
        }
      ]
    },
    {
      "cell_type": "code",
      "metadata": {
        "colab": {
          "base_uri": "https://localhost:8080/"
        },
        "id": "qpeNv7c4JKon",
        "outputId": "3c3b3f9b-4b80-4cfe-aced-f79a00a88d89"
      },
      "source": [
        "train_df.info()"
      ],
      "execution_count": null,
      "outputs": [
        {
          "output_type": "stream",
          "text": [
            "<class 'pandas.core.frame.DataFrame'>\n",
            "RangeIndex: 891 entries, 0 to 890\n",
            "Data columns (total 9 columns):\n",
            " #   Column       Non-Null Count  Dtype \n",
            "---  ------       --------------  ----- \n",
            " 0   PassengerId  891 non-null    int64 \n",
            " 1   Survived     891 non-null    int64 \n",
            " 2   Pclass       891 non-null    int64 \n",
            " 3   Name         891 non-null    int64 \n",
            " 4   Sex          891 non-null    int64 \n",
            " 5   Age          891 non-null    int64 \n",
            " 6   Fare         891 non-null    int64 \n",
            " 7   Embarked     889 non-null    object\n",
            " 8   Alone        891 non-null    int64 \n",
            "dtypes: int64(8), object(1)\n",
            "memory usage: 62.8+ KB\n"
          ],
          "name": "stdout"
        }
      ]
    },
    {
      "cell_type": "code",
      "metadata": {
        "colab": {
          "base_uri": "https://localhost:8080/"
        },
        "id": "Gn-P7D3bdHFM",
        "outputId": "ac74291b-5508-4114-9293-49037c7120a2"
      },
      "source": [
        "test_df.info()"
      ],
      "execution_count": null,
      "outputs": [
        {
          "output_type": "stream",
          "text": [
            "<class 'pandas.core.frame.DataFrame'>\n",
            "RangeIndex: 418 entries, 0 to 417\n",
            "Data columns (total 8 columns):\n",
            " #   Column       Non-Null Count  Dtype \n",
            "---  ------       --------------  ----- \n",
            " 0   PassengerId  418 non-null    int64 \n",
            " 1   Pclass       418 non-null    int64 \n",
            " 2   Name         418 non-null    int64 \n",
            " 3   Sex          418 non-null    int64 \n",
            " 4   Age          418 non-null    int64 \n",
            " 5   Fare         418 non-null    int64 \n",
            " 6   Embarked     418 non-null    object\n",
            " 7   Alone        418 non-null    int64 \n",
            "dtypes: int64(7), object(1)\n",
            "memory usage: 26.2+ KB\n"
          ],
          "name": "stdout"
        }
      ]
    },
    {
      "cell_type": "markdown",
      "metadata": {
        "id": "QiFx7G45JNx_"
      },
      "source": [
        "## Embarked 컬럼 전처리"
      ]
    },
    {
      "cell_type": "code",
      "metadata": {
        "colab": {
          "base_uri": "https://localhost:8080/"
        },
        "id": "Fap9L1F6JMyW",
        "outputId": "cf1ac0e8-ea7d-4671-91e1-cb1882b8060f"
      },
      "source": [
        "train_df['Embarked'].mode()"
      ],
      "execution_count": null,
      "outputs": [
        {
          "output_type": "execute_result",
          "data": {
            "text/plain": [
              "0    S\n",
              "dtype: object"
            ]
          },
          "metadata": {
            "tags": []
          },
          "execution_count": 71
        }
      ]
    },
    {
      "cell_type": "code",
      "metadata": {
        "colab": {
          "base_uri": "https://localhost:8080/"
        },
        "id": "GPR86fXxdalG",
        "outputId": "dc82605f-c7c3-46f8-a58c-ed933c15cb26"
      },
      "source": [
        "train_df['Embarked'] = train_df['Embarked'].fillna('S')\n",
        "train_df.info()"
      ],
      "execution_count": null,
      "outputs": [
        {
          "output_type": "stream",
          "text": [
            "<class 'pandas.core.frame.DataFrame'>\n",
            "RangeIndex: 891 entries, 0 to 890\n",
            "Data columns (total 9 columns):\n",
            " #   Column       Non-Null Count  Dtype \n",
            "---  ------       --------------  ----- \n",
            " 0   PassengerId  891 non-null    int64 \n",
            " 1   Survived     891 non-null    int64 \n",
            " 2   Pclass       891 non-null    int64 \n",
            " 3   Name         891 non-null    int64 \n",
            " 4   Sex          891 non-null    int64 \n",
            " 5   Age          891 non-null    int64 \n",
            " 6   Fare         891 non-null    int64 \n",
            " 7   Embarked     891 non-null    object\n",
            " 8   Alone        891 non-null    int64 \n",
            "dtypes: int64(8), object(1)\n",
            "memory usage: 62.8+ KB\n"
          ],
          "name": "stdout"
        }
      ]
    },
    {
      "cell_type": "code",
      "metadata": {
        "colab": {
          "base_uri": "https://localhost:8080/"
        },
        "id": "YZRA7h1dduYG",
        "outputId": "eef1cfec-7a9f-442b-9651-862315a40121"
      },
      "source": [
        "embarked_mapping = {'S' : 0, 'C' : 1, 'Q' : 2}\n",
        "\n",
        "for total_df in combine:\n",
        "  total_df['Embarked'] = total_df['Embarked'].map(embarked_mapping).astype(int)\n",
        "\n",
        "train_df.head()"
      ],
      "execution_count": null,
      "outputs": [
        {
          "output_type": "execute_result",
          "data": {
            "text/html": [
              "<div>\n",
              "<style scoped>\n",
              "    .dataframe tbody tr th:only-of-type {\n",
              "        vertical-align: middle;\n",
              "    }\n",
              "\n",
              "    .dataframe tbody tr th {\n",
              "        vertical-align: top;\n",
              "    }\n",
              "\n",
              "    .dataframe thead th {\n",
              "        text-align: right;\n",
              "    }\n",
              "</style>\n",
              "<table border=\"1\" class=\"dataframe\">\n",
              "  <thead>\n",
              "    <tr style=\"text-align: right;\">\n",
              "      <th></th>\n",
              "      <th>PassengerId</th>\n",
              "      <th>Survived</th>\n",
              "      <th>Pclass</th>\n",
              "      <th>Name</th>\n",
              "      <th>Sex</th>\n",
              "      <th>Age</th>\n",
              "      <th>Fare</th>\n",
              "      <th>Embarked</th>\n",
              "      <th>Alone</th>\n",
              "    </tr>\n",
              "  </thead>\n",
              "  <tbody>\n",
              "    <tr>\n",
              "      <th>0</th>\n",
              "      <td>1</td>\n",
              "      <td>0</td>\n",
              "      <td>3</td>\n",
              "      <td>0</td>\n",
              "      <td>0</td>\n",
              "      <td>1</td>\n",
              "      <td>0</td>\n",
              "      <td>0</td>\n",
              "      <td>1</td>\n",
              "    </tr>\n",
              "    <tr>\n",
              "      <th>1</th>\n",
              "      <td>2</td>\n",
              "      <td>1</td>\n",
              "      <td>1</td>\n",
              "      <td>2</td>\n",
              "      <td>1</td>\n",
              "      <td>2</td>\n",
              "      <td>3</td>\n",
              "      <td>1</td>\n",
              "      <td>1</td>\n",
              "    </tr>\n",
              "    <tr>\n",
              "      <th>2</th>\n",
              "      <td>3</td>\n",
              "      <td>1</td>\n",
              "      <td>3</td>\n",
              "      <td>1</td>\n",
              "      <td>1</td>\n",
              "      <td>1</td>\n",
              "      <td>0</td>\n",
              "      <td>0</td>\n",
              "      <td>0</td>\n",
              "    </tr>\n",
              "    <tr>\n",
              "      <th>3</th>\n",
              "      <td>4</td>\n",
              "      <td>1</td>\n",
              "      <td>1</td>\n",
              "      <td>2</td>\n",
              "      <td>1</td>\n",
              "      <td>2</td>\n",
              "      <td>3</td>\n",
              "      <td>0</td>\n",
              "      <td>1</td>\n",
              "    </tr>\n",
              "    <tr>\n",
              "      <th>4</th>\n",
              "      <td>5</td>\n",
              "      <td>0</td>\n",
              "      <td>3</td>\n",
              "      <td>0</td>\n",
              "      <td>0</td>\n",
              "      <td>2</td>\n",
              "      <td>0</td>\n",
              "      <td>0</td>\n",
              "      <td>0</td>\n",
              "    </tr>\n",
              "  </tbody>\n",
              "</table>\n",
              "</div>"
            ],
            "text/plain": [
              "   PassengerId  Survived  Pclass  Name  Sex  Age  Fare  Embarked  Alone\n",
              "0            1         0       3     0    0    1     0         0      1\n",
              "1            2         1       1     2    1    2     3         1      1\n",
              "2            3         1       3     1    1    1     0         0      0\n",
              "3            4         1       1     2    1    2     3         0      1\n",
              "4            5         0       3     0    0    2     0         0      0"
            ]
          },
          "metadata": {
            "tags": []
          },
          "execution_count": 73
        }
      ]
    },
    {
      "cell_type": "code",
      "metadata": {
        "colab": {
          "base_uri": "https://localhost:8080/"
        },
        "id": "eWAByT8Se1en",
        "outputId": "5cdf886c-98ab-410a-96a5-fc333aa07c3e"
      },
      "source": [
        "train_df.info()"
      ],
      "execution_count": null,
      "outputs": [
        {
          "output_type": "stream",
          "text": [
            "<class 'pandas.core.frame.DataFrame'>\n",
            "RangeIndex: 891 entries, 0 to 890\n",
            "Data columns (total 9 columns):\n",
            " #   Column       Non-Null Count  Dtype\n",
            "---  ------       --------------  -----\n",
            " 0   PassengerId  891 non-null    int64\n",
            " 1   Survived     891 non-null    int64\n",
            " 2   Pclass       891 non-null    int64\n",
            " 3   Name         891 non-null    int64\n",
            " 4   Sex          891 non-null    int64\n",
            " 5   Age          891 non-null    int64\n",
            " 6   Fare         891 non-null    int64\n",
            " 7   Embarked     891 non-null    int64\n",
            " 8   Alone        891 non-null    int64\n",
            "dtypes: int64(9)\n",
            "memory usage: 62.8 KB\n"
          ],
          "name": "stdout"
        }
      ]
    },
    {
      "cell_type": "code",
      "metadata": {
        "colab": {
          "base_uri": "https://localhost:8080/"
        },
        "id": "fjLQgH8ifJ2G",
        "outputId": "0100af21-e137-498f-a26a-454924330a40"
      },
      "source": [
        "test_df.info()"
      ],
      "execution_count": null,
      "outputs": [
        {
          "output_type": "stream",
          "text": [
            "<class 'pandas.core.frame.DataFrame'>\n",
            "RangeIndex: 418 entries, 0 to 417\n",
            "Data columns (total 8 columns):\n",
            " #   Column       Non-Null Count  Dtype\n",
            "---  ------       --------------  -----\n",
            " 0   PassengerId  418 non-null    int64\n",
            " 1   Pclass       418 non-null    int64\n",
            " 2   Name         418 non-null    int64\n",
            " 3   Sex          418 non-null    int64\n",
            " 4   Age          418 non-null    int64\n",
            " 5   Fare         418 non-null    int64\n",
            " 6   Embarked     418 non-null    int64\n",
            " 7   Alone        418 non-null    int64\n",
            "dtypes: int64(8)\n",
            "memory usage: 26.2 KB\n"
          ],
          "name": "stdout"
        }
      ]
    },
    {
      "cell_type": "markdown",
      "metadata": {
        "id": "Cm7wkPf8f2zu"
      },
      "source": [
        "전처리 이후 Fare의 시각화"
      ]
    },
    {
      "cell_type": "code",
      "metadata": {
        "colab": {
          "base_uri": "https://localhost:8080/"
        },
        "id": "3a73cRV9fieq",
        "outputId": "b7deba39-c576-43e8-9d86-da9d354d5343"
      },
      "source": [
        "sns.histplot(x = 'Fare', hue = 'Survived', data = train_df)\n",
        "# 더 정돈되게 시각화 하는 방법 찾기"
      ],
      "execution_count": null,
      "outputs": [
        {
          "output_type": "execute_result",
          "data": {
            "text/plain": [
              "<matplotlib.axes._subplots.AxesSubplot at 0x7fab80e6d8d0>"
            ]
          },
          "metadata": {
            "tags": []
          },
          "execution_count": 76
        },
        {
          "output_type": "display_data",
          "data": {
            "image/png": "[encoded data removed]",
            "text/plain": [
              "<Figure size 432x288 with 1 Axes>"
            ]
          },
          "metadata": {
            "tags": [],
            "needs_background": "light"
          }
        }
      ]
    },
    {
      "cell_type": "code",
      "metadata": {
        "id": "rvpdPZuqA7AV",
        "colab": {
          "base_uri": "https://localhost:8080/"
        },
        "outputId": "7b925e0e-d68f-41b0-a384-8f2da05b6a51"
      },
      "source": [
        "sns.barplot(x = 'Alone', y = 'Survived', data = train_df)"
      ],
      "execution_count": null,
      "outputs": [
        {
          "output_type": "execute_result",
          "data": {
            "text/plain": [
              "<matplotlib.axes._subplots.AxesSubplot at 0x7fab80d9a350>"
            ]
          },
          "metadata": {
            "tags": []
          },
          "execution_count": 77
        },
        {
          "output_type": "display_data",
          "data": {
            "image/png": "[encoded data removed]",
            "text/plain": [
              "<Figure size 432x288 with 1 Axes>"
            ]
          },
          "metadata": {
            "tags": [],
            "needs_background": "light"
          }
        }
      ]
    },
    {
      "cell_type": "code",
      "metadata": {
        "colab": {
          "base_uri": "https://localhost:8080/"
        },
        "id": "Ly-9BXX3fi27",
        "outputId": "f01d9a0a-82f9-474e-fe86-00e959fa13ca"
      },
      "source": [
        "train_df.info()"
      ],
      "execution_count": null,
      "outputs": [
        {
          "output_type": "stream",
          "text": [
            "<class 'pandas.core.frame.DataFrame'>\n",
            "RangeIndex: 891 entries, 0 to 890\n",
            "Data columns (total 9 columns):\n",
            " #   Column       Non-Null Count  Dtype\n",
            "---  ------       --------------  -----\n",
            " 0   PassengerId  891 non-null    int64\n",
            " 1   Survived     891 non-null    int64\n",
            " 2   Pclass       891 non-null    int64\n",
            " 3   Name         891 non-null    int64\n",
            " 4   Sex          891 non-null    int64\n",
            " 5   Age          891 non-null    int64\n",
            " 6   Fare         891 non-null    int64\n",
            " 7   Embarked     891 non-null    int64\n",
            " 8   Alone        891 non-null    int64\n",
            "dtypes: int64(9)\n",
            "memory usage: 62.8 KB\n"
          ],
          "name": "stdout"
        }
      ]
    },
    {
      "cell_type": "code",
      "metadata": {
        "colab": {
          "base_uri": "https://localhost:8080/"
        },
        "id": "MHZ3fGR4fLyW",
        "outputId": "6ff5d64c-6db6-4e8c-f81e-9ad54231067f"
      },
      "source": [
        "train_df.sample(10)"
      ],
      "execution_count": null,
      "outputs": [
        {
          "output_type": "execute_result",
          "data": {
            "text/html": [
              "<div>\n",
              "<style scoped>\n",
              "    .dataframe tbody tr th:only-of-type {\n",
              "        vertical-align: middle;\n",
              "    }\n",
              "\n",
              "    .dataframe tbody tr th {\n",
              "        vertical-align: top;\n",
              "    }\n",
              "\n",
              "    .dataframe thead th {\n",
              "        text-align: right;\n",
              "    }\n",
              "</style>\n",
              "<table border=\"1\" class=\"dataframe\">\n",
              "  <thead>\n",
              "    <tr style=\"text-align: right;\">\n",
              "      <th></th>\n",
              "      <th>PassengerId</th>\n",
              "      <th>Survived</th>\n",
              "      <th>Pclass</th>\n",
              "      <th>Name</th>\n",
              "      <th>Sex</th>\n",
              "      <th>Age</th>\n",
              "      <th>Fare</th>\n",
              "      <th>Embarked</th>\n",
              "      <th>Alone</th>\n",
              "    </tr>\n",
              "  </thead>\n",
              "  <tbody>\n",
              "    <tr>\n",
              "      <th>203</th>\n",
              "      <td>204</td>\n",
              "      <td>0</td>\n",
              "      <td>3</td>\n",
              "      <td>0</td>\n",
              "      <td>0</td>\n",
              "      <td>2</td>\n",
              "      <td>0</td>\n",
              "      <td>1</td>\n",
              "      <td>0</td>\n",
              "    </tr>\n",
              "    <tr>\n",
              "      <th>125</th>\n",
              "      <td>126</td>\n",
              "      <td>1</td>\n",
              "      <td>3</td>\n",
              "      <td>3</td>\n",
              "      <td>0</td>\n",
              "      <td>0</td>\n",
              "      <td>1</td>\n",
              "      <td>1</td>\n",
              "      <td>1</td>\n",
              "    </tr>\n",
              "    <tr>\n",
              "      <th>870</th>\n",
              "      <td>871</td>\n",
              "      <td>0</td>\n",
              "      <td>3</td>\n",
              "      <td>3</td>\n",
              "      <td>0</td>\n",
              "      <td>1</td>\n",
              "      <td>0</td>\n",
              "      <td>0</td>\n",
              "      <td>0</td>\n",
              "    </tr>\n",
              "    <tr>\n",
              "      <th>637</th>\n",
              "      <td>638</td>\n",
              "      <td>0</td>\n",
              "      <td>2</td>\n",
              "      <td>0</td>\n",
              "      <td>0</td>\n",
              "      <td>1</td>\n",
              "      <td>2</td>\n",
              "      <td>0</td>\n",
              "      <td>1</td>\n",
              "    </tr>\n",
              "    <tr>\n",
              "      <th>666</th>\n",
              "      <td>667</td>\n",
              "      <td>0</td>\n",
              "      <td>2</td>\n",
              "      <td>0</td>\n",
              "      <td>0</td>\n",
              "      <td>1</td>\n",
              "      <td>1</td>\n",
              "      <td>0</td>\n",
              "      <td>0</td>\n",
              "    </tr>\n",
              "    <tr>\n",
              "      <th>810</th>\n",
              "      <td>811</td>\n",
              "      <td>0</td>\n",
              "      <td>3</td>\n",
              "      <td>2</td>\n",
              "      <td>0</td>\n",
              "      <td>1</td>\n",
              "      <td>0</td>\n",
              "      <td>0</td>\n",
              "      <td>0</td>\n",
              "    </tr>\n",
              "    <tr>\n",
              "      <th>62</th>\n",
              "      <td>63</td>\n",
              "      <td>0</td>\n",
              "      <td>1</td>\n",
              "      <td>0</td>\n",
              "      <td>0</td>\n",
              "      <td>2</td>\n",
              "      <td>3</td>\n",
              "      <td>0</td>\n",
              "      <td>1</td>\n",
              "    </tr>\n",
              "    <tr>\n",
              "      <th>401</th>\n",
              "      <td>402</td>\n",
              "      <td>0</td>\n",
              "      <td>3</td>\n",
              "      <td>0</td>\n",
              "      <td>0</td>\n",
              "      <td>1</td>\n",
              "      <td>0</td>\n",
              "      <td>0</td>\n",
              "      <td>0</td>\n",
              "    </tr>\n",
              "    <tr>\n",
              "      <th>588</th>\n",
              "      <td>589</td>\n",
              "      <td>0</td>\n",
              "      <td>3</td>\n",
              "      <td>0</td>\n",
              "      <td>0</td>\n",
              "      <td>1</td>\n",
              "      <td>0</td>\n",
              "      <td>0</td>\n",
              "      <td>0</td>\n",
              "    </tr>\n",
              "    <tr>\n",
              "      <th>387</th>\n",
              "      <td>388</td>\n",
              "      <td>1</td>\n",
              "      <td>2</td>\n",
              "      <td>1</td>\n",
              "      <td>1</td>\n",
              "      <td>2</td>\n",
              "      <td>1</td>\n",
              "      <td>0</td>\n",
              "      <td>0</td>\n",
              "    </tr>\n",
              "  </tbody>\n",
              "</table>\n",
              "</div>"
            ],
            "text/plain": [
              "     PassengerId  Survived  Pclass  Name  Sex  Age  Fare  Embarked  Alone\n",
              "203          204         0       3     0    0    2     0         1      0\n",
              "125          126         1       3     3    0    0     1         1      1\n",
              "870          871         0       3     3    0    1     0         0      0\n",
              "637          638         0       2     0    0    1     2         0      1\n",
              "666          667         0       2     0    0    1     1         0      0\n",
              "810          811         0       3     2    0    1     0         0      0\n",
              "62            63         0       1     0    0    2     3         0      1\n",
              "401          402         0       3     0    0    1     0         0      0\n",
              "588          589         0       3     0    0    1     0         0      0\n",
              "387          388         1       2     1    1    2     1         0      0"
            ]
          },
          "metadata": {
            "tags": []
          },
          "execution_count": 79
        }
      ]
    },
    {
      "cell_type": "code",
      "metadata": {
        "colab": {
          "base_uri": "https://localhost:8080/"
        },
        "id": "TLKWY8HijX69",
        "outputId": "c2b03e17-bdfd-4b25-9f8e-712c691d975d"
      },
      "source": [
        "test_df.sample(10)"
      ],
      "execution_count": null,
      "outputs": [
        {
          "output_type": "execute_result",
          "data": {
            "text/html": [
              "<div>\n",
              "<style scoped>\n",
              "    .dataframe tbody tr th:only-of-type {\n",
              "        vertical-align: middle;\n",
              "    }\n",
              "\n",
              "    .dataframe tbody tr th {\n",
              "        vertical-align: top;\n",
              "    }\n",
              "\n",
              "    .dataframe thead th {\n",
              "        text-align: right;\n",
              "    }\n",
              "</style>\n",
              "<table border=\"1\" class=\"dataframe\">\n",
              "  <thead>\n",
              "    <tr style=\"text-align: right;\">\n",
              "      <th></th>\n",
              "      <th>PassengerId</th>\n",
              "      <th>Pclass</th>\n",
              "      <th>Name</th>\n",
              "      <th>Sex</th>\n",
              "      <th>Age</th>\n",
              "      <th>Fare</th>\n",
              "      <th>Embarked</th>\n",
              "      <th>Alone</th>\n",
              "    </tr>\n",
              "  </thead>\n",
              "  <tbody>\n",
              "    <tr>\n",
              "      <th>116</th>\n",
              "      <td>1008</td>\n",
              "      <td>3</td>\n",
              "      <td>0</td>\n",
              "      <td>0</td>\n",
              "      <td>1</td>\n",
              "      <td>0</td>\n",
              "      <td>1</td>\n",
              "      <td>0</td>\n",
              "    </tr>\n",
              "    <tr>\n",
              "      <th>157</th>\n",
              "      <td>1049</td>\n",
              "      <td>3</td>\n",
              "      <td>1</td>\n",
              "      <td>1</td>\n",
              "      <td>1</td>\n",
              "      <td>0</td>\n",
              "      <td>0</td>\n",
              "      <td>0</td>\n",
              "    </tr>\n",
              "    <tr>\n",
              "      <th>233</th>\n",
              "      <td>1125</td>\n",
              "      <td>3</td>\n",
              "      <td>0</td>\n",
              "      <td>0</td>\n",
              "      <td>1</td>\n",
              "      <td>0</td>\n",
              "      <td>2</td>\n",
              "      <td>0</td>\n",
              "    </tr>\n",
              "    <tr>\n",
              "      <th>206</th>\n",
              "      <td>1098</td>\n",
              "      <td>3</td>\n",
              "      <td>1</td>\n",
              "      <td>1</td>\n",
              "      <td>2</td>\n",
              "      <td>0</td>\n",
              "      <td>2</td>\n",
              "      <td>0</td>\n",
              "    </tr>\n",
              "    <tr>\n",
              "      <th>8</th>\n",
              "      <td>900</td>\n",
              "      <td>3</td>\n",
              "      <td>2</td>\n",
              "      <td>1</td>\n",
              "      <td>1</td>\n",
              "      <td>0</td>\n",
              "      <td>1</td>\n",
              "      <td>0</td>\n",
              "    </tr>\n",
              "    <tr>\n",
              "      <th>113</th>\n",
              "      <td>1005</td>\n",
              "      <td>3</td>\n",
              "      <td>1</td>\n",
              "      <td>1</td>\n",
              "      <td>1</td>\n",
              "      <td>0</td>\n",
              "      <td>2</td>\n",
              "      <td>0</td>\n",
              "    </tr>\n",
              "    <tr>\n",
              "      <th>179</th>\n",
              "      <td>1071</td>\n",
              "      <td>1</td>\n",
              "      <td>2</td>\n",
              "      <td>1</td>\n",
              "      <td>4</td>\n",
              "      <td>3</td>\n",
              "      <td>1</td>\n",
              "      <td>1</td>\n",
              "    </tr>\n",
              "    <tr>\n",
              "      <th>119</th>\n",
              "      <td>1011</td>\n",
              "      <td>2</td>\n",
              "      <td>2</td>\n",
              "      <td>1</td>\n",
              "      <td>1</td>\n",
              "      <td>2</td>\n",
              "      <td>0</td>\n",
              "      <td>1</td>\n",
              "    </tr>\n",
              "    <tr>\n",
              "      <th>164</th>\n",
              "      <td>1056</td>\n",
              "      <td>2</td>\n",
              "      <td>4</td>\n",
              "      <td>0</td>\n",
              "      <td>2</td>\n",
              "      <td>1</td>\n",
              "      <td>0</td>\n",
              "      <td>0</td>\n",
              "    </tr>\n",
              "    <tr>\n",
              "      <th>129</th>\n",
              "      <td>1021</td>\n",
              "      <td>3</td>\n",
              "      <td>0</td>\n",
              "      <td>0</td>\n",
              "      <td>1</td>\n",
              "      <td>0</td>\n",
              "      <td>0</td>\n",
              "      <td>0</td>\n",
              "    </tr>\n",
              "  </tbody>\n",
              "</table>\n",
              "</div>"
            ],
            "text/plain": [
              "     PassengerId  Pclass  Name  Sex  Age  Fare  Embarked  Alone\n",
              "116         1008       3     0    0    1     0         1      0\n",
              "157         1049       3     1    1    1     0         0      0\n",
              "233         1125       3     0    0    1     0         2      0\n",
              "206         1098       3     1    1    2     0         2      0\n",
              "8            900       3     2    1    1     0         1      0\n",
              "113         1005       3     1    1    1     0         2      0\n",
              "179         1071       1     2    1    4     3         1      1\n",
              "119         1011       2     2    1    1     2         0      1\n",
              "164         1056       2     4    0    2     1         0      0\n",
              "129         1021       3     0    0    1     0         0      0"
            ]
          },
          "metadata": {
            "tags": []
          },
          "execution_count": 80
        }
      ]
    },
    {
      "cell_type": "code",
      "metadata": {
        "id": "GXhKutjNTuej"
      },
      "source": [
        "# 요금과 탑승 장소는 상관관계가 없다고 판단\n",
        "# for total_data in combine:\n",
        "#   total_data = total_data.drop(['Fare', 'Embarked'], axis = 1,inplace = True)\n",
        "\n",
        "# train_df\n",
        "\n",
        "\n",
        "# 탑승장소만 상관이 없을 때\n",
        "# for total_data in combine:\n",
        "#   total_data = total_data.drop( 'Embarked', axis = 1,inplace = True)\n",
        "\n",
        "# train_df"
      ],
      "execution_count": null,
      "outputs": []
    },
    {
      "cell_type": "code",
      "metadata": {
        "id": "zvIVqHaiTgh7",
        "colab": {
          "base_uri": "https://localhost:8080/"
        },
        "outputId": "d322cd04-b696-443b-96ff-77343c3f279b"
      },
      "source": [
        "sns.heatmap(train_df.corr(),annot=True,cmap='RdYlGn') #data.corr()-->correlation matrix\n",
        "fig=plt.gcf()\n",
        "fig.set_size_inches(10,8)\n",
        "plt.show()\n"
      ],
      "execution_count": null,
      "outputs": [
        {
          "output_type": "display_data",
          "data": {
            "image/png": "[encoded data removed]",
            "text/plain": [
              "<Figure size 720x576 with 2 Axes>"
            ]
          },
          "metadata": {
            "tags": [],
            "needs_background": "light"
          }
        }
      ]
    },
    {
      "cell_type": "markdown",
      "metadata": {
        "id": "eUeCxsp2xQMn"
      },
      "source": [
        "# 머신러닝을 통한 학습"
      ]
    },
    {
      "cell_type": "markdown",
      "metadata": {
        "id": "DpGmMdu4xEtg"
      },
      "source": [
        "머신러닝 학습 현재 x"
      ]
    },
    {
      "cell_type": "markdown",
      "metadata": {
        "id": "H1x1UDxYxWq9"
      },
      "source": [
        "## 간단한 설명\n",
        "머신러닝은 정말 많은 기법들이 있다. 그 중에서 이번 타이타닉 셋으로 이용할 수 있는 것으로 줄여보면 Classification(분류) 과 Regression(회귀) 그리고 Supervised(지도학습) 세가지의 교집합에 들어가는 기법들 중 가장 유리한 기법을 사용해야한다."
      ]
    },
    {
      "cell_type": "markdown",
      "metadata": {
        "id": "lS1n-hCExyRF"
      },
      "source": [
        "Now we are ready to train a model and predict the required solution. There are 60+ predictive modelling algorithms to choose from. We must understand the type of problem and solution requirement to narrow down to a select few models which we can evaluate. Our problem is a classification and regression problem. We want to identify relationship between output (Survived or not) with other variables or features (Gender, Age, Port...). We are also perfoming a category of machine learning which is called supervised learning as we are training our model with a given dataset. With these two criteria - *** Supervised Learning plus Classification and Regression*** , we can narrow down our choice of models to a few. These include:\n",
        "\n",
        "1. Logistic Regression\n",
        "2. Support Vector Machines\n",
        "3. Random Forest\n",
        "4. KNN(K-Nearest Neighbors)\n",
        "5. Naive Bayes\n",
        "6. Decision Tree\n",
        "\n"
      ]
    },
    {
      "cell_type": "code",
      "metadata": {
        "id": "M6WkBUMUxWFo"
      },
      "source": [
        "#importing all the required ML packages\n",
        "from sklearn.linear_model import LogisticRegression\n",
        "from sklearn.svm import SVC, LinearSVC\n",
        "from sklearn.ensemble import RandomForestClassifier\n",
        "from sklearn.neighbors import KNeighborsClassifier\n",
        "from sklearn.naive_bayes import GaussianNB\n",
        "from sklearn.linear_model import Perceptron\n",
        "from sklearn.linear_model import SGDClassifier\n",
        "from sklearn.tree import DecisionTreeClassifier"
      ],
      "execution_count": null,
      "outputs": []
    },
    {
      "cell_type": "code",
      "metadata": {
        "id": "3lmB2EXY-P--",
        "colab": {
          "base_uri": "https://localhost:8080/"
        },
        "outputId": "45c6fbca-f1ef-48b1-89d6-cf7cfbe662cf"
      },
      "source": [
        "x_train = train_df.drop(['Survived','PassengerId'], axis = 1).copy()\n",
        "y_train = train_df['Survived']\n",
        "x_test = test_df.drop('PassengerId', axis = 1).copy()\n",
        "\n",
        "\n",
        "x_train.shape, y_train.shape, x_test.shape"
      ],
      "execution_count": null,
      "outputs": [
        {
          "output_type": "execute_result",
          "data": {
            "text/plain": [
              "((891, 7), (891,), (418, 7))"
            ]
          },
          "metadata": {
            "tags": []
          },
          "execution_count": 88
        }
      ]
    },
    {
      "cell_type": "markdown",
      "metadata": {
        "id": "eU2cQvpO9eLh"
      },
      "source": [
        "## 1. Logistic Regression"
      ]
    },
    {
      "cell_type": "markdown",
      "metadata": {
        "id": "8qwnID-BdXmD"
      },
      "source": [
        "Logistic Regression은 종속변수가 범주형 데이터를 대상으로 하며 입력 데이터가 주어졌을 때 해당 데이터의 결과가 특정 분류로 나뉘기 때문에 일종의 분류 (classification) 기법으로도 볼 수 있다."
      ]
    },
    {
      "cell_type": "code",
      "metadata": {
        "id": "Z6d2MNuMk3WO",
        "colab": {
          "base_uri": "https://localhost:8080/"
        },
        "outputId": "c8151491-5c7f-4ffd-83e8-224a7e7aea4e"
      },
      "source": [
        "logreg = LogisticRegression() # 모델 선언\n",
        "logreg.fit(x_train, y_train) # 모델 학습\n",
        "# 출력은 세팅값 (여러가지를 세부 세팅할 수 있음)"
      ],
      "execution_count": null,
      "outputs": [
        {
          "output_type": "execute_result",
          "data": {
            "text/plain": [
              "LogisticRegression(C=1.0, class_weight=None, dual=False, fit_intercept=True,\n",
              "                   intercept_scaling=1, l1_ratio=None, max_iter=100,\n",
              "                   multi_class='auto', n_jobs=None, penalty='l2',\n",
              "                   random_state=None, solver='lbfgs', tol=0.0001, verbose=0,\n",
              "                   warm_start=False)"
            ]
          },
          "metadata": {
            "tags": []
          },
          "execution_count": 89
        }
      ]
    },
    {
      "cell_type": "code",
      "metadata": {
        "id": "rAak2Yd9BhfB",
        "colab": {
          "base_uri": "https://localhost:8080/"
        },
        "outputId": "74af8232-feca-4b5c-9bdb-b50a868415ce"
      },
      "source": [
        "y_pred = logreg.predict(x_test)\n",
        "acc_log = round(logreg.score(x_train, y_train)*100, 2)\n",
        "acc_log\n"
      ],
      "execution_count": null,
      "outputs": [
        {
          "output_type": "execute_result",
          "data": {
            "text/plain": [
              "79.57"
            ]
          },
          "metadata": {
            "tags": []
          },
          "execution_count": 90
        }
      ]
    },
    {
      "cell_type": "markdown",
      "metadata": {
        "id": "YKuhV4F0dcve"
      },
      "source": [
        "We can use Logistic Regression to validate our assumptions and decisions for feature creating and completing goals. This can be done by calculating the coefficient of the features in the decision function.\n",
        "\n",
        "Positive coefficients increase the log-odds of the response (and thus increase the probability), and negative coefficients decrease the log-odds of the response (and thus decrease the probability).\n",
        "\n",
        "- Sex is highest positivie coefficient, implying as the Sex value increases (male: 0 to female: 1), the probability of Survived=1 increases the most.\n",
        "\n",
        "- Inversely as Pclass increases, probability of Survived=1 decreases the most.\n",
        "\n",
        "- This way Age*Class is a good artificial feature to model as it has second highest negative correlation with Survived.\n",
        "\n",
        "- So is Title as second highest positive correlation."
      ]
    },
    {
      "cell_type": "code",
      "metadata": {
        "id": "qITN_IGpFC24"
      },
      "source": [
        "#79.57('Fare','Embarked'포함)\n",
        "#79.57('Fare','Embarked'미포함)\n",
        "#79.69('Embarked'미포함)"
      ],
      "execution_count": null,
      "outputs": []
    },
    {
      "cell_type": "markdown",
      "metadata": {
        "id": "gYANVVJZhzL7"
      },
      "source": [
        "## 2. Support Vector Machines"
      ]
    },
    {
      "cell_type": "markdown",
      "metadata": {
        "id": "vYPUooJbDzHN"
      },
      "source": [
        "Next we model using Support Vector Machines which are supervised learning models with associated learning algorithms that analyze data used for classification and regression analysis. Given a set of training samples, each marked as belonging to one or the other of two categories, an SVM training algorithm builds a model that assigns new test samples to one category or the other, making it a non-probabilistic binary linear classifier. "
      ]
    },
    {
      "cell_type": "code",
      "metadata": {
        "id": "41ID440-Dy-a",
        "colab": {
          "base_uri": "https://localhost:8080/"
        },
        "outputId": "348894c2-45df-47db-99c1-d342588a5307"
      },
      "source": [
        "svc = SVC()\n",
        "svc.fit(x_train, y_train)\n",
        "y_pred = svc.predict(x_test)\n",
        "acc_svc = round(svc.score(x_train, y_train) * 100, 2)\n",
        "acc_svc"
      ],
      "execution_count": null,
      "outputs": [
        {
          "output_type": "execute_result",
          "data": {
            "text/plain": [
              "82.49"
            ]
          },
          "metadata": {
            "tags": []
          },
          "execution_count": 94
        }
      ]
    },
    {
      "cell_type": "markdown",
      "metadata": {
        "id": "y8SnQoZQg7ca"
      },
      "source": [
        "## 3. KNN"
      ]
    },
    {
      "cell_type": "markdown",
      "metadata": {
        "id": "41mstGw-EXUS"
      },
      "source": [
        "In pattern recognition, the k-Nearest Neighbors algorithm (or k-NN for short) is a non-parametric method used for classification and regression. A sample is classified by a majority vote of its neighbors, with the sample being assigned to the class most common among its k nearest neighbors (k is a positive integer, typically small). If k = 1, then the object is simply assigned to the class of that single nearest neighbor"
      ]
    },
    {
      "cell_type": "code",
      "metadata": {
        "id": "c60_4Nl1hBvI",
        "colab": {
          "base_uri": "https://localhost:8080/"
        },
        "outputId": "b1db1b5b-0400-42e3-a71d-9e678a052aee"
      },
      "source": [
        "knn = KNeighborsClassifier(n_neighbors = 3)\n",
        "knn.fit(x_train, y_train)\n",
        "Y_pred = knn.predict(x_test)\n",
        "acc_knn = round(knn.score(x_train, y_train) * 100, 2)\n",
        "acc_knn"
      ],
      "execution_count": null,
      "outputs": [
        {
          "output_type": "execute_result",
          "data": {
            "text/plain": [
              "84.85"
            ]
          },
          "metadata": {
            "tags": []
          },
          "execution_count": 93
        }
      ]
    },
    {
      "cell_type": "markdown",
      "metadata": {
        "id": "aNsiTLRlEYF4"
      },
      "source": [
        "KNN confidence score is better than Logistics Regression but worse than SVM."
      ]
    },
    {
      "cell_type": "markdown",
      "metadata": {
        "id": "QF9k4CuUEmhC"
      },
      "source": [
        "## 4. Gaussian Naibe Bayes\n"
      ]
    },
    {
      "cell_type": "code",
      "metadata": {
        "id": "QA9_JM-mEwQI",
        "colab": {
          "base_uri": "https://localhost:8080/"
        },
        "outputId": "0662374f-1a3f-4eec-d4f3-78a7e523c04e"
      },
      "source": [
        "gaussian = GaussianNB()\n",
        "gaussian.fit(x_train, y_train)\n",
        "y_pred = gaussian.predict(x_test)\n",
        "acc_gaussian = round(gaussian.score(x_train, y_train) * 100, 2)\n",
        "acc_gaussian"
      ],
      "execution_count": null,
      "outputs": [
        {
          "output_type": "execute_result",
          "data": {
            "text/plain": [
              "76.43"
            ]
          },
          "metadata": {
            "tags": []
          },
          "execution_count": 95
        }
      ]
    },
    {
      "cell_type": "markdown",
      "metadata": {
        "id": "3QBwANj5E3fA"
      },
      "source": [
        "## 5. Perceptron\n"
      ]
    },
    {
      "cell_type": "code",
      "metadata": {
        "id": "jYoAdGkiE8BU",
        "colab": {
          "base_uri": "https://localhost:8080/"
        },
        "outputId": "14de1b54-d4a7-4c20-c8e9-7dec292c404a"
      },
      "source": [
        "perceptron = Perceptron()\n",
        "perceptron.fit(x_train, y_train)\n",
        "y_pred = perceptron.predict(x_test)\n",
        "acc_perceptron = round(perceptron.score(x_train, y_train) * 100, 2)\n",
        "acc_perceptron"
      ],
      "execution_count": null,
      "outputs": [
        {
          "output_type": "execute_result",
          "data": {
            "text/plain": [
              "79.69"
            ]
          },
          "metadata": {
            "tags": []
          },
          "execution_count": 96
        }
      ]
    },
    {
      "cell_type": "markdown",
      "metadata": {
        "id": "aXBiCNqTFCfi"
      },
      "source": [
        "## 6. Linear SVC"
      ]
    },
    {
      "cell_type": "code",
      "metadata": {
        "id": "1-ISSVvCFD_4",
        "colab": {
          "base_uri": "https://localhost:8080/"
        },
        "outputId": "1177d672-10f3-465d-c116-0d3869458927"
      },
      "source": [
        "linear_svc = LinearSVC()\n",
        "linear_svc.fit(x_train, y_train)\n",
        "y_pred = linear_svc.predict(x_test)\n",
        "acc_linear_svc = round(linear_svc.score(x_train, y_train) * 100, 2)\n",
        "acc_linear_svc"
      ],
      "execution_count": null,
      "outputs": [
        {
          "output_type": "execute_result",
          "data": {
            "text/plain": [
              "78.68"
            ]
          },
          "metadata": {
            "tags": []
          },
          "execution_count": 97
        }
      ]
    },
    {
      "cell_type": "markdown",
      "metadata": {
        "id": "7-B9EhXaFLbX"
      },
      "source": [
        "## 7. Stochastic Gradient Descent"
      ]
    },
    {
      "cell_type": "code",
      "metadata": {
        "id": "Ye9wfb7EFTMV",
        "colab": {
          "base_uri": "https://localhost:8080/"
        },
        "outputId": "51046a42-9bf0-4ad8-8162-6a3c21fb3828"
      },
      "source": [
        "sgd = SGDClassifier()\n",
        "sgd.fit(x_train, y_train)\n",
        "y_pred = sgd.predict(x_test)\n",
        "acc_sgd = round(sgd.score(x_train, y_train) * 100, 2)\n",
        "acc_sgd"
      ],
      "execution_count": null,
      "outputs": [
        {
          "output_type": "execute_result",
          "data": {
            "text/plain": [
              "77.78"
            ]
          },
          "metadata": {
            "tags": []
          },
          "execution_count": 98
        }
      ]
    },
    {
      "cell_type": "markdown",
      "metadata": {
        "id": "w7oVH60AiDN6"
      },
      "source": [
        "## 8. Decision Tree"
      ]
    },
    {
      "cell_type": "code",
      "metadata": {
        "id": "NB4Qei-uiM6I",
        "colab": {
          "base_uri": "https://localhost:8080/"
        },
        "outputId": "a4528a54-ce8a-4ca2-ef12-0806983fd333"
      },
      "source": [
        "decision_tree = DecisionTreeClassifier()\n",
        "decision_tree.fit(x_train, y_train)\n",
        "Y_pred = decision_tree.predict(x_test)\n",
        "acc_decision_tree = round(decision_tree.score(x_train, y_train) * 100, 2)\n",
        "acc_decision_tree"
      ],
      "execution_count": null,
      "outputs": [
        {
          "output_type": "execute_result",
          "data": {
            "text/plain": [
              "88.66"
            ]
          },
          "metadata": {
            "tags": []
          },
          "execution_count": 99
        }
      ]
    },
    {
      "cell_type": "code",
      "metadata": {
        "id": "Pnb7YEtbVd5O"
      },
      "source": [
        "#88.66('Fare','Embarked'포함)\n",
        "#83.28('Fare','Embarked'미포함)\n",
        "#86.42('Embarked'미포함)"
      ],
      "execution_count": null,
      "outputs": []
    },
    {
      "cell_type": "markdown",
      "metadata": {
        "id": "1_mfTmIFVbH0"
      },
      "source": [
        "## 9. Random Forest"
      ]
    },
    {
      "cell_type": "code",
      "metadata": {
        "colab": {
          "base_uri": "https://localhost:8080/"
        },
        "id": "3XS4M9V9VBoJ",
        "outputId": "40773cad-44d4-49de-a571-c3befe493e0b"
      },
      "source": [
        "random_forest = RandomForestClassifier(n_estimators=100)\n",
        "random_forest.fit(x_train, y_train)\n",
        "y_pred = random_forest.predict(x_test)\n",
        "random_forest.score(x_train, y_train)\n",
        "acc_random_forest = round(random_forest.score(x_train, y_train) * 100, 2)\n",
        "acc_random_forest"
      ],
      "execution_count": null,
      "outputs": [
        {
          "output_type": "execute_result",
          "data": {
            "text/plain": [
              "88.66"
            ]
          },
          "metadata": {
            "tags": []
          },
          "execution_count": 100
        }
      ]
    }
  ]
}