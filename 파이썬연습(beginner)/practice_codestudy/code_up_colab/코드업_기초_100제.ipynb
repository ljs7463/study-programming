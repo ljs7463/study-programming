{
  "nbformat": 4,
  "nbformat_minor": 0,
  "metadata": {
    "colab": {
      "name": "코드업 기초 100제",
      "provenance": [],
      "collapsed_sections": [
        "KEuW3lsXlAvI",
        "-jtrIP03lj53",
        "Vyl4z9z9AwE4",
        "hwsiwCQxFQQw",
        "FPQrJBk9W4Jh",
        "s1IXJymFirBS",
        "9db6rqW5ZwSE",
        "xdlXE_dxeRIF",
        "YB-57bflptJv",
        "elSXiV8H51ee",
        "4BKdap6XHuxK",
        "ePavep7znzSD",
        "uPIdWVNCCFYv",
        "ocX16iOY_1_2",
        "nMaBTu95g5wF",
        "5DdcNdD-cITg",
        "h1iaQRUMhAVD",
        "MZF8GfAfhIJ6",
        "ZkPjMD-7hNdi",
        "uvdMH1I9hQH-",
        "wj2SjfuwKlLv",
        "p-pP3M7xlgv_",
        "oLtvD3QlzfQx",
        "RxJOpHYwiQx3",
        "IC4SCd6xiUTs",
        "sBFSTuAJiaUH",
        "htmM83xuicvD",
        "PSaQ9GDCih0_",
        "W2Zr-ZPdijJJ",
        "hCC2CIZ8imeU",
        "42fnnP7minyJ"
      ],
      "toc_visible": true
    },
    "kernelspec": {
      "name": "python3",
      "display_name": "Python 3"
    }
  },
  "cells": [
    {
      "cell_type": "markdown",
      "metadata": {
        "id": "FyyiYzlChWP7",
        "colab_type": "text"
      },
      "source": [
        "#**코드업 기초 100제**  \n",
        "**C언어로 제작된 기초 100문제이나, 파이썬 개발자들을 위해 제작하였음.**  \n",
        "\n",
        "블로그 : [세상의 잣대가 아닌](https://blog.naver.com/dnfla420)  \n",
        "유튜브 : [우리밋](https://www.youtube.com/channel/UCS0F25vig_sPIQXMiK8IdSg?view_as=subscriber)\n",
        "\n",
        "by.*우리밋*"
      ]
    },
    {
      "cell_type": "markdown",
      "metadata": {
        "id": "KEuW3lsXlAvI",
        "colab_type": "text"
      },
      "source": [
        "---\n",
        "## **1. 기초-출력**\n",
        "---\n"
      ]
    },
    {
      "cell_type": "markdown",
      "metadata": {
        "id": "FqgTYwXQhnRt",
        "colab_type": "text"
      },
      "source": [
        "**[1]**  \n",
        "Hello  \n",
        "출력하기"
      ]
    },
    {
      "cell_type": "code",
      "metadata": {
        "id": "9GpIrQSQhTyb",
        "colab_type": "code",
        "colab": {
          "base_uri": "https://localhost:8080/",
          "height": 34
        },
        "outputId": "8b3906cc-902d-4164-a3a8-39418c5f7c4a"
      },
      "source": [
        "print('Hello')"
      ],
      "execution_count": null,
      "outputs": [
        {
          "output_type": "stream",
          "text": [
            "Hello\n"
          ],
          "name": "stdout"
        }
      ]
    },
    {
      "cell_type": "markdown",
      "metadata": {
        "id": "NsuBIi8Eh7V7",
        "colab_type": "text"
      },
      "source": [
        "**[2]**  \n",
        "Hello World  \n",
        "출력하기"
      ]
    },
    {
      "cell_type": "code",
      "metadata": {
        "id": "4nXAHJSHh3If",
        "colab_type": "code",
        "colab": {
          "base_uri": "https://localhost:8080/",
          "height": 33
        },
        "outputId": "b203c3f5-7ac4-4899-cdf0-dbadfccac50c"
      },
      "source": [
        "print('Hello World')"
      ],
      "execution_count": null,
      "outputs": [
        {
          "output_type": "stream",
          "text": [
            "Hello World\n"
          ],
          "name": "stdout"
        }
      ]
    },
    {
      "cell_type": "markdown",
      "metadata": {
        "id": "oFw6MqLwiYgv",
        "colab_type": "text"
      },
      "source": [
        "**[3]**  \n",
        "Hello  \n",
        "World  \n",
        "(두 줄에 걸쳐 줄을 바꿔 출력하기)\n",
        "\n",
        "**Tip::**  \n",
        "1. 따옴표를 '''(작은따옴표) 혹은 \"\"\"(큰따옴표) 와 같이 3개씩 사용하면 입력하는 모양대로 출력된다.\n",
        "2. 처음 따음표 ''' 뒤에 역슬래기(\\)를 해주어야 직관적으로 코딩할 수 있게 된다."
      ]
    },
    {
      "cell_type": "code",
      "metadata": {
        "id": "ivEoW8xqiXEK",
        "colab_type": "code",
        "colab": {
          "base_uri": "https://localhost:8080/",
          "height": 66
        },
        "outputId": "6747e4a8-d8fd-44b6-a507-86a00f00e5df"
      },
      "source": [
        "print('''\\\n",
        "Hello\n",
        "World\n",
        "''')"
      ],
      "execution_count": null,
      "outputs": [
        {
          "output_type": "stream",
          "text": [
            "Hello\n",
            "World\n",
            "\n"
          ],
          "name": "stdout"
        }
      ]
    },
    {
      "cell_type": "markdown",
      "metadata": {
        "id": "8StbiDgAjMPB",
        "colab_type": "text"
      },
      "source": [
        "**[4]**  \n",
        "'Hello'  \n",
        "(단, 작은 따옴표도 함께 출력한다.)"
      ]
    },
    {
      "cell_type": "code",
      "metadata": {
        "id": "0lEfkXXPi9jE",
        "colab_type": "code",
        "colab": {
          "base_uri": "https://localhost:8080/",
          "height": 33
        },
        "outputId": "d9cb0cac-24b0-41d2-b7f1-c6160add5203"
      },
      "source": [
        "print(\"'Hello'\")"
      ],
      "execution_count": null,
      "outputs": [
        {
          "output_type": "stream",
          "text": [
            "'Hello'\n"
          ],
          "name": "stdout"
        }
      ]
    },
    {
      "cell_type": "markdown",
      "metadata": {
        "id": "_lbUrk4Ojsi0",
        "colab_type": "text"
      },
      "source": [
        "**[5]**  \n",
        "\"Hello World\"  \n",
        "(단, 큰따옴표도 함께 출력한다.)"
      ]
    },
    {
      "cell_type": "code",
      "metadata": {
        "id": "1Rv9F-X4je8K",
        "colab_type": "code",
        "colab": {
          "base_uri": "https://localhost:8080/",
          "height": 33
        },
        "outputId": "c0a94d5e-1128-4e3d-ce6a-a4ccfc924852"
      },
      "source": [
        "print('\"Hello World\"')"
      ],
      "execution_count": null,
      "outputs": [
        {
          "output_type": "stream",
          "text": [
            "\"Hello World\"\n"
          ],
          "name": "stdout"
        }
      ]
    },
    {
      "cell_type": "markdown",
      "metadata": {
        "id": "Th3e176XkLD2",
        "colab_type": "text"
      },
      "source": [
        "**[6]**  \n",
        "\"!@#$%^&*()\"  \n",
        "(단, 큰따옴표도 함께 출력한다.)"
      ]
    },
    {
      "cell_type": "code",
      "metadata": {
        "id": "6d9s0yLWj1Fw",
        "colab_type": "code",
        "colab": {
          "base_uri": "https://localhost:8080/",
          "height": 33
        },
        "outputId": "634b0b23-5746-4d75-bde0-6275f65270b6"
      },
      "source": [
        "print('\"!@#$%^&*()\"')"
      ],
      "execution_count": null,
      "outputs": [
        {
          "output_type": "stream",
          "text": [
            "\"!@#$%^&*()\"\n"
          ],
          "name": "stdout"
        }
      ]
    },
    {
      "cell_type": "markdown",
      "metadata": {
        "id": "BHan1UsykY7z",
        "colab_type": "text"
      },
      "source": [
        "**[7]**  \n",
        "\"C:\\Download\\hello.cpp\"  \n",
        "(단, 큰따옴표도 함께 출력한다.)"
      ]
    },
    {
      "cell_type": "code",
      "metadata": {
        "id": "kRhwT6r0kRIt",
        "colab_type": "code",
        "colab": {
          "base_uri": "https://localhost:8080/",
          "height": 33
        },
        "outputId": "b4e3487e-07ea-45ff-96a9-e31a58062a39"
      },
      "source": [
        "print('\"C:\\Download\\hello.cpp\"')"
      ],
      "execution_count": null,
      "outputs": [
        {
          "output_type": "stream",
          "text": [
            "\"C:\\Download\\hello.cpp\"\n"
          ],
          "name": "stdout"
        }
      ]
    },
    {
      "cell_type": "markdown",
      "metadata": {
        "id": "4Qq2ZM8yko55",
        "colab_type": "text"
      },
      "source": [
        "**[8]**  \n",
        "┌┬┐  \n",
        "├┼┤  \n",
        "└┴┘  \n",
        "출력하기"
      ]
    },
    {
      "cell_type": "code",
      "metadata": {
        "id": "Lcdxm6YVkd7Z",
        "colab_type": "code",
        "colab": {
          "base_uri": "https://localhost:8080/",
          "height": 83
        },
        "outputId": "ad452036-c5ba-44ed-f3ea-e0bf056ed0ee"
      },
      "source": [
        "print('''\\\n",
        "┌┬┐\n",
        "├┼┤\n",
        "└┴┘\n",
        "''')"
      ],
      "execution_count": null,
      "outputs": [
        {
          "output_type": "stream",
          "text": [
            "┌┬┐\n",
            "├┼┤\n",
            "└┴┘\n",
            "\n"
          ],
          "name": "stdout"
        }
      ]
    },
    {
      "cell_type": "markdown",
      "metadata": {
        "id": "-jtrIP03lj53",
        "colab_type": "text"
      },
      "source": [
        "---\n",
        "## **2. 기초-입출력**\n",
        "---\n"
      ]
    },
    {
      "cell_type": "markdown",
      "metadata": {
        "id": "KmY2624hln4M",
        "colab_type": "text"
      },
      "source": [
        "**[10]**  \n",
        "정수형(int)으로 변수를 선언하고, 변수에 정수값을 저장한 후\n",
        "변수에 저장되어 있는 값을 그대로 출력해보자."
      ]
    },
    {
      "cell_type": "code",
      "metadata": {
        "id": "K0qWFX5wkxBM",
        "colab_type": "code",
        "colab": {
          "base_uri": "https://localhost:8080/",
          "height": 50
        },
        "outputId": "b6178068-3ba5-47c3-e846-dc114505cfc2"
      },
      "source": [
        "var = int(input())\n",
        "print(var)"
      ],
      "execution_count": null,
      "outputs": [
        {
          "output_type": "stream",
          "text": [
            "13\n",
            "13\n"
          ],
          "name": "stdout"
        }
      ]
    },
    {
      "cell_type": "markdown",
      "metadata": {
        "id": "eJPgRQfKmjp8",
        "colab_type": "text"
      },
      "source": [
        "**[11]**  \n",
        "문자형(char)으로 변수를 하나 선언하고, 변수에 문자를 저장한 후\n",
        "변수에 저장되어 있는 문자를 그대로 출력해보자.  \n",
        "\n",
        "**Tip::**  \n",
        "1. input()의 반환값은 기본으로 문자열로 정의된다."
      ]
    },
    {
      "cell_type": "code",
      "metadata": {
        "id": "Om3ypjr7mUUU",
        "colab_type": "code",
        "colab": {
          "base_uri": "https://localhost:8080/",
          "height": 50
        },
        "outputId": "c76facea-fca6-4559-f5d0-9aa2092377ba"
      },
      "source": [
        "var = input()\n",
        "print(var)"
      ],
      "execution_count": null,
      "outputs": [
        {
          "output_type": "stream",
          "text": [
            "Hello\n",
            "Hello\n"
          ],
          "name": "stdout"
        }
      ]
    },
    {
      "cell_type": "markdown",
      "metadata": {
        "id": "UYLGuS0Em-8S",
        "colab_type": "text"
      },
      "source": [
        "**[12]**  \n",
        "실수형(float)로 변수를 선언하고 그 변수에 실수값을 저장한 후\n",
        "저장되어 있는 실수값을 출력해보자."
      ]
    },
    {
      "cell_type": "code",
      "metadata": {
        "id": "fR-DEipjmpnX",
        "colab_type": "code",
        "colab": {
          "base_uri": "https://localhost:8080/",
          "height": 50
        },
        "outputId": "9d75de53-c59f-465c-f796-5342403d8a7f"
      },
      "source": [
        "var = float(input())\n",
        "print(var)"
      ],
      "execution_count": null,
      "outputs": [
        {
          "output_type": "stream",
          "text": [
            "4\n",
            "4.0\n"
          ],
          "name": "stdout"
        }
      ]
    },
    {
      "cell_type": "markdown",
      "metadata": {
        "id": "JzaL0x9end7X",
        "colab_type": "text"
      },
      "source": [
        "**[13]**  \n",
        "정수(int) 2개를 입력받아 그대로 출력해보자.\n",
        "(단, 띄어쓰기를 기준으로 입력한다.)  \n",
        "입력 : 1 5  \n",
        "출력 : 1 5\n",
        "\n",
        "**Tip::**  \n",
        "1. 문자열의 메소드(함수)인 split()을 이용하면 문자열을 공백 기준으로 배열(iterable)로 만들어준다.\n",
        "2. 매핑함수인 map()을 이용하면 배열(iterable)의 모든 원소를 첫 번째 매개변수(parameter)로 변환할 수 있다. 정확히는 감싸준다는 표현이 맞다. \n",
        " - *예 ) map(int, ['1', '2', '3'])  >>  [1,2,3]*\n",
        "3. 매핑함수 map()의 반환값은 map객체이다. 따라서 육안으로 확인하기 위해서는 list()로 변환시켜줘야한다."
      ]
    },
    {
      "cell_type": "code",
      "metadata": {
        "id": "WVbdDpS3nD-z",
        "colab_type": "code",
        "colab": {
          "base_uri": "https://localhost:8080/",
          "height": 50
        },
        "outputId": "8601682b-551c-438a-f1ec-6baefc87ac72"
      },
      "source": [
        "var = list(map(int, input().split()))\n",
        "print(var[0], var[1])"
      ],
      "execution_count": null,
      "outputs": [
        {
          "output_type": "stream",
          "text": [
            "1 5\n",
            "1 5\n"
          ],
          "name": "stdout"
        }
      ]
    },
    {
      "cell_type": "markdown",
      "metadata": {
        "id": "GzzjHYY-oQf0",
        "colab_type": "text"
      },
      "source": [
        "**[14]**  \n",
        "2개의 문자(ASCII CODE)를 입력받아서 순서를 바꿔 출력해보자.\n",
        "\n",
        "**아스키 코드란?**\n",
        "- 컴퓨터가 문자를 읽을 수 있도록 문자에 대응하는 숫자들이 존재한다.\n",
        "- 예 ) A => 1100001\n",
        "- 이때의 문자가 '아스키 문자'이며, 숫자가 '아스키 코드'이다.\n",
        "\n"
      ]
    },
    {
      "cell_type": "code",
      "metadata": {
        "id": "j8DAXCugn_28",
        "colab_type": "code",
        "colab": {
          "base_uri": "https://localhost:8080/",
          "height": 50
        },
        "outputId": "daae7e2b-7dc8-48f2-9c6d-d7cb8c3b3c85"
      },
      "source": [
        "var = input().split()\n",
        "print(var[1], var[0])"
      ],
      "execution_count": null,
      "outputs": [
        {
          "output_type": "stream",
          "text": [
            "a B\n",
            "B a\n"
          ],
          "name": "stdout"
        }
      ]
    },
    {
      "cell_type": "markdown",
      "metadata": {
        "id": "MEiMpF7_qoZB",
        "colab_type": "text"
      },
      "source": [
        "**[15]**  \n",
        "실수(float) 1개를 입력받아 저장한 후,\n",
        "저장되어 있는 값을 소수점 셋 째 자리에서 반올림하여\n",
        "소수점 이하 둘 째 자리까지 출력하시오.  \n",
        "\n",
        "**Tip::**  \n",
        "1. 반올림 함수 round()를 이용하면 된다."
      ]
    },
    {
      "cell_type": "code",
      "metadata": {
        "id": "Ytc63MLkqTph",
        "colab_type": "code",
        "colab": {
          "base_uri": "https://localhost:8080/",
          "height": 50
        },
        "outputId": "eb62fc5d-0e29-4f0e-ba7f-939885a008bd"
      },
      "source": [
        "var = round(float(input()), 2)\n",
        "print(var)"
      ],
      "execution_count": null,
      "outputs": [
        {
          "output_type": "stream",
          "text": [
            "3.1111\n",
            "3.11\n"
          ],
          "name": "stdout"
        }
      ]
    },
    {
      "cell_type": "markdown",
      "metadata": {
        "id": "GUFlZrFDvaWa",
        "colab_type": "text"
      },
      "source": [
        "**[16]**  \n",
        "int형 정수 1개를 입력받아 공백을 사이에 두고 3번 출력해보자."
      ]
    },
    {
      "cell_type": "code",
      "metadata": {
        "id": "tmSF6UjVuHGo",
        "colab_type": "code",
        "colab": {
          "base_uri": "https://localhost:8080/",
          "height": 50
        },
        "outputId": "a7e51e0f-8769-4716-bd20-ac6b7e91ff92"
      },
      "source": [
        "var = int(input())\n",
        "print(var, var, var)"
      ],
      "execution_count": null,
      "outputs": [
        {
          "output_type": "stream",
          "text": [
            "55\n",
            "55 55 55\n"
          ],
          "name": "stdout"
        }
      ]
    },
    {
      "cell_type": "markdown",
      "metadata": {
        "id": "Lun8at8fv5qq",
        "colab_type": "text"
      },
      "source": [
        "**[17]**  \n",
        "어떤 형식에 맞추어 시간이 입력될 때, 그대로 출력하는 연습을 해보자.  \n",
        "콜론(:) 기호를 기준으로 두 수가 각 변수에 저장된다.  \n",
        "\n",
        "입력 : 3:15  \n",
        "출력 : 3:15  \n",
        "\n",
        "**Tip::**  \n",
        "1. split()의 매개변수로 문자열을 분할하기 위한 기준을 정의할 수 있다.\n",
        "2. 문자열의 메소드(함수)인 format()을 이용하면 문자열 내부에 변수값을 대입할 수 있다.\n",
        "\n"
      ]
    },
    {
      "cell_type": "code",
      "metadata": {
        "id": "FQN0gYyPvlKj",
        "colab_type": "code",
        "colab": {
          "base_uri": "https://localhost:8080/",
          "height": 50
        },
        "outputId": "1bce814f-ac18-4c48-8eae-7ba5e360f630"
      },
      "source": [
        "h, m = input().split(':')\n",
        "print('{}:{}'.format(h, m))"
      ],
      "execution_count": null,
      "outputs": [
        {
          "output_type": "stream",
          "text": [
            "3:15\n",
            "3:15\n"
          ],
          "name": "stdout"
        }
      ]
    },
    {
      "cell_type": "markdown",
      "metadata": {
        "id": "fouFjxZsx2d8",
        "colab_type": "text"
      },
      "source": [
        "**[18]**  \n",
        "년, 월, 일을 입력받아 지정된 형식으로 출력하는 연습을 해보자.  \n",
        "\n",
        "**입력**  \n",
        "연, 월, 일이 \".(닷)\"으로 구분되어 입력된다.  \n",
        "**출력**  \n",
        "입력받은 연, 월, 일을 yyyy.mm.dd 형식으로 출력한다.\n",
        "\n",
        "입력 : 2020.2.9  \n",
        "출력 : 2020.02.09  \n",
        "(단, m 혹은 d가 한 자리 수인 경우 앞에 0을 붙여 출력한다.)\n"
      ]
    },
    {
      "cell_type": "code",
      "metadata": {
        "id": "MqMYQoaTwX9C",
        "colab_type": "code",
        "colab": {
          "base_uri": "https://localhost:8080/",
          "height": 50
        },
        "outputId": "a449b25b-9892-4c46-9e0d-b26cd1767aa2"
      },
      "source": [
        "y, m, d = input().split('.')\n",
        "if len(m) == 1:\n",
        "  m = '0'+m\n",
        "if len(d) == 1:\n",
        "  d = '0'+d\n",
        "print('{}.{}.{}'.format(y, m, d))"
      ],
      "execution_count": null,
      "outputs": [
        {
          "output_type": "stream",
          "text": [
            "2020.2.9\n",
            "2020.02.09\n"
          ],
          "name": "stdout"
        }
      ]
    },
    {
      "cell_type": "markdown",
      "metadata": {
        "id": "98tcCWpl0hGd",
        "colab_type": "text"
      },
      "source": [
        "**[19]**  \n",
        "주민번호는 다음과 같이 구성된다.  \n",
        "\n",
        "XXXXXX-XXXXXXX  \n",
        "\n",
        "앞의 6자리는 생년월일(yymmdd)이고 뒤 7자리는 성별, 지역, 오류검출코드이다.  \n",
        "주민번호를 입력받아 형태를 바꿔 출력해보자.  \n",
        "\n",
        "\n",
        "**입력**  \n",
        "주민번호 앞 6자리와 뒷 7자리가 '-'로 구분되어 입력된다.\n",
        "(입력값은 가상의 주민번호이다.)\n",
        "ex)110011-0000000  \n",
        "**출력**  \n",
        "'-'를 제외한 주민번호 13자리를 모두 붙여 출력한다.\n",
        "\n",
        "입력 : 000907-1121112  \n",
        "출력 : 0009071121112"
      ]
    },
    {
      "cell_type": "code",
      "metadata": {
        "id": "-LuE1JruzKEN",
        "colab_type": "code",
        "colab": {
          "base_uri": "https://localhost:8080/",
          "height": 50
        },
        "outputId": "a0837818-ce76-4aaa-b87b-303080ff7c43"
      },
      "source": [
        "a, b = input().split('-')\n",
        "print('{}{}'.format(a,b))"
      ],
      "execution_count": null,
      "outputs": [
        {
          "output_type": "stream",
          "text": [
            "000907-1121112\n",
            "0009071121112\n"
          ],
          "name": "stdout"
        }
      ]
    },
    {
      "cell_type": "markdown",
      "metadata": {
        "id": "OgMQOfZi1uhx",
        "colab_type": "text"
      },
      "source": [
        "**[20]**  \n",
        "1개의 문자열을 입력받아 그대로 출력해보자."
      ]
    },
    {
      "cell_type": "code",
      "metadata": {
        "id": "2CqqCmon1Szy",
        "colab_type": "code",
        "colab": {
          "base_uri": "https://localhost:8080/",
          "height": 50
        },
        "outputId": "b103594c-646b-4b59-c7a6-8dcb5dd0173e"
      },
      "source": [
        "string = input()\n",
        "print(string)"
      ],
      "execution_count": null,
      "outputs": [
        {
          "output_type": "stream",
          "text": [
            "우리밋 최고에요\n",
            "우리밋 최고에요\n"
          ],
          "name": "stdout"
        }
      ]
    },
    {
      "cell_type": "markdown",
      "metadata": {
        "id": "bG9cg7rG2W9M",
        "colab_type": "text"
      },
      "source": [
        "**[22]**  \n",
        "공백이 포함되어 있는 한 문장이 입력된다.\n",
        "단, 입력되는 문장은 여러 개의 단어로 구성되고, 엔터로 끝난다."
      ]
    },
    {
      "cell_type": "code",
      "metadata": {
        "id": "QF6I2hA615DN",
        "colab_type": "code",
        "colab": {
          "base_uri": "https://localhost:8080/",
          "height": 50
        },
        "outputId": "175d48c3-e54b-4b40-8591-39862d42147d"
      },
      "source": [
        "string = input()\n",
        "print(string)"
      ],
      "execution_count": null,
      "outputs": [
        {
          "output_type": "stream",
          "text": [
            "programing is very good\n",
            "programing is very good\n"
          ],
          "name": "stdout"
        }
      ]
    },
    {
      "cell_type": "markdown",
      "metadata": {
        "id": "ISxltpak3Nzc",
        "colab_type": "text"
      },
      "source": [
        "**[23]**  \n",
        "실수 1개를 입력받아 정수 부분과 실수 부분으로 나누어 출력한다.\n",
        "\n",
        "입력 :   \n",
        "1.435867  \n",
        "\n",
        "출력 :  \n",
        "1  \n",
        "435867"
      ]
    },
    {
      "cell_type": "code",
      "metadata": {
        "id": "fryUsNzD2gN1",
        "colab_type": "code",
        "colab": {
          "base_uri": "https://localhost:8080/",
          "height": 83
        },
        "outputId": "11fa114e-8c49-43f6-d9e0-483c1c7a4bc5"
      },
      "source": [
        "string = input().split('.')\n",
        "print('''\\\n",
        "{}\n",
        "{}\n",
        "'''.format(string[0], string[1]))"
      ],
      "execution_count": null,
      "outputs": [
        {
          "output_type": "stream",
          "text": [
            "1.435867\n",
            "1\n",
            "435867\n",
            "\n"
          ],
          "name": "stdout"
        }
      ]
    },
    {
      "cell_type": "markdown",
      "metadata": {
        "id": "ARwsgxUm4Lx3",
        "colab_type": "text"
      },
      "source": [
        "**[24]**  \n",
        "단어를 1개 입력받는다.  \n",
        "입력받은 단어(영어)의 각 문자를 한줄에 한 문자씩 분리해 출력한다.  \n",
        "(단, 단어의 문자(영어)를 하나씩 나누어 한 줄에 한 개씩 ' '로 묶어서 출력한다.)  \n",
        "\n",
        "입력 :  \n",
        "'Boy'\n",
        "\n",
        "출력 :  \n",
        "'B'  \n",
        "'o'  \n",
        "'y'  \n",
        "\n",
        "**Tip::**  \n",
        "1. str도 List와 동일하게 배열과 같은 형식으로 접근가능하다. 문자열도 리스트와 같이 iterable 객체이기 때문이다. \n",
        " - *ex) '문자열'[0] >> '문'*  \n",
        "2. 반복문 for()를 이용하여 문자열의 길이만큼 반복한다."
      ]
    },
    {
      "cell_type": "code",
      "metadata": {
        "id": "QqQxBQyz3v3j",
        "colab_type": "code",
        "colab": {
          "base_uri": "https://localhost:8080/",
          "height": 133
        },
        "outputId": "e67923f0-91c5-4231-921c-8835152c9ab8"
      },
      "source": [
        "string = input()\n",
        "for i in range(len(string)):\n",
        "  print(\"'{}'\".format(string[i]))"
      ],
      "execution_count": null,
      "outputs": [
        {
          "output_type": "stream",
          "text": [
            "WooRim\n",
            "'W'\n",
            "'o'\n",
            "'o'\n",
            "'R'\n",
            "'i'\n",
            "'m'\n"
          ],
          "name": "stdout"
        }
      ]
    },
    {
      "cell_type": "markdown",
      "metadata": {
        "id": "E0oSkOrk6vUY",
        "colab_type": "text"
      },
      "source": [
        "**[25]**  \n",
        "다섯 자리의 정수 1개를 입력받아 각 자리별로 나누어 출력한다.  \n",
        "\n",
        "입력 :  \n",
        "75254\n",
        "\n",
        "출력 :  \n",
        "[70000]  \n",
        "[5000]  \n",
        "[200]  \n",
        "[50]  \n",
        "[4]  \n",
        "\n",
        "**Tip::**  \n",
        "1. 문자열 연산이 가능함을 잊지 말자.\n",
        " - ex) '문자'*5 >> '문자문자문자문자문자'\n"
      ]
    },
    {
      "cell_type": "code",
      "metadata": {
        "id": "GtIyCI-H4onc",
        "colab_type": "code",
        "colab": {
          "base_uri": "https://localhost:8080/",
          "height": 116
        },
        "outputId": "efd92896-a026-41cb-e8ec-68e5a99372e2"
      },
      "source": [
        "integer = input()\n",
        "count = len(integer)-1\n",
        "for i in range(len(integer)):\n",
        "  print([int(integer[i] + '0'*count)])\n",
        "  count -= 1"
      ],
      "execution_count": null,
      "outputs": [
        {
          "output_type": "stream",
          "text": [
            "75254\n",
            "[70000]\n",
            "[5000]\n",
            "[200]\n",
            "[50]\n",
            "[4]\n"
          ],
          "name": "stdout"
        }
      ]
    },
    {
      "cell_type": "markdown",
      "metadata": {
        "id": "Kk_caywO94vQ",
        "colab_type": "text"
      },
      "source": [
        "**[26]**  \n",
        "입력되는 시:분:초 에서 분만 출력해보자."
      ]
    },
    {
      "cell_type": "code",
      "metadata": {
        "id": "Lpko3AB08AF8",
        "colab_type": "code",
        "colab": {
          "base_uri": "https://localhost:8080/",
          "height": 50
        },
        "outputId": "580b7650-95e6-40ca-fd18-02ef7d0b6410"
      },
      "source": [
        "h, m, s = input().split(':')\n",
        "print(m)"
      ],
      "execution_count": null,
      "outputs": [
        {
          "output_type": "stream",
          "text": [
            "17:24:55\n",
            "24\n"
          ],
          "name": "stdout"
        }
      ]
    },
    {
      "cell_type": "markdown",
      "metadata": {
        "id": "WWZ6Nudb-zck",
        "colab_type": "text"
      },
      "source": [
        "**[27]**  \n",
        "년월일을 출력하는 방법은 나라마다, 형식마다 조금씩 다르다.\n",
        "\n",
        "년월일(yyyy.mm.dd)를 입력받아,\n",
        "\n",
        "일월년(dd-mm-yyyy)로 출력해보자.\n",
        "\n",
        "(단, 한 자리 일/월은 0을 붙여 두자리로 출력한다.) \n",
        "\n",
        "**Tip::**  \n",
        "1. 조건문 if-else문을 파이썬의 3항 연산자(Chapter 10 참고) 기능을 이용하면 더 간단하게 작성할 수 있다. 이렇게 작성하는 것이 메모리 효율성면에서도 효과적이다. (18번 참고)\n",
        "\n"
      ]
    },
    {
      "cell_type": "code",
      "metadata": {
        "id": "grVVF8za-Cqu",
        "colab_type": "code",
        "colab": {
          "base_uri": "https://localhost:8080/",
          "height": 50
        },
        "outputId": "65a6cd62-6c31-4c45-8fd5-0e87fd0b6827"
      },
      "source": [
        "y, m, d = input().split('.')\n",
        "m = '0'+m if len(m) == 1 else m\n",
        "d = '0'+d if len(d) == 1 else d\n",
        "print('{}-{}-{}'.format(d, m, y))"
      ],
      "execution_count": null,
      "outputs": [
        {
          "output_type": "stream",
          "text": [
            "2020.2.11\n",
            "11-02-2020\n"
          ],
          "name": "stdout"
        }
      ]
    },
    {
      "cell_type": "markdown",
      "metadata": {
        "id": "Vyl4z9z9AwE4",
        "colab_type": "text"
      },
      "source": [
        "\n",
        "\n",
        "---\n",
        "\n",
        "\n",
        "##**3. 기초-데이터형**\n",
        "\n",
        "\n",
        "---\n",
        "\n"
      ]
    },
    {
      "cell_type": "markdown",
      "metadata": {
        "id": "ogkDxYVrBCUD",
        "colab_type": "text"
      },
      "source": [
        "**[28]**  \n",
        "정수 1개를 입력받아 그대로 출력해보자.\n",
        "```\n",
        "파이썬에서의 int() 데이터형의 크기는 4바이트(32비트)로 지정되어있다.\n",
        "이보다 큰 범위를 지정하고자 할 때는 long 데이터 형을 이용하면 된다.\n",
        "파이썬에서는 4가지의 데이터형을 제공한다.\n",
        "```\n",
        "**파이썬에서 제공하는 데이터형**  \n",
        "int (plain integers) : 정수  \n",
        "long (long integers) : int 보다 범위가 큰 정수(메모리 한계까지 저장 가능, 사실상 무제한)  \n",
        "float (floating point numbers) : 실수  \n",
        "complex (complex numbers) : 복소수  "
      ]
    },
    {
      "cell_type": "code",
      "metadata": {
        "id": "DhDZScNM_bL_",
        "colab_type": "code",
        "colab": {
          "base_uri": "https://localhost:8080/",
          "height": 50
        },
        "outputId": "093e0936-f9e8-45d6-ae8b-c325906fb3b4"
      },
      "source": [
        "integer = int(input())\n",
        "print(integer)"
      ],
      "execution_count": null,
      "outputs": [
        {
          "output_type": "stream",
          "text": [
            "500\n",
            "500\n"
          ],
          "name": "stdout"
        }
      ]
    },
    {
      "cell_type": "markdown",
      "metadata": {
        "id": "Wv7qDdzKBTt0",
        "colab_type": "text"
      },
      "source": [
        "**[29]**  \n",
        "실수 1개를 입력받아 그대로 출력해보자."
      ]
    },
    {
      "cell_type": "code",
      "metadata": {
        "id": "PiaJcKVABLkY",
        "colab_type": "code",
        "colab": {
          "base_uri": "https://localhost:8080/",
          "height": 50
        },
        "outputId": "6027c58e-5b6d-484b-c895-e5d472ae4526"
      },
      "source": [
        "fl = float(input())\n",
        "print(fl)"
      ],
      "execution_count": null,
      "outputs": [
        {
          "output_type": "stream",
          "text": [
            "40\n",
            "40.0\n"
          ],
          "name": "stdout"
        }
      ]
    },
    {
      "cell_type": "markdown",
      "metadata": {
        "id": "TYv9o-aXBfhE",
        "colab_type": "text"
      },
      "source": [
        "**[30]**  \n",
        "정수 1개를 입력받아 그대로 출력해보자.\n",
        "\n"
      ]
    },
    {
      "cell_type": "code",
      "metadata": {
        "id": "GzPBNGg2BczL",
        "colab_type": "code",
        "colab": {
          "base_uri": "https://localhost:8080/",
          "height": 50
        },
        "outputId": "e43d2cd9-d3d9-4a23-f409-df28875147eb"
      },
      "source": [
        "integer = int(input())\n",
        "print(integer)"
      ],
      "execution_count": null,
      "outputs": [
        {
          "output_type": "stream",
          "text": [
            "-234234818\n",
            "-234234818\n"
          ],
          "name": "stdout"
        }
      ]
    },
    {
      "cell_type": "markdown",
      "metadata": {
        "id": "hwsiwCQxFQQw",
        "colab_type": "text"
      },
      "source": [
        "\n",
        "\n",
        "---\n",
        "\n",
        "\n",
        "## **4. 기초-출력변환**\n",
        "\n",
        "---\n",
        "\n"
      ]
    },
    {
      "cell_type": "markdown",
      "metadata": {
        "id": "btRpjD2XCLxi",
        "colab_type": "text"
      },
      "source": [
        "**[31]**\n",
        "\n",
        "10진수를 입력받아 8진수(octal)로 출력해보자.\n",
        "\n",
        "**Tip::**  \n",
        "1. 8진수는 '0o12'처럼 숫자 앞에 '0o'를 붙여준다. 이것으로 '12'가 8진수의 '12'임을 인지한다.\n",
        "2. 10진수를 8진수로 변환하는 함수는 oct()이며, '0o12'와 같이 출력되므로 앞 두자리를 생략하고 출력하면된다. 따라서 '0o12'[2:]를 해주면 되는 것."
      ]
    },
    {
      "cell_type": "code",
      "metadata": {
        "id": "0VPhe4PDBo2I",
        "colab_type": "code",
        "colab": {
          "base_uri": "https://localhost:8080/"
        },
        "outputId": "e1b8ae81-e7d0-4a65-b16d-ee8997be754b"
      },
      "source": [
        "octal = int(input())\n",
        "print( oct(octal)[2:] )"
      ],
      "execution_count": null,
      "outputs": [
        {
          "output_type": "stream",
          "text": [
            "10\n",
            "12\n"
          ],
          "name": "stdout"
        }
      ]
    },
    {
      "cell_type": "markdown",
      "metadata": {
        "id": "m4MQZt2FEYi9",
        "colab_type": "text"
      },
      "source": [
        "**[32]**  \n",
        "\n",
        "10진수를 입력받아 16진수(hexadecimal)로 출력해보자.  \n",
        "\n",
        "**Tip::**  \n",
        "1. 16진수는 '0xa'처럼 숫자 앞에 '0x'를 붙여준다. 이것으로 'a'가 16진수의 'a'임을 인지한다.\n",
        "2. 10진수를 16진수로 변환하는 함수는 hex()이며, '0xa'와 같이 출력되므로 앞 두자리를 생략하고 출력하면된다. 따라서 '0xa'[2:]를 해주면 되는 것."
      ]
    },
    {
      "cell_type": "code",
      "metadata": {
        "id": "ABC-P52HCdP1",
        "colab_type": "code",
        "colab": {
          "base_uri": "https://localhost:8080/"
        },
        "outputId": "d7865287-c070-42ee-cd58-30ceb006dbc6"
      },
      "source": [
        "hexadecimal = int(input())\n",
        "print( hex(hexadecimal)[2:] )"
      ],
      "execution_count": null,
      "outputs": [
        {
          "output_type": "stream",
          "text": [
            "10\n",
            "a\n"
          ],
          "name": "stdout"
        }
      ]
    },
    {
      "cell_type": "markdown",
      "metadata": {
        "id": "1sT-IY8AHzWz",
        "colab_type": "text"
      },
      "source": [
        "**[33]**  \n",
        "10진수를 입력받아 16진수(hexadecimal)로 출력해보자.  \n",
        "16진수(**대문자**)로 출력한다.  \n",
        "\n",
        "\n",
        "**Tip::**  \n",
        "1. 소문자를 대문자로 변환하려면 문자열의 메소드(함수)인 upper()를 이용하면 된다."
      ]
    },
    {
      "cell_type": "code",
      "metadata": {
        "id": "fc21f1VzEpvF",
        "colab_type": "code",
        "colab": {
          "base_uri": "https://localhost:8080/"
        },
        "outputId": "f7625ca2-3a3c-4fbc-ca1c-403b10212d6b"
      },
      "source": [
        "hexadecimal = int(input())\n",
        "hexConv = hex(hexadecimal)[2:]\n",
        "print( hexConv.upper() )"
      ],
      "execution_count": null,
      "outputs": [
        {
          "output_type": "stream",
          "text": [
            "10\n",
            "A\n"
          ],
          "name": "stdout"
        }
      ]
    },
    {
      "cell_type": "markdown",
      "metadata": {
        "id": "m0pN4jn-IyM2",
        "colab_type": "text"
      },
      "source": [
        "**[34]**  \n",
        "8진수로 입력된 정수 1개를 10진수로 바꾸어 출력해보자.\n",
        "\n",
        "**Tip::**  \n",
        "1. 10진수로 변환하고자 할 때는 int()를 이용하면 된다. 첫번째 파라미터로는 변환하고자하는 숫자의 문자열('0o12')을, 두번째 파라미터로는 첫번째 값이 몇 진수인지를 정수로 입력하면 된다."
      ]
    },
    {
      "cell_type": "code",
      "metadata": {
        "id": "aVAHpKOAIgkd",
        "colab_type": "code",
        "colab": {
          "base_uri": "https://localhost:8080/"
        },
        "outputId": "48ff59ae-ddef-4a9e-ce83-b66ca3e57bca"
      },
      "source": [
        "octal = '0o' + input()\n",
        "print( int(octal, 8) )\n"
      ],
      "execution_count": null,
      "outputs": [
        {
          "output_type": "stream",
          "text": [
            "12\n",
            "10\n"
          ],
          "name": "stdout"
        }
      ]
    },
    {
      "cell_type": "markdown",
      "metadata": {
        "id": "x4AmJTklOdmF",
        "colab_type": "text"
      },
      "source": [
        "**[35]**  \n",
        "\n",
        "16진수로 입력된 정수 1개를 **8진수**로 바꾸어 출력해보자.\n",
        "\n",
        "**Tip::**  \n",
        "1. 16진수 >> 10진수 >> 8진수 순서대로 변환"
      ]
    },
    {
      "cell_type": "code",
      "metadata": {
        "id": "rab5laNmJgtp",
        "colab_type": "code",
        "colab": {
          "base_uri": "https://localhost:8080/"
        },
        "outputId": "9e5eeae5-259a-4779-dcf0-4c522fe78c0d"
      },
      "source": [
        "hexadecimal = '0x' + input()\n",
        "integer = int(hexadecimal, 16)\n",
        "print( oct(integer)[2:] )\n"
      ],
      "execution_count": null,
      "outputs": [
        {
          "output_type": "stream",
          "text": [
            "10\n",
            "20\n"
          ],
          "name": "stdout"
        }
      ]
    },
    {
      "cell_type": "markdown",
      "metadata": {
        "id": "qFRWruajP95C",
        "colab_type": "text"
      },
      "source": [
        "**[36]**\n",
        "\n",
        "영문자 1개를 입력받아 아스키 코드표의 10진수 값으로 출력해보자.\n",
        "\n",
        "**아스키 코드란?**\n",
        "- 문자를 이진수의 7비트로 표현한 것\n",
        "- 예 ) A => 1100001\n",
        "\n",
        "**Tip::**  \n",
        "1. 문자열에 대응되는 아스키코드를 반환해주는 함수 ord()를 이용하면 된다."
      ]
    },
    {
      "cell_type": "code",
      "metadata": {
        "id": "0fTO64cbOsLS",
        "colab_type": "code",
        "colab": {
          "base_uri": "https://localhost:8080/"
        },
        "outputId": "35c1fc65-3ed7-4a3c-bf64-b8791ef0d508"
      },
      "source": [
        "askii = ord(input())\n",
        "print( askii )"
      ],
      "execution_count": null,
      "outputs": [
        {
          "output_type": "stream",
          "text": [
            "a\n",
            "97\n"
          ],
          "name": "stdout"
        }
      ]
    },
    {
      "cell_type": "markdown",
      "metadata": {
        "id": "ARbEIWCAV_AM",
        "colab_type": "text"
      },
      "source": [
        "**[37]**\n",
        "\n",
        "10진 정수 1개를 입력받아 아스키 문자로 출력해보자.\n"
      ]
    },
    {
      "cell_type": "code",
      "metadata": {
        "id": "uLBvZox2Qelu",
        "colab_type": "code",
        "colab": {
          "base_uri": "https://localhost:8080/"
        },
        "outputId": "4f0b53b0-0186-4cd1-c0c6-1b27c78beff8"
      },
      "source": [
        "askii = chr(int(input()))\n",
        "print( askii )"
      ],
      "execution_count": null,
      "outputs": [
        {
          "output_type": "stream",
          "text": [
            "97\n",
            "a\n"
          ],
          "name": "stdout"
        }
      ]
    },
    {
      "cell_type": "markdown",
      "metadata": {
        "id": "FPQrJBk9W4Jh",
        "colab_type": "text"
      },
      "source": [
        "\n",
        "\n",
        "---\n",
        "\n",
        "\n",
        "## **5. 기초-산술연산**\n",
        "\n",
        "\n",
        "---\n",
        "\n"
      ]
    },
    {
      "cell_type": "markdown",
      "metadata": {
        "id": "DxDom6y9W_zP",
        "colab_type": "text"
      },
      "source": [
        "**[38]**  \n",
        "정수 2개를 입력받아 합을 출력하는 프로그램을 작성해보자.\n"
      ]
    },
    {
      "cell_type": "code",
      "metadata": {
        "id": "bfOo1f8rWC6K",
        "colab_type": "code",
        "colab": {
          "base_uri": "https://localhost:8080/"
        },
        "outputId": "283bc27a-f48d-4d94-d8c8-98abc39595f4"
      },
      "source": [
        "a, b = map(int, input().split())\n",
        "print( a+b )"
      ],
      "execution_count": null,
      "outputs": [
        {
          "output_type": "stream",
          "text": [
            "100 -101\n",
            "-1\n"
          ],
          "name": "stdout"
        }
      ]
    },
    {
      "cell_type": "markdown",
      "metadata": {
        "id": "eI2x82SsXwAd",
        "colab_type": "text"
      },
      "source": [
        "**[39]**  \n",
        "정수 2개를 입력받아 합을 출력하는 프로그램을 작성해보자.\n",
        "```\n",
        "실제 문제에서는 굉장히 넓은 정수 범위의 데이터형을 요구하는 문제이나 파이썬에서는 int()로 처리가 가능하다.\n",
        "예를 들어 C에서 unsinged int보다도 크며 unsinged long과 같은 범위를 지니고 있다고 한다.\n",
        "```\n",
        "\n",
        "**실제 범위**\n",
        "\n",
        "범위 : -9223372036854775808 ~ 9223372036854775807\n",
        "\n",
        "\n",
        "\n",
        "```\n",
        "이보다 큰 범위를 지정하고자 할 때는 long 데이터 형을 이용하면 된다.\n",
        "파이썬에서는 4가지의 데이터형을 제공한다.\n",
        "```\n",
        "**파이썬에서 제공하는 데이터형**  \n",
        "int (plain integers) : 정수  \n",
        "long (long integers) : int 보다 범위가 큰 정수  \n",
        "float (floating point numbers) : 실수  \n",
        "complex (complex numbers) : 복소수  "
      ]
    },
    {
      "cell_type": "code",
      "metadata": {
        "id": "sWWwYmpnXXl9",
        "colab_type": "code",
        "colab": {
          "base_uri": "https://localhost:8080/"
        },
        "outputId": "df1254da-54ee-410f-85ac-61a4c8f9dbfb"
      },
      "source": [
        "a, b = map(int, input().split())\n",
        "print( a+b )"
      ],
      "execution_count": null,
      "outputs": [
        {
          "output_type": "stream",
          "text": [
            "-394792 -394792\n",
            "-789584\n"
          ],
          "name": "stdout"
        }
      ]
    },
    {
      "cell_type": "markdown",
      "metadata": {
        "id": "3y-tw1vDc0ll",
        "colab_type": "text"
      },
      "source": [
        "**[40]**\n",
        "\n",
        "입력된 정수의 부호를 바꿔 출력해보자.\n"
      ]
    },
    {
      "cell_type": "code",
      "metadata": {
        "id": "9iE1_DG_XzYA",
        "colab_type": "code",
        "colab": {
          "base_uri": "https://localhost:8080/"
        },
        "outputId": "a08bb09c-00cf-4981-aab3-650de053db56"
      },
      "source": [
        "intConv = -int(input())\n",
        "print( intConv )"
      ],
      "execution_count": null,
      "outputs": [
        {
          "output_type": "stream",
          "text": [
            "-20498\n",
            "20498\n"
          ],
          "name": "stdout"
        }
      ]
    },
    {
      "cell_type": "markdown",
      "metadata": {
        "id": "AElitTcGdfEd",
        "colab_type": "text"
      },
      "source": [
        "**[41]**\n",
        "\n",
        "영문자 1개를 입력받아 그 다음 문자를 출력해보자.\n",
        "\n",
        "영문자 'A'의 다음 문자는 'B'이고, 영문자 '0'의 다음 문자는 '1'이다.\n",
        "\n",
        "**Tip::**  \n",
        "1. 아스키 코드를 이용하면 된다.\n",
        "2. 'A' == 97(1000001), 'B' == 98(1000010) 이므로 아스키 코드로 변환된 숫자에 1을 더한 뒤 아스키 문자로 재변환 해주면 된다."
      ]
    },
    {
      "cell_type": "code",
      "metadata": {
        "id": "Yt5bcRQJc_n-",
        "colab_type": "code",
        "colab": {
          "base_uri": "https://localhost:8080/"
        },
        "outputId": "8f99a5f3-6cb7-470f-d227-2e49f6c5718c"
      },
      "source": [
        "order = ord(input())\n",
        "print( chr(order+1) )"
      ],
      "execution_count": null,
      "outputs": [
        {
          "output_type": "stream",
          "text": [
            "A\n",
            "B\n"
          ],
          "name": "stdout"
        }
      ]
    },
    {
      "cell_type": "markdown",
      "metadata": {
        "id": "UnyzNz1afDDt",
        "colab_type": "text"
      },
      "source": [
        "**[42]**\n",
        "\n",
        "정수 2개(a, b) 를 입력받아 a를 b로 나눈 몫을 출력해보자.\n",
        "\n",
        "**Tip::**  \n",
        "1. 산술 연산자 '/'는 정확히 나눈 후의 값을 반환한다. *ex) 1/3 >> 0.33333*\n",
        "2. 산술 연산자 '//'는 나눈 후의 몫만 반환한다. *ex) 1/3 >> 0*\n",
        "\n"
      ]
    },
    {
      "cell_type": "code",
      "metadata": {
        "id": "do-KVPRDfE8R",
        "colab_type": "code",
        "colab": {
          "base_uri": "https://localhost:8080/"
        },
        "outputId": "150e2ada-49cf-4356-8047-593c4703ddea"
      },
      "source": [
        "a, b = map(int, input().split())\n",
        "print( a//b )"
      ],
      "execution_count": null,
      "outputs": [
        {
          "output_type": "stream",
          "text": [
            "1 3\n",
            "0\n"
          ],
          "name": "stdout"
        }
      ]
    },
    {
      "cell_type": "markdown",
      "metadata": {
        "id": "oFb9VQxFgElN",
        "colab_type": "text"
      },
      "source": [
        "**[43]**\n",
        "\n",
        "정수 2개(a, b) 를 입력받아 a를 b로 나눈 나머지를 출력해보자."
      ]
    },
    {
      "cell_type": "code",
      "metadata": {
        "id": "ly3hhBxxdr-D",
        "colab_type": "code",
        "colab": {
          "base_uri": "https://localhost:8080/"
        },
        "outputId": "cb3886de-b321-4b53-e9d2-bb54049509b3"
      },
      "source": [
        "a, b = map(int, input().split())\n",
        "print( a%b )"
      ],
      "execution_count": null,
      "outputs": [
        {
          "output_type": "stream",
          "text": [
            "1 3\n",
            "1\n"
          ],
          "name": "stdout"
        }
      ]
    },
    {
      "cell_type": "markdown",
      "metadata": {
        "id": "X3CWdj3qgTNB",
        "colab_type": "text"
      },
      "source": [
        "**[44]**\n",
        "\n",
        "정수를 1개 입력받아 1만큼 더해 출력해보자.\n"
      ]
    },
    {
      "cell_type": "code",
      "metadata": {
        "id": "ZRnn08cwgI5Z",
        "colab_type": "code",
        "colab": {
          "base_uri": "https://localhost:8080/"
        },
        "outputId": "f5ee67a2-3824-4d69-99f6-9731ea935c50"
      },
      "source": [
        "a = int(input())\n",
        "print( a+1 )"
      ],
      "execution_count": null,
      "outputs": [
        {
          "output_type": "stream",
          "text": [
            "155\n",
            "156\n"
          ],
          "name": "stdout"
        }
      ]
    },
    {
      "cell_type": "markdown",
      "metadata": {
        "id": "_b73XQ3Igsg7",
        "colab_type": "text"
      },
      "source": [
        "**[45]**\n",
        "\n",
        "정수 2개(a, b)를 입력받아 합, 차, 곱, 몫, 나머지, 나눈 값을 자동으로 계산해보자.\n",
        "```\n",
        "첫 줄에 합  \n",
        "둘째 줄에 차,  \n",
        "셋째 줄에 곱,  \n",
        "넷째 줄에 몫,  \n",
        "다섯째 줄에 나머지,  \n",
        "여섯째 줄에 나눈 값을 순서대로 출력한다.  \n",
        "(실수, 소수점 이하 셋째 자리에서 반올림해 둘째 자리까지 출력)  \n",
        "```\n",
        "\n"
      ]
    },
    {
      "cell_type": "code",
      "metadata": {
        "id": "UUYymqc7gacF",
        "colab_type": "code",
        "colab": {
          "base_uri": "https://localhost:8080/"
        },
        "outputId": "bc0f3d68-bffd-46ac-8aeb-56d51973d52a"
      },
      "source": [
        "a, b = map(int, input().split())\n",
        "print( a+b )\n",
        "print( a-b )\n",
        "print( a*b )\n",
        "print( a//b )\n",
        "print( a%b )\n",
        "print( round(a/b, 2) )"
      ],
      "execution_count": null,
      "outputs": [
        {
          "output_type": "stream",
          "text": [
            "11 7\n",
            "18\n",
            "4\n",
            "77\n",
            "1\n",
            "4\n",
            "1.57\n"
          ],
          "name": "stdout"
        }
      ]
    },
    {
      "cell_type": "markdown",
      "metadata": {
        "id": "xROoACDih3IQ",
        "colab_type": "text"
      },
      "source": [
        "**[46]**\n",
        "\n",
        "정수 3개를 입력받아 합과 평균을 출력해보자.\n",
        "```\n",
        "합과 평균을 줄을 바꿔 출력한다.\n",
        "평균은 소수점 이하 둘째 자리에서 반올림해서 소수점 이하 첫째 자리까지 출력한다.\n",
        "```\n",
        "\n"
      ]
    },
    {
      "cell_type": "code",
      "metadata": {
        "id": "YxFe6D3phW_F",
        "colab_type": "code",
        "colab": {
          "base_uri": "https://localhost:8080/"
        },
        "outputId": "aac7f8b6-29d1-4c20-ef9e-608183f79117"
      },
      "source": [
        "a, b, c = map(int, input().split())\n",
        "print( a+b+c )\n",
        "print( round((a+b+c)/3, 1) )"
      ],
      "execution_count": null,
      "outputs": [
        {
          "output_type": "stream",
          "text": [
            "10 15 25\n",
            "50\n",
            "16.7\n"
          ],
          "name": "stdout"
        }
      ]
    },
    {
      "cell_type": "markdown",
      "metadata": {
        "id": "s1IXJymFirBS",
        "colab_type": "text"
      },
      "source": [
        "\n",
        "\n",
        "---\n",
        "\n",
        "\n",
        "## **6. 기초-비트 시프트 연산**\n",
        "\n",
        "\n",
        "---\n",
        "\n"
      ]
    },
    {
      "cell_type": "markdown",
      "metadata": {
        "id": "NeyAu2_8ixqR",
        "colab_type": "text"
      },
      "source": [
        "**[47]**\n",
        "\n",
        "정수 1개를 입력받아 2배 곱해 출력해보자.\n",
        "\n",
        "**Tip::**  \n",
        "1. 곱하기 2를 해도 되지만 이진수를 왼쪽으로 한 번씩 이동시켜주면 기존 값의 두 배가 된다.\n",
        " - *ex) 5(101) => 10(1010), 7(111) => 14(1110)*"
      ]
    },
    {
      "cell_type": "code",
      "metadata": {
        "id": "jt_WIARViGjP",
        "colab_type": "code",
        "colab": {
          "base_uri": "https://localhost:8080/",
          "height": 51
        },
        "outputId": "1911fbc3-490e-4c19-bb52-aa2b74472fac"
      },
      "source": [
        "mul = int(input())\n",
        "print( mul<<1 )"
      ],
      "execution_count": null,
      "outputs": [
        {
          "output_type": "stream",
          "text": [
            "5\n",
            "10\n"
          ],
          "name": "stdout"
        }
      ]
    },
    {
      "cell_type": "markdown",
      "metadata": {
        "id": "seTML269YkwU",
        "colab_type": "text"
      },
      "source": [
        "**[48]**\n",
        "\n",
        "정수 2개(a, b)를 입력받아 a를 2(b 제곱)배 곱한 값으로 출력해보자.\n",
        "( a * 2(b 제곱) )\n",
        "\n",
        "**Tip::**  \n",
        "![팁](https://www.codeup.kr/upload/pimg6164_1.png)"
      ]
    },
    {
      "cell_type": "code",
      "metadata": {
        "id": "01ZNutAmXWQ9",
        "colab_type": "code",
        "colab": {
          "base_uri": "https://localhost:8080/",
          "height": 51
        },
        "outputId": "f550aff2-10c0-44a7-c77a-351117f3274b"
      },
      "source": [
        "a, b = map(int,input().split())\n",
        "print( a<<b )"
      ],
      "execution_count": null,
      "outputs": [
        {
          "output_type": "stream",
          "text": [
            "12 3\n",
            "96\n"
          ],
          "name": "stdout"
        }
      ]
    },
    {
      "cell_type": "markdown",
      "metadata": {
        "id": "9db6rqW5ZwSE",
        "colab_type": "text"
      },
      "source": [
        "\n",
        "\n",
        "---\n",
        "\n",
        "\n",
        "## **7. 기초-비교연산**\n",
        "\n",
        "\n",
        "---\n",
        "\n",
        "\n"
      ]
    },
    {
      "cell_type": "markdown",
      "metadata": {
        "id": "7Kga7Dp-Z5Qg",
        "colab_type": "text"
      },
      "source": [
        "**[49]**\n",
        "\n",
        "두 정수(a, b)를 입력받아 a가 b보다 크면 1을, a가 b보다 작거나 같으면 0을 출력하는 프로그램을 작성해보자.\n",
        "\n",
        "```\n",
        "**참고**\n",
        "어떤 값을 비교하기 위해 비교/관계연산자(comparison/relational)를 사용할 수 있다.\n",
        "\n",
        "비교/관계연산자 > 는\n",
        "왼쪽의 값이 오른쪽 값 보다 큰 경우 참(true)을 나타내는 정수값 1로 계산하고,\n",
        "그 외의 경우에는 거짓(false)를 나타내는 정수값 0으로 계산한다.\n",
        "\n",
        "비교/관계연산자도 일반적인 사칙연산자처럼 주어진 두 수를 이용해 계산을 수행하고,\n",
        "그 결과를 1(참), 또는 0(거짓)으로 계산해 주는 연산자이다.\n",
        "\n",
        "비교/관계연산자는 >, <, >=, <=, ==(같다), !=(다르다) 6개가 있다.\n",
        "```\n",
        "\n",
        "**Tip::**  \n",
        "\n",
        "![대체 텍스트](https://www.codeup.kr/upload/pimg6165_1.png)\n",
        "\n",
        "1. 조건문 if-elif를 사용하여 조건들 마다의 실행 구문을 제시해줄 수 있다.\n"
      ]
    },
    {
      "cell_type": "code",
      "metadata": {
        "id": "0_jNa8vWZRIy",
        "colab_type": "code",
        "colab": {
          "base_uri": "https://localhost:8080/",
          "height": 85
        },
        "outputId": "e153ba1f-fce2-474e-ad03-2c24949824bd"
      },
      "source": [
        "a, b = map(int, input().split())\n",
        "if a > b:\n",
        "  print( 1 )\n",
        "elif a <= b:\n",
        "  print( 0 )"
      ],
      "execution_count": null,
      "outputs": [
        {
          "output_type": "stream",
          "text": [
            "5 7\n",
            "0\n",
            "0\n",
            "0\n"
          ],
          "name": "stdout"
        }
      ]
    },
    {
      "cell_type": "markdown",
      "metadata": {
        "id": "33NuQ_fIdRmf",
        "colab_type": "text"
      },
      "source": [
        "**[50]**\n",
        "\n",
        "두 정수(a, b)를 입력받아\n",
        "a와 b가 같으면 1을, 같지 않으면 0을 출력하는 프로그램을 작성해보자."
      ]
    },
    {
      "cell_type": "code",
      "metadata": {
        "id": "d_2DNT8pbkNn",
        "colab_type": "code",
        "colab": {
          "base_uri": "https://localhost:8080/",
          "height": 51
        },
        "outputId": "7734cc52-8140-42b5-916c-2f03ea6fb50a"
      },
      "source": [
        "a, b = map(int, input().split())\n",
        "if a == b:\n",
        "  print( 1 )\n",
        "elif a != b:\n",
        "  print( 0 )"
      ],
      "execution_count": null,
      "outputs": [
        {
          "output_type": "stream",
          "text": [
            "7 5\n",
            "0\n"
          ],
          "name": "stdout"
        }
      ]
    },
    {
      "cell_type": "markdown",
      "metadata": {
        "id": "0YF-YSPxdh_P",
        "colab_type": "text"
      },
      "source": [
        "**[51]**\n",
        "\n",
        "두 정수(a, b)를 입력받아\n",
        "b가 a보다 크거나 같으면 1을, 그렇지 않으면 0을 출력하는 프로그램을 작성해보자.\n",
        "\n",
        "\n",
        "**Tip::**  \n",
        "1. \"그렇지 않으면\" 이라는 조건은 else로 처리할 수 있다."
      ]
    },
    {
      "cell_type": "code",
      "metadata": {
        "id": "V2gAL89wdXH5",
        "colab_type": "code",
        "colab": {
          "base_uri": "https://localhost:8080/"
        },
        "outputId": "fcb17257-11c1-4848-f503-327718e41692"
      },
      "source": [
        "a, b = map(int, input().split())\n",
        "if b >= a:\n",
        "  print( 1 )\n",
        "else:\n",
        "  print( 0 )"
      ],
      "execution_count": null,
      "outputs": [
        {
          "output_type": "stream",
          "text": [
            "234 57532\n",
            "1\n"
          ],
          "name": "stdout"
        }
      ]
    },
    {
      "cell_type": "markdown",
      "metadata": {
        "id": "kjSwfj9weBAt",
        "colab_type": "text"
      },
      "source": [
        "**[52]**\n",
        "\n",
        "두 정수(a, b)를 입력받아\n",
        "a와 b가 서로 다르면 1을, 그렇지 않으면 0을 출력하는 프로그램을 작성해보자.\n"
      ]
    },
    {
      "cell_type": "code",
      "metadata": {
        "id": "6syIkNbneEZu",
        "colab_type": "code",
        "colab": {
          "base_uri": "https://localhost:8080/",
          "height": 51
        },
        "outputId": "ebd87c45-c749-4f11-b987-dc9a08a73671"
      },
      "source": [
        "a, b = map(int, input().split())\n",
        "if b != a:\n",
        "  print( 1 )\n",
        "else:\n",
        "  print( 0 )"
      ],
      "execution_count": null,
      "outputs": [
        {
          "output_type": "stream",
          "text": [
            "10 13\n",
            "1\n"
          ],
          "name": "stdout"
        }
      ]
    },
    {
      "cell_type": "markdown",
      "metadata": {
        "id": "xdlXE_dxeRIF",
        "colab_type": "text"
      },
      "source": [
        "\n",
        "\n",
        "---\n",
        "\n",
        "\n",
        "## **8. 기초-논리연산**\n",
        "---"
      ]
    },
    {
      "cell_type": "markdown",
      "metadata": {
        "id": "V2azhH18eVTz",
        "colab_type": "text"
      },
      "source": [
        "**[53]**\n",
        "\n",
        "1(true, 참) 또는 0(false, 거짓) 이 입력되었을 때\n",
        "반대로 출력하는 프로그램을 작성해보자.\n",
        "\n",
        "```\n",
        "**참고**\n",
        "파이썬에서 비교/관계 연산(==, !=, >, <, >=, <=)이 수행될 때,\n",
        "0은 거짓(false)으로 인식되고, 0이 아닌 모든 수는 참(true)으로 인식된다.\n",
        "\n",
        "참 또는 거짓의 논리값을 역(반대)으로 바꾸기 위해서는\n",
        "논리(logical)연산자 'not'를 사용할 수 있다.\n",
        "이러한 논리연산을 NOT 연산이라고 부른다.\n",
        "\n",
        "참, 거짓의 논리값(boolean value)인 불 값을 다루어주는 논리연산자는\n",
        "'not', 'and', 'or'가 있다.\n",
        "\n",
        "** 불 대수(boolean algebra)는 수학자 불이 만들어낸 것으로\n",
        "참/거짓만 가지는 논리값과 그 연산을 다룬다.\n",
        "```\n",
        "\n",
        "**Tip::**  \n",
        "1. 참 또는 거짓의 논리값을 역(반대)으로 바꾸기 위해서는\n",
        "논리(logical)연산자 'not'를 사용할 수 있다.\n",
        "\n",
        "![대체 텍스트](https://www.codeup.kr/upload/pimg6169_1.png)\n"
      ]
    },
    {
      "cell_type": "code",
      "metadata": {
        "id": "HyE7PSDNeL-g",
        "colab_type": "code",
        "colab": {
          "base_uri": "https://localhost:8080/",
          "height": 34
        },
        "outputId": "ab38acc9-dc3e-4184-e5eb-e7a53a3f0f24"
      },
      "source": [
        "boolean = int(input())\n",
        "print( not boolean )"
      ],
      "execution_count": null,
      "outputs": [
        {
          "output_type": "stream",
          "text": [
            "True\n"
          ],
          "name": "stdout"
        }
      ]
    },
    {
      "cell_type": "markdown",
      "metadata": {
        "id": "rOHNGGUyh05r",
        "colab_type": "text"
      },
      "source": [
        "**[54]**\n",
        "\n",
        "두 개의 참(1) 또는 거짓(0)이 입력될 때,\n",
        "모두 참일 때에만 참을 출력하는 프로그램을 작성해보자.\n",
        "\n",
        "**Tip::**  \n",
        "1. 파이썬에서는 AND연산값이 참이면 뒤에 있는 값을 출력하게 된다.\n",
        " - ex) '앞' and '뒤' >> '뒤'\n",
        "\n",
        " ![대체 텍스트](https://www.codeup.kr/upload/pimg6170_1.png)"
      ]
    },
    {
      "cell_type": "code",
      "metadata": {
        "id": "IUQEDso9fDrz",
        "colab_type": "code",
        "colab": {
          "base_uri": "https://localhost:8080/",
          "height": 153
        },
        "outputId": "dc0bf5fe-d9cd-4f08-c5b5-13a711a7f01a"
      },
      "source": [
        "for _ in range(4):\n",
        "  a, b = map(int, input().split())\n",
        "  print( a and b )"
      ],
      "execution_count": null,
      "outputs": [
        {
          "output_type": "stream",
          "text": [
            "0 131\n",
            "0\n",
            "131 456\n",
            "456\n",
            "777 888\n",
            "888\n",
            "888 0\n",
            "0\n"
          ],
          "name": "stdout"
        }
      ]
    },
    {
      "cell_type": "markdown",
      "metadata": {
        "id": "j8Zj22JsifA4",
        "colab_type": "text"
      },
      "source": [
        "**[55]**\n",
        "\n",
        "두 개의 참(1) 또는 거짓(0)이 입력될 때,\n",
        "하나라도 참이면 참을 출력하는 프로그램을 작성해보자.\n",
        "\n",
        "**Tip::**  \n",
        "1. 파이썬에서는 OR연산값이 참이면 참인 값을 출력하게 된다.\n",
        " - ex) '참' or 0 >> '참\n",
        " - ex) 0 or True >> True\n",
        "\n",
        " ![대체 텍스트](https://www.codeup.kr/upload/pimg6171_1.png)"
      ]
    },
    {
      "cell_type": "code",
      "metadata": {
        "id": "jLlfxrociCcL",
        "colab_type": "code",
        "colab": {
          "base_uri": "https://localhost:8080/",
          "height": 153
        },
        "outputId": "40d82454-cd55-43db-dbf1-509a9963fc3a"
      },
      "source": [
        "for i in range(4):\n",
        "  a, b = map(int, input().split())\n",
        "  print( a or b )"
      ],
      "execution_count": null,
      "outputs": [
        {
          "output_type": "stream",
          "text": [
            "0 555\n",
            "555\n",
            "678 0\n",
            "678\n",
            "333 2212\n",
            "333\n",
            "111 222\n",
            "111\n"
          ],
          "name": "stdout"
        }
      ]
    },
    {
      "cell_type": "markdown",
      "metadata": {
        "id": "bNuT7LwdwtkB",
        "colab_type": "text"
      },
      "source": [
        "**[우리밋이 알려주는 Bonus 문제 (1)]**\n",
        "\n",
        "1개의 정수형 입력이 들어오면 논리 연산을 이용하여 '홀수'와 '짝수'를 판별하여라\n",
        "\n",
        "**Tip::**  \n",
        "\n",
        "1. 입력이 2로 나눠지면 짝수이고, 그렇지 않으면 홀수임을 이용한다.\n",
        "2. 파이썬에서의 AND와 OR의 특징을 이용한다. => 파이썬에서는 이러한 연산을 \"삼항 연산\"으로 정의한다.(삼항연산은 Chapter 10에서 다룬다)"
      ]
    },
    {
      "cell_type": "code",
      "metadata": {
        "id": "XWByxDkYwuXW",
        "colab_type": "code",
        "colab": {
          "base_uri": "https://localhost:8080/",
          "height": 51
        },
        "outputId": "e7148b86-002d-47f0-8628-11726bf7ef67"
      },
      "source": [
        "number = int(input())\n",
        "print( number%2 and '홀수' or '짝수' )"
      ],
      "execution_count": null,
      "outputs": [
        {
          "output_type": "stream",
          "text": [
            "334\n",
            "짝수\n"
          ],
          "name": "stdout"
        }
      ]
    },
    {
      "cell_type": "markdown",
      "metadata": {
        "id": "DiRLtokNlkI5",
        "colab_type": "text"
      },
      "source": [
        "**[56]**\n",
        "\n",
        "두 가지의 참(1) 또는 거짓(0)이 입력될 때,\n",
        "참/거짓이 서로 다를 때에만 참을 출력하는 프로그램을 작성해보자.\n",
        "\n",
        "\n",
        "**Tip::**  \n",
        "1. 이러한 논리연산을 XOR(exclusive or, 배타적 논리합)연산이라고도 부른다. 이를 표현하기 위해서는 (a AND (NOT b)) OR ((NOT a) AND b)처럼 하면 된다.  \n",
        "![대체 텍스트](https://www.codeup.kr/upload/pimg6172_1.png)"
      ]
    },
    {
      "cell_type": "code",
      "metadata": {
        "id": "vNtYDSGSix3N",
        "colab_type": "code",
        "colab": {
          "base_uri": "https://localhost:8080/"
        },
        "outputId": "c65055ab-591d-400c-b522-ebbab9309b14"
      },
      "source": [
        "for _ in range(4):\n",
        "  a, b = map(int, input().split())\n",
        "  print( (a and (not b)) or ((not a) and b) )"
      ],
      "execution_count": null,
      "outputs": [
        {
          "output_type": "stream",
          "text": [
            "1 1\n",
            "False\n",
            "1 0\n",
            "True\n",
            "0 1\n",
            "1\n",
            "0 0\n",
            "0\n"
          ],
          "name": "stdout"
        }
      ]
    },
    {
      "cell_type": "markdown",
      "metadata": {
        "id": "wD0YPnw8m2P2",
        "colab_type": "text"
      },
      "source": [
        "**[57]**\n",
        "\n",
        "두 개의 참(1) 또는 거짓(0)이 입력될 때,\n",
        "참/거짓이 서로 같을 때에만 참이 계산되는 프로그램을 작성해보자.\n",
        "\n",
        "**Tip::**  \n",
        "![대체 텍스트](https://www.codeup.kr/upload/pimg6173_1.png)"
      ]
    },
    {
      "cell_type": "code",
      "metadata": {
        "id": "CtumjdEwmR-2",
        "colab_type": "code",
        "colab": {
          "base_uri": "https://localhost:8080/"
        },
        "outputId": "bb4b2f86-0354-4beb-ca6b-359d74b1bdaa"
      },
      "source": [
        "for _ in range(4):\n",
        "  a, b = map(int, input().split())\n",
        "  print( ((not a) and (not b)) or (a and b) )"
      ],
      "execution_count": null,
      "outputs": [
        {
          "output_type": "stream",
          "text": [
            "0 0\n",
            "True\n",
            "0 1\n",
            "0\n",
            "1 0\n",
            "0\n",
            "1 1\n",
            "1\n"
          ],
          "name": "stdout"
        }
      ]
    },
    {
      "cell_type": "markdown",
      "metadata": {
        "id": "CRlgVg8spDk9",
        "colab_type": "text"
      },
      "source": [
        "**[58]**\n",
        "\n",
        "두 개의 참(1) 또는 거짓(0)이 입력될 때,\n",
        "모두 거짓일 때에만 참이 계산되는 프로그램을 작성해보자.\n",
        "\n",
        "**Tip::**  \n",
        "![대체 텍스트](https://www.codeup.kr/upload/pimg6174_1.png)"
      ]
    },
    {
      "cell_type": "code",
      "metadata": {
        "id": "0jMWNLEVoTJa",
        "colab_type": "code",
        "colab": {
          "base_uri": "https://localhost:8080/"
        },
        "outputId": "1cab3c7e-5162-4969-ae98-0f16b82a2b1f"
      },
      "source": [
        "for _ in range(4):\n",
        "  a, b = map(int, input().split())\n",
        "  print( not(a or b) )"
      ],
      "execution_count": null,
      "outputs": [
        {
          "output_type": "stream",
          "text": [
            "0 0\n",
            "True\n",
            "0 1\n",
            "False\n",
            "1 0\n",
            "False\n",
            "1 1\n",
            "False\n"
          ],
          "name": "stdout"
        }
      ]
    },
    {
      "cell_type": "markdown",
      "metadata": {
        "id": "YB-57bflptJv",
        "colab_type": "text"
      },
      "source": [
        "\n",
        "\n",
        "\n",
        "\n",
        "---\n",
        "\n",
        "\n",
        "## **9. 기초-비트단위 논리연산**\n",
        "\n",
        "\n",
        "---\n",
        "\n"
      ]
    },
    {
      "cell_type": "markdown",
      "metadata": {
        "id": "HvqpFbkgpnMg",
        "colab_type": "text"
      },
      "source": [
        "**[59]**\n",
        "\n",
        "입력 된 정수를 **비트단위**로 참/거짓을 바꾼 후 정수로 출력해보자.  \n",
        "\n",
        "예를 들어 1이 입력되었을 때 저장되는  \n",
        "**1을 32비트 2진수로 표현하면 00000000 00000000 00000000 00000001 이고,  \n",
        "~1은 11111111 11111111 11111111 11111110 가 되는데 이는 -2를 의미한다.**  \n",
        "\n",
        "\n",
        "**Tip::**  \n",
        "\n",
        "비트단위(bitwise)연산자 ' ~ ' 를 붙이면 된다.  \n",
        "(~ : tilde, 틸드라고 읽는다.)  \n",
        "```\n",
        "**비트단위(bitwise) 연산자**\n",
        "~(bitwise not),  \n",
        "&(bitwise and),  \n",
        "|(bitwise or),  \n",
        "^(bitwise xor),\n",
        "<<(bitwise left shift),  \n",
        ">>(bitwise right shift)\n",
        "```\n",
        "\n",
        "**틈새 자료구조**(오버플로우 설명)\n",
        "```\n",
        "**참고**\n",
        "컴퓨터에 저장되는 모든 데이터들은 2진수 형태로 바뀌어 저장된다.\n",
        "0과 1로만 구성되는 비트단위들로 변환되어 저장되는데,\n",
        "양의 정수는 2진수 형태로 바뀌어 저장되고,\n",
        "음의 정수는 \"2의 보수 표현\"방법으로 저장된다.\n",
        "\n",
        "예를 들어 파이썬에서는 int형(4바이트(byte), 32비트)으로 선언된 변수에 양의 정수 5를 저장하면\n",
        "5의 2진수 형태인 101이 32비트로 만들어져\n",
        "00000000 00000000 00000000 00000101\n",
        "로 저장된다.(공백은 보기 편하도록 임의로 분리)\n",
        "\n",
        "int 형의 정수 0은\n",
        "00000000 00000000 00000000 00000000\n",
        "\n",
        "그리고 -1은 0에서 1을 더 빼고 32비트만 표시하는 형태로\n",
        "11111111 11111111 11111111 11111111 로 저장된다.\n",
        "\n",
        "-2는 -1에서 1을 더 빼면 된다.\n",
        "11111111 11111111 11111111 11111110 로 저장된다.\n",
        "\n",
        "그래서 int 형으로 선언된 변수에는 최소 -2147483648 을 의미하는\n",
        "10000000 00000000 00000000 00000000 부터\n",
        "\n",
        "최대 +2147483647 을 의미하는\n",
        "01111111 11111111 11111111 11111111 로 저장될 수 있는 것이다.\n",
        "\n",
        "그렇다면 -2147483648\n",
        "10000000 00000000 00000000 00000000 에서 1을 더 뺀다면?\n",
        "\n",
        "01111111 11111111 11111111 11111111 이 된다.\n",
        "즉 -2147483649 가 아닌 +2147483647 이 되는 것이다.\n",
        "\n",
        "이러한 것을 \"오버플로우(overflow, 넘침)\"라고 한다.\n",
        "\n",
        "이러한 내용을 간단히 표시하면, 정수 n이라고 할 때,\n",
        "\n",
        "~n = -n - 1\n",
        "-n = ~n + 1 과 같은 관계로 표현된다.\n",
        "```\n",
        "\n"
      ]
    },
    {
      "cell_type": "code",
      "metadata": {
        "id": "t-4LFvzGpYyg",
        "colab_type": "code",
        "colab": {
          "base_uri": "https://localhost:8080/",
          "height": 50
        },
        "outputId": "09ee32dc-987a-4a66-c5f9-cf019cabaa9b"
      },
      "source": [
        "bitNot = ~int(input())\n",
        "print( bitNot )"
      ],
      "execution_count": null,
      "outputs": [
        {
          "output_type": "stream",
          "text": [
            "5\n",
            "-6\n"
          ],
          "name": "stdout"
        }
      ]
    },
    {
      "cell_type": "markdown",
      "metadata": {
        "id": "YCI1aFGl0Xz5",
        "colab_type": "text"
      },
      "source": [
        "**[60]**\n",
        "\n",
        "입력된 정수 두 개를 **비트단위**로 and 연산한 후 그 결과를 정수로 출력해보자.\n",
        "\n",
        "예를 들어 3과 5가 입력되었을 때를 살펴보면  \n",
        "3       : 00000000 00000000 00000000 00000011  \n",
        "5       : 00000000 00000000 00000000 00000101  \n",
        "3 & 5 : 00000000 00000000 00000000 00000001  \n",
        "이 된다.\n",
        "\n",
        "\n",
        "**Tip::**  \n",
        "1. 비트단위(bitwise)연산자 &를 사용하면 된다.(and, ampersand, 앰퍼센드라고 읽는다.)\n",
        "2. 비트단위 and 연산은 두 비트열이 주어졌을 때,\n",
        "둘 다 1인 부분의 자리만 1로 만들어주는 것과 같다.\n",
        "\n",
        "\n",
        "```\n",
        "이 연산을 이용하면 어떤 비트열의 특정 부분만 모두 0으로도 만들 수 있는데\n",
        "192.168.0.31   : 11000000.10101000.00000000.00011111\n",
        "255.255.255.0 : 11111111.11111111.11111111.00000000\n",
        "\n",
        "두 개의 ip 주소를 & 연산하면\n",
        "192.168.0.0 : 110000000.10101000.0000000.00000000 을 계산할 수 있다.\n",
        "\n",
        "실제로 이 계산은 네트워크에 연결되어 있는 두 개의 컴퓨터가 데이터를 주고받기 위해\n",
        "같은 네트워크에 있는지 아닌지를 판단하는데 사용된다.\n",
        "\n",
        "이러한 비트단위 연산은 빠른 계산이 필요한 그래픽처리에서\n",
        "마스크연산(특정 부분을 가리고 출력하는)을 수행하는 데에도 효과적으로 사용된다\n",
        "```\n",
        "\n"
      ]
    },
    {
      "cell_type": "code",
      "metadata": {
        "id": "QqZX5Houvlk1",
        "colab_type": "code",
        "colab": {
          "base_uri": "https://localhost:8080/",
          "height": 50
        },
        "outputId": "be0d8603-cf3b-4f7b-9c7b-5992cc0ff245"
      },
      "source": [
        "a, b = map(int, input().split())\n",
        "print( a&b )"
      ],
      "execution_count": null,
      "outputs": [
        {
          "output_type": "stream",
          "text": [
            "3 5\n",
            "1\n"
          ],
          "name": "stdout"
        }
      ]
    },
    {
      "cell_type": "markdown",
      "metadata": {
        "id": "RNjHOL7u2VWI",
        "colab_type": "text"
      },
      "source": [
        "**[우리밋이 알려주는 Bonus 문제 (2)]**\n",
        "\n",
        "1개의 정수형 입력이 들어오면 비트 연산을 이용하여 '홀수'와 '짝수'를 판별하여라\n",
        "\n",
        "**Tip::**  \n",
        "\n",
        "1. '짝수'와 '홀수'를 리스트에 담고 짝수일 때는 '짝수'를, 홀수일 때는 '홀수'를 출력하게 한다.\n",
        "2. 0이 아닌 어떠한 정수일지라도 1과 비트단위 논리곱(&)을 수행하게 되면 1이 되는 특성을 이용한다.\n"
      ]
    },
    {
      "cell_type": "code",
      "metadata": {
        "id": "v3MYec-L2EsD",
        "colab_type": "code",
        "colab": {
          "base_uri": "https://localhost:8080/",
          "height": 50
        },
        "outputId": "a411241e-9c1c-4f32-82b3-e2e30ee81715"
      },
      "source": [
        "number = int(input())\n",
        "print( ['짝수', '홀수'][number & 1] )"
      ],
      "execution_count": null,
      "outputs": [
        {
          "output_type": "stream",
          "text": [
            "100\n",
            "짝수\n"
          ],
          "name": "stdout"
        }
      ]
    },
    {
      "cell_type": "markdown",
      "metadata": {
        "id": "weKibJmq32uh",
        "colab_type": "text"
      },
      "source": [
        "**[61]**\n",
        "\n",
        "입력된 정수 두 개를 비트단위로 or 연산한 후 그 결과를 정수로 출력해보자.\n",
        "\n",
        "예를 들어 3과 5가 입력되었을 때를 살펴보면  \n",
        "3     : 00000000 00000000 00000000 00000011  \n",
        "5     : 00000000 00000000 00000000 00000101  \n",
        "3 | 5 : 00000000 00000000 00000000 00000111  \n",
        "이 된다.\n",
        "\n",
        "\n",
        "**Tip::**  \n",
        "1. 비트단위(bitwise) 연산자 |(or, vertical bar, 버티컬바)를 사용하면 된다.\n",
        "2. | 은 파이프(pipe)연산자라고도 불리는 경우가 있다.\n",
        "3. 비트단위 or 연산은 둘 중 하나라도 1인 자리를 1로 만들어주는 것과 같다.\n",
        "\n",
        "이러한 비트단위 연산은 빠른 계산이 필요한 그래픽처리에서도 효과적으로 사용된다.\n",
        "\n"
      ]
    },
    {
      "cell_type": "code",
      "metadata": {
        "id": "NssVJYf-2l-f",
        "colab_type": "code",
        "colab": {
          "base_uri": "https://localhost:8080/",
          "height": 50
        },
        "outputId": "93419695-745f-43fb-a139-d871be237865"
      },
      "source": [
        "a, b = map(int, input().split())\n",
        "print( a|b )"
      ],
      "execution_count": null,
      "outputs": [
        {
          "output_type": "stream",
          "text": [
            "3 5\n",
            "7\n"
          ],
          "name": "stdout"
        }
      ]
    },
    {
      "cell_type": "markdown",
      "metadata": {
        "id": "SKuHEKJe4jqU",
        "colab_type": "text"
      },
      "source": [
        "**[62]**\n",
        "\n",
        "입력된 정수 두 개를 비트단위로 xor 연산한 후 그 결과를 정수로 출력해보자.\n",
        "\n",
        "\n",
        "예를 들어 3과 5가 입력되었을 때를 살펴보면  \n",
        "3       : 00000000 00000000 00000000 00000011  \n",
        "5       : 00000000 00000000 00000000 00000101  \n",
        "3 ^ 5 : 00000000 00000000 00000000 00000110  \n",
        "이 된다.\n",
        "\n",
        "\n",
        "**Tip::**  \n",
        "1. 비트단위(bitwise) 연산자 ^(xor, circumflex/caret, 서컴플렉스/카릿)를 사용하면 된다.\n",
        "2. 주의 ^은 수학식에서 거듭제곱(power)을 나타내는 기호와 모양은 같지만,\n",
        "파이썬에서는 전혀 다른 배타적 논리합(xor, 서로 다를 때 1)의 의미를 가진다.\n",
        "\n",
        "\n",
        "![대체 텍스트](https://www.codeup.kr/upload/pimg6178_1.png)\n",
        "\n",
        "이러한 비트단위 연산은 빠른 계산이 필요한 그래픽처리에서도 효과적으로 사용된다.\n",
        "\n",
        "```\n",
        "구체적으로 설명하자면,\n",
        "두 장의 이미지가 겹쳐졌을 때 색이 서로 다른 부분만 처리할 수 있다.\n",
        "배경이 되는 그림과 배경 위에서 움직이는 그림이 있을 때,\n",
        "두 그림에서 차이만 골라내 배경 위에서 움직이는 그림의 색으로 바꿔주면\n",
        "전체 그림을 구성하는 모든 점들의 색을 다시 계산해 입히지 않고\n",
        "보다 효과적으로 그림을 처리할 수 있게 되는 것이다.\n",
        "비행기 슈팅게임 등을 상상해보면 된다.\n",
        "```\n",
        "\n",
        "\n",
        "\n"
      ]
    },
    {
      "cell_type": "code",
      "metadata": {
        "id": "IcLsLb5o4T16",
        "colab_type": "code",
        "colab": {
          "base_uri": "https://localhost:8080/",
          "height": 50
        },
        "outputId": "dbb23367-c5cc-46bc-a63b-a1b171e2a7a1"
      },
      "source": [
        "a, b = map(int, input().split())\n",
        "print( a^b )"
      ],
      "execution_count": null,
      "outputs": [
        {
          "output_type": "stream",
          "text": [
            "138 255\n",
            "117\n"
          ],
          "name": "stdout"
        }
      ]
    },
    {
      "cell_type": "markdown",
      "metadata": {
        "colab_type": "text",
        "id": "bnt9ubAy3nT5"
      },
      "source": [
        "**[우리밋이 알려주는 Bonus 문제 (2-2]**\n",
        "\n",
        "\n",
        "```\n",
        "해당 문제는 '카카오'와 '우아한 테크코스(이하 우테코)'의 실제 코딩 테스트 데모 문제였음을 알려드립니다.\n",
        "카카오에서는 이 보다 훨씬 어려운 난이도의 코딩 문제들이 출제되며,\n",
        "우테코에서는 우테코의 최고 난이도를 10으로 봤을 때 4~5 정도(지극히 주관적 평가임을 유의)에 해당합니다.\n",
        "\n",
        "참고 : 필자는 해당 사에서 출제된 문제들을 풀어봤을 뿐 실제 코딩 시험은 치뤄본 적이 없습니다.\n",
        "```\n",
        "\n",
        "\n",
        "**문제**\n",
        "직사각형을 만드는 데 필요한 4개의 점 중 3개의 좌표가 주어질 때, 나머지 한 점의 좌표를 구하려고 합니다. 점 3개의 좌표가 들어있는 배열 v가 매개변수로 주어질 때, 직사각형을 만드는 데 필요한 나머지 한 점의 좌표를 return 하도록 solution 함수를 완성해주세요.\n",
        "\n",
        "단, 직사각형의 각 변은 x축, y축에 평행하며, 반드시 직사각형을 만들 수 있는 경우만 입력으로 주어집니다.\n",
        "\n",
        "**제한사항**\n",
        "1. v는 세 점의 좌표가 들어있는 2차원 배열입니다.\n",
        "2. v의 각 원소는 점의 좌표를 나타내며, 좌표는 [x축 좌표, y축 좌표] 순으로 주어집니다.\n",
        "3. 좌표 값은 1 이상 10억 이하의 자연수입니다.\n",
        "4. 직사각형을 만드는 데 필요한 나머지 한 점의 좌표를 [x축 좌표, y축 좌표] 순으로 담아 return 해주세요.\n",
        "\n",
        "**입력(1)**\n",
        "```\n",
        "[[1,4], [3,4], [3,10]]\n",
        "```\n",
        "**출력(1)**\n",
        "```\n",
        "[1,10]\n",
        "```\n",
        "\n",
        "\n",
        "**입력(2)**\n",
        "```\n",
        "[[1,1], [2,2], [1,2]]\n",
        "```\n",
        "**출력(2)**\n",
        "```\n",
        "[2,1]\n",
        "```\n",
        "\n",
        "\n",
        "**Tip::**  \n",
        "\n",
        "1. 나머지 한 점의 좌표는 기존에 좌표에서 없는 좌표이니,  1번만 입력된 좌표들을 찾아서 반환해주면 된다.\n",
        "2. XOR 연산을 통해 구현할 수도 있으며, 이 경우 코드의 실행 속도가 굉장히 빠르다.\n"
      ]
    },
    {
      "cell_type": "code",
      "metadata": {
        "id": "hVdM8oN91L7O",
        "colab_type": "code",
        "colab": {
          "base_uri": "https://localhost:8080/",
          "height": 33
        },
        "outputId": "2575c07c-b5a9-4f02-bbd6-fa8d6b9d2971"
      },
      "source": [
        "# 기본 풀이\n",
        "\n",
        "coordinates = [[1,4], [3,4], [3,10]]\n",
        "\n",
        "answer = []\n",
        "for i in range(2):\n",
        "  if coordinates[0][i] == coordinates[1][i]:\n",
        "    answer.append(coordinates[2][i])\n",
        "  elif coordinates[0][i] == coordinates[2][i]:\n",
        "    answer.append(coordinates[1][i])\n",
        "  elif coordinates[1][i] == coordinates[2][i]:\n",
        "    answer.append(coordinates[0][i])\n",
        "\n",
        "print( answer )"
      ],
      "execution_count": null,
      "outputs": [
        {
          "output_type": "stream",
          "text": [
            "[1, 10]\n"
          ],
          "name": "stdout"
        }
      ]
    },
    {
      "cell_type": "code",
      "metadata": {
        "id": "SJnJm4B_3mWU",
        "colab_type": "code",
        "colab": {
          "base_uri": "https://localhost:8080/",
          "height": 33
        },
        "outputId": "5728bf82-45ec-4a13-a000-844b342c9cef"
      },
      "source": [
        "# XOR 적용\n",
        "\n",
        "coordinates = [[1,4], [3,4], [3,10]]\n",
        "\n",
        "result = []\n",
        "result.append( coordinates[0][0] ^ coordinates[1][0] ^ coordinates[2][0] )\n",
        "result.append( coordinates[0][1] ^ coordinates[1][1] ^ coordinates[2][1] )\n",
        "\n",
        "print( result )"
      ],
      "execution_count": null,
      "outputs": [
        {
          "output_type": "stream",
          "text": [
            "[1, 10]\n"
          ],
          "name": "stdout"
        }
      ]
    },
    {
      "cell_type": "markdown",
      "metadata": {
        "id": "elSXiV8H51ee",
        "colab_type": "text"
      },
      "source": [
        "---\n",
        "## **10. 기초-삼항연산**\n",
        "---"
      ]
    },
    {
      "cell_type": "markdown",
      "metadata": {
        "id": "Ss4zGea-560H",
        "colab_type": "text"
      },
      "source": [
        "**[63]**\n",
        "\n",
        "입력된 두 정수 a, b 중 큰 값을 출력하는 프로그램을 작성해보자.  \n",
        "단, 조건문을 사용하지 않고 3항 연산자 'and or' 를 사용한다.\n",
        "\n",
        "**Tip::**  \n",
        "파이썬에서의 3항(세 개의 요소로 이루어지는) 연산자는 다른 언어와 사용 방식이 다소 다르다.  \n",
        "*타 언어 : \"조건식 ? (참일 때의 값) : (거짓일 때의 값)”*\n",
        "1. 파이썬에서의 3항(ternary) 연산자는 \"조건식 and (참일 때의 값) or (거짓일 때의 값)” 의 형태로 사용하는 연산자이다.\n",
        " - 조건식의 계산 결과가 참인 경우에는 'and' 오른쪽의 값 또는 식으로 바뀌고,\n",
        " - 거짓인 경우에는 'or' 오른쪽의 값 또는 식으로 바뀐다.\n",
        "2. 이것이 가능한 이유는 파이썬이 인터프리터 방식으로 동작하기 때문이다.\n",
        "\n",
        "```\n",
        "**인터프리터**\n",
        "파이썬은 스크립트 언어이며, 스크립트 언어는 대부분 인터프리터 방식으로 동작한다.\n",
        "인터프리터는 컴파일러와 대조되는 의미이기에 컴파일과 함께 설명이 필요하다.\n",
        "\n",
        "컴파일은 소스 코드를 처음부터 끝까지 모두 기게어로 번역한 후에 실행 파일을 만들고, 그것을 컴퓨터가 실행하는 방식이기 때문에 실행속도가 비교적 빠르다.\n",
        "인터프리트는 소스 코드를 처음부터 끝까지 전체 번역을 하는 것이 아니라, 실행되는 즉시 그 순간의 코드만을 기계어로 번역해 나아간다. \n",
        "따라서 모든 소스 코드를 통으로 번역하는 컴파일에 비해 생산 속도는 빠르나, 모두 번역되기까지의 시간이 비교적 오래 걸리므로 실행 속도가 느린 것이다.\n",
        "\n",
        "이러한 인터프리트(Interpret)를 실행하는 프로그램을 인터프리터라고 부르나, 실생활에서는 그다지 차이를 두고 얘기하진 않는다.\n",
        "by. 우리밋\n",
        "```\n",
        "\n"
      ]
    },
    {
      "cell_type": "code",
      "metadata": {
        "id": "LaNmOlwJ5T3u",
        "colab_type": "code",
        "colab": {
          "base_uri": "https://localhost:8080/",
          "height": 33
        },
        "outputId": "444a1e0f-45ef-4f58-ef31-0b447525b2fe"
      },
      "source": [
        "a, b = map(int, input().split())\n",
        "print( a>b and a or b )"
      ],
      "execution_count": null,
      "outputs": [
        {
          "output_type": "stream",
          "text": [
            "거짓\n"
          ],
          "name": "stdout"
        }
      ]
    },
    {
      "cell_type": "markdown",
      "metadata": {
        "id": "0fnWggDfD_s4",
        "colab_type": "text"
      },
      "source": [
        "**[64]**  \n",
        "  \n",
        "입력된 세 정수 a, b, c 중 가장 작은 값을 출력하는 프로그램을 작성해보자.\n",
        "(단, 삼항 연산자 이용)\n",
        "\n",
        "**Tip::**  \n",
        "1. 파이썬에서는 논리연산을 이용한 삼항 연산자 외에 if-else를 이용한 삼항 연산도 제공한다. 이러한 이유는 논리연산을 이용한 삼항연산 때 발생할 수 있는 오류가 있기 때문이다.\n",
        " - 3항 논리 연산의 오류 : 5==5 and 5-5 or 5+5 >> 10\n",
        " - 위 연산에서는 5==5가 참이기 때문에 5-5가 실행되어 0이 출력되는 것이 맞다. 그러나 10이 출력된다. 이유는 논리 연산의 특성 때문이다.\n",
        " - 위 구문을 크게 따져보면 (True and false) or true 로 표현할 수 있다. 따라서 앞의 (True and false)가 false가 되므로 or 오른쪽에 true 값인 10이 출력된 것이다.\n",
        "2. if-else를 이용한 삼항 연산은 \"(참일 때의 값) if (조건식) else (거짓일 때의 값)\"으로 나타낼 수 있다.\n",
        "3. 삼항 연산자는 중첩하여 이용할 수 있다."
      ]
    },
    {
      "cell_type": "code",
      "metadata": {
        "id": "0uPGMGaTF5y4",
        "colab_type": "code",
        "colab": {
          "base_uri": "https://localhost:8080/",
          "height": 50
        },
        "outputId": "21dfff43-da8d-4643-a825-8f195e0315d7"
      },
      "source": [
        "a, b, c = map(int, input().split())\n",
        "num = a if a<b else b\n",
        "print(  num if num < c else c )\n"
      ],
      "execution_count": null,
      "outputs": [
        {
          "output_type": "stream",
          "text": [
            "3 5 10\n",
            "3\n"
          ],
          "name": "stdout"
        }
      ]
    },
    {
      "cell_type": "markdown",
      "metadata": {
        "id": "fVnzEocG7pJZ",
        "colab_type": "text"
      },
      "source": [
        "**[우리밋이 알려주는 Bonus 문제 (3)]**\n",
        "\n",
        "1개의 정수형 입력이 들어오면 삼항 연산을 이용하여 '홀수'와 '짝수'를 판별하여라\n",
        "\n",
        "**Tip::**  \n",
        "\n",
        "1. 입력이 2로 나눠지면 짝수이고, 그렇지 않으면 홀수임을 이용한다.\n",
        "2. 파이썬에서의 논리연산인 AND와 OR의 특징(Chapter 8 참고)을 이용한다. => 파이썬에서는 이러한 연산을 \"삼항 연산\"으로 정의한다.\n",
        "\n",
        "**Tip2::**  \n",
        "1. 입력이 2로 나눠지면 짝수이고, 그렇지 않으면 홀수임을 이용한다.\n",
        "2. 파이썬에서의 삼항 연산은 if-else로도 구현할 수 있다."
      ]
    },
    {
      "cell_type": "code",
      "metadata": {
        "id": "-yyjgfKK6rRa",
        "colab_type": "code",
        "colab": {
          "base_uri": "https://localhost:8080/",
          "height": 50
        },
        "outputId": "e2373cf1-4ac2-42c3-d90d-d419a129e2fd"
      },
      "source": [
        "number = int(input())\n",
        "print( '홀수' if number%2 else '짝수' )"
      ],
      "execution_count": null,
      "outputs": [
        {
          "output_type": "stream",
          "text": [
            "121\n",
            "홀수\n"
          ],
          "name": "stdout"
        }
      ]
    },
    {
      "cell_type": "markdown",
      "metadata": {
        "id": "4BKdap6XHuxK",
        "colab_type": "text"
      },
      "source": [
        "---\n",
        "## **11. 기초-조건/선택실행구조**\n",
        "---"
      ]
    },
    {
      "cell_type": "markdown",
      "metadata": {
        "id": "kYUNLMOfJVUL",
        "colab_type": "text"
      },
      "source": [
        "**[65]**\n",
        "\n",
        "세 정수 a, b, c가 입력되었을 때, 짝수만 출력해보자.\n",
        "\n",
        "**Tip1::**  \n",
        "1. 조건문 이용\n",
        " - [조건문 배우러가기](https://blog.naver.com/dnfla420/221452997812)\n",
        "\n",
        "**Tip2::**  \n",
        "1. filter() 이용\n",
        " - [필터 함수 배우러가기](https://blog.naver.com/dnfla420/221749353805)\n",
        "2. '*(asterisk)' 이용\n",
        " - ['*' Asterisk 배우러가기](https://blog.naver.com/dnfla420/221749146572)\n",
        "3. 익명함수 lambda 이용\n",
        " - [익명함수 lambda 배우러가기](https://blog.naver.com/dnfla420/221750350240)"
      ]
    },
    {
      "cell_type": "code",
      "metadata": {
        "id": "LVs_zCX7AQHS",
        "colab_type": "code",
        "colab": {
          "base_uri": "https://localhost:8080/",
          "height": 50
        },
        "outputId": "b7bfae09-c42e-482e-f76c-28bbaf40c01f"
      },
      "source": [
        "# 1\n",
        "a, b, c = map(int, input().split())\n",
        "if not a%2: print(a)\n",
        "if not b%2: print(b)\n",
        "if not c%2: print(c)\n",
        "\n",
        "#2\n",
        "a, b, c = map(int, input().split())\n",
        "print( *(filter(lambda num: num%2 == 0, [a, b, c])) )"
      ],
      "execution_count": null,
      "outputs": [
        {
          "output_type": "stream",
          "text": [
            "4 6 8\n",
            "4 6 8\n"
          ],
          "name": "stdout"
        }
      ]
    },
    {
      "cell_type": "markdown",
      "metadata": {
        "id": "3ln2n8aYNQ6Q",
        "colab_type": "text"
      },
      "source": [
        "**[66]**\n",
        "\n",
        "세 정수 a, b, c가 입력되었을 때, 짝(even)/홀(odd)을 출력해보자.\n",
        "\n",
        "[매핑함수 map() 배우러가기](https://blog.naver.com/dnfla420/221750001689)"
      ]
    },
    {
      "cell_type": "code",
      "metadata": {
        "id": "NDqDAJe9KraT",
        "colab_type": "code",
        "colab": {
          "base_uri": "https://localhost:8080/",
          "height": 50
        },
        "outputId": "4495990f-dce5-4ba0-cf67-4b74c9ae0bbf"
      },
      "source": [
        "# 1\n",
        "a, b, c = map(int, input().split())\n",
        "print( 'odd' if a%2 else 'even' )\n",
        "print( b%2 and 'odd' or 'even' )\n",
        "print( ['even', 'odd'][c%2] )\n",
        "\n",
        "\n",
        "#2\n",
        "a, b, c = map(int, input().split())\n",
        "print( *map(lambda num: 'odd' if num%2 else 'even', [a, b, c]) )"
      ],
      "execution_count": null,
      "outputs": [
        {
          "output_type": "stream",
          "text": [
            "5 6 7\n",
            "odd even odd\n"
          ],
          "name": "stdout"
        }
      ]
    },
    {
      "cell_type": "markdown",
      "metadata": {
        "id": "wFViRFM6PjKX",
        "colab_type": "text"
      },
      "source": [
        "**[67]**\n",
        "\n",
        "정수 1개가 입력되었을 때, 음(minus)/양(plus)과 짝(even)/홀(odd)을 출력해보자.\n",
        "\n",
        "**입력**  \n",
        "-4  \n",
        "**출력**  \n",
        "minus  \n",
        "even\n"
      ]
    },
    {
      "cell_type": "code",
      "metadata": {
        "id": "_5YVWbqFOMzf",
        "colab_type": "code",
        "colab": {
          "base_uri": "https://localhost:8080/",
          "height": 66
        },
        "outputId": "7d399336-9f75-4a4c-fbfb-af78c750f559"
      },
      "source": [
        "num = int(input())\n",
        "print( num>0 and 'plus' or 'minus' )\n",
        "print( num%2 and 'odd' or 'even' )"
      ],
      "execution_count": null,
      "outputs": [
        {
          "output_type": "stream",
          "text": [
            "-7\n",
            "minus\n",
            "odd\n"
          ],
          "name": "stdout"
        }
      ]
    },
    {
      "cell_type": "markdown",
      "metadata": {
        "id": "VEHULC1uRLOn",
        "colab_type": "text"
      },
      "source": [
        "**[68]**\n",
        "\n",
        "점수(정수, 0 ~ 100)를 입력받아 평가를 출력해보자.\n",
        "\n",
        "```\n",
        "**평가 기준**\n",
        "점수 범위 : 평가\n",
        " 90 ~  100 : A\n",
        " 70 ~   89 : B\n",
        " 40 ~   69 : C\n",
        "  0 ~   39 : D\n",
        "로 평가되어야 한다.\n",
        "```\n",
        "\n",
        "**Tip::**  \n",
        "1. if-elif-else를 이용한다.\n"
      ]
    },
    {
      "cell_type": "code",
      "metadata": {
        "id": "-e7mJGzIQjjA",
        "colab_type": "code",
        "colab": {
          "base_uri": "https://localhost:8080/",
          "height": 50
        },
        "outputId": "c66e0743-e4ec-4675-86fe-f60fff6496e5"
      },
      "source": [
        "grade = int(input())\n",
        "if grade >= 90:\n",
        "  print('A+')\n",
        "elif grade >= 70:\n",
        "  print('B')\n",
        "elif grade >= 40:\n",
        "  print('C')\n",
        "else:\n",
        "  print('D')"
      ],
      "execution_count": null,
      "outputs": [
        {
          "output_type": "stream",
          "text": [
            "100\n",
            "A+\n"
          ],
          "name": "stdout"
        }
      ]
    },
    {
      "cell_type": "markdown",
      "metadata": {
        "id": "qZJkKElHklGD",
        "colab_type": "text"
      },
      "source": [
        "**[69]**\n",
        "\n",
        "평가를 문자(A, B, C, D, ...)로 입력받아 내용을 다르게 출력해보자.\n",
        "\n",
        "**평가 내용**  \n",
        "[평가 : 내용]  \n",
        "A : best!!!  \n",
        "B : good!!  \n",
        "C : run!  \n",
        "D : slowly~  \n",
        "나머지 문자들 : what?  \n",
        "\n",
        "\n"
      ]
    },
    {
      "cell_type": "code",
      "metadata": {
        "id": "hvbc7li1kVrN",
        "colab_type": "code",
        "colab": {
          "base_uri": "https://localhost:8080/",
          "height": 50
        },
        "outputId": "31a83df6-a5a7-4cbf-950c-b41b4b270913"
      },
      "source": [
        "word = input()\n",
        "if word == 'A':\n",
        "  print('best!!!')\n",
        "elif word == 'B':\n",
        "  print('good!!')\n",
        "elif word == 'C':\n",
        "  print('run!')\n",
        "elif word == 'D':\n",
        "  print('slowly~')\n",
        "else:\n",
        "  print('what?')"
      ],
      "execution_count": null,
      "outputs": [
        {
          "output_type": "stream",
          "text": [
            "A+\n",
            "what?\n"
          ],
          "name": "stdout"
        }
      ]
    },
    {
      "cell_type": "markdown",
      "metadata": {
        "id": "U2MmopPtml9n",
        "colab_type": "text"
      },
      "source": [
        "**[70]**\n",
        "월이 입력될 때 계절 이름이 출력되도록 해보자.\n",
        "\n",
        "**예**  \n",
        "[월 : 계절 이름]  \n",
        "12, 1, 2 : winter  \n",
        "  3, 4, 5  : spring  \n",
        "  6, 7, 8  : summer  \n",
        "  9, 10, 11 : fall  "
      ]
    },
    {
      "cell_type": "code",
      "metadata": {
        "id": "2MYHwZn5mLI2",
        "colab_type": "code",
        "colab": {
          "base_uri": "https://localhost:8080/",
          "height": 50
        },
        "outputId": "13ca4c45-504b-4f5a-e1a3-938b6911ee6e"
      },
      "source": [
        "# 1\n",
        "month = int(input())\n",
        "if month==12 or month==1 or month==2:\n",
        "  print('winter')\n",
        "elif month==3 or month==4 or month==5:\n",
        "  print('spring')\n",
        "elif month==6 or month==7 or month==8:\n",
        "  print('summer')\n",
        "else:\n",
        "  print('fall')\n",
        "\n",
        "# 2\n",
        "if month in [12,1,2]:\n",
        "  print('winter')\n",
        "elif month in [3,4,5]:\n",
        "  print('spring')\n",
        "elif month in [6,7,8]:\n",
        "  print('summer')\n",
        "else:\n",
        "  print('fall')"
      ],
      "execution_count": null,
      "outputs": [
        {
          "output_type": "stream",
          "text": [
            "3\n",
            "spring\n"
          ],
          "name": "stdout"
        }
      ]
    },
    {
      "cell_type": "code",
      "metadata": {
        "id": "MN3aDJ2znivz",
        "colab_type": "code",
        "colab": {}
      },
      "source": [
        ""
      ],
      "execution_count": null,
      "outputs": []
    },
    {
      "cell_type": "markdown",
      "metadata": {
        "id": "ePavep7znzSD",
        "colab_type": "text"
      },
      "source": [
        "---\n",
        "## **12. 기초-반복실행구조**\n",
        "---"
      ]
    },
    {
      "cell_type": "markdown",
      "metadata": {
        "id": "XXaVO_Wjn5m3",
        "colab_type": "text"
      },
      "source": [
        "**[71]**  \n",
        "정수가 순서대로 입력된다.  \n",
        "(단, 개수는 알 수 없다.)\n",
        "\n",
        "0이 아니면 입력된 정수를 출력하고, 0이 입력되면 출력을 중단해보자.  \n",
        "while( ), for( ) 등의 반복문을 사용할 수 없다.\n",
        "\n",
        "**입력**  \n",
        "정수가 순서대로 입력된다.\n",
        "```\n",
        "7 4 2 3 0 1 5 6 9 10 8\n",
        "```\n",
        "**출력**  \n",
        "입력된 정수를 줄을 바꿔 하나씩 출력하는데, 0이 입력되면 종료한다.\n",
        "(0은 출력하지 않는다.)\n",
        "```\n",
        "7\n",
        "4\n",
        "2\n",
        "3\n",
        "```\n",
        "\n",
        "**Tip::**  \n",
        "원래 이 문제는 goto문을 이용해 풀도록 유도한 것인데 파이썬에서는 goto문을 제공하지 않으므로 함수를 이용하여 풀도록 한다.\n",
        "1. 파이썬에서는 do~while()과 같은 반복문도 제공하지 않는다.\n",
        "2. 파이썬에서는 함수를 이용하여 goto문처럼 사용하면 된다.  \n",
        " - [함수 배우러가기](https://wikidocs.net/24)"
      ]
    },
    {
      "cell_type": "code",
      "metadata": {
        "id": "Hs-UZPo8JQxW",
        "colab_type": "code",
        "colab": {
          "base_uri": "https://localhost:8080/",
          "height": 98
        },
        "outputId": "ed513f58-250f-45e9-9fb3-f211b1c1859f"
      },
      "source": [
        "# define : 정의하다\n",
        "# 재귀함수\n",
        "\n",
        "def goto(array, i):\n",
        "  if array[i] == 0:\n",
        "    return\n",
        "  print(array[i])\n",
        "  i += 1\n",
        "  goto(array, i)\n",
        "\n",
        "array = list(map(int, input().split()))\n",
        "goto(array, i = 0)"
      ],
      "execution_count": null,
      "outputs": [
        {
          "output_type": "stream",
          "text": [
            "7 4 2 3 0 1 5 6 9 10 8\n",
            "7\n",
            "4\n",
            "2\n",
            "3\n"
          ],
          "name": "stdout"
        }
      ]
    },
    {
      "cell_type": "markdown",
      "metadata": {
        "id": "So4yPhobyvtD",
        "colab_type": "text"
      },
      "source": [
        "**[72]**\n",
        "\n",
        "n개의 정수가 순서대로 입력된다.  \n",
        "(단 n의 최대 개수는 알 수 없다.)\n",
        "\n",
        "n개의 입력된 정수를 순서대로 출력해보자.  \n",
        "while( ), for( ) 등의 반복문을 사용할 수 없다.\n",
        "\n",
        "**입력**  \n",
        "첫 줄에 정수의 개수 n이 입력되고,\n",
        "두 번째 줄에 n개의 정수가 공백을 두고 입력된다.\n",
        "```\n",
        "5  \n",
        "1 2 3 4 5  \n",
        "```\n",
        "**출력**  \n",
        "n개의 정수를 한 개씩 줄을 바꿔 출력한다.\n",
        "\n",
        "```\n",
        "1  \n",
        "2  \n",
        "3  \n",
        "4  \n",
        "5  \n",
        "```\n",
        "\n",
        "**Tip::**  \n",
        "1. 리스트의 메소드인 reverse()는 내부 원소들을 거꾸로 재정렬해준다.\n",
        "\n"
      ]
    },
    {
      "cell_type": "code",
      "metadata": {
        "id": "HpKmnhRsqtCl",
        "colab_type": "code",
        "colab": {
          "base_uri": "https://localhost:8080/",
          "height": 245
        },
        "outputId": "ae43d9d2-8b80-4783-f2d5-d5d196853b58"
      },
      "source": [
        "n = int(input())\n",
        "number = list(map(int, input().split()))\n",
        "\n",
        "#1\n",
        "print('== #1 ==')\n",
        "\n",
        "def goto(number, n, i):\n",
        "  if i == n: return\n",
        "  print( number[i] )\n",
        "  i += 1\n",
        "  goto(number, n, i)\n",
        "\n",
        "goto(number, n, 0)\n",
        "\n",
        "\n",
        "#2 reverse 사용\n",
        "print('== #2 ==')\n",
        "\n",
        "number.reverse()\n",
        "def goto(number, n):\n",
        "  print(number[n])\n",
        "  n -= 1\n",
        "  if n == -1: return\n",
        "  goto(number, n)\n",
        "\n",
        "goto(number, n-1)"
      ],
      "execution_count": null,
      "outputs": [
        {
          "output_type": "stream",
          "text": [
            "5\n",
            "1 2 3 4 5\n",
            "== #1 ==\n",
            "1\n",
            "2\n",
            "3\n",
            "4\n",
            "5\n",
            "== #2 ==\n",
            "1\n",
            "2\n",
            "3\n",
            "4\n",
            "5\n"
          ],
          "name": "stdout"
        }
      ]
    },
    {
      "cell_type": "markdown",
      "metadata": {
        "id": "ne0UCit55J6k",
        "colab_type": "text"
      },
      "source": [
        "**[73]**\n",
        "\n",
        "정수가 순서대로 입력된다.  \n",
        "(단, 개수는 알 수 없다.)\n",
        "\n",
        "0이 아니면 입력된 정수를 출력하고, 0이 입력되면 출력을 중단해보자.\n",
        "\n",
        "**입력**  \n",
        "정수가 순서대로 입력된다.\n",
        "```\n",
        "7 4 2 3 0 1 5 6 9 10 8\n",
        "```\n",
        "**출력**  \n",
        "입력된 정수를 줄을 바꿔 하나씩 출력하는데, 0이 입력되면 종료한다.\n",
        "(0은 출력하지 않는다.)\n",
        "```\n",
        "7\n",
        "4\n",
        "2\n",
        "3\n",
        "```\n",
        "\n",
        "**Tip::**  \n",
        "[반복문 for() 배우러 가기](https://blog.naver.com/dnfla420/221453090579)"
      ]
    },
    {
      "cell_type": "code",
      "metadata": {
        "id": "NdneO-f6zfyU",
        "colab_type": "code",
        "colab": {
          "base_uri": "https://localhost:8080/",
          "height": 131
        },
        "outputId": "8e885635-d192-4b14-8e9f-ab53c89c46e1"
      },
      "source": [
        "#1\n",
        "number = map(int, input().split())\n",
        "\n",
        "for element in number:\n",
        "  if element is not 0:\n",
        "    print(element)\n",
        "    continue # continue를 만나면 아래의 구문은 실행하지 않고 다음 반복으로 넘어간다.\n",
        "  break"
      ],
      "execution_count": null,
      "outputs": [
        {
          "output_type": "stream",
          "text": [
            "3 4 5 2 6 3 0 4 2 5\n",
            "3\n",
            "4\n",
            "5\n",
            "2\n",
            "6\n",
            "3\n"
          ],
          "name": "stdout"
        }
      ]
    },
    {
      "cell_type": "code",
      "metadata": {
        "id": "nvb1UAXrNl9v",
        "colab_type": "code",
        "colab": {
          "base_uri": "https://localhost:8080/",
          "height": 131
        },
        "outputId": "4164b246-e758-4636-966c-ed7bff43b085"
      },
      "source": [
        "#2\n",
        "number = map(int, input().split())\n",
        "\n",
        "for value in number:\n",
        "  if value == 0: break\n",
        "  print( value )"
      ],
      "execution_count": null,
      "outputs": [
        {
          "output_type": "stream",
          "text": [
            "3 4 5 2 6 3 0 4 2 5\n",
            "3\n",
            "4\n",
            "5\n",
            "2\n",
            "6\n",
            "3\n"
          ],
          "name": "stdout"
        }
      ]
    },
    {
      "cell_type": "markdown",
      "metadata": {
        "id": "sHIaCHX78POs",
        "colab_type": "text"
      },
      "source": [
        "**[74]**\n",
        "\n",
        "정수(1 ~ 100) 1개가 입력되었을 때 카운트다운을 출력해보자.\n",
        "\n",
        "**입력**  \n",
        "정수 1개가 입력된다.\n",
        "(1 ~ 100)\n",
        "```\n",
        "5\n",
        "```\n",
        "**출력**  \n",
        "1씩 줄이면서 한 줄에 하나씩 1이 될 때까지 출력한다.\n",
        "```\n",
        "5\n",
        "4\n",
        "3\n",
        "2\n",
        "1\n",
        "```\n",
        "\n",
        "**Tip::**  \n",
        "[반복문 for() 배우러 가기](https://blog.naver.com/dnfla420/221453090579)"
      ]
    },
    {
      "cell_type": "code",
      "metadata": {
        "id": "ynkuguSs68Kr",
        "colab_type": "code",
        "colab": {
          "base_uri": "https://localhost:8080/",
          "height": 196
        },
        "outputId": "9de5379e-ecd0-4c8a-8d5c-5457d4a5fbbc"
      },
      "source": [
        "count = int(input())\n",
        "\n",
        "for i in range(count, 0, -1):\n",
        "  print( i )"
      ],
      "execution_count": null,
      "outputs": [
        {
          "output_type": "stream",
          "text": [
            "10\n",
            "10\n",
            "9\n",
            "8\n",
            "7\n",
            "6\n",
            "5\n",
            "4\n",
            "3\n",
            "2\n",
            "1\n"
          ],
          "name": "stdout"
        }
      ]
    },
    {
      "cell_type": "markdown",
      "metadata": {
        "id": "ofxLzDxh88cp",
        "colab_type": "text"
      },
      "source": [
        "**[75]**\n",
        "\n",
        "정수(1 ~ 100) 1개가 입력되었을 때 카운트다운을 출력해보자.\n",
        "\n",
        "**입력**  \n",
        "정수 1개가 입력된다.\n",
        "(1 ~ 100)\n",
        "```\n",
        "5\n",
        "```\n",
        "**출력**  \n",
        "1씩 줄이면서 한 줄에 하나씩 1이 될 때까지 출력한다.\n",
        "```\n",
        "4\n",
        "3\n",
        "2\n",
        "1\n",
        "0\n",
        "```\n",
        "\n",
        "**Tip::**  \n",
        "[반복문 for() 배우러 가기](https://blog.naver.com/dnfla420/221453090579)"
      ]
    },
    {
      "cell_type": "code",
      "metadata": {
        "id": "-G3xqpZ28se7",
        "colab_type": "code",
        "colab": {
          "base_uri": "https://localhost:8080/",
          "height": 196
        },
        "outputId": "907a4548-654d-43f0-8d49-bc58e4ddb98a"
      },
      "source": [
        "count = int(input())\n",
        "\n",
        "for i in range(count-1, -1, -1):\n",
        "  print( i )"
      ],
      "execution_count": null,
      "outputs": [
        {
          "output_type": "stream",
          "text": [
            "10\n",
            "9\n",
            "8\n",
            "7\n",
            "6\n",
            "5\n",
            "4\n",
            "3\n",
            "2\n",
            "1\n",
            "0\n"
          ],
          "name": "stdout"
        }
      ]
    },
    {
      "cell_type": "markdown",
      "metadata": {
        "id": "fsEmLkpL9Q5r",
        "colab_type": "text"
      },
      "source": [
        "**[76]**\n",
        "\n",
        "영문자(a ~ z) 1개가 입력되었을 때 그 문자까지의 알파벳을 순서대로 출력해보자.\n",
        "\n",
        "**입력**  \n",
        "영문자 1개가 입력된다.\n",
        "(a ~ z)\n",
        "```\n",
        "f\n",
        "```\n",
        "**출력**  \n",
        "a부터 입력한 문자까지 순서대로 공백을 두고 출력한다.\n",
        "```\n",
        "a b c d e f\n",
        "```\n",
        "\n",
        "**Tip::**  \n",
        "[반복문 for() 배우러 가기](https://blog.naver.com/dnfla420/221453090579)\n",
        "1. 아스키 코드를 이용하면 된다. \n",
        " - ord() : 문자를 아스키 코드의 10진수로 변환 *ex) 'a' >> 97*\n",
        " - chr() : 10진수의 아스키 코드를 문자로 변환 *ex) 97 >> 'a'*\n",
        "2. print() 함수의 두번째 파라미터인 end는 줄바꿈을 없애줄 수 있다. default값이 줄바꿈이다."
      ]
    },
    {
      "cell_type": "code",
      "metadata": {
        "id": "HOmBqhoWQmIy",
        "colab_type": "code",
        "colab": {
          "base_uri": "https://localhost:8080/",
          "height": 50
        },
        "outputId": "d3dd3512-036d-4230-cbb2-fc413e4a7ec3"
      },
      "source": [
        "converter = ord(input())\n",
        "\n",
        "for i in range(97, converter+1):\n",
        "  print( chr(i), end=' ' )"
      ],
      "execution_count": null,
      "outputs": [
        {
          "output_type": "stream",
          "text": [
            "h\n",
            "a b c d e f g h "
          ],
          "name": "stdout"
        }
      ]
    },
    {
      "cell_type": "markdown",
      "metadata": {
        "id": "sLNilNqiAMCS",
        "colab_type": "text"
      },
      "source": [
        "**[77]**\n",
        "\n",
        "정수(0 ~ 100) 1개를 입력받아 0부터 그 수까지 순서대로 출력해보자.\n",
        "\n",
        "**입력**  \n",
        "정수 1개가 입력된다.\n",
        "(0 ~ 100)\n",
        "```\n",
        "4\n",
        "```\n",
        "**출력**  \n",
        "0부터 그 수까지 줄을 바꿔 한 개씩 출력한다.\n",
        "```\n",
        "0\n",
        "1\n",
        "2\n",
        "3\n",
        "4\n",
        "```\n",
        "\n",
        "**Tip::**  \n",
        "[반복문 while() 배우러 가기](https://blog.naver.com/dnfla420/221746836000)\n",
        "1. for()로 푸는 것이 더 간단하나 while()문의 예를 보여드리기 위해 while로 풀었음."
      ]
    },
    {
      "cell_type": "code",
      "metadata": {
        "id": "Jatpv_eT-Bsv",
        "colab_type": "code",
        "colab": {
          "base_uri": "https://localhost:8080/",
          "height": 293
        },
        "outputId": "08294dd7-6bc4-462d-8d97-3c4e90cb43fb"
      },
      "source": [
        "count = int(input())\n",
        "\n",
        "i = 0\n",
        "while count >= 0:\n",
        "  print( i )\n",
        "  i += 1\n",
        "  count -= 1"
      ],
      "execution_count": null,
      "outputs": [
        {
          "output_type": "stream",
          "text": [
            "15\n",
            "0\n",
            "1\n",
            "2\n",
            "3\n",
            "4\n",
            "5\n",
            "6\n",
            "7\n",
            "8\n",
            "9\n",
            "10\n",
            "11\n",
            "12\n",
            "13\n",
            "14\n",
            "15\n"
          ],
          "name": "stdout"
        }
      ]
    },
    {
      "cell_type": "code",
      "metadata": {
        "id": "7OF4n9doR70L",
        "colab_type": "code",
        "colab": {
          "base_uri": "https://localhost:8080/",
          "height": 293
        },
        "outputId": "b9dadc2b-0104-4da3-d609-0b0e9b27ca65"
      },
      "source": [
        "count = int(input())\n",
        "\n",
        "for i in range(0, count+1):\n",
        "  print( i )"
      ],
      "execution_count": null,
      "outputs": [
        {
          "output_type": "stream",
          "text": [
            "15\n",
            "0\n",
            "1\n",
            "2\n",
            "3\n",
            "4\n",
            "5\n",
            "6\n",
            "7\n",
            "8\n",
            "9\n",
            "10\n",
            "11\n",
            "12\n",
            "13\n",
            "14\n",
            "15\n"
          ],
          "name": "stdout"
        }
      ]
    },
    {
      "cell_type": "markdown",
      "metadata": {
        "id": "uPIdWVNCCFYv",
        "colab_type": "text"
      },
      "source": [
        "---\n",
        "## **13. 기초-종합**\n",
        "---"
      ]
    },
    {
      "cell_type": "markdown",
      "metadata": {
        "id": "4afE8X47CU3y",
        "colab_type": "text"
      },
      "source": [
        "**[78]** 짝수 합 구하기\n",
        "\n",
        "정수(1 ~ 100) 1개를 입력받아 1부터 그 수까지 짝수의 합을 구해보자.\n",
        "\n",
        "**입력**  \n",
        "정수 1개가 입력된다.\n",
        "(0 ~ 100)\n",
        "```\n",
        "5\n",
        "```\n",
        "**출력**  \n",
        "1부터 입력된 수까지 짝수의 합을 출력한다.\n",
        "```\n",
        "6\n",
        "```\n",
        "\n",
        "**Tip::**  \n",
        "1. range()함수의 첫 인자를 2로하고, 세 번째 인자를 2로 하면 2에서 2씩 증가하기 때문에 모든 숫자가 짝수가 된다. 따라서 이를 모두 더해주면 되는 것."
      ]
    },
    {
      "cell_type": "code",
      "metadata": {
        "id": "DH6I3UJdBffY",
        "colab_type": "code",
        "colab": {
          "base_uri": "https://localhost:8080/",
          "height": 131
        },
        "outputId": "d9f9b7ad-979b-4ab7-a851-93a0369825a6"
      },
      "source": [
        "num = int(input())\n",
        "\n",
        "print('== #1 ==')\n",
        "#1\n",
        "answer = 0\n",
        "for i in range(2, num+1, 2):\n",
        "  answer += i\n",
        "print(answer)\n",
        "\n",
        "print('== #2 ==')\n",
        "#2\n",
        "answer2 = [i for i in range(2, num+1, 2)]\n",
        "print( sum(answer2) )\n",
        "\n",
        "print('== #3 ==')\n",
        "#3\n",
        "answer3 = range(2, num+1, 2)\n",
        "print( sum(answer3) )"
      ],
      "execution_count": null,
      "outputs": [
        {
          "output_type": "stream",
          "text": [
            "10\n",
            "== #1 ==\n",
            "30\n",
            "== #2 ==\n",
            "30\n",
            "== #3 ==\n",
            "30\n"
          ],
          "name": "stdout"
        }
      ]
    },
    {
      "cell_type": "markdown",
      "metadata": {
        "id": "xvg20C9fD6zl",
        "colab_type": "text"
      },
      "source": [
        "**[79]** 원하는 문자가 입력될 때까지 반복 출력하기\n",
        "\n",
        "'q'가 입력될 때까지 입력한 문자를 계속 출력하는 프로그램을 작성해보자.\n",
        "\n",
        "**입력**  \n",
        "문자들이 1개씩 계속해서 입력된다.  \n",
        "```\n",
        "x b k d l q g a c\n",
        "```\n",
        "**출력**  \n",
        "'q'가 입력될 때까지 입력된 문자를 줄을 바꿔 한 줄씩 출력한다.\n",
        "```\n",
        "x\n",
        "b\n",
        "k\n",
        "d\n",
        "l\n",
        "q\n",
        "```\n",
        "\n",
        "**Tip::**  \n",
        "1. 입력값이 공백을 기준으로 한 번에 입력되기 때문에 input()을 매번 호출할 필요가 없다.\n",
        "2. 입력된 문자열의 길이만큼만 반복하여 출력하면 되기에 for()문을 사용해도 된다."
      ]
    },
    {
      "cell_type": "code",
      "metadata": {
        "id": "Tfk8-u_NDBDt",
        "colab_type": "code",
        "colab": {
          "base_uri": "https://localhost:8080/",
          "height": 261
        },
        "outputId": "d60dfefa-92fe-43a6-d5da-851ca6f876dc"
      },
      "source": [
        "word = input().split()\n",
        "\n",
        "print('== #1 ==')\n",
        "#1\n",
        "for w in word:\n",
        "  print(w)\n",
        "  if w == 'q': break\n",
        "\n",
        "print('== #2 ==')\n",
        "#2\n",
        "i = 0\n",
        "while word[i] != 'q':\n",
        "  print(word[i])\n",
        "  i += 1\n",
        "print(word[i])"
      ],
      "execution_count": null,
      "outputs": [
        {
          "output_type": "stream",
          "text": [
            "x b k d l q g a c\n",
            "== #1 ==\n",
            "x\n",
            "b\n",
            "k\n",
            "d\n",
            "l\n",
            "q\n",
            "== #2 ==\n",
            "x\n",
            "b\n",
            "k\n",
            "d\n",
            "l\n",
            "q\n"
          ],
          "name": "stdout"
        }
      ]
    },
    {
      "cell_type": "markdown",
      "metadata": {
        "id": "wk6inuzFFl-r",
        "colab_type": "text"
      },
      "source": [
        "**[80]** 언제까지 더해야 할까?\n",
        "\n",
        "1, 2, 3 ... 을 계속 더해 나갈 때,\n",
        "그 합이 입력한 정수(0 ~ 1000)보다 같거나 작을 때까지\n",
        "계속 더하는 프로그램을 작성해보자.\n",
        "\n",
        "즉, 1부터 n까지 정수를 계속 더한다고 할 때,\n",
        "어디까지 더해야 입력한 수보다 같거나 커지는지 알아보고자 하는 문제이다.\n",
        "\n",
        "![대체 텍스트](https://www.codeup.kr/upload/pimg6196_1.png)\n",
        "\n",
        "**입력**  \n",
        "정수 1개가 입력된다.\n",
        "```\n",
        "55\n",
        "```\n",
        "**출력**  \n",
        "1, 2, 3, 4, 5 ... 를 순서대로 계속 더해 합을 만들어가다가,\n",
        "입력된 정수와 같거나 커졌을 때, 마지막에 더한 정수를 출력한다.\n",
        "```\n",
        "10\n",
        "```\n"
      ]
    },
    {
      "cell_type": "code",
      "metadata": {
        "id": "M-XAdyo9E6Mc",
        "colab_type": "code",
        "colab": {
          "base_uri": "https://localhost:8080/",
          "height": 98
        },
        "outputId": "f5133745-8a79-48a7-86cb-d649eb4ef7e0"
      },
      "source": [
        "end_point = int(input())\n",
        "\n",
        "print('== #1 ==')\n",
        "#1\n",
        "total = 0\n",
        "i = 0\n",
        "while total < end_point:\n",
        "  i += 1\n",
        "  total += i\n",
        "print( i )\n",
        "\n",
        "print('== #2 ==')\n",
        "#2\n",
        "total = 0\n",
        "for i in range(1, end_point+1):\n",
        "  total += i\n",
        "  if total >= end_point:\n",
        "    print( i )\n",
        "    break"
      ],
      "execution_count": null,
      "outputs": [
        {
          "output_type": "stream",
          "text": [
            "55\n",
            "== #1 ==\n",
            "10\n",
            "== #2 ==\n",
            "10\n"
          ],
          "name": "stdout"
        }
      ]
    },
    {
      "cell_type": "markdown",
      "metadata": {
        "id": "A77ukpxDKYms",
        "colab_type": "text"
      },
      "source": [
        "**[81]** 주사위를 2개 던지면?\n",
        "\n",
        "1부터 n까지, 1부터 m까지 숫자가 적힌\n",
        "서로 다른 주사위 2개를 던졌을 때 나올 수 있는 모든 경우를 출력해보자.\n",
        "\n",
        "**입력**  \n",
        "주사위 2개의 면의 개수 n, m이 공백을 두고 입력된다.  \n",
        "단, n, m은 10이하의 자연수\n",
        "```\n",
        "2 3\n",
        "```\n",
        "**출력**  \n",
        "나올 수 있는 주사위의 숫자를 한 세트씩 줄을 바꿔 모두 출력한다.  \n",
        "첫 번째 수는 n, 두 번째 수는 m으로 고정해 출력하도록 한다.\n",
        "```\n",
        "1 1\n",
        "1 2\n",
        "1 3\n",
        "2 1\n",
        "2 2\n",
        "2 3\n",
        "```\n",
        "**Tip::**  \n",
        "중첩의 원리...\n",
        "1. 반복 실행 구조도 조건 실행 구조와 마찬가지로 중첩의 원리가 적용된다.\n",
        "2. 반복 실행 구조를 중첩하면 원하는 반복 구조를 다양하게 만들어 낼 수 있다."
      ]
    },
    {
      "cell_type": "code",
      "metadata": {
        "id": "2mEszNS8HIvw",
        "colab_type": "code",
        "colab": {
          "base_uri": "https://localhost:8080/",
          "height": 131
        },
        "outputId": "1e43ece8-dc52-424f-a264-d1875d330c5a"
      },
      "source": [
        "n, m = map(int, input().split())\n",
        "\n",
        "for n in range(1, n+1):\n",
        "  for m in range(1, m+1):\n",
        "    print(n, m)"
      ],
      "execution_count": null,
      "outputs": [
        {
          "output_type": "stream",
          "text": [
            "2 3\n",
            "1 1\n",
            "1 2\n",
            "1 3\n",
            "2 1\n",
            "2 2\n",
            "2 3\n"
          ],
          "name": "stdout"
        }
      ]
    },
    {
      "cell_type": "markdown",
      "metadata": {
        "id": "uhvoMK_YL7tk",
        "colab_type": "text"
      },
      "source": [
        "**[82]** 16진수 구구단\n",
        "\n",
        "16진수(0, 1, 2, 3, 4, 5, 6, 7, 8, 9, A, B, C, D, E, F)를 배운\n",
        "영일(01)이는 16진수끼리 곱하는 16진수 구구단에 대해서 궁금해졌다.\n",
        "\n",
        "A, B, C, D, E, F 중 하나가 입력될 때,\n",
        "1부터 F까지 곱한 16진수 구구단의 내용을 출력해보자.  \n",
        "(단, A ~ F 까지만 입력된다.)\n",
        "\n",
        "![대체 텍스트](https://www.codeup.kr/upload/pimg6198_1.png)\n",
        "\n",
        "**입력**  \n",
        "16진수로 한 자리 수가 입력된다.  \n",
        "단, A ~ F 까지만 입력된다.\n",
        "```\n",
        "B\n",
        "```\n",
        "**출력**  \n",
        "입력된 16진수에 1~F까지 순서대로 곱한, 16진수 구구단을 줄을 바꿔 출력한다.  \n",
        "계산 결과도 16진수로 출력해야 한다.\n",
        "```\n",
        "B*1=B\n",
        "B*2=16\n",
        "B*3=21\n",
        "B*4=2C\n",
        "B*5=37\n",
        "B*6=42\n",
        "B*7=4D\n",
        "B*8=58\n",
        "B*9=63\n",
        "B*A=6E\n",
        "B*B=79\n",
        "B*C=84\n",
        "B*D=8F\n",
        "B*E=9A\n",
        "B*F=A5\n",
        "```\n",
        "**Tip::**  \n",
        "1. 16진수 변환 함수 hex()를 이용해보자.\n",
        "2. 소문자를 대문자로 변환하는 함수는 문자열의 메소드 중 upper()가 있다."
      ]
    },
    {
      "cell_type": "code",
      "metadata": {
        "id": "IpcGZLgTLqQl",
        "colab_type": "code",
        "colab": {
          "base_uri": "https://localhost:8080/",
          "height": 277
        },
        "outputId": "05b281f5-31c7-46c4-f42b-5854bb699b7f"
      },
      "source": [
        "char = input()\n",
        "\n",
        "for i in range(1, 16):\n",
        "  print( '%s*%s=%s' %(char, hex(i)[2:].upper(), hex(int(char, 16) * i)[2:].upper()) )"
      ],
      "execution_count": null,
      "outputs": [
        {
          "output_type": "stream",
          "text": [
            "B\n",
            "B*1=B\n",
            "B*2=16\n",
            "B*3=21\n",
            "B*4=2C\n",
            "B*5=37\n",
            "B*6=42\n",
            "B*7=4D\n",
            "B*8=58\n",
            "B*9=63\n",
            "B*A=6E\n",
            "B*B=79\n",
            "B*C=84\n",
            "B*D=8F\n",
            "B*E=9A\n",
            "B*F=A5\n"
          ],
          "name": "stdout"
        }
      ]
    },
    {
      "cell_type": "markdown",
      "metadata": {
        "id": "-Fr6Uo-bP4CA",
        "colab_type": "text"
      },
      "source": [
        "**[83]** 3 6 9 게임의 왕이 되자\n",
        "\n",
        "3 6 9 게임을 하던 영일이는 3 6 9 게임에서 잦은 실수로 계속해서 벌칙을 받게 되었다.  \n",
        "3 6 9 게임의 왕이 되기 위한 마스터 프로그램을 작성해 보자.\n",
        "```\n",
        "**3 6 9 게임은?**\n",
        "여러 사람이 순서를 정해 순서대로 수를 부르는 게임이다.\n",
        "만약 3, 6, 9 가 들어간 수를 자신이 불러야 하는 상황이면, 대신 \"박수\" 를 쳐야 한다.\n",
        "33까지 진행했다면? \"짝짝\"과 같이 박수를 두 번 치는 형태도 있다.\n",
        "```\n",
        "\n",
        "**입력**  \n",
        "10 보다 작은 정수 1개가 입력된다.\n",
        "(1 ~ 9)\n",
        "```\n",
        "9\n",
        "```\n",
        "**출력**  \n",
        "1 부터 그 수까지 순서대로 공백을 두고 수를 출력하는데,\n",
        "3 또는 6 또는 9인 경우 그 수 대신 영문 대문자 X 를 출력한다.\n",
        "```\n",
        "1 2 X 4 5 X 7 8 X\n",
        "```\n",
        "\n",
        "**Tip::**  \n",
        "1. 원래 369 게임은 숫자 중 3,6,9가 포함되어 있을 때 박수를 치는 게임이다.   \n",
        "따라서 #2의 코드가 정답이어야 하지만 코드업에서는 3의 배수를 정답으로 처리하므로 #1과 같이 풀어야한다. \n",
        "  - 결론 : 3의 배수일 때 'X'가 출력되도록 해야한다."
      ]
    },
    {
      "cell_type": "code",
      "metadata": {
        "id": "bHYd_LTYQrmW",
        "colab_type": "code",
        "colab": {
          "base_uri": "https://localhost:8080/",
          "height": 98
        },
        "outputId": "18be5610-285c-4b84-e8ac-0283648aabb2"
      },
      "source": [
        "num = int(input())\n",
        "\n",
        "print('== #1 정답 ==')\n",
        "#1\n",
        "for i in range(1, num+1):\n",
        "  count = i if i%3 else 'X'\n",
        "  print(count, end=' ')\n",
        "\n",
        "print('\\n== #2 오답 ==')\n",
        "#2\n",
        "for i in range(1, num+1):\n",
        "  count = 'X' if '3' in str(i) or '6' in str(i) or '9' in str(i) else i\n",
        "  print(count, end=' ')"
      ],
      "execution_count": null,
      "outputs": [
        {
          "output_type": "stream",
          "text": [
            "36\n",
            "== #1 정답 ==\n",
            "1 2 X 4 5 X 7 8 X 10 11 X 13 14 X 16 17 X 19 20 X 22 23 X 25 26 X 28 29 X 31 32 X 34 35 X \n",
            "== #2 오답 ==\n",
            "1 2 X 4 5 X 7 8 X 10 11 12 X 14 15 X 17 18 X 20 21 22 X 24 25 X 27 28 X X X X X X X X "
          ],
          "name": "stdout"
        }
      ]
    },
    {
      "cell_type": "markdown",
      "metadata": {
        "id": "OgNC27znSs-Z",
        "colab_type": "text"
      },
      "source": [
        "**[84]** 빛 섞어 색 만들기\n",
        "\n",
        "빨강(red), 초록(green), 파랑(blue) 빛을 섞어\n",
        "여러 가지 빛의 색을 만들어 내려고 한다.\n",
        "\n",
        "빨강(r), 초록(g), 파랑(b) 각각의 빛의 개수가 주어질 때,  \n",
        "(빛의 강약에 따라 0 ~ n-1 까지 n가지의 빛 색깔을 만들 수 있다.)\n",
        "\n",
        "주어진 rgb 빛들을 다르게 섞어 만들 수 있는 모든 경우의 조합(r g b)과\n",
        "총 가짓 수를 계산해보자.\n",
        "\n",
        "**입력**  \n",
        "빨녹파(r, g, b) 각 빛의 강약에 따른 가짓수(0 ~ 128))가 공백을 사이에 두고 입력된다.\n",
        "예를 들어, 3 3 3 은 각 색깔 빛에 대해서 그 강약에 따라 0~2까지 3가지의 색이 있음을 의미한다.\n",
        "```\n",
        "2 2 2\n",
        "```\n",
        "**출력**  \n",
        "만들 수 있는 rgb 색의 정보를 오름차순(계단을 올라가는 순, 12345... abcde..., 가나다라마...)으로\n",
        "줄을 바꿔 모두 출력하고, 마지막에 그 개수를 출력한다.\n",
        "```\n",
        "0 0 0\n",
        "0 0 1\n",
        "0 1 0\n",
        "0 1 1\n",
        "1 0 0\n",
        "1 0 1\n",
        "1 1 0\n",
        "1 1 1\n",
        "8\n",
        "```\n",
        "\n",
        "**Tip::**  \n",
        "![대체 텍스트](https://www.codeup.kr/upload/pimg6200_1.png)"
      ]
    },
    {
      "cell_type": "code",
      "metadata": {
        "id": "qrNs7kdHSVIz",
        "colab_type": "code",
        "colab": {
          "base_uri": "https://localhost:8080/",
          "height": 183
        },
        "outputId": "114fff5b-0aca-4edc-df2f-9d80d14f25cc"
      },
      "source": [
        "r, g, b = map(int, input().split())\n",
        "\n",
        "count = 0\n",
        "for i in range(r):\n",
        "  for j in range(g):\n",
        "    for k in range(b):\n",
        "      print(i, j, k)\n",
        "      count += 1\n",
        "print(count)"
      ],
      "execution_count": null,
      "outputs": [
        {
          "output_type": "stream",
          "text": [
            "2 2 2\n",
            "0 0 0\n",
            "0 0 1\n",
            "0 1 0\n",
            "0 1 1\n",
            "1 0 0\n",
            "1 0 1\n",
            "1 1 0\n",
            "1 1 1\n",
            "8\n"
          ],
          "name": "stdout"
        }
      ]
    },
    {
      "cell_type": "markdown",
      "metadata": {
        "id": "8vgQZCvfeihD",
        "colab_type": "text"
      },
      "source": [
        "**[85]** 소리 파일 저장용량 계산하기\n",
        "\n",
        "```\n",
        "**서론**\n",
        "소리가 컴퓨터에 저장될 때에는 디지털 데이터화 되어 저장된다.\n",
        "\n",
        "마이크를 통해 1초에 적게는 수십 번, 많게는 수만 번 소리의 강약을 체크해\n",
        "그 값을 정수값으로 바꾸고, 그 값을 저장해 소리를 파일로 저장할 수 있다.\n",
        "\n",
        "값을 저장할 때에는 비트를 사용하는 정도에 따라 세세한 녹음 정도를 결정할 수 있고,\n",
        "좌우(스테레오) 채널로 저장하면 2배… 5.1채널이면 6배의 저장공간이 필요하고,\n",
        "녹음 시간이 길면 그 만큼 더 많은 저장공간이 필요하다.\n",
        "```\n",
        "1초 동안 마이크로 소리강약을 체크하는 수를 h\n",
        "(헤르쯔, Hz 는 1초에 몇 번? 체크하는가를 의미한다.)\n",
        "\n",
        "한 번 체크한 결과를 저장하는 비트 b\n",
        "(2비트를 사용하면 0 또는 1 두 가지, 16비트를 사용하면 65536가지..)\n",
        "\n",
        "좌우 등 소리를 저장할 트랙 개수인 채널 c\n",
        "(모노는 1개, 스테레오는 2개의 트랙으로 저장함을 의미한다.)\n",
        "\n",
        "녹음할 시간 s가 주어질 때, 필요한 저장 용량을 계산하는 프로그램을 작성해보자.\n",
        "\n",
        "```\n",
        "**문제의 핵심 포인트**\n",
        "실제로 일반적인 CD 음질(44.1KHz, 16bit, 스테레오)로 1초 동안 저장하려면\n",
        "44100 * 16 * 2 * 1 bit의 저장공간이 필요\n",
        "```\n",
        "이렇게 녹음하는 방식을 PCM(Pulse Code Modulation) 방법이라고 하는데,\n",
        "압축하지 않은 순수한(raw) 소리 데이터 파일은 대표적으로 *.wav 가 있다.\n",
        "```\n",
        "**틈새 자료구조**\n",
        "8 bit(비트)           = 1byte(바이트)\n",
        "1024 Byte(2^10 byte) = 1KB(킬로 바이트) \n",
        "1024 KB(2^10 KB)     = 1MB(메가 바이트)\n",
        "1024 MB(2^10 MB)     = 1GB(기가 바이트)\n",
        "1024 GB(2^10 GB)     = 1TB(테라 바이트)\n",
        "```\n",
        "\n",
        "**입력**  \n",
        "h, b, c, s 가 공백을 두고 입력된다.   \n",
        "h는 48,000이하, b는 32이하(단, 8의배수), c는 5이하, s는 6,000이하의 자연수이다.\n",
        "```\n",
        "44100 16 2 10\n",
        "```\n",
        "**출력**  \n",
        "필요한 저장 공간을 MB 단위로 바꾸어 출력한다.   \n",
        "단, 소수점 둘째 자리에서 반올림해 첫째 자리까지 출력하고 MB를 공백을 두고 출력한다.\n",
        "```\n",
        "1.7 MB\n",
        "```\n",
        "\n",
        "**Tip::**  \n",
        "1. 음질의 1초 동안 저장 공간 / MB\n",
        "> 'h' x 'b' x 'c' x 's' / ('8' x '1024' x '1024')"
      ]
    },
    {
      "cell_type": "code",
      "metadata": {
        "id": "vJm-tyYJZ7Ld",
        "colab_type": "code",
        "colab": {
          "base_uri": "https://localhost:8080/",
          "height": 51
        },
        "outputId": "4c7855a0-e302-4d53-96a2-66e73d2afebd"
      },
      "source": [
        "h, b, c, s = map(int, input().split())\n",
        "\n",
        "result = h*b*c*s\n",
        "resultMB = result / (8 * 1024**2)\n",
        "print(round(resultMB, 1), 'MB')"
      ],
      "execution_count": null,
      "outputs": [
        {
          "output_type": "stream",
          "text": [
            "44100 16 2 10\n",
            "1.7 MB\n"
          ],
          "name": "stdout"
        }
      ]
    },
    {
      "cell_type": "markdown",
      "metadata": {
        "id": "LVbvXxdLnz7F",
        "colab_type": "text"
      },
      "source": [
        "**[86]** 그림 파일 저장용량 계산하기\n",
        "\n",
        "```\n",
        "**서론**\n",
        "이미지가 컴퓨터에 저장될 때에도 디지털 데이터화 되어 저장된다.\n",
        "\n",
        "가장 기본적인 방법으로는 그림을 구성하는 한 점(pixel, 픽셀)의 색상을\n",
        "빨강(r), 초록(g), 파랑(b)의 3가지의 빛의 세기 값으로 따로 변환하여 저장하는 것인데,\n",
        "\n",
        "예를 들어 r, g, b 각 색에 대해서 8비트(0~255, 256가지 가능)씩을 사용한다고 하면,\n",
        "\n",
        "한 점의 색상은 3가지 r, g, b의 8비트+8비트+8비트로 총 24비트로 표현해서\n",
        "총 2^24 가지의 서로 다른 빛의 색깔을 사용할 수 있는 것이다.\n",
        "\n",
        "그렇게 저장하는 점을 모아 하나의 큰 이미지를 저장할 수 있게 되는데,\n",
        "1024 * 768 사이즈에 각 점에 대해 24비트로 저장하면 그 이미지를 저장하기 위한\n",
        "저장 용량을 계산할 수 있다.\n",
        "```\n",
        "이미지의 가로 해상도 w, 세로 해상도 h, 한 픽셀을 저장하기 위한 비트 b 가 주어질 때,\n",
        "압축하지 않고 저장하기 위해 필요한 저장 용량을 계산하는 프로그램을 작성해 보자.\n",
        "\n",
        "```\n",
        "**문제의 핵심 포인트**\n",
        "실제로 일반적인 1024 * 768 사이즈(해상도)의 각점에 대해\n",
        "24비트(rgb 각각 8비트씩 3개)로 저장하려면 1024 * 768 * 24 bit의 저장 용량이 필요하다.\n",
        "```\n",
        "이렇게 이미지의 원래(raw) 데이터를 압축하지 않고 그대로 저장하는 대표적인 이미지 파일이\n",
        "*.bmp 파일이며, 비트로 그림을 구성한다고 하여 비트맵 방식 또는 래스터 방식이라고 한다.\n",
        "```\n",
        "**틈새 자료구조**\n",
        "8 bit(비트)           = 1byte(바이트)\n",
        "1024 Byte(2^10 byte) = 1KB(킬로 바이트) \n",
        "1024 KB(2^10 KB)     = 1MB(메가 바이트)\n",
        "1024 MB(2^10 MB)     = 1GB(기가 바이트)\n",
        "1024 GB(2^10 GB)     = 1TB(테라 바이트)\n",
        "```\n",
        "\n",
        "**입력**  \n",
        "w, h, b 가 공백을 두고 입력된다.\n",
        "단, w, h는 모두 정수이고 1~1024 이다. b는 40이하의 4의 배수이다.\n",
        "```\n",
        "1024 768 24\n",
        "```\n",
        "**출력**  \n",
        "필요한 저장 공간을 MB 단위로 바꾸어 출력한다.\n",
        "소수점 이하 셋째 자리에서 반올림해 둘째 자리까지 출력한 뒤 MB를 출력한다.\n",
        "\n",
        "```\n",
        "2.25 MB\n",
        "```\n",
        "\n",
        "**Tip::**  \n",
        "1. 1024 * 768 사이즈(해상도)의 각점에 대해\n",
        "24비트(rgb 각각 8비트씩 3개)로 저장하려면 1024 * 768 * 24 bit의 저장 용량이 필요하다."
      ]
    },
    {
      "cell_type": "code",
      "metadata": {
        "id": "kghv3g6ve1QI",
        "colab_type": "code",
        "colab": {
          "base_uri": "https://localhost:8080/",
          "height": 51
        },
        "outputId": "4758f4da-a571-4cab-e66e-7dee9af2dfff"
      },
      "source": [
        "w, h, b = map(int, input().split())\n",
        "result = (w*h*b) / (8 * 1024**2)\n",
        "print( round(result, 2), 'MB' )"
      ],
      "execution_count": null,
      "outputs": [
        {
          "output_type": "stream",
          "text": [
            "1024 768 24\n",
            "2.25 MB\n"
          ],
          "name": "stdout"
        }
      ]
    },
    {
      "cell_type": "markdown",
      "metadata": {
        "id": "n5KowSe7p5p5",
        "colab_type": "text"
      },
      "source": [
        "**[87]** 여기까지! 이제 그만~\n",
        "\n",
        "1, 2, 3 ... 을 순서대로 계속 더해나갈 때,\n",
        "그 합이 입력한 정수보다 작을 동안만 계속 더하는 프로그램을 작성해보자.\n",
        "\n",
        "즉, 1부터 n까지 정수를 계속 더한다고 할 때,\n",
        "어디까지 더해야 입력한 수보다 같거나 커지는지 알아보고자 하는 문제이다.\n",
        "\n",
        "하지만, 이번에는 그 때의 합을 출력해야 한다.\n",
        "\n",
        "예를 들어 57을 입력하면\n",
        "1+2+3+...+8+9+10=55에 다시 11을 더해 66이 될 때,\n",
        "그 값 66이 출력되어야 한다.\n",
        "\n",
        "**입력**  \n",
        "언제까지 합을 계산할 지, 정수 1개를 입력받는다.  \n",
        "단, 입력되는 자연수는 100,000,000이하이다.\n",
        "```\n",
        "57\n",
        "```\n",
        "**출력**  \n",
        "1, 2, 3, 4, 5 ... 순서대로 계속 더해가다가, 그 합이 입력된 정수보다 커지거나 같아지는 경우,\n",
        "그때까지의 합을 출력한다.\n",
        "\n",
        "```\n",
        "66\n",
        "```\n"
      ]
    },
    {
      "cell_type": "code",
      "metadata": {
        "id": "pWHj3tc_pb18",
        "colab_type": "code",
        "colab": {
          "base_uri": "https://localhost:8080/",
          "height": 50
        },
        "outputId": "a1ab786f-2b57-4a2b-868e-b54ac8396fbb"
      },
      "source": [
        "end_point = int(input())\n",
        "total = 0\n",
        "i = 1\n",
        "while total < end_point:\n",
        "  total += i\n",
        "  i += 1\n",
        "print( total )\n"
      ],
      "execution_count": null,
      "outputs": [
        {
          "output_type": "stream",
          "text": [
            "57\n",
            "66\n"
          ],
          "name": "stdout"
        }
      ]
    },
    {
      "cell_type": "markdown",
      "metadata": {
        "id": "ywESRYpbrojC",
        "colab_type": "text"
      },
      "source": [
        "**[88]** 3의 배수는 통과?\n",
        "\n",
        "1부터 입력한 정수까지 1씩 증가시켜 출력하는 프로그램을 작성하되,\n",
        "3의 배수인 경우는 출력하지 않도록 만들어보자.\n",
        "\n",
        "예를 들면,\n",
        "1 2 4 5 7 8 10 11 13 14 ...\n",
        "와 같이 출력하는 것이다.\n",
        "\n",
        "**입력**   \n",
        "정수 1개를 입력받는다.  \n",
        "(1 ~ 100)\n",
        "```\n",
        "10\n",
        "```\n",
        "**출력**  \n",
        "1부터 입력한 정수보다 작거나 같을 때까지 1씩 증가시켜 출력하되\n",
        "3의 배수는 출력하지 않는다.\n",
        "\n",
        "```\n",
        "1 2 4 5 7 8 10\n",
        "```\n",
        "\n",
        "**Tip::**\n",
        "\n",
        "1. 반복문 안에서 continue;가 실행되면 그 아래의 내용을 건너뛰고, 다음 반복을 수행한다.\n",
        "즉, 다음 반복으로 넘어가는 것이다.\n"
      ]
    },
    {
      "cell_type": "code",
      "metadata": {
        "id": "T86rx0FZrBB_",
        "colab_type": "code",
        "colab": {
          "base_uri": "https://localhost:8080/",
          "height": 51
        },
        "outputId": "2a911e22-5844-4478-b1ad-b90b46634417"
      },
      "source": [
        "num = int(input())\n",
        "\n",
        "for i in range(1, num+1):\n",
        "  if i%3:\n",
        "    print(i, end=' ')"
      ],
      "execution_count": null,
      "outputs": [
        {
          "output_type": "stream",
          "text": [
            "15\n",
            "1 2 4 5 7 8 10 11 13 14 "
          ],
          "name": "stdout"
        }
      ]
    },
    {
      "cell_type": "markdown",
      "metadata": {
        "id": "DIpqhNZts-EK",
        "colab_type": "text"
      },
      "source": [
        "**[89]** 수 나열하기1\n",
        "\n",
        "어떤 규칙에 따라 수를 순서대로 나열한 것을 수열(series)이라고 한다.\n",
        "\n",
        "예를 들어\n",
        "1 4 7 10 13 16 19 22 25 ... 은\n",
        "1부터 시작해 이전에 만든 수에 3을 더해 다음 수를 만든 수열이다.\n",
        "\n",
        "이러한 것을 수학에서는 앞뒤 수들의 차이가 같다고 하여 \n",
        "등차(차이가 같다의 한문 말) 수열이라고 한다.  \n",
        "수열을 알게 된 영일이는 갑자기 궁금해졌다.\n",
        "\n",
        "\"그럼.... 123번째 나오는 수는 뭘까?\"\n",
        "\n",
        "영일이는 프로그램을 만들어 더 큰 수도 자동으로 계산하고 싶어졌다.\n",
        "\n",
        "시작 값(a), 등차(d), 몇 번째인지를 나타내는 정수(n)가 입력될 때\n",
        "n번째 수를 출력하는 프로그램을 만들어보자.\n",
        "\n",
        "**입력**   \n",
        "시작 값(a), 등차의 값(d), 몇 번째 수 인지를 의미하는 정수(n)가\n",
        "공백을 두고 입력된다.(모두 0 ~ 100)\n",
        "```\n",
        "1 3 5\n",
        "```\n",
        "**출력**  \n",
        "n번째 수를 출력한다.\n",
        "\n",
        "```\n",
        "13\n",
        "```\n",
        "\n",
        "**Tip::**\n",
        "\n",
        "1. 등차수열 리스트를 생성하고, 이것의 길이가 n값이 될 때까지 등차값을 추가한다.\n",
        "2. 리스트의 마지막 값이 'n번째 수'가 되므로 마지막 값을 출력하면 된다. => '문자열'[-1] 을 하면 된다.\n"
      ]
    },
    {
      "cell_type": "code",
      "metadata": {
        "id": "8LZJKiXmsf6y",
        "colab_type": "code",
        "colab": {
          "base_uri": "https://localhost:8080/",
          "height": 51
        },
        "outputId": "37f0c521-2416-4b33-bd95-fbfb01c5985d"
      },
      "source": [
        "a, d, n = map(int, input().split())\n",
        "\n",
        "i = a\n",
        "count = 0\n",
        "arith = []\n",
        "while count < n:\n",
        "  arith.append(i)\n",
        "  i += d\n",
        "  count += 1\n",
        "print( arith[-1] )"
      ],
      "execution_count": null,
      "outputs": [
        {
          "output_type": "stream",
          "text": [
            "1 3 5\n",
            "13\n"
          ],
          "name": "stdout"
        }
      ]
    },
    {
      "cell_type": "markdown",
      "metadata": {
        "id": "ROm2h5D04hP7",
        "colab_type": "text"
      },
      "source": [
        "**[90]** 수 나열하기2\n",
        "\n",
        "어떤 규칙에 따라 수를 순서대로 나열한 것을 수열이라고 한다.\n",
        "\n",
        "예를 들어\n",
        "2 6 18 54 162 486 ... 은\n",
        "2부터 시작해 이전에 만든 수에 3을 곱해 다음 수를 만든 수열이다.\n",
        "\n",
        "이러한 것을 수학에서는 앞뒤 수들의 비율이 같다고 하여\n",
        "등비(비율이 같다의 한문 말) 수열이라고 한다.\n",
        "\n",
        "\n",
        "등비 수열을 알게된 영일이는 갑자기 궁금해졌다.\n",
        "\n",
        "\"그럼.... 13번째 나오는 수는 뭘까?\"\n",
        "\n",
        "영일이는 프로그램을 만들어 더 큰 수도 자동으로 계산하고 싶어졌다.\n",
        "\n",
        "시작 값(a), 등비(r), 몇 번째인지를 나타내는 정수(n)가 입력될 때\n",
        "n번째 수를 출력하는 프로그램을 만들어보자.\n",
        "\n",
        "**입력**   \n",
        "시작 값(a), 등비의 값(r), 몇 번째 인지를 나타내는 정수(n)가\n",
        "공백을 두고 입력된다.(모두 0 ~ 10)\n",
        "```\n",
        "2 3 7\n",
        "```\n",
        "**출력**  \n",
        "n번째 수를 출력한다.\n",
        "\n",
        "```\n",
        "1458\n",
        "```\n",
        "\n",
        "**Tip::**\n",
        "\n",
        "1. 등비수열 리스트를 생성하고, 이것의 길이가 n값이 될 때까지 등비값을 추가한다.\n",
        "2. 리스트의 마지막 값이 'n번째 수'가 되므로 마지막 값을 출력하면 된다. => '문자열'[-1] 을 하면 된다.\n"
      ]
    },
    {
      "cell_type": "code",
      "metadata": {
        "id": "qnlE0o1Lu-aS",
        "colab_type": "code",
        "colab": {
          "base_uri": "https://localhost:8080/",
          "height": 51
        },
        "outputId": "52435385-01e5-4162-ed91-b287b7ef969b"
      },
      "source": [
        "a, r, n = map(int, input().split())\n",
        "\n",
        "i = a\n",
        "count = 0\n",
        "geom = []\n",
        "while count < n:\n",
        "  geom.append(i)\n",
        "  i *= r\n",
        "  count += 1\n",
        "print( geom[-1] )"
      ],
      "execution_count": null,
      "outputs": [
        {
          "output_type": "stream",
          "text": [
            "2 3 7\n",
            "1458\n"
          ],
          "name": "stdout"
        }
      ]
    },
    {
      "cell_type": "markdown",
      "metadata": {
        "id": "U6i4AF436u3i",
        "colab_type": "text"
      },
      "source": [
        "**[91]** 수 나열하기3\n",
        "\n",
        "어떤 규칙에 따라 수를 순서대로 나열한 것을 수열이라고 한다.\n",
        "\n",
        "예를 들어\n",
        "1 -1 3 -5 11 -21 43 ... 은\n",
        "1부터 시작해 이전에 만든 수에 -2를 곱한 다음 1을 더해 다음 수를 만든 수열이다.\n",
        "\n",
        "이런 이상한 수열을 알게 된 영일이는 또 궁금해졌다.\n",
        "\n",
        "\"그럼.... 13번째 나오는 수는 뭘까?\"\n",
        "\n",
        "영일이는 물론 수학을 아주 잘하지만 이런 문제는 본 적이 거의 없었다...\n",
        "\n",
        "그래서 프로그램을 만들어 더 큰 수도 자동으로 계산하고 싶어졌다.\n",
        "\n",
        "\n",
        "시작 값(a), 곱할 값(m), 더할 값(d), 몇 번째인지를 나타내는 정수(n)가 입력될 때,\n",
        "n번째 수를 출력하는 프로그램을 만들어보자.\n",
        "\n",
        "**입력**   \n",
        "시작 값(a), 곱할 값(m), 더할 값(d), 몇 번째 인지를 나타내는 정수(n)가\n",
        "공백을 두고 입력된다.  \n",
        "(a, m, d는 -50 ~ +50, n은 10이하의 자연수)  \n",
        "```\n",
        "1 -2 1 8\n",
        "```\n",
        "**출력**  \n",
        "n번째 수를 출력한다.\n",
        "\n",
        "```\n",
        "-85\n",
        "```\n",
        "\n",
        "**Tip::**\n",
        "\n",
        "1. 이상한 수열 리스트를 생성하고, 이것의 길이가 n값이 될 때까지 이상한(?)값을 추가한다.\n",
        "2. 리스트의 마지막 값이 'n번째 수'가 되므로 마지막 값을 출력하면 된다. => '문자열'[-1] 을 하면 된다.\n"
      ]
    },
    {
      "cell_type": "code",
      "metadata": {
        "id": "BkatTNQV5GI7",
        "colab_type": "code",
        "colab": {
          "base_uri": "https://localhost:8080/",
          "height": 51
        },
        "outputId": "50bd3cf0-2631-4dc2-ef11-2080f585fff9"
      },
      "source": [
        "a, m, d, n = map(int, input().split())\n",
        "\n",
        "i = a\n",
        "prog = []\n",
        "while len(prog) < n:\n",
        "  prog.append(i)\n",
        "  i = i*m+d\n",
        "print( prog[-1] )"
      ],
      "execution_count": null,
      "outputs": [
        {
          "output_type": "stream",
          "text": [
            "1 -2 1 8\n",
            "-85\n"
          ],
          "name": "stdout"
        }
      ]
    },
    {
      "cell_type": "markdown",
      "metadata": {
        "id": "-iejHQ5X8ImU",
        "colab_type": "text"
      },
      "source": [
        "**[92]** 함께 문제 푸는 날\n",
        "\n",
        "같은 날 동시에 가입한 3명의 사람들이 온라인 채점시스템에 들어와 문제를 푸는 날짜가\n",
        "매우 규칙적이라고 할 때, 다시 모두 함께 문제를 풀게 되는 그날은 언제일까?\n",
        "\n",
        "예를 들어 3명이 같은 날 가입/등업하고, 각각 3일마다, 7일마다, 9일마다\n",
        "한 번씩 들어온다면, 처음 가입하고 63일 만에 다시 3명이 함께 문제를 풀게 된다.\n",
        "\n",
        "**입력**   \n",
        "같은 날 동시에 가입한 인원 3명이 규칙적으로 방문하는,\n",
        "방문 주기가 공백을 두고 입력된다. (단, 입력값은 100이하의 자연수이다.)\n",
        "```\n",
        "3 7 9\n",
        "```\n",
        "**출력**  \n",
        "3명이 다시 모두 함께 방문해 문제를 풀어보는 날(동시 가입/등업 후 며칠 후?)을 출력한다.\n",
        "\n",
        "```\n",
        "63\n",
        "```\n",
        "\n",
        "**Tip::**\n",
        "\n",
        "1. 세 방문 주기의 최소 공배수를 구해보자.\n"
      ]
    },
    {
      "cell_type": "code",
      "metadata": {
        "id": "sejie1iY7lcB",
        "colab_type": "code",
        "colab": {
          "base_uri": "https://localhost:8080/",
          "height": 66
        },
        "outputId": "1b4e7837-f4df-405b-b11b-b98fbf941d34"
      },
      "source": [
        "a, b, c = map(int, input().split())\n",
        "day = 1\n",
        "while day%a != 0 or day%b != 0 or day%c != 0:\n",
        "  day += 1\n",
        "print( day )\n",
        "\n",
        "day = 1\n",
        "while 1:\n",
        "  day += 1\n",
        "  if day%a == 0 and day%b == 0 and day%c == 0: break\n",
        "print( day )"
      ],
      "execution_count": null,
      "outputs": [
        {
          "output_type": "stream",
          "text": [
            "3 7 9\n",
            "63\n",
            "63\n"
          ],
          "name": "stdout"
        }
      ]
    },
    {
      "cell_type": "markdown",
      "metadata": {
        "id": "ocX16iOY_1_2",
        "colab_type": "text"
      },
      "source": [
        "---\n",
        "## **14. 기초-1차원 배열**\n",
        "---"
      ]
    },
    {
      "cell_type": "markdown",
      "metadata": {
        "id": "nMaBTu95g5wF",
        "colab_type": "text"
      },
      "source": [
        "###**[93]** 이상한 출석 번호 부르기1"
      ]
    },
    {
      "cell_type": "markdown",
      "metadata": {
        "id": "l-sJJUha_sZ0",
        "colab_type": "text"
      },
      "source": [
        "정보 선생님은 수업을 시작하기 전에 이상한 출석을 부른다.\n",
        "\n",
        "선생님은 출석부를 보고 번호를 부르는데,\n",
        "학생들의 얼굴과 이름을 빨리 익히기 위해 번호를 무작위(랜덤)으로 부른다.\n",
        "\n",
        "그리고 얼굴과 이름이 잘 기억되지 않는 학생들은 번호를 여러 번 불러\n",
        "이름과 얼굴을 빨리 익히려고 하는 것이다.\n",
        "\n",
        "출석 번호를 n번 무작위로 불렀을 때, 각 번호(1 ~ 23)가 불린 횟수를 각각 출력해보자.\n",
        "\n",
        "**입력**   \n",
        "첫 번째 줄에 출석 번호를 부른 횟수인 정수 n이 입력된다. (1 ~ 10000)  \n",
        "두 번째 줄에는 무작위로 부른 n개의 번호(1 ~ 23)가 공백을 두고 순서대로 입력된다.\n",
        "```\n",
        "10\n",
        "1 3 2 2 5 6 7 4 5 9\n",
        "```\n",
        "**출력**  \n",
        "1번부터 번호가 불린 횟수를 순서대로 공백으로 구분하여 한 줄로 출력한다.\n",
        "\n",
        "```\n",
        "1 2 1 1 2 1 1 0 1 0 0 0 0 0 0 0 0 0 0 0 0 0 0\n",
        "```\n",
        "\n",
        "**Tip::**\n",
        "\n",
        "1. 파이썬에서는 배열의 비어있는 공간을 미리 확보해 놓을 수 없다.따라서 필요한 갯수 만큼 '어떠한 값'으로 초기화 시켜주어야 한다. \n",
        " - ex) LIST = list(range(23)) >> 0~22번지까지 0-22의 숫자들로 채워진다.\n",
        " - ex) LIST = [0 for _ in range(23)] >> 0~22번지까지 0으로 채워진다.\n",
        "2. 호출되는 번호(주소값)의 값을 기존 값에서 +1하여 저장해주는 방식으로 해당 번호가 몇 번 호출되었는지 카운트할 수 있다.\n",
        "3. 아래 코드에서 '*(Asterisk)'를 사용한 이유\n",
        " - 문제에서 원하는 출력값은 리스트 형태가 아닌, 내부의 원소를 그대로 출력하길 요구했기 때문이다.\n",
        " - ex) print( [1,2,3] ) >> [1,2,3]\n",
        " - ex) print( *[1,2,3] ) >> 1 2 3  \n",
        " - ['*(Asterisk)' 배우러가기](https://blog.naver.com/dnfla420/221749146572)\n"
      ]
    },
    {
      "cell_type": "markdown",
      "metadata": {
        "id": "5DdcNdD-cITg",
        "colab_type": "text"
      },
      "source": [
        "####정답"
      ]
    },
    {
      "cell_type": "code",
      "metadata": {
        "id": "uxFo-rlm_hMD",
        "colab_type": "code",
        "colab": {
          "base_uri": "https://localhost:8080/",
          "height": 66
        },
        "outputId": "0010d1dd-5851-4c8d-8088-175746be8804"
      },
      "source": [
        "n = int(input())\n",
        "rand = map(int, input().split())\n",
        "student = [0 for _ in range(23)]\n",
        "for r in rand:\n",
        "  student[r-1] += 1\n",
        "print(*student)"
      ],
      "execution_count": null,
      "outputs": [
        {
          "output_type": "stream",
          "text": [
            "10\n",
            "1 3 2 2 5 6 7 4 5 9\n",
            "1 2 1 1 2 1 1 0 1 0 0 0 0 0 0 0 0 0 0 0 0 0 0\n"
          ],
          "name": "stdout"
        }
      ]
    },
    {
      "cell_type": "markdown",
      "metadata": {
        "id": "h1iaQRUMhAVD",
        "colab_type": "text"
      },
      "source": [
        "###**[94]** 이상한 출석 번호 부르기2"
      ]
    },
    {
      "cell_type": "markdown",
      "metadata": {
        "id": "TLKOV5_4HQEt",
        "colab_type": "text"
      },
      "source": [
        "\n",
        "\n",
        "출석 번호를 n번 무작위로 불렀을 때, 부른 번호를 거꾸로 출력해 보자.\n",
        "\n",
        "**입력**   \n",
        "첫 번째 줄에 출석 번호를 부른 횟수인 정수 n이 입력된다. (1 ~ 10000)  \n",
        "두 번째 줄에는 무작위로 부른 n개의 번호(1 ~ 23)가 공백을 두고 순서대로 입력된다.\n",
        "```\n",
        "10\n",
        "10 4 2 3 6 6 7 9 8 5\n",
        "```\n",
        "**출력**  \n",
        "출석을 부른 번호 순서를 바꾸어 공백을 두고 출력한다.\n",
        "```\n",
        "5 8 9 7 6 6 3 2 4 10\n",
        "```\n",
        "\n",
        "**Tip::**\n",
        "\n",
        "1. 리스트의 메소드인 reverse()를 이용하면 된다.\n"
      ]
    },
    {
      "cell_type": "markdown",
      "metadata": {
        "id": "MZF8GfAfhIJ6",
        "colab_type": "text"
      },
      "source": [
        "#### 정답"
      ]
    },
    {
      "cell_type": "code",
      "metadata": {
        "id": "BnvoQRgTCsp9",
        "colab_type": "code",
        "colab": {
          "base_uri": "https://localhost:8080/",
          "height": 66
        },
        "outputId": "b40f9c97-d01f-48cc-9f7a-a697d38c102e"
      },
      "source": [
        "n = int(input())\n",
        "rand = list(map(int, input().split()))\n",
        "rand.reverse()\n",
        "print(*rand)"
      ],
      "execution_count": null,
      "outputs": [
        {
          "output_type": "stream",
          "text": [
            "10\n",
            "10 4 2 3 6 6 7 9 8 5\n",
            "5 8 9 7 6 6 3 2 4 10\n"
          ],
          "name": "stdout"
        }
      ]
    },
    {
      "cell_type": "markdown",
      "metadata": {
        "id": "ZkPjMD-7hNdi",
        "colab_type": "text"
      },
      "source": [
        "###**[95]** 이상한 출석 번호 부르기3"
      ]
    },
    {
      "cell_type": "markdown",
      "metadata": {
        "id": "gf0gzdcIJv1K",
        "colab_type": "text"
      },
      "source": [
        "출석 번호를 n번 무작위로 불렀을 때, 가장 빠른 번호를 출력해 보자.\n",
        "\n",
        "**입력**   \n",
        "첫 번째 줄에 출석 번호를 부른 횟수인 정수 n이 입력된다. (1 ~ 10000)  \n",
        "두 번째 줄에는 무작위로 부른 n개의 번호(1 ~ 23)가 공백을 두고 순서대로 입력된다.\n",
        "```\n",
        "10\n",
        "10 4 2 3 6 6 7 9 8 5\n",
        "```\n",
        "**출력**  \n",
        "출석을 부른 번호 중에 가장 빠른 번호를 1개만 출력한다.\n",
        "```\n",
        "2\n",
        "```\n",
        "\n",
        "**Tip::**\n",
        "\n",
        "1. 가장 작은 값을 찾으면 된다.\n",
        "2. 파이썬에서는 배열(iterable) 객체의 원소 중 가장 작은 값을 반환해주는 min() 함수를 제공하고 있다.\n"
      ]
    },
    {
      "cell_type": "markdown",
      "metadata": {
        "id": "uvdMH1I9hQH-",
        "colab_type": "text"
      },
      "source": [
        "####정답"
      ]
    },
    {
      "cell_type": "code",
      "metadata": {
        "id": "5f9Ha4BkH9Vw",
        "colab_type": "code",
        "colab": {
          "base_uri": "https://localhost:8080/",
          "height": 69
        },
        "outputId": "912b55ed-0356-4b8e-ef7b-8a1d9287f530"
      },
      "source": [
        "n = int(input())\n",
        "rand = map(int, input().split())\n",
        "print( min(rand) )"
      ],
      "execution_count": null,
      "outputs": [
        {
          "output_type": "stream",
          "text": [
            "10\n",
            "10 4 2 3 6 6 7 9 8 5\n",
            "2\n"
          ],
          "name": "stdout"
        }
      ]
    },
    {
      "cell_type": "markdown",
      "metadata": {
        "id": "wj2SjfuwKlLv",
        "colab_type": "text"
      },
      "source": [
        "---\n",
        "## **15. 기초-2차원 배열**\n",
        "---"
      ]
    },
    {
      "cell_type": "markdown",
      "metadata": {
        "id": "p-pP3M7xlgv_",
        "colab_type": "text"
      },
      "source": [
        "###**[우리밋의 LAST 보너스 문제]** 내 미래"
      ]
    },
    {
      "cell_type": "markdown",
      "metadata": {
        "id": "uroz9GEXl01Z",
        "colab_type": "text"
      },
      "source": [
        "\n",
        "\n",
        "```\n",
        "해당 문제는 이차원 배열의 개념과 원리를 파악하기 위해 \"우리밋\"이 직접 만든 문제임을 알려드립니다. \n",
        "x축과 y축의 개념을 머릿 속에서 자유롭게 조작할 수 있도록 훈련하기 위해 만든 문제입니다.\n",
        "이 점을 기억하시고 아래 문제를 푸시길 바랍니다.\n",
        "해당 문제를 배포하시거나 외부에서 사용하실 때는 \"우리밋\"을 한번씩만 거론 부탁드리겠습니다.\n",
        "구독만 해주신다면 그것으로 충분합니다.\n",
        "\n",
        "ps. \"내 미래\"가 해당 문제 이름입니다. 참고로 전 다녀왔습니다. :)\n",
        "```\n",
        "훈련병인 철수는 교관의 지시에 따라야한다.  \n",
        "교관은 \"좌로 1보, 하로 2보 가!\"와 같이 좌,우,상,하로 이동할 것을 명령한다.  \n",
        "철수의 현재 위치가 입력으로 주어질 때 교관의 명령대로 이동한 위치는 어디일까?\n",
        "\n",
        "```\n",
        "제한 조건\n",
        "1. 철수의 현재 위치는 첫 입력 값으로 공백을 두고 입력된다. \n",
        "  ex) 1 1 => (0, 0), 5 4 => (4, 3)\n",
        "2. 훈련소의 전체 공간 크기는 5*5 이다.\n",
        "3. 교관이 지시한 명령은 절대 훈련소 공간을 벗어나지 않는다.\n",
        "4. 좌는 왼쪽, 우는 오른쪽, 상은 위쪽, 하는 아래쪽으로 한다.\n",
        "5. 입력은 좌,우,상,하의 순서대로 공백을 두고 입력된다. \n",
        "  ex) 3 2 3 3 => 좌로 2보, 우로 2보, 상으로 3보, 하로 3보 이동.\n",
        "```\n",
        "\n",
        "**입력**\n",
        "```\n",
        "3 3\n",
        "1 2 1 3\n",
        "```\n",
        "**출력**\n",
        "```\n",
        "0 0 0 0 0\n",
        "0 0 0 0 0\n",
        "0 0 0 0 0\n",
        "0 0 0 0 0\n",
        "0 0 0 1 0\n",
        "```\n",
        "\n",
        "**Tip::**\n",
        "1. 좌표를 (i, j) 라고 볼 때 좌우로 이동은 j(가로축), 상하로 이동은 i(세로축)임을 기억하자.\n",
        "\n"
      ]
    },
    {
      "cell_type": "markdown",
      "metadata": {
        "id": "oLtvD3QlzfQx",
        "colab_type": "text"
      },
      "source": [
        "####**정답**"
      ]
    },
    {
      "cell_type": "code",
      "metadata": {
        "id": "o6zcQM9ivPgW",
        "colab_type": "code",
        "colab": {
          "base_uri": "https://localhost:8080/",
          "height": 138
        },
        "outputId": "600a7e25-4d57-4fc7-da29-c96d904a1bdd"
      },
      "source": [
        "cur = tuple(map(int, input().split()))\n",
        "lf, rgt, up, down = map(int, input().split())\n",
        "coords = [[0 for _ in range(5)] for _ in range(5)]\n",
        "\n",
        "move = ( cur[0] -up +down, cur[1] -lf +rgt )\n",
        "coords[move[0] -1][move[1] -1] = 1\n",
        "\n",
        "for crd in coords:\n",
        "  print( *crd )"
      ],
      "execution_count": null,
      "outputs": [
        {
          "output_type": "stream",
          "text": [
            "3 3\n",
            "1 2 1 3\n",
            "0 0 0 0 0\n",
            "0 0 0 0 0\n",
            "0 0 0 0 0\n",
            "0 0 0 0 0\n",
            "0 0 0 1 0\n"
          ],
          "name": "stdout"
        }
      ]
    },
    {
      "cell_type": "markdown",
      "metadata": {
        "id": "RxJOpHYwiQx3",
        "colab_type": "text"
      },
      "source": [
        "###**[96]** 바둑판에 흰 돌 놓기"
      ]
    },
    {
      "cell_type": "markdown",
      "metadata": {
        "id": "r9tOJr-TKpzL",
        "colab_type": "text"
      },
      "source": [
        "\n",
        "\n",
        "영일이는 아버지와 함께 두던 매우 큰 오목에 대해서 생각해 보다가\n",
        "\"바둑판에 돌을 올린 것을 프로그래밍 할 수 있을까?\"하고 생각하였다.\n",
        "\n",
        "바둑판(19 * 19)에 n개의 흰 돌을 놓는다고 할 때,\n",
        "n개의 흰 돌이 놓인 위치를 출력하는 프로그램을 작성해보자.\n",
        "\n",
        "**입력**   \n",
        "바둑판에 올려 놓을 흰 돌의 개수(n)가 첫 줄에 입력된다.  \n",
        "둘째 줄 부터 n+1 번째 줄까지 흰 돌을 놓을 좌표(x, y)가 n줄 입력된다.  \n",
        "n은 10이하의 자연수이고 x, y 좌표는 1 ~ 19 까지이며, 같은 좌표는 입력되지 않는다.\n",
        "```\n",
        "5\n",
        "1 1\n",
        "2 2\n",
        "3 3\n",
        "4 4\n",
        "5 5\n",
        "```\n",
        "**출력**  \n",
        "흰 돌이 올려진 바둑판의 상황을 출력한다.  \n",
        "흰 돌이 있는 위치는 1, 없는 곳은 0으로 출력한다.\n",
        "```\n",
        "1 0 0 0 0 0 0 0 0 0 0 0 0 0 0 0 0 0 0\n",
        "0 1 0 0 0 0 0 0 0 0 0 0 0 0 0 0 0 0 0\n",
        "0 0 1 0 0 0 0 0 0 0 0 0 0 0 0 0 0 0 0\n",
        "0 0 0 1 0 0 0 0 0 0 0 0 0 0 0 0 0 0 0\n",
        "0 0 0 0 1 0 0 0 0 0 0 0 0 0 0 0 0 0 0\n",
        "0 0 0 0 0 0 0 0 0 0 0 0 0 0 0 0 0 0 0\n",
        "0 0 0 0 0 0 0 0 0 0 0 0 0 0 0 0 0 0 0\n",
        "0 0 0 0 0 0 0 0 0 0 0 0 0 0 0 0 0 0 0\n",
        "0 0 0 0 0 0 0 0 0 0 0 0 0 0 0 0 0 0 0\n",
        "0 0 0 0 0 0 0 0 0 0 0 0 0 0 0 0 0 0 0\n",
        "0 0 0 0 0 0 0 0 0 0 0 0 0 0 0 0 0 0 0\n",
        "0 0 0 0 0 0 0 0 0 0 0 0 0 0 0 0 0 0 0\n",
        "0 0 0 0 0 0 0 0 0 0 0 0 0 0 0 0 0 0 0\n",
        "0 0 0 0 0 0 0 0 0 0 0 0 0 0 0 0 0 0 0\n",
        "0 0 0 0 0 0 0 0 0 0 0 0 0 0 0 0 0 0 0\n",
        "0 0 0 0 0 0 0 0 0 0 0 0 0 0 0 0 0 0 0\n",
        "0 0 0 0 0 0 0 0 0 0 0 0 0 0 0 0 0 0 0\n",
        "0 0 0 0 0 0 0 0 0 0 0 0 0 0 0 0 0 0 0\n",
        "0 0 0 0 0 0 0 0 0 0 0 0 0 0 0 0 0 0 0\n",
        "```\n",
        "\n",
        "**Tip::**\n",
        "\n",
        "1. 파이썬에서는 2차원 배열(행렬)을 쉽게 다룰 수 있도록하는 numpy 라이브러리가 있다.\n",
        " - [Numpy 배우러가기](https://blog.naver.com/dnfla420/221752730611)\n",
        "2. 문제에서 요구하는 방식대로 출력하기 위해 '*(Asterisk)'를 사용하였다.\n",
        " - ['*(Asterisk)' 배우러가기](https://blog.naver.com/dnfla420/221749146572)\n",
        "\n"
      ]
    },
    {
      "cell_type": "markdown",
      "metadata": {
        "id": "IC4SCd6xiUTs",
        "colab_type": "text"
      },
      "source": [
        "####정답"
      ]
    },
    {
      "cell_type": "code",
      "metadata": {
        "id": "vlCL3V0IKT1h",
        "colab_type": "code",
        "colab": {
          "base_uri": "https://localhost:8080/",
          "height": 415
        },
        "outputId": "0eda9b24-b2a4-44c3-e7b4-e9ed39be209d"
      },
      "source": [
        "import numpy as np\n",
        "n = int(input())\n",
        "baduk = np.zeros((19,19), dtype=int)\n",
        "# baduk = [[0 for _ in range(19)] for _ in rnage(19)]\n",
        "\n",
        "for _ in range(n):\n",
        "  x, y = map(int, input().split())\n",
        "  baduk[x-1][y-1] = 1\n",
        "\n",
        "for bd in baduk:\n",
        "  print(*bd)"
      ],
      "execution_count": null,
      "outputs": [
        {
          "output_type": "stream",
          "text": [
            "3\n",
            "1 1\n",
            "1 2\n",
            "2 2\n",
            "1 1 0 0 0 0 0 0 0 0 0 0 0 0 0 0 0 0 0\n",
            "0 1 0 0 0 0 0 0 0 0 0 0 0 0 0 0 0 0 0\n",
            "0 0 0 0 0 0 0 0 0 0 0 0 0 0 0 0 0 0 0\n",
            "0 0 0 0 0 0 0 0 0 0 0 0 0 0 0 0 0 0 0\n",
            "0 0 0 0 0 0 0 0 0 0 0 0 0 0 0 0 0 0 0\n",
            "0 0 0 0 0 0 0 0 0 0 0 0 0 0 0 0 0 0 0\n",
            "0 0 0 0 0 0 0 0 0 0 0 0 0 0 0 0 0 0 0\n",
            "0 0 0 0 0 0 0 0 0 0 0 0 0 0 0 0 0 0 0\n",
            "0 0 0 0 0 0 0 0 0 0 0 0 0 0 0 0 0 0 0\n",
            "0 0 0 0 0 0 0 0 0 0 0 0 0 0 0 0 0 0 0\n",
            "0 0 0 0 0 0 0 0 0 0 0 0 0 0 0 0 0 0 0\n",
            "0 0 0 0 0 0 0 0 0 0 0 0 0 0 0 0 0 0 0\n",
            "0 0 0 0 0 0 0 0 0 0 0 0 0 0 0 0 0 0 0\n",
            "0 0 0 0 0 0 0 0 0 0 0 0 0 0 0 0 0 0 0\n",
            "0 0 0 0 0 0 0 0 0 0 0 0 0 0 0 0 0 0 0\n",
            "0 0 0 0 0 0 0 0 0 0 0 0 0 0 0 0 0 0 0\n",
            "0 0 0 0 0 0 0 0 0 0 0 0 0 0 0 0 0 0 0\n",
            "0 0 0 0 0 0 0 0 0 0 0 0 0 0 0 0 0 0 0\n",
            "0 0 0 0 0 0 0 0 0 0 0 0 0 0 0 0 0 0 0\n"
          ],
          "name": "stdout"
        }
      ]
    },
    {
      "cell_type": "markdown",
      "metadata": {
        "id": "sBFSTuAJiaUH",
        "colab_type": "text"
      },
      "source": [
        "###**[97]** 바둑판에 십자 뒤집기"
      ]
    },
    {
      "cell_type": "markdown",
      "metadata": {
        "id": "0FbYwLKYStvL",
        "colab_type": "text"
      },
      "source": [
        "\n",
        "\n",
        "부모님을 기다리던 영일이는 검정/흰 색 바둑알을 바둑판에 꽉 채워 깔아 놓고 놀다가...\n",
        "\n",
        "\"십(+)자 뒤집기를 해볼까?\"하고 생각했다.\n",
        "\n",
        "바둑판(19 * 19)에 흰 돌(1) 또는 검정 돌(0)이 모두 꽉 채워져 놓여있을 때,\n",
        "n개의 좌표를 입력받아 십(+)자 뒤집기한 결과를 출력하는 프로그램을 작성해보자.\n",
        "\n",
        "\n",
        "**입력**   \n",
        "바둑알이 깔려 있는 상황이 19 * 19 크기의 정수값으로 입력된다.  \n",
        "십자 뒤집기 횟수(n)가 입력된다.  \n",
        "십자 뒤집기 좌표가 횟수(n) 만큼 입력된다. 단, n은 10이하의 자연수이다.\n",
        "```\n",
        "0 0 0 0 0 0 0 0 0 1 0 1 0 0 0 0 0 0 0\n",
        "0 0 0 0 0 0 0 0 0 1 0 1 0 0 0 0 0 0 0\n",
        "0 0 0 0 0 0 0 0 0 1 0 1 0 0 0 0 0 0 0\n",
        "0 0 0 0 0 0 0 0 0 1 0 1 0 0 0 0 0 0 0\n",
        "0 0 0 0 0 0 0 0 0 1 0 1 0 0 0 0 0 0 0\n",
        "0 0 0 0 0 0 0 0 0 1 0 1 0 0 0 0 0 0 0\n",
        "0 0 0 0 0 0 0 0 0 1 0 1 0 0 0 0 0 0 0\n",
        "0 0 0 0 0 0 0 0 0 1 0 1 0 0 0 0 0 0 0\n",
        "0 0 0 0 0 0 0 0 0 1 0 1 0 0 0 0 0 0 0\n",
        "1 1 1 1 1 1 1 1 1 1 1 1 1 1 1 1 1 1 1\n",
        "0 0 0 0 0 0 0 0 0 1 0 1 0 0 0 0 0 0 0\n",
        "1 1 1 1 1 1 1 1 1 1 1 1 1 1 1 1 1 1 1\n",
        "0 0 0 0 0 0 0 0 0 1 0 1 0 0 0 0 0 0 0\n",
        "0 0 0 0 0 0 0 0 0 1 0 1 0 0 0 0 0 0 0\n",
        "0 0 0 0 0 0 0 0 0 1 0 1 0 0 0 0 0 0 0\n",
        "0 0 0 0 0 0 0 0 0 1 0 1 0 0 0 0 0 0 0\n",
        "0 0 0 0 0 0 0 0 0 1 0 1 0 0 0 0 0 0 0\n",
        "0 0 0 0 0 0 0 0 0 1 0 1 0 0 0 0 0 0 0\n",
        "0 0 0 0 0 0 0 0 0 1 0 1 0 0 0 0 0 0 0\n",
        "2\n",
        "10 10\n",
        "12 12\n",
        "```\n",
        "**출력**  \n",
        "십자 뒤집기 결과를 출력한다.\n",
        "```\n",
        "0 0 0 0 0 0 0 0 0 0 0 0 0 0 0 0 0 0 0\n",
        "0 0 0 0 0 0 0 0 0 0 0 0 0 0 0 0 0 0 0\n",
        "0 0 0 0 0 0 0 0 0 0 0 0 0 0 0 0 0 0 0\n",
        "0 0 0 0 0 0 0 0 0 0 0 0 0 0 0 0 0 0 0\n",
        "0 0 0 0 0 0 0 0 0 0 0 0 0 0 0 0 0 0 0\n",
        "0 0 0 0 0 0 0 0 0 0 0 0 0 0 0 0 0 0 0\n",
        "0 0 0 0 0 0 0 0 0 0 0 0 0 0 0 0 0 0 0\n",
        "0 0 0 0 0 0 0 0 0 0 0 0 0 0 0 0 0 0 0\n",
        "0 0 0 0 0 0 0 0 0 0 0 0 0 0 0 0 0 0 0\n",
        "0 0 0 0 0 0 0 0 0 1 0 1 0 0 0 0 0 0 0\n",
        "0 0 0 0 0 0 0 0 0 0 0 0 0 0 0 0 0 0 0\n",
        "0 0 0 0 0 0 0 0 0 1 0 1 0 0 0 0 0 0 0\n",
        "0 0 0 0 0 0 0 0 0 0 0 0 0 0 0 0 0 0 0\n",
        "0 0 0 0 0 0 0 0 0 0 0 0 0 0 0 0 0 0 0\n",
        "0 0 0 0 0 0 0 0 0 0 0 0 0 0 0 0 0 0 0\n",
        "0 0 0 0 0 0 0 0 0 0 0 0 0 0 0 0 0 0 0\n",
        "0 0 0 0 0 0 0 0 0 0 0 0 0 0 0 0 0 0 0\n",
        "0 0 0 0 0 0 0 0 0 0 0 0 0 0 0 0 0 0 0\n",
        "0 0 0 0 0 0 0 0 0 0 0 0 0 0 0 0 0 0 0\n",
        "```\n",
        "\n",
        "**Tip::**\n",
        "\n",
        "1. 파이썬에서는 2차원 배열(행렬)을 쉽게 다룰 수 있도록하는 numpy 라이브러리가 있다.\n",
        " - [Numpy 배우러가기](https://blog.naver.com/dnfla420/221752730611)\n",
        "2. 문제에서 요구하는 방식대로 출력하기 위해 '*(Asterisk)'를 사용하였다.\n",
        " - ['*(Asterisk)' 배우러가기](https://blog.naver.com/dnfla420/221749146572)\n",
        "\n",
        "**입력 예시 값 :**\n",
        "```\n",
        "baduk = [\n",
        "         [0, 0, 0, 0, 0, 0, 0, 0, 0, 1, 0, 1, 0, 0, 0, 0, 0, 0, 0],\n",
        "         [0, 0, 0, 0, 0, 0, 0, 0, 0, 1, 0, 1, 0, 0, 0, 0, 0, 0, 0],\n",
        "         [0, 0, 0, 0, 0, 0, 0, 0, 0, 1, 0, 1, 0, 0, 0, 0, 0, 0, 0],\n",
        "         [0, 0, 0, 0, 0, 0, 0, 0, 0, 1, 0, 1, 0, 0, 0, 0, 0, 0, 0],\n",
        "         [0, 0, 0, 0, 0, 0, 0, 0, 0, 1, 0, 1, 0, 0, 0, 0, 0, 0, 0],\n",
        "         [0, 0, 0, 0, 0, 0, 0, 0, 0, 1, 0, 1, 0, 0, 0, 0, 0, 0, 0],\n",
        "         [0, 0, 0, 0, 0, 0, 0, 0, 0, 1, 0, 1, 0, 0, 0, 0, 0, 0, 0],\n",
        "         [0, 0, 0, 0, 0, 0, 0, 0, 0, 1, 0, 1, 0, 0, 0, 0, 0, 0, 0],\n",
        "         [0, 0, 0, 0, 0, 0, 0, 0, 0, 1, 0, 1, 0, 0, 0, 0, 0, 0, 0],\n",
        "         [1, 1, 1, 1, 1, 1, 1, 1, 1, 1, 1, 1, 1, 1, 1, 1, 1, 1, 1],\n",
        "         [0, 0, 0, 0, 0, 0, 0, 0, 0, 1, 0, 1, 0, 0, 0, 0, 0, 0, 0],\n",
        "         [1, 1, 1, 1, 1, 1, 1, 1, 1, 1, 1, 1, 1, 1, 1, 1, 1, 1, 1],\n",
        "         [0, 0, 0, 0, 0, 0, 0, 0, 0, 1, 0, 1, 0, 0, 0, 0, 0, 0, 0],\n",
        "         [0, 0, 0, 0, 0, 0, 0, 0, 0, 1, 0, 1, 0, 0, 0, 0, 0, 0, 0],\n",
        "         [0, 0, 0, 0, 0, 0, 0, 0, 0, 1, 0, 1, 0, 0, 0, 0, 0, 0, 0],\n",
        "         [0, 0, 0, 0, 0, 0, 0, 0, 0, 1, 0, 1, 0, 0, 0, 0, 0, 0, 0],\n",
        "         [0, 0, 0, 0, 0, 0, 0, 0, 0, 1, 0, 1, 0, 0, 0, 0, 0, 0, 0],\n",
        "         [0, 0, 0, 0, 0, 0, 0, 0, 0, 1, 0, 1, 0, 0, 0, 0, 0, 0, 0],\n",
        "         [0, 0, 0, 0, 0, 0, 0, 0, 0, 1, 0, 1, 0, 0, 0, 0, 0, 0, 0],\n",
        "]\n",
        "```\n",
        "\n"
      ]
    },
    {
      "cell_type": "markdown",
      "metadata": {
        "id": "htmM83xuicvD",
        "colab_type": "text"
      },
      "source": [
        "####정답"
      ]
    },
    {
      "cell_type": "code",
      "metadata": {
        "id": "CO7-b1LWNalG",
        "colab_type": "code",
        "colab": {
          "base_uri": "https://localhost:8080/",
          "height": 383
        },
        "outputId": "f694f088-94a6-4468-e905-ec9e11908a46"
      },
      "source": [
        "# 1. 초기 십자 바둑판 입력\n",
        "baduk = []\n",
        "for _ in range(19):\n",
        "  matrix = list(map(int, input().split()))\n",
        "  baduk.append(matrix)\n",
        "\n",
        "# 2. n과 좌표 값을 입력받고 그에 따라 십자 형태에 맞춰 흑->백, 백->흑으로 변환\n",
        "n = int(input())\n",
        "for _ in range(n): # n번 입력\n",
        "  x, y = map(int, input().split()) # x와 y 좌표 입력\n",
        "  for i in range(19): # 변환\n",
        "    baduk[i][y-1] = 1 if baduk[i][y-1] == 0 else 0 # 0->1, 1->0으로 변환\n",
        "    baduk[x-1][i] = 1 if baduk[x-1][i] == 0 else 0 # 0->1, 1->0으로 변환\n",
        "\n",
        "# 3. 변환된 값을 한 줄 단위로 출력\n",
        "for i in range(19):\n",
        "  print(*baduk[i])\n"
      ],
      "execution_count": null,
      "outputs": [
        {
          "output_type": "stream",
          "text": [
            "2\n",
            "10 10\n",
            "12 12\n",
            "0 0 0 0 0 0 0 0 0 0 0 0 0 0 0 0 0 0 0\n",
            "0 0 0 0 0 0 0 0 0 0 0 0 0 0 0 0 0 0 0\n",
            "0 0 0 0 0 0 0 0 0 0 0 0 0 0 0 0 0 0 0\n",
            "0 0 0 0 0 0 0 0 0 0 0 0 0 0 0 0 0 0 0\n",
            "0 0 0 0 0 0 0 0 0 0 0 0 0 0 0 0 0 0 0\n",
            "0 0 0 0 0 0 0 0 0 0 0 0 0 0 0 0 0 0 0\n",
            "0 0 0 0 0 0 0 0 0 0 0 0 0 0 0 0 0 0 0\n",
            "0 0 0 0 0 0 0 0 0 0 0 0 0 0 0 0 0 0 0\n",
            "0 0 0 0 0 0 0 0 0 0 0 0 0 0 0 0 0 0 0\n",
            "0 0 0 0 0 0 0 0 0 1 0 1 0 0 0 0 0 0 0\n",
            "0 0 0 0 0 0 0 0 0 0 0 0 0 0 0 0 0 0 0\n",
            "0 0 0 0 0 0 0 0 0 1 0 1 0 0 0 0 0 0 0\n",
            "0 0 0 0 0 0 0 0 0 0 0 0 0 0 0 0 0 0 0\n",
            "0 0 0 0 0 0 0 0 0 0 0 0 0 0 0 0 0 0 0\n",
            "0 0 0 0 0 0 0 0 0 0 0 0 0 0 0 0 0 0 0\n",
            "0 0 0 0 0 0 0 0 0 0 0 0 0 0 0 0 0 0 0\n",
            "0 0 0 0 0 0 0 0 0 0 0 0 0 0 0 0 0 0 0\n",
            "0 0 0 0 0 0 0 0 0 0 0 0 0 0 0 0 0 0 0\n",
            "0 0 0 0 0 0 0 0 0 0 0 0 0 0 0 0 0 0 0\n"
          ],
          "name": "stdout"
        }
      ]
    },
    {
      "cell_type": "markdown",
      "metadata": {
        "id": "PSaQ9GDCih0_",
        "colab_type": "text"
      },
      "source": [
        "###**[98]** 설탕과자 뽑기"
      ]
    },
    {
      "cell_type": "markdown",
      "metadata": {
        "id": "pXHTMuMGgGs3",
        "colab_type": "text"
      },
      "source": [
        "\n",
        "```\n",
        "**서론**\n",
        "부모님과 함께 유원지에 놀러간 영일이는\n",
        "설탕과자(설탕을 녹여 물고기 등의 모양을 만든 것) 뽑기를 보게 되었다.\n",
        "\n",
        "길이가 다른 몇 개의 막대를 바둑판과 같은 격자판에 놓는데,\n",
        "막대에 있는 설탕과자 이름 아래에 있는 번호를 뽑으면 설탕과자를 가져가는 게임이었다.  \n",
        "(잉어, 붕어, 용 등 여러 가지가 적혀있다.)\n",
        "```\n",
        "![대체 텍스트](https://www.codeup.kr/upload/pimg6214_1.png)\n",
        "\n",
        "격자판의 세로(h), 가로(w), 막대의 개수(n), 각 막대의 길이(l),  \n",
        "막대를 놓는 방향(d:가로는 0, 세로는 1)과  \n",
        "막대를 놓는 막대의 가장 왼쪽 또는 위쪽의 위치(x, y)가 주어질 때,  \n",
        "격자판을 채운 막대의 모양을 출력하는 프로그램을 만들어보자.\n",
        "\n",
        "**입력**   \n",
        "첫 줄에 격자판의 세로(h), 가로(w) 가 공백을 두고 입력되고,  \n",
        "두 번째 줄에 놓을 수 있는 막대의 개수(n)  \n",
        "세 번째 줄부터 각 막대의 길이(l), 방향(d), 좌표(x, y)가 입력된다.\n",
        "\n",
        "[입력값의 정의역]  \n",
        "1 <= w, h <= 100  \n",
        "1 <= n <= 10  \n",
        "d = 0 or 1  \n",
        "1 <= x <= 100-h  \n",
        "1 <= y <= 100-w\n",
        "```\n",
        "5 5\n",
        "3\n",
        "2 0 1 1\n",
        "3 1 2 3\n",
        "4 1 2 5\n",
        "```\n",
        "**출력**  \n",
        "모든 막대를 놓은 격자판의 상태를 출력한다.  \n",
        "막대에 의해 가려진 경우 1, 아닌 경우 0으로 출력한다.  \n",
        "단, 각 숫자는 공백으로 구분하여 출력한다.  \n",
        "```\n",
        "1 1 0 0 0\n",
        "0 0 1 0 1\n",
        "0 0 1 0 1\n",
        "0 0 1 0 1\n",
        "0 0 0 0 1\n",
        "```\n",
        "\n",
        "**Tip::**\n",
        "\n",
        "1. 파이썬에서는 2차원 배열(행렬)을 쉽게 다룰 수 있도록하는 numpy 라이브러리가 있다.\n",
        " - [Numpy 배우러가기](https://blog.naver.com/dnfla420/221752730611)\n",
        "2. 문제에서 요구하는 방식대로 출력하기 위해 '*(Asterisk)'를 사용하였다.\n",
        " - ['*(Asterisk)' 배우러가기](https://blog.naver.com/dnfla420/221749146572)\n"
      ]
    },
    {
      "cell_type": "markdown",
      "metadata": {
        "id": "W2Zr-ZPdijJJ",
        "colab_type": "text"
      },
      "source": [
        "####정답"
      ]
    },
    {
      "cell_type": "code",
      "metadata": {
        "id": "5KaQh1iFhmTP",
        "colab_type": "code",
        "colab": {
          "base_uri": "https://localhost:8080/",
          "height": 187
        },
        "outputId": "b2a4d869-908d-487e-9d89-c96dfe85c4fa"
      },
      "source": [
        "h, w = map(int, input().split())\n",
        "shape = [[0 for _ in range(w)] for _ in range(h)]\n",
        "n = int(input())\n",
        "\n",
        "for _ in range(n) :\n",
        "  l, d, x, y = map(int, input().split())\n",
        "  x, y = x-1, y-1\n",
        "\n",
        "  if d == 0 :\n",
        "    for i in range(l) :\n",
        "      shape[x][y+i] = 1\n",
        "  else :\n",
        "    for i in range(l) :\n",
        "      shape[x+i][y] = 1\n",
        "\n",
        "for s in shape :\n",
        "  print( *s )"
      ],
      "execution_count": null,
      "outputs": [
        {
          "output_type": "stream",
          "text": [
            "5 5\n",
            "3\n",
            "2 0 1 1\n",
            "3 1 2 3\n",
            "4 1 2 5\n",
            "1 1 0 0 0\n",
            "0 0 1 0 1\n",
            "0 0 1 0 1\n",
            "0 0 1 0 1\n",
            "0 0 0 0 1\n"
          ],
          "name": "stdout"
        }
      ]
    },
    {
      "cell_type": "markdown",
      "metadata": {
        "id": "hCC2CIZ8imeU",
        "colab_type": "text"
      },
      "source": [
        "###**[99]** 성실한 개미"
      ]
    },
    {
      "cell_type": "markdown",
      "metadata": {
        "id": "wf-jLCO3qUAU",
        "colab_type": "text"
      },
      "source": [
        "\n",
        "```\n",
        "**서론**\n",
        "영일이는 생명과학에 관심이 생겨 왕개미를 연구하고 있었다.\n",
        "\n",
        "왕개미를 유심히 살펴보던 중 특별히 성실해 보이는 개미가 있었는데,\n",
        "그 개미는 개미굴에서 나와 먹이까지 가장 빠른 길로 이동하는 것이었다.\n",
        "\n",
        "개미는 오른쪽으로 움직이다가 벽을 만나면 아래쪽으로 움직여 가장 빠른 길로 움직였다.\n",
        "(오른쪽에 길이 나타나면 다시 오른쪽으로 움직인다.)\n",
        "\n",
        "이에 호기심이 생긴 영일이는 그 개미를 미로 상자에 넣고 살펴보기 시작하였다.\n",
        "\n",
        "미로 상자에 넣은 개미는 먹이를 찾았거나, 더 이상 움직일 수 없을 때까지\n",
        "오른쪽 또는 아래쪽으로만 움직였다.\n",
        "```\n",
        "\n",
        "미로 상자의 구조가 0(갈 수 있는 곳), 1(벽 또는 장애물)로 주어지고,  \n",
        "먹이가 2로 주어질 때, 성실한 개미의 이동 경로를 예상해보자.\n",
        "\n",
        "단, 맨 아래의 가장 오른쪽에 도착한 경우, 더 이상 움직일 수 없는 경우, 먹이를 찾은 경우에는\n",
        "더이상 이동하지 않고 그 곳에 머무른다고 가정한다.\n",
        "\n",
        "\n",
        "미로 상자의 테두리는 모두 벽으로 되어 있으며,\n",
        "개미집은 반드시 (2, 2)에 존재하기 때문에 개미는 (2, 2)에서 출발한다.\n",
        "\n",
        "**입력**   \n",
        "10*10 크기의 미로 상자의 구조와 먹이의 위치가 입력된다.\n",
        "\n",
        "```\n",
        "1 1 1 1 1 1 1 1 1 1\n",
        "1 0 0 1 0 0 0 0 0 1\n",
        "1 0 0 1 1 1 0 0 0 1\n",
        "1 0 0 0 0 0 0 1 0 1\n",
        "1 0 0 0 0 0 0 1 0 1\n",
        "1 0 0 0 0 1 0 1 0 1\n",
        "1 0 0 0 0 1 2 1 0 1\n",
        "1 0 0 0 0 1 0 0 0 1\n",
        "1 0 0 0 0 0 0 0 0 1\n",
        "1 1 1 1 1 1 1 1 1 1\n",
        "```\n",
        "**출력**  \n",
        "성실한 개미가 이동한 경로를 9로 표시해 출력한다.\n",
        " \n",
        "```\n",
        "1 1 1 1 1 1 1 1 1 1\n",
        "1 9 9 1 0 0 0 0 0 1\n",
        "1 0 9 1 1 1 0 0 0 1\n",
        "1 0 9 9 9 9 9 1 0 1\n",
        "1 0 0 0 0 0 9 1 0 1\n",
        "1 0 0 0 0 1 9 1 0 1\n",
        "1 0 0 0 0 1 9 1 0 1\n",
        "1 0 0 0 0 1 0 0 0 1\n",
        "1 0 0 0 0 0 0 0 0 1\n",
        "1 1 1 1 1 1 1 1 1 1\n",
        "```\n",
        "\n",
        "**Tip::**  \n",
        "![대체 텍스트](https://www.codeup.kr/upload/pimg6215_1.png)\n",
        "\n",
        "1. 문제에서 요구하는 방식대로 출력하기 위해 '*(Asterisk)'를 사용하였다.\n",
        " - ['*(Asterisk)' 배우러가기](https://blog.naver.com/dnfla420/221749146572)\n",
        "\n",
        "**입력 예시 값**\n",
        "```\n",
        "ant_house = [\n",
        "         [1, 1, 1, 1, 1, 1, 1, 1, 1, 1],\n",
        "         [1, 0, 0, 1, 0, 0, 0, 0, 0, 1],\n",
        "         [1, 0, 0, 1, 1, 1, 0, 0, 0, 1],\n",
        "         [1, 0, 0, 0, 0, 0, 0, 1, 0, 1],\n",
        "         [1, 0, 0, 0, 0, 0, 0, 1, 0, 1],\n",
        "         [1, 0, 0, 0, 0, 1, 0, 1, 0, 1],\n",
        "         [1, 0, 0, 0, 0, 1, 2, 1, 0, 1],\n",
        "         [1, 0, 0, 0, 0, 1, 0, 0, 0, 1],\n",
        "         [1, 0, 0, 0, 0, 0, 0, 0, 0, 1],\n",
        "         [1, 1, 1, 1, 1, 1, 1, 1, 1, 1]\n",
        "]\n",
        "```\n",
        "\n",
        "\n"
      ]
    },
    {
      "cell_type": "markdown",
      "metadata": {
        "id": "42fnnP7minyJ",
        "colab_type": "text"
      },
      "source": [
        "####정답"
      ]
    },
    {
      "cell_type": "code",
      "metadata": {
        "id": "aitgSR7IjqU9",
        "colab_type": "code",
        "colab": {
          "base_uri": "https://localhost:8080/",
          "height": 366
        },
        "outputId": "1adb1e7b-a1a8-4b16-99d4-ce1cb874a265"
      },
      "source": [
        "ant_house = []\n",
        "for i in range(5):\n",
        "  matrix = list(map(int, input().split()))\n",
        "  ant_house.append(matrix)\n",
        "\n",
        "print('===================')\n",
        "\n",
        "x, y = 1, 1\n",
        "while ant_house[x][y] != 2:\n",
        "  if ant_house[x][y] == 0:\n",
        "    ant_house[x][y] = 9\n",
        "    y += 1\n",
        "  else:\n",
        "    x += 1\n",
        "    y -= 1\n",
        "ant_house[x][y] = 9\n",
        "\n",
        "for house in ant_house :\n",
        "  print( *house )\n"
      ],
      "execution_count": null,
      "outputs": [
        {
          "output_type": "stream",
          "text": [
            "1 1 1 1 1 1 1 1 1 1\n",
            "1 0 0 1 0 0 0 0 0 1\n",
            "1 0 0 1 1 1 0 0 0 1\n",
            "1 0 0 0 0 0 0 1 0 1\n",
            "1 0 0 0 0 0 0 1 0 1\n",
            "1 0 0 0 0 1 0 1 0 1\n",
            "1 0 0 0 0 1 2 1 0 1\n",
            "1 0 0 0 0 1 0 0 0 1\n",
            "1 0 0 0 0 0 0 0 0 1\n",
            "1 1 1 1 1 1 1 1 1 1\n",
            "===================\n",
            "1 1 1 1 1 1 1 1 1 1\n",
            "1 9 9 1 0 0 0 0 0 1\n",
            "1 0 9 1 1 1 0 0 0 1\n",
            "1 0 9 9 9 9 9 1 0 1\n",
            "1 0 0 0 0 0 9 1 0 1\n",
            "1 0 0 0 0 1 9 1 0 1\n",
            "1 0 0 0 0 1 9 1 0 1\n",
            "1 0 0 0 0 1 0 0 0 1\n",
            "1 0 0 0 0 0 0 0 0 1\n",
            "1 1 1 1 1 1 1 1 1 1\n"
          ],
          "name": "stdout"
        }
      ]
    },
    {
      "cell_type": "code",
      "metadata": {
        "id": "_W9DbxCYLDPU",
        "colab_type": "code",
        "colab": {}
      },
      "source": [
        ""
      ],
      "execution_count": null,
      "outputs": []
    }
  ]
}